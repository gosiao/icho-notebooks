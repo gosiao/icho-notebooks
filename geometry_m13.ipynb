{
 "cells": [
  {
   "cell_type": "markdown",
   "metadata": {
    "deletable": true,
    "editable": true
   },
   "source": [
    "# Exploring conformational space of selected macrocycles - \"m13\", Part 2"
   ]
  },
  {
   "cell_type": "markdown",
   "metadata": {
    "deletable": true,
    "editable": true
   },
   "source": [
    "\n",
    "In this notebook we present the geometry optimization of the selected conformers with the DFT methods. The generation and the pre-selection of conformers were discussed in another notebook ([link](http://nbviewer.jupyter.org/github/gosiao/icho-notebooks/blob/master/conformers_m13.ipynb)).\n",
    "\n",
    "In particular, here we will show:\n",
    "\n",
    "* the optimized geometries of m13 conformers, aligned\n",
    "\n",
    "* the m13 conformers selected after the removal of duplicates, aligned; the resulting set will constitute the total pool of conformers (100%);\n",
    "\n",
    "* for the lowest-energy conformer, we will evaluate:\n",
    "\n",
    "    * the role of dispersion corrections (comparison of PBE and B97D exchange-correlation functionals),\n",
    "    \n",
    "    * basis set effects (comparison of 6-31Gd and cc-pVTZ basis set; extrapolation to the complete basis set (CBS) limit),\n",
    "    \n",
    "    * the method deficiency (comparison of DFT and MP2 methods),\n",
    "\n",
    "* in the total pool of conformers we will identify:\n",
    "\n",
    "    * the global minimum,\n",
    "    \n",
    "    * the local minima,\n",
    "    \n",
    "    * the saddle points (optionally),\n",
    "    \n",
    "* for all the conformers in the total pool of conformers, we will evaluate the free energy corrections (Gibbs free enthalpy calculations for T=298.15K) and determine their population (Boltzmann weights);\n",
    "\n",
    "\n",
    "All the DFT calculations are performed with the Gaussian 09 software."
   ]
  },
  {
   "cell_type": "code",
   "execution_count": 1,
   "metadata": {
    "collapsed": false,
    "deletable": true,
    "editable": true
   },
   "outputs": [
    {
     "data": {
      "text/html": [
       "<script>\n",
       "code_show=true; \n",
       "function code_toggle() {\n",
       " if (code_show){\n",
       " $('div.input').hide();\n",
       " } else {\n",
       " $('div.input').show();\n",
       " }\n",
       " code_show = !code_show\n",
       "}\n",
       "$( document ).ready(code_toggle);\n",
       "</script>\n",
       "<form action=\"javascript:code_toggle()\"><input type=\"submit\" value=\"Click here to toggle on/off the raw code.\"></form>"
      ],
      "text/plain": [
       "<IPython.core.display.HTML object>"
      ]
     },
     "execution_count": 1,
     "metadata": {},
     "output_type": "execute_result"
    }
   ],
   "source": [
    "from IPython.display import HTML\n",
    "\n",
    "HTML('''<script>\n",
    "code_show=true; \n",
    "function code_toggle() {\n",
    " if (code_show){\n",
    " $('div.input').hide();\n",
    " } else {\n",
    " $('div.input').show();\n",
    " }\n",
    " code_show = !code_show\n",
    "}\n",
    "$( document ).ready(code_toggle);\n",
    "</script>\n",
    "<form action=\"javascript:code_toggle()\"><input type=\"submit\" value=\"Click here to toggle on/off the raw code.\"></form>''')"
   ]
  },
  {
   "cell_type": "code",
   "execution_count": 1,
   "metadata": {
    "collapsed": false,
    "deletable": true,
    "editable": true
   },
   "outputs": [
    {
     "name": "stdout",
     "output_type": "stream",
     "text": [
      "2016.09.4\n",
      "Tue May 23 13:15:42 2017\n"
     ]
    }
   ],
   "source": [
    "import glob\n",
    "import py3Dmol\n",
    "\n",
    "import matplotlib\n",
    "import matplotlib.pyplot as plt\n",
    "import seaborn as sns\n",
    "import pandas as pd\n",
    "import numpy as np\n",
    "%matplotlib inline \n",
    "\n",
    "from rdkit import Chem\n",
    "from rdkit.Chem import AllChem\n",
    "from rdkit.Chem import Draw\n",
    "from rdkit.Chem import rdMolAlign\n",
    "from rdkit.Chem.Draw import IPythonConsole\n",
    "from rdkit import rdBase\n",
    "print(rdBase.rdkitVersion)\n",
    "import os,time\n",
    "print( time.asctime())"
   ]
  },
  {
   "cell_type": "code",
   "execution_count": 2,
   "metadata": {
    "collapsed": true,
    "deletable": true,
    "editable": true
   },
   "outputs": [],
   "source": [
    "# Functions used in this notebook:\n",
    "def grep_energies_from_csvfile(fcsv):\n",
    "    energies = {}\n",
    "    with open(fcsv,'r') as f:\n",
    "        lines = f.readlines()\n",
    "        for line in lines:\n",
    "            words = line.split()\n",
    "            name = words[0].rsplit(\"_\", 5)[0]\n",
    "            energies[name] = float(words[1])\n",
    "    return energies\n",
    "\n",
    "def find_duplicates(rms_sorted, energy, rms_thresh, print_msg):\n",
    "    i = 0\n",
    "    to_be_deleted = []\n",
    "    while i < len(rms_sorted):\n",
    "        j = i + 1\n",
    "        while j < len(rms_sorted):\n",
    "            if rms_sorted[i][0] in to_be_deleted:\n",
    "                i = i + 1\n",
    "                j = j + 1\n",
    "            elif rms_sorted[j][0] in to_be_deleted:\n",
    "                j = j + 1\n",
    "            else:\n",
    "                rms1 = rms_sorted[i][1]\n",
    "                rms2 = rms_sorted[j][1]\n",
    "                if (rms2 - rms1) < rms_thresh:\n",
    "                    if energy[rms_sorted[i][0]] < energy[rms_sorted[j][0]]:\n",
    "                        to_be_deleted.append(rms_sorted[j][0])\n",
    "                    else:\n",
    "                        to_be_deleted.append(rms_sorted[i][0])\n",
    "                else:\n",
    "                    break\n",
    "        i = i + 1\n",
    "    if to_be_deleted and print_msg:\n",
    "        print(\"Conformers which will be deleted:\")    \n",
    "        print(to_be_deleted)\n",
    "    return to_be_deleted\n",
    "\n",
    "def get_moldict_from_inplist(inplist):\n",
    "    moldict = {}\n",
    "    for i, inp in enumerate(inplist):\n",
    "        mol = Chem.MolFromMolFile(inp)\n",
    "        name = os.path.basename(os.path.splitext(inp)[0]).rsplit(\"_\", 5)[0]\n",
    "        model = \"_\".join(os.path.basename(os.path.splitext(inp)[0]).rsplit(\"_\", 2)[1:])\n",
    "        moldict[name] = mol\n",
    "    return moldict\n",
    "\n",
    "def check_freq(method, freq_inp_list):\n",
    "    negative_freq_dict = {}\n",
    "    for inp in freq_inp_list:\n",
    "        count = 0\n",
    "        with open(inp, \"r\") as f:\n",
    "            lines = f.readlines()\n",
    "            for line in lines:\n",
    "                freq = line.split().strip()[1]\n",
    "                print(freq)\n",
    "                if float(freq) < 0.0:\n",
    "                    count += 1\n",
    "            if count > 0:\n",
    "                negative_freq_list[os.path.basename(os.path.splitext(inp)[0]).rsplit(\"_\", 5)[0]] = count\n",
    "    if negative_freq_dict:\n",
    "        return negative_freq_dict\n",
    "    else:\n",
    "        print(\"{}: all harmonic frequencies are positive\".format(method))\n",
    "\n",
    "\n",
    "def align_and_show(moldict):\n",
    "    \n",
    "    for key, mol in moldict.items():    \n",
    "        core_mol = mol.GetSubstructMatch(Chem.MolFromSmiles(core_smiles))\n",
    "        AllChem.AlignMol(mol,m13_crystal,atomMap=list(zip(core_mol,core_m13)))\n",
    "    \n",
    "    p = py3Dmol.view(width=400,height=400)\n",
    "    for key, mol in moldict.items(): \n",
    "        mb = Chem.MolToMolBlock(mol)\n",
    "        p.addModel(mb,'sdf')\n",
    "    p.setStyle({'stick':{'radius':'0.15'}})\n",
    "    p.setBackgroundColor('0xeeeeee')\n",
    "    p.zoomTo()\n",
    "    return p "
   ]
  },
  {
   "cell_type": "code",
   "execution_count": 7,
   "metadata": {
    "collapsed": true,
    "deletable": true,
    "editable": true
   },
   "outputs": [],
   "source": [
    "# decide what is the \"core\" - a part of molecule, which we wish to be most aligned (rmsd-wise) among all the structures\n",
    "smiles = 'N1C(=O)c2cc(C(=O)NCCCCCNC(=O)c3cc(C(=O)NCCCCC1)cc(c3)C(C)(C)C)cc(c2)C(C)(C)C'\n",
    "core_smiles = '[c]1[c][c][c]c([c]1)C([C])([C])[C]'\n",
    "\n",
    "m13 = Chem.AddHs(Chem.MolFromSmiles(smiles))\n",
    "core_m13 = m13.GetSubstructMatch(Chem.MolFromSmiles(core_smiles))\n",
    "\n",
    "templ_m13 = Chem.SDMolSupplier('/home/gosia/work/work_on_gitlab/icho/calcs/m13/m13_crystal.sdf')\n",
    "m13_crystal = templ_m13[0]"
   ]
  },
  {
   "cell_type": "markdown",
   "metadata": {
    "deletable": true,
    "editable": true
   },
   "source": [
    "## Geometry optimization in Gaussian 09 software"
   ]
  },
  {
   "cell_type": "markdown",
   "metadata": {
    "deletable": true,
    "editable": true
   },
   "source": [
    "### Computational setup and workflow"
   ]
  },
  {
   "cell_type": "markdown",
   "metadata": {
    "deletable": true,
    "editable": true
   },
   "source": [
    "Since there are only few pre-selected conformer candidates, we have used two DFT models for the geometry optimization and harmonic frequency calculations:\n",
    "\n",
    "* DFT without dispersion corrections (PBE) and with 6-31G(d) basis set (\"pbe_631\");\n",
    "\n",
    "* DFT with dispersion corrections (B97D) and with 6-31G(d) basis set (\"b97d_631\");\n",
    "\n",
    "For both models we will compare the optimized geometries and energies and remove the duplicates.\n",
    "\n",
    "\n",
    "\n",
    "\n",
    "\n",
    "For the lowest-energy conformer we will evaluate the error due to the computational model by performing the calculations with:\n",
    "\n",
    "* MP2 method and 6-31G(d) basis set (\"mp2_631\")\n",
    "* MP2 method and cc-pVTZ basis set (\"mp2_ccpvtz\")\n",
    "* MP2 method and the complete basis set limit (?)\n",
    "    \n",
    "\n",
    "\n",
    "For all the conformers we will do Gibbs free enthalpy calculations and determine the population of conformers."
   ]
  },
  {
   "cell_type": "markdown",
   "metadata": {
    "deletable": true,
    "editable": true
   },
   "source": [
    "### Results"
   ]
  },
  {
   "cell_type": "markdown",
   "metadata": {
    "deletable": true,
    "editable": true
   },
   "source": [
    "#### Comparison of DFT results with and without dispesion corrections"
   ]
  },
  {
   "cell_type": "code",
   "execution_count": 13,
   "metadata": {
    "collapsed": false,
    "deletable": true,
    "editable": true
   },
   "outputs": [],
   "source": [
    "inps_gaussian_pbe_631gd = glob.glob('/home/gosia/work/work_on_gitlab/icho/calcs/m13/gaussian_results/optimized_geometries_frequencies_from_outputs/*pbe_631gd.sdf')\n",
    "mol_gaussian_pbe_631gd = get_moldict_from_inplist(inps_gaussian_pbe_631gd)\n",
    "\n",
    "inps_gaussian_b97d_631gd = glob.glob('/home/gosia/work/work_on_gitlab/icho/calcs/m13/gaussian_results/optimized_geometries_frequencies_from_outputs/*b97d_631gd.sdf')\n",
    "mol_gaussian_b97d_631gd = get_moldict_from_inplist(inps_gaussian_b97d_631gd)\n",
    "\n",
    "#p = align_and_show(mol_m13_gaussian_pbe_631gd) \n",
    "#p.show()\n"
   ]
  },
  {
   "cell_type": "code",
   "execution_count": 14,
   "metadata": {
    "collapsed": false,
    "deletable": true,
    "editable": true
   },
   "outputs": [],
   "source": [
    "f_pbe_631gd = \"/home/gosia/work/work_on_gitlab/icho/calcs/m13/gaussian_results/optimized_geometries_frequencies_from_outputs/energy_pbe_631gd.csv\"\n",
    "energy_pbe_631gd = grep_energies_from_csvfile(f_pbe_631gd)\n",
    "\n",
    "f_b97d_631gd = \"/home/gosia/work/work_on_gitlab/icho/calcs/m13/gaussian_results/optimized_geometries_frequencies_from_outputs/energy_b97d_631gd.csv\"\n",
    "energy_b97d_631gd = grep_energies_from_csvfile(f_b97d_631gd)\n",
    "\n",
    "rms_pbe_631gd = {}\n",
    "rms_b97d_631gd = {}\n",
    "\n",
    "for key, mol in mol_gaussian_pbe_631gd.items():\n",
    "    rms_pbe_631gd[key] = AllChem.GetBestRMS(Chem.RemoveHs(mol),Chem.RemoveHs(m13_crystal))\n",
    "for key, mol in mol_gaussian_b97d_631gd.items():\n",
    "    rms_b97d_631gd[key] = AllChem.GetBestRMS(Chem.RemoveHs(mol),Chem.RemoveHs(m13_crystal))    "
   ]
  },
  {
   "cell_type": "code",
   "execution_count": 15,
   "metadata": {
    "collapsed": false,
    "deletable": true,
    "editable": true,
    "scrolled": true
   },
   "outputs": [
    {
     "name": "stdout",
     "output_type": "stream",
     "text": [
      "Selected conformers sorted by energies [a.u.], pbe_631gd: \n",
      "1     m13_b_sdf_9                 -1842.60090526 \n",
      "2     m13_b_sdf_2                 -1842.60089883 \n",
      "3     m13_b_sdf_5                 -1842.60051254 \n",
      "4     m13_b_sdf_116               -1842.59882708 \n",
      "5     m13_rdkit_smi_122           -1842.58974964 \n",
      "6     m13_rdkit_sdf_78            -1842.58821465 \n",
      "7     m13_rdkit_smi_59            -1842.58784524 \n",
      "8     m13_rdkit_smi_47            -1842.58559201 \n",
      "9     m13_rdkit_smi_82            -1842.58502504 \n",
      "10    m13_rdkit_smi_180           -1842.58437105 \n",
      "11    m13_rdkit_smi_148           -1842.58418358 \n",
      "12    m13_rdkit_sdf_186           -1842.56835651 \n",
      "13    m13_rdkit_sdf_3             -1842.56753632 \n",
      "14    m13_rdkit_sdf_43            -1842.56563302 \n",
      "\n",
      "\n",
      "Selected conformers sorted by energies [a.u.], b97d_631gd: \n",
      "1     m13_rdkit_smi_193           -1843.27200428 \n",
      "2     m13_b_sdf_38                -1843.27177204 \n",
      "3     m13_b_sdf_2                  -1843.2709013 \n",
      "4     m13_rdkit_sdf_78             -1843.2646465 \n",
      "5     m13_rdkit_smi_122            -1843.2626822 \n",
      "6     m13_rdkit_sdf_103            -1843.2624875 \n",
      "7     m13_rdkit_smi_59             -1843.2584345 \n",
      "8     m13_rdkit_sdf_3             -1843.25822833 \n",
      "9     m13_rdkit_smi_180           -1843.25094944 \n",
      "10    m13_rdkit_smi_148           -1843.25085223 \n",
      "11    m13_rdkit_sdf_43            -1843.23625756 \n"
     ]
    }
   ],
   "source": [
    "#Having a set of DFT-optimized conformers, \n",
    "# we will analyze the root-mean-square distance between them (RMSD) and their energy in order to remove duplicates.\n",
    "\n",
    "rms_thresh = 0.05\n",
    "rms_sorted_pbe_631gd = sorted(rms_pbe_631gd.items(), key=lambda x: x[1])\n",
    "rms_sorted_b97d_631gd = sorted(rms_b97d_631gd.items(), key=lambda x: x[1])\n",
    "\n",
    "# now compare RMS of each pair, if the structures are too similar then delete the one with the higher energy\n",
    "to_be_deleted_pbe_631gd = find_duplicates(rms_sorted_pbe_631gd, energy_pbe_631gd, rms_thresh, False)\n",
    "to_be_deleted_b97d_631gd = find_duplicates(rms_sorted_b97d_631gd, energy_b97d_631gd, rms_thresh, False)\n",
    "\n",
    "for mol in to_be_deleted_pbe_631gd:\n",
    "    del mol_gaussian_pbe_631gd[mol]\n",
    "    del energy_pbe_631gd[mol]\n",
    "    del rms_pbe_631gd[mol]\n",
    "    \n",
    "for mol in to_be_deleted_b97d_631gd:\n",
    "    del mol_gaussian_b97d_631gd[mol]\n",
    "    del energy_b97d_631gd[mol]\n",
    "    del rms_b97d_631gd[mol]\n",
    "\n",
    "# print the names and energies of remaining conformers, sorted by energies:\n",
    "print(\"Selected conformers sorted by energies [a.u.], pbe_631gd: \")\n",
    "energy_pbe_631gd_sorted = sorted(energy_pbe_631gd.items(), key=lambda x: x[1])\n",
    "for i, p in enumerate(energy_pbe_631gd_sorted):\n",
    "    print(\"{0:<5} {1:20}  {2:20} \".format(i+1, p[0], p[1]))\n",
    "\n",
    "print(\"\\n\")\n",
    "print(\"Selected conformers sorted by energies [a.u.], b97d_631gd: \")\n",
    "energy_b97d_631gd_sorted = sorted(energy_b97d_631gd.items(), key=lambda x: x[1])\n",
    "for i, p in enumerate(energy_b97d_631gd_sorted):\n",
    "    print(\"{0:<5} {1:20}  {2:20} \".format(i+1, p[0], p[1]))"
   ]
  },
  {
   "cell_type": "markdown",
   "metadata": {
    "deletable": true,
    "editable": true
   },
   "source": [
    "All these conformers are local minima:"
   ]
  },
  {
   "cell_type": "code",
   "execution_count": 16,
   "metadata": {
    "collapsed": false,
    "deletable": true,
    "editable": true
   },
   "outputs": [
    {
     "name": "stdout",
     "output_type": "stream",
     "text": [
      "pbe_631gd: all harmonic frequencies are positive\n"
     ]
    }
   ],
   "source": [
    "f_freq_gaussian_pbe_631gd = glob.glob('/home/gosia/work/work_on_gitlab/icho/calcs/m13/gaussian_results/optimized_geometries_frequencies_from_outputs/freq*pbe_631gd.csv')\n",
    "freq_gaussian_pbe_631gd = check_freq(\"pbe_631gd\", f_freq_gaussian_pbe_631gd)"
   ]
  },
  {
   "cell_type": "code",
   "execution_count": 17,
   "metadata": {
    "collapsed": false,
    "deletable": true,
    "editable": true
   },
   "outputs": [
    {
     "name": "stdout",
     "output_type": "stream",
     "text": [
      "b97d_631gd: all harmonic frequencies are positive\n"
     ]
    }
   ],
   "source": [
    "f_freq_gaussian_b97d_631gd = glob.glob('/home/gosia/work/work_on_gitlab/icho/calcs/m13/gaussian_results/optimized_geometries_frequencies_from_outputs/freq*pbe_631gd.csv')\n",
    "freq_gaussian_b97d_631gd = check_freq(\"b97d_631gd\", f_freq_gaussian_b97d_631gd)"
   ]
  },
  {
   "cell_type": "markdown",
   "metadata": {
    "deletable": true,
    "editable": true
   },
   "source": [
    "The aligned structures of selected conformers obtained with PBE and B97D and 6-31G(d) basis set are presented below:"
   ]
  },
  {
   "cell_type": "code",
   "execution_count": 18,
   "metadata": {
    "collapsed": false,
    "deletable": true,
    "editable": true
   },
   "outputs": [
    {
     "data": {
      "text/html": [
       "<table>\n",
       "  <tr>\n",
       "    <td id=\"pbe_631gd\" ></td>\n",
       "    <td id=\"b97d_631gd\"  ></td>\n",
       "  <tr>\n",
       "    <td> pbe_631gd </td>\n",
       "    <td> b97d_631gd  </td>  \n",
       "  </tr>\n",
       "</table>"
      ],
      "text/plain": [
       "<IPython.core.display.HTML object>"
      ]
     },
     "metadata": {},
     "output_type": "display_data"
    }
   ],
   "source": [
    "%%html\n",
    "<table>\n",
    "  <tr>\n",
    "    <td id=\"pbe_631gd\" ></td>\n",
    "    <td id=\"b97d_631gd\"  ></td>\n",
    "  <tr>\n",
    "    <td> pbe_631gd </td>\n",
    "    <td> b97d_631gd  </td>  \n",
    "  </tr>\n",
    "</table>"
   ]
  },
  {
   "cell_type": "code",
   "execution_count": 19,
   "metadata": {
    "collapsed": false,
    "deletable": true,
    "editable": true
   },
   "outputs": [
    {
     "data": {
      "text/html": [
       "<div id=\"3dmolviewer_14955390200807693\"  style=\"position: relative; width: 400px; height: 400px\">\n",
       "<script>\n",
       "if(typeof $3Dmolpromise === 'undefined') $3Dmolpromise = $.when($.getScript('http://3dmol.csb.pitt.edu/build/3Dmol.js'))\n",
       "var viewer_14955390200807693 = null;\n",
       "$3Dmolpromise.done(function() {\n",
       "viewer_14955390200807693 = $3Dmol.createViewer($(\"#3dmolviewer_14955390200807693\"),{backgroundColor:\"white\"});\n",
       "\tviewer_14955390200807693.addModel(\"SCF Done:  E(RPBEh1PBE) =  -1842.58974964     A.U. after    7 cycles\\n     RDKit          3D\\n\\n 42 44  0  0  0  0  0  0  0  0999 V2000\\n    5.8484    2.6212    4.0552 N   0  0  0  0  0  0  0  0  0  0  0  0\\n    5.7245    1.7275    3.0343 C   0  0  0  0  0  0  0  0  0  0  0  0\\n    6.5018    1.6897    2.0901 O   0  0  0  0  0  0  0  0  0  0  0  0\\n    4.5516    0.7985    3.1067 C   0  0  0  0  0  0  0  0  0  0  0  0\\n    3.3619    1.1351    3.7499 C   0  0  0  0  0  0  0  0  0  0  0  0\\n    2.2719    0.2634    3.6916 C   0  0  0  0  0  0  0  0  0  0  0  0\\n    0.9538    0.5370    4.3519 C   0  0  0  0  0  0  0  0  0  0  0  0\\n    0.3167   -0.3675    4.8659 O   0  0  0  0  0  0  0  0  0  0  0  0\\n    0.4927    1.8269    4.3885 N   0  0  0  0  0  0  0  0  0  0  0  0\\n    0.8201    2.9502    3.5317 C   0  0  0  0  0  0  0  0  0  0  0  0\\n   -0.3457    3.4052    2.6568 C   0  0  0  0  0  0  0  0  0  0  0  0\\n    0.0082    4.6693    1.8781 C   0  0  0  0  0  0  0  0  0  0  0  0\\n   -1.0601    5.0994    0.8761 C   0  0  0  0  0  0  0  0  0  0  0  0\\n   -0.7809    6.4570    0.2383 C   0  0  0  0  0  0  0  0  0  0  0  0\\n    0.4768    6.4940   -0.4779 N   0  0  0  0  0  0  0  0  0  0  0  0\\n    0.5989    7.1231   -1.6866 C   0  0  0  0  0  0  0  0  0  0  0  0\\n   -0.3506    7.6100   -2.2771 O   0  0  0  0  0  0  0  0  0  0  0  0\\n    1.9919    7.1834   -2.2385 C   0  0  0  0  0  0  0  0  0  0  0  0\\n    2.9909    6.2742   -1.8912 C   0  0  0  0  0  0  0  0  0  0  0  0\\n    4.2640    6.3941   -2.4537 C   0  0  0  0  0  0  0  0  0  0  0  0\\n    5.3714    5.4074   -2.2257 C   0  0  0  0  0  0  0  0  0  0  0  0\\n    6.1667    5.1548   -3.1170 O   0  0  0  0  0  0  0  0  0  0  0  0\\n    5.4552    4.7769   -1.0159 N   0  0  0  0  0  0  0  0  0  0  0  0\\n    4.9042    5.1519    0.2713 C   0  0  0  0  0  0  0  0  0  0  0  0\\n    5.9410    5.0028    1.3815 C   0  0  0  0  0  0  0  0  0  0  0  0\\n    5.3339    5.2692    2.7568 C   0  0  0  0  0  0  0  0  0  0  0  0\\n    6.2892    5.0696    3.9329 C   0  0  0  0  0  0  0  0  0  0  0  0\\n    6.8632    3.6542    4.0587 C   0  0  0  0  0  0  0  0  0  0  0  0\\n    4.5117    7.4139   -3.3722 C   0  0  0  0  0  0  0  0  0  0  0  0\\n    3.5289    8.3411   -3.7361 C   0  0  0  0  0  0  0  0  0  0  0  0\\n    2.2671    8.2003   -3.1571 C   0  0  0  0  0  0  0  0  0  0  0  0\\n    3.8581    9.4389   -4.7489 C   0  0  0  0  0  0  0  0  0  0  0  0\\n    4.2612    8.7891   -6.0832 C   0  0  0  0  0  0  0  0  0  0  0  0\\n    2.6664   10.3665   -5.0014 C   0  0  0  0  0  0  0  0  0  0  0  0\\n    5.0278   10.2846   -4.2194 C   0  0  0  0  0  0  0  0  0  0  0  0\\n    2.4099   -0.9614    3.0407 C   0  0  0  0  0  0  0  0  0  0  0  0\\n    3.5913   -1.3220    2.3810 C   0  0  0  0  0  0  0  0  0  0  0  0\\n    4.6466   -0.4100    2.4096 C   0  0  0  0  0  0  0  0  0  0  0  0\\n    3.6774   -2.6677    1.6597 C   0  0  0  0  0  0  0  0  0  0  0  0\\n    2.5978   -2.7259    0.5660 C   0  0  0  0  0  0  0  0  0  0  0  0\\n    5.0433   -2.8835    1.0026 C   0  0  0  0  0  0  0  0  0  0  0  0\\n    3.4398   -3.7998    2.6729 C   0  0  0  0  0  0  0  0  0  0  0  0\\n  2  1  1  0\\n  2  4  1  0\\n  3  2  2  0\\n  4  5  1  0\\n  5  6  2  0\\n  6  7  1  0\\n  7  8  2  0\\n  7  9  1  0\\n 10  9  1  0\\n 10 11  1  0\\n 12 11  1  0\\n 12 13  1  0\\n 14 13  1  0\\n 15 14  1  0\\n 16 15  1  0\\n 16 17  2  0\\n 18 16  1  0\\n 19 18  1  0\\n 20 19  2  0\\n 21 20  1  0\\n 22 21  2  0\\n 23 21  1  0\\n 23 24  1  0\\n 25 26  1  0\\n 25 24  1  0\\n 27 26  1  0\\n 28 27  1  0\\n 28  1  1  0\\n 29 20  1  0\\n 29 30  2  0\\n 30 31  1  0\\n 31 18  2  0\\n 32 30  1  0\\n 32 34  1  0\\n 33 32  1  0\\n 35 32  1  0\\n 36  6  1  0\\n 37 36  2  0\\n 38  4  2  0\\n 38 37  1  0\\n 39 42  1  0\\n 39 37  1  0\\n 39 40  1  0\\n 41 39  1  0\\nM  END\\n\",\"sdf\");\n",
       "\tviewer_14955390200807693.addModel(\"SCF Done:  E(RPBEh1PBE) =  -1842.58559201     A.U. after    6 cycles\\n     RDKit          3D\\n\\n 42 44  0  0  0  0  0  0  0  0999 V2000\\n    6.3341    2.8767    3.0044 N   0  0  0  0  0  0  0  0  0  0  0  0\\n    5.2685    2.5306    3.7753 C   0  0  0  0  0  0  0  0  0  0  0  0\\n    5.0239    3.0778    4.8391 O   0  0  0  0  0  0  0  0  0  0  0  0\\n    4.3983    1.4466    3.2115 C   0  0  0  0  0  0  0  0  0  0  0  0\\n    4.2395    1.2616    1.8410 C   0  0  0  0  0  0  0  0  0  0  0  0\\n    3.3567    0.2888    1.3714 C   0  0  0  0  0  0  0  0  0  0  0  0\\n    3.2303    0.1347   -0.1166 C   0  0  0  0  0  0  0  0  0  0  0  0\\n    4.2182    0.0106   -0.8191 O   0  0  0  0  0  0  0  0  0  0  0  0\\n    1.9648    0.1200   -0.6441 N   0  0  0  0  0  0  0  0  0  0  0  0\\n    0.7939    0.7437   -0.0491 C   0  0  0  0  0  0  0  0  0  0  0  0\\n    0.8043    2.2730   -0.0711 C   0  0  0  0  0  0  0  0  0  0  0  0\\n   -0.3892    2.8454    0.6926 C   0  0  0  0  0  0  0  0  0  0  0  0\\n   -0.3205    4.3499    0.9489 C   0  0  0  0  0  0  0  0  0  0  0  0\\n   -0.4864    5.2156   -0.2983 C   0  0  0  0  0  0  0  0  0  0  0  0\\n   -0.5127    6.6281    0.0335 N   0  0  0  0  0  0  0  0  0  0  0  0\\n    0.2269    7.6776   -0.4299 C   0  0  0  0  0  0  0  0  0  0  0  0\\n   -0.1546    8.8259   -0.2580 O   0  0  0  0  0  0  0  0  0  0  0  0\\n    1.5234    7.4182   -1.1411 C   0  0  0  0  0  0  0  0  0  0  0  0\\n    2.3973    6.3741   -0.8408 C   0  0  0  0  0  0  0  0  0  0  0  0\\n    3.6094    6.2689   -1.5203 C   0  0  0  0  0  0  0  0  0  0  0  0\\n    4.4844    5.0947   -1.2025 C   0  0  0  0  0  0  0  0  0  0  0  0\\n    4.0205    4.0451   -0.7761 O   0  0  0  0  0  0  0  0  0  0  0  0\\n    5.8132    5.2601   -1.4411 N   0  0  0  0  0  0  0  0  0  0  0  0\\n    6.7517    4.1593   -1.3201 C   0  0  0  0  0  0  0  0  0  0  0  0\\n    7.0524    3.7384    0.1155 C   0  0  0  0  0  0  0  0  0  0  0  0\\n    7.8044    4.7638    0.9611 C   0  0  0  0  0  0  0  0  0  0  0  0\\n    8.2851    4.2370    2.3192 C   0  0  0  0  0  0  0  0  0  0  0  0\\n    7.2156    3.9662    3.3733 C   0  0  0  0  0  0  0  0  0  0  0  0\\n    3.9358    7.2018   -2.5100 C   0  0  0  0  0  0  0  0  0  0  0  0\\n    3.0861    8.2671   -2.8198 C   0  0  0  0  0  0  0  0  0  0  0  0\\n    1.8884    8.3596   -2.1059 C   0  0  0  0  0  0  0  0  0  0  0  0\\n    3.4161    9.3077   -3.8917 C   0  0  0  0  0  0  0  0  0  0  0  0\\n    4.7615    9.0365   -4.5704 C   0  0  0  0  0  0  0  0  0  0  0  0\\n    2.3195    9.2929   -4.9696 C   0  0  0  0  0  0  0  0  0  0  0  0\\n    3.4738   10.7002   -3.2418 C   0  0  0  0  0  0  0  0  0  0  0  0\\n    2.6788   -0.5227    2.2784 C   0  0  0  0  0  0  0  0  0  0  0  0\\n    2.8330   -0.3661    3.6647 C   0  0  0  0  0  0  0  0  0  0  0  0\\n    3.6836    0.6460    4.1087 C   0  0  0  0  0  0  0  0  0  0  0  0\\n    2.0681   -1.2842    4.6200 C   0  0  0  0  0  0  0  0  0  0  0  0\\n    2.3426   -0.9472    6.0882 C   0  0  0  0  0  0  0  0  0  0  0  0\\n    2.4902   -2.7416    4.3702 C   0  0  0  0  0  0  0  0  0  0  0  0\\n    0.5579   -1.1398    4.3677 C   0  0  0  0  0  0  0  0  0  0  0  0\\n  1  2  1  0\\n  1 28  1  0\\n  2  3  2  0\\n  4 38  1  0\\n  4  2  1  0\\n  5  4  2  0\\n  6 36  2  0\\n  6  5  1  0\\n  7  6  1  0\\n  8  7  2  0\\n  9  7  1  0\\n  9 10  1  0\\n 10 11  1  0\\n 11 12  1  0\\n 12 13  1  0\\n 14 13  1  0\\n 14 15  1  0\\n 15 16  1  0\\n 16 17  2  0\\n 18 16  1  0\\n 19 18  1  0\\n 20 19  2  0\\n 21 23  1  0\\n 21 20  1  0\\n 22 21  2  0\\n 24 23  1  0\\n 24 25  1  0\\n 25 26  1  0\\n 26 27  1  0\\n 27 28  1  0\\n 29 30  2  0\\n 29 20  1  0\\n 30 31  1  0\\n 31 18  2  0\\n 32 30  1  0\\n 32 35  1  0\\n 33 32  1  0\\n 34 32  1  0\\n 36 37  1  0\\n 37 39  1  0\\n 37 38  2  0\\n 39 40  1  0\\n 41 39  1  0\\n 42 39  1  0\\nM  END\\n\",\"sdf\");\n",
       "\tviewer_14955390200807693.addModel(\"SCF Done:  E(RPBEh1PBE) =  -1842.56753632     A.U. after    5 cycles\\n     RDKit          3D\\n\\n 42 44  0  0  0  0  0  0  0  0999 V2000\\n    6.2898    0.8628    0.7752 N   0  0  0  0  0  0  0  0  0  0  0  0\\n    5.8176    0.8571    2.0674 C   0  0  0  0  0  0  0  0  0  0  0  0\\n    6.5789    0.7591    3.0141 O   0  0  0  0  0  0  0  0  0  0  0  0\\n    4.3360    0.9288    2.2787 C   0  0  0  0  0  0  0  0  0  0  0  0\\n    3.4227    0.2332    1.4870 C   0  0  0  0  0  0  0  0  0  0  0  0\\n    2.0656    0.2663    1.8165 C   0  0  0  0  0  0  0  0  0  0  0  0\\n    1.0113   -0.5159    1.0941 C   0  0  0  0  0  0  0  0  0  0  0  0\\n    0.0889   -1.0222    1.7131 O   0  0  0  0  0  0  0  0  0  0  0  0\\n    1.0938   -0.6671   -0.2662 N   0  0  0  0  0  0  0  0  0  0  0  0\\n    1.7530    0.1699   -1.2621 C   0  0  0  0  0  0  0  0  0  0  0  0\\n    1.5604    1.6805   -1.0999 C   0  0  0  0  0  0  0  0  0  0  0  0\\n    0.1093    2.1140   -0.9064 C   0  0  0  0  0  0  0  0  0  0  0  0\\n   -0.0693    3.6278   -0.7677 C   0  0  0  0  0  0  0  0  0  0  0  0\\n    0.8348    4.2316    0.3068 C   0  0  0  0  0  0  0  0  0  0  0  0\\n    0.4367    5.5648    0.7313 N   0  0  0  0  0  0  0  0  0  0  0  0\\n    1.2774    6.6442    0.8654 C   0  0  0  0  0  0  0  0  0  0  0  0\\n    1.1023    7.4858    1.7283 O   0  0  0  0  0  0  0  0  0  0  0  0\\n    2.3780    6.7922   -0.1420 C   0  0  0  0  0  0  0  0  0  0  0  0\\n    3.6129    7.2703    0.2899 C   0  0  0  0  0  0  0  0  0  0  0  0\\n    4.6144    7.5297   -0.6458 C   0  0  0  0  0  0  0  0  0  0  0  0\\n    5.9536    8.0804   -0.2504 C   0  0  0  0  0  0  0  0  0  0  0  0\\n    6.4066    9.0791   -0.7789 O   0  0  0  0  0  0  0  0  0  0  0  0\\n    6.6226    7.4204    0.7520 N   0  0  0  0  0  0  0  0  0  0  0  0\\n    6.5519    5.9832    0.9698 C   0  0  0  0  0  0  0  0  0  0  0  0\\n    7.3258    5.1853   -0.0822 C   0  0  0  0  0  0  0  0  0  0  0  0\\n    7.2063    3.6683    0.0588 C   0  0  0  0  0  0  0  0  0  0  0  0\\n    5.7879    3.1402   -0.1592 C   0  0  0  0  0  0  0  0  0  0  0  0\\n    5.7185    1.6216   -0.3294 C   0  0  0  0  0  0  0  0  0  0  0  0\\n    3.8904    1.6498    3.3915 C   0  0  0  0  0  0  0  0  0  0  0  0\\n    2.5391    1.7090    3.7341 C   0  0  0  0  0  0  0  0  0  0  0  0\\n    1.6446    0.9887    2.9337 C   0  0  0  0  0  0  0  0  0  0  0  0\\n    2.0235    2.4858    4.9465 C   0  0  0  0  0  0  0  0  0  0  0  0\\n    0.9869    3.5246    4.4855 C   0  0  0  0  0  0  0  0  0  0  0  0\\n    1.3600    1.5042    5.9271 C   0  0  0  0  0  0  0  0  0  0  0  0\\n    3.1476    3.2210    5.6816 C   0  0  0  0  0  0  0  0  0  0  0  0\\n    2.1505    6.5799   -1.5065 C   0  0  0  0  0  0  0  0  0  0  0  0\\n    3.1268    6.8667   -2.4643 C   0  0  0  0  0  0  0  0  0  0  0  0\\n    4.3552    7.3553   -2.0046 C   0  0  0  0  0  0  0  0  0  0  0  0\\n    2.8946    6.6854   -3.9653 C   0  0  0  0  0  0  0  0  0  0  0  0\\n    3.0451    8.0442   -4.6698 C   0  0  0  0  0  0  0  0  0  0  0  0\\n    3.9367    5.7025   -4.5250 C   0  0  0  0  0  0  0  0  0  0  0  0\\n    1.5003    6.1337   -4.2754 C   0  0  0  0  0  0  0  0  0  0  0  0\\n  2  1  1  0\\n  2  3  2  0\\n  4  2  1  0\\n  5  4  1  0\\n  6  5  2  0\\n  7  6  1  0\\n  8  7  2  0\\n  9  7  1  0\\n  9 10  1  0\\n 11 10  1  0\\n 12 11  1  0\\n 13 12  1  0\\n 13 14  1  0\\n 15 14  1  0\\n 15 16  1  0\\n 16 18  1  0\\n 17 16  2  0\\n 18 19  1  0\\n 19 20  2  0\\n 20 21  1  0\\n 21 22  2  0\\n 21 23  1  0\\n 24 23  1  0\\n 24 25  1  0\\n 26 25  1  0\\n 27 26  1  0\\n 28 27  1  0\\n 28  1  1  0\\n 29  4  2  0\\n 30 29  1  0\\n 31  6  1  0\\n 31 30  2  0\\n 32 30  1  0\\n 32 35  1  0\\n 33 32  1  0\\n 34 32  1  0\\n 36 18  2  0\\n 36 37  1  0\\n 37 38  2  0\\n 38 20  1  0\\n 39 40  1  0\\n 39 37  1  0\\n 39 41  1  0\\n 42 39  1  0\\nM  END\\n\",\"sdf\");\n",
       "\tviewer_14955390200807693.addModel(\"SCF Done:  E(RPBEh1PBE) =  -1842.60089883     A.U. after    6 cycles\\n     RDKit          3D\\n\\n 42 44  0  0  0  0  0  0  0  0999 V2000\\n    6.0045    2.6838    3.6858 N   0  0  0  0  0  0  0  0  0  0  0  0\\n    5.9413    1.8510    2.6059 C   0  0  0  0  0  0  0  0  0  0  0  0\\n    6.9359    1.4180    2.0488 O   0  0  0  0  0  0  0  0  0  0  0  0\\n    4.5583    1.5293    2.1172 C   0  0  0  0  0  0  0  0  0  0  0  0\\n    3.4074    1.6833    2.8882 C   0  0  0  0  0  0  0  0  0  0  0  0\\n    2.1558    1.4113    2.3293 C   0  0  0  0  0  0  0  0  0  0  0  0\\n    0.8581    1.6098    3.0537 C   0  0  0  0  0  0  0  0  0  0  0  0\\n   -0.1712    1.0674    2.6881 O   0  0  0  0  0  0  0  0  0  0  0  0\\n    0.9031    2.4620    4.1244 N   0  0  0  0  0  0  0  0  0  0  0  0\\n   -0.3120    2.9543    4.7407 C   0  0  0  0  0  0  0  0  0  0  0  0\\n   -0.6307    4.3991    4.3510 C   0  0  0  0  0  0  0  0  0  0  0  0\\n   -0.7236    4.6190    2.8441 C   0  0  0  0  0  0  0  0  0  0  0  0\\n   -1.0921    6.0494    2.4680 C   0  0  0  0  0  0  0  0  0  0  0  0\\n   -1.0438    6.3120    0.9643 C   0  0  0  0  0  0  0  0  0  0  0  0\\n    0.2986    6.2436    0.4197 N   0  0  0  0  0  0  0  0  0  0  0  0\\n    0.6084    5.4587   -0.6557 C   0  0  0  0  0  0  0  0  0  0  0  0\\n   -0.1932    4.7000   -1.1748 O   0  0  0  0  0  0  0  0  0  0  0  0\\n    2.0081    5.5966   -1.1801 C   0  0  0  0  0  0  0  0  0  0  0  0\\n    3.0896    6.0108   -0.4032 C   0  0  0  0  0  0  0  0  0  0  0  0\\n    4.3636    6.0874   -0.9742 C   0  0  0  0  0  0  0  0  0  0  0  0\\n    5.6024    6.4883   -0.2265 C   0  0  0  0  0  0  0  0  0  0  0  0\\n    6.7134    6.2022   -0.6425 O   0  0  0  0  0  0  0  0  0  0  0  0\\n    5.4126    7.1934    0.9267 N   0  0  0  0  0  0  0  0  0  0  0  0\\n    6.5289    7.6839    1.7110 C   0  0  0  0  0  0  0  0  0  0  0  0\\n    6.7063    6.9640    3.0472 C   0  0  0  0  0  0  0  0  0  0  0  0\\n    6.9492    5.4648    2.9065 C   0  0  0  0  0  0  0  0  0  0  0  0\\n    7.1785    4.7745    4.2480 C   0  0  0  0  0  0  0  0  0  0  0  0\\n    7.2501    3.2513    4.1588 C   0  0  0  0  0  0  0  0  0  0  0  0\\n    4.4513    1.0706    0.8005 C   0  0  0  0  0  0  0  0  0  0  0  0\\n    3.2154    0.7770    0.2234 C   0  0  0  0  0  0  0  0  0  0  0  0\\n    2.0755    0.9576    1.0144 C   0  0  0  0  0  0  0  0  0  0  0  0\\n    3.0665    0.2939   -1.2194 C   0  0  0  0  0  0  0  0  0  0  0  0\\n    2.3443   -1.0634   -1.2297 C   0  0  0  0  0  0  0  0  0  0  0  0\\n    2.2390    1.3229   -2.0082 C   0  0  0  0  0  0  0  0  0  0  0  0\\n    4.4210    0.1263   -1.9134 C   0  0  0  0  0  0  0  0  0  0  0  0\\n    2.2093    5.2508   -2.5202 C   0  0  0  0  0  0  0  0  0  0  0  0\\n    3.4689    5.3217   -3.1156 C   0  0  0  0  0  0  0  0  0  0  0  0\\n    4.5359    5.7407   -2.3131 C   0  0  0  0  0  0  0  0  0  0  0  0\\n    3.7144    4.9596   -4.5810 C   0  0  0  0  0  0  0  0  0  0  0  0\\n    4.7433    3.8194   -4.6590 C   0  0  0  0  0  0  0  0  0  0  0  0\\n    2.4330    4.5038   -5.2843 C   0  0  0  0  0  0  0  0  0  0  0  0\\n    4.2635    6.1926   -5.3177 C   0  0  0  0  0  0  0  0  0  0  0  0\\n  1 28  1  0\\n  2  1  1  0\\n  3  2  2  0\\n  4  2  1  0\\n  4  5  2  0\\n  6  7  1  0\\n  6  5  1  0\\n  7  9  1  0\\n  8  7  2  0\\n  9 10  1  0\\n 11 10  1  0\\n 12 11  1  0\\n 13 12  1  0\\n 14 13  1  0\\n 15 14  1  0\\n 16 15  1  0\\n 17 16  2  0\\n 18 16  1  0\\n 18 19  2  0\\n 20 19  1  0\\n 20 21  1  0\\n 21 23  1  0\\n 22 21  2  0\\n 23 24  1  0\\n 24 25  1  0\\n 26 25  1  0\\n 26 27  1  0\\n 28 27  1  0\\n 29  4  1  0\\n 30 29  2  0\\n 30 31  1  0\\n 31  6  2  0\\n 32 30  1  0\\n 33 32  1  0\\n 34 32  1  0\\n 35 32  1  0\\n 36 18  1  0\\n 37 36  2  0\\n 37 38  1  0\\n 38 20  2  0\\n 39 37  1  0\\n 40 39  1  0\\n 41 39  1  0\\n 42 39  1  0\\nM  END\\n\",\"sdf\");\n",
       "\tviewer_14955390200807693.addModel(\"SCF Done:  E(RPBEh1PBE) =  -1842.58502504     A.U. after    6 cycles\\n     RDKit          3D\\n\\n 42 44  0  0  0  0  0  0  0  0999 V2000\\n    5.5418    1.5436    1.0437 N   0  0  0  0  0  0  0  0  0  0  0  0\\n    5.6613    0.4438    1.8454 C   0  0  0  0  0  0  0  0  0  0  0  0\\n    6.7445   -0.0670    2.0799 O   0  0  0  0  0  0  0  0  0  0  0  0\\n    4.3936   -0.0964    2.4348 C   0  0  0  0  0  0  0  0  0  0  0  0\\n    3.2405    0.6702    2.6252 C   0  0  0  0  0  0  0  0  0  0  0  0\\n    2.1291    0.0970    3.2405 C   0  0  0  0  0  0  0  0  0  0  0  0\\n    0.9024    0.8749    3.6033 C   0  0  0  0  0  0  0  0  0  0  0  0\\n    0.3278    0.6757    4.6602 O   0  0  0  0  0  0  0  0  0  0  0  0\\n    0.4584    1.8422    2.7342 N   0  0  0  0  0  0  0  0  0  0  0  0\\n    0.5599    1.8106    1.2791 C   0  0  0  0  0  0  0  0  0  0  0  0\\n   -0.3836    2.8396    0.6672 C   0  0  0  0  0  0  0  0  0  0  0  0\\n   -0.0473    4.2844    1.0289 C   0  0  0  0  0  0  0  0  0  0  0  0\\n   -1.0279    5.2874    0.4304 C   0  0  0  0  0  0  0  0  0  0  0  0\\n   -0.6994    6.7433    0.7608 C   0  0  0  0  0  0  0  0  0  0  0  0\\n    0.5837    7.1830    0.2487 N   0  0  0  0  0  0  0  0  0  0  0  0\\n    0.7329    7.5150   -1.0642 C   0  0  0  0  0  0  0  0  0  0  0  0\\n   -0.2086    7.5065   -1.8428 O   0  0  0  0  0  0  0  0  0  0  0  0\\n    2.1185    7.8815   -1.5085 C   0  0  0  0  0  0  0  0  0  0  0  0\\n    3.1601    8.2078   -0.6348 C   0  0  0  0  0  0  0  0  0  0  0  0\\n    4.4135    8.5317   -1.1487 C   0  0  0  0  0  0  0  0  0  0  0  0\\n    5.5598    8.9710   -0.2900 C   0  0  0  0  0  0  0  0  0  0  0  0\\n    6.2847    9.8858   -0.6411 O   0  0  0  0  0  0  0  0  0  0  0  0\\n    5.7517    8.3431    0.9181 N   0  0  0  0  0  0  0  0  0  0  0  0\\n    5.4653    6.9494    1.2305 C   0  0  0  0  0  0  0  0  0  0  0  0\\n    6.1806    5.9358    0.3385 C   0  0  0  0  0  0  0  0  0  0  0  0\\n    6.0418    4.5037    0.8493 C   0  0  0  0  0  0  0  0  0  0  0  0\\n    6.4905    3.4702   -0.1828 C   0  0  0  0  0  0  0  0  0  0  0  0\\n    6.7164    2.0731    0.3775 C   0  0  0  0  0  0  0  0  0  0  0  0\\n    4.6131    8.5566   -2.5334 C   0  0  0  0  0  0  0  0  0  0  0  0\\n    3.5915    8.2335   -3.4264 C   0  0  0  0  0  0  0  0  0  0  0  0\\n    2.3462    7.8981   -2.8832 C   0  0  0  0  0  0  0  0  0  0  0  0\\n    3.7795    8.2513   -4.9442 C   0  0  0  0  0  0  0  0  0  0  0  0\\n    2.8041    9.2673   -5.5616 C   0  0  0  0  0  0  0  0  0  0  0  0\\n    5.2042    8.6421   -5.3453 C   0  0  0  0  0  0  0  0  0  0  0  0\\n    3.4817    6.8519   -5.5078 C   0  0  0  0  0  0  0  0  0  0  0  0\\n    2.1782   -1.2358    3.6636 C   0  0  0  0  0  0  0  0  0  0  0  0\\n    3.3098   -2.0273    3.4666 C   0  0  0  0  0  0  0  0  0  0  0  0\\n    4.4146   -1.4252    2.8543 C   0  0  0  0  0  0  0  0  0  0  0  0\\n    3.3881   -3.4888    3.9094 C   0  0  0  0  0  0  0  0  0  0  0  0\\n    3.6536   -4.3740    2.6803 C   0  0  0  0  0  0  0  0  0  0  0  0\\n    4.5393   -3.6535    4.9156 C   0  0  0  0  0  0  0  0  0  0  0  0\\n    2.0932   -3.9607    4.5760 C   0  0  0  0  0  0  0  0  0  0  0  0\\n  2  1  1  0\\n  2  4  1  0\\n  3  2  2  0\\n  4  5  1  0\\n  5  6  2  0\\n  6  7  1  0\\n  7  8  2  0\\n  7  9  1  0\\n  9 10  1  0\\n 10 11  1  0\\n 12 11  1  0\\n 12 13  1  0\\n 14 13  1  0\\n 15 16  1  0\\n 15 14  1  0\\n 16 17  2  0\\n 18 16  1  0\\n 19 18  1  0\\n 20 19  2  0\\n 21 20  1  0\\n 22 21  2  0\\n 23 21  1  0\\n 24 23  1  0\\n 25 24  1  0\\n 26 25  1  0\\n 27 26  1  0\\n 28 27  1  0\\n 28  1  1  0\\n 29 20  1  0\\n 29 30  2  0\\n 30 31  1  0\\n 31 18  2  0\\n 32 30  1  0\\n 32 35  1  0\\n 32 33  1  0\\n 34 32  1  0\\n 36  6  1  0\\n 37 36  2  0\\n 38  4  2  0\\n 38 37  1  0\\n 39 37  1  0\\n 39 42  1  0\\n 40 39  1  0\\n 41 39  1  0\\nM  END\\n\",\"sdf\");\n",
       "\tviewer_14955390200807693.addModel(\"SCF Done:  E(RPBEh1PBE) =  -1842.59882708     A.U. after    5 cycles\\n     RDKit          3D\\n\\n 42 44  0  0  0  0  0  0  0  0999 V2000\\n    6.0239    1.6686    1.0768 N   0  0  0  0  0  0  0  0  0  0  0  0\\n    5.9210    0.8632    2.1720 C   0  0  0  0  0  0  0  0  0  0  0  0\\n    6.8810    0.6422    2.8949 O   0  0  0  0  0  0  0  0  0  0  0  0\\n    4.5816    0.2483    2.4512 C   0  0  0  0  0  0  0  0  0  0  0  0\\n    3.3685    0.7620    1.9924 C   0  0  0  0  0  0  0  0  0  0  0  0\\n    2.1740    0.1335    2.3585 C   0  0  0  0  0  0  0  0  0  0  0  0\\n    0.8071    0.6154    1.9714 C   0  0  0  0  0  0  0  0  0  0  0  0\\n   -0.1825    0.2880    2.6091 O   0  0  0  0  0  0  0  0  0  0  0  0\\n    0.7144    1.4224    0.8766 N   0  0  0  0  0  0  0  0  0  0  0  0\\n   -0.6026    1.8152    0.3973 C   0  0  0  0  0  0  0  0  0  0  0  0\\n   -1.1711    3.0190    1.1466 C   0  0  0  0  0  0  0  0  0  0  0  0\\n   -0.5528    4.3493    0.7303 C   0  0  0  0  0  0  0  0  0  0  0  0\\n   -0.9299    5.4978    1.6671 C   0  0  0  0  0  0  0  0  0  0  0  0\\n   -0.8057    6.8774    1.0210 C   0  0  0  0  0  0  0  0  0  0  0  0\\n    0.4697    7.1227    0.3747 N   0  0  0  0  0  0  0  0  0  0  0  0\\n    0.5838    7.1469   -0.9831 C   0  0  0  0  0  0  0  0  0  0  0  0\\n   -0.3601    6.9263   -1.7272 O   0  0  0  0  0  0  0  0  0  0  0  0\\n    1.9407    7.4752   -1.5321 C   0  0  0  0  0  0  0  0  0  0  0  0\\n    3.1340    7.2893   -0.8285 C   0  0  0  0  0  0  0  0  0  0  0  0\\n    4.3492    7.5905   -1.4416 C   0  0  0  0  0  0  0  0  0  0  0  0\\n    5.6868    7.3890   -0.7929 C   0  0  0  0  0  0  0  0  0  0  0  0\\n    6.6994    7.2610   -1.4648 O   0  0  0  0  0  0  0  0  0  0  0  0\\n    5.7027    7.3695    0.5699 N   0  0  0  0  0  0  0  0  0  0  0  0\\n    6.9460    7.2520    1.3082 C   0  0  0  0  0  0  0  0  0  0  0  0\\n    7.1628    5.8905    1.9674 C   0  0  0  0  0  0  0  0  0  0  0  0\\n    6.9889    4.7113    1.0093 C   0  0  0  0  0  0  0  0  0  0  0  0\\n    7.7044    3.4528    1.4882 C   0  0  0  0  0  0  0  0  0  0  0  0\\n    7.3292    2.1952    0.7060 C   0  0  0  0  0  0  0  0  0  0  0  0\\n    4.5910   -0.8856    3.2703 C   0  0  0  0  0  0  0  0  0  0  0  0\\n    3.4150   -1.5344    3.6428 C   0  0  0  0  0  0  0  0  0  0  0  0\\n    2.2123   -0.9948    3.1763 C   0  0  0  0  0  0  0  0  0  0  0  0\\n    3.3983   -2.7747    4.5369 C   0  0  0  0  0  0  0  0  0  0  0  0\\n    2.7353   -3.9357    3.7770 C   0  0  0  0  0  0  0  0  0  0  0  0\\n    4.8076   -3.2077    4.9491 C   0  0  0  0  0  0  0  0  0  0  0  0\\n    2.5905   -2.4701    5.8092 C   0  0  0  0  0  0  0  0  0  0  0  0\\n    1.9822    7.9515   -2.8412 C   0  0  0  0  0  0  0  0  0  0  0  0\\n    3.1872    8.2671   -3.4782 C   0  0  0  0  0  0  0  0  0  0  0  0\\n    4.3633    8.0691   -2.7555 C   0  0  0  0  0  0  0  0  0  0  0  0\\n    3.1747    8.7874   -4.9158 C   0  0  0  0  0  0  0  0  0  0  0  0\\n    2.3410   10.0775   -4.9815 C   0  0  0  0  0  0  0  0  0  0  0  0\\n    4.5834    9.0944   -5.4309 C   0  0  0  0  0  0  0  0  0  0  0  0\\n    2.5428    7.7243   -5.8300 C   0  0  0  0  0  0  0  0  0  0  0  0\\n  1  2  1  0\\n  2  4  1  0\\n  2  3  2  0\\n  4 29  2  0\\n  5  6  2  0\\n  5  4  1  0\\n  6 31  1  0\\n  7  6  1  0\\n  7  8  2  0\\n  9  7  1  0\\n 10  9  1  0\\n 10 11  1  0\\n 12 11  1  0\\n 12 13  1  0\\n 14 13  1  0\\n 15 14  1  0\\n 16 15  1  0\\n 17 16  2  0\\n 18 16  1  0\\n 18 19  1  0\\n 20 19  2  0\\n 20 21  1  0\\n 21 23  1  0\\n 22 21  2  0\\n 23 24  1  0\\n 24 25  1  0\\n 26 27  1  0\\n 26 25  1  0\\n 28  1  1  0\\n 28 27  1  0\\n 29 30  1  0\\n 30 32  1  0\\n 31 30  2  0\\n 32 34  1  0\\n 32 35  1  0\\n 33 32  1  0\\n 36 18  2  0\\n 37 36  1  0\\n 37 38  2  0\\n 38 20  1  0\\n 39 40  1  0\\n 39 37  1  0\\n 41 39  1  0\\n 42 39  1  0\\nM  END\\n\",\"sdf\");\n",
       "\tviewer_14955390200807693.addModel(\"SCF Done:  E(RPBEh1PBE) =  -1842.58418358     A.U. after    6 cycles\\n     RDKit          3D\\n\\n 42 44  0  0  0  0  0  0  0  0999 V2000\\n    6.9567    1.2017    3.0312 N   0  0  0  0  0  0  0  0  0  0  0  0\\n    6.4171    0.6161    4.1546 C   0  0  0  0  0  0  0  0  0  0  0  0\\n    6.9629    0.6865    5.2403 O   0  0  0  0  0  0  0  0  0  0  0  0\\n    5.0853   -0.0486    3.9870 C   0  0  0  0  0  0  0  0  0  0  0  0\\n    4.0472    0.6116    3.3372 C   0  0  0  0  0  0  0  0  0  0  0  0\\n    2.7925    0.0083    3.2347 C   0  0  0  0  0  0  0  0  0  0  0  0\\n    1.6501    0.6652    2.5189 C   0  0  0  0  0  0  0  0  0  0  0  0\\n    0.7591    0.0274    1.9830 O   0  0  0  0  0  0  0  0  0  0  0  0\\n    1.6976    2.0269    2.4847 N   0  0  0  0  0  0  0  0  0  0  0  0\\n    0.6850    2.8102    1.8075 C   0  0  0  0  0  0  0  0  0  0  0  0\\n    1.0808    4.2807    1.8303 C   0  0  0  0  0  0  0  0  0  0  0  0\\n    0.1771    5.2019    1.0140 C   0  0  0  0  0  0  0  0  0  0  0  0\\n    0.2426    4.9622   -0.4958 C   0  0  0  0  0  0  0  0  0  0  0  0\\n   -0.2629    6.1713   -1.2786 C   0  0  0  0  0  0  0  0  0  0  0  0\\n   -0.2270    5.9990   -2.7218 N   0  0  0  0  0  0  0  0  0  0  0  0\\n    0.3494    6.8437   -3.6391 C   0  0  0  0  0  0  0  0  0  0  0  0\\n   -0.0732    6.9224   -4.7795 O   0  0  0  0  0  0  0  0  0  0  0  0\\n    1.5539    7.6246   -3.2075 C   0  0  0  0  0  0  0  0  0  0  0  0\\n    2.5605    7.0626   -2.4206 C   0  0  0  0  0  0  0  0  0  0  0  0\\n    3.6884    7.8133   -2.0960 C   0  0  0  0  0  0  0  0  0  0  0  0\\n    4.7973    7.2684   -1.2455 C   0  0  0  0  0  0  0  0  0  0  0  0\\n    5.4870    7.9850   -0.5392 O   0  0  0  0  0  0  0  0  0  0  0  0\\n    4.9591    5.9154   -1.3053 N   0  0  0  0  0  0  0  0  0  0  0  0\\n    5.9703    5.2224   -0.5350 C   0  0  0  0  0  0  0  0  0  0  0  0\\n    5.5618    3.7711   -0.3223 C   0  0  0  0  0  0  0  0  0  0  0  0\\n    6.5127    2.9723    0.5640 C   0  0  0  0  0  0  0  0  0  0  0  0\\n    6.0633    1.5199    0.6838 C   0  0  0  0  0  0  0  0  0  0  0  0\\n    6.8537    0.6672    1.6741 C   0  0  0  0  0  0  0  0  0  0  0  0\\n    3.7892    9.1365   -2.5349 C   0  0  0  0  0  0  0  0  0  0  0  0\\n    2.8115    9.7127   -3.3480 C   0  0  0  0  0  0  0  0  0  0  0  0\\n    1.7043    8.9242   -3.6877 C   0  0  0  0  0  0  0  0  0  0  0  0\\n    2.9107   11.1469   -3.8707 C   0  0  0  0  0  0  0  0  0  0  0  0\\n    1.7035   11.9542   -3.3649 C   0  0  0  0  0  0  0  0  0  0  0  0\\n    4.1897   11.8448   -3.4007 C   0  0  0  0  0  0  0  0  0  0  0  0\\n    2.9038   11.1278   -5.4085 C   0  0  0  0  0  0  0  0  0  0  0  0\\n    2.6010   -1.2650    3.7653 C   0  0  0  0  0  0  0  0  0  0  0  0\\n    3.6184   -1.9372    4.4561 C   0  0  0  0  0  0  0  0  0  0  0  0\\n    4.8557   -1.2979    4.5704 C   0  0  0  0  0  0  0  0  0  0  0  0\\n    3.3446   -3.3194    5.0517 C   0  0  0  0  0  0  0  0  0  0  0  0\\n    2.1951   -3.2138    6.0676 C   0  0  0  0  0  0  0  0  0  0  0  0\\n    4.5704   -3.8942    5.7670 C   0  0  0  0  0  0  0  0  0  0  0  0\\n    2.9430   -4.2858    3.9252 C   0  0  0  0  0  0  0  0  0  0  0  0\\n  2  1  1  0\\n  2  3  2  0\\n  4  2  1  0\\n  5  4  1  0\\n  6  5  2  0\\n  7  9  1  0\\n  7  6  1  0\\n  8  7  2  0\\n 10 11  1  0\\n 10  9  1  0\\n 12 11  1  0\\n 13 12  1  0\\n 14 13  1  0\\n 15 14  1  0\\n 15 16  1  0\\n 16 18  1  0\\n 17 16  2  0\\n 18 31  2  0\\n 18 19  1  0\\n 19 20  2  0\\n 20 29  1  0\\n 20 21  1  0\\n 21 22  2  0\\n 23 21  1  0\\n 23 24  1  0\\n 25 24  1  0\\n 25 26  1  0\\n 27 26  1  0\\n 27 28  1  0\\n 28  1  1  0\\n 30 32  1  0\\n 30 29  2  0\\n 31 30  1  0\\n 32 34  1  0\\n 33 32  1  0\\n 35 32  1  0\\n 36  6  1  0\\n 36 37  2  0\\n 37 38  1  0\\n 38  4  2  0\\n 39 37  1  0\\n 39 41  1  0\\n 40 39  1  0\\n 42 39  1  0\\nM  END\\n\",\"sdf\");\n",
       "\tviewer_14955390200807693.addModel(\"SCF Done:  E(RPBEh1PBE) =  -1842.58821465     A.U. after    7 cycles\\n     RDKit          3D\\n\\n 42 44  0  0  0  0  0  0  0  0999 V2000\\n    5.2451    2.4762    3.3678 N   0  0  0  0  0  0  0  0  0  0  0  0\\n    5.5149    1.2121    2.9258 C   0  0  0  0  0  0  0  0  0  0  0  0\\n    6.6468    0.7921    2.7554 O   0  0  0  0  0  0  0  0  0  0  0  0\\n    4.3025    0.3796    2.6411 C   0  0  0  0  0  0  0  0  0  0  0  0\\n    3.1130    0.9507    2.1974 C   0  0  0  0  0  0  0  0  0  0  0  0\\n    2.0134    0.1406    1.9118 C   0  0  0  0  0  0  0  0  0  0  0  0\\n    0.7124    0.7040    1.4208 C   0  0  0  0  0  0  0  0  0  0  0  0\\n   -0.3528    0.1508    1.6367 O   0  0  0  0  0  0  0  0  0  0  0  0\\n    0.8251    1.8779    0.7350 N   0  0  0  0  0  0  0  0  0  0  0  0\\n   -0.3123    2.5968    0.2005 C   0  0  0  0  0  0  0  0  0  0  0  0\\n   -0.2309    4.0940    0.4860 C   0  0  0  0  0  0  0  0  0  0  0  0\\n   -0.3046    4.4326    1.9750 C   0  0  0  0  0  0  0  0  0  0  0  0\\n   -0.4446    5.9263    2.2865 C   0  0  0  0  0  0  0  0  0  0  0  0\\n    0.8520    6.7289    2.4111 C   0  0  0  0  0  0  0  0  0  0  0  0\\n    1.7326    6.7232    1.2532 N   0  0  0  0  0  0  0  0  0  0  0  0\\n    1.3740    7.2738    0.0617 C   0  0  0  0  0  0  0  0  0  0  0  0\\n    0.2403    7.6660   -0.1660 O   0  0  0  0  0  0  0  0  0  0  0  0\\n    2.4571    7.3514   -0.9738 C   0  0  0  0  0  0  0  0  0  0  0  0\\n    3.7851    7.6596   -0.6627 C   0  0  0  0  0  0  0  0  0  0  0  0\\n    4.7126    7.8176   -1.6928 C   0  0  0  0  0  0  0  0  0  0  0  0\\n    6.1017    8.3406   -1.4793 C   0  0  0  0  0  0  0  0  0  0  0  0\\n    6.6043    9.0941   -2.2958 O   0  0  0  0  0  0  0  0  0  0  0  0\\n    6.7667    8.0253   -0.3196 N   0  0  0  0  0  0  0  0  0  0  0  0\\n    6.7167    6.7822    0.4294 C   0  0  0  0  0  0  0  0  0  0  0  0\\n    6.8033    7.0318    1.9343 C   0  0  0  0  0  0  0  0  0  0  0  0\\n    7.0739    5.7719    2.7546 C   0  0  0  0  0  0  0  0  0  0  0  0\\n    5.9984    4.6979    2.6284 C   0  0  0  0  0  0  0  0  0  0  0  0\\n    6.2608    3.4898    3.5251 C   0  0  0  0  0  0  0  0  0  0  0  0\\n    4.3966   -1.0083    2.7739 C   0  0  0  0  0  0  0  0  0  0  0  0\\n    3.3016   -1.8395    2.5277 C   0  0  0  0  0  0  0  0  0  0  0  0\\n    2.1088   -1.2348    2.1082 C   0  0  0  0  0  0  0  0  0  0  0  0\\n    3.3636   -3.3585    2.6957 C   0  0  0  0  0  0  0  0  0  0  0  0\\n    3.0247   -4.0319    1.3556 C   0  0  0  0  0  0  0  0  0  0  0  0\\n    2.3386   -3.7903    3.7576 C   0  0  0  0  0  0  0  0  0  0  0  0\\n    4.7498   -3.8344    3.1382 C   0  0  0  0  0  0  0  0  0  0  0  0\\n    2.0783    7.1911   -2.3049 C   0  0  0  0  0  0  0  0  0  0  0  0\\n    2.9965    7.3099   -3.3545 C   0  0  0  0  0  0  0  0  0  0  0  0\\n    4.3095    7.6423   -3.0209 C   0  0  0  0  0  0  0  0  0  0  0  0\\n    2.5334    7.1079   -4.7980 C   0  0  0  0  0  0  0  0  0  0  0  0\\n    1.9877    5.6786   -4.9545 C   0  0  0  0  0  0  0  0  0  0  0  0\\n    3.6718    7.3044   -5.8027 C   0  0  0  0  0  0  0  0  0  0  0  0\\n    1.4205    8.1183   -5.1219 C   0  0  0  0  0  0  0  0  0  0  0  0\\n  2  4  1  0\\n  2  1  1  0\\n  3  2  2  0\\n  4  5  1  0\\n  5  6  2  0\\n  6  7  1  0\\n  7  9  1  0\\n  7  8  2  0\\n  9 10  1  0\\n 10 11  1  0\\n 11 12  1  0\\n 12 13  1  0\\n 14 13  1  0\\n 15 14  1  0\\n 16 15  1  0\\n 16 17  2  0\\n 18 16  1  0\\n 19 18  1  0\\n 20 19  2  0\\n 21 23  1  0\\n 21 20  1  0\\n 22 21  2  0\\n 24 23  1  0\\n 24 25  1  0\\n 26 27  1  0\\n 26 25  1  0\\n 28  1  1  0\\n 28 27  1  0\\n 29 30  1  0\\n 29  4  2  0\\n 30 31  2  0\\n 31  6  1  0\\n 32 30  1  0\\n 32 34  1  0\\n 33 32  1  0\\n 35 32  1  0\\n 36 18  2  0\\n 37 36  1  0\\n 38 37  2  0\\n 38 20  1  0\\n 39 37  1  0\\n 39 42  1  0\\n 40 39  1  0\\n 41 39  1  0\\nM  END\\n\",\"sdf\");\n",
       "\tviewer_14955390200807693.addModel(\"SCF Done:  E(RPBEh1PBE) =  -1842.56835651     A.U. after    6 cycles\\n     RDKit          3D\\n\\n 42 44  0  0  0  0  0  0  0  0999 V2000\\n    6.5290    1.3220    2.3069 N   0  0  0  0  0  0  0  0  0  0  0  0\\n    6.2775    0.1212    2.9304 C   0  0  0  0  0  0  0  0  0  0  0  0\\n    7.1965   -0.5552    3.3602 O   0  0  0  0  0  0  0  0  0  0  0  0\\n    4.8583   -0.3035    3.1512 C   0  0  0  0  0  0  0  0  0  0  0  0\\n    3.8265    0.5929    3.4238 C   0  0  0  0  0  0  0  0  0  0  0  0\\n    2.5680    0.1045    3.7854 C   0  0  0  0  0  0  0  0  0  0  0  0\\n    1.4557    1.0065    4.2241 C   0  0  0  0  0  0  0  0  0  0  0  0\\n    0.7431    0.7199    5.1700 O   0  0  0  0  0  0  0  0  0  0  0  0\\n    1.2967    2.1866    3.5431 N   0  0  0  0  0  0  0  0  0  0  0  0\\n    1.6293    2.4353    2.1510 C   0  0  0  0  0  0  0  0  0  0  0  0\\n    0.5245    3.2234    1.4553 C   0  0  0  0  0  0  0  0  0  0  0  0\\n    0.7720    3.3645   -0.0473 C   0  0  0  0  0  0  0  0  0  0  0  0\\n   -0.0308    4.4868   -0.7088 C   0  0  0  0  0  0  0  0  0  0  0  0\\n    0.5741    5.8605   -0.4244 C   0  0  0  0  0  0  0  0  0  0  0  0\\n   -0.1878    6.9435   -1.0105 N   0  0  0  0  0  0  0  0  0  0  0  0\\n    0.2020    7.8349   -1.9758 C   0  0  0  0  0  0  0  0  0  0  0  0\\n   -0.6242    8.4111   -2.6633 O   0  0  0  0  0  0  0  0  0  0  0  0\\n    1.6672    8.1087   -2.1455 C   0  0  0  0  0  0  0  0  0  0  0  0\\n    2.5735    8.1640   -1.0816 C   0  0  0  0  0  0  0  0  0  0  0  0\\n    3.8997    8.5168   -1.3258 C   0  0  0  0  0  0  0  0  0  0  0  0\\n    4.9075    8.7085   -0.2337 C   0  0  0  0  0  0  0  0  0  0  0  0\\n    5.6804    9.6501   -0.2597 O   0  0  0  0  0  0  0  0  0  0  0  0\\n    4.9101    7.8229    0.8208 N   0  0  0  0  0  0  0  0  0  0  0  0\\n    4.6131    6.4002    0.7465 C   0  0  0  0  0  0  0  0  0  0  0  0\\n    5.5979    5.6057   -0.1140 C   0  0  0  0  0  0  0  0  0  0  0  0\\n    5.3892    4.0904   -0.0609 C   0  0  0  0  0  0  0  0  0  0  0  0\\n    5.9047    3.4368    1.2206 C   0  0  0  0  0  0  0  0  0  0  0  0\\n    5.8008    1.9140    1.1970 C   0  0  0  0  0  0  0  0  0  0  0  0\\n    4.6184   -1.6803    3.2248 C   0  0  0  0  0  0  0  0  0  0  0  0\\n    3.3654   -2.1918    3.5628 C   0  0  0  0  0  0  0  0  0  0  0  0\\n    2.3549   -1.2704    3.8619 C   0  0  0  0  0  0  0  0  0  0  0  0\\n    3.0766   -3.6912    3.6488 C   0  0  0  0  0  0  0  0  0  0  0  0\\n    4.3005   -4.5369    3.2867 C   0  0  0  0  0  0  0  0  0  0  0  0\\n    1.9387   -4.0435    2.6764 C   0  0  0  0  0  0  0  0  0  0  0  0\\n    2.6498   -4.0434    5.0836 C   0  0  0  0  0  0  0  0  0  0  0  0\\n    2.1005    8.4176   -3.4340 C   0  0  0  0  0  0  0  0  0  0  0  0\\n    3.4279    8.7667   -3.7072 C   0  0  0  0  0  0  0  0  0  0  0  0\\n    4.3105    8.8219   -2.6281 C   0  0  0  0  0  0  0  0  0  0  0  0\\n    3.8486    9.0960   -5.1402 C   0  0  0  0  0  0  0  0  0  0  0  0\\n    5.3363    9.4444   -5.2392 C   0  0  0  0  0  0  0  0  0  0  0  0\\n    3.0331   10.2994   -5.6423 C   0  0  0  0  0  0  0  0  0  0  0  0\\n    3.5733    7.8812   -6.0416 C   0  0  0  0  0  0  0  0  0  0  0  0\\n  1  2  1  0\\n  1 28  1  0\\n  2  4  1  0\\n  3  2  2  0\\n  4  5  1  0\\n  4 29  2  0\\n  5  6  2  0\\n  6  7  1  0\\n  6 31  1  0\\n  7  9  1  0\\n  8  7  2  0\\n  9 10  1  0\\n 10 11  1  0\\n 11 12  1  0\\n 12 13  1  0\\n 14 15  1  0\\n 14 13  1  0\\n 15 16  1  0\\n 16 17  2  0\\n 18 36  1  0\\n 18 16  1  0\\n 19 18  2  0\\n 20 38  2  0\\n 20 19  1  0\\n 21 20  1  0\\n 22 21  2  0\\n 23 21  1  0\\n 23 24  1  0\\n 24 25  1  0\\n 25 26  1  0\\n 27 28  1  0\\n 27 26  1  0\\n 29 30  1  0\\n 30 31  2  0\\n 30 32  1  0\\n 32 34  1  0\\n 33 32  1  0\\n 35 32  1  0\\n 37 39  1  0\\n 37 36  2  0\\n 38 37  1  0\\n 39 41  1  0\\n 39 42  1  0\\n 40 39  1  0\\nM  END\\n\",\"sdf\");\n",
       "\tviewer_14955390200807693.addModel(\"SCF Done:  E(RPBEh1PBE) =  -1842.60090526     A.U. after    6 cycles\\n     RDKit          3D\\n\\n 42 44  0  0  0  0  0  0  0  0999 V2000\\n    5.4528    2.6550    4.2885 N   0  0  0  0  0  0  0  0  0  0  0  0\\n    5.6455    1.8171    3.2228 C   0  0  0  0  0  0  0  0  0  0  0  0\\n    6.7410    1.3696    2.9282 O   0  0  0  0  0  0  0  0  0  0  0  0\\n    4.4234    1.5097    2.4106 C   0  0  0  0  0  0  0  0  0  0  0  0\\n    3.1170    1.6617    2.8826 C   0  0  0  0  0  0  0  0  0  0  0  0\\n    2.0404    1.4091    2.0339 C   0  0  0  0  0  0  0  0  0  0  0  0\\n    0.6044    1.6044    2.4268 C   0  0  0  0  0  0  0  0  0  0  0  0\\n   -0.3082    1.0824    1.8088 O   0  0  0  0  0  0  0  0  0  0  0  0\\n    0.3958    2.4314    3.4927 N   0  0  0  0  0  0  0  0  0  0  0  0\\n   -0.9237    2.8869    3.8785 C   0  0  0  0  0  0  0  0  0  0  0  0\\n   -0.9855    4.4096    3.9802 C   0  0  0  0  0  0  0  0  0  0  0  0\\n   -0.7339    5.1303    2.6586 C   0  0  0  0  0  0  0  0  0  0  0  0\\n   -0.6122    6.6417    2.8217 C   0  0  0  0  0  0  0  0  0  0  0  0\\n   -0.4029    7.3846    1.5025 C   0  0  0  0  0  0  0  0  0  0  0  0\\n    0.7964    6.9865    0.7917 N   0  0  0  0  0  0  0  0  0  0  0  0\\n    0.7365    6.2930   -0.3826 C   0  0  0  0  0  0  0  0  0  0  0  0\\n   -0.3202    5.9372   -0.8786 O   0  0  0  0  0  0  0  0  0  0  0  0\\n    2.0488    5.9946   -1.0491 C   0  0  0  0  0  0  0  0  0  0  0  0\\n    3.2854    6.0101   -0.3965 C   0  0  0  0  0  0  0  0  0  0  0  0\\n    4.4431    5.6866   -1.1029 C   0  0  0  0  0  0  0  0  0  0  0  0\\n    5.8113    5.6490   -0.4865 C   0  0  0  0  0  0  0  0  0  0  0  0\\n    6.6942    4.9401   -0.9394 O   0  0  0  0  0  0  0  0  0  0  0  0\\n    5.9948    6.4663    0.5938 N   0  0  0  0  0  0  0  0  0  0  0  0\\n    7.2905    6.6344    1.2234 C   0  0  0  0  0  0  0  0  0  0  0  0\\n    7.2598    6.3854    2.7300 C   0  0  0  0  0  0  0  0  0  0  0  0\\n    6.9744    4.9338    3.0969 C   0  0  0  0  0  0  0  0  0  0  0  0\\n    6.7993    4.7166    4.5970 C   0  0  0  0  0  0  0  0  0  0  0  0\\n    6.5766    3.2523    4.9808 C   0  0  0  0  0  0  0  0  0  0  0  0\\n    4.6349    1.0791    1.1024 C   0  0  0  0  0  0  0  0  0  0  0  0\\n    3.5728    0.8003    0.2349 C   0  0  0  0  0  0  0  0  0  0  0  0\\n    2.2787    0.9723    0.7269 C   0  0  0  0  0  0  0  0  0  0  0  0\\n    3.8629    0.3530   -1.1977 C   0  0  0  0  0  0  0  0  0  0  0  0\\n    2.5812    0.0291   -1.9703 C   0  0  0  0  0  0  0  0  0  0  0  0\\n    4.6017    1.4859   -1.9305 C   0  0  0  0  0  0  0  0  0  0  0  0\\n    4.7454   -0.9057   -1.1731 C   0  0  0  0  0  0  0  0  0  0  0  0\\n    1.9913    5.6492   -2.3982 C   0  0  0  0  0  0  0  0  0  0  0  0\\n    3.1371    5.3204   -3.1311 C   0  0  0  0  0  0  0  0  0  0  0  0\\n    4.3571    5.3393   -2.4549 C   0  0  0  0  0  0  0  0  0  0  0  0\\n    3.0133    4.9531   -4.6104 C   0  0  0  0  0  0  0  0  0  0  0  0\\n    2.0894    3.7324   -4.7559 C   0  0  0  0  0  0  0  0  0  0  0  0\\n    2.4092    6.1431   -5.3744 C   0  0  0  0  0  0  0  0  0  0  0  0\\n    4.3688    4.6120   -5.2351 C   0  0  0  0  0  0  0  0  0  0  0  0\\n  1 28  1  0\\n  2  1  1  0\\n  3  2  2  0\\n  4  5  2  0\\n  4  2  1  0\\n  6  7  1  0\\n  6  5  1  0\\n  7  9  1  0\\n  8  7  2  0\\n  9 10  1  0\\n 10 11  1  0\\n 12 13  1  0\\n 12 11  1  0\\n 14 13  1  0\\n 15 14  1  0\\n 16 15  1  0\\n 17 16  2  0\\n 18 16  1  0\\n 18 19  2  0\\n 20 19  1  0\\n 20 21  1  0\\n 21 23  1  0\\n 22 21  2  0\\n 23 24  1  0\\n 24 25  1  0\\n 25 26  1  0\\n 26 27  1  0\\n 27 28  1  0\\n 29  4  1  0\\n 30 31  1  0\\n 30 29  2  0\\n 31  6  2  0\\n 32 30  1  0\\n 33 32  1  0\\n 34 32  1  0\\n 35 32  1  0\\n 36 18  1  0\\n 37 36  2  0\\n 37 38  1  0\\n 38 20  2  0\\n 39 37  1  0\\n 40 39  1  0\\n 41 39  1  0\\n 42 39  1  0\\nM  END\\n\",\"sdf\");\n",
       "\tviewer_14955390200807693.addModel(\"SCF Done:  E(RPBEh1PBE) =  -1842.58784524     A.U. after    6 cycles\\n     RDKit          3D\\n\\n 42 44  0  0  0  0  0  0  0  0999 V2000\\n    5.9528    1.5295    1.9565 N   0  0  0  0  0  0  0  0  0  0  0  0\\n    5.3881    1.2590    3.1695 C   0  0  0  0  0  0  0  0  0  0  0  0\\n    5.8532    1.7004    4.2090 O   0  0  0  0  0  0  0  0  0  0  0  0\\n    4.1664    0.3911    3.1574 C   0  0  0  0  0  0  0  0  0  0  0  0\\n    3.3690    0.1983    2.0262 C   0  0  0  0  0  0  0  0  0  0  0  0\\n    2.2463   -0.6228    2.1041 C   0  0  0  0  0  0  0  0  0  0  0  0\\n    1.3693   -0.9293    0.9271 C   0  0  0  0  0  0  0  0  0  0  0  0\\n    0.8944   -2.0441    0.7809 O   0  0  0  0  0  0  0  0  0  0  0  0\\n    1.1441    0.0590    0.0079 N   0  0  0  0  0  0  0  0  0  0  0  0\\n    1.2249    1.4987    0.1737 C   0  0  0  0  0  0  0  0  0  0  0  0\\n   -0.1025    2.1872   -0.1339 C   0  0  0  0  0  0  0  0  0  0  0  0\\n   -0.0029    3.7121   -0.1209 C   0  0  0  0  0  0  0  0  0  0  0  0\\n    0.3439    4.3064    1.2425 C   0  0  0  0  0  0  0  0  0  0  0  0\\n    0.3795    5.8349    1.2431 C   0  0  0  0  0  0  0  0  0  0  0  0\\n    1.4353    6.3936    0.4192 N   0  0  0  0  0  0  0  0  0  0  0  0\\n    1.1906    6.8498   -0.8412 C   0  0  0  0  0  0  0  0  0  0  0  0\\n    0.0901    6.7600   -1.3646 O   0  0  0  0  0  0  0  0  0  0  0  0\\n    2.3485    7.4758   -1.5624 C   0  0  0  0  0  0  0  0  0  0  0  0\\n    3.6835    7.2938   -1.2026 C   0  0  0  0  0  0  0  0  0  0  0  0\\n    4.6880    7.9359   -1.9309 C   0  0  0  0  0  0  0  0  0  0  0  0\\n    6.1372    7.8809   -1.5572 C   0  0  0  0  0  0  0  0  0  0  0  0\\n    6.8350    8.8769   -1.6481 O   0  0  0  0  0  0  0  0  0  0  0  0\\n    6.6532    6.7076   -1.0595 N   0  0  0  0  0  0  0  0  0  0  0  0\\n    6.3008    5.3508   -1.4583 C   0  0  0  0  0  0  0  0  0  0  0  0\\n    6.8526    4.3438   -0.4526 C   0  0  0  0  0  0  0  0  0  0  0  0\\n    6.2301    4.4526    0.9393 C   0  0  0  0  0  0  0  0  0  0  0  0\\n    7.0385    3.7691    2.0403 C   0  0  0  0  0  0  0  0  0  0  0  0\\n    7.2086    2.2581    1.8881 C   0  0  0  0  0  0  0  0  0  0  0  0\\n    4.3432    8.7642   -2.9978 C   0  0  0  0  0  0  0  0  0  0  0  0\\n    3.0147    8.9343   -3.4030 C   0  0  0  0  0  0  0  0  0  0  0  0\\n    2.0323    8.2694   -2.6696 C   0  0  0  0  0  0  0  0  0  0  0  0\\n    2.6924    9.8352   -4.5958 C   0  0  0  0  0  0  0  0  0  0  0  0\\n    1.1918    9.8792   -4.8968 C   0  0  0  0  0  0  0  0  0  0  0  0\\n    3.4222    9.3086   -5.8427 C   0  0  0  0  0  0  0  0  0  0  0  0\\n    3.1704   11.2647   -4.2903 C   0  0  0  0  0  0  0  0  0  0  0  0\\n    1.9455   -1.2726    3.3057 C   0  0  0  0  0  0  0  0  0  0  0  0\\n    2.7088   -1.0753    4.4569 C   0  0  0  0  0  0  0  0  0  0  0  0\\n    3.8149   -0.2231    4.3578 C   0  0  0  0  0  0  0  0  0  0  0  0\\n    2.3843   -1.7480    5.7915 C   0  0  0  0  0  0  0  0  0  0  0  0\\n    2.1231   -0.6657    6.8522 C   0  0  0  0  0  0  0  0  0  0  0  0\\n    3.5794   -2.6120    6.2272 C   0  0  0  0  0  0  0  0  0  0  0  0\\n    1.1474   -2.6457    5.6993 C   0  0  0  0  0  0  0  0  0  0  0  0\\n  1  2  1  0\\n  2  4  1  0\\n  2  3  2  0\\n  4 38  2  0\\n  5  4  1  0\\n  5  6  2  0\\n  6 36  1  0\\n  7  9  1  0\\n  7  6  1  0\\n  8  7  2  0\\n  9 10  1  0\\n 10 11  1  0\\n 11 12  1  0\\n 12 13  1  0\\n 13 14  1  0\\n 15 14  1  0\\n 16 15  1  0\\n 16 17  2  0\\n 18 16  1  0\\n 19 18  2  0\\n 20 29  2  0\\n 20 19  1  0\\n 21 20  1  0\\n 22 21  2  0\\n 23 21  1  0\\n 24 23  1  0\\n 25 24  1  0\\n 25 26  1  0\\n 27 26  1  0\\n 28  1  1  0\\n 28 27  1  0\\n 29 30  1  0\\n 30 31  2  0\\n 31 18  1  0\\n 32 30  1  0\\n 32 35  1  0\\n 32 33  1  0\\n 34 32  1  0\\n 36 37  2  0\\n 37 39  1  0\\n 38 37  1  0\\n 39 42  1  0\\n 39 40  1  0\\n 41 39  1  0\\nM  END\\n\",\"sdf\");\n",
       "\tviewer_14955390200807693.addModel(\"SCF Done:  E(RPBEh1PBE) =  -1842.56563302     A.U. after    6 cycles\\n     RDKit          3D\\n\\n 42 44  0  0  0  0  0  0  0  0999 V2000\\n    5.8102    0.9813    1.4210 N   0  0  0  0  0  0  0  0  0  0  0  0\\n    5.4221   -0.2944    1.7703 C   0  0  0  0  0  0  0  0  0  0  0  0\\n    5.9103   -1.2674    1.2220 O   0  0  0  0  0  0  0  0  0  0  0  0\\n    4.3398   -0.4565    2.7902 C   0  0  0  0  0  0  0  0  0  0  0  0\\n    3.2274    0.3867    2.8322 C   0  0  0  0  0  0  0  0  0  0  0  0\\n    2.1811    0.1086    3.7100 C   0  0  0  0  0  0  0  0  0  0  0  0\\n    0.9360    0.9370    3.8452 C   0  0  0  0  0  0  0  0  0  0  0  0\\n    0.4026    1.0750    4.9349 O   0  0  0  0  0  0  0  0  0  0  0  0\\n    0.3958    1.5277    2.7345 N   0  0  0  0  0  0  0  0  0  0  0  0\\n    0.6766    1.3034    1.3290 C   0  0  0  0  0  0  0  0  0  0  0  0\\n    1.3748    2.4908    0.6636 C   0  0  0  0  0  0  0  0  0  0  0  0\\n    0.4607    3.6802    0.3728 C   0  0  0  0  0  0  0  0  0  0  0  0\\n    1.2564    4.9670    0.1581 C   0  0  0  0  0  0  0  0  0  0  0  0\\n    0.4890    6.0720   -0.5697 C   0  0  0  0  0  0  0  0  0  0  0  0\\n    0.3578    5.8254   -1.9934 N   0  0  0  0  0  0  0  0  0  0  0  0\\n    0.9230    6.4794   -3.0546 C   0  0  0  0  0  0  0  0  0  0  0  0\\n    0.5087    6.2865   -4.1869 O   0  0  0  0  0  0  0  0  0  0  0  0\\n    2.0455    7.4472   -2.8123 C   0  0  0  0  0  0  0  0  0  0  0  0\\n    3.0394    7.2888   -1.8427 C   0  0  0  0  0  0  0  0  0  0  0  0\\n    4.0322    8.2561   -1.7050 C   0  0  0  0  0  0  0  0  0  0  0  0\\n    5.0293    8.2178   -0.5907 C   0  0  0  0  0  0  0  0  0  0  0  0\\n    5.3450    9.2393   -0.0051 O   0  0  0  0  0  0  0  0  0  0  0  0\\n    5.5340    6.9964   -0.1988 N   0  0  0  0  0  0  0  0  0  0  0  0\\n    5.9070    5.9102   -1.1040 C   0  0  0  0  0  0  0  0  0  0  0  0\\n    6.6665    4.8357   -0.3322 C   0  0  0  0  0  0  0  0  0  0  0  0\\n    5.8108    3.9948    0.6177 C   0  0  0  0  0  0  0  0  0  0  0  0\\n    6.6614    3.2599    1.6557 C   0  0  0  0  0  0  0  0  0  0  0  0\\n    5.9649    2.0963    2.3543 C   0  0  0  0  0  0  0  0  0  0  0  0\\n    4.3965   -1.5699    3.6259 C   0  0  0  0  0  0  0  0  0  0  0  0\\n    3.3888   -1.8394    4.5597 C   0  0  0  0  0  0  0  0  0  0  0  0\\n    2.2917   -0.9780    4.5862 C   0  0  0  0  0  0  0  0  0  0  0  0\\n    3.5154   -3.0470    5.4898 C   0  0  0  0  0  0  0  0  0  0  0  0\\n    4.7872   -2.8975    6.3413 C   0  0  0  0  0  0  0  0  0  0  0  0\\n    3.6139   -4.3294    4.6468 C   0  0  0  0  0  0  0  0  0  0  0  0\\n    2.3163   -3.1790    6.4324 C   0  0  0  0  0  0  0  0  0  0  0  0\\n    2.1044    8.5450   -3.6715 C   0  0  0  0  0  0  0  0  0  0  0  0\\n    3.0856    9.5356   -3.5495 C   0  0  0  0  0  0  0  0  0  0  0  0\\n    4.0314    9.3809   -2.5355 C   0  0  0  0  0  0  0  0  0  0  0  0\\n    3.0745   10.7357   -4.4977 C   0  0  0  0  0  0  0  0  0  0  0  0\\n    3.2039   10.2392   -5.9472 C   0  0  0  0  0  0  0  0  0  0  0  0\\n    4.2242   11.7064   -4.2141 C   0  0  0  0  0  0  0  0  0  0  0  0\\n    1.7470   11.4951   -4.3353 C   0  0  0  0  0  0  0  0  0  0  0  0\\n  1 28  1  0\\n  1  2  1  0\\n  2  4  1  0\\n  3  2  2  0\\n  4 29  2  0\\n  4  5  1  0\\n  5  6  2  0\\n  6 31  1  0\\n  6  7  1  0\\n  7  9  1  0\\n  7  8  2  0\\n 10  9  1  0\\n 11 10  1  0\\n 11 12  1  0\\n 13 14  1  0\\n 13 12  1  0\\n 15 14  1  0\\n 16 17  2  0\\n 16 15  1  0\\n 18 16  1  0\\n 19 18  2  0\\n 20 19  1  0\\n 21 20  1  0\\n 22 21  2  0\\n 23 21  1  0\\n 24 23  1  0\\n 25 24  1  0\\n 25 26  1  0\\n 27 26  1  0\\n 27 28  1  0\\n 29 30  1  0\\n 30 32  1  0\\n 30 31  2  0\\n 32 35  1  0\\n 33 32  1  0\\n 34 32  1  0\\n 36 18  1  0\\n 37 36  2  0\\n 38 20  2  0\\n 38 37  1  0\\n 39 37  1  0\\n 39 42  1  0\\n 40 39  1  0\\n 41 39  1  0\\nM  END\\n\",\"sdf\");\n",
       "\tviewer_14955390200807693.addModel(\"SCF Done:  E(RPBEh1PBE) =  -1842.58437105     A.U. after    7 cycles\\n     RDKit          3D\\n\\n 42 44  0  0  0  0  0  0  0  0999 V2000\\n    5.2679    2.5754    3.1104 N   0  0  0  0  0  0  0  0  0  0  0  0\\n    5.3832    1.2191    3.0309 C   0  0  0  0  0  0  0  0  0  0  0  0\\n    6.4059    0.6774    2.6414 O   0  0  0  0  0  0  0  0  0  0  0  0\\n    4.1741    0.4370    3.4474 C   0  0  0  0  0  0  0  0  0  0  0  0\\n    2.8880    0.9742    3.4541 C   0  0  0  0  0  0  0  0  0  0  0  0\\n    1.8110    0.1903    3.8706 C   0  0  0  0  0  0  0  0  0  0  0  0\\n    0.4178    0.7280    3.9942 C   0  0  0  0  0  0  0  0  0  0  0  0\\n   -0.3123    0.3675    4.9025 O   0  0  0  0  0  0  0  0  0  0  0  0\\n    0.0049    1.6675    3.0863 N   0  0  0  0  0  0  0  0  0  0  0  0\\n    0.4705    1.8651    1.7222 C   0  0  0  0  0  0  0  0  0  0  0  0\\n   -0.7074    2.1270    0.7881 C   0  0  0  0  0  0  0  0  0  0  0  0\\n   -0.3277    2.1790   -0.6940 C   0  0  0  0  0  0  0  0  0  0  0  0\\n    0.7622    3.1809   -1.0807 C   0  0  0  0  0  0  0  0  0  0  0  0\\n    0.4367    4.6312   -0.7379 C   0  0  0  0  0  0  0  0  0  0  0  0\\n    1.4783    5.5220   -1.1986 N   0  0  0  0  0  0  0  0  0  0  0  0\\n    1.2137    6.7060   -1.8237 C   0  0  0  0  0  0  0  0  0  0  0  0\\n    0.0793    7.1154   -2.0091 O   0  0  0  0  0  0  0  0  0  0  0  0\\n    2.4192    7.4765   -2.2744 C   0  0  0  0  0  0  0  0  0  0  0  0\\n    3.6503    6.8746   -2.5259 C   0  0  0  0  0  0  0  0  0  0  0  0\\n    4.7272    7.6465   -2.9658 C   0  0  0  0  0  0  0  0  0  0  0  0\\n    6.0502    7.0496   -3.3407 C   0  0  0  0  0  0  0  0  0  0  0  0\\n    6.6832    7.4783   -4.2903 O   0  0  0  0  0  0  0  0  0  0  0  0\\n    6.5063    5.9762   -2.6149 N   0  0  0  0  0  0  0  0  0  0  0  0\\n    6.2415    5.6712   -1.2193 C   0  0  0  0  0  0  0  0  0  0  0  0\\n    5.6869    4.2658   -0.9924 C   0  0  0  0  0  0  0  0  0  0  0  0\\n    5.4024    3.9719    0.4830 C   0  0  0  0  0  0  0  0  0  0  0  0\\n    6.6397    3.5720    1.2835 C   0  0  0  0  0  0  0  0  0  0  0  0\\n    6.3846    3.4442    2.7854 C   0  0  0  0  0  0  0  0  0  0  0  0\\n    4.5497    9.0132   -3.1733 C   0  0  0  0  0  0  0  0  0  0  0  0\\n    3.3243    9.6452   -2.9274 C   0  0  0  0  0  0  0  0  0  0  0  0\\n    2.2670    8.8505   -2.4809 C   0  0  0  0  0  0  0  0  0  0  0  0\\n    3.1837   11.1494   -3.1679 C   0  0  0  0  0  0  0  0  0  0  0  0\\n    1.7779   11.6573   -2.8371 C   0  0  0  0  0  0  0  0  0  0  0  0\\n    4.1918   11.9009   -2.2832 C   0  0  0  0  0  0  0  0  0  0  0  0\\n    3.4752   11.4542   -4.6468 C   0  0  0  0  0  0  0  0  0  0  0  0\\n    2.0381   -1.1194    4.2915 C   0  0  0  0  0  0  0  0  0  0  0  0\\n    3.3132   -1.6965    4.2576 C   0  0  0  0  0  0  0  0  0  0  0  0\\n    4.3701   -0.8955    3.8216 C   0  0  0  0  0  0  0  0  0  0  0  0\\n    3.5017   -3.1486    4.6988 C   0  0  0  0  0  0  0  0  0  0  0  0\\n    2.6536   -4.0639    3.8001 C   0  0  0  0  0  0  0  0  0  0  0  0\\n    4.9631   -3.5952    4.6030 C   0  0  0  0  0  0  0  0  0  0  0  0\\n    3.0421   -3.2988    6.1586 C   0  0  0  0  0  0  0  0  0  0  0  0\\n  1  2  1  0\\n  2  3  2  0\\n  2  4  1  0\\n  4  5  1  0\\n  4 38  2  0\\n  5  6  2  0\\n  6  7  1  0\\n  6 36  1  0\\n  7  9  1  0\\n  8  7  2  0\\n  9 10  1  0\\n 10 11  1  0\\n 11 12  1  0\\n 13 12  1  0\\n 14 13  1  0\\n 15 16  1  0\\n 15 14  1  0\\n 16 17  2  0\\n 18 19  1  0\\n 18 16  1  0\\n 20 21  1  0\\n 20 19  2  0\\n 21 22  2  0\\n 23 21  1  0\\n 24 25  1  0\\n 24 23  1  0\\n 26 25  1  0\\n 27 26  1  0\\n 28  1  1  0\\n 28 27  1  0\\n 29 20  1  0\\n 30 29  2  0\\n 30 31  1  0\\n 31 18  2  0\\n 32 30  1  0\\n 32 35  1  0\\n 33 32  1  0\\n 34 32  1  0\\n 37 36  2  0\\n 37 39  1  0\\n 38 37  1  0\\n 39 40  1  0\\n 41 39  1  0\\n 42 39  1  0\\nM  END\\n\",\"sdf\");\n",
       "\tviewer_14955390200807693.addModel(\"SCF Done:  E(RPBEh1PBE) =  -1842.60051254     A.U. after    7 cycles\\n     RDKit          3D\\n\\n 42 44  0  0  0  0  0  0  0  0999 V2000\\n    5.7841    2.6698    3.9820 N   0  0  0  0  0  0  0  0  0  0  0  0\\n    5.8326    1.8005    2.9292 C   0  0  0  0  0  0  0  0  0  0  0  0\\n    6.8798    1.3578    2.4877 O   0  0  0  0  0  0  0  0  0  0  0  0\\n    4.5072    1.4440    2.3215 C   0  0  0  0  0  0  0  0  0  0  0  0\\n    3.2808    1.6211    2.9673 C   0  0  0  0  0  0  0  0  0  0  0  0\\n    2.0958    1.3102    2.3026 C   0  0  0  0  0  0  0  0  0  0  0  0\\n    0.7305    1.5214    2.8881 C   0  0  0  0  0  0  0  0  0  0  0  0\\n   -0.2527    0.9522    2.4450 O   0  0  0  0  0  0  0  0  0  0  0  0\\n    0.6647    2.4126    3.9225 N   0  0  0  0  0  0  0  0  0  0  0  0\\n   -0.5993    2.8894    4.4440 C   0  0  0  0  0  0  0  0  0  0  0  0\\n   -0.7807    4.3927    4.2404 C   0  0  0  0  0  0  0  0  0  0  0  0\\n   -0.7478    4.8285    2.7783 C   0  0  0  0  0  0  0  0  0  0  0  0\\n   -0.9009    6.3354    2.6062 C   0  0  0  0  0  0  0  0  0  0  0  0\\n   -0.8220    6.7971    1.1527 C   0  0  0  0  0  0  0  0  0  0  0  0\\n    0.4765    6.5748    0.5459 N   0  0  0  0  0  0  0  0  0  0  0  0\\n    0.6193    5.8497   -0.6045 C   0  0  0  0  0  0  0  0  0  0  0  0\\n   -0.3108    5.2661   -1.1350 O   0  0  0  0  0  0  0  0  0  0  0  0\\n    1.9974    5.8269   -1.2000 C   0  0  0  0  0  0  0  0  0  0  0  0\\n    3.1647    6.0736   -0.4779 C   0  0  0  0  0  0  0  0  0  0  0  0\\n    4.4027    6.0293   -1.1263 C   0  0  0  0  0  0  0  0  0  0  0  0\\n    5.7212    6.2654   -0.4473 C   0  0  0  0  0  0  0  0  0  0  0  0\\n    6.7666    5.8801   -0.9438 O   0  0  0  0  0  0  0  0  0  0  0  0\\n    5.6745    6.9411    0.7393 N   0  0  0  0  0  0  0  0  0  0  0  0\\n    6.8788    7.3229    1.4502 C   0  0  0  0  0  0  0  0  0  0  0  0\\n    6.9279    6.7999    2.8839 C   0  0  0  0  0  0  0  0  0  0  0  0\\n    6.9645    5.2786    2.9816 C   0  0  0  0  0  0  0  0  0  0  0  0\\n    6.9954    4.7795    4.4228 C   0  0  0  0  0  0  0  0  0  0  0  0\\n    6.9774    3.2573    4.5538 C   0  0  0  0  0  0  0  0  0  0  0  0\\n    4.5304    0.9255    1.0283 C   0  0  0  0  0  0  0  0  0  0  0  0\\n    3.3572    0.5865    0.3445 C   0  0  0  0  0  0  0  0  0  0  0  0\\n    2.1461    0.7889    1.0065 C   0  0  0  0  0  0  0  0  0  0  0  0\\n    3.4389    0.0366   -1.0794 C   0  0  0  0  0  0  0  0  0  0  0  0\\n    4.2997   -1.2374   -1.0859 C   0  0  0  0  0  0  0  0  0  0  0  0\\n    2.0585   -0.3082   -1.6447 C   0  0  0  0  0  0  0  0  0  0  0  0\\n    4.0857    1.0970   -1.9864 C   0  0  0  0  0  0  0  0  0  0  0  0\\n    2.0775    5.5196   -2.5621 C   0  0  0  0  0  0  0  0  0  0  0  0\\n    3.2990    5.4709   -3.2341 C   0  0  0  0  0  0  0  0  0  0  0  0\\n    4.4535    5.7278   -2.4862 C   0  0  0  0  0  0  0  0  0  0  0  0\\n    3.4131    5.1650   -4.7281 C   0  0  0  0  0  0  0  0  0  0  0  0\\n    4.3338    3.9515   -4.9362 C   0  0  0  0  0  0  0  0  0  0  0  0\\n    2.0529    4.8532   -5.3581 C   0  0  0  0  0  0  0  0  0  0  0  0\\n    4.0144    6.3878   -5.4412 C   0  0  0  0  0  0  0  0  0  0  0  0\\n  1 28  1  0\\n  2  1  1  0\\n  3  2  2  0\\n  4  5  2  0\\n  4  2  1  0\\n  6  7  1  0\\n  6  5  1  0\\n  7  9  1  0\\n  8  7  2  0\\n  9 10  1  0\\n 11 10  1  0\\n 12 11  1  0\\n 13 12  1  0\\n 14 13  1  0\\n 15 14  1  0\\n 16 15  1  0\\n 17 16  2  0\\n 18 16  1  0\\n 18 19  2  0\\n 20 19  1  0\\n 20 21  1  0\\n 21 23  1  0\\n 22 21  2  0\\n 23 24  1  0\\n 24 25  1  0\\n 26 25  1  0\\n 26 27  1  0\\n 27 28  1  0\\n 29  4  1  0\\n 30 31  1  0\\n 30 29  2  0\\n 31  6  2  0\\n 32 30  1  0\\n 33 32  1  0\\n 34 32  1  0\\n 35 32  1  0\\n 36 18  1  0\\n 37 36  2  0\\n 37 38  1  0\\n 38 20  2  0\\n 39 37  1  0\\n 40 39  1  0\\n 41 39  1  0\\n 42 39  1  0\\nM  END\\n\",\"sdf\");\n",
       "\tviewer_14955390200807693.setStyle({\"stick\": {\"radius\": \"0.15\"}});\n",
       "\tviewer_14955390200807693.setBackgroundColor(\"0xeeeeee\");\n",
       "\tviewer_14955390200807693.zoomTo();\n",
       "viewer_14955390200807693.render();\n",
       "});\n",
       "</script><script>$(\"#pbe_631gd\").append($(\"#3dmolviewer_14955390200807693\")); </script>"
      ],
      "text/plain": [
       "<IPython.core.display.HTML object>"
      ]
     },
     "execution_count": 19,
     "metadata": {},
     "output_type": "execute_result"
    }
   ],
   "source": [
    "for key, mol in mol_gaussian_pbe_631gd.items():\n",
    "    core_mol = mol.GetSubstructMatch(Chem.MolFromSmiles(core_smiles))\n",
    "    AllChem.AlignMol(mol,m13_crystal,atomMap=list(zip(core_mol,core_m13)))\n",
    "    \n",
    "p1 = py3Dmol.view(width=400,height=400)\n",
    "for key, mol in mol_gaussian_pbe_631gd.items():\n",
    "    mb = Chem.MolToMolBlock(mol)\n",
    "    p1.addModel(mb,'sdf')\n",
    "p1.setStyle({'stick':{'radius':'0.15'}})\n",
    "p1.setBackgroundColor('0xeeeeee')\n",
    "p1.zoomTo()\n",
    "p1.insert(\"pbe_631gd\")"
   ]
  },
  {
   "cell_type": "code",
   "execution_count": 20,
   "metadata": {
    "collapsed": false,
    "deletable": true,
    "editable": true
   },
   "outputs": [
    {
     "data": {
      "text/html": [
       "<div id=\"3dmolviewer_14955390286154158\"  style=\"position: relative; width: 400px; height: 400px\">\n",
       "<script>\n",
       "if(typeof $3Dmolpromise === 'undefined') $3Dmolpromise = $.when($.getScript('http://3dmol.csb.pitt.edu/build/3Dmol.js'))\n",
       "var viewer_14955390286154158 = null;\n",
       "$3Dmolpromise.done(function() {\n",
       "viewer_14955390286154158 = $3Dmol.createViewer($(\"#3dmolviewer_14955390286154158\"),{backgroundColor:\"white\"});\n",
       "\tviewer_14955390286154158.addModel(\"SCF Done:  E(RB97D) =  -1843.27177204     A.U. after    6 cycles\\n     RDKit          3D\\n\\n 42 44  0  0  0  0  0  0  0  0999 V2000\\n    5.3496    2.7826    4.3902 N   0  0  0  0  0  0  0  0  0  0  0  0\\n    5.6355    2.0338    3.2546 C   0  0  0  0  0  0  0  0  0  0  0  0\\n    6.7662    1.6184    3.0031 O   0  0  0  0  0  0  0  0  0  0  0  0\\n    4.4625    1.7797    2.3399 C   0  0  0  0  0  0  0  0  0  0  0  0\\n    3.1262    1.8164    2.7760 C   0  0  0  0  0  0  0  0  0  0  0  0\\n    2.0769    1.5972    1.8622 C   0  0  0  0  0  0  0  0  0  0  0  0\\n    0.6074    1.6704    2.2240 C   0  0  0  0  0  0  0  0  0  0  0  0\\n   -0.2698    1.2278    1.4825 O   0  0  0  0  0  0  0  0  0  0  0  0\\n    0.3217    2.2793    3.4327 N   0  0  0  0  0  0  0  0  0  0  0  0\\n   -1.0296    2.7040    3.8047 C   0  0  0  0  0  0  0  0  0  0  0  0\\n   -1.0864    4.2325    3.9959 C   0  0  0  0  0  0  0  0  0  0  0  0\\n   -0.7656    5.0163    2.7118 C   0  0  0  0  0  0  0  0  0  0  0  0\\n   -0.5534    6.5150    2.9798 C   0  0  0  0  0  0  0  0  0  0  0  0\\n   -0.2928    7.3285    1.6964 C   0  0  0  0  0  0  0  0  0  0  0  0\\n    0.8639    6.8561    0.9323 N   0  0  0  0  0  0  0  0  0  0  0  0\\n    0.7299    6.0784   -0.1989 C   0  0  0  0  0  0  0  0  0  0  0  0\\n   -0.3665    5.7069   -0.6197 O   0  0  0  0  0  0  0  0  0  0  0  0\\n    2.0177    5.7336   -0.9128 C   0  0  0  0  0  0  0  0  0  0  0  0\\n    3.2754    5.6753   -0.2797 C   0  0  0  0  0  0  0  0  0  0  0  0\\n    4.4174    5.3305   -1.0240 C   0  0  0  0  0  0  0  0  0  0  0  0\\n    5.8015    5.2688   -0.4215 C   0  0  0  0  0  0  0  0  0  0  0  0\\n    6.6422    4.4435   -0.7824 O   0  0  0  0  0  0  0  0  0  0  0  0\\n    6.0516    6.2368    0.5292 N   0  0  0  0  0  0  0  0  0  0  0  0\\n    7.3621    6.4543    1.1457 C   0  0  0  0  0  0  0  0  0  0  0  0\\n    7.3057    6.3612    2.6829 C   0  0  0  0  0  0  0  0  0  0  0  0\\n    6.9785    4.9404    3.1617 C   0  0  0  0  0  0  0  0  0  0  0  0\\n    6.7189    4.8528    4.6750 C   0  0  0  0  0  0  0  0  0  0  0  0\\n    6.4295    3.4126    5.1541 C   0  0  0  0  0  0  0  0  0  0  0  0\\n    4.7468    1.4935    0.9899 C   0  0  0  0  0  0  0  0  0  0  0  0\\n    3.7214    1.2349    0.0626 C   0  0  0  0  0  0  0  0  0  0  0  0\\n    2.3912    1.2963    0.5241 C   0  0  0  0  0  0  0  0  0  0  0  0\\n    4.0222    0.8167   -1.3868 C   0  0  0  0  0  0  0  0  0  0  0  0\\n    3.8273   -0.7202   -1.4818 C   0  0  0  0  0  0  0  0  0  0  0  0\\n    3.0509    1.5049   -2.3759 C   0  0  0  0  0  0  0  0  0  0  0  0\\n    5.4685    1.1674   -1.8074 C   0  0  0  0  0  0  0  0  0  0  0  0\\n    1.9255    5.4440   -2.2852 C   0  0  0  0  0  0  0  0  0  0  0  0\\n    3.0528    5.0934   -3.0535 C   0  0  0  0  0  0  0  0  0  0  0  0\\n    4.2946    5.0319   -2.3949 C   0  0  0  0  0  0  0  0  0  0  0  0\\n    2.9011    4.8357   -4.5628 C   0  0  0  0  0  0  0  0  0  0  0  0\\n    2.6149    6.1958   -5.2529 C   0  0  0  0  0  0  0  0  0  0  0  0\\n    4.1769    4.2233   -5.1826 C   0  0  0  0  0  0  0  0  0  0  0  0\\n    1.7186    3.8720   -4.8413 C   0  0  0  0  0  0  0  0  0  0  0  0\\n  1 28  1  0\\n  2  1  1  0\\n  3  2  2  0\\n  4  5  2  0\\n  4  2  1  0\\n  6  7  1  0\\n  6  5  1  0\\n  7  9  1  0\\n  8  7  2  0\\n  9 10  1  0\\n 10 11  1  0\\n 12 13  1  0\\n 12 11  1  0\\n 14 13  1  0\\n 15 14  1  0\\n 16 15  1  0\\n 17 16  2  0\\n 18 16  1  0\\n 18 19  2  0\\n 20 21  1  0\\n 20 19  1  0\\n 21 23  1  0\\n 22 21  2  0\\n 23 24  1  0\\n 24 25  1  0\\n 25 26  1  0\\n 26 27  1  0\\n 27 28  1  0\\n 29  4  1  0\\n 30 31  1  0\\n 30 29  2  0\\n 31  6  2  0\\n 32 30  1  0\\n 33 32  1  0\\n 34 32  1  0\\n 35 32  1  0\\n 36 18  1  0\\n 37 36  2  0\\n 37 38  1  0\\n 38 20  2  0\\n 39 37  1  0\\n 40 39  1  0\\n 41 39  1  0\\n 42 39  1  0\\nM  END\\n\",\"sdf\");\n",
       "\tviewer_14955390286154158.addModel(\"SCF Done:  E(RB97D) =  -1843.26268220     A.U. after    7 cycles\\n     RDKit          3D\\n\\n 42 44  0  0  0  0  0  0  0  0999 V2000\\n    5.7588    3.0306    4.3516 N   0  0  0  0  0  0  0  0  0  0  0  0\\n    5.7538    2.4394    3.1046 C   0  0  0  0  0  0  0  0  0  0  0  0\\n    6.7343    2.4595    2.3522 O   0  0  0  0  0  0  0  0  0  0  0  0\\n    4.4551    1.7852    2.7007 C   0  0  0  0  0  0  0  0  0  0  0  0\\n    3.5144    1.3101    3.6308 C   0  0  0  0  0  0  0  0  0  0  0  0\\n    2.3218    0.7183    3.1803 C   0  0  0  0  0  0  0  0  0  0  0  0\\n    1.2774    0.2264    4.1567 C   0  0  0  0  0  0  0  0  0  0  0  0\\n    0.8825   -0.9353    4.1743 O   0  0  0  0  0  0  0  0  0  0  0  0\\n    0.8123    1.1885    5.0461 N   0  0  0  0  0  0  0  0  0  0  0  0\\n    0.7535    2.6209    4.7042 C   0  0  0  0  0  0  0  0  0  0  0  0\\n   -0.1762    2.9336    3.5106 C   0  0  0  0  0  0  0  0  0  0  0  0\\n    0.1356    4.2877    2.8540 C   0  0  0  0  0  0  0  0  0  0  0  0\\n   -0.8328    4.6087    1.7038 C   0  0  0  0  0  0  0  0  0  0  0  0\\n   -0.4893    5.9111    0.9583 C   0  0  0  0  0  0  0  0  0  0  0  0\\n    0.7612    5.8238    0.2046 N   0  0  0  0  0  0  0  0  0  0  0  0\\n    0.8025    5.8891   -1.1761 C   0  0  0  0  0  0  0  0  0  0  0  0\\n   -0.2127    5.9755   -1.8681 O   0  0  0  0  0  0  0  0  0  0  0  0\\n    2.1864    5.8766   -1.7809 C   0  0  0  0  0  0  0  0  0  0  0  0\\n    3.2950    5.2754   -1.1588 C   0  0  0  0  0  0  0  0  0  0  0  0\\n    4.5571    5.3020   -1.7842 C   0  0  0  0  0  0  0  0  0  0  0  0\\n    5.7658    4.5672   -1.2502 C   0  0  0  0  0  0  0  0  0  0  0  0\\n    6.5582    4.0212   -2.0220 O   0  0  0  0  0  0  0  0  0  0  0  0\\n    5.9397    4.4894    0.1133 N   0  0  0  0  0  0  0  0  0  0  0  0\\n    5.2753    5.1908    1.2082 C   0  0  0  0  0  0  0  0  0  0  0  0\\n    6.2916    5.6238    2.2884 C   0  0  0  0  0  0  0  0  0  0  0  0\\n    5.6159    5.8799    3.6591 C   0  0  0  0  0  0  0  0  0  0  0  0\\n    6.4371    5.3985    4.8759 C   0  0  0  0  0  0  0  0  0  0  0  0\\n    6.8396    3.8993    4.8197 C   0  0  0  0  0  0  0  0  0  0  0  0\\n    4.6842    5.9207   -3.0397 C   0  0  0  0  0  0  0  0  0  0  0  0\\n    3.5913    6.5310   -3.6865 C   0  0  0  0  0  0  0  0  0  0  0  0\\n    2.3439    6.4904   -3.0397 C   0  0  0  0  0  0  0  0  0  0  0  0\\n    3.7992    7.1863   -5.0622 C   0  0  0  0  0  0  0  0  0  0  0  0\\n    4.2963    6.1120   -6.0649 C   0  0  0  0  0  0  0  0  0  0  0  0\\n    2.5030    7.8119   -5.6199 C   0  0  0  0  0  0  0  0  0  0  0  0\\n    4.8690    8.3027   -4.9391 C   0  0  0  0  0  0  0  0  0  0  0  0\\n    2.0799    0.5999    1.8046 C   0  0  0  0  0  0  0  0  0  0  0  0\\n    2.9931    1.0930    0.8472 C   0  0  0  0  0  0  0  0  0  0  0  0\\n    4.1853    1.6703    1.3192 C   0  0  0  0  0  0  0  0  0  0  0  0\\n    2.6394    1.0058   -0.6463 C   0  0  0  0  0  0  0  0  0  0  0  0\\n    1.3670    1.8590   -0.9016 C   0  0  0  0  0  0  0  0  0  0  0  0\\n    3.7702    1.5323   -1.5541 C   0  0  0  0  0  0  0  0  0  0  0  0\\n    2.3529   -0.4699   -1.0271 C   0  0  0  0  0  0  0  0  0  0  0  0\\n  2  1  1  0\\n  2  4  1  0\\n  3  2  2  0\\n  4 38  2  0\\n  4  5  1  0\\n  5  6  2  0\\n  6 36  1  0\\n  6  7  1  0\\n  7  8  2  0\\n  7  9  1  0\\n  9 10  1  0\\n 10 11  1  0\\n 12 11  1  0\\n 12 13  1  0\\n 14 13  1  0\\n 15 14  1  0\\n 16 15  1  0\\n 16 17  2  0\\n 18 16  1  0\\n 19 18  1  0\\n 20 19  2  0\\n 21 20  1  0\\n 22 21  2  0\\n 23 21  1  0\\n 23 24  1  0\\n 25 26  1  0\\n 25 24  1  0\\n 27 26  1  0\\n 28 27  1  0\\n 28  1  1  0\\n 29 20  1  0\\n 29 30  2  0\\n 30 31  1  0\\n 31 18  2  0\\n 32 30  1  0\\n 32 34  1  0\\n 33 32  1  0\\n 35 32  1  0\\n 37 39  1  0\\n 37 36  2  0\\n 38 37  1  0\\n 39 40  1  0\\n 41 39  1  0\\n 42 39  1  0\\nM  END\\n\",\"sdf\");\n",
       "\tviewer_14955390286154158.addModel(\"SCF Done:  E(RB97D) =  -1843.25822833     A.U. after    6 cycles\\n     RDKit          3D\\n\\n 42 44  0  0  0  0  0  0  0  0999 V2000\\n    6.2089    0.0056    0.6626 N   0  0  0  0  0  0  0  0  0  0  0  0\\n    5.9408    0.6252    1.8774 C   0  0  0  0  0  0  0  0  0  0  0  0\\n    6.7829    0.6584    2.7755 O   0  0  0  0  0  0  0  0  0  0  0  0\\n    4.5730    1.2272    2.0631 C   0  0  0  0  0  0  0  0  0  0  0  0\\n    3.4028    0.6205    1.5716 C   0  0  0  0  0  0  0  0  0  0  0  0\\n    2.1543    1.1851    1.8799 C   0  0  0  0  0  0  0  0  0  0  0  0\\n    0.8607    0.5103    1.5107 C   0  0  0  0  0  0  0  0  0  0  0  0\\n   -0.0752    0.4353    2.3067 O   0  0  0  0  0  0  0  0  0  0  0  0\\n    0.7831   -0.0530    0.2409 N   0  0  0  0  0  0  0  0  0  0  0  0\\n    1.3521    0.5890   -0.9637 C   0  0  0  0  0  0  0  0  0  0  0  0\\n    1.0276    2.0968   -1.0733 C   0  0  0  0  0  0  0  0  0  0  0  0\\n   -0.4701    2.4210   -0.8887 C   0  0  0  0  0  0  0  0  0  0  0  0\\n   -0.7691    3.9325   -0.8036 C   0  0  0  0  0  0  0  0  0  0  0  0\\n   -0.1471    4.5710    0.4543 C   0  0  0  0  0  0  0  0  0  0  0  0\\n   -0.3991    6.0124    0.5881 N   0  0  0  0  0  0  0  0  0  0  0  0\\n    0.5617    7.0106    0.6792 C   0  0  0  0  0  0  0  0  0  0  0  0\\n    0.3377    8.0783    1.2446 O   0  0  0  0  0  0  0  0  0  0  0  0\\n    1.8794    6.7266   -0.0015 C   0  0  0  0  0  0  0  0  0  0  0  0\\n    3.0756    7.0572    0.6505 C   0  0  0  0  0  0  0  0  0  0  0  0\\n    4.3041    6.7531    0.0372 C   0  0  0  0  0  0  0  0  0  0  0  0\\n    5.5866    7.0999    0.7543 C   0  0  0  0  0  0  0  0  0  0  0  0\\n    5.7366    8.1802    1.3209 O   0  0  0  0  0  0  0  0  0  0  0  0\\n    6.6023    6.1571    0.6950 N   0  0  0  0  0  0  0  0  0  0  0  0\\n    6.4493    4.7027    0.5641 C   0  0  0  0  0  0  0  0  0  0  0  0\\n    7.2404    4.1048   -0.6159 C   0  0  0  0  0  0  0  0  0  0  0  0\\n    7.1971    2.5629   -0.6169 C   0  0  0  0  0  0  0  0  0  0  0  0\\n    5.7887    1.9871   -0.8639 C   0  0  0  0  0  0  0  0  0  0  0  0\\n    5.7006    0.4610   -0.6485 C   0  0  0  0  0  0  0  0  0  0  0  0\\n    4.4802    2.4068    2.8237 C   0  0  0  0  0  0  0  0  0  0  0  0\\n    3.2434    3.0263    3.0930 C   0  0  0  0  0  0  0  0  0  0  0  0\\n    2.0848    2.3731    2.6336 C   0  0  0  0  0  0  0  0  0  0  0  0\\n    3.1778    4.3158    3.9307 C   0  0  0  0  0  0  0  0  0  0  0  0\\n    1.8529    5.0828    3.7061 C   0  0  0  0  0  0  0  0  0  0  0  0\\n    3.2907    3.9236    5.4270 C   0  0  0  0  0  0  0  0  0  0  0  0\\n    4.3439    5.2689    3.5679 C   0  0  0  0  0  0  0  0  0  0  0  0\\n    1.9169    6.1894   -1.3052 C   0  0  0  0  0  0  0  0  0  0  0  0\\n    3.1306    5.9359   -1.9647 C   0  0  0  0  0  0  0  0  0  0  0  0\\n    4.3197    6.2012   -1.2556 C   0  0  0  0  0  0  0  0  0  0  0  0\\n    3.2070    5.3925   -3.4010 C   0  0  0  0  0  0  0  0  0  0  0  0\\n    3.9582    6.4143   -4.2929 C   0  0  0  0  0  0  0  0  0  0  0  0\\n    3.9837    4.0513   -3.3994 C   0  0  0  0  0  0  0  0  0  0  0  0\\n    1.8132    5.1423   -4.0164 C   0  0  0  0  0  0  0  0  0  0  0  0\\n  2  1  1  0\\n  2  3  2  0\\n  4  2  1  0\\n  5  4  1  0\\n  6  5  2  0\\n  7  6  1  0\\n  8  7  2  0\\n  9  7  1  0\\n  9 10  1  0\\n 11 10  1  0\\n 12 11  1  0\\n 13 12  1  0\\n 13 14  1  0\\n 15 14  1  0\\n 15 16  1  0\\n 16 18  1  0\\n 17 16  2  0\\n 18 36  2  0\\n 18 19  1  0\\n 19 20  2  0\\n 20 38  1  0\\n 20 21  1  0\\n 21 22  2  0\\n 21 23  1  0\\n 23 24  1  0\\n 24 25  1  0\\n 25 26  1  0\\n 27 28  1  0\\n 27 26  1  0\\n 28  1  1  0\\n 29  4  2  0\\n 30 29  1  0\\n 31  6  1  0\\n 31 30  2  0\\n 32 30  1  0\\n 32 34  1  0\\n 32 35  1  0\\n 33 32  1  0\\n 36 37  1  0\\n 37 39  1  0\\n 37 38  2  0\\n 39 40  1  0\\n 39 41  1  0\\n 42 39  1  0\\nM  END\\n\",\"sdf\");\n",
       "\tviewer_14955390286154158.addModel(\"SCF Done:  E(RB97D) =  -1843.27090130     A.U. after    6 cycles\\n     RDKit          3D\\n\\n 42 44  0  0  0  0  0  0  0  0999 V2000\\n    6.1222    2.6754    3.5734 N   0  0  0  0  0  0  0  0  0  0  0  0\\n    6.0139    1.9418    2.4067 C   0  0  0  0  0  0  0  0  0  0  0  0\\n    6.9962    1.5266    1.7919 O   0  0  0  0  0  0  0  0  0  0  0  0\\n    4.5992    1.6943    1.9248 C   0  0  0  0  0  0  0  0  0  0  0  0\\n    3.4585    1.8489    2.7327 C   0  0  0  0  0  0  0  0  0  0  0  0\\n    2.1727    1.6452    2.1933 C   0  0  0  0  0  0  0  0  0  0  0  0\\n    0.9009    1.8172    2.9890 C   0  0  0  0  0  0  0  0  0  0  0  0\\n   -0.1620    1.3005    2.6448 O   0  0  0  0  0  0  0  0  0  0  0  0\\n    1.0151    2.5975    4.1311 N   0  0  0  0  0  0  0  0  0  0  0  0\\n   -0.1731    3.0897    4.8311 C   0  0  0  0  0  0  0  0  0  0  0  0\\n   -0.5662    4.5152    4.3862 C   0  0  0  0  0  0  0  0  0  0  0  0\\n   -0.7546    4.6399    2.8656 C   0  0  0  0  0  0  0  0  0  0  0  0\\n   -1.1845    6.0487    2.4324 C   0  0  0  0  0  0  0  0  0  0  0  0\\n   -1.1807    6.2191    0.9012 C   0  0  0  0  0  0  0  0  0  0  0  0\\n    0.1681    6.1481    0.3373 N   0  0  0  0  0  0  0  0  0  0  0  0\\n    0.5718    5.1870   -0.5658 C   0  0  0  0  0  0  0  0  0  0  0  0\\n   -0.1555    4.2681   -0.9456 O   0  0  0  0  0  0  0  0  0  0  0  0\\n    1.9806    5.3636   -1.0823 C   0  0  0  0  0  0  0  0  0  0  0  0\\n    3.0373    5.8251   -0.2784 C   0  0  0  0  0  0  0  0  0  0  0  0\\n    4.3383    5.9209   -0.8141 C   0  0  0  0  0  0  0  0  0  0  0  0\\n    5.5431    6.3844   -0.0269 C   0  0  0  0  0  0  0  0  0  0  0  0\\n    6.6902    6.0666   -0.3450 O   0  0  0  0  0  0  0  0  0  0  0  0\\n    5.2753    7.2001    1.0523 N   0  0  0  0  0  0  0  0  0  0  0  0\\n    6.3399    7.7727    1.8799 C   0  0  0  0  0  0  0  0  0  0  0  0\\n    6.5913    6.9871    3.1827 C   0  0  0  0  0  0  0  0  0  0  0  0\\n    6.9581    5.5147    2.9369 C   0  0  0  0  0  0  0  0  0  0  0  0\\n    7.2661    4.7608    4.2416 C   0  0  0  0  0  0  0  0  0  0  0  0\\n    7.3899    3.2376    4.0447 C   0  0  0  0  0  0  0  0  0  0  0  0\\n    4.4414    1.2794    0.5858 C   0  0  0  0  0  0  0  0  0  0  0  0\\n    3.1731    1.0341    0.0322 C   0  0  0  0  0  0  0  0  0  0  0  0\\n    2.0466    1.2467    0.8518 C   0  0  0  0  0  0  0  0  0  0  0  0\\n    2.9696    0.5358   -1.4082 C   0  0  0  0  0  0  0  0  0  0  0  0\\n    2.1567   -0.7855   -1.3799 C   0  0  0  0  0  0  0  0  0  0  0  0\\n    2.1881    1.6053   -2.2109 C   0  0  0  0  0  0  0  0  0  0  0  0\\n    4.3071    0.2669   -2.1309 C   0  0  0  0  0  0  0  0  0  0  0  0\\n    2.2276    5.0054   -2.4218 C   0  0  0  0  0  0  0  0  0  0  0  0\\n    3.5139    5.0920   -2.9809 C   0  0  0  0  0  0  0  0  0  0  0  0\\n    4.5580    5.5438   -2.1499 C   0  0  0  0  0  0  0  0  0  0  0  0\\n    3.8205    4.7035   -4.4368 C   0  0  0  0  0  0  0  0  0  0  0  0\\n    4.8711    3.5621   -4.4524 C   0  0  0  0  0  0  0  0  0  0  0  0\\n    2.5651    4.2194   -5.1940 C   0  0  0  0  0  0  0  0  0  0  0  0\\n    4.3979    5.9370   -5.1785 C   0  0  0  0  0  0  0  0  0  0  0  0\\n  1 28  1  0\\n  2  1  1  0\\n  3  2  2  0\\n  4  2  1  0\\n  4  5  2  0\\n  6  5  1  0\\n  6  7  1  0\\n  7  9  1  0\\n  8  7  2  0\\n  9 10  1  0\\n 11 10  1  0\\n 12 11  1  0\\n 13 12  1  0\\n 14 13  1  0\\n 15 14  1  0\\n 16 15  1  0\\n 17 16  2  0\\n 18 16  1  0\\n 18 19  2  0\\n 20 19  1  0\\n 20 21  1  0\\n 21 23  1  0\\n 22 21  2  0\\n 23 24  1  0\\n 24 25  1  0\\n 26 25  1  0\\n 26 27  1  0\\n 28 27  1  0\\n 29  4  1  0\\n 30 29  2  0\\n 30 31  1  0\\n 31  6  2  0\\n 32 30  1  0\\n 33 32  1  0\\n 34 32  1  0\\n 35 32  1  0\\n 36 18  1  0\\n 37 36  2  0\\n 37 38  1  0\\n 38 20  2  0\\n 39 37  1  0\\n 40 39  1  0\\n 41 39  1  0\\n 42 39  1  0\\nM  END\\n\",\"sdf\");\n",
       "\tviewer_14955390286154158.addModel(\"SCF Done:  E(RB97D) =  -1843.26464650     A.U. after    6 cycles\\n     RDKit          3D\\n\\n 42 44  0  0  0  0  0  0  0  0999 V2000\\n    4.3040    3.9388    3.5405 N   0  0  0  0  0  0  0  0  0  0  0  0\\n    4.8888    3.0245    2.6755 C   0  0  0  0  0  0  0  0  0  0  0  0\\n    6.1026    2.8110    2.6864 O   0  0  0  0  0  0  0  0  0  0  0  0\\n    3.9542    2.3216    1.7218 C   0  0  0  0  0  0  0  0  0  0  0  0\\n    2.5848    2.6183    1.6206 C   0  0  0  0  0  0  0  0  0  0  0  0\\n    1.7571    1.8812    0.7563 C   0  0  0  0  0  0  0  0  0  0  0  0\\n    0.2821    2.2074    0.6968 C   0  0  0  0  0  0  0  0  0  0  0  0\\n   -0.3512    2.3112   -0.3548 O   0  0  0  0  0  0  0  0  0  0  0  0\\n   -0.2864    2.3717    1.9413 N   0  0  0  0  0  0  0  0  0  0  0  0\\n   -1.5349    3.1047    2.1586 C   0  0  0  0  0  0  0  0  0  0  0  0\\n   -1.2744    4.6122    2.3523 C   0  0  0  0  0  0  0  0  0  0  0  0\\n   -0.3621    4.9386    3.5537 C   0  0  0  0  0  0  0  0  0  0  0  0\\n    0.0339    6.4399    3.6106 C   0  0  0  0  0  0  0  0  0  0  0  0\\n    1.5407    6.7212    3.4031 C   0  0  0  0  0  0  0  0  0  0  0  0\\n    2.1477    6.0824    2.2263 N   0  0  0  0  0  0  0  0  0  0  0  0\\n    1.7067    6.2729    0.9315 C   0  0  0  0  0  0  0  0  0  0  0  0\\n    0.6255    6.7974    0.6583 O   0  0  0  0  0  0  0  0  0  0  0  0\\n    2.6479    5.7689   -0.1330 C   0  0  0  0  0  0  0  0  0  0  0  0\\n    4.0240    6.0611   -0.0748 C   0  0  0  0  0  0  0  0  0  0  0  0\\n    4.8699    5.6656   -1.1249 C   0  0  0  0  0  0  0  0  0  0  0  0\\n    6.3254    6.0572   -1.2228 C   0  0  0  0  0  0  0  0  0  0  0  0\\n    6.8401    6.2902   -2.3191 O   0  0  0  0  0  0  0  0  0  0  0  0\\n    7.0529    6.2229   -0.0549 N   0  0  0  0  0  0  0  0  0  0  0  0\\n    6.9170    5.4918    1.2127 C   0  0  0  0  0  0  0  0  0  0  0  0\\n    7.5374    6.2996    2.3638 C   0  0  0  0  0  0  0  0  0  0  0  0\\n    7.2674    5.6503    3.7351 C   0  0  0  0  0  0  0  0  0  0  0  0\\n    5.8059    5.8580    4.2325 C   0  0  0  0  0  0  0  0  0  0  0  0\\n    5.0562    4.5661    4.6419 C   0  0  0  0  0  0  0  0  0  0  0  0\\n    4.4881    1.2900    0.9218 C   0  0  0  0  0  0  0  0  0  0  0  0\\n    3.6884    0.5564    0.0261 C   0  0  0  0  0  0  0  0  0  0  0  0\\n    2.3149    0.8766   -0.0483 C   0  0  0  0  0  0  0  0  0  0  0  0\\n    4.2472   -0.5958   -0.8282 C   0  0  0  0  0  0  0  0  0  0  0  0\\n    3.9715   -0.3216   -2.3282 C   0  0  0  0  0  0  0  0  0  0  0  0\\n    3.5353   -1.9113   -0.4150 C   0  0  0  0  0  0  0  0  0  0  0  0\\n    5.7681   -0.7848   -0.6430 C   0  0  0  0  0  0  0  0  0  0  0  0\\n    2.1212    5.0901   -1.2450 C   0  0  0  0  0  0  0  0  0  0  0  0\\n    2.9471    4.6874   -2.3151 C   0  0  0  0  0  0  0  0  0  0  0  0\\n    4.3180    4.9879   -2.2312 C   0  0  0  0  0  0  0  0  0  0  0  0\\n    2.3285    3.9793   -3.5329 C   0  0  0  0  0  0  0  0  0  0  0  0\\n    1.7173    2.6316   -3.0790 C   0  0  0  0  0  0  0  0  0  0  0  0\\n    3.3682    3.6965   -4.6385 C   0  0  0  0  0  0  0  0  0  0  0  0\\n    1.2119    4.8738   -4.1316 C   0  0  0  0  0  0  0  0  0  0  0  0\\n  1 28  1  0\\n  2  1  1  0\\n  3  2  2  0\\n  4  2  1  0\\n  4  5  2  0\\n  6  5  1  0\\n  6  7  1  0\\n  7  9  1  0\\n  8  7  2  0\\n  9 10  1  0\\n 10 11  1  0\\n 11 12  1  0\\n 12 13  1  0\\n 14 13  1  0\\n 15 14  1  0\\n 16 15  1  0\\n 16 17  2  0\\n 18 16  1  0\\n 19 18  2  0\\n 20 19  1  0\\n 21 23  1  0\\n 21 20  1  0\\n 22 21  2  0\\n 23 24  1  0\\n 24 25  1  0\\n 25 26  1  0\\n 26 27  1  0\\n 27 28  1  0\\n 29  4  1  0\\n 30 29  2  0\\n 30 31  1  0\\n 31  6  2  0\\n 32 34  1  0\\n 32 30  1  0\\n 33 32  1  0\\n 35 32  1  0\\n 36 18  1  0\\n 37 36  2  0\\n 38 37  1  0\\n 38 20  2  0\\n 39 40  1  0\\n 39 42  1  0\\n 39 37  1  0\\n 41 39  1  0\\nM  END\\n\",\"sdf\");\n",
       "\tviewer_14955390286154158.addModel(\"SCF Done:  E(RB97D) =  -1843.25094944     A.U. after    6 cycles\\n     RDKit          3D\\n\\n 42 44  0  0  0  0  0  0  0  0999 V2000\\n    4.7907    2.9813    3.0230 N   0  0  0  0  0  0  0  0  0  0  0  0\\n    5.1796    1.7023    3.3711 C   0  0  0  0  0  0  0  0  0  0  0  0\\n    6.3671    1.3891    3.4775 O   0  0  0  0  0  0  0  0  0  0  0  0\\n    4.0583    0.7203    3.6271 C   0  0  0  0  0  0  0  0  0  0  0  0\\n    2.7127    1.0978    3.7725 C   0  0  0  0  0  0  0  0  0  0  0  0\\n    1.7220    0.1252    3.9944 C   0  0  0  0  0  0  0  0  0  0  0  0\\n    0.2752    0.5068    4.1799 C   0  0  0  0  0  0  0  0  0  0  0  0\\n   -0.4460   -0.0445    5.0099 O   0  0  0  0  0  0  0  0  0  0  0  0\\n   -0.1891    1.5458    3.3846 N   0  0  0  0  0  0  0  0  0  0  0  0\\n    0.3122    1.9011    2.0466 C   0  0  0  0  0  0  0  0  0  0  0  0\\n   -0.8409    2.2723    1.1001 C   0  0  0  0  0  0  0  0  0  0  0  0\\n   -0.4006    2.3282   -0.3782 C   0  0  0  0  0  0  0  0  0  0  0  0\\n    0.8054    3.2444   -0.6754 C   0  0  0  0  0  0  0  0  0  0  0  0\\n    0.5845    4.7025   -0.2366 C   0  0  0  0  0  0  0  0  0  0  0  0\\n    1.6279    5.5742   -0.7690 N   0  0  0  0  0  0  0  0  0  0  0  0\\n    1.3610    6.7883   -1.3697 C   0  0  0  0  0  0  0  0  0  0  0  0\\n    0.2384    7.2958   -1.3690 O   0  0  0  0  0  0  0  0  0  0  0  0\\n    2.5421    7.4542   -2.0377 C   0  0  0  0  0  0  0  0  0  0  0  0\\n    3.6445    6.7331   -2.5243 C   0  0  0  0  0  0  0  0  0  0  0  0\\n    4.6993    7.3980   -3.1765 C   0  0  0  0  0  0  0  0  0  0  0  0\\n    5.8729    6.6619   -3.7761 C   0  0  0  0  0  0  0  0  0  0  0  0\\n    6.3706    7.0086   -4.8470 O   0  0  0  0  0  0  0  0  0  0  0  0\\n    6.3473    5.5498   -3.0925 N   0  0  0  0  0  0  0  0  0  0  0  0\\n    6.2500    5.2803   -1.6537 C   0  0  0  0  0  0  0  0  0  0  0  0\\n    5.4980    3.9754   -1.3066 C   0  0  0  0  0  0  0  0  0  0  0  0\\n    5.0542    3.9478    0.1689 C   0  0  0  0  0  0  0  0  0  0  0  0\\n    6.2250    3.8789    1.1677 C   0  0  0  0  0  0  0  0  0  0  0  0\\n    5.7686    3.9967    2.6363 C   0  0  0  0  0  0  0  0  0  0  0  0\\n    4.6225    8.7884   -3.3591 C   0  0  0  0  0  0  0  0  0  0  0  0\\n    3.5286    9.5406   -2.8819 C   0  0  0  0  0  0  0  0  0  0  0  0\\n    2.4938    8.8507   -2.2257 C   0  0  0  0  0  0  0  0  0  0  0  0\\n    3.5044   11.0613   -3.1115 C   0  0  0  0  0  0  0  0  0  0  0  0\\n    2.2436   11.7278   -2.5202 C   0  0  0  0  0  0  0  0  0  0  0  0\\n    4.7524   11.6985   -2.4463 C   0  0  0  0  0  0  0  0  0  0  0  0\\n    3.5382   11.3439   -4.6365 C   0  0  0  0  0  0  0  0  0  0  0  0\\n    2.0919   -1.2239    4.1133 C   0  0  0  0  0  0  0  0  0  0  0  0\\n    3.4339   -1.6354    3.9741 C   0  0  0  0  0  0  0  0  0  0  0  0\\n    4.4007   -0.6446    3.7261 C   0  0  0  0  0  0  0  0  0  0  0  0\\n    3.7839   -3.1274    4.1049 C   0  0  0  0  0  0  0  0  0  0  0  0\\n    2.9986   -3.9315    3.0357 C   0  0  0  0  0  0  0  0  0  0  0  0\\n    5.2906   -3.3995    3.9100 C   0  0  0  0  0  0  0  0  0  0  0  0\\n    3.3751   -3.6218    5.5173 C   0  0  0  0  0  0  0  0  0  0  0  0\\n  1  2  1  0\\n  2  4  1  0\\n  3  2  2  0\\n  4  5  1  0\\n  4 38  2  0\\n  5  6  2  0\\n  6  7  1  0\\n  6 36  1  0\\n  7  9  1  0\\n  8  7  2  0\\n  9 10  1  0\\n 10 11  1  0\\n 11 12  1  0\\n 13 12  1  0\\n 14 13  1  0\\n 15 16  1  0\\n 15 14  1  0\\n 16 17  2  0\\n 18 16  1  0\\n 18 19  1  0\\n 20 19  2  0\\n 20 21  1  0\\n 21 22  2  0\\n 23 21  1  0\\n 24 25  1  0\\n 24 23  1  0\\n 26 25  1  0\\n 27 26  1  0\\n 28  1  1  0\\n 28 27  1  0\\n 29 20  1  0\\n 30 31  1  0\\n 30 29  2  0\\n 31 18  2  0\\n 32 30  1  0\\n 32 35  1  0\\n 33 32  1  0\\n 34 32  1  0\\n 37 36  2  0\\n 37 39  1  0\\n 38 37  1  0\\n 39 40  1  0\\n 41 39  1  0\\n 42 39  1  0\\nM  END\\n\",\"sdf\");\n",
       "\tviewer_14955390286154158.addModel(\"SCF Done:  E(RB97D) =  -1843.25085223     A.U. after    6 cycles\\n     RDKit          3D\\n\\n 42 44  0  0  0  0  0  0  0  0999 V2000\\n    7.2412    1.1283    3.2002 N   0  0  0  0  0  0  0  0  0  0  0  0\\n    6.6011    0.5293    4.2775 C   0  0  0  0  0  0  0  0  0  0  0  0\\n    7.0810    0.5354    5.4092 O   0  0  0  0  0  0  0  0  0  0  0  0\\n    5.2453   -0.0605    3.9890 C   0  0  0  0  0  0  0  0  0  0  0  0\\n    4.2724    0.7048    3.3305 C   0  0  0  0  0  0  0  0  0  0  0  0\\n    2.9869    0.1746    3.1086 C   0  0  0  0  0  0  0  0  0  0  0  0\\n    1.9014    0.9406    2.3891 C   0  0  0  0  0  0  0  0  0  0  0  0\\n    0.9750    0.3798    1.8023 O   0  0  0  0  0  0  0  0  0  0  0  0\\n    2.0393    2.3147    2.4139 N   0  0  0  0  0  0  0  0  0  0  0  0\\n    1.0250    3.1989    1.8413 C   0  0  0  0  0  0  0  0  0  0  0  0\\n    1.6020    4.6052    1.6336 C   0  0  0  0  0  0  0  0  0  0  0  0\\n    0.5838    5.5997    1.0480 C   0  0  0  0  0  0  0  0  0  0  0  0\\n    0.0450    5.1701   -0.3340 C   0  0  0  0  0  0  0  0  0  0  0  0\\n   -0.5424    6.3652   -1.1204 C   0  0  0  0  0  0  0  0  0  0  0  0\\n   -0.6083    6.1559   -2.5713 N   0  0  0  0  0  0  0  0  0  0  0  0\\n    0.0840    6.8368   -3.5607 C   0  0  0  0  0  0  0  0  0  0  0  0\\n   -0.3093    6.8376   -4.7276 O   0  0  0  0  0  0  0  0  0  0  0  0\\n    1.3531    7.5540   -3.1610 C   0  0  0  0  0  0  0  0  0  0  0  0\\n    2.2756    7.0148   -2.2465 C   0  0  0  0  0  0  0  0  0  0  0  0\\n    3.4509    7.7128   -1.9260 C   0  0  0  0  0  0  0  0  0  0  0  0\\n    4.4497    7.1896   -0.9208 C   0  0  0  0  0  0  0  0  0  0  0  0\\n    5.2030    7.9303   -0.2876 O   0  0  0  0  0  0  0  0  0  0  0  0\\n    4.4465    5.8198   -0.7373 N   0  0  0  0  0  0  0  0  0  0  0  0\\n    5.4425    5.1824    0.1291 C   0  0  0  0  0  0  0  0  0  0  0  0\\n    5.3242    3.6554    0.0602 C   0  0  0  0  0  0  0  0  0  0  0  0\\n    6.3591    2.9497    0.9522 C   0  0  0  0  0  0  0  0  0  0  0  0\\n    6.2537    1.4216    0.8447 C   0  0  0  0  0  0  0  0  0  0  0  0\\n    7.1867    0.6461    1.8007 C   0  0  0  0  0  0  0  0  0  0  0  0\\n    3.6953    8.9671   -2.5204 C   0  0  0  0  0  0  0  0  0  0  0  0\\n    2.8097    9.5135   -3.4669 C   0  0  0  0  0  0  0  0  0  0  0  0\\n    1.6464    8.7795   -3.7822 C   0  0  0  0  0  0  0  0  0  0  0  0\\n    3.0579   10.8642   -4.1596 C   0  0  0  0  0  0  0  0  0  0  0  0\\n    1.8821   11.8250   -3.8423 C   0  0  0  0  0  0  0  0  0  0  0  0\\n    4.3699   11.5328   -3.6960 C   0  0  0  0  0  0  0  0  0  0  0  0\\n    3.1358   10.6434   -5.6930 C   0  0  0  0  0  0  0  0  0  0  0  0\\n    2.7061   -1.1341    3.5344 C   0  0  0  0  0  0  0  0  0  0  0  0\\n    3.6559   -1.9124    4.2294 C   0  0  0  0  0  0  0  0  0  0  0  0\\n    4.9228   -1.3464    4.4647 C   0  0  0  0  0  0  0  0  0  0  0  0\\n    3.2724   -3.3276    4.6945 C   0  0  0  0  0  0  0  0  0  0  0  0\\n    2.0496   -3.2376    5.6449 C   0  0  0  0  0  0  0  0  0  0  0  0\\n    4.4214   -4.0340    5.4456 C   0  0  0  0  0  0  0  0  0  0  0  0\\n    2.8951   -4.1836    3.4570 C   0  0  0  0  0  0  0  0  0  0  0  0\\n  2  1  1  0\\n  2  3  2  0\\n  4  2  1  0\\n  5  4  1  0\\n  6  5  2  0\\n  7  9  1  0\\n  7  6  1  0\\n  8  7  2  0\\n 10 11  1  0\\n 10  9  1  0\\n 12 11  1  0\\n 13 12  1  0\\n 14 13  1  0\\n 15 14  1  0\\n 15 16  1  0\\n 16 18  1  0\\n 17 16  2  0\\n 18 31  2  0\\n 18 19  1  0\\n 19 20  2  0\\n 20 29  1  0\\n 20 21  1  0\\n 21 22  2  0\\n 23 21  1  0\\n 23 24  1  0\\n 25 24  1  0\\n 25 26  1  0\\n 27 26  1  0\\n 27 28  1  0\\n 28  1  1  0\\n 30 32  1  0\\n 30 29  2  0\\n 31 30  1  0\\n 32 34  1  0\\n 33 32  1  0\\n 35 32  1  0\\n 36  6  1  0\\n 36 37  2  0\\n 37 38  1  0\\n 38  4  2  0\\n 39 37  1  0\\n 39 41  1  0\\n 40 39  1  0\\n 42 39  1  0\\nM  END\\n\",\"sdf\");\n",
       "\tviewer_14955390286154158.addModel(\"SCF Done:  E(RB97D) =  -1843.27200428     A.U. after    6 cycles\\n     RDKit          3D\\n\\n 42 44  0  0  0  0  0  0  0  0999 V2000\\n    5.5463    3.4778    0.6410 N   0  0  0  0  0  0  0  0  0  0  0  0\\n    5.3027    2.4161    1.4685 C   0  0  0  0  0  0  0  0  0  0  0  0\\n    6.1347    2.0290    2.2968 O   0  0  0  0  0  0  0  0  0  0  0  0\\n    3.9790    1.6952    1.2983 C   0  0  0  0  0  0  0  0  0  0  0  0\\n    3.0902    1.8967    0.2257 C   0  0  0  0  0  0  0  0  0  0  0  0\\n    1.9182    1.1285    0.1316 C   0  0  0  0  0  0  0  0  0  0  0  0\\n    0.9948    1.3964   -1.0244 C   0  0  0  0  0  0  0  0  0  0  0  0\\n    1.4299    1.6975   -2.1404 O   0  0  0  0  0  0  0  0  0  0  0  0\\n   -0.3676    1.2562   -0.8070 N   0  0  0  0  0  0  0  0  0  0  0  0\\n   -1.1040    1.5437    0.4357 C   0  0  0  0  0  0  0  0  0  0  0  0\\n   -1.3550    3.0484    0.6568 C   0  0  0  0  0  0  0  0  0  0  0  0\\n   -0.0794    3.8787    0.8921 C   0  0  0  0  0  0  0  0  0  0  0  0\\n    0.6550    3.5563    2.2070 C   0  0  0  0  0  0  0  0  0  0  0  0\\n    1.8798    4.4670    2.4480 C   0  0  0  0  0  0  0  0  0  0  0  0\\n    1.5099    5.8908    2.5077 N   0  0  0  0  0  0  0  0  0  0  0  0\\n    1.4073    6.7067    1.3939 C   0  0  0  0  0  0  0  0  0  0  0  0\\n    0.5873    7.6189    1.3147 O   0  0  0  0  0  0  0  0  0  0  0  0\\n    2.4378    6.4872    0.3069 C   0  0  0  0  0  0  0  0  0  0  0  0\\n    3.7643    6.8738    0.5452 C   0  0  0  0  0  0  0  0  0  0  0  0\\n    4.7080    6.8397   -0.5032 C   0  0  0  0  0  0  0  0  0  0  0  0\\n    6.1401    7.3102   -0.3660 C   0  0  0  0  0  0  0  0  0  0  0  0\\n    7.0131    6.9576   -1.1667 O   0  0  0  0  0  0  0  0  0  0  0  0\\n    6.4051    8.1427    0.6942 N   0  0  0  0  0  0  0  0  0  0  0  0\\n    7.7669    8.4099    1.1657 C   0  0  0  0  0  0  0  0  0  0  0  0\\n    8.2709    7.3986    2.2218 C   0  0  0  0  0  0  0  0  0  0  0  0\\n    8.3377    5.9421    1.7001 C   0  0  0  0  0  0  0  0  0  0  0  0\\n    6.9999    5.1648    1.8087 C   0  0  0  0  0  0  0  0  0  0  0  0\\n    6.8413    4.1613    0.6502 C   0  0  0  0  0  0  0  0  0  0  0  0\\n    4.3181    6.3136   -1.7476 C   0  0  0  0  0  0  0  0  0  0  0  0\\n    2.9983    5.8859   -2.0033 C   0  0  0  0  0  0  0  0  0  0  0  0\\n    2.0575    6.0165   -0.9638 C   0  0  0  0  0  0  0  0  0  0  0  0\\n    2.6422    5.3344   -3.3939 C   0  0  0  0  0  0  0  0  0  0  0  0\\n    2.9428    6.4236   -4.4579 C   0  0  0  0  0  0  0  0  0  0  0  0\\n    1.1560    4.9325   -3.5126 C   0  0  0  0  0  0  0  0  0  0  0  0\\n    3.5104    4.0811   -3.6840 C   0  0  0  0  0  0  0  0  0  0  0  0\\n    1.6625    0.1189    1.0815 C   0  0  0  0  0  0  0  0  0  0  0  0\\n    2.5244   -0.0936    2.1716 C   0  0  0  0  0  0  0  0  0  0  0  0\\n    3.6727    0.7156    2.2606 C   0  0  0  0  0  0  0  0  0  0  0  0\\n    2.2575   -1.1499    3.2562 C   0  0  0  0  0  0  0  0  0  0  0  0\\n    2.1384   -0.4353    4.6282 C   0  0  0  0  0  0  0  0  0  0  0  0\\n    3.4392   -2.1528    3.3034 C   0  0  0  0  0  0  0  0  0  0  0  0\\n    0.9547   -1.9395    3.0061 C   0  0  0  0  0  0  0  0  0  0  0  0\\n  1  2  1  0\\n  2  4  1  0\\n  3  2  2  0\\n  4  5  1  0\\n  5  6  2  0\\n  6  7  1  0\\n  7  9  1  0\\n  7  8  2  0\\n 10  9  1  0\\n 11 10  1  0\\n 12 11  1  0\\n 13 12  1  0\\n 14 13  1  0\\n 15 16  1  0\\n 15 14  1  0\\n 16 18  1  0\\n 17 16  2  0\\n 18 31  2  0\\n 19 20  2  0\\n 19 18  1  0\\n 20 29  1  0\\n 21 22  2  0\\n 21 20  1  0\\n 23 21  1  0\\n 24 23  1  0\\n 25 24  1  0\\n 25 26  1  0\\n 26 27  1  0\\n 27 28  1  0\\n 28  1  1  0\\n 29 30  2  0\\n 30 32  1  0\\n 31 30  1  0\\n 32 33  1  0\\n 32 34  1  0\\n 32 35  1  0\\n 36  6  1  0\\n 37 36  2  0\\n 38  4  2  0\\n 38 37  1  0\\n 39 37  1  0\\n 39 41  1  0\\n 39 42  1  0\\n 40 39  1  0\\nM  END\\n\",\"sdf\");\n",
       "\tviewer_14955390286154158.addModel(\"SCF Done:  E(RB97D) =  -1843.23625756     A.U. after    7 cycles\\n     RDKit          3D\\n\\n 42 44  0  0  0  0  0  0  0  0999 V2000\\n    5.7773    0.9800    1.4333 N   0  0  0  0  0  0  0  0  0  0  0  0\\n    5.4454   -0.3230    1.7987 C   0  0  0  0  0  0  0  0  0  0  0  0\\n    5.9817   -1.2903    1.2583 O   0  0  0  0  0  0  0  0  0  0  0  0\\n    4.3525   -0.5041    2.8176 C   0  0  0  0  0  0  0  0  0  0  0  0\\n    3.2219    0.3329    2.8395 C   0  0  0  0  0  0  0  0  0  0  0  0\\n    2.1521    0.0546    3.7057 C   0  0  0  0  0  0  0  0  0  0  0  0\\n    0.8956    0.8903    3.8060 C   0  0  0  0  0  0  0  0  0  0  0  0\\n    0.3300    1.0524    4.8897 O   0  0  0  0  0  0  0  0  0  0  0  0\\n    0.3756    1.4626    2.6586 N   0  0  0  0  0  0  0  0  0  0  0  0\\n    0.7352    1.2756    1.2508 C   0  0  0  0  0  0  0  0  0  0  0  0\\n    1.4757    2.4971    0.6647 C   0  0  0  0  0  0  0  0  0  0  0  0\\n    0.5525    3.6972    0.3869 C   0  0  0  0  0  0  0  0  0  0  0  0\\n    1.3510    5.0007    0.2006 C   0  0  0  0  0  0  0  0  0  0  0  0\\n    0.5463    6.1182   -0.4961 C   0  0  0  0  0  0  0  0  0  0  0  0\\n    0.3651    5.8645   -1.9276 N   0  0  0  0  0  0  0  0  0  0  0  0\\n    0.9243    6.4868   -3.0289 C   0  0  0  0  0  0  0  0  0  0  0  0\\n    0.5004    6.2446   -4.1611 O   0  0  0  0  0  0  0  0  0  0  0  0\\n    2.0464    7.4777   -2.8168 C   0  0  0  0  0  0  0  0  0  0  0  0\\n    3.0605    7.3350   -1.8509 C   0  0  0  0  0  0  0  0  0  0  0  0\\n    4.0612    8.3121   -1.7280 C   0  0  0  0  0  0  0  0  0  0  0  0\\n    5.0667    8.2725   -0.6090 C   0  0  0  0  0  0  0  0  0  0  0  0\\n    5.4073    9.2996   -0.0217 O   0  0  0  0  0  0  0  0  0  0  0  0\\n    5.5419    7.0259   -0.2075 N   0  0  0  0  0  0  0  0  0  0  0  0\\n    5.8830    5.9202   -1.1293 C   0  0  0  0  0  0  0  0  0  0  0  0\\n    6.6294    4.8216   -0.3543 C   0  0  0  0  0  0  0  0  0  0  0  0\\n    5.7422    4.0075    0.6122 C   0  0  0  0  0  0  0  0  0  0  0  0\\n    6.5813    3.2941    1.6941 C   0  0  0  0  0  0  0  0  0  0  0  0\\n    5.8688    2.1155    2.3780 C   0  0  0  0  0  0  0  0  0  0  0  0\\n    4.4079   -1.6161    3.6726 C   0  0  0  0  0  0  0  0  0  0  0  0\\n    3.3771   -1.8876    4.5959 C   0  0  0  0  0  0  0  0  0  0  0  0\\n    2.2597   -1.0344    4.5982 C   0  0  0  0  0  0  0  0  0  0  0  0\\n    3.5081   -3.0940    5.5413 C   0  0  0  0  0  0  0  0  0  0  0  0\\n    4.7817   -2.9231    6.4101 C   0  0  0  0  0  0  0  0  0  0  0  0\\n    3.6354   -4.3908    4.6998 C   0  0  0  0  0  0  0  0  0  0  0  0\\n    2.2941   -3.2419    6.4831 C   0  0  0  0  0  0  0  0  0  0  0  0\\n    2.0942    8.5776   -3.6924 C   0  0  0  0  0  0  0  0  0  0  0  0\\n    3.0836    9.5766   -3.5882 C   0  0  0  0  0  0  0  0  0  0  0  0\\n    4.0508    9.4361   -2.5777 C   0  0  0  0  0  0  0  0  0  0  0  0\\n    3.0514   10.7717   -4.5562 C   0  0  0  0  0  0  0  0  0  0  0  0\\n    3.1634   10.2525   -6.0134 C   0  0  0  0  0  0  0  0  0  0  0  0\\n    4.2034   11.7678   -4.3032 C   0  0  0  0  0  0  0  0  0  0  0  0\\n    1.7068   11.5266   -4.3859 C   0  0  0  0  0  0  0  0  0  0  0  0\\n  1 28  1  0\\n  1  2  1  0\\n  2  4  1  0\\n  3  2  2  0\\n  4 29  2  0\\n  4  5  1  0\\n  5  6  2  0\\n  6 31  1  0\\n  6  7  1  0\\n  7  9  1  0\\n  7  8  2  0\\n 10  9  1  0\\n 11 10  1  0\\n 11 12  1  0\\n 13 14  1  0\\n 13 12  1  0\\n 15 14  1  0\\n 16 17  2  0\\n 16 15  1  0\\n 18 16  1  0\\n 19 18  2  0\\n 20 19  1  0\\n 21 20  1  0\\n 22 21  2  0\\n 23 21  1  0\\n 24 23  1  0\\n 25 24  1  0\\n 25 26  1  0\\n 27 26  1  0\\n 27 28  1  0\\n 29 30  1  0\\n 30 32  1  0\\n 30 31  2  0\\n 32 35  1  0\\n 33 32  1  0\\n 34 32  1  0\\n 36 18  1  0\\n 37 36  2  0\\n 38 20  2  0\\n 38 37  1  0\\n 39 37  1  0\\n 39 42  1  0\\n 40 39  1  0\\n 41 39  1  0\\nM  END\\n\",\"sdf\");\n",
       "\tviewer_14955390286154158.addModel(\"SCF Done:  E(RB97D) =  -1843.25843450     A.U. after    6 cycles\\n     RDKit          3D\\n\\n 42 44  0  0  0  0  0  0  0  0999 V2000\\n    5.8504    2.3296    2.8592 N   0  0  0  0  0  0  0  0  0  0  0  0\\n    4.8803    2.0021    3.7834 C   0  0  0  0  0  0  0  0  0  0  0  0\\n    4.8942    2.4597    4.9285 O   0  0  0  0  0  0  0  0  0  0  0  0\\n    3.8033    1.0530    3.3108 C   0  0  0  0  0  0  0  0  0  0  0  0\\n    3.9107    0.2565    2.1535 C   0  0  0  0  0  0  0  0  0  0  0  0\\n    2.8456   -0.5705    1.7689 C   0  0  0  0  0  0  0  0  0  0  0  0\\n    2.8983   -1.4104    0.5136 C   0  0  0  0  0  0  0  0  0  0  0  0\\n    2.6339   -2.6104    0.5199 O   0  0  0  0  0  0  0  0  0  0  0  0\\n    3.2708   -0.7402   -0.6443 N   0  0  0  0  0  0  0  0  0  0  0  0\\n    3.0294    0.6973   -0.8689 C   0  0  0  0  0  0  0  0  0  0  0  0\\n    1.5363    1.1079   -0.8118 C   0  0  0  0  0  0  0  0  0  0  0  0\\n    1.3399    2.5944   -0.4485 C   0  0  0  0  0  0  0  0  0  0  0  0\\n    1.6527    2.8745    1.0347 C   0  0  0  0  0  0  0  0  0  0  0  0\\n    1.3487    4.3196    1.4703 C   0  0  0  0  0  0  0  0  0  0  0  0\\n    2.1192    5.3076    0.7138 N   0  0  0  0  0  0  0  0  0  0  0  0\\n    1.6039    5.9366   -0.4001 C   0  0  0  0  0  0  0  0  0  0  0  0\\n    0.4164    5.8395   -0.7205 O   0  0  0  0  0  0  0  0  0  0  0  0\\n    2.5798    6.7568   -1.2194 C   0  0  0  0  0  0  0  0  0  0  0  0\\n    3.9011    7.0366   -0.8296 C   0  0  0  0  0  0  0  0  0  0  0  0\\n    4.7449    7.7862   -1.6699 C   0  0  0  0  0  0  0  0  0  0  0  0\\n    6.1481    8.1565   -1.2669 C   0  0  0  0  0  0  0  0  0  0  0  0\\n    6.6184    9.2655   -1.5168 O   0  0  0  0  0  0  0  0  0  0  0  0\\n    6.8757    7.2172   -0.5390 N   0  0  0  0  0  0  0  0  0  0  0  0\\n    6.8439    5.7560   -0.7089 C   0  0  0  0  0  0  0  0  0  0  0  0\\n    7.1394    5.0289    0.6160 C   0  0  0  0  0  0  0  0  0  0  0  0\\n    6.0361    5.1942    1.6774 C   0  0  0  0  0  0  0  0  0  0  0  0\\n    6.4680    4.7539    3.0891 C   0  0  0  0  0  0  0  0  0  0  0  0\\n    6.9144    3.2801    3.1867 C   0  0  0  0  0  0  0  0  0  0  0  0\\n    4.2471    8.2861   -2.8843 C   0  0  0  0  0  0  0  0  0  0  0  0\\n    2.9272    8.0228   -3.3036 C   0  0  0  0  0  0  0  0  0  0  0  0\\n    2.1132    7.2511   -2.4560 C   0  0  0  0  0  0  0  0  0  0  0  0\\n    2.4327    8.5903   -4.6450 C   0  0  0  0  0  0  0  0  0  0  0  0\\n    0.9700    8.2014   -4.9479 C   0  0  0  0  0  0  0  0  0  0  0  0\\n    3.3291    8.0496   -5.7894 C   0  0  0  0  0  0  0  0  0  0  0  0\\n    2.5313   10.1379   -4.6068 C   0  0  0  0  0  0  0  0  0  0  0  0\\n    1.6845   -0.6331    2.5625 C   0  0  0  0  0  0  0  0  0  0  0  0\\n    1.5457    0.1574    3.7179 C   0  0  0  0  0  0  0  0  0  0  0  0\\n    2.6240    0.9921    4.0730 C   0  0  0  0  0  0  0  0  0  0  0  0\\n    0.2728    0.1640    4.5794 C   0  0  0  0  0  0  0  0  0  0  0  0\\n   -0.3211    1.5977    4.5853 C   0  0  0  0  0  0  0  0  0  0  0  0\\n    0.6330   -0.2463    6.0310 C   0  0  0  0  0  0  0  0  0  0  0  0\\n   -0.8040   -0.8069    4.0498 C   0  0  0  0  0  0  0  0  0  0  0  0\\n  1  2  1  0\\n  2  3  2  0\\n  2  4  1  0\\n  4 38  2  0\\n  5  6  2  0\\n  5  4  1  0\\n  6 36  1  0\\n  7  6  1  0\\n  8  7  2  0\\n  9  7  1  0\\n  9 10  1  0\\n 10 11  1  0\\n 11 12  1  0\\n 12 13  1  0\\n 13 14  1  0\\n 15 14  1  0\\n 15 16  1  0\\n 16 17  2  0\\n 18 31  1  0\\n 18 16  1  0\\n 19 18  2  0\\n 20 29  2  0\\n 20 19  1  0\\n 21 20  1  0\\n 22 21  2  0\\n 23 21  1  0\\n 24 23  1  0\\n 25 24  1  0\\n 25 26  1  0\\n 27 26  1  0\\n 28  1  1  0\\n 28 27  1  0\\n 29 30  1  0\\n 30 32  1  0\\n 30 31  2  0\\n 32 35  1  0\\n 32 33  1  0\\n 34 32  1  0\\n 36 37  2  0\\n 37 39  1  0\\n 38 37  1  0\\n 39 42  1  0\\n 39 40  1  0\\n 41 39  1  0\\nM  END\\n\",\"sdf\");\n",
       "\tviewer_14955390286154158.addModel(\"SCF Done:  E(RB97D) =  -1843.26248750     A.U. after    7 cycles\\n     RDKit          3D\\n\\n 42 44  0  0  0  0  0  0  0  0999 V2000\\n    4.9456    2.9987    0.1391 N   0  0  0  0  0  0  0  0  0  0  0  0\\n    5.1834    2.0553    1.1122 C   0  0  0  0  0  0  0  0  0  0  0  0\\n    6.3181    1.7573    1.4931 O   0  0  0  0  0  0  0  0  0  0  0  0\\n    3.9451    1.3874    1.6704 C   0  0  0  0  0  0  0  0  0  0  0  0\\n    2.6961    2.0276    1.7240 C   0  0  0  0  0  0  0  0  0  0  0  0\\n    1.5580    1.3298    2.1727 C   0  0  0  0  0  0  0  0  0  0  0  0\\n    0.1727    1.9311    2.1655 C   0  0  0  0  0  0  0  0  0  0  0  0\\n   -0.8344    1.2504    1.9552 O   0  0  0  0  0  0  0  0  0  0  0  0\\n    0.1054    3.2889    2.3827 N   0  0  0  0  0  0  0  0  0  0  0  0\\n   -1.1773    4.0002    2.3531 C   0  0  0  0  0  0  0  0  0  0  0  0\\n   -1.6956    4.2711    0.9222 C   0  0  0  0  0  0  0  0  0  0  0  0\\n   -0.8484    5.2986    0.1144 C   0  0  0  0  0  0  0  0  0  0  0  0\\n   -0.2034    4.7548   -1.1789 C   0  0  0  0  0  0  0  0  0  0  0  0\\n    0.6563    3.5017   -0.8932 C   0  0  0  0  0  0  0  0  0  0  0  0\\n    1.7672    3.2624   -1.8255 N   0  0  0  0  0  0  0  0  0  0  0  0\\n    2.7878    4.0815   -2.2652 C   0  0  0  0  0  0  0  0  0  0  0  0\\n    3.4824    3.7239   -3.2241 O   0  0  0  0  0  0  0  0  0  0  0  0\\n    3.1225    5.3710   -1.5449 C   0  0  0  0  0  0  0  0  0  0  0  0\\n    3.8513    6.3127   -2.2943 C   0  0  0  0  0  0  0  0  0  0  0  0\\n    4.3761    7.4547   -1.6756 C   0  0  0  0  0  0  0  0  0  0  0  0\\n    5.2358    8.3881   -2.4977 C   0  0  0  0  0  0  0  0  0  0  0  0\\n    4.8293    8.9122   -3.5316 O   0  0  0  0  0  0  0  0  0  0  0  0\\n    6.5079    8.6095   -1.9982 N   0  0  0  0  0  0  0  0  0  0  0  0\\n    7.2286    7.6897   -1.0996 C   0  0  0  0  0  0  0  0  0  0  0  0\\n    7.5339    6.3048   -1.7121 C   0  0  0  0  0  0  0  0  0  0  0  0\\n    7.9629    5.2956   -0.6230 C   0  0  0  0  0  0  0  0  0  0  0  0\\n    6.7689    4.7149    0.1692 C   0  0  0  0  0  0  0  0  0  0  0  0\\n    6.0477    3.6032   -0.6187 C   0  0  0  0  0  0  0  0  0  0  0  0\\n    4.0628    0.0622    2.1330 C   0  0  0  0  0  0  0  0  0  0  0  0\\n    2.9429   -0.6608    2.5833 C   0  0  0  0  0  0  0  0  0  0  0  0\\n    1.6913   -0.0116    2.5691 C   0  0  0  0  0  0  0  0  0  0  0  0\\n    3.0315   -2.1178    3.0686 C   0  0  0  0  0  0  0  0  0  0  0  0\\n    2.5212   -2.1977    4.5312 C   0  0  0  0  0  0  0  0  0  0  0  0\\n    4.4732   -2.6673    3.0245 C   0  0  0  0  0  0  0  0  0  0  0  0\\n    2.1382   -3.0104    2.1675 C   0  0  0  0  0  0  0  0  0  0  0  0\\n    2.9095    5.6129   -0.1704 C   0  0  0  0  0  0  0  0  0  0  0  0\\n    3.4116    6.7605    0.4699 C   0  0  0  0  0  0  0  0  0  0  0  0\\n    4.1425    7.6773   -0.3096 C   0  0  0  0  0  0  0  0  0  0  0  0\\n    3.2465    7.0257    1.9762 C   0  0  0  0  0  0  0  0  0  0  0  0\\n    2.4840    8.3604    2.1789 C   0  0  0  0  0  0  0  0  0  0  0  0\\n    4.6475    7.1233    2.6358 C   0  0  0  0  0  0  0  0  0  0  0  0\\n    2.4624    5.9090    2.6982 C   0  0  0  0  0  0  0  0  0  0  0  0\\n  1  2  1  0\\n  2  3  2  0\\n  2  4  1  0\\n  4  5  1  0\\n  4 29  2  0\\n  5  6  2  0\\n  6  7  1  0\\n  6 31  1  0\\n  7  8  2  0\\n  9 10  1  0\\n  9  7  1  0\\n 11 10  1  0\\n 12 11  1  0\\n 13 14  1  0\\n 13 12  1  0\\n 15 14  1  0\\n 16 18  1  0\\n 16 15  1  0\\n 17 16  2  0\\n 18 36  2  0\\n 19 18  1  0\\n 20 19  2  0\\n 20 38  1  0\\n 21 20  1  0\\n 22 21  2  0\\n 23 21  1  0\\n 23 24  1  0\\n 25 24  1  0\\n 25 26  1  0\\n 26 27  1  0\\n 28 27  1  0\\n 28  1  1  0\\n 29 30  1  0\\n 30 31  2  0\\n 30 32  1  0\\n 32 33  1  0\\n 34 32  1  0\\n 35 32  1  0\\n 37 36  1  0\\n 37 39  1  0\\n 38 37  2  0\\n 39 41  1  0\\n 39 42  1  0\\n 40 39  1  0\\nM  END\\n\",\"sdf\");\n",
       "\tviewer_14955390286154158.setStyle({\"stick\": {\"radius\": \"0.15\"}});\n",
       "\tviewer_14955390286154158.setBackgroundColor(\"0xeeeeee\");\n",
       "\tviewer_14955390286154158.zoomTo();\n",
       "viewer_14955390286154158.render();\n",
       "});\n",
       "</script><script>$(\"#b97d_631gd\").append($(\"#3dmolviewer_14955390286154158\")); </script>"
      ],
      "text/plain": [
       "<IPython.core.display.HTML object>"
      ]
     },
     "execution_count": 20,
     "metadata": {},
     "output_type": "execute_result"
    }
   ],
   "source": [
    "for key, mol in mol_gaussian_b97d_631gd.items():\n",
    "    core_mol = mol.GetSubstructMatch(Chem.MolFromSmiles(core_smiles))\n",
    "    AllChem.AlignMol(mol,m13_crystal,atomMap=list(zip(core_mol,core_m13))) \n",
    "    \n",
    "p2 = py3Dmol.view(width=400,height=400)\n",
    "for key, mol in mol_gaussian_b97d_631gd.items():\n",
    "    mb = Chem.MolToMolBlock(mol)\n",
    "    p2.addModel(mb,'sdf')\n",
    "p2.setStyle({'stick':{'radius':'0.15'}})\n",
    "p2.setBackgroundColor('0xeeeeee')\n",
    "p2.zoomTo()\n",
    "p2.insert(\"b97d_631gd\")    "
   ]
  },
  {
   "cell_type": "markdown",
   "metadata": {
    "deletable": true,
    "editable": true
   },
   "source": [
    "We will work with conformers optimized with B97D/6-31G(d) model."
   ]
  },
  {
   "cell_type": "code",
   "execution_count": 21,
   "metadata": {
    "collapsed": true,
    "deletable": true,
    "editable": true
   },
   "outputs": [],
   "source": [
    "# write selected conformers to file:\n",
    "with open(\"/home/gosia/work/work_on_gitlab/icho/calcs/m13/gaussian_results/list_selected_conformers_b97d_631gd\", \"w\") as f:\n",
    "    for key, mol in mol_gaussian_b97d_631gd.items():\n",
    "        f.write(key+\"\\n\")"
   ]
  },
  {
   "cell_type": "markdown",
   "metadata": {
    "deletable": true,
    "editable": true
   },
   "source": [
    "#### The evaluation of model deficiencies - MP2 calculations and basis set effects"
   ]
  },
  {
   "cell_type": "markdown",
   "metadata": {
    "deletable": true,
    "editable": true
   },
   "source": [
    "Additional calculations were performed for the conformer of the lowest energy - **\"m13_b_sdf_3\"**. \n",
    "\n",
    "For **\"m13_b_sdf_3\"** we have additionally done (starting with \"b97d_631gd\" geometry):\n",
    "\n",
    "* DFT calculations (PBE, B97D) with cc-pVTZ basis set\n",
    "* MP2 calculations with 6-31GD and cc-pVTZ basis sets\n",
    "\n",
    "Results (energies) are presented in the table below and the aligned structures are shown on the picture below:"
   ]
  },
  {
   "cell_type": "markdown",
   "metadata": {
    "deletable": true,
    "editable": true
   },
   "source": [
    "| method | basis set | energy | color |\n",
    "|--------|-----------|--------|-------|\n",
    "| PBE  | 6-31G(d)    |  | \n",
    "| PBE  | cc-pVDZ     | energy |\n",
    "| PBE  | cc-pVTZ     | energy |\n",
    "| B97D | 6-31G(d)    |  |\n",
    "| B97D | cc-pVDZ     |  |\n",
    "| B97D | cc-pVTZ     |  |\n",
    "| MP2  | 6-31G(d)    |  |\n",
    "| MP2  | cc-pVDZ     | running |\n",
    "| MP2  | cc-pVTZ     | running |"
   ]
  },
  {
   "cell_type": "code",
   "execution_count": 22,
   "metadata": {
    "collapsed": true,
    "deletable": true,
    "editable": true
   },
   "outputs": [],
   "source": [
    "key=\"m13_b_sdf_3\"\n",
    "geomdir=\"/home/gosia/work/work_on_gitlab/icho/calcs/m13/gaussian_results/optimized_geometries_frequencies_from_outputs/\"\n",
    "geoms_lowest_energy = [\n",
    "    geomdir+key+\"_gaussian_optimized_geometry_pbe_631gd.sdf\",\n",
    "    geomdir+key+\"_gaussian_optimized_geometry_pbe_ccpvdz.sdf\",\n",
    "    geomdir+key+\"_gaussian_optimized_geometry_pbe_ccpvtz.sdf\",    \n",
    "    geomdir+key+\"_gaussian_optimized_geometry_b97d_631gd.sdf\",\n",
    "    geomdir+key+\"_gaussian_optimized_geometry_b97d_ccpvdz.sdf\",\n",
    "    geomdir+key+\"_gaussian_optimized_geometry_b97d_ccpvtz.sdf\",    \n",
    "    geomdir+key+\"_gaussian_optimized_geometry_mp2_631gd.sdf\",\n",
    "    geomdir+key+\"_gaussian_optimized_geometry_mp2_ccpvdz.sdf\",\n",
    "    geomdir+key+\"_gaussian_optimized_geometry_mp2_ccpvtz.sdf\"\n",
    "]"
   ]
  },
  {
   "cell_type": "markdown",
   "metadata": {
    "deletable": true,
    "editable": true
   },
   "source": [
    "#### Gibbs free energy corrections"
   ]
  },
  {
   "cell_type": "markdown",
   "metadata": {
    "deletable": true,
    "editable": true
   },
   "source": [
    "Calculated for the selected conformers with **B97D/6-31G(d)** model - only for local minima."
   ]
  },
  {
   "cell_type": "code",
   "execution_count": 23,
   "metadata": {
    "collapsed": false,
    "deletable": true,
    "editable": true
   },
   "outputs": [
    {
     "data": {
      "text/html": [
       "<div>\n",
       "<table border=\"1\" class=\"dataframe\">\n",
       "  <thead>\n",
       "    <tr style=\"text-align: right;\">\n",
       "      <th></th>\n",
       "      <th>#Mol</th>\n",
       "      <th>E1-E1(min)[kcal/mol]</th>\n",
       "      <th>E2-E2(min)[kcal/mol]</th>\n",
       "      <th>E3-E3(min)[kcal/mol]</th>\n",
       "      <th>E4-E4(min)[kcal/mol]</th>\n",
       "      <th>Boltzmann_weight</th>\n",
       "      <th>Mol_fraction</th>\n",
       "    </tr>\n",
       "  </thead>\n",
       "  <tbody>\n",
       "    <tr>\n",
       "      <th>0</th>\n",
       "      <td>m13_b_sdf_2</td>\n",
       "      <td>0.000000</td>\n",
       "      <td>0.000000</td>\n",
       "      <td>0.000000</td>\n",
       "      <td>0.000000</td>\n",
       "      <td>1.000000</td>\n",
       "      <td>0.100005</td>\n",
       "    </tr>\n",
       "    <tr>\n",
       "      <th>1</th>\n",
       "      <td>m13_rdkit_smi_193</td>\n",
       "      <td>0.747364</td>\n",
       "      <td>0.230923</td>\n",
       "      <td>0.230923</td>\n",
       "      <td>2.232051</td>\n",
       "      <td>0.999985</td>\n",
       "      <td>0.100004</td>\n",
       "    </tr>\n",
       "    <tr>\n",
       "      <th>2</th>\n",
       "      <td>m13_rdkit_smi_122</td>\n",
       "      <td>5.729788</td>\n",
       "      <td>5.601776</td>\n",
       "      <td>5.601776</td>\n",
       "      <td>5.764301</td>\n",
       "      <td>0.999962</td>\n",
       "      <td>0.100001</td>\n",
       "    </tr>\n",
       "    <tr>\n",
       "      <th>3</th>\n",
       "      <td>m13_rdkit_sdf_103</td>\n",
       "      <td>6.267564</td>\n",
       "      <td>6.047308</td>\n",
       "      <td>6.047308</td>\n",
       "      <td>7.277854</td>\n",
       "      <td>0.999952</td>\n",
       "      <td>0.100000</td>\n",
       "    </tr>\n",
       "    <tr>\n",
       "      <th>4</th>\n",
       "      <td>m13_b_sdf_116</td>\n",
       "      <td>7.430339</td>\n",
       "      <td>7.809354</td>\n",
       "      <td>7.809354</td>\n",
       "      <td>5.309357</td>\n",
       "      <td>0.999965</td>\n",
       "      <td>0.100001</td>\n",
       "    </tr>\n",
       "    <tr>\n",
       "      <th>5</th>\n",
       "      <td>m13_rdkit_smi_59</td>\n",
       "      <td>7.667537</td>\n",
       "      <td>7.725268</td>\n",
       "      <td>7.725896</td>\n",
       "      <td>6.076801</td>\n",
       "      <td>0.999960</td>\n",
       "      <td>0.100001</td>\n",
       "    </tr>\n",
       "    <tr>\n",
       "      <th>6</th>\n",
       "      <td>m13_rdkit_smi_133</td>\n",
       "      <td>7.961839</td>\n",
       "      <td>7.845122</td>\n",
       "      <td>7.845750</td>\n",
       "      <td>7.512542</td>\n",
       "      <td>0.999950</td>\n",
       "      <td>0.100000</td>\n",
       "    </tr>\n",
       "    <tr>\n",
       "      <th>7</th>\n",
       "      <td>m13_rdkit_smi_148</td>\n",
       "      <td>12.252121</td>\n",
       "      <td>12.594113</td>\n",
       "      <td>12.594741</td>\n",
       "      <td>10.110431</td>\n",
       "      <td>0.999933</td>\n",
       "      <td>0.099998</td>\n",
       "    </tr>\n",
       "    <tr>\n",
       "      <th>8</th>\n",
       "      <td>m13_rdkit_smi_180</td>\n",
       "      <td>12.812487</td>\n",
       "      <td>12.898456</td>\n",
       "      <td>12.899083</td>\n",
       "      <td>10.972002</td>\n",
       "      <td>0.999927</td>\n",
       "      <td>0.099998</td>\n",
       "    </tr>\n",
       "    <tr>\n",
       "      <th>9</th>\n",
       "      <td>m13_rdkit_sdf_43</td>\n",
       "      <td>22.004872</td>\n",
       "      <td>22.095233</td>\n",
       "      <td>22.095233</td>\n",
       "      <td>20.266671</td>\n",
       "      <td>0.999865</td>\n",
       "      <td>0.099992</td>\n",
       "    </tr>\n",
       "  </tbody>\n",
       "</table>\n",
       "</div>"
      ],
      "text/plain": [
       "                #Mol  E1-E1(min)[kcal/mol]  E2-E2(min)[kcal/mol]  \\\n",
       "0        m13_b_sdf_2              0.000000              0.000000   \n",
       "1  m13_rdkit_smi_193              0.747364              0.230923   \n",
       "2  m13_rdkit_smi_122              5.729788              5.601776   \n",
       "3  m13_rdkit_sdf_103              6.267564              6.047308   \n",
       "4      m13_b_sdf_116              7.430339              7.809354   \n",
       "5   m13_rdkit_smi_59              7.667537              7.725268   \n",
       "6  m13_rdkit_smi_133              7.961839              7.845122   \n",
       "7  m13_rdkit_smi_148             12.252121             12.594113   \n",
       "8  m13_rdkit_smi_180             12.812487             12.898456   \n",
       "9   m13_rdkit_sdf_43             22.004872             22.095233   \n",
       "\n",
       "   E3-E3(min)[kcal/mol]  E4-E4(min)[kcal/mol]  Boltzmann_weight  Mol_fraction  \n",
       "0              0.000000              0.000000          1.000000      0.100005  \n",
       "1              0.230923              2.232051          0.999985      0.100004  \n",
       "2              5.601776              5.764301          0.999962      0.100001  \n",
       "3              6.047308              7.277854          0.999952      0.100000  \n",
       "4              7.809354              5.309357          0.999965      0.100001  \n",
       "5              7.725896              6.076801          0.999960      0.100001  \n",
       "6              7.845750              7.512542          0.999950      0.100000  \n",
       "7             12.594741             10.110431          0.999933      0.099998  \n",
       "8             12.899083             10.972002          0.999927      0.099998  \n",
       "9             22.095233             20.266671          0.999865      0.099992  "
      ]
     },
     "execution_count": 23,
     "metadata": {},
     "output_type": "execute_result"
    }
   ],
   "source": [
    "final_results = \"/home/gosia/work/work_on_gitlab/icho/calcs/m13/gaussian_results/FINAL_RESULTS_selected_conformers_thermochemistry_b97d_631gd.csv\"\n",
    "final_data    = pd.read_csv(final_results, \n",
    "                            skiprows=18, \n",
    "                            usecols=[0,5,6,7,8,9,10],\n",
    "                            delimiter=r\"\\s+\")\n",
    "final_data"
   ]
  },
  {
   "cell_type": "code",
   "execution_count": 24,
   "metadata": {
    "collapsed": true,
    "deletable": true,
    "editable": true
   },
   "outputs": [],
   "source": [
    "def plot_line(data, xmin, xmax):\n",
    "    for i, v in enumerate(data):\n",
    "        if i == 0:\n",
    "            ax.hlines(v, xmin, xmax, linestyle='-', color='r', linewidth=1.5)\n",
    "        else:\n",
    "            ax.hlines(v, xmin, xmax, linestyle='-', linewidth=1)\n",
    "\n",
    "\n",
    "def set_style():\n",
    "    sns.set_context(\"paper\")\n",
    "    sns.set(font='serif')\n",
    "    sns.set_style(\"white\", {\n",
    "        \"font.family\": \"serif\",\n",
    "        \"font.serif\": [\"Times\", \"Palatino\", \"serif\"]\n",
    "    })"
   ]
  },
  {
   "cell_type": "code",
   "execution_count": 25,
   "metadata": {
    "collapsed": false,
    "deletable": true,
    "editable": true
   },
   "outputs": [
    {
     "data": {
      "text/plain": [
       "<matplotlib.text.Text at 0x7f1d5b978dd8>"
      ]
     },
     "execution_count": 25,
     "metadata": {},
     "output_type": "execute_result"
    },
    {
     "data": {
      "image/png": "[encoded data removed]",
      "text/plain": [
       "<matplotlib.figure.Figure at 0x7f1d5ed01b70>"
      ]
     },
     "metadata": {},
     "output_type": "display_data"
    }
   ],
   "source": [
    "set_style()\n",
    "fig, ax = plt.subplots()\n",
    "\n",
    "ax.set_title(\"Relative energies of selected conformers of m13, B97D/631(G)d calculations\", fontsize=14)\n",
    "ax.set_ylabel(\"Relative energies [kcal/mol]\", fontsize=12)\n",
    "ax.set_xticks([0.0, 1.5, 3.0, 4.5])\n",
    "ax.set_xticklabels([\"E1\", \"E2\", \"E3\", \"E4\"], fontsize=12)\n",
    "\n",
    "plot_line(final_data[\"E1-E1(min)[kcal/mol]\"], -0.5, 0.5)\n",
    "plot_line(final_data[\"E2-E2(min)[kcal/mol]\"],  1.0, 2.0)\n",
    "plot_line(final_data[\"E3-E3(min)[kcal/mol]\"],  2.5, 3.5)\n",
    "plot_line(final_data[\"E4-E4(min)[kcal/mol]\"],  4.0, 5.0)\n",
    "\n",
    "ax.text(6, 0,\n",
    "\"E1 = Sum of electronic and zero-point Energies\\n\\\n",
    "E2 = Sum of electronic and thermal Energies\\n\\\n",
    "E3 = Sum of electronic and thermal Enthalpies\\n\\\n",
    "E4 = Sum of electronic and thermal Free Energies\")"
   ]
  },
  {
   "cell_type": "markdown",
   "metadata": {
    "deletable": true,
    "editable": true
   },
   "source": []
  }
 ],
 "metadata": {
  "kernelspec": {
   "display_name": "Python 3",
   "language": "python",
   "name": "python3"
  },
  "language_info": {
   "codemirror_mode": {
    "name": "ipython",
    "version": 3
   },
   "file_extension": ".py",
   "mimetype": "text/x-python",
   "name": "python",
   "nbconvert_exporter": "python",
   "pygments_lexer": "ipython3",
   "version": "3.5.3"
  }
 },
 "nbformat": 4,
 "nbformat_minor": 2
}
