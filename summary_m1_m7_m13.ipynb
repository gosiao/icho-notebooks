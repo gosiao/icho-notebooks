{
 "cells": [
  {
   "cell_type": "markdown",
   "metadata": {
    "deletable": true,
    "editable": true
   },
   "source": [
    "# Summary - \"M1\", \"M7\", \"M13\" macrocycles"
   ]
  },
  {
   "cell_type": "markdown",
   "metadata": {},
   "source": [
    "In this notebook we summarize the analysis of conformers of the selected macrocycles and their complexes."
   ]
  },
  {
   "cell_type": "code",
   "execution_count": 51,
   "metadata": {
    "collapsed": false,
    "deletable": true,
    "editable": true
   },
   "outputs": [
    {
     "data": {
      "text/html": [
       "<script>\n",
       "code_show=true; \n",
       "function code_toggle() {\n",
       " if (code_show){\n",
       " $('div.input').hide();\n",
       " } else {\n",
       " $('div.input').show();\n",
       " }\n",
       " code_show = !code_show\n",
       "}\n",
       "$( document ).ready(code_toggle);\n",
       "</script>\n",
       "<form action=\"javascript:code_toggle()\"><input type=\"submit\" value=\"Click here to toggle on/off the raw code.\"></form>"
      ],
      "text/plain": [
       "<IPython.core.display.HTML object>"
      ]
     },
     "execution_count": 51,
     "metadata": {},
     "output_type": "execute_result"
    }
   ],
   "source": [
    "from IPython.display import HTML\n",
    "\n",
    "HTML('''<script>\n",
    "code_show=true; \n",
    "function code_toggle() {\n",
    " if (code_show){\n",
    " $('div.input').hide();\n",
    " } else {\n",
    " $('div.input').show();\n",
    " }\n",
    " code_show = !code_show\n",
    "}\n",
    "$( document ).ready(code_toggle);\n",
    "</script>\n",
    "<form action=\"javascript:code_toggle()\"><input type=\"submit\" value=\"Click here to toggle on/off the raw code.\"></form>''')"
   ]
  },
  {
   "cell_type": "code",
   "execution_count": 21,
   "metadata": {
    "collapsed": false,
    "deletable": true,
    "editable": true
   },
   "outputs": [
    {
     "name": "stdout",
     "output_type": "stream",
     "text": [
      "2016.09.4\n",
      "Tue May 23 13:58:23 2017\n"
     ]
    }
   ],
   "source": [
    "import glob\n",
    "import py3Dmol\n",
    "\n",
    "import matplotlib\n",
    "import matplotlib.pyplot as plt\n",
    "import seaborn as sns\n",
    "import pandas as pd\n",
    "import numpy as np\n",
    "%matplotlib inline \n",
    "\n",
    "from graphviz import Digraph\n",
    "import pydot\n",
    "\n",
    "from rdkit import Chem\n",
    "from rdkit.Chem import AllChem\n",
    "from rdkit.Chem import Draw\n",
    "from rdkit.Chem import rdMolAlign\n",
    "from rdkit.Chem.Draw import IPythonConsole\n",
    "from rdkit import rdBase\n",
    "print(rdBase.rdkitVersion)\n",
    "import os,time\n",
    "print( time.asctime())"
   ]
  },
  {
   "cell_type": "code",
   "execution_count": 36,
   "metadata": {
    "collapsed": true,
    "deletable": true,
    "editable": true
   },
   "outputs": [],
   "source": [
    "def get_moldict_from_inplist_mm(inplist):\n",
    "    moldict = {}\n",
    "    for i, inp in enumerate(inplist):\n",
    "        mol = Chem.MolFromMolFile(inp)\n",
    "        name = os.path.basename(os.path.splitext(inp)[0])\n",
    "        moldict[name] = mol\n",
    "    return moldict\n",
    "\n",
    "def get_moldict_from_inplist(inplist):\n",
    "    moldict = {}\n",
    "    for i, inp in enumerate(inplist):\n",
    "        mol = Chem.MolFromMolFile(inp)\n",
    "        name = os.path.basename(os.path.splitext(inp)[0]).rsplit(\"_\", 5)[0]\n",
    "        model = \"_\".join(os.path.basename(os.path.splitext(inp)[0]).rsplit(\"_\", 2)[1:])\n",
    "        moldict[name] = mol\n",
    "    return moldict"
   ]
  },
  {
   "cell_type": "markdown",
   "metadata": {
    "deletable": true,
    "editable": true
   },
   "source": [
    "## Isolated macrocycles "
   ]
  },
  {
   "cell_type": "markdown",
   "metadata": {
    "deletable": true,
    "editable": true
   },
   "source": [
    "### The number of conformers"
   ]
  },
  {
   "cell_type": "code",
   "execution_count": 91,
   "metadata": {
    "collapsed": false,
    "deletable": true,
    "editable": true
   },
   "outputs": [],
   "source": [
    "def get_moldata_mm(dirname):\n",
    "    \n",
    "    list_mm = os.path.join(dirname, 'list_selected_conformers_from_ballon_rdkit')\n",
    "    \n",
    "    inps_mm   = []\n",
    "    inps_mm_b = []\n",
    "    inps_mm_r = []\n",
    "    \n",
    "    with open(list_mm, \"r\") as f:\n",
    "        \n",
    "        lines = f.readlines()\n",
    "        \n",
    "        dirs_b  = [\"balloon/results_starting_from_crystalsdf/\", \n",
    "                   \"balloon/results_starting_from_crystalsmiles/\"]\n",
    "        \n",
    "        dirs_r  = [\"rdkit/results_crystal_from_sdf/\",\n",
    "                   \"rdkit/results_crystal_from_smiles/\"]        \n",
    "               \n",
    "        for line in lines:    \n",
    "            for d in dirs_b:\n",
    "                name = os.path.join(dirname, d, line.strip()+'.sdf')\n",
    "                if os.path.isfile(name):\n",
    "                    inps_mm_b.append(name)\n",
    "            for d in dirs_r:\n",
    "                name = os.path.join(dirname, d, line.strip()+'.sdf')\n",
    "                if os.path.isfile(name):\n",
    "                    inps_mm_r.append(name)\n",
    "\n",
    "    inps_mm = inps_mm_b + inps_mm_r        \n",
    "    mol_mm  = get_moldict_from_inplist_mm(inps_mm)\n",
    "    \n",
    "    return list_mm, inps_mm, mol_mm, inps_mm_b, inps_mm_r\n",
    "\n",
    "\n",
    "def get_moldata_dft(dirname):\n",
    "    \n",
    "    list_dft = os.path.join(dirname, 'gaussian_results/list_selected_conformers_b97d_631gd')\n",
    "    inps_dft = []\n",
    "    \n",
    "    with open(list_dft, \"r\") as f:\n",
    "        lines = f.readlines()\n",
    "        for line in lines:\n",
    "            name = os.path.join(dirname,\n",
    "                                'gaussian_results/optimized_geometries_frequencies_from_outputs',\n",
    "                                line.strip()+'_gaussian_optimized_geometry_b97d_631gd.sdf')\n",
    "            inps_dft.append(name)\n",
    "\n",
    "    mol_dft = get_moldict_from_inplist(inps_dft)\n",
    "    \n",
    "    return list_dft, inps_dft, mol_dft\n",
    "\n",
    "list_m1_mm, inps_m1_mm, mol_m1_mm, inps_m1_mm_b, inps_m1_mm_r      = get_moldata_mm('/home/gosia/work/work_on_gitlab/icho/calcs/m1')\n",
    "list_m7_mm, inps_m7_mm, mol_m7_mm, inps_m7_mm_b, inps_m7_mm_r      = get_moldata_mm('/home/gosia/work/work_on_gitlab/icho/calcs/m7')\n",
    "list_m13_mm, inps_m13_mm, mol_m13_mm, inps_m13_mm_b, inps_m13_mm_r = get_moldata_mm('/home/gosia/work/work_on_gitlab/icho/calcs/m13')\n",
    "\n",
    "list_m1_dft, inps_m1_dft, mol_m1_dft    = get_moldata_dft('/home/gosia/work/work_on_gitlab/icho/calcs/m1')\n",
    "list_m7_dft, inps_m7_dft, mol_m7_dft    = get_moldata_dft('/home/gosia/work/work_on_gitlab/icho/calcs/m7')\n",
    "list_m13_dft, inps_m13_dft, mol_m13_dft = get_moldata_dft('/home/gosia/work/work_on_gitlab/icho/calcs/m13')\n"
   ]
  },
  {
   "cell_type": "code",
   "execution_count": 93,
   "metadata": {
    "collapsed": false
   },
   "outputs": [
    {
     "name": "stdout",
     "output_type": "stream",
     "text": [
      "The number of conformers generated (gen), selected after the pre-optimization with molecular mechanics (MM), and refined with the density functional theory (DFT)\n"
     ]
    },
    {
     "data": {
      "text/html": [
       "<div>\n",
       "<table border=\"1\" class=\"dataframe\">\n",
       "  <thead>\n",
       "    <tr style=\"text-align: right;\">\n",
       "      <th></th>\n",
       "      <th>MM</th>\n",
       "      <th>DFT</th>\n",
       "    </tr>\n",
       "  </thead>\n",
       "  <tbody>\n",
       "    <tr>\n",
       "      <th>m1</th>\n",
       "      <td>11</td>\n",
       "      <td>7</td>\n",
       "    </tr>\n",
       "    <tr>\n",
       "      <th>m13</th>\n",
       "      <td>21</td>\n",
       "      <td>11</td>\n",
       "    </tr>\n",
       "    <tr>\n",
       "      <th>m7</th>\n",
       "      <td>15</td>\n",
       "      <td>12</td>\n",
       "    </tr>\n",
       "  </tbody>\n",
       "</table>\n",
       "</div>"
      ],
      "text/plain": [
       "     MM  DFT\n",
       "m1   11    7\n",
       "m13  21   11\n",
       "m7   15   12"
      ]
     },
     "execution_count": 93,
     "metadata": {},
     "output_type": "execute_result"
    }
   ],
   "source": [
    "number_of_conformers_mm = {}\n",
    "number_of_conformers_mm[\"m1\"] = len(inps_m1_mm)\n",
    "number_of_conformers_mm[\"m7\"] = len(inps_m7_mm)\n",
    "number_of_conformers_mm[\"m13\"] = len(inps_m13_mm)\n",
    "\n",
    "number_of_conformers_dft = {}\n",
    "number_of_conformers_dft[\"m1\"] = len(inps_m1_dft)\n",
    "number_of_conformers_dft[\"m7\"] = len(inps_m7_dft)\n",
    "number_of_conformers_dft[\"m13\"] = len(inps_m13_dft)\n",
    "\n",
    "\n",
    "number_of_conformers = [number_of_conformers_mm, number_of_conformers_dft]\n",
    "number_of_conformers = pd.DataFrame(number_of_conformers).transpose().rename(columns={0:'MM', 1:'DFT'})\n",
    "#number_of_conformers = pd.DataFrame(number_of_conformers).rename(columns={0:'MM', 1:'DFT'})\n",
    "\n",
    "print(\n",
    "\"The number of conformers generated (gen),\\\n",
    " selected after the pre-optimization with molecular mechanics (MM),\\\n",
    " and refined with the density functional theory (DFT)\")\n",
    "\n",
    "number_of_conformers"
   ]
  },
  {
   "cell_type": "markdown",
   "metadata": {},
   "source": [
    "### The coverage of conformational space"
   ]
  },
  {
   "cell_type": "code",
   "execution_count": 94,
   "metadata": {
    "collapsed": true
   },
   "outputs": [],
   "source": [
    "def plot_line(data, xmin, xmax):\n",
    "    for i, v in enumerate(data):\n",
    "        if i == 0:\n",
    "            ax.hlines(v, xmin, xmax, linestyle='-', color='r', linewidth=1.5)\n",
    "        else:\n",
    "            ax.hlines(v, xmin, xmax, linestyle='-', linewidth=1)\n",
    "\n",
    "\n",
    "def set_style():\n",
    "    sns.set_context(\"paper\")\n",
    "    sns.set(font='serif')\n",
    "    sns.set_style(\"white\", {\n",
    "        \"font.family\": \"serif\",\n",
    "        \"font.serif\": [\"Times\", \"Palatino\", \"serif\"]\n",
    "    })"
   ]
  },
  {
   "cell_type": "code",
   "execution_count": 95,
   "metadata": {
    "collapsed": false
   },
   "outputs": [
    {
     "data": {
      "text/plain": [
       "<matplotlib.collections.LineCollection at 0x7f4cdab51a90>"
      ]
     },
     "execution_count": 95,
     "metadata": {},
     "output_type": "execute_result"
    },
    {
     "data": {
      "image/png": "[encoded data removed]",
      "text/plain": [
       "<matplotlib.figure.Figure at 0x7f4cdabecac8>"
      ]
     },
     "metadata": {},
     "output_type": "display_data"
    }
   ],
   "source": [
    "set_style()\n",
    "fig, ax = plt.subplots()\n",
    "\n",
    "ax.set_title(\"Conformational coverage of the DFT refinement, B97D/631(G)d calculations\", fontsize=14)\n",
    "ax.set_ylabel(\"Number of structures\", fontsize=12)\n",
    "ax.set_xticks([1.0, 2.5, 4.0])\n",
    "ax.set_xticklabels([\"M1\", \"M7\", \"M13\"], fontsize=12)\n",
    "\n",
    "\n",
    "\n",
    "ax.hlines(len(inps_m1), 0.5, 1.5, linestyle='-', color='r', linewidth=1.5)\n",
    "ax.hlines(len(inps_m7), 2.0, 3.0, linestyle='-', color='r', linewidth=1.5)\n",
    "ax.hlines(len(inps_m13), 3.5, 4.5, linestyle='-', color='r', linewidth=1.5)\n",
    "\n",
    "\n",
    "#ax.text(0, 0,\n",
    "#\"E1 = Sum of electronic and zero-point Energies\\n\\\n",
    "#E2 = Sum of electronic and thermal Energies\\n\\\n",
    "#E3 = Sum of electronic and thermal Enthalpies\\n\\\n",
    "#E4 = Sum of electronic and thermal Free Energies\")"
   ]
  },
  {
   "cell_type": "code",
   "execution_count": 90,
   "metadata": {
    "collapsed": false
   },
   "outputs": [
    {
     "name": "stdout",
     "output_type": "stream",
     "text": [
      "The geometrical-similarity network. The nodes denote the structures and the numbering corresponds to the energy values in ascending order ('1' refers to the global minimum).\n"
     ]
    },
    {
     "data": {
      "image/svg+xml": [
       "<?xml version=\"1.0\" encoding=\"UTF-8\" standalone=\"no\"?>\n",
       "<!DOCTYPE svg PUBLIC \"-//W3C//DTD SVG 1.1//EN\"\n",
       " \"http://www.w3.org/Graphics/SVG/1.1/DTD/svg11.dtd\">\n",
       "<!-- Generated by graphviz version 2.38.0 (20140413.2041)\n",
       " -->\n",
       "<!-- Title: %3 Pages: 1 -->\n",
       "<svg width=\"390pt\" height=\"116pt\"\n",
       " viewBox=\"0.00 0.00 389.98 116.00\" xmlns=\"http://www.w3.org/2000/svg\" xmlns:xlink=\"http://www.w3.org/1999/xlink\">\n",
       "<g id=\"graph0\" class=\"graph\" transform=\"scale(1 1) rotate(0) translate(4 112)\">\n",
       "<title>%3</title>\n",
       "<polygon fill=\"white\" stroke=\"none\" points=\"-4,4 -4,-112 385.984,-112 385.984,4 -4,4\"/>\n",
       "<!-- A -->\n",
       "<g id=\"node1\" class=\"node\"><title>A</title>\n",
       "<ellipse fill=\"none\" stroke=\"black\" cx=\"190.992\" cy=\"-90\" rx=\"53.8905\" ry=\"18\"/>\n",
       "<text text-anchor=\"middle\" x=\"190.992\" y=\"-86.3\" font-family=\"Times,serif\" font-size=\"14.00\">King Arthur</text>\n",
       "</g>\n",
       "<!-- B -->\n",
       "<g id=\"node2\" class=\"node\"><title>B</title>\n",
       "<ellipse fill=\"none\" stroke=\"black\" cx=\"90.9919\" cy=\"-18\" rx=\"90.9839\" ry=\"18\"/>\n",
       "<text text-anchor=\"middle\" x=\"90.9919\" y=\"-14.3\" font-family=\"Times,serif\" font-size=\"14.00\">Sir Bedevere the Wise</text>\n",
       "</g>\n",
       "<!-- A&#45;&gt;B -->\n",
       "<g id=\"edge1\" class=\"edge\"><title>A&#45;&gt;B</title>\n",
       "<path fill=\"none\" stroke=\"black\" d=\"M168.799,-73.4647C155.331,-64.0371 137.916,-51.8466 122.977,-41.3897\"/>\n",
       "<polygon fill=\"black\" stroke=\"black\" points=\"124.716,-38.3345 114.516,-35.4672 120.702,-44.0692 124.716,-38.3345\"/>\n",
       "</g>\n",
       "<!-- L -->\n",
       "<g id=\"node3\" class=\"node\"><title>L</title>\n",
       "<ellipse fill=\"none\" stroke=\"black\" cx=\"290.992\" cy=\"-18\" rx=\"90.9839\" ry=\"18\"/>\n",
       "<text text-anchor=\"middle\" x=\"290.992\" y=\"-14.3\" font-family=\"Times,serif\" font-size=\"14.00\">Sir Lancelot the Brave</text>\n",
       "</g>\n",
       "<!-- A&#45;&gt;L -->\n",
       "<g id=\"edge2\" class=\"edge\"><title>A&#45;&gt;L</title>\n",
       "<path fill=\"none\" stroke=\"black\" d=\"M213.185,-73.4647C226.653,-64.0371 244.068,-51.8466 259.007,-41.3897\"/>\n",
       "<polygon fill=\"black\" stroke=\"black\" points=\"261.282,-44.0692 267.467,-35.4672 257.268,-38.3345 261.282,-44.0692\"/>\n",
       "</g>\n",
       "<!-- B&#45;&gt;L -->\n",
       "<g id=\"edge3\" class=\"edge\"><title>B&#45;&gt;L</title>\n",
       "<path fill=\"none\" stroke=\"black\" d=\"M182.008,-18C184.615,-18 187.223,-18 189.83,-18\"/>\n",
       "<polygon fill=\"black\" stroke=\"black\" points=\"189.888,-21.5001 199.888,-18 189.888,-14.5001 189.888,-21.5001\"/>\n",
       "</g>\n",
       "</g>\n",
       "</svg>\n"
      ],
      "text/plain": [
       "<graphviz.dot.Digraph at 0x7f4cdad1e7b8>"
      ]
     },
     "execution_count": 90,
     "metadata": {},
     "output_type": "execute_result"
    }
   ],
   "source": [
    "print(\n",
    "\"The geometrical-similarity network.\\\n",
    " The nodes denote the structures and the numbering corresponds to the energy values in ascending order\\\n",
    " ('1' refers to the global minimum).\")\n",
    "\n",
    "from graphviz import Digraph\n",
    "\n",
    "dot = Digraph(comment='The Round Table')\n",
    "\n",
    "dot.node('A', 'King Arthur')\n",
    "dot.node('B', 'Sir Bedevere the Wise')\n",
    "dot.node('L', 'Sir Lancelot the Brave')\n",
    "\n",
    "dot.edges(['AB', 'AL'])\n",
    "dot.edge('B', 'L', constraint='false')\n",
    "\n",
    "dot\n",
    "\n",
    "\n"
   ]
  },
  {
   "cell_type": "markdown",
   "metadata": {
    "deletable": true,
    "editable": true
   },
   "source": [
    "### Thermodynamic properties"
   ]
  },
  {
   "cell_type": "code",
   "execution_count": 82,
   "metadata": {
    "collapsed": false,
    "deletable": true,
    "editable": true
   },
   "outputs": [
    {
     "data": {
      "text/html": [
       "<div>\n",
       "<table border=\"1\" class=\"dataframe\">\n",
       "  <thead>\n",
       "    <tr style=\"text-align: right;\">\n",
       "      <th></th>\n",
       "      <th>#Mol</th>\n",
       "      <th>E1-E1(min)[kcal/mol]</th>\n",
       "      <th>E2-E2(min)[kcal/mol]</th>\n",
       "      <th>E3-E3(min)[kcal/mol]</th>\n",
       "      <th>E4-E4(min)[kcal/mol]</th>\n",
       "      <th>Boltzmann_weight</th>\n",
       "      <th>Mol_fraction</th>\n",
       "    </tr>\n",
       "  </thead>\n",
       "  <tbody>\n",
       "    <tr>\n",
       "      <th>0</th>\n",
       "      <td>m1_b_sdf_3</td>\n",
       "      <td>0.000000</td>\n",
       "      <td>0.000000</td>\n",
       "      <td>0.000000</td>\n",
       "      <td>0.000000</td>\n",
       "      <td>1.000000</td>\n",
       "      <td>0.142874</td>\n",
       "    </tr>\n",
       "    <tr>\n",
       "      <th>1</th>\n",
       "      <td>m1_b_sdf_0</td>\n",
       "      <td>1.362950</td>\n",
       "      <td>1.451429</td>\n",
       "      <td>1.451429</td>\n",
       "      <td>2.447287</td>\n",
       "      <td>0.999984</td>\n",
       "      <td>0.142872</td>\n",
       "    </tr>\n",
       "    <tr>\n",
       "      <th>2</th>\n",
       "      <td>m1_rdkit_smi_10</td>\n",
       "      <td>15.151842</td>\n",
       "      <td>14.835577</td>\n",
       "      <td>14.835577</td>\n",
       "      <td>18.207185</td>\n",
       "      <td>0.999879</td>\n",
       "      <td>0.142857</td>\n",
       "    </tr>\n",
       "    <tr>\n",
       "      <th>3</th>\n",
       "      <td>m1_rdkit_smi_51</td>\n",
       "      <td>21.314611</td>\n",
       "      <td>21.310846</td>\n",
       "      <td>21.310846</td>\n",
       "      <td>23.058460</td>\n",
       "      <td>0.999846</td>\n",
       "      <td>0.142853</td>\n",
       "    </tr>\n",
       "    <tr>\n",
       "      <th>4</th>\n",
       "      <td>m1_rdkit_smi_16</td>\n",
       "      <td>22.411498</td>\n",
       "      <td>22.298546</td>\n",
       "      <td>22.298546</td>\n",
       "      <td>24.544402</td>\n",
       "      <td>0.999837</td>\n",
       "      <td>0.142851</td>\n",
       "    </tr>\n",
       "    <tr>\n",
       "      <th>5</th>\n",
       "      <td>m1_rdkit_smi_32</td>\n",
       "      <td>26.800926</td>\n",
       "      <td>27.136016</td>\n",
       "      <td>27.136016</td>\n",
       "      <td>28.170779</td>\n",
       "      <td>0.999812</td>\n",
       "      <td>0.142848</td>\n",
       "    </tr>\n",
       "    <tr>\n",
       "      <th>6</th>\n",
       "      <td>m1_rdkit_sdf_26</td>\n",
       "      <td>29.319749</td>\n",
       "      <td>29.443368</td>\n",
       "      <td>29.443368</td>\n",
       "      <td>31.214827</td>\n",
       "      <td>0.999792</td>\n",
       "      <td>0.142845</td>\n",
       "    </tr>\n",
       "  </tbody>\n",
       "</table>\n",
       "</div>"
      ],
      "text/plain": [
       "              #Mol  E1-E1(min)[kcal/mol]  E2-E2(min)[kcal/mol]  \\\n",
       "0       m1_b_sdf_3              0.000000              0.000000   \n",
       "1       m1_b_sdf_0              1.362950              1.451429   \n",
       "2  m1_rdkit_smi_10             15.151842             14.835577   \n",
       "3  m1_rdkit_smi_51             21.314611             21.310846   \n",
       "4  m1_rdkit_smi_16             22.411498             22.298546   \n",
       "5  m1_rdkit_smi_32             26.800926             27.136016   \n",
       "6  m1_rdkit_sdf_26             29.319749             29.443368   \n",
       "\n",
       "   E3-E3(min)[kcal/mol]  E4-E4(min)[kcal/mol]  Boltzmann_weight  Mol_fraction  \n",
       "0              0.000000              0.000000          1.000000      0.142874  \n",
       "1              1.451429              2.447287          0.999984      0.142872  \n",
       "2             14.835577             18.207185          0.999879      0.142857  \n",
       "3             21.310846             23.058460          0.999846      0.142853  \n",
       "4             22.298546             24.544402          0.999837      0.142851  \n",
       "5             27.136016             28.170779          0.999812      0.142848  \n",
       "6             29.443368             31.214827          0.999792      0.142845  "
      ]
     },
     "execution_count": 82,
     "metadata": {},
     "output_type": "execute_result"
    }
   ],
   "source": [
    "m1_results = \"/home/gosia/work/work_on_gitlab/icho/calcs/m1/gaussian_results/FINAL_RESULTS_selected_conformers_thermochemistry_b97d_631gd.csv\"\n",
    "m1_data    = pd.read_csv(m1_results, \n",
    "                         skiprows=18, \n",
    "                         usecols=[0,5,6,7,8,9,10],\n",
    "                         delimiter=r\"\\s+\")\n",
    "m1_data"
   ]
  },
  {
   "cell_type": "code",
   "execution_count": 83,
   "metadata": {
    "collapsed": false,
    "deletable": true,
    "editable": true
   },
   "outputs": [
    {
     "data": {
      "text/html": [
       "<div>\n",
       "<table border=\"1\" class=\"dataframe\">\n",
       "  <thead>\n",
       "    <tr style=\"text-align: right;\">\n",
       "      <th></th>\n",
       "      <th>#Mol</th>\n",
       "      <th>E1-E1(min)[kcal/mol]</th>\n",
       "      <th>E2-E2(min)[kcal/mol]</th>\n",
       "      <th>E3-E3(min)[kcal/mol]</th>\n",
       "      <th>E4-E4(min)[kcal/mol]</th>\n",
       "      <th>Boltzmann_weight</th>\n",
       "      <th>Mol_fraction</th>\n",
       "    </tr>\n",
       "  </thead>\n",
       "  <tbody>\n",
       "    <tr>\n",
       "      <th>0</th>\n",
       "      <td>m7_b_sdf_20</td>\n",
       "      <td>0.000000</td>\n",
       "      <td>0.000000</td>\n",
       "      <td>0.000000</td>\n",
       "      <td>0.000000</td>\n",
       "      <td>1.000000</td>\n",
       "      <td>0.083343</td>\n",
       "    </tr>\n",
       "    <tr>\n",
       "      <th>1</th>\n",
       "      <td>m7_b_sdf_6</td>\n",
       "      <td>0.061496</td>\n",
       "      <td>0.123619</td>\n",
       "      <td>0.123619</td>\n",
       "      <td>-1.327182</td>\n",
       "      <td>1.000009</td>\n",
       "      <td>0.083343</td>\n",
       "    </tr>\n",
       "    <tr>\n",
       "      <th>2</th>\n",
       "      <td>m7_b_smi_0</td>\n",
       "      <td>0.815135</td>\n",
       "      <td>0.806350</td>\n",
       "      <td>0.806350</td>\n",
       "      <td>0.651982</td>\n",
       "      <td>0.999996</td>\n",
       "      <td>0.083342</td>\n",
       "    </tr>\n",
       "    <tr>\n",
       "      <th>3</th>\n",
       "      <td>m7_b_sdf_0</td>\n",
       "      <td>0.837725</td>\n",
       "      <td>0.846510</td>\n",
       "      <td>0.846510</td>\n",
       "      <td>0.534010</td>\n",
       "      <td>0.999996</td>\n",
       "      <td>0.083342</td>\n",
       "    </tr>\n",
       "    <tr>\n",
       "      <th>4</th>\n",
       "      <td>m7_rdkit_sdf_70</td>\n",
       "      <td>19.072520</td>\n",
       "      <td>19.202415</td>\n",
       "      <td>19.202415</td>\n",
       "      <td>18.099253</td>\n",
       "      <td>0.999879</td>\n",
       "      <td>0.083333</td>\n",
       "    </tr>\n",
       "    <tr>\n",
       "      <th>5</th>\n",
       "      <td>m7_rdkit_smi_24</td>\n",
       "      <td>20.544030</td>\n",
       "      <td>20.663257</td>\n",
       "      <td>20.663257</td>\n",
       "      <td>19.185472</td>\n",
       "      <td>0.999872</td>\n",
       "      <td>0.083332</td>\n",
       "    </tr>\n",
       "    <tr>\n",
       "      <th>6</th>\n",
       "      <td>m7_rdkit_smi_81</td>\n",
       "      <td>25.288628</td>\n",
       "      <td>25.392795</td>\n",
       "      <td>25.392795</td>\n",
       "      <td>24.044905</td>\n",
       "      <td>0.999840</td>\n",
       "      <td>0.083329</td>\n",
       "    </tr>\n",
       "    <tr>\n",
       "      <th>7</th>\n",
       "      <td>m7_rdkit_smi_94</td>\n",
       "      <td>26.262523</td>\n",
       "      <td>26.498467</td>\n",
       "      <td>26.498467</td>\n",
       "      <td>23.748720</td>\n",
       "      <td>0.999842</td>\n",
       "      <td>0.083329</td>\n",
       "    </tr>\n",
       "    <tr>\n",
       "      <th>8</th>\n",
       "      <td>m7_rdkit_smi_15</td>\n",
       "      <td>29.063097</td>\n",
       "      <td>29.415758</td>\n",
       "      <td>29.415758</td>\n",
       "      <td>27.086443</td>\n",
       "      <td>0.999820</td>\n",
       "      <td>0.083328</td>\n",
       "    </tr>\n",
       "    <tr>\n",
       "      <th>9</th>\n",
       "      <td>m7_rdkit_sdf_104</td>\n",
       "      <td>31.406845</td>\n",
       "      <td>31.612668</td>\n",
       "      <td>31.612668</td>\n",
       "      <td>30.395927</td>\n",
       "      <td>0.999798</td>\n",
       "      <td>0.083326</td>\n",
       "    </tr>\n",
       "    <tr>\n",
       "      <th>10</th>\n",
       "      <td>m7_rdkit_sdf_66</td>\n",
       "      <td>31.633376</td>\n",
       "      <td>31.827904</td>\n",
       "      <td>31.827904</td>\n",
       "      <td>30.031972</td>\n",
       "      <td>0.999800</td>\n",
       "      <td>0.083326</td>\n",
       "    </tr>\n",
       "    <tr>\n",
       "      <th>11</th>\n",
       "      <td>m7_rdkit_smi_43</td>\n",
       "      <td>31.723110</td>\n",
       "      <td>32.266533</td>\n",
       "      <td>32.267160</td>\n",
       "      <td>29.383127</td>\n",
       "      <td>0.999804</td>\n",
       "      <td>0.083326</td>\n",
       "    </tr>\n",
       "  </tbody>\n",
       "</table>\n",
       "</div>"
      ],
      "text/plain": [
       "                #Mol  E1-E1(min)[kcal/mol]  E2-E2(min)[kcal/mol]  \\\n",
       "0        m7_b_sdf_20              0.000000              0.000000   \n",
       "1         m7_b_sdf_6              0.061496              0.123619   \n",
       "2         m7_b_smi_0              0.815135              0.806350   \n",
       "3         m7_b_sdf_0              0.837725              0.846510   \n",
       "4    m7_rdkit_sdf_70             19.072520             19.202415   \n",
       "5    m7_rdkit_smi_24             20.544030             20.663257   \n",
       "6    m7_rdkit_smi_81             25.288628             25.392795   \n",
       "7    m7_rdkit_smi_94             26.262523             26.498467   \n",
       "8    m7_rdkit_smi_15             29.063097             29.415758   \n",
       "9   m7_rdkit_sdf_104             31.406845             31.612668   \n",
       "10   m7_rdkit_sdf_66             31.633376             31.827904   \n",
       "11   m7_rdkit_smi_43             31.723110             32.266533   \n",
       "\n",
       "    E3-E3(min)[kcal/mol]  E4-E4(min)[kcal/mol]  Boltzmann_weight  Mol_fraction  \n",
       "0               0.000000              0.000000          1.000000      0.083343  \n",
       "1               0.123619             -1.327182          1.000009      0.083343  \n",
       "2               0.806350              0.651982          0.999996      0.083342  \n",
       "3               0.846510              0.534010          0.999996      0.083342  \n",
       "4              19.202415             18.099253          0.999879      0.083333  \n",
       "5              20.663257             19.185472          0.999872      0.083332  \n",
       "6              25.392795             24.044905          0.999840      0.083329  \n",
       "7              26.498467             23.748720          0.999842      0.083329  \n",
       "8              29.415758             27.086443          0.999820      0.083328  \n",
       "9              31.612668             30.395927          0.999798      0.083326  \n",
       "10             31.827904             30.031972          0.999800      0.083326  \n",
       "11             32.267160             29.383127          0.999804      0.083326  "
      ]
     },
     "execution_count": 83,
     "metadata": {},
     "output_type": "execute_result"
    }
   ],
   "source": [
    "m7_results = \"/home/gosia/work/work_on_gitlab/icho/calcs/m7/gaussian_results/FINAL_RESULTS_selected_conformers_thermochemistry_b97d_631gd.csv\"\n",
    "m7_data    = pd.read_csv(m7_results, \n",
    "                         skiprows=18, \n",
    "                         usecols=[0,5,6,7,8,9,10],\n",
    "                         delimiter=r\"\\s+\")\n",
    "m7_data"
   ]
  },
  {
   "cell_type": "code",
   "execution_count": 84,
   "metadata": {
    "collapsed": false,
    "deletable": true,
    "editable": true
   },
   "outputs": [
    {
     "data": {
      "text/html": [
       "<div>\n",
       "<table border=\"1\" class=\"dataframe\">\n",
       "  <thead>\n",
       "    <tr style=\"text-align: right;\">\n",
       "      <th></th>\n",
       "      <th>#Mol</th>\n",
       "      <th>E1-E1(min)[kcal/mol]</th>\n",
       "      <th>E2-E2(min)[kcal/mol]</th>\n",
       "      <th>E3-E3(min)[kcal/mol]</th>\n",
       "      <th>E4-E4(min)[kcal/mol]</th>\n",
       "      <th>Boltzmann_weight</th>\n",
       "      <th>Mol_fraction</th>\n",
       "    </tr>\n",
       "  </thead>\n",
       "  <tbody>\n",
       "    <tr>\n",
       "      <th>0</th>\n",
       "      <td>m13_b_sdf_2</td>\n",
       "      <td>0.000000</td>\n",
       "      <td>0.000000</td>\n",
       "      <td>0.000000</td>\n",
       "      <td>0.000000</td>\n",
       "      <td>1.000000</td>\n",
       "      <td>0.100005</td>\n",
       "    </tr>\n",
       "    <tr>\n",
       "      <th>1</th>\n",
       "      <td>m13_rdkit_smi_193</td>\n",
       "      <td>0.747364</td>\n",
       "      <td>0.230923</td>\n",
       "      <td>0.230923</td>\n",
       "      <td>2.232051</td>\n",
       "      <td>0.999985</td>\n",
       "      <td>0.100004</td>\n",
       "    </tr>\n",
       "    <tr>\n",
       "      <th>2</th>\n",
       "      <td>m13_rdkit_smi_122</td>\n",
       "      <td>5.729788</td>\n",
       "      <td>5.601776</td>\n",
       "      <td>5.601776</td>\n",
       "      <td>5.764301</td>\n",
       "      <td>0.999962</td>\n",
       "      <td>0.100001</td>\n",
       "    </tr>\n",
       "    <tr>\n",
       "      <th>3</th>\n",
       "      <td>m13_rdkit_sdf_103</td>\n",
       "      <td>6.267564</td>\n",
       "      <td>6.047308</td>\n",
       "      <td>6.047308</td>\n",
       "      <td>7.277854</td>\n",
       "      <td>0.999952</td>\n",
       "      <td>0.100000</td>\n",
       "    </tr>\n",
       "    <tr>\n",
       "      <th>4</th>\n",
       "      <td>m13_b_sdf_116</td>\n",
       "      <td>7.430339</td>\n",
       "      <td>7.809354</td>\n",
       "      <td>7.809354</td>\n",
       "      <td>5.309357</td>\n",
       "      <td>0.999965</td>\n",
       "      <td>0.100001</td>\n",
       "    </tr>\n",
       "    <tr>\n",
       "      <th>5</th>\n",
       "      <td>m13_rdkit_smi_59</td>\n",
       "      <td>7.667537</td>\n",
       "      <td>7.725268</td>\n",
       "      <td>7.725896</td>\n",
       "      <td>6.076801</td>\n",
       "      <td>0.999960</td>\n",
       "      <td>0.100001</td>\n",
       "    </tr>\n",
       "    <tr>\n",
       "      <th>6</th>\n",
       "      <td>m13_rdkit_smi_133</td>\n",
       "      <td>7.961839</td>\n",
       "      <td>7.845122</td>\n",
       "      <td>7.845750</td>\n",
       "      <td>7.512542</td>\n",
       "      <td>0.999950</td>\n",
       "      <td>0.100000</td>\n",
       "    </tr>\n",
       "    <tr>\n",
       "      <th>7</th>\n",
       "      <td>m13_rdkit_smi_148</td>\n",
       "      <td>12.252121</td>\n",
       "      <td>12.594113</td>\n",
       "      <td>12.594741</td>\n",
       "      <td>10.110431</td>\n",
       "      <td>0.999933</td>\n",
       "      <td>0.099998</td>\n",
       "    </tr>\n",
       "    <tr>\n",
       "      <th>8</th>\n",
       "      <td>m13_rdkit_smi_180</td>\n",
       "      <td>12.812487</td>\n",
       "      <td>12.898456</td>\n",
       "      <td>12.899083</td>\n",
       "      <td>10.972002</td>\n",
       "      <td>0.999927</td>\n",
       "      <td>0.099998</td>\n",
       "    </tr>\n",
       "    <tr>\n",
       "      <th>9</th>\n",
       "      <td>m13_rdkit_sdf_43</td>\n",
       "      <td>22.004872</td>\n",
       "      <td>22.095233</td>\n",
       "      <td>22.095233</td>\n",
       "      <td>20.266671</td>\n",
       "      <td>0.999865</td>\n",
       "      <td>0.099992</td>\n",
       "    </tr>\n",
       "  </tbody>\n",
       "</table>\n",
       "</div>"
      ],
      "text/plain": [
       "                #Mol  E1-E1(min)[kcal/mol]  E2-E2(min)[kcal/mol]  \\\n",
       "0        m13_b_sdf_2              0.000000              0.000000   \n",
       "1  m13_rdkit_smi_193              0.747364              0.230923   \n",
       "2  m13_rdkit_smi_122              5.729788              5.601776   \n",
       "3  m13_rdkit_sdf_103              6.267564              6.047308   \n",
       "4      m13_b_sdf_116              7.430339              7.809354   \n",
       "5   m13_rdkit_smi_59              7.667537              7.725268   \n",
       "6  m13_rdkit_smi_133              7.961839              7.845122   \n",
       "7  m13_rdkit_smi_148             12.252121             12.594113   \n",
       "8  m13_rdkit_smi_180             12.812487             12.898456   \n",
       "9   m13_rdkit_sdf_43             22.004872             22.095233   \n",
       "\n",
       "   E3-E3(min)[kcal/mol]  E4-E4(min)[kcal/mol]  Boltzmann_weight  Mol_fraction  \n",
       "0              0.000000              0.000000          1.000000      0.100005  \n",
       "1              0.230923              2.232051          0.999985      0.100004  \n",
       "2              5.601776              5.764301          0.999962      0.100001  \n",
       "3              6.047308              7.277854          0.999952      0.100000  \n",
       "4              7.809354              5.309357          0.999965      0.100001  \n",
       "5              7.725896              6.076801          0.999960      0.100001  \n",
       "6              7.845750              7.512542          0.999950      0.100000  \n",
       "7             12.594741             10.110431          0.999933      0.099998  \n",
       "8             12.899083             10.972002          0.999927      0.099998  \n",
       "9             22.095233             20.266671          0.999865      0.099992  "
      ]
     },
     "execution_count": 84,
     "metadata": {},
     "output_type": "execute_result"
    }
   ],
   "source": [
    "m13_results = \"/home/gosia/work/work_on_gitlab/icho/calcs/m13/gaussian_results/FINAL_RESULTS_selected_conformers_thermochemistry_b97d_631gd.csv\"\n",
    "m13_data    = pd.read_csv(m13_results, \n",
    "                         skiprows=18, \n",
    "                         usecols=[0,5,6,7,8,9,10],\n",
    "                         delimiter=r\"\\s+\")\n",
    "m13_data"
   ]
  },
  {
   "cell_type": "code",
   "execution_count": 48,
   "metadata": {
    "collapsed": true,
    "deletable": true,
    "editable": true
   },
   "outputs": [],
   "source": [
    "# functions used for plots\n",
    "def plot_line(ax, data, xmin, xmax):\n",
    "    for i, v in enumerate(data):\n",
    "        # data is sorted; the first element corresponds to the lowest energy; we'll plot it in red\n",
    "        if i == 0:\n",
    "            ax.hlines(v, xmin, xmax, linestyle='-', color='r', linewidth=1.5)\n",
    "        else:\n",
    "            ax.hlines(v, xmin, xmax, linestyle='-', linewidth=1)\n",
    "\n",
    "def set_style():\n",
    "    sns.set_context(\"paper\")\n",
    "    sns.set(font='serif')\n",
    "    sns.set_style(\"white\", {\n",
    "        \"font.family\": \"serif\",\n",
    "        \"font.serif\": [\"Times\", \"Palatino\", \"serif\"]\n",
    "    })"
   ]
  },
  {
   "cell_type": "code",
   "execution_count": 49,
   "metadata": {
    "collapsed": false,
    "deletable": true,
    "editable": true,
    "scrolled": true
   },
   "outputs": [
    {
     "data": {
      "text/plain": [
       "<matplotlib.text.Text at 0x7f080222d6d8>"
      ]
     },
     "execution_count": 49,
     "metadata": {},
     "output_type": "execute_result"
    },
    {
     "data": {
      "image/png": "[encoded data removed]",
      "text/plain": [
       "<matplotlib.figure.Figure at 0x7f0802376710>"
      ]
     },
     "metadata": {},
     "output_type": "display_data"
    }
   ],
   "source": [
    "# plot - all macrocycles side by side\n",
    "set_style()\n",
    "fig, (ax1, ax7, ax13) = plt.subplots(1,3,sharey=True,figsize=(15,5))\n",
    "\n",
    "fig.suptitle(\"Relative energies of selected conformers\", fontsize=16)\n",
    "ax1.set_title(\"M1\")\n",
    "ax7.set_title(\"M7\")\n",
    "ax13.set_title(\"M13\")\n",
    "\n",
    "ax1.set_ylabel(\"Relative energies [kcal/mol]\", fontsize=12)\n",
    "\n",
    "for ax in [ax1, ax7, ax13]:\n",
    "    ax.set_xticks([0.0, 1.5, 3.0, 4.5])\n",
    "    ax.set_xticklabels([\"E1\", \"E2\", \"E3\", \"E4\"], fontsize=12)\n",
    "\n",
    "\n",
    "# plot\n",
    "# m1\n",
    "plot_line(ax1, m1_data[\"E1-E1(min)[kcal/mol]\"], -0.5, 0.5)\n",
    "plot_line(ax1, m1_data[\"E2-E2(min)[kcal/mol]\"],  1.0, 2.0)\n",
    "plot_line(ax1, m1_data[\"E3-E3(min)[kcal/mol]\"],  2.5, 3.5)\n",
    "plot_line(ax1, m1_data[\"E4-E4(min)[kcal/mol]\"],  4.0, 5.0)\n",
    "\n",
    "# m7\n",
    "\n",
    "# m13\n",
    "\n",
    "\n",
    "ax1.text(0, -15,\n",
    "\"E1 = Sum of electronic and zero-point Energies\\n\\\n",
    "E2 = Sum of electronic and thermal Energies\\n\\\n",
    "E3 = Sum of electronic and thermal Enthalpies\\n\\\n",
    "E4 = Sum of electronic and thermal Free Energies\")"
   ]
  },
  {
   "cell_type": "markdown",
   "metadata": {
    "deletable": true,
    "editable": true
   },
   "source": [
    "## M1"
   ]
  },
  {
   "cell_type": "markdown",
   "metadata": {
    "deletable": true,
    "editable": true
   },
   "source": [
    "### Energy landscapes"
   ]
  },
  {
   "cell_type": "code",
   "execution_count": 3,
   "metadata": {
    "collapsed": false,
    "deletable": true,
    "editable": true
   },
   "outputs": [],
   "source": [
    "f_m1 = \"/home/gosia/work/work_on_gitlab/icho/calcs/m1/gaussian_results/FINAL_RESULTS_selected_conformers_thermochemistry_b97d_631gd.csv\"\n",
    "m1_data = pd.read_csv(f_m1, \n",
    "                      skiprows=18, \n",
    "                      usecols=[0,5,6,7,8,9,10],\n",
    "                      delimiter=r\"\\s+\")\n",
    "\n",
    "f_m1_h2o = \"/home/gosia/work/work_on_gitlab/icho/calcs/m1-h2o/gaussian_results/FINAL_RESULTS_selected_conformers_thermochemistry_b97d_631gd.csv\"\n",
    "m1_h2o_data = pd.read_csv(f_m1_h2o, \n",
    "                      skiprows=18, \n",
    "                      usecols=[0,5,6,7,8,9,10],\n",
    "                      delimiter=r\"\\s+\")\n",
    "\n",
    "f_m1_2h2o = \"/home/gosia/work/work_on_gitlab/icho/calcs/m1-2h2o/gaussian_results/FINAL_RESULTS_selected_conformers_thermochemistry_b97d_631gd.csv\"\n",
    "m1_2h2o_data = pd.read_csv(f_m1_2h2o, \n",
    "                      skiprows=18, \n",
    "                      usecols=[0,5,6,7,8,9,10],\n",
    "                      delimiter=r\"\\s+\")\n",
    "\n",
    "f_m1_h2o_dmso = \"/home/gosia/work/work_on_gitlab/icho/calcs/m1-h2o-dmso/gaussian_results/FINAL_RESULTS_selected_conformers_thermochemistry_b97d_631gd.csv\"\n",
    "m1_h2o_dmso_data = pd.read_csv(f_m1_h2o_dmso, \n",
    "                      skiprows=18, \n",
    "                      usecols=[0,5,6,7,8,9,10],\n",
    "                      delimiter=r\"\\s+\")\n",
    "\n",
    "f_m1_2h2o_dmso = \"/home/gosia/work/work_on_gitlab/icho/calcs/m1-2h2o-dmso/gaussian_results/FINAL_RESULTS_selected_conformers_thermochemistry_b97d_631gd.csv\"\n",
    "m1_2h2o_dmso_data = pd.read_csv(f_m1_2h2o_dmso, \n",
    "                      skiprows=18, \n",
    "                      usecols=[0,5,6,7,8,9,10],\n",
    "                      delimiter=r\"\\s+\")\n",
    "\n",
    "f_m1_h2o_methanol = \"/home/gosia/work/work_on_gitlab/icho/calcs/m1-h2o-methanol/gaussian_results/FINAL_RESULTS_selected_conformers_thermochemistry_b97d_631gd.csv\"\n",
    "m1_h2o_methanol_data = pd.read_csv(f_m1_h2o_methanol, \n",
    "                      skiprows=18, \n",
    "                      usecols=[0,5,6,7,8,9,10],\n",
    "                      delimiter=r\"\\s+\")\n",
    "\n",
    "f_m1_2h2o_methanol = \"/home/gosia/work/work_on_gitlab/icho/calcs/m1-2h2o-methanol/gaussian_results/FINAL_RESULTS_selected_conformers_thermochemistry_b97d_631gd.csv\"\n",
    "m1_2h2o_methanol_data = pd.read_csv(f_m1_2h2o_methanol, \n",
    "                      skiprows=18, \n",
    "                      usecols=[0,5,6,7,8,9,10],\n",
    "                      delimiter=r\"\\s+\")"
   ]
  },
  {
   "cell_type": "markdown",
   "metadata": {
    "deletable": true,
    "editable": true
   },
   "source": [
    "### Geometries of conformers"
   ]
  },
  {
   "cell_type": "markdown",
   "metadata": {
    "deletable": true,
    "editable": true
   },
   "source": [
    "## M7"
   ]
  },
  {
   "cell_type": "markdown",
   "metadata": {
    "deletable": true,
    "editable": true
   },
   "source": [
    "### Energy landscapes"
   ]
  },
  {
   "cell_type": "markdown",
   "metadata": {
    "deletable": true,
    "editable": true
   },
   "source": [
    "### Geometries of conformers"
   ]
  },
  {
   "cell_type": "markdown",
   "metadata": {
    "deletable": true,
    "editable": true
   },
   "source": [
    "## M13"
   ]
  },
  {
   "cell_type": "markdown",
   "metadata": {
    "deletable": true,
    "editable": true
   },
   "source": [
    "### Energy landscapes"
   ]
  },
  {
   "cell_type": "markdown",
   "metadata": {
    "deletable": true,
    "editable": true
   },
   "source": [
    "### Geometries of conformers"
   ]
  },
  {
   "cell_type": "markdown",
   "metadata": {
    "deletable": true,
    "editable": true
   },
   "source": [
    "## Comparison of all systems under study"
   ]
  },
  {
   "cell_type": "markdown",
   "metadata": {
    "deletable": true,
    "editable": true
   },
   "source": [
    "| Mol | No. of conformers (start) | No. of conformers (end) | RMSD range | E range | \n",
    "|-----|---------------------------|-------------------------|\n",
    "| M1 | | | \n",
    "| M1 + H2O |  | | \n",
    "| M1 + 2H2O | | | \n",
    "| M1 + H2O + methanol |  | | \n",
    "| M1 + 2H2O + methanol | | | \n",
    "| M1 + H2O + DMSO |  | | \n",
    "| M1 + 2H2O + DMSO | | | \n",
    "|     | | | \n",
    "| M7  |  | | \n",
    "| M7 + H2O |  | | \n",
    "| M7 + 2H2O | | | \n",
    "| M7 + H2O + methanol |  | | \n",
    "| M7 + 2H2O + methanol | | | \n",
    "| M7 + H2O + DMSO |  | | \n",
    "| M7 + 2H2O + DMSO | | | \n",
    "|     | | | \n",
    "| M13 | | | \n",
    "| M13 + H2O |  | | \n",
    "| M13 + 2H2O | | | \n",
    "| M13 + H2O + methanol |  | | \n",
    "| M13 + 2H2O + methanol | | | \n",
    "| M13 + H2O + DMSO |  | | \n",
    "| M13 + 2H2O + DMSO | | | \n",
    "|     | | | \n",
    "\n",
    "\n",
    "* *Mol* is a molecular system under study; for systems in solution: M + nH2O (n = 1, 2) were treated explicitly, while methanol and DMSO were treated implicitly as a continuum medium characterized by its dielectric constant\n",
    "\n",
    "\n",
    "* *No. of conformers (start)* is the number of conformers which were generated and selected (after pre-screening) from the conformer generation and molecular mechanics optimisation step\n",
    "\n",
    "\n",
    "* *No. of conformers (end)* is the number of conformers which were selected as distinct (in terms of root-mean-square-distance between heavy atoms in conformer pairs and in terms of energy) after DFT geometry optimisation\n",
    "\n",
    "\n",
    "* *RMSD range* - the minimum and maximum values of RMSD; RMSD is a root-mean-square-distance between heavy atoms in conformers, it is a measure of how much distinct the conformers are\n",
    "\n",
    "\n",
    "* *Energy range* - the minimum and maximum values of Energy [a.u.]\n",
    "\n"
   ]
  },
  {
   "cell_type": "markdown",
   "metadata": {
    "deletable": true,
    "editable": true
   },
   "source": [
    "## Possible questions:\n",
    "\n",
    "* how does the presence of nH2O (n = 1, 2) affect the geometries and energies of macrocycles?\n",
    "\n",
    "* how does the presence of solution (methanol, DMSO) influence the geometries and energetics of M + nH2O complexes? How much the geometries and energetics of M + nH2O complexes depend on the solvent used?\n",
    "\n",
    "* how reliable is this analysis? evaluation of the \n"
   ]
  },
  {
   "cell_type": "markdown",
   "metadata": {
    "deletable": true,
    "editable": true
   },
   "source": [
    "## Next steps (?):"
   ]
  }
 ],
 "metadata": {
  "kernelspec": {
   "display_name": "Python 3",
   "language": "python",
   "name": "python3"
  },
  "language_info": {
   "codemirror_mode": {
    "name": "ipython",
    "version": 3
   },
   "file_extension": ".py",
   "mimetype": "text/x-python",
   "name": "python",
   "nbconvert_exporter": "python",
   "pygments_lexer": "ipython3",
   "version": "3.5.3"
  }
 },
 "nbformat": 4,
 "nbformat_minor": 2
}
