{
 "cells": [
  {
   "cell_type": "markdown",
   "metadata": {
    "deletable": true,
    "editable": true
   },
   "source": [
    "# Exploring conformational space of selected macrocycles - \"M1\", Part 2"
   ]
  },
  {
   "cell_type": "markdown",
   "metadata": {},
   "source": [
    "\n",
    "In this notebook we present the geometry optimization of the selected conformers with the DFT methods. The generation and the pre-selection of conformers were discussed in another notebook ([link](http://nbviewer.jupyter.org/github/gosiao/icho-notebooks/blob/master/conformers_m1.ipynb)).\n",
    "\n",
    "In particular, here we will show:\n",
    "\n",
    "* the optimized geometries of M1 conformers, aligned\n",
    "\n",
    "* the M1 conformers selected after the removal of duplicates, aligned; the resulting set will constitute the total pool of conformers (100%);\n",
    "\n",
    "* for the lowest-energy conformer, we will evaluate:\n",
    "\n",
    "    * the role of dispersion corrections (comparison of PBE and B97D exchange-correlation functionals),\n",
    "    \n",
    "    * basis set effects (comparison of 6-31Gd and cc-pVTZ basis set; extrapolation to the complete basis set (CBS) limit),\n",
    "    \n",
    "    * the method deficiency (comparison of DFT and MP2 methods),\n",
    "\n",
    "* in the total pool of conformers we will identify:\n",
    "\n",
    "    * the global minimum,\n",
    "    \n",
    "    * the local minima,\n",
    "    \n",
    "    * the saddle points (optionally),\n",
    "    \n",
    "* for all the conformers in the total pool of conformers, we will evaluate the free energy corrections (Gibbs free enthalpy calculations for T=298.15K) and determine their population (Boltzmann weights);\n",
    "\n",
    "\n",
    "All the DFT calculations are performed with the Gaussian 09 software."
   ]
  },
  {
   "cell_type": "code",
   "execution_count": 1,
   "metadata": {
    "collapsed": false,
    "deletable": true,
    "editable": true
   },
   "outputs": [
    {
     "data": {
      "text/html": [
       "<script>\n",
       "code_show=true; \n",
       "function code_toggle() {\n",
       " if (code_show){\n",
       " $('div.input').hide();\n",
       " } else {\n",
       " $('div.input').show();\n",
       " }\n",
       " code_show = !code_show\n",
       "}\n",
       "$( document ).ready(code_toggle);\n",
       "</script>\n",
       "<form action=\"javascript:code_toggle()\"><input type=\"submit\" value=\"Click here to toggle on/off the raw code.\"></form>"
      ],
      "text/plain": [
       "<IPython.core.display.HTML object>"
      ]
     },
     "execution_count": 1,
     "metadata": {},
     "output_type": "execute_result"
    }
   ],
   "source": [
    "from IPython.display import HTML\n",
    "\n",
    "HTML('''<script>\n",
    "code_show=true; \n",
    "function code_toggle() {\n",
    " if (code_show){\n",
    " $('div.input').hide();\n",
    " } else {\n",
    " $('div.input').show();\n",
    " }\n",
    " code_show = !code_show\n",
    "}\n",
    "$( document ).ready(code_toggle);\n",
    "</script>\n",
    "<form action=\"javascript:code_toggle()\"><input type=\"submit\" value=\"Click here to toggle on/off the raw code.\"></form>''')"
   ]
  },
  {
   "cell_type": "code",
   "execution_count": 2,
   "metadata": {
    "collapsed": false,
    "deletable": true,
    "editable": true
   },
   "outputs": [
    {
     "name": "stdout",
     "output_type": "stream",
     "text": [
      "2016.09.4\n",
      "Tue May 23 09:39:13 2017\n"
     ]
    }
   ],
   "source": [
    "import glob\n",
    "import py3Dmol\n",
    "\n",
    "import matplotlib\n",
    "import matplotlib.pyplot as plt\n",
    "import seaborn as sns\n",
    "import pandas as pd\n",
    "import numpy as np\n",
    "%matplotlib inline \n",
    "\n",
    "from rdkit import Chem\n",
    "from rdkit.Chem import AllChem\n",
    "from rdkit.Chem import Draw\n",
    "from rdkit.Chem import rdMolAlign\n",
    "from rdkit.Chem.Draw import IPythonConsole\n",
    "from rdkit import rdBase\n",
    "print(rdBase.rdkitVersion)\n",
    "import os,time\n",
    "print( time.asctime())"
   ]
  },
  {
   "cell_type": "code",
   "execution_count": 3,
   "metadata": {
    "collapsed": true,
    "deletable": true,
    "editable": true
   },
   "outputs": [],
   "source": [
    "# Functions used in this notebook:\n",
    "def grep_energies_from_csvfile(fcsv):\n",
    "    energies = {}\n",
    "    with open(fcsv,'r') as f:\n",
    "        lines = f.readlines()\n",
    "        for line in lines:\n",
    "            words = line.split()\n",
    "            name = words[0].rsplit(\"_\", 5)[0]\n",
    "            energies[name] = float(words[1])\n",
    "    return energies\n",
    "\n",
    "def find_duplicates(rms_sorted, energy, rms_thresh, print_msg):\n",
    "    i = 0\n",
    "    to_be_deleted = []\n",
    "    while i < len(rms_sorted):\n",
    "        j = i + 1\n",
    "        while j < len(rms_sorted):\n",
    "            if rms_sorted[i][0] in to_be_deleted:\n",
    "                i = i + 1\n",
    "                j = j + 1\n",
    "            elif rms_sorted[j][0] in to_be_deleted:\n",
    "                j = j + 1\n",
    "            else:\n",
    "                rms1 = rms_sorted[i][1]\n",
    "                rms2 = rms_sorted[j][1]\n",
    "                if (rms2 - rms1) < rms_thresh:\n",
    "                    if energy[rms_sorted[i][0]] < energy[rms_sorted[j][0]]:\n",
    "                        to_be_deleted.append(rms_sorted[j][0])\n",
    "                    else:\n",
    "                        to_be_deleted.append(rms_sorted[i][0])\n",
    "                else:\n",
    "                    break\n",
    "        i = i + 1\n",
    "    if to_be_deleted and print_msg:\n",
    "        print(\"Conformers which will be deleted:\")    \n",
    "        print(to_be_deleted)\n",
    "    return to_be_deleted\n",
    "\n",
    "def get_moldict_from_inplist(inplist):\n",
    "    moldict = {}\n",
    "    for i, inp in enumerate(inplist):\n",
    "        mol = Chem.MolFromMolFile(inp)\n",
    "        name = os.path.basename(os.path.splitext(inp)[0]).rsplit(\"_\", 5)[0]\n",
    "        model = \"_\".join(os.path.basename(os.path.splitext(inp)[0]).rsplit(\"_\", 2)[1:])\n",
    "        moldict[name] = mol\n",
    "    return moldict\n",
    "\n",
    "def check_freq(method, freq_inp_list):\n",
    "    negative_freq_dict = {}\n",
    "    for inp in freq_inp_list:\n",
    "        count = 0\n",
    "        with open(inp, \"r\") as f:\n",
    "            lines = f.readlines()\n",
    "            for line in lines:\n",
    "                freq = line.split().strip()[1]\n",
    "                print(freq)\n",
    "                if float(freq) < 0.0:\n",
    "                    count += 1\n",
    "            if count > 0:\n",
    "                negative_freq_list[os.path.basename(os.path.splitext(inp)[0]).rsplit(\"_\", 5)[0]] = count\n",
    "    if negative_freq_dict:\n",
    "        return negative_freq_dict\n",
    "    else:\n",
    "        print(\"{}: all harmonic frequencies are positive\".format(method))\n",
    "\n",
    "\n",
    "def align_and_show(moldict):\n",
    "    \n",
    "    for key, mol in moldict.items():    \n",
    "        core_mol = mol.GetSubstructMatch(Chem.MolFromSmiles(core_smiles))\n",
    "        AllChem.AlignMol(mol,m1_crystal,atomMap=list(zip(core_mol,core_m1)))\n",
    "    \n",
    "    p = py3Dmol.view(width=400,height=400)\n",
    "    for key, mol in moldict.items(): \n",
    "        mb = Chem.MolToMolBlock(mol)\n",
    "        p.addModel(mb,'sdf')\n",
    "    p.setStyle({'stick':{'radius':'0.15'}})\n",
    "    p.setBackgroundColor('0xeeeeee')\n",
    "    p.zoomTo()\n",
    "    return p "
   ]
  },
  {
   "cell_type": "code",
   "execution_count": 4,
   "metadata": {
    "collapsed": true,
    "deletable": true,
    "editable": true
   },
   "outputs": [],
   "source": [
    "# decide what is the \"core\" - a part of molecule, which we wish to be most aligned (rmsd-wise) among all the structures\n",
    "smiles = 'O=C1NCCNC(=O)c2nc(C(=O)NCCNC(=O)c3nc1ccc3)ccc2'\n",
    "core_smiles = 'n1ccccc1'\n",
    "\n",
    "m1 = Chem.AddHs(Chem.MolFromSmiles(smiles))\n",
    "core_m1 = m1.GetSubstructMatch(Chem.MolFromSmiles(core_smiles))\n",
    "\n",
    "templ_m1 = Chem.SDMolSupplier('/home/gosia/work/work_on_gitlab/icho/calcs/m1/balloon/m1_crystal.sdf')\n",
    "m1_crystal = templ_m1[0]"
   ]
  },
  {
   "cell_type": "markdown",
   "metadata": {
    "deletable": true,
    "editable": true
   },
   "source": [
    "## Geometry optimization in Gaussian 09 software"
   ]
  },
  {
   "cell_type": "markdown",
   "metadata": {
    "deletable": true,
    "editable": true
   },
   "source": [
    "### Computational setup and workflow"
   ]
  },
  {
   "cell_type": "markdown",
   "metadata": {
    "deletable": true,
    "editable": true
   },
   "source": [
    "Since there are only few pre-selected conformer candidates, we have used two DFT models for the geometry optimization and harmonic frequency calculations:\n",
    "\n",
    "* DFT without dispersion corrections (PBE) and with 6-31G(d) basis set (\"pbe_631\");\n",
    "\n",
    "* DFT with dispersion corrections (B97D) and with 6-31G(d) basis set (\"b97d_631\");\n",
    "\n",
    "For both models we will compare the optimized geometries and energies and remove the duplicates.\n",
    "\n",
    "\n",
    "\n",
    "\n",
    "\n",
    "For the lowest-energy conformer we will evaluate the error due to the computational model by performing the calculations with:\n",
    "\n",
    "* MP2 method and 6-31G(d) basis set (\"mp2_631\")\n",
    "* MP2 method and cc-pVTZ basis set (\"mp2_ccpvtz\")\n",
    "* MP2 method and the complete basis set limit (?)\n",
    "    \n",
    "\n",
    "\n",
    "For all the conformers we will do Gibbs free enthalpy calculations and determine the population of conformers."
   ]
  },
  {
   "cell_type": "markdown",
   "metadata": {
    "deletable": true,
    "editable": true
   },
   "source": [
    "### Results"
   ]
  },
  {
   "cell_type": "markdown",
   "metadata": {
    "deletable": true,
    "editable": true
   },
   "source": [
    "#### Comparison of DFT results with and without dispesion corrections"
   ]
  },
  {
   "cell_type": "code",
   "execution_count": 5,
   "metadata": {
    "collapsed": false,
    "deletable": true,
    "editable": true
   },
   "outputs": [],
   "source": [
    "inps_gaussian_pbe_631gd = glob.glob('/home/gosia/work/work_on_gitlab/icho/calcs/m1/gaussian_results/optimized_geometries_frequencies_from_outputs/*pbe_631gd.sdf')\n",
    "mol_gaussian_pbe_631gd = get_moldict_from_inplist(inps_gaussian_pbe_631gd)\n",
    "\n",
    "inps_gaussian_b97d_631gd = glob.glob('/home/gosia/work/work_on_gitlab/icho/calcs/m1/gaussian_results/optimized_geometries_frequencies_from_outputs/*b97d_631gd.sdf')\n",
    "mol_gaussian_b97d_631gd = get_moldict_from_inplist(inps_gaussian_b97d_631gd)\n",
    "\n",
    "#p = align_and_show(mol_m1_gaussian_pbe_631gd) \n",
    "#p.show()"
   ]
  },
  {
   "cell_type": "code",
   "execution_count": 6,
   "metadata": {
    "collapsed": true,
    "deletable": true,
    "editable": true
   },
   "outputs": [],
   "source": [
    "f_pbe_631gd = \"/home/gosia/work/work_on_gitlab/icho/calcs/m1/gaussian_results/optimized_geometries_frequencies_from_outputs/energy_pbe_631gd.csv\"\n",
    "energy_pbe_631gd = grep_energies_from_csvfile(f_pbe_631gd)\n",
    "\n",
    "f_b97d_631gd = \"/home/gosia/work/work_on_gitlab/icho/calcs/m1/gaussian_results/optimized_geometries_frequencies_from_outputs/energy_b97d_631gd.csv\"\n",
    "energy_b97d_631gd = grep_energies_from_csvfile(f_b97d_631gd)\n",
    "\n",
    "rms_pbe_631gd = {}\n",
    "rms_b97d_631gd = {}\n",
    "\n",
    "for key, mol in mol_gaussian_pbe_631gd.items():\n",
    "    rms_pbe_631gd[key] = AllChem.GetBestRMS(Chem.RemoveHs(mol),Chem.RemoveHs(m1_crystal))\n",
    "for key, mol in mol_gaussian_b97d_631gd.items():\n",
    "    rms_b97d_631gd[key] = AllChem.GetBestRMS(Chem.RemoveHs(mol),Chem.RemoveHs(m1_crystal))    "
   ]
  },
  {
   "cell_type": "code",
   "execution_count": 7,
   "metadata": {
    "collapsed": false,
    "deletable": true,
    "editable": true,
    "scrolled": true
   },
   "outputs": [
    {
     "name": "stdout",
     "output_type": "stream",
     "text": [
      "Selected conformers sorted by energies [a.u.], pbe_631gd: \n",
      "1     m1_b_sdf_3                  -1324.91571522 \n",
      "2     m1_rdkit_smi_10             -1324.87644552 \n",
      "3     m1_rdkit_smi_20             -1324.87344873 \n",
      "4     m1_rdkit_smi_16             -1324.86930427 \n",
      "5     m1_rdkit_smi_32             -1324.86197522 \n",
      "\n",
      "\n",
      "Selected conformers sorted by energies [a.u.], b97d_631gd: \n",
      "1     m1_b_sdf_3                  -1325.34337037 \n",
      "2     m1_b_sdf_0                  -1325.34066663 \n",
      "3     m1_rdkit_smi_10             -1325.31935223 \n",
      "4     m1_rdkit_smi_51             -1325.30901709 \n",
      "5     m1_rdkit_smi_16                -1325.30782 \n",
      "6     m1_rdkit_smi_32             -1325.29926582 \n",
      "7     m1_rdkit_sdf_26             -1325.29594008 \n"
     ]
    }
   ],
   "source": [
    "#Having a set of DFT-optimized conformers, \n",
    "# we will analyze the root-mean-square distance between them (RMSD) and their energy in order to remove duplicates.\n",
    "\n",
    "rms_thresh = 0.05\n",
    "rms_sorted_pbe_631gd = sorted(rms_pbe_631gd.items(), key=lambda x: x[1])\n",
    "rms_sorted_b97d_631gd = sorted(rms_b97d_631gd.items(), key=lambda x: x[1])\n",
    "\n",
    "# now compare RMS of each pair, if the structures are too similar then delete the one with the higher energy\n",
    "to_be_deleted_pbe_631gd = find_duplicates(rms_sorted_pbe_631gd, energy_pbe_631gd, rms_thresh, False)\n",
    "to_be_deleted_b97d_631gd = find_duplicates(rms_sorted_b97d_631gd, energy_b97d_631gd, rms_thresh, False)\n",
    "\n",
    "for mol in to_be_deleted_pbe_631gd:\n",
    "    del mol_gaussian_pbe_631gd[mol]\n",
    "    del energy_pbe_631gd[mol]\n",
    "    del rms_pbe_631gd[mol]\n",
    "    \n",
    "for mol in to_be_deleted_b97d_631gd:\n",
    "    del mol_gaussian_b97d_631gd[mol]\n",
    "    del energy_b97d_631gd[mol]\n",
    "    del rms_b97d_631gd[mol]\n",
    "\n",
    "# print the names and energies of remaining conformers, sorted by energies:\n",
    "print(\"Selected conformers sorted by energies [a.u.], pbe_631gd: \")\n",
    "energy_pbe_631gd_sorted = sorted(energy_pbe_631gd.items(), key=lambda x: x[1])\n",
    "for i, p in enumerate(energy_pbe_631gd_sorted):\n",
    "    print(\"{0:<5} {1:20}  {2:20} \".format(i+1, p[0], p[1]))\n",
    "\n",
    "print(\"\\n\")\n",
    "print(\"Selected conformers sorted by energies [a.u.], b97d_631gd: \")\n",
    "energy_b97d_631gd_sorted = sorted(energy_b97d_631gd.items(), key=lambda x: x[1])\n",
    "for i, p in enumerate(energy_b97d_631gd_sorted):\n",
    "    print(\"{0:<5} {1:20}  {2:20} \".format(i+1, p[0], p[1]))"
   ]
  },
  {
   "cell_type": "markdown",
   "metadata": {
    "deletable": true,
    "editable": true
   },
   "source": [
    "All these conformers are local minima:"
   ]
  },
  {
   "cell_type": "code",
   "execution_count": 8,
   "metadata": {
    "collapsed": false,
    "deletable": true,
    "editable": true
   },
   "outputs": [
    {
     "name": "stdout",
     "output_type": "stream",
     "text": [
      "pbe_631gd: all harmonic frequencies are positive\n"
     ]
    }
   ],
   "source": [
    "f_freq_gaussian_pbe_631gd = glob.glob('/home/gosia/work/work_on_gitlab/icho/calcs/m1/gaussian_results/optimized_geometries_frequencies_from_outputs/freq*pbe_631gd.csv')\n",
    "freq_gaussian_pbe_631gd = check_freq(\"pbe_631gd\", f_freq_gaussian_pbe_631gd)"
   ]
  },
  {
   "cell_type": "code",
   "execution_count": 9,
   "metadata": {
    "collapsed": false,
    "deletable": true,
    "editable": true
   },
   "outputs": [
    {
     "name": "stdout",
     "output_type": "stream",
     "text": [
      "b97d_631gd: all harmonic frequencies are positive\n"
     ]
    }
   ],
   "source": [
    "f_freq_gaussian_b97d_631gd = glob.glob('/home/gosia/work/work_on_gitlab/icho/calcs/m1/gaussian_results/optimized_geometries_frequencies_from_outputs/freq*pbe_631gd.csv')\n",
    "freq_gaussian_b97d_631gd = check_freq(\"b97d_631gd\", f_freq_gaussian_b97d_631gd)"
   ]
  },
  {
   "cell_type": "markdown",
   "metadata": {
    "deletable": true,
    "editable": true
   },
   "source": [
    "The aligned structures of selected conformers obtained with PBE and B97D and 6-31G(d) basis set are presented below:"
   ]
  },
  {
   "cell_type": "code",
   "execution_count": 10,
   "metadata": {
    "collapsed": false,
    "deletable": true,
    "editable": true
   },
   "outputs": [
    {
     "data": {
      "text/html": [
       "<table>\n",
       "  <tr>\n",
       "    <td id=\"pbe_631gd\" ></td>\n",
       "    <td id=\"b97d_631gd\"  ></td>\n",
       "  <tr>\n",
       "    <td> pbe_631gd </td>\n",
       "    <td> b97d_631gd  </td>  \n",
       "  </tr>\n",
       "</table>"
      ],
      "text/plain": [
       "<IPython.core.display.HTML object>"
      ]
     },
     "metadata": {},
     "output_type": "display_data"
    }
   ],
   "source": [
    "%%html\n",
    "<table>\n",
    "  <tr>\n",
    "    <td id=\"pbe_631gd\" ></td>\n",
    "    <td id=\"b97d_631gd\"  ></td>\n",
    "  <tr>\n",
    "    <td> pbe_631gd </td>\n",
    "    <td> b97d_631gd  </td>  \n",
    "  </tr>\n",
    "</table>"
   ]
  },
  {
   "cell_type": "code",
   "execution_count": 11,
   "metadata": {
    "collapsed": false,
    "deletable": true,
    "editable": true
   },
   "outputs": [
    {
     "data": {
      "text/html": [
       "<div id=\"3dmolviewer_14955251552638178\"  style=\"position: relative; width: 400px; height: 400px\">\n",
       "<script>\n",
       "if(typeof $3Dmolpromise === 'undefined') $3Dmolpromise = $.when($.getScript('http://3dmol.csb.pitt.edu/build/3Dmol.js'))\n",
       "var viewer_14955251552638178 = null;\n",
       "$3Dmolpromise.done(function() {\n",
       "viewer_14955251552638178 = $3Dmol.createViewer($(\"#3dmolviewer_14955251552638178\"),{backgroundColor:\"white\"});\n",
       "\tviewer_14955251552638178.addModel(\"SCF Done:  E(RPBEh1PBE) =  -1324.86930427     A.U. after    7 cycles\\n     RDKit          3D\\n\\n 28 30  0  0  0  0  0  0  0  0999 V2000\\n    4.2465    8.0645   -1.7375 O   0  0  0  0  0  0  0  0  0  0  0  0\\n    5.1989    8.4972   -1.1056 C   0  0  0  0  0  0  0  0  0  0  0  0\\n    6.4663    8.1094   -1.4080 N   0  0  0  0  0  0  0  0  0  0  0  0\\n    7.7385    8.6593   -0.9965 C   0  0  0  0  0  0  0  0  0  0  0  0\\n    8.4299    7.8770    0.1267 C   0  0  0  0  0  0  0  0  0  0  0  0\\n    9.5946    8.6089    0.5647 N   0  0  0  0  0  0  0  0  0  0  0  0\\n   10.8066    8.4710   -0.0233 C   0  0  0  0  0  0  0  0  0  0  0  0\\n   11.1522    7.5212   -0.7067 O   0  0  0  0  0  0  0  0  0  0  0  0\\n   11.7268    9.6455    0.2032 C   0  0  0  0  0  0  0  0  0  0  0  0\\n   11.1805   10.7729    0.6661 N   0  0  0  0  0  0  0  0  0  0  0  0\\n   11.9499   11.8595    0.7457 C   0  0  0  0  0  0  0  0  0  0  0  0\\n   11.3334   13.1863    1.1059 C   0  0  0  0  0  0  0  0  0  0  0  0\\n   11.8799   14.2164    0.7501 O   0  0  0  0  0  0  0  0  0  0  0  0\\n   10.1401   13.2215    1.7729 N   0  0  0  0  0  0  0  0  0  0  0  0\\n    9.5394   12.2248    2.6281 C   0  0  0  0  0  0  0  0  0  0  0  0\\n    8.1997   11.6980    2.1110 C   0  0  0  0  0  0  0  0  0  0  0  0\\n    7.7104   10.7267    3.0793 N   0  0  0  0  0  0  0  0  0  0  0  0\\n    6.4081   10.3547    3.2729 C   0  0  0  0  0  0  0  0  0  0  0  0\\n    5.9961   10.0168    4.3676 O   0  0  0  0  0  0  0  0  0  0  0  0\\n    5.4722   10.3144    2.0928 C   0  0  0  0  0  0  0  0  0  0  0  0\\n    5.8507    9.6387    1.0041 N   0  0  0  0  0  0  0  0  0  0  0  0\\n    4.9313    9.4314    0.0544 C   0  0  0  0  0  0  0  0  0  0  0  0\\n    3.6386    9.9580    0.1193 C   0  0  0  0  0  0  0  0  0  0  0  0\\n    3.2731   10.7000    1.2346 C   0  0  0  0  0  0  0  0  0  0  0  0\\n    4.1948   10.8505    2.2629 C   0  0  0  0  0  0  0  0  0  0  0  0\\n   13.3027   11.8562    0.3977 C   0  0  0  0  0  0  0  0  0  0  0  0\\n   13.8721   10.6676   -0.0453 C   0  0  0  0  0  0  0  0  0  0  0  0\\n   13.0666    9.5402   -0.1645 C   0  0  0  0  0  0  0  0  0  0  0  0\\n  2  3  1  0\\n  2  1  2  0\\n  4  3  1  0\\n  5  4  1  0\\n  6  5  1  0\\n  6  7  1  0\\n  7  8  2  0\\n  7  9  1  0\\n  9 10  1  0\\n  9 28  2  0\\n 10 11  2  0\\n 11 26  1  0\\n 11 12  1  0\\n 12 13  2  0\\n 14 12  1  0\\n 15 16  1  0\\n 15 14  1  0\\n 17 16  1  0\\n 18 17  1  0\\n 18 20  1  0\\n 19 18  2  0\\n 20 25  2  0\\n 20 21  1  0\\n 21 22  2  0\\n 22 23  1  0\\n 22  2  1  0\\n 24 23  2  0\\n 25 24  1  0\\n 27 26  2  0\\n 28 27  1  0\\nM  END\\n\",\"sdf\");\n",
       "\tviewer_14955251552638178.addModel(\"SCF Done:  E(RPBEh1PBE) =  -1324.86197522     A.U. after    7 cycles\\n     RDKit          3D\\n\\n 28 30  0  0  0  0  0  0  0  0999 V2000\\n    6.1751    9.6362    5.3607 O   0  0  0  0  0  0  0  0  0  0  0  0\\n    6.4281    9.7010    4.1681 C   0  0  0  0  0  0  0  0  0  0  0  0\\n    7.5923    9.1921    3.6707 N   0  0  0  0  0  0  0  0  0  0  0  0\\n    7.9158    8.7713    2.3209 C   0  0  0  0  0  0  0  0  0  0  0  0\\n    9.4272    8.8151    2.1204 C   0  0  0  0  0  0  0  0  0  0  0  0\\n    9.7634    8.2349    0.8343 N   0  0  0  0  0  0  0  0  0  0  0  0\\n   10.8860    8.3985    0.0760 C   0  0  0  0  0  0  0  0  0  0  0  0\\n   11.2087    7.5639   -0.7545 O   0  0  0  0  0  0  0  0  0  0  0  0\\n   11.7293    9.6386    0.2289 C   0  0  0  0  0  0  0  0  0  0  0  0\\n   11.1786   10.7736    0.6635 N   0  0  0  0  0  0  0  0  0  0  0  0\\n   11.9506   11.8595    0.7389 C   0  0  0  0  0  0  0  0  0  0  0  0\\n   11.3888   13.1538    1.2699 C   0  0  0  0  0  0  0  0  0  0  0  0\\n   12.1442   13.9492    1.8057 O   0  0  0  0  0  0  0  0  0  0  0  0\\n   10.0521   13.4112    1.1765 N   0  0  0  0  0  0  0  0  0  0  0  0\\n    9.0705   12.8721    0.2552 C   0  0  0  0  0  0  0  0  0  0  0  0\\n    7.6763   13.0011    0.8601 C   0  0  0  0  0  0  0  0  0  0  0  0\\n    6.6825   12.6217   -0.1259 N   0  0  0  0  0  0  0  0  0  0  0  0\\n    5.3933   12.2134    0.0563 C   0  0  0  0  0  0  0  0  0  0  0  0\\n    4.5699   12.3169   -0.8391 O   0  0  0  0  0  0  0  0  0  0  0  0\\n    4.9737   11.5929    1.3644 C   0  0  0  0  0  0  0  0  0  0  0  0\\n    5.8704   10.9602    2.1236 N   0  0  0  0  0  0  0  0  0  0  0  0\\n    5.4467   10.3856    3.2510 C   0  0  0  0  0  0  0  0  0  0  0  0\\n    4.1187   10.4394    3.6801 C   0  0  0  0  0  0  0  0  0  0  0  0\\n    3.1868   11.0797    2.8729 C   0  0  0  0  0  0  0  0  0  0  0  0\\n    3.6160   11.6587    1.6851 C   0  0  0  0  0  0  0  0  0  0  0  0\\n   13.3075   11.8527    0.4079 C   0  0  0  0  0  0  0  0  0  0  0  0\\n   13.8681   10.6731   -0.0661 C   0  0  0  0  0  0  0  0  0  0  0  0\\n   13.0644    9.5446   -0.1703 C   0  0  0  0  0  0  0  0  0  0  0  0\\n  2  1  2  0\\n  3  2  1  0\\n  4  5  1  0\\n  4  3  1  0\\n  6  5  1  0\\n  7  6  1  0\\n  7  9  1  0\\n  8  7  2  0\\n  9 28  2  0\\n  9 10  1  0\\n 10 11  2  0\\n 11 26  1  0\\n 11 12  1  0\\n 12 13  2  0\\n 14 12  1  0\\n 15 16  1  0\\n 15 14  1  0\\n 17 16  1  0\\n 18 17  1  0\\n 18 20  1  0\\n 19 18  2  0\\n 20 21  1  0\\n 21 22  2  0\\n 22  2  1  0\\n 23 22  1  0\\n 24 23  2  0\\n 25 20  2  0\\n 25 24  1  0\\n 27 26  2  0\\n 28 27  1  0\\nM  END\\n\",\"sdf\");\n",
       "\tviewer_14955251552638178.addModel(\"SCF Done:  E(RPBEh1PBE) =  -1324.91571522     A.U. after    7 cycles\\n     RDKit          3D\\n\\n 28 30  0  0  0  0  0  0  0  0999 V2000\\n   11.2898    7.4108   -0.4766 O   0  0  0  0  0  0  0  0  0  0  0  0\\n   11.9854   14.1979    1.1555 O   0  0  0  0  0  0  0  0  0  0  0  0\\n    5.5214   14.7243    1.7255 O   0  0  0  0  0  0  0  0  0  0  0  0\\n    4.8246    7.9375    0.0924 O   0  0  0  0  0  0  0  0  0  0  0  0\\n    9.5903    8.5713    0.5016 N   0  0  0  0  0  0  0  0  0  0  0  0\\n   11.1749   10.7736    0.6642 N   0  0  0  0  0  0  0  0  0  0  0  0\\n   10.0515   13.0717    1.5839 N   0  0  0  0  0  0  0  0  0  0  0  0\\n    7.2218   13.5633    0.7494 N   0  0  0  0  0  0  0  0  0  0  0  0\\n    5.6366   11.3613    0.5852 N   0  0  0  0  0  0  0  0  0  0  0  0\\n    6.7604    9.0623   -0.3317 N   0  0  0  0  0  0  0  0  0  0  0  0\\n   10.8561    8.4253    0.0448 C   0  0  0  0  0  0  0  0  0  0  0  0\\n   11.7267    9.6444    0.2108 C   0  0  0  0  0  0  0  0  0  0  0  0\\n   11.9534   11.8567    0.7433 C   0  0  0  0  0  0  0  0  0  0  0  0\\n   11.3416   13.1616    1.1840 C   0  0  0  0  0  0  0  0  0  0  0  0\\n    9.2754   14.2325    1.9542 C   0  0  0  0  0  0  0  0  0  0  0  0\\n    8.2226   14.5931    0.9069 C   0  0  0  0  0  0  0  0  0  0  0  0\\n    5.9554   13.7098    1.2044 C   0  0  0  0  0  0  0  0  0  0  0  0\\n    5.0846   12.4909    1.0376 C   0  0  0  0  0  0  0  0  0  0  0  0\\n    4.8576   10.2786    0.5052 C   0  0  0  0  0  0  0  0  0  0  0  0\\n    5.4694    8.9732    0.0654 C   0  0  0  0  0  0  0  0  0  0  0  0\\n    7.5361    7.9009   -0.7015 C   0  0  0  0  0  0  0  0  0  0  0  0\\n    8.5895    7.5412    0.3455 C   0  0  0  0  0  0  0  0  0  0  0  0\\n   13.0672    9.5422   -0.1594 C   0  0  0  0  0  0  0  0  0  0  0  0\\n   13.8722   10.6700   -0.0536 C   0  0  0  0  0  0  0  0  0  0  0  0\\n   13.3042   11.8553    0.3975 C   0  0  0  0  0  0  0  0  0  0  0  0\\n    3.7437   12.5937    1.4060 C   0  0  0  0  0  0  0  0  0  0  0  0\\n    2.9383   11.4662    1.2993 C   0  0  0  0  0  0  0  0  0  0  0  0\\n    3.5064   10.2807    0.8490 C   0  0  0  0  0  0  0  0  0  0  0  0\\n  2 14  2  0\\n  3 17  2  0\\n  5 22  1  0\\n  6 12  2  0\\n  8 17  1  0\\n  9 19  1  0\\n 10 21  1  0\\n 10 20  1  0\\n 11  5  1  0\\n 11  1  2  0\\n 12 11  1  0\\n 13  6  1  0\\n 14 13  1  0\\n 14  7  1  0\\n 15  7  1  0\\n 15 16  1  0\\n 16  8  1  0\\n 17 18  1  0\\n 18  9  2  0\\n 18 26  1  0\\n 19 20  1  0\\n 19 28  2  0\\n 20  4  2  0\\n 22 21  1  0\\n 23 12  1  0\\n 24 23  2  0\\n 25 24  1  0\\n 25 13  2  0\\n 26 27  2  0\\n 27 28  1  0\\nM  END\\n\",\"sdf\");\n",
       "\tviewer_14955251552638178.addModel(\"SCF Done:  E(RPBEh1PBE) =  -1324.87644552     A.U. after    7 cycles\\n     RDKit          3D\\n\\n 28 30  0  0  0  0  0  0  0  0999 V2000\\n    7.3809    7.0780    2.3150 O   0  0  0  0  0  0  0  0  0  0  0  0\\n    7.7419    8.1950    2.6487 C   0  0  0  0  0  0  0  0  0  0  0  0\\n    7.6276    9.3083    1.8822 N   0  0  0  0  0  0  0  0  0  0  0  0\\n    7.3741    9.2308    0.4668 C   0  0  0  0  0  0  0  0  0  0  0  0\\n    8.6607    9.3469   -0.3558 C   0  0  0  0  0  0  0  0  0  0  0  0\\n    9.6001    8.3188    0.0329 N   0  0  0  0  0  0  0  0  0  0  0  0\\n   10.9512    8.3391    0.1807 C   0  0  0  0  0  0  0  0  0  0  0  0\\n   11.5778    7.2965    0.2982 O   0  0  0  0  0  0  0  0  0  0  0  0\\n   11.7272    9.6385    0.2205 C   0  0  0  0  0  0  0  0  0  0  0  0\\n   11.1726   10.7760    0.6520 N   0  0  0  0  0  0  0  0  0  0  0  0\\n   11.9518   11.8593    0.7448 C   0  0  0  0  0  0  0  0  0  0  0  0\\n   11.4134   13.1958    1.2038 C   0  0  0  0  0  0  0  0  0  0  0  0\\n   12.0413   14.2066    0.9231 O   0  0  0  0  0  0  0  0  0  0  0  0\\n   10.2672   13.2940    1.9332 N   0  0  0  0  0  0  0  0  0  0  0  0\\n    9.3305   12.3067    2.4168 C   0  0  0  0  0  0  0  0  0  0  0  0\\n    8.9502   12.5365    3.8787 C   0  0  0  0  0  0  0  0  0  0  0  0\\n   10.0195   12.2673    4.8158 N   0  0  0  0  0  0  0  0  0  0  0  0\\n   10.2781   11.1759    5.5912 C   0  0  0  0  0  0  0  0  0  0  0  0\\n   11.1252   11.2238    6.4690 O   0  0  0  0  0  0  0  0  0  0  0  0\\n    9.5444    9.8785    5.3539 C   0  0  0  0  0  0  0  0  0  0  0  0\\n    8.9170    9.6553    4.1989 N   0  0  0  0  0  0  0  0  0  0  0  0\\n    8.3738    8.4525    3.9930 C   0  0  0  0  0  0  0  0  0  0  0  0\\n    8.4112    7.4256    4.9322 C   0  0  0  0  0  0  0  0  0  0  0  0\\n    9.0474    7.6697    6.1450 C   0  0  0  0  0  0  0  0  0  0  0  0\\n    9.6359    8.9102    6.3583 C   0  0  0  0  0  0  0  0  0  0  0  0\\n   13.3012   11.8579    0.3817 C   0  0  0  0  0  0  0  0  0  0  0  0\\n   13.8706   10.6727   -0.0629 C   0  0  0  0  0  0  0  0  0  0  0  0\\n   13.0753    9.5376   -0.1334 C   0  0  0  0  0  0  0  0  0  0  0  0\\n  2  1  2  0\\n  2 22  1  0\\n  3  2  1  0\\n  4  5  1  0\\n  4  3  1  0\\n  5  6  1  0\\n  6  7  1  0\\n  7  8  2  0\\n  9  7  1  0\\n  9 28  2  0\\n 10 11  2  0\\n 10  9  1  0\\n 11 26  1  0\\n 12 11  1  0\\n 13 12  2  0\\n 14 15  1  0\\n 14 12  1  0\\n 15 16  1  0\\n 16 17  1  0\\n 17 18  1  0\\n 18 20  1  0\\n 18 19  2  0\\n 20 25  2  0\\n 21 22  2  0\\n 21 20  1  0\\n 22 23  1  0\\n 23 24  2  0\\n 25 24  1  0\\n 26 27  2  0\\n 27 28  1  0\\nM  END\\n\",\"sdf\");\n",
       "\tviewer_14955251552638178.addModel(\"SCF Done:  E(RPBEh1PBE) =  -1324.87344873     A.U. after    7 cycles\\n     RDKit          3D\\n\\n 28 30  0  0  0  0  0  0  0  0999 V2000\\n    6.3173    5.5739    3.2103 O   0  0  0  0  0  0  0  0  0  0  0  0\\n    6.9744    6.5915    3.3575 C   0  0  0  0  0  0  0  0  0  0  0  0\\n    8.2658    6.6447    2.9075 N   0  0  0  0  0  0  0  0  0  0  0  0\\n    9.3376    7.5957    3.1529 C   0  0  0  0  0  0  0  0  0  0  0  0\\n    9.4775    8.6633    2.0656 C   0  0  0  0  0  0  0  0  0  0  0  0\\n    9.8489    8.1062    0.7879 N   0  0  0  0  0  0  0  0  0  0  0  0\\n   10.8847    8.4108   -0.0382 C   0  0  0  0  0  0  0  0  0  0  0  0\\n   11.1542    7.7064   -0.9982 O   0  0  0  0  0  0  0  0  0  0  0  0\\n   11.7288    9.6409    0.2127 C   0  0  0  0  0  0  0  0  0  0  0  0\\n   11.1779   10.7700    0.6722 N   0  0  0  0  0  0  0  0  0  0  0  0\\n   11.9470   11.8637    0.7407 C   0  0  0  0  0  0  0  0  0  0  0  0\\n   11.4067   13.2301    1.1284 C   0  0  0  0  0  0  0  0  0  0  0  0\\n   12.1545   14.1919    1.0196 O   0  0  0  0  0  0  0  0  0  0  0  0\\n   10.1213   13.4231    1.5352 N   0  0  0  0  0  0  0  0  0  0  0  0\\n    9.1040   12.5009    1.9859 C   0  0  0  0  0  0  0  0  0  0  0  0\\n    9.0342   12.4077    3.5194 C   0  0  0  0  0  0  0  0  0  0  0  0\\n    8.2274   11.2885    3.9280 N   0  0  0  0  0  0  0  0  0  0  0  0\\n    6.9671   11.3757    4.4146 C   0  0  0  0  0  0  0  0  0  0  0  0\\n    6.4038   12.4054    4.7432 O   0  0  0  0  0  0  0  0  0  0  0  0\\n    6.2907   10.0286    4.5145 C   0  0  0  0  0  0  0  0  0  0  0  0\\n    6.9262    8.9819    3.9810 N   0  0  0  0  0  0  0  0  0  0  0  0\\n    6.3328    7.7898    4.0127 C   0  0  0  0  0  0  0  0  0  0  0  0\\n    5.0774    7.5936    4.5964 C   0  0  0  0  0  0  0  0  0  0  0  0\\n    4.4277    8.6846    5.1613 C   0  0  0  0  0  0  0  0  0  0  0  0\\n    5.0385    9.9341    5.1149 C   0  0  0  0  0  0  0  0  0  0  0  0\\n   13.3039   11.8514    0.4026 C   0  0  0  0  0  0  0  0  0  0  0  0\\n   13.8736   10.6693   -0.0505 C   0  0  0  0  0  0  0  0  0  0  0  0\\n   13.0674    9.5467   -0.1749 C   0  0  0  0  0  0  0  0  0  0  0  0\\n  2  1  2  0\\n  2 22  1  0\\n  3  2  1  0\\n  4  3  1  0\\n  4  5  1  0\\n  5  6  1  0\\n  7  6  1  0\\n  8  7  2  0\\n  9  7  1  0\\n  9 10  2  0\\n 11 10  1  0\\n 11 12  1  0\\n 12 14  1  0\\n 13 12  2  0\\n 14 15  1  0\\n 16 15  1  0\\n 17 16  1  0\\n 17 18  1  0\\n 18 19  2  0\\n 20 18  1  0\\n 20 25  2  0\\n 21 20  1  0\\n 22 21  2  0\\n 22 23  1  0\\n 23 24  2  0\\n 24 25  1  0\\n 26 11  2  0\\n 27 28  2  0\\n 27 26  1  0\\n 28  9  1  0\\nM  END\\n\",\"sdf\");\n",
       "\tviewer_14955251552638178.setStyle({\"stick\": {\"radius\": \"0.15\"}});\n",
       "\tviewer_14955251552638178.setBackgroundColor(\"0xeeeeee\");\n",
       "\tviewer_14955251552638178.zoomTo();\n",
       "viewer_14955251552638178.render();\n",
       "});\n",
       "</script><script>$(\"#pbe_631gd\").append($(\"#3dmolviewer_14955251552638178\")); </script>"
      ],
      "text/plain": [
       "<IPython.core.display.HTML object>"
      ]
     },
     "execution_count": 11,
     "metadata": {},
     "output_type": "execute_result"
    }
   ],
   "source": [
    "for key, mol in mol_gaussian_pbe_631gd.items():\n",
    "    core_mol = mol.GetSubstructMatch(Chem.MolFromSmiles(core_smiles))\n",
    "    AllChem.AlignMol(mol,m1_crystal,atomMap=list(zip(core_mol,core_m1)))\n",
    "    \n",
    "p1 = py3Dmol.view(width=400,height=400)\n",
    "for key, mol in mol_gaussian_pbe_631gd.items():\n",
    "    mb = Chem.MolToMolBlock(mol)\n",
    "    p1.addModel(mb,'sdf')\n",
    "p1.setStyle({'stick':{'radius':'0.15'}})\n",
    "p1.setBackgroundColor('0xeeeeee')\n",
    "p1.zoomTo()\n",
    "p1.insert(\"pbe_631gd\")"
   ]
  },
  {
   "cell_type": "code",
   "execution_count": 12,
   "metadata": {
    "collapsed": false,
    "deletable": true,
    "editable": true
   },
   "outputs": [
    {
     "data": {
      "text/html": [
       "<div id=\"3dmolviewer_14955251554951158\"  style=\"position: relative; width: 400px; height: 400px\">\n",
       "<script>\n",
       "if(typeof $3Dmolpromise === 'undefined') $3Dmolpromise = $.when($.getScript('http://3dmol.csb.pitt.edu/build/3Dmol.js'))\n",
       "var viewer_14955251554951158 = null;\n",
       "$3Dmolpromise.done(function() {\n",
       "viewer_14955251554951158 = $3Dmol.createViewer($(\"#3dmolviewer_14955251554951158\"),{backgroundColor:\"white\"});\n",
       "\tviewer_14955251554951158.addModel(\"SCF Done:  E(RB97D) =  -1325.30782000     A.U. after    7 cycles\\n     RDKit          3D\\n\\n 28 30  0  0  0  0  0  0  0  0999 V2000\\n    4.2491    8.3093   -1.7829 O   0  0  0  0  0  0  0  0  0  0  0  0\\n    5.2196    8.6619   -1.1066 C   0  0  0  0  0  0  0  0  0  0  0  0\\n    6.4954    8.3085   -1.4793 N   0  0  0  0  0  0  0  0  0  0  0  0\\n    7.8002    8.7467   -0.9874 C   0  0  0  0  0  0  0  0  0  0  0  0\\n    8.4116    7.8287    0.1027 C   0  0  0  0  0  0  0  0  0  0  0  0\\n    9.6120    8.4736    0.6286 N   0  0  0  0  0  0  0  0  0  0  0  0\\n   10.7875    8.4627   -0.0771 C   0  0  0  0  0  0  0  0  0  0  0  0\\n   11.0857    7.6076   -0.9135 O   0  0  0  0  0  0  0  0  0  0  0  0\\n   11.7185    9.6345    0.1986 C   0  0  0  0  0  0  0  0  0  0  0  0\\n   11.1686   10.7711    0.6746 N   0  0  0  0  0  0  0  0  0  0  0  0\\n   11.9449   11.8711    0.7482 C   0  0  0  0  0  0  0  0  0  0  0  0\\n   11.3155   13.2116    1.0918 C   0  0  0  0  0  0  0  0  0  0  0  0\\n   11.8248   14.2528    0.6768 O   0  0  0  0  0  0  0  0  0  0  0  0\\n   10.1440   13.2395    1.8236 N   0  0  0  0  0  0  0  0  0  0  0  0\\n    9.5876   12.2181    2.7022 C   0  0  0  0  0  0  0  0  0  0  0  0\\n    8.3350   11.5185    2.1319 C   0  0  0  0  0  0  0  0  0  0  0  0\\n    7.9766   10.4301    3.0633 N   0  0  0  0  0  0  0  0  0  0  0  0\\n    6.6865   10.0485    3.3872 C   0  0  0  0  0  0  0  0  0  0  0  0\\n    6.3913    9.6107    4.4969 O   0  0  0  0  0  0  0  0  0  0  0  0\\n    5.6410   10.1140    2.2919 C   0  0  0  0  0  0  0  0  0  0  0  0\\n    5.9620    9.5752    1.0994 N   0  0  0  0  0  0  0  0  0  0  0  0\\n    4.9840    9.4500    0.1781 C   0  0  0  0  0  0  0  0  0  0  0  0\\n    3.6773    9.9394    0.3874 C   0  0  0  0  0  0  0  0  0  0  0  0\\n    3.3681   10.5364    1.6161 C   0  0  0  0  0  0  0  0  0  0  0  0\\n    4.3560   10.5921    2.6079 C   0  0  0  0  0  0  0  0  0  0  0  0\\n   13.3104   11.8656    0.3991 C   0  0  0  0  0  0  0  0  0  0  0  0\\n   13.8848   10.6666   -0.0439 C   0  0  0  0  0  0  0  0  0  0  0  0\\n   13.0715    9.5330   -0.1738 C   0  0  0  0  0  0  0  0  0  0  0  0\\n  2  3  1  0\\n  2  1  2  0\\n  4  3  1  0\\n  5  4  1  0\\n  6  5  1  0\\n  6  7  1  0\\n  7  9  1  0\\n  7  8  2  0\\n  9 10  1  0\\n  9 28  2  0\\n 10 11  2  0\\n 11 26  1  0\\n 11 12  1  0\\n 12 13  2  0\\n 14 12  1  0\\n 15 16  1  0\\n 15 14  1  0\\n 17 16  1  0\\n 18 17  1  0\\n 18 20  1  0\\n 19 18  2  0\\n 20 25  2  0\\n 20 21  1  0\\n 21 22  2  0\\n 22 23  1  0\\n 22  2  1  0\\n 24 23  2  0\\n 25 24  1  0\\n 27 26  2  0\\n 28 27  1  0\\nM  END\\n\",\"sdf\");\n",
       "\tviewer_14955251554951158.addModel(\"SCF Done:  E(RB97D) =  -1325.29926582     A.U. after    8 cycles\\n     RDKit          3D\\n\\n 28 30  0  0  0  0  0  0  0  0999 V2000\\n    6.6218   11.8267    4.4736 O   0  0  0  0  0  0  0  0  0  0  0  0\\n    6.8698   11.3875    3.3484 C   0  0  0  0  0  0  0  0  0  0  0  0\\n    8.0033   10.6667    3.0756 N   0  0  0  0  0  0  0  0  0  0  0  0\\n    8.3000    9.8481    1.8955 C   0  0  0  0  0  0  0  0  0  0  0  0\\n    9.4656    8.8927    2.2073 C   0  0  0  0  0  0  0  0  0  0  0  0\\n    9.8726    8.1377    1.0263 N   0  0  0  0  0  0  0  0  0  0  0  0\\n   10.8854    8.3636    0.1198 C   0  0  0  0  0  0  0  0  0  0  0  0\\n   11.1331    7.5454   -0.7679 O   0  0  0  0  0  0  0  0  0  0  0  0\\n   11.7259    9.6249    0.2385 C   0  0  0  0  0  0  0  0  0  0  0  0\\n   11.1616   10.7746    0.6646 N   0  0  0  0  0  0  0  0  0  0  0  0\\n   11.9466   11.8695    0.7402 C   0  0  0  0  0  0  0  0  0  0  0  0\\n   11.3643   13.1488    1.3182 C   0  0  0  0  0  0  0  0  0  0  0  0\\n   12.0357   13.8244    2.1011 O   0  0  0  0  0  0  0  0  0  0  0  0\\n   10.0895   13.4964    0.9551 N   0  0  0  0  0  0  0  0  0  0  0  0\\n    9.2822   12.9694   -0.1498 C   0  0  0  0  0  0  0  0  0  0  0  0\\n    8.1245   13.9366   -0.4553 C   0  0  0  0  0  0  0  0  0  0  0  0\\n    7.2312   13.3972   -1.4759 N   0  0  0  0  0  0  0  0  0  0  0  0\\n    6.0454   12.7059   -1.3574 C   0  0  0  0  0  0  0  0  0  0  0  0\\n    5.3825   12.4117   -2.3536 O   0  0  0  0  0  0  0  0  0  0  0  0\\n    5.5355   12.3319    0.0251 C   0  0  0  0  0  0  0  0  0  0  0  0\\n    6.4088   12.0015    0.9998 N   0  0  0  0  0  0  0  0  0  0  0  0\\n    5.9067   11.6633    2.2055 C   0  0  0  0  0  0  0  0  0  0  0  0\\n    4.5279   11.6533    2.4920 C   0  0  0  0  0  0  0  0  0  0  0  0\\n    3.6294   11.9535    1.4602 C   0  0  0  0  0  0  0  0  0  0  0  0\\n    4.1376   12.2902    0.1991 C   0  0  0  0  0  0  0  0  0  0  0  0\\n   13.3152   11.8624    0.4091 C   0  0  0  0  0  0  0  0  0  0  0  0\\n   13.8785   10.6753   -0.0764 C   0  0  0  0  0  0  0  0  0  0  0  0\\n   13.0707    9.5352   -0.1733 C   0  0  0  0  0  0  0  0  0  0  0  0\\n  2  1  2  0\\n  3  2  1  0\\n  4  5  1  0\\n  4  3  1  0\\n  6  5  1  0\\n  7  6  1  0\\n  7  9  1  0\\n  8  7  2  0\\n  9 10  1  0\\n 10 11  2  0\\n 11 26  1  0\\n 11 12  1  0\\n 12 13  2  0\\n 14 12  1  0\\n 15 14  1  0\\n 16 15  1  0\\n 17 16  1  0\\n 18 17  1  0\\n 18 20  1  0\\n 19 18  2  0\\n 20 21  1  0\\n 21 22  2  0\\n 22  2  1  0\\n 23 22  1  0\\n 24 23  2  0\\n 25 20  2  0\\n 25 24  1  0\\n 27 26  2  0\\n 28  9  2  0\\n 28 27  1  0\\nM  END\\n\",\"sdf\");\n",
       "\tviewer_14955251554951158.addModel(\"SCF Done:  E(RB97D) =  -1325.34337037     A.U. after    8 cycles\\n     RDKit          3D\\n\\n 28 30  0  0  0  0  0  0  0  0999 V2000\\n   11.2576    7.4134   -0.5820 O   0  0  0  0  0  0  0  0  0  0  0  0\\n   11.9498   14.2499    1.0563 O   0  0  0  0  0  0  0  0  0  0  0  0\\n    5.7045   14.7504    1.6090 O   0  0  0  0  0  0  0  0  0  0  0  0\\n    5.0110    7.9143   -0.0312 O   0  0  0  0  0  0  0  0  0  0  0  0\\n    9.5919    8.4903    0.5750 N   0  0  0  0  0  0  0  0  0  0  0  0\\n   11.1629   10.7727    0.6690 N   0  0  0  0  0  0  0  0  0  0  0  0\\n   10.0613   13.1040    1.6842 N   0  0  0  0  0  0  0  0  0  0  0  0\\n    7.3681   13.6744    0.4481 N   0  0  0  0  0  0  0  0  0  0  0  0\\n    5.7976   11.3915    0.3562 N   0  0  0  0  0  0  0  0  0  0  0  0\\n    6.8985    9.0610   -0.6607 N   0  0  0  0  0  0  0  0  0  0  0  0\\n   10.8436    8.4031    0.0256 C   0  0  0  0  0  0  0  0  0  0  0  0\\n   11.7200    9.6317    0.2097 C   0  0  0  0  0  0  0  0  0  0  0  0\\n   11.9474   11.8692    0.7464 C   0  0  0  0  0  0  0  0  0  0  0  0\\n   11.3296   13.1909    1.1740 C   0  0  0  0  0  0  0  0  0  0  0  0\\n    9.2592   14.2965    1.9409 C   0  0  0  0  0  0  0  0  0  0  0  0\\n    8.3924   14.6784    0.7206 C   0  0  0  0  0  0  0  0  0  0  0  0\\n    6.1174   13.7609    0.9999 C   0  0  0  0  0  0  0  0  0  0  0  0\\n    5.2410   12.5322    0.8168 C   0  0  0  0  0  0  0  0  0  0  0  0\\n    5.0133   10.2949    0.2799 C   0  0  0  0  0  0  0  0  0  0  0  0\\n    5.6308    8.9736   -0.1493 C   0  0  0  0  0  0  0  0  0  0  0  0\\n    7.7008    7.8688   -0.9181 C   0  0  0  0  0  0  0  0  0  0  0  0\\n    8.5678    7.4863    0.3018 C   0  0  0  0  0  0  0  0  0  0  0  0\\n   13.0738    9.5330   -0.1636 C   0  0  0  0  0  0  0  0  0  0  0  0\\n   13.8839   10.6699   -0.0545 C   0  0  0  0  0  0  0  0  0  0  0  0\\n   13.3106   11.8655    0.3957 C   0  0  0  0  0  0  0  0  0  0  0  0\\n    3.8878   12.6305    1.1926 C   0  0  0  0  0  0  0  0  0  0  0  0\\n    3.0779   11.4934    1.0845 C   0  0  0  0  0  0  0  0  0  0  0  0\\n    3.6505   10.2982    0.6328 C   0  0  0  0  0  0  0  0  0  0  0  0\\n  2 14  2  0\\n  3 17  2  0\\n  5 22  1  0\\n  6 12  2  0\\n  8 17  1  0\\n  9 19  1  0\\n 10 21  1  0\\n 10 20  1  0\\n 11  5  1  0\\n 11  1  2  0\\n 12 11  1  0\\n 13  6  1  0\\n 14 13  1  0\\n 14  7  1  0\\n 15  7  1  0\\n 15 16  1  0\\n 16  8  1  0\\n 17 18  1  0\\n 18  9  2  0\\n 18 26  1  0\\n 19 20  1  0\\n 19 28  2  0\\n 20  4  2  0\\n 22 21  1  0\\n 23 12  1  0\\n 24 23  2  0\\n 25 24  1  0\\n 25 13  2  0\\n 26 27  2  0\\n 27 28  1  0\\nM  END\\n\",\"sdf\");\n",
       "\tviewer_14955251554951158.addModel(\"SCF Done:  E(RB97D) =  -1325.34066663     A.U. after    7 cycles\\n     RDKit          3D\\n\\n 28 30  0  0  0  0  0  0  0  0999 V2000\\n   11.3458    7.2675   -0.0219 O   0  0  0  0  0  0  0  0  0  0  0  0\\n   11.9052   14.2428    1.1395 O   0  0  0  0  0  0  0  0  0  0  0  0\\n    5.6499   15.1669    1.1094 O   0  0  0  0  0  0  0  0  0  0  0  0\\n    5.1120    8.2725   -0.4708 O   0  0  0  0  0  0  0  0  0  0  0  0\\n    9.5046    8.6439    0.0948 N   0  0  0  0  0  0  0  0  0  0  0  0\\n   11.1614   10.7760    0.6563 N   0  0  0  0  0  0  0  0  0  0  0  0\\n   10.1567   12.9954    1.9484 N   0  0  0  0  0  0  0  0  0  0  0  0\\n    7.4923   13.7955    0.9630 N   0  0  0  0  0  0  0  0  0  0  0  0\\n    5.8303   11.6517    0.4636 N   0  0  0  0  0  0  0  0  0  0  0  0\\n    6.7151    9.0866    0.9557 N   0  0  0  0  0  0  0  0  0  0  0  0\\n   10.8481    8.3896    0.0878 C   0  0  0  0  0  0  0  0  0  0  0  0\\n   11.7200    9.6303    0.2125 C   0  0  0  0  0  0  0  0  0  0  0  0\\n   11.9494   11.8679    0.7499 C   0  0  0  0  0  0  0  0  0  0  0  0\\n   11.3436   13.1553    1.2813 C   0  0  0  0  0  0  0  0  0  0  0  0\\n    9.4101   14.1353    2.4773 C   0  0  0  0  0  0  0  0  0  0  0  0\\n    8.4866   14.7602    1.4142 C   0  0  0  0  0  0  0  0  0  0  0  0\\n    6.1563   14.0702    0.8653 C   0  0  0  0  0  0  0  0  0  0  0  0\\n    5.3071   12.8946    0.4057 C   0  0  0  0  0  0  0  0  0  0  0  0\\n    5.0634   10.6235    0.0432 C   0  0  0  0  0  0  0  0  0  0  0  0\\n    5.6260    9.2156    0.1331 C   0  0  0  0  0  0  0  0  0  0  0  0\\n    7.4151    7.8133    1.1123 C   0  0  0  0  0  0  0  0  0  0  0  0\\n    8.4828    7.6076    0.0206 C   0  0  0  0  0  0  0  0  0  0  0  0\\n   13.0789    9.5257   -0.1391 C   0  0  0  0  0  0  0  0  0  0  0  0\\n   13.8810   10.6716   -0.0608 C   0  0  0  0  0  0  0  0  0  0  0  0\\n   13.3079   11.8705    0.3840 C   0  0  0  0  0  0  0  0  0  0  0  0\\n    4.0040   13.1569   -0.0569 C   0  0  0  0  0  0  0  0  0  0  0  0\\n    3.2264   12.0845   -0.5130 C   0  0  0  0  0  0  0  0  0  0  0  0\\n    3.7650   10.7917   -0.4717 C   0  0  0  0  0  0  0  0  0  0  0  0\\n  1 11  2  0\\n  4 20  2  0\\n  5 11  1  0\\n  6 13  2  0\\n  7 15  1  0\\n  7 14  1  0\\n  8 16  1  0\\n  9 18  1  0\\n 11 12  1  0\\n 12  6  1  0\\n 12 23  2  0\\n 13 14  1  0\\n 13 25  1  0\\n 14  2  2  0\\n 15 16  1  0\\n 17  3  2  0\\n 17  8  1  0\\n 18 17  1  0\\n 19  9  2  0\\n 20 10  1  0\\n 20 19  1  0\\n 21 10  1  0\\n 21 22  1  0\\n 22  5  1  0\\n 23 24  1  0\\n 24 25  2  0\\n 26 18  2  0\\n 27 26  1  0\\n 28 27  2  0\\n 28 19  1  0\\nM  END\\n\",\"sdf\");\n",
       "\tviewer_14955251554951158.addModel(\"SCF Done:  E(RB97D) =  -1325.30901709     A.U. after    7 cycles\\n     RDKit          3D\\n\\n 28 30  0  0  0  0  0  0  0  0999 V2000\\n    4.5169    6.9557    1.6788 O   0  0  0  0  0  0  0  0  0  0  0  0\\n    5.5186    7.6705    1.7395 C   0  0  0  0  0  0  0  0  0  0  0  0\\n    6.7299    7.1756    2.1675 N   0  0  0  0  0  0  0  0  0  0  0  0\\n    8.0416    7.7685    1.9131 C   0  0  0  0  0  0  0  0  0  0  0  0\\n    8.4168    7.7896    0.4048 C   0  0  0  0  0  0  0  0  0  0  0  0\\n    9.4836    8.7439    0.1628 N   0  0  0  0  0  0  0  0  0  0  0  0\\n   10.8134    8.4147    0.1244 C   0  0  0  0  0  0  0  0  0  0  0  0\\n   11.2568    7.2704    0.0262 O   0  0  0  0  0  0  0  0  0  0  0  0\\n   11.7224    9.6316    0.2076 C   0  0  0  0  0  0  0  0  0  0  0  0\\n   11.1668   10.7773    0.6538 N   0  0  0  0  0  0  0  0  0  0  0  0\\n   11.9457   11.8699    0.7532 C   0  0  0  0  0  0  0  0  0  0  0  0\\n   11.3082   13.1702    1.2064 C   0  0  0  0  0  0  0  0  0  0  0  0\\n   11.6562   14.2370    0.7016 O   0  0  0  0  0  0  0  0  0  0  0  0\\n   10.3163   13.1055    2.1632 N   0  0  0  0  0  0  0  0  0  0  0  0\\n   10.0320   12.0373    3.1239 C   0  0  0  0  0  0  0  0  0  0  0  0\\n    8.6535   11.3780    2.9366 C   0  0  0  0  0  0  0  0  0  0  0  0\\n    7.5858   12.3390    3.2015 N   0  0  0  0  0  0  0  0  0  0  0  0\\n    6.3680   12.5007    2.5866 C   0  0  0  0  0  0  0  0  0  0  0  0\\n    5.6964   13.5193    2.7640 O   0  0  0  0  0  0  0  0  0  0  0  0\\n    5.8132   11.3843    1.7134 C   0  0  0  0  0  0  0  0  0  0  0  0\\n    6.0867   10.0950    2.0121 N   0  0  0  0  0  0  0  0  0  0  0  0\\n    5.4032    9.1403    1.3414 C   0  0  0  0  0  0  0  0  0  0  0  0\\n    4.4753    9.4322    0.3206 C   0  0  0  0  0  0  0  0  0  0  0  0\\n    4.2543   10.7703   -0.0267 C   0  0  0  0  0  0  0  0  0  0  0  0\\n    4.9118   11.7688    0.7002 C   0  0  0  0  0  0  0  0  0  0  0  0\\n   13.3052   11.8717    0.3834 C   0  0  0  0  0  0  0  0  0  0  0  0\\n   13.8793   10.6706   -0.0564 C   0  0  0  0  0  0  0  0  0  0  0  0\\n   13.0793    9.5208   -0.1388 C   0  0  0  0  0  0  0  0  0  0  0  0\\n  2  1  2  0\\n  2 22  1  0\\n  3  4  1  0\\n  3  2  1  0\\n  4  5  1  0\\n  5  6  1  0\\n  7  8  2  0\\n  7  6  1  0\\n  9 28  2  0\\n  9  7  1  0\\n 10  9  1  0\\n 11 26  1  0\\n 11 10  2  0\\n 12 13  2  0\\n 12 11  1  0\\n 14 12  1  0\\n 15 16  1  0\\n 15 14  1  0\\n 17 16  1  0\\n 17 18  1  0\\n 18 20  1  0\\n 19 18  2  0\\n 20 25  2  0\\n 21 20  1  0\\n 21 22  2  0\\n 22 23  1  0\\n 23 24  2  0\\n 25 24  1  0\\n 26 27  2  0\\n 27 28  1  0\\nM  END\\n\",\"sdf\");\n",
       "\tviewer_14955251554951158.addModel(\"SCF Done:  E(RB97D) =  -1325.29594008     A.U. after    7 cycles\\n     RDKit          3D\\n\\n 28 30  0  0  0  0  0  0  0  0999 V2000\\n   11.2211    7.4327   -0.5744 O   0  0  0  0  0  0  0  0  0  0  0  0\\n   12.0795   13.8935    1.9958 O   0  0  0  0  0  0  0  0  0  0  0  0\\n    5.6126   12.2036   -2.4487 O   0  0  0  0  0  0  0  0  0  0  0  0\\n    6.5880   11.5715    3.9229 O   0  0  0  0  0  0  0  0  0  0  0  0\\n    9.7151    8.2997    0.8898 N   0  0  0  0  0  0  0  0  0  0  0  0\\n   11.1666   10.7757    0.6595 N   0  0  0  0  0  0  0  0  0  0  0  0\\n   10.0218   13.3971    1.1446 N   0  0  0  0  0  0  0  0  0  0  0  0\\n    6.9896   13.3576   -1.0741 N   0  0  0  0  0  0  0  0  0  0  0  0\\n    6.3783   11.3495    0.9525 N   0  0  0  0  0  0  0  0  0  0  0  0\\n    7.4196    9.4500    3.6386 N   0  0  0  0  0  0  0  0  0  0  0  0\\n   10.8741    8.3702    0.1483 C   0  0  0  0  0  0  0  0  0  0  0  0\\n   11.7250    9.6249    0.2379 C   0  0  0  0  0  0  0  0  0  0  0  0\\n   11.9454   11.8705    0.7427 C   0  0  0  0  0  0  0  0  0  0  0  0\\n   11.3607   13.1428    1.3318 C   0  0  0  0  0  0  0  0  0  0  0  0\\n    9.1512   12.9024    0.0671 C   0  0  0  0  0  0  0  0  0  0  0  0\\n    7.8333   13.7009    0.0715 C   0  0  0  0  0  0  0  0  0  0  0  0\\n    6.1160   12.3215   -1.3279 C   0  0  0  0  0  0  0  0  0  0  0  0\\n    5.7330   11.3405   -0.2291 C   0  0  0  0  0  0  0  0  0  0  0  0\\n    6.0108   10.4504    1.8836 C   0  0  0  0  0  0  0  0  0  0  0  0\\n    6.7109   10.5690    3.2306 C   0  0  0  0  0  0  0  0  0  0  0  0\\n    8.0514    8.5150    2.6998 C   0  0  0  0  0  0  0  0  0  0  0  0\\n    9.1542    9.2178    1.8838 C   0  0  0  0  0  0  0  0  0  0  0  0\\n   13.0721    9.5312   -0.1662 C   0  0  0  0  0  0  0  0  0  0  0  0\\n   13.8761   10.6752   -0.0764 C   0  0  0  0  0  0  0  0  0  0  0  0\\n   13.3133   11.8646    0.4053 C   0  0  0  0  0  0  0  0  0  0  0  0\\n    4.6932   10.4319   -0.5238 C   0  0  0  0  0  0  0  0  0  0  0  0\\n    4.3197    9.5009    0.4514 C   0  0  0  0  0  0  0  0  0  0  0  0\\n    4.9946    9.4995    1.6816 C   0  0  0  0  0  0  0  0  0  0  0  0\\n  2 14  2  0\\n  4 20  2  0\\n  5 11  1  0\\n  6 12  2  0\\n  7 15  1  0\\n  8 17  1  0\\n  9 18  1  0\\n 10 21  1  0\\n 11  1  2  0\\n 12 23  1  0\\n 12 11  1  0\\n 13 25  2  0\\n 13  6  1  0\\n 14  7  1  0\\n 14 13  1  0\\n 16 15  1  0\\n 16  8  1  0\\n 17  3  2  0\\n 18 17  1  0\\n 18 26  2  0\\n 19  9  2  0\\n 19 28  1  0\\n 20 10  1  0\\n 20 19  1  0\\n 21 22  1  0\\n 22  5  1  0\\n 24 23  2  0\\n 25 24  1  0\\n 27 26  1  0\\n 28 27  2  0\\nM  END\\n\",\"sdf\");\n",
       "\tviewer_14955251554951158.addModel(\"SCF Done:  E(RB97D) =  -1325.31935223     A.U. after    8 cycles\\n     RDKit          3D\\n\\n 28 30  0  0  0  0  0  0  0  0999 V2000\\n   10.6387    6.4399    2.8821 O   0  0  0  0  0  0  0  0  0  0  0  0\\n   10.8518    7.6206    3.1507 C   0  0  0  0  0  0  0  0  0  0  0  0\\n    9.8798    8.5844    3.2787 N   0  0  0  0  0  0  0  0  0  0  0  0\\n    8.5969    8.4872    2.6012 C   0  0  0  0  0  0  0  0  0  0  0  0\\n    8.6736    9.0890    1.1715 C   0  0  0  0  0  0  0  0  0  0  0  0\\n    9.5393    8.3016    0.2962 N   0  0  0  0  0  0  0  0  0  0  0  0\\n   10.8894    8.3593    0.0059 C   0  0  0  0  0  0  0  0  0  0  0  0\\n   11.4377    7.3715   -0.4909 O   0  0  0  0  0  0  0  0  0  0  0  0\\n   11.7113    9.6300    0.2041 C   0  0  0  0  0  0  0  0  0  0  0  0\\n   11.1639   10.7744    0.6620 N   0  0  0  0  0  0  0  0  0  0  0  0\\n   11.9530   11.8660    0.7490 C   0  0  0  0  0  0  0  0  0  0  0  0\\n   11.3752   13.1832    1.2435 C   0  0  0  0  0  0  0  0  0  0  0  0\\n   11.6973   14.2414    0.7047 O   0  0  0  0  0  0  0  0  0  0  0  0\\n   10.4813   13.1550    2.3007 N   0  0  0  0  0  0  0  0  0  0  0  0\\n   10.4191   12.1051    3.3105 C   0  0  0  0  0  0  0  0  0  0  0  0\\n   11.5271   12.1880    4.3945 C   0  0  0  0  0  0  0  0  0  0  0  0\\n   12.8687   12.3732    3.8435 N   0  0  0  0  0  0  0  0  0  0  0  0\\n   13.8808   11.5036    3.5003 C   0  0  0  0  0  0  0  0  0  0  0  0\\n   14.9753   11.9489    3.1426 O   0  0  0  0  0  0  0  0  0  0  0  0\\n   13.6572   10.0019    3.5109 C   0  0  0  0  0  0  0  0  0  0  0  0\\n   12.4117    9.4966    3.4803 N   0  0  0  0  0  0  0  0  0  0  0  0\\n   12.2623    8.1612    3.3422 C   0  0  0  0  0  0  0  0  0  0  0  0\\n   13.3453    7.2710    3.2647 C   0  0  0  0  0  0  0  0  0  0  0  0\\n   14.6422    7.7990    3.3306 C   0  0  0  0  0  0  0  0  0  0  0  0\\n   14.8062    9.1848    3.4380 C   0  0  0  0  0  0  0  0  0  0  0  0\\n   13.3092   11.8718    0.3764 C   0  0  0  0  0  0  0  0  0  0  0  0\\n   13.8841   10.6691   -0.0482 C   0  0  0  0  0  0  0  0  0  0  0  0\\n   13.0771    9.5307   -0.1405 C   0  0  0  0  0  0  0  0  0  0  0  0\\n  2  1  2  0\\n  2 22  1  0\\n  3  2  1  0\\n  4  5  1  0\\n  4  3  1  0\\n  5  6  1  0\\n  6  7  1  0\\n  7  9  1  0\\n  7  8  2  0\\n  9 28  2  0\\n 10 11  2  0\\n 10  9  1  0\\n 11 26  1  0\\n 12 13  2  0\\n 12 11  1  0\\n 14 15  1  0\\n 14 12  1  0\\n 15 16  1  0\\n 16 17  1  0\\n 17 18  1  0\\n 18 20  1  0\\n 18 19  2  0\\n 20 25  2  0\\n 21 22  2  0\\n 21 20  1  0\\n 22 23  1  0\\n 23 24  2  0\\n 25 24  1  0\\n 26 27  2  0\\n 28 27  1  0\\nM  END\\n\",\"sdf\");\n",
       "\tviewer_14955251554951158.setStyle({\"stick\": {\"radius\": \"0.15\"}});\n",
       "\tviewer_14955251554951158.setBackgroundColor(\"0xeeeeee\");\n",
       "\tviewer_14955251554951158.zoomTo();\n",
       "viewer_14955251554951158.render();\n",
       "});\n",
       "</script><script>$(\"#b97d_631gd\").append($(\"#3dmolviewer_14955251554951158\")); </script>"
      ],
      "text/plain": [
       "<IPython.core.display.HTML object>"
      ]
     },
     "execution_count": 12,
     "metadata": {},
     "output_type": "execute_result"
    }
   ],
   "source": [
    "for key, mol in mol_gaussian_b97d_631gd.items():\n",
    "    core_mol = mol.GetSubstructMatch(Chem.MolFromSmiles(core_smiles))\n",
    "    AllChem.AlignMol(mol,m1_crystal,atomMap=list(zip(core_mol,core_m1))) \n",
    "    \n",
    "p2 = py3Dmol.view(width=400,height=400)\n",
    "for key, mol in mol_gaussian_b97d_631gd.items():\n",
    "    mb = Chem.MolToMolBlock(mol)\n",
    "    p2.addModel(mb,'sdf')\n",
    "p2.setStyle({'stick':{'radius':'0.15'}})\n",
    "p2.setBackgroundColor('0xeeeeee')\n",
    "p2.zoomTo()\n",
    "p2.insert(\"b97d_631gd\")    "
   ]
  },
  {
   "cell_type": "markdown",
   "metadata": {
    "deletable": true,
    "editable": true
   },
   "source": [
    "We will work with conformers optimized with B97D/6-31G(d) model."
   ]
  },
  {
   "cell_type": "code",
   "execution_count": 13,
   "metadata": {
    "collapsed": true,
    "deletable": true,
    "editable": true
   },
   "outputs": [],
   "source": [
    "# write selected conformers to file:\n",
    "with open(\"/home/gosia/work/work_on_gitlab/icho/calcs/m1/gaussian_results/list_selected_conformers_b97d_631gd\", \"w\") as f:\n",
    "    for key, mol in mol_gaussian_b97d_631gd.items():\n",
    "        f.write(key+\"\\n\")"
   ]
  },
  {
   "cell_type": "markdown",
   "metadata": {
    "deletable": true,
    "editable": true
   },
   "source": [
    "#### The evaluation of model deficiencies - MP2 calculations and basis set effects"
   ]
  },
  {
   "cell_type": "markdown",
   "metadata": {
    "deletable": true,
    "editable": true
   },
   "source": [
    "Additional calculations were performed for the conformer of the lowest energy - **\"m1_b_sdf_3\"**. \n",
    "\n",
    "For **\"m1_b_sdf_3\"** we have additionally done (starting with \"b97d_631gd\" geometry):\n",
    "\n",
    "* DFT calculations (PBE, B97D) with cc-pVTZ basis set\n",
    "* MP2 calculations with 6-31GD and cc-pVTZ basis sets\n",
    "\n",
    "Results (energies) are presented in the table below and the aligned structures are shown on the picture below:"
   ]
  },
  {
   "cell_type": "markdown",
   "metadata": {
    "deletable": true,
    "editable": true
   },
   "source": [
    "| method | basis set | energy | color |\n",
    "|--------|-----------|--------|-------|\n",
    "| PBE  | 6-31G(d)    | -1324.91571522 | \n",
    "| PBE  | cc-pVDZ     | energy |\n",
    "| PBE  | cc-pVTZ     | energy |\n",
    "| B97D | 6-31G(d)    | -1325.34337037 |\n",
    "| B97D | cc-pVDZ     |  |\n",
    "| B97D | cc-pVTZ     | -1325.79875137 |\n",
    "| MP2  | 6-31G(d)    | -1318.33634104 |\n",
    "| MP2  | cc-pVDZ     | -1318.45792807 |\n",
    "| MP2  | cc-pVTZ     | running |"
   ]
  },
  {
   "cell_type": "code",
   "execution_count": 14,
   "metadata": {
    "collapsed": true,
    "deletable": true,
    "editable": true
   },
   "outputs": [],
   "source": [
    "key=\"m1_b_sdf_3\"\n",
    "geomdir=\"/home/gosia/work/work_on_gitlab/icho/calcs/m1/gaussian_results/optimized_geometries_frequencies_from_outputs/\"\n",
    "geoms_lowest_energy = [\n",
    "    geomdir+key+\"_gaussian_optimized_geometry_pbe_631gd.sdf\",\n",
    "    geomdir+key+\"_gaussian_optimized_geometry_pbe_ccpvdz.sdf\",\n",
    "    geomdir+key+\"_gaussian_optimized_geometry_pbe_ccpvtz.sdf\",    \n",
    "    geomdir+key+\"_gaussian_optimized_geometry_b97d_631gd.sdf\",\n",
    "    geomdir+key+\"_gaussian_optimized_geometry_b97d_ccpvdz.sdf\",\n",
    "    geomdir+key+\"_gaussian_optimized_geometry_b97d_ccpvtz.sdf\",    \n",
    "    geomdir+key+\"_gaussian_optimized_geometry_mp2_631gd.sdf\",\n",
    "    geomdir+key+\"_gaussian_optimized_geometry_mp2_ccpvdz.sdf\",\n",
    "    geomdir+key+\"_gaussian_optimized_geometry_mp2_ccpvtz.sdf\"\n",
    "]"
   ]
  },
  {
   "cell_type": "markdown",
   "metadata": {
    "deletable": true,
    "editable": true
   },
   "source": [
    "#### Gibbs free energy corrections"
   ]
  },
  {
   "cell_type": "markdown",
   "metadata": {
    "deletable": true,
    "editable": true
   },
   "source": [
    "Calculated for the selected conformers with **B97D/6-31G(d)** model - only for local minima."
   ]
  },
  {
   "cell_type": "code",
   "execution_count": 28,
   "metadata": {
    "collapsed": false,
    "deletable": true,
    "editable": true
   },
   "outputs": [
    {
     "data": {
      "text/html": [
       "<div>\n",
       "<table border=\"1\" class=\"dataframe\">\n",
       "  <thead>\n",
       "    <tr style=\"text-align: right;\">\n",
       "      <th></th>\n",
       "      <th>#Mol</th>\n",
       "      <th>E1-E1(min)[kcal/mol]</th>\n",
       "      <th>E2-E2(min)[kcal/mol]</th>\n",
       "      <th>E3-E3(min)[kcal/mol]</th>\n",
       "      <th>E4-E4(min)[kcal/mol]</th>\n",
       "      <th>Boltzmann_weight</th>\n",
       "      <th>Mol_fraction</th>\n",
       "    </tr>\n",
       "  </thead>\n",
       "  <tbody>\n",
       "    <tr>\n",
       "      <th>0</th>\n",
       "      <td>m1_b_sdf_3</td>\n",
       "      <td>0.000000</td>\n",
       "      <td>0.000000</td>\n",
       "      <td>0.000000</td>\n",
       "      <td>0.000000</td>\n",
       "      <td>1.000000</td>\n",
       "      <td>0.142874</td>\n",
       "    </tr>\n",
       "    <tr>\n",
       "      <th>1</th>\n",
       "      <td>m1_b_sdf_0</td>\n",
       "      <td>1.362950</td>\n",
       "      <td>1.451429</td>\n",
       "      <td>1.451429</td>\n",
       "      <td>2.447287</td>\n",
       "      <td>0.999984</td>\n",
       "      <td>0.142872</td>\n",
       "    </tr>\n",
       "    <tr>\n",
       "      <th>2</th>\n",
       "      <td>m1_rdkit_smi_10</td>\n",
       "      <td>15.151842</td>\n",
       "      <td>14.835577</td>\n",
       "      <td>14.835577</td>\n",
       "      <td>18.207185</td>\n",
       "      <td>0.999879</td>\n",
       "      <td>0.142857</td>\n",
       "    </tr>\n",
       "    <tr>\n",
       "      <th>3</th>\n",
       "      <td>m1_rdkit_smi_51</td>\n",
       "      <td>21.314611</td>\n",
       "      <td>21.310846</td>\n",
       "      <td>21.310846</td>\n",
       "      <td>23.058460</td>\n",
       "      <td>0.999846</td>\n",
       "      <td>0.142853</td>\n",
       "    </tr>\n",
       "    <tr>\n",
       "      <th>4</th>\n",
       "      <td>m1_rdkit_smi_16</td>\n",
       "      <td>22.411498</td>\n",
       "      <td>22.298546</td>\n",
       "      <td>22.298546</td>\n",
       "      <td>24.544402</td>\n",
       "      <td>0.999837</td>\n",
       "      <td>0.142851</td>\n",
       "    </tr>\n",
       "    <tr>\n",
       "      <th>5</th>\n",
       "      <td>m1_rdkit_smi_32</td>\n",
       "      <td>26.800926</td>\n",
       "      <td>27.136016</td>\n",
       "      <td>27.136016</td>\n",
       "      <td>28.170779</td>\n",
       "      <td>0.999812</td>\n",
       "      <td>0.142848</td>\n",
       "    </tr>\n",
       "    <tr>\n",
       "      <th>6</th>\n",
       "      <td>m1_rdkit_sdf_26</td>\n",
       "      <td>29.319749</td>\n",
       "      <td>29.443368</td>\n",
       "      <td>29.443368</td>\n",
       "      <td>31.214827</td>\n",
       "      <td>0.999792</td>\n",
       "      <td>0.142845</td>\n",
       "    </tr>\n",
       "  </tbody>\n",
       "</table>\n",
       "</div>"
      ],
      "text/plain": [
       "              #Mol  E1-E1(min)[kcal/mol]  E2-E2(min)[kcal/mol]  \\\n",
       "0       m1_b_sdf_3              0.000000              0.000000   \n",
       "1       m1_b_sdf_0              1.362950              1.451429   \n",
       "2  m1_rdkit_smi_10             15.151842             14.835577   \n",
       "3  m1_rdkit_smi_51             21.314611             21.310846   \n",
       "4  m1_rdkit_smi_16             22.411498             22.298546   \n",
       "5  m1_rdkit_smi_32             26.800926             27.136016   \n",
       "6  m1_rdkit_sdf_26             29.319749             29.443368   \n",
       "\n",
       "   E3-E3(min)[kcal/mol]  E4-E4(min)[kcal/mol]  Boltzmann_weight  Mol_fraction  \n",
       "0              0.000000              0.000000          1.000000      0.142874  \n",
       "1              1.451429              2.447287          0.999984      0.142872  \n",
       "2             14.835577             18.207185          0.999879      0.142857  \n",
       "3             21.310846             23.058460          0.999846      0.142853  \n",
       "4             22.298546             24.544402          0.999837      0.142851  \n",
       "5             27.136016             28.170779          0.999812      0.142848  \n",
       "6             29.443368             31.214827          0.999792      0.142845  "
      ]
     },
     "execution_count": 28,
     "metadata": {},
     "output_type": "execute_result"
    }
   ],
   "source": [
    "final_results = \"/home/gosia/work/work_on_gitlab/icho/calcs/m1/gaussian_results/FINAL_RESULTS_selected_conformers_thermochemistry_b97d_631gd.csv\"\n",
    "final_data    = pd.read_csv(final_results, \n",
    "                            skiprows=18, \n",
    "                            usecols=[0,5,6,7,8,9,10],\n",
    "                            delimiter=r\"\\s+\")\n",
    "final_data"
   ]
  },
  {
   "cell_type": "code",
   "execution_count": 26,
   "metadata": {
    "collapsed": true,
    "deletable": true,
    "editable": true
   },
   "outputs": [],
   "source": [
    "def plot_line(data, xmin, xmax):\n",
    "    for i, v in enumerate(data):\n",
    "        if i == 0:\n",
    "            ax.hlines(v, xmin, xmax, linestyle='-', color='r', linewidth=1.5)\n",
    "        else:\n",
    "            ax.hlines(v, xmin, xmax, linestyle='-', linewidth=1)\n",
    "\n",
    "\n",
    "def set_style():\n",
    "    sns.set_context(\"paper\")\n",
    "    sns.set(font='serif')\n",
    "    sns.set_style(\"white\", {\n",
    "        \"font.family\": \"serif\",\n",
    "        \"font.serif\": [\"Times\", \"Palatino\", \"serif\"]\n",
    "    })"
   ]
  },
  {
   "cell_type": "code",
   "execution_count": 29,
   "metadata": {
    "collapsed": false,
    "deletable": true,
    "editable": true
   },
   "outputs": [
    {
     "data": {
      "text/plain": [
       "<matplotlib.text.Text at 0x7f24ee53b7b8>"
      ]
     },
     "execution_count": 29,
     "metadata": {},
     "output_type": "execute_result"
    },
    {
     "data": {
      "image/png": "[encoded data removed]",
      "text/plain": [
       "<matplotlib.figure.Figure at 0x7f24ee5b5cf8>"
      ]
     },
     "metadata": {},
     "output_type": "display_data"
    }
   ],
   "source": [
    "set_style()\n",
    "fig, ax = plt.subplots()\n",
    "\n",
    "ax.set_title(\"Relative energies of selected conformers of M1, B97D/631(G)d calculations\", fontsize=14)\n",
    "ax.set_ylabel(\"Relative energies [kcal/mol]\", fontsize=12)\n",
    "ax.set_xticks([0.0, 1.5, 3.0, 4.5])\n",
    "ax.set_xticklabels([\"E1\", \"E2\", \"E3\", \"E4\"], fontsize=12)\n",
    "\n",
    "plot_line(final_data[\"E1-E1(min)[kcal/mol]\"], -0.5, 0.5)\n",
    "plot_line(final_data[\"E2-E2(min)[kcal/mol]\"],  1.0, 2.0)\n",
    "plot_line(final_data[\"E3-E3(min)[kcal/mol]\"],  2.5, 3.5)\n",
    "plot_line(final_data[\"E4-E4(min)[kcal/mol]\"],  4.0, 5.0)\n",
    "\n",
    "ax.text(6, 0,\n",
    "\"E1 = Sum of electronic and zero-point Energies\\n\\\n",
    "E2 = Sum of electronic and thermal Energies\\n\\\n",
    "E3 = Sum of electronic and thermal Enthalpies\\n\\\n",
    "E4 = Sum of electronic and thermal Free Energies\")"
   ]
  },
  {
   "cell_type": "markdown",
   "metadata": {},
   "source": []
  }
 ],
 "metadata": {
  "kernelspec": {
   "display_name": "Python 3",
   "language": "python",
   "name": "python3"
  },
  "language_info": {
   "codemirror_mode": {
    "name": "ipython",
    "version": 3
   },
   "file_extension": ".py",
   "mimetype": "text/x-python",
   "name": "python",
   "nbconvert_exporter": "python",
   "pygments_lexer": "ipython3",
   "version": "3.5.3"
  }
 },
 "nbformat": 4,
 "nbformat_minor": 2
}
