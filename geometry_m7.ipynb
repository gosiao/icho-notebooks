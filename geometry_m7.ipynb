{
 "cells": [
  {
   "cell_type": "markdown",
   "metadata": {
    "deletable": true,
    "editable": true
   },
   "source": [
    "# Exploring conformational space of selected macrocycles - \"M7\", Part 2\n"
   ]
  },
  {
   "cell_type": "code",
   "execution_count": null,
   "metadata": {
    "collapsed": false,
    "deletable": true,
    "editable": true
   },
   "outputs": [],
   "source": [
    "from IPython.display import HTML\n",
    "\n",
    "HTML('''<script>\n",
    "code_show=true; \n",
    "function code_toggle() {\n",
    " if (code_show){\n",
    " $('div.input').hide();\n",
    " } else {\n",
    " $('div.input').show();\n",
    " }\n",
    " code_show = !code_show\n",
    "}\n",
    "$( document ).ready(code_toggle);\n",
    "</script>\n",
    "<form action=\"javascript:code_toggle()\"><input type=\"submit\" value=\"Click here to toggle on/off the raw code.\"></form>''')"
   ]
  },
  {
   "cell_type": "code",
   "execution_count": null,
   "metadata": {
    "collapsed": true
   },
   "outputs": [],
   "source": [
    "from IPython.display import HTML\n",
    "\n",
    "HTML('''<script>\n",
    "code_show=true; \n",
    "function code_toggle() {\n",
    " if (code_show){\n",
    " $('div.input').hide();\n",
    " } else {\n",
    " $('div.input').show();\n",
    " }\n",
    " code_show = !code_show\n",
    "}\n",
    "$( document ).ready(code_toggle);\n",
    "</script>\n",
    "<form action=\"javascript:code_toggle()\"><input type=\"submit\" value=\"Click here to toggle on/off the raw code.\"></form>''')"
   ]
  },
  {
   "cell_type": "code",
   "execution_count": 38,
   "metadata": {
    "collapsed": false,
    "deletable": true,
    "editable": true
   },
   "outputs": [
    {
     "name": "stdout",
     "output_type": "stream",
     "text": [
      "2016.09.4\n",
      "Tue May 23 12:42:36 2017\n"
     ]
    }
   ],
   "source": [
    "import glob\n",
    "import py3Dmol\n",
    "\n",
    "import matplotlib\n",
    "import matplotlib.pyplot as plt\n",
    "import seaborn as sns\n",
    "import pandas as pd\n",
    "import numpy as np\n",
    "%matplotlib inline \n",
    "\n",
    "from rdkit import Chem\n",
    "from rdkit.Chem import AllChem\n",
    "from rdkit.Chem import Draw\n",
    "from rdkit.Chem import rdMolAlign\n",
    "from rdkit.Chem.Draw import IPythonConsole\n",
    "from rdkit import rdBase\n",
    "print(rdBase.rdkitVersion)\n",
    "import os,time\n",
    "print( time.asctime())"
   ]
  },
  {
   "cell_type": "code",
   "execution_count": 39,
   "metadata": {
    "collapsed": true,
    "deletable": true,
    "editable": true
   },
   "outputs": [],
   "source": [
    "# Functions used in this notebook:\n",
    "def grep_energies_from_csvfile(fcsv):\n",
    "    energies = {}\n",
    "    with open(fcsv,'r') as f:\n",
    "        lines = f.readlines()\n",
    "        for line in lines:\n",
    "            words = line.split()\n",
    "            name = words[0].rsplit(\"_\", 5)[0]\n",
    "            energies[name] = float(words[1])\n",
    "    return energies\n",
    "\n",
    "def find_duplicates(rms_sorted, energy, rms_thresh, print_msg):\n",
    "    i = 0\n",
    "    to_be_deleted = []\n",
    "    while i < len(rms_sorted):\n",
    "        j = i + 1\n",
    "        while j < len(rms_sorted):\n",
    "            if rms_sorted[i][0] in to_be_deleted:\n",
    "                i = i + 1\n",
    "                j = j + 1\n",
    "            elif rms_sorted[j][0] in to_be_deleted:\n",
    "                j = j + 1\n",
    "            else:\n",
    "                rms1 = rms_sorted[i][1]\n",
    "                rms2 = rms_sorted[j][1]\n",
    "                if (rms2 - rms1) < rms_thresh:\n",
    "                    if energy[rms_sorted[i][0]] < energy[rms_sorted[j][0]]:\n",
    "                        to_be_deleted.append(rms_sorted[j][0])\n",
    "                    else:\n",
    "                        to_be_deleted.append(rms_sorted[i][0])\n",
    "                else:\n",
    "                    break\n",
    "        i = i + 1\n",
    "    if to_be_deleted and print_msg:\n",
    "        print(\"Conformers which will be deleted:\")    \n",
    "        print(to_be_deleted)\n",
    "    return to_be_deleted\n",
    "\n",
    "def get_moldict_from_inplist(inplist):\n",
    "    moldict = {}\n",
    "    for i, inp in enumerate(inplist):\n",
    "        mol = Chem.MolFromMolFile(inp)\n",
    "        name = os.path.basename(os.path.splitext(inp)[0]).rsplit(\"_\", 5)[0]\n",
    "        model = \"_\".join(os.path.basename(os.path.splitext(inp)[0]).rsplit(\"_\", 2)[1:])\n",
    "        moldict[name] = mol\n",
    "    return moldict\n",
    "\n",
    "def check_freq(method, freq_inp_list):\n",
    "    negative_freq_dict = {}\n",
    "    for inp in freq_inp_list:\n",
    "        count = 0\n",
    "        with open(inp, \"r\") as f:\n",
    "            lines = f.readlines()\n",
    "            for line in lines:\n",
    "                freq = line.split().strip()[1]\n",
    "                print(freq)\n",
    "                if float(freq) < 0.0:\n",
    "                    count += 1\n",
    "            if count > 0:\n",
    "                negative_freq_list[os.path.basename(os.path.splitext(inp)[0]).rsplit(\"_\", 5)[0]] = count\n",
    "    if negative_freq_dict:\n",
    "        return negative_freq_dict\n",
    "    else:\n",
    "        print(\"{}: all harmonic frequencies are positive\".format(method))\n",
    "\n",
    "\n",
    "def align_and_show(moldict):\n",
    "    \n",
    "    for key, mol in moldict.items():    \n",
    "        core_mol = mol.GetSubstructMatch(Chem.MolFromSmiles(core_smiles))\n",
    "        AllChem.AlignMol(mol,m1_crystal,atomMap=list(zip(core_mol,core_m1)))\n",
    "    \n",
    "    p = py3Dmol.view(width=400,height=400)\n",
    "    for key, mol in moldict.items(): \n",
    "        mb = Chem.MolToMolBlock(mol)\n",
    "        p.addModel(mb,'sdf')\n",
    "    p.setStyle({'stick':{'radius':'0.15'}})\n",
    "    p.setBackgroundColor('0xeeeeee')\n",
    "    p.zoomTo()\n",
    "    return p "
   ]
  },
  {
   "cell_type": "code",
   "execution_count": 40,
   "metadata": {
    "collapsed": false,
    "deletable": true,
    "editable": true
   },
   "outputs": [],
   "source": [
    "# decide what is the \"core\" - a part of molecule, which we wish to be most aligned (rmsd-wise) among all the structures\n",
    "\n",
    "smiles = 'N1C(=O)c2nc(C(=O)NCCCNC(=O)c3nc(C(=O)NCCC1)ccc3)ccc2'\n",
    "core_smiles = 'C(=O)c1nc(C=O)ccc1'\n",
    "\n",
    "m7 = Chem.AddHs(Chem.MolFromSmiles(smiles))\n",
    "core_m7 = m7.GetSubstructMatch(Chem.MolFromSmiles(core_smiles))\n",
    "\n",
    "templ_m7 = Chem.SDMolSupplier('/home/gosia/work/work_on_gitlab/icho/calcs/m7/balloon/m7_crystal.sdf')\n",
    "m7_crystal = templ_m7[0]"
   ]
  },
  {
   "cell_type": "markdown",
   "metadata": {
    "deletable": true,
    "editable": true
   },
   "source": [
    "## Geometry optimization in Gaussian 09 software"
   ]
  },
  {
   "cell_type": "markdown",
   "metadata": {},
   "source": [
    "### Computational setup and workflow"
   ]
  },
  {
   "cell_type": "markdown",
   "metadata": {},
   "source": [
    "### Results"
   ]
  },
  {
   "cell_type": "markdown",
   "metadata": {},
   "source": [
    "#### Comparison of DFT results with and without dispesion corrections"
   ]
  },
  {
   "cell_type": "code",
   "execution_count": 41,
   "metadata": {
    "collapsed": true
   },
   "outputs": [],
   "source": [
    "inps_gaussian_pbe_631gd = glob.glob('/home/gosia/work/work_on_gitlab/icho/calcs/m7/gaussian_results/optimized_geometries_frequencies_from_outputs/*pbe_631gd.sdf')\n",
    "mol_gaussian_pbe_631gd = get_moldict_from_inplist(inps_gaussian_pbe_631gd)\n",
    "\n",
    "inps_gaussian_b97d_631gd = glob.glob('/home/gosia/work/work_on_gitlab/icho/calcs/m7/gaussian_results/optimized_geometries_frequencies_from_outputs/*b97d_631gd.sdf')\n",
    "mol_gaussian_b97d_631gd = get_moldict_from_inplist(inps_gaussian_b97d_631gd)\n",
    "\n",
    "#p = align_and_show(mol_m1_gaussian_pbe_631gd) \n",
    "#p.show()"
   ]
  },
  {
   "cell_type": "code",
   "execution_count": 42,
   "metadata": {
    "collapsed": false
   },
   "outputs": [],
   "source": [
    "f_pbe_631gd = \"/home/gosia/work/work_on_gitlab/icho/calcs/m7/gaussian_results/optimized_geometries_frequencies_from_outputs/energy_pbe_631gd.csv\"\n",
    "energy_pbe_631gd = grep_energies_from_csvfile(f_pbe_631gd)\n",
    "\n",
    "f_b97d_631gd = \"/home/gosia/work/work_on_gitlab/icho/calcs/m7/gaussian_results/optimized_geometries_frequencies_from_outputs/energy_b97d_631gd.csv\"\n",
    "energy_b97d_631gd = grep_energies_from_csvfile(f_b97d_631gd)\n",
    "\n",
    "rms_pbe_631gd = {}\n",
    "rms_b97d_631gd = {}\n",
    "\n",
    "for key, mol in mol_gaussian_pbe_631gd.items():\n",
    "    rms_pbe_631gd[key] = AllChem.GetBestRMS(Chem.RemoveHs(mol),Chem.RemoveHs(m7_crystal))\n",
    "for key, mol in mol_gaussian_b97d_631gd.items():\n",
    "    rms_b97d_631gd[key] = AllChem.GetBestRMS(Chem.RemoveHs(mol),Chem.RemoveHs(m7_crystal))   "
   ]
  },
  {
   "cell_type": "code",
   "execution_count": 43,
   "metadata": {
    "collapsed": false,
    "scrolled": true
   },
   "outputs": [
    {
     "name": "stdout",
     "output_type": "stream",
     "text": [
      "Selected conformers sorted by energies [a.u.], pbe_631gd: \n",
      "1     m7_b_sdf_12                  -1403.4504497 \n",
      "2     m7_b_sdf_2                  -1403.45043974 \n",
      "3     m7_b_smi_0                  -1403.44785662 \n",
      "4     m7_b_sdf_20                 -1403.44726578 \n",
      "5     m7_b_sdf_6                  -1403.44633813 \n",
      "6     m7_rdkit_sdf_70             -1403.42443916 \n",
      "7     m7_rdkit_smi_24             -1403.41427098 \n",
      "8     m7_rdkit_smi_81             -1403.40654876 \n",
      "9     m7_rdkit_smi_94             -1403.40637064 \n",
      "10    m7_rdkit_smi_43             -1403.39685642 \n",
      "\n",
      "\n",
      "Selected conformers sorted by energies [a.u.], b97d_631gd: \n",
      "1     m7_b_sdf_20                 -1403.91907332 \n",
      "2     m7_b_sdf_0                  -1403.91784506 \n",
      "3     m7_b_sdf_2                  -1403.91496755 \n",
      "4     m7_b_sdf_3                  -1403.91496075 \n",
      "5     m7_rdkit_sdf_70             -1403.88905447 \n",
      "6     m7_rdkit_smi_24             -1403.88644446 \n",
      "7     m7_rdkit_smi_81             -1403.87886218 \n",
      "8     m7_rdkit_smi_43              -1403.8676156 \n"
     ]
    }
   ],
   "source": [
    "#Having a set of DFT-optimized conformers, \n",
    "# we will analyze the root-mean-square distance between them (RMSD) and their energy in order to remove duplicates.\n",
    "\n",
    "rms_thresh = 0.05\n",
    "rms_sorted_pbe_631gd = sorted(rms_pbe_631gd.items(), key=lambda x: x[1])\n",
    "rms_sorted_b97d_631gd = sorted(rms_b97d_631gd.items(), key=lambda x: x[1])\n",
    "\n",
    "# now compare RMS of each pair, if the structures are too similar then delete the one with the higher energy\n",
    "to_be_deleted_pbe_631gd = find_duplicates(rms_sorted_pbe_631gd, energy_pbe_631gd, rms_thresh, False)\n",
    "to_be_deleted_b97d_631gd = find_duplicates(rms_sorted_b97d_631gd, energy_b97d_631gd, rms_thresh, False)\n",
    "\n",
    "for mol in to_be_deleted_pbe_631gd:\n",
    "    del mol_gaussian_pbe_631gd[mol]\n",
    "    del energy_pbe_631gd[mol]\n",
    "    del rms_pbe_631gd[mol]\n",
    "    \n",
    "for mol in to_be_deleted_b97d_631gd:\n",
    "    del mol_gaussian_b97d_631gd[mol]\n",
    "    del energy_b97d_631gd[mol]\n",
    "    del rms_b97d_631gd[mol]\n",
    "\n",
    "# print the names and energies of remaining conformers, sorted by energies:\n",
    "print(\"Selected conformers sorted by energies [a.u.], pbe_631gd: \")\n",
    "energy_pbe_631gd_sorted = sorted(energy_pbe_631gd.items(), key=lambda x: x[1])\n",
    "for i, p in enumerate(energy_pbe_631gd_sorted):\n",
    "    print(\"{0:<5} {1:20}  {2:20} \".format(i+1, p[0], p[1]))\n",
    "\n",
    "print(\"\\n\")\n",
    "print(\"Selected conformers sorted by energies [a.u.], b97d_631gd: \")\n",
    "energy_b97d_631gd_sorted = sorted(energy_b97d_631gd.items(), key=lambda x: x[1])\n",
    "for i, p in enumerate(energy_b97d_631gd_sorted):\n",
    "    print(\"{0:<5} {1:20}  {2:20} \".format(i+1, p[0], p[1]))"
   ]
  },
  {
   "cell_type": "markdown",
   "metadata": {},
   "source": [
    "Now we will check the frequency calculations:"
   ]
  },
  {
   "cell_type": "code",
   "execution_count": 44,
   "metadata": {
    "collapsed": false
   },
   "outputs": [
    {
     "name": "stdout",
     "output_type": "stream",
     "text": [
      "pbe_631gd: all harmonic frequencies are positive\n"
     ]
    }
   ],
   "source": [
    "f_freq_gaussian_pbe_631gd = glob.glob('/home/gosia/work/work_on_gitlab/icho/calcs/m7/gaussian_results/optimized_geometries_frequencies_from_outputs/freq*pbe_631gd.csv')\n",
    "freq_gaussian_pbe_631gd = check_freq(\"pbe_631gd\", f_freq_gaussian_pbe_631gd)"
   ]
  },
  {
   "cell_type": "code",
   "execution_count": 45,
   "metadata": {
    "collapsed": false
   },
   "outputs": [
    {
     "name": "stdout",
     "output_type": "stream",
     "text": [
      "b97d_631gd: all harmonic frequencies are positive\n"
     ]
    }
   ],
   "source": [
    "f_freq_gaussian_b97d_631gd = glob.glob('/home/gosia/work/work_on_gitlab/icho/calcs/m7/gaussian_results/optimized_geometries_frequencies_from_outputs/freq*pbe_631gd.csv')\n",
    "freq_gaussian_b97d_631gd = check_freq(\"b97d_631gd\", f_freq_gaussian_b97d_631gd)"
   ]
  },
  {
   "cell_type": "markdown",
   "metadata": {},
   "source": [
    "The aligned structures of selected conformers obtained with PBE and B97D and 6-31G(d) basis set are presented below:"
   ]
  },
  {
   "cell_type": "code",
   "execution_count": 46,
   "metadata": {
    "collapsed": false
   },
   "outputs": [
    {
     "data": {
      "text/html": [
       "<table>\n",
       "  <tr>\n",
       "    <td id=\"pbe_631gd\" ></td>\n",
       "    <td id=\"b97d_631gd\"  ></td>\n",
       "  <tr>\n",
       "    <td> pbe_631gd </td>\n",
       "    <td> b97d_631gd  </td>  \n",
       "  </tr>\n",
       "</table>"
      ],
      "text/plain": [
       "<IPython.core.display.HTML object>"
      ]
     },
     "metadata": {},
     "output_type": "display_data"
    }
   ],
   "source": [
    "%%html\n",
    "<table>\n",
    "  <tr>\n",
    "    <td id=\"pbe_631gd\" ></td>\n",
    "    <td id=\"b97d_631gd\"  ></td>\n",
    "  <tr>\n",
    "    <td> pbe_631gd </td>\n",
    "    <td> b97d_631gd  </td>  \n",
    "  </tr>\n",
    "</table>"
   ]
  },
  {
   "cell_type": "code",
   "execution_count": 47,
   "metadata": {
    "collapsed": false
   },
   "outputs": [
    {
     "data": {
      "text/html": [
       "<div id=\"3dmolviewer_14955361741161468\"  style=\"position: relative; width: 400px; height: 400px\">\n",
       "<script>\n",
       "if(typeof $3Dmolpromise === 'undefined') $3Dmolpromise = $.when($.getScript('http://3dmol.csb.pitt.edu/build/3Dmol.js'))\n",
       "var viewer_14955361741161468 = null;\n",
       "$3Dmolpromise.done(function() {\n",
       "viewer_14955361741161468 = $3Dmol.createViewer($(\"#3dmolviewer_14955361741161468\"),{backgroundColor:\"white\"});\n",
       "\tviewer_14955361741161468.addModel(\"SCF Done:  E(RPBEh1PBE) =  -1403.44785662     A.U. after    7 cycles\\n     RDKit          3D\\n\\n 30 32  0  0  0  0  0  0  0  0999 V2000\\n    1.6415    8.4016   13.5714 N   0  0  0  0  0  0  0  0  0  0  0  0\\n    1.7800    7.1652   13.0407 C   0  0  0  0  0  0  0  0  0  0  0  0\\n    2.8515    6.6868   12.7033 O   0  0  0  0  0  0  0  0  0  0  0  0\\n    0.4907    6.4073   12.8617 C   0  0  0  0  0  0  0  0  0  0  0  0\\n   -0.6459    6.9706   13.2804 N   0  0  0  0  0  0  0  0  0  0  0  0\\n   -1.7858    6.3091   13.0630 C   0  0  0  0  0  0  0  0  0  0  0  0\\n   -3.0823    6.9292   13.5172 C   0  0  0  0  0  0  0  0  0  0  0  0\\n   -4.1584    6.4324   13.2231 O   0  0  0  0  0  0  0  0  0  0  0  0\\n   -2.9372    8.0538   14.2513 N   0  0  0  0  0  0  0  0  0  0  0  0\\n   -4.0772    8.7371   14.8218 C   0  0  0  0  0  0  0  0  0  0  0  0\\n   -4.5449    8.1924   16.1711 C   0  0  0  0  0  0  0  0  0  0  0  0\\n   -3.6205    8.4654   17.3561 C   0  0  0  0  0  0  0  0  0  0  0  0\\n   -2.3563    7.7549   17.3138 N   0  0  0  0  0  0  0  0  0  0  0  0\\n   -2.2835    6.4445   17.6406 C   0  0  0  0  0  0  0  0  0  0  0  0\\n   -3.2572    5.7494   17.8857 O   0  0  0  0  0  0  0  0  0  0  0  0\\n   -0.8849    5.8902   17.7123 C   0  0  0  0  0  0  0  0  0  0  0  0\\n    0.1367    6.6931   17.4027 N   0  0  0  0  0  0  0  0  0  0  0  0\\n    1.3735    6.2038   17.5260 C   0  0  0  0  0  0  0  0  0  0  0  0\\n    2.5424    7.0957   17.1948 C   0  0  0  0  0  0  0  0  0  0  0  0\\n    3.6900    6.7456   17.4225 O   0  0  0  0  0  0  0  0  0  0  0  0\\n    2.2015    8.2824   16.6470 N   0  0  0  0  0  0  0  0  0  0  0  0\\n    3.2026    9.2316   16.2133 C   0  0  0  0  0  0  0  0  0  0  0  0\\n    3.7415    9.0000   14.8020 C   0  0  0  0  0  0  0  0  0  0  0  0\\n    2.7732    9.3050   13.6609 C   0  0  0  0  0  0  0  0  0  0  0  0\\n    1.6412    4.9041   17.9545 C   0  0  0  0  0  0  0  0  0  0  0  0\\n    0.5702    4.0712   18.2553 C   0  0  0  0  0  0  0  0  0  0  0  0\\n   -0.7212    4.5715   18.1338 C   0  0  0  0  0  0  0  0  0  0  0  0\\n   -1.8400    5.0685   12.4287 C   0  0  0  0  0  0  0  0  0  0  0  0\\n   -0.6496    4.4831   12.0143 C   0  0  0  0  0  0  0  0  0  0  0  0\\n    0.5424    5.1641   12.2331 C   0  0  0  0  0  0  0  0  0  0  0  0\\n  1 24  1  0\\n  2  1  1  0\\n  3  2  2  0\\n  4  2  1  0\\n  4  5  2  0\\n  5  6  1  0\\n  6  7  1  0\\n  7  8  2  0\\n  9 10  1  0\\n  9  7  1  0\\n 11 10  1  0\\n 12 11  1  0\\n 13 12  1  0\\n 14 13  1  0\\n 15 14  2  0\\n 16 17  2  0\\n 16 14  1  0\\n 18 17  1  0\\n 18 19  1  0\\n 19 21  1  0\\n 20 19  2  0\\n 21 22  1  0\\n 22 23  1  0\\n 23 24  1  0\\n 25 18  2  0\\n 26 25  1  0\\n 26 27  2  0\\n 27 16  1  0\\n 28  6  2  0\\n 29 28  1  0\\n 30 29  2  0\\n 30  4  1  0\\nM  END\\n\",\"sdf\");\n",
       "\tviewer_14955361741161468.addModel(\"SCF Done:  E(RPBEh1PBE) =  -1403.44726578     A.U. after    7 cycles\\n     RDKit          3D\\n\\n 30 32  0  0  0  0  0  0  0  0999 V2000\\n    1.6666    8.4851   13.3045 N   0  0  0  0  0  0  0  0  0  0  0  0\\n    1.7858    7.1794   12.9900 C   0  0  0  0  0  0  0  0  0  0  0  0\\n    2.8560    6.6014   12.8739 O   0  0  0  0  0  0  0  0  0  0  0  0\\n    0.4832    6.4478   12.7887 C   0  0  0  0  0  0  0  0  0  0  0  0\\n   -0.6575    7.0330   13.1644 N   0  0  0  0  0  0  0  0  0  0  0  0\\n   -1.7912    6.3449   12.9963 C   0  0  0  0  0  0  0  0  0  0  0  0\\n   -3.0812    6.9378   13.4984 C   0  0  0  0  0  0  0  0  0  0  0  0\\n   -4.1433    6.3491   13.3669 O   0  0  0  0  0  0  0  0  0  0  0  0\\n   -2.9595    8.1304   14.1269 N   0  0  0  0  0  0  0  0  0  0  0  0\\n   -4.0875    8.6928   14.8485 C   0  0  0  0  0  0  0  0  0  0  0  0\\n   -5.1523    9.3399   13.9620 C   0  0  0  0  0  0  0  0  0  0  0  0\\n   -4.7937   10.7058   13.3797 C   0  0  0  0  0  0  0  0  0  0  0  0\\n   -3.6869   10.6985   12.4510 N   0  0  0  0  0  0  0  0  0  0  0  0\\n   -3.8631   10.5508   11.1199 C   0  0  0  0  0  0  0  0  0  0  0  0\\n   -4.9474   10.4825   10.5635 O   0  0  0  0  0  0  0  0  0  0  0  0\\n   -2.5766   10.4798   10.3367 C   0  0  0  0  0  0  0  0  0  0  0  0\\n   -1.4263   10.6893   10.9810 N   0  0  0  0  0  0  0  0  0  0  0  0\\n   -0.2935   10.6192   10.2781 C   0  0  0  0  0  0  0  0  0  0  0  0\\n    1.0043   10.8910   10.9906 C   0  0  0  0  0  0  0  0  0  0  0  0\\n    2.0778   10.7709   10.4239 O   0  0  0  0  0  0  0  0  0  0  0  0\\n    0.8612   11.2796   12.2839 N   0  0  0  0  0  0  0  0  0  0  0  0\\n    1.9944   11.7055   13.0796 C   0  0  0  0  0  0  0  0  0  0  0  0\\n    2.4776   10.6708   14.0973 C   0  0  0  0  0  0  0  0  0  0  0  0\\n    2.8383    9.3183   13.4885 C   0  0  0  0  0  0  0  0  0  0  0  0\\n    0.5397    5.1711   12.2285 C   0  0  0  0  0  0  0  0  0  0  0  0\\n   -0.6482    4.4783   12.0321 C   0  0  0  0  0  0  0  0  0  0  0  0\\n   -1.8407    5.0737   12.4261 C   0  0  0  0  0  0  0  0  0  0  0  0\\n   -2.6451   10.1958    8.9732 C   0  0  0  0  0  0  0  0  0  0  0  0\\n   -1.4588   10.1114    8.2535 C   0  0  0  0  0  0  0  0  0  0  0  0\\n   -0.2551   10.3245    8.9166 C   0  0  0  0  0  0  0  0  0  0  0  0\\n  1  2  1  0\\n  2  4  1  0\\n  3  2  2  0\\n  4 25  2  0\\n  5  6  2  0\\n  5  4  1  0\\n  6 27  1  0\\n  7  8  2  0\\n  7  6  1  0\\n  9  7  1  0\\n 10  9  1  0\\n 10 11  1  0\\n 11 12  1  0\\n 12 13  1  0\\n 13 14  1  0\\n 14 15  2  0\\n 14 16  1  0\\n 16 28  2  0\\n 17 16  1  0\\n 17 18  2  0\\n 18 30  1  0\\n 19 20  2  0\\n 19 18  1  0\\n 21 19  1  0\\n 22 21  1  0\\n 23 24  1  0\\n 23 22  1  0\\n 24  1  1  0\\n 25 26  1  0\\n 27 26  2  0\\n 28 29  1  0\\n 30 29  2  0\\nM  END\\n\",\"sdf\");\n",
       "\tviewer_14955361741161468.addModel(\"SCF Done:  E(RPBEh1PBE) =  -1403.40637064     A.U. after    6 cycles\\n     RDKit          3D\\n\\n 30 32  0  0  0  0  0  0  0  0999 V2000\\n    1.5397    8.3154   13.9512 N   0  0  0  0  0  0  0  0  0  0  0  0\\n    1.5970    7.2068   13.1626 C   0  0  0  0  0  0  0  0  0  0  0  0\\n    2.6378    6.9078   12.5938 O   0  0  0  0  0  0  0  0  0  0  0  0\\n    0.3745    6.3471   12.9273 C   0  0  0  0  0  0  0  0  0  0  0  0\\n   -0.8206    6.7117   13.3874 N   0  0  0  0  0  0  0  0  0  0  0  0\\n   -1.8717    5.9394   13.1013 C   0  0  0  0  0  0  0  0  0  0  0  0\\n   -3.2175    6.4940   13.5029 C   0  0  0  0  0  0  0  0  0  0  0  0\\n   -3.4838    7.6612   13.3016 O   0  0  0  0  0  0  0  0  0  0  0  0\\n   -4.1474    5.6050   13.9931 N   0  0  0  0  0  0  0  0  0  0  0  0\\n   -3.8432    4.5072   14.9040 C   0  0  0  0  0  0  0  0  0  0  0  0\\n   -3.3717    4.9772   16.2817 C   0  0  0  0  0  0  0  0  0  0  0  0\\n   -4.4292    5.7544   17.0733 C   0  0  0  0  0  0  0  0  0  0  0  0\\n   -3.8171    6.6525   18.0157 N   0  0  0  0  0  0  0  0  0  0  0  0\\n   -4.1176    6.7260   19.3318 C   0  0  0  0  0  0  0  0  0  0  0  0\\n   -4.9436    6.0406   19.9119 O   0  0  0  0  0  0  0  0  0  0  0  0\\n   -3.2898    7.7665   20.0478 C   0  0  0  0  0  0  0  0  0  0  0  0\\n   -2.3623    8.3971   19.3252 N   0  0  0  0  0  0  0  0  0  0  0  0\\n   -1.5932    9.3062   19.9183 C   0  0  0  0  0  0  0  0  0  0  0  0\\n   -0.5411   10.0336   19.1212 C   0  0  0  0  0  0  0  0  0  0  0  0\\n   -0.0481   11.0575   19.5710 O   0  0  0  0  0  0  0  0  0  0  0  0\\n   -0.1518    9.5392   17.9131 N   0  0  0  0  0  0  0  0  0  0  0  0\\n   -0.4663    8.2917   17.2350 C   0  0  0  0  0  0  0  0  0  0  0  0\\n    0.5964    7.9184   16.2085 C   0  0  0  0  0  0  0  0  0  0  0  0\\n    0.5551    8.7542   14.9273 C   0  0  0  0  0  0  0  0  0  0  0  0\\n   -1.7399    9.6448   21.2669 C   0  0  0  0  0  0  0  0  0  0  0  0\\n   -2.7085    8.9853   22.0146 C   0  0  0  0  0  0  0  0  0  0  0  0\\n   -3.5011    8.0189   21.3998 C   0  0  0  0  0  0  0  0  0  0  0  0\\n   -1.7706    4.7660   12.3525 C   0  0  0  0  0  0  0  0  0  0  0  0\\n   -0.5182    4.3896   11.8745 C   0  0  0  0  0  0  0  0  0  0  0  0\\n    0.5755    5.1927   12.1613 C   0  0  0  0  0  0  0  0  0  0  0  0\\n  1 24  1  0\\n  2  4  1  0\\n  2  1  1  0\\n  3  2  2  0\\n  4  5  2  0\\n  5  6  1  0\\n  6  7  1  0\\n  7  8  2  0\\n  9  7  1  0\\n 10  9  1  0\\n 11 10  1  0\\n 11 12  1  0\\n 13 12  1  0\\n 14 13  1  0\\n 15 14  2  0\\n 16 14  1  0\\n 16 17  2  0\\n 18 17  1  0\\n 18 19  1  0\\n 19 21  1  0\\n 19 20  2  0\\n 22 21  1  0\\n 23 22  1  0\\n 23 24  1  0\\n 25 18  2  0\\n 26 25  1  0\\n 27 26  2  0\\n 27 16  1  0\\n 28  6  2  0\\n 29 28  1  0\\n 30 29  2  0\\n 30  4  1  0\\nM  END\\n\",\"sdf\");\n",
       "\tviewer_14955361741161468.addModel(\"SCF Done:  E(RPBEh1PBE) =  -1403.40654876     A.U. after    6 cycles\\n     RDKit          3D\\n\\n 30 32  0  0  0  0  0  0  0  0999 V2000\\n    1.9426    8.5032   13.1806 N   0  0  0  0  0  0  0  0  0  0  0  0\\n    1.8222    7.1665   12.9546 C   0  0  0  0  0  0  0  0  0  0  0  0\\n    2.8252    6.4675   12.9247 O   0  0  0  0  0  0  0  0  0  0  0  0\\n    0.4775    6.5090   12.7581 C   0  0  0  0  0  0  0  0  0  0  0  0\\n   -0.6663    7.0977   13.1283 N   0  0  0  0  0  0  0  0  0  0  0  0\\n   -1.7906    6.3838   12.9949 C   0  0  0  0  0  0  0  0  0  0  0  0\\n   -3.1141    6.9376   13.4647 C   0  0  0  0  0  0  0  0  0  0  0  0\\n   -4.1170    6.2359   13.4007 O   0  0  0  0  0  0  0  0  0  0  0  0\\n   -3.1178    8.1946   13.9525 N   0  0  0  0  0  0  0  0  0  0  0  0\\n   -4.3326    8.7614   14.5167 C   0  0  0  0  0  0  0  0  0  0  0  0\\n   -5.1525    9.6263   13.5544 C   0  0  0  0  0  0  0  0  0  0  0  0\\n   -5.3613    8.9574   12.1978 C   0  0  0  0  0  0  0  0  0  0  0  0\\n   -6.2725    9.6690   11.3088 N   0  0  0  0  0  0  0  0  0  0  0  0\\n   -6.0625   10.5871   10.3327 C   0  0  0  0  0  0  0  0  0  0  0  0\\n   -6.9513   10.9052    9.5532 O   0  0  0  0  0  0  0  0  0  0  0  0\\n   -4.7265   11.2820   10.2262 C   0  0  0  0  0  0  0  0  0  0  0  0\\n   -3.8585   11.1944   11.2264 N   0  0  0  0  0  0  0  0  0  0  0  0\\n   -2.7344   11.9074   11.1666 C   0  0  0  0  0  0  0  0  0  0  0  0\\n   -1.9020   11.8590   12.4224 C   0  0  0  0  0  0  0  0  0  0  0  0\\n   -2.4304   11.8011   13.5177 O   0  0  0  0  0  0  0  0  0  0  0  0\\n   -0.5407   11.9904   12.2963 N   0  0  0  0  0  0  0  0  0  0  0  0\\n    0.2899   11.3454   11.2882 C   0  0  0  0  0  0  0  0  0  0  0  0\\n    0.5702    9.8655   11.5680 C   0  0  0  0  0  0  0  0  0  0  0  0\\n    1.0173    9.6067   13.0151 C   0  0  0  0  0  0  0  0  0  0  0  0\\n   -2.4259   12.7408   10.0906 C   0  0  0  0  0  0  0  0  0  0  0  0\\n   -3.3326   12.8183    9.0338 C   0  0  0  0  0  0  0  0  0  0  0  0\\n   -4.5066   12.0821    9.0986 C   0  0  0  0  0  0  0  0  0  0  0  0\\n   -1.8299    5.0953   12.4597 C   0  0  0  0  0  0  0  0  0  0  0  0\\n   -0.6412    4.5053   12.0560 C   0  0  0  0  0  0  0  0  0  0  0  0\\n    0.5368    5.2179   12.2236 C   0  0  0  0  0  0  0  0  0  0  0  0\\n  1  2  1  0\\n  2  4  1  0\\n  2  3  2  0\\n  4 30  2  0\\n  5  6  2  0\\n  5  4  1  0\\n  6 28  1  0\\n  7  8  2  0\\n  7  6  1  0\\n  9  7  1  0\\n 10 11  1  0\\n 10  9  1  0\\n 11 12  1  0\\n 12 13  1  0\\n 13 14  1  0\\n 14 16  1  0\\n 14 15  2  0\\n 16 27  2  0\\n 17 18  2  0\\n 17 16  1  0\\n 18 25  1  0\\n 19 21  1  0\\n 19 18  1  0\\n 20 19  2  0\\n 21 22  1  0\\n 22 23  1  0\\n 24  1  1  0\\n 24 23  1  0\\n 25 26  2  0\\n 27 26  1  0\\n 28 29  2  0\\n 30 29  1  0\\nM  END\\n\",\"sdf\");\n",
       "\tviewer_14955361741161468.addModel(\"SCF Done:  E(RPBEh1PBE) =  -1403.45043974     A.U. after    6 cycles\\n     RDKit          3D\\n\\n 30 32  0  0  0  0  0  0  0  0999 V2000\\n    1.5991    8.4378   13.4784 N   0  0  0  0  0  0  0  0  0  0  0  0\\n    1.7769    7.1769   13.0253 C   0  0  0  0  0  0  0  0  0  0  0  0\\n    2.8617    6.6786   12.7728 O   0  0  0  0  0  0  0  0  0  0  0  0\\n    0.4902    6.4131   12.8294 C   0  0  0  0  0  0  0  0  0  0  0  0\\n   -0.6498    6.9788   13.2355 N   0  0  0  0  0  0  0  0  0  0  0  0\\n   -1.7896    6.3101   13.0406 C   0  0  0  0  0  0  0  0  0  0  0  0\\n   -3.0773    6.9354   13.5191 C   0  0  0  0  0  0  0  0  0  0  0  0\\n   -4.1612    6.4305   13.2763 O   0  0  0  0  0  0  0  0  0  0  0  0\\n   -2.8994    8.0661   14.2372 N   0  0  0  0  0  0  0  0  0  0  0  0\\n   -3.9885    8.8052   14.8408 C   0  0  0  0  0  0  0  0  0  0  0  0\\n   -4.5960    9.8752   13.9331 C   0  0  0  0  0  0  0  0  0  0  0  0\\n   -3.5644   10.8014   13.2878 C   0  0  0  0  0  0  0  0  0  0  0  0\\n   -2.6067   11.3599   14.2199 N   0  0  0  0  0  0  0  0  0  0  0  0\\n   -2.8356   12.4881   14.9279 C   0  0  0  0  0  0  0  0  0  0  0  0\\n   -3.8710   13.1326   14.8871 O   0  0  0  0  0  0  0  0  0  0  0  0\\n   -1.6708   12.9153   15.7868 C   0  0  0  0  0  0  0  0  0  0  0  0\\n   -0.6159   12.1003   15.8736 N   0  0  0  0  0  0  0  0  0  0  0  0\\n    0.4209   12.4890   16.6210 C   0  0  0  0  0  0  0  0  0  0  0  0\\n    1.6036   11.5591   16.7436 C   0  0  0  0  0  0  0  0  0  0  0  0\\n    2.6202   11.8929   17.3298 O   0  0  0  0  0  0  0  0  0  0  0  0\\n    1.4080   10.3517   16.1689 N   0  0  0  0  0  0  0  0  0  0  0  0\\n    2.3782    9.2783   16.2206 C   0  0  0  0  0  0  0  0  0  0  0  0\\n    3.3593    9.2655   15.0478 C   0  0  0  0  0  0  0  0  0  0  0  0\\n    2.6903    9.3695   13.6768 C   0  0  0  0  0  0  0  0  0  0  0  0\\n    0.5431    5.1589   12.2241 C   0  0  0  0  0  0  0  0  0  0  0  0\\n   -0.6493    4.4742   12.0159 C   0  0  0  0  0  0  0  0  0  0  0  0\\n   -1.8419    5.0600   12.4263 C   0  0  0  0  0  0  0  0  0  0  0  0\\n   -1.7402   14.1419   16.4448 C   0  0  0  0  0  0  0  0  0  0  0  0\\n   -0.6521   14.5433   17.2122 C   0  0  0  0  0  0  0  0  0  0  0  0\\n    0.4542   13.7051   17.3012 C   0  0  0  0  0  0  0  0  0  0  0  0\\n  1 24  1  0\\n  2  1  1  0\\n  3  2  2  0\\n  4  2  1  0\\n  4  5  2  0\\n  6  5  1  0\\n  6  7  1  0\\n  7  9  1  0\\n  8  7  2  0\\n  9 10  1  0\\n 11 10  1  0\\n 12 11  1  0\\n 12 13  1  0\\n 13 14  1  0\\n 14 15  2  0\\n 14 16  1  0\\n 16 28  2  0\\n 17 16  1  0\\n 17 18  2  0\\n 18 30  1  0\\n 19 18  1  0\\n 19 20  2  0\\n 21 19  1  0\\n 22 21  1  0\\n 23 22  1  0\\n 24 23  1  0\\n 25  4  1  0\\n 26 25  2  0\\n 26 27  1  0\\n 27  6  2  0\\n 28 29  1  0\\n 30 29  2  0\\nM  END\\n\",\"sdf\");\n",
       "\tviewer_14955361741161468.addModel(\"SCF Done:  E(RPBEh1PBE) =  -1403.39685642     A.U. after    7 cycles\\n     RDKit          3D\\n\\n 30 32  0  0  0  0  0  0  0  0999 V2000\\n    1.9385    8.5249   12.8925 N   0  0  0  0  0  0  0  0  0  0  0  0\\n    1.8159    7.1721   12.9154 C   0  0  0  0  0  0  0  0  0  0  0  0\\n    2.7888    6.4626   13.1235 O   0  0  0  0  0  0  0  0  0  0  0  0\\n    0.4753    6.5116   12.6863 C   0  0  0  0  0  0  0  0  0  0  0  0\\n   -0.6701    7.1238   13.0100 N   0  0  0  0  0  0  0  0  0  0  0  0\\n   -1.7994    6.4140   12.9060 C   0  0  0  0  0  0  0  0  0  0  0  0\\n   -3.1228    6.9656   13.3806 C   0  0  0  0  0  0  0  0  0  0  0  0\\n   -4.0341    6.1867   13.6202 O   0  0  0  0  0  0  0  0  0  0  0  0\\n   -3.2997    8.3015   13.5559 N   0  0  0  0  0  0  0  0  0  0  0  0\\n   -2.4857    9.4367   13.1717 C   0  0  0  0  0  0  0  0  0  0  0  0\\n   -3.3409   10.6983   13.1902 C   0  0  0  0  0  0  0  0  0  0  0  0\\n   -2.5705   11.9326   12.7363 C   0  0  0  0  0  0  0  0  0  0  0  0\\n   -3.4282   13.0967   12.8295 N   0  0  0  0  0  0  0  0  0  0  0  0\\n   -3.1327   14.4208   12.9113 C   0  0  0  0  0  0  0  0  0  0  0  0\\n   -4.0005   15.2335   13.1946 O   0  0  0  0  0  0  0  0  0  0  0  0\\n   -1.7330   14.9153   12.6366 C   0  0  0  0  0  0  0  0  0  0  0  0\\n   -0.8786   14.1985   11.8982 N   0  0  0  0  0  0  0  0  0  0  0  0\\n    0.2943   14.7631   11.5869 C   0  0  0  0  0  0  0  0  0  0  0  0\\n    1.2599   14.1026   10.6284 C   0  0  0  0  0  0  0  0  0  0  0  0\\n    2.0154   14.8122    9.9813 O   0  0  0  0  0  0  0  0  0  0  0  0\\n    1.2817   12.7521   10.4772 N   0  0  0  0  0  0  0  0  0  0  0  0\\n    0.6673   11.7034   11.2565 C   0  0  0  0  0  0  0  0  0  0  0  0\\n    1.6755   10.6348   11.6675 C   0  0  0  0  0  0  0  0  0  0  0  0\\n    1.0015    9.5528   12.5048 C   0  0  0  0  0  0  0  0  0  0  0  0\\n    0.6717   16.0344   12.0288 C   0  0  0  0  0  0  0  0  0  0  0  0\\n   -0.2049   16.7502   12.8323 C   0  0  0  0  0  0  0  0  0  0  0  0\\n   -1.4410   16.1914   13.1252 C   0  0  0  0  0  0  0  0  0  0  0  0\\n   -1.8374    5.0974   12.4387 C   0  0  0  0  0  0  0  0  0  0  0  0\\n   -0.6482    4.4862   12.0681 C   0  0  0  0  0  0  0  0  0  0  0  0\\n    0.5347    5.1965   12.2165 C   0  0  0  0  0  0  0  0  0  0  0  0\\n  1 24  1  0\\n  2  1  1  0\\n  2  4  1  0\\n  3  2  2  0\\n  4  5  2  0\\n  5  6  1  0\\n  6  7  1  0\\n  7  8  2  0\\n  7  9  1  0\\n 10  9  1  0\\n 10 11  1  0\\n 12 11  1  0\\n 12 13  1  0\\n 13 14  1  0\\n 14 15  2  0\\n 16 14  1  0\\n 17 16  2  0\\n 18 17  1  0\\n 19 18  1  0\\n 20 19  2  0\\n 21 19  1  0\\n 22 21  1  0\\n 23 22  1  0\\n 24 23  1  0\\n 25 18  2  0\\n 25 26  1  0\\n 26 27  2  0\\n 27 16  1  0\\n 28  6  2  0\\n 29 28  1  0\\n 30  4  1  0\\n 30 29  2  0\\nM  END\\n\",\"sdf\");\n",
       "\tviewer_14955361741161468.addModel(\"SCF Done:  E(RPBEh1PBE) =  -1403.45044970     A.U. after    7 cycles\\n     RDKit          3D\\n\\n 30 32  0  0  0  0  0  0  0  0999 V2000\\n    1.6378    8.2507   13.8618 N   0  0  0  0  0  0  0  0  0  0  0  0\\n    1.7868    7.1321   13.1183 C   0  0  0  0  0  0  0  0  0  0  0  0\\n    2.8537    6.7135   12.6997 O   0  0  0  0  0  0  0  0  0  0  0  0\\n    0.4926    6.4023   12.8524 C   0  0  0  0  0  0  0  0  0  0  0  0\\n   -0.6500    6.9787   13.2353 N   0  0  0  0  0  0  0  0  0  0  0  0\\n   -1.7920    6.3208   13.0171 C   0  0  0  0  0  0  0  0  0  0  0  0\\n   -3.0862    6.9803   13.4265 C   0  0  0  0  0  0  0  0  0  0  0  0\\n   -4.1546    6.3957   13.3505 O   0  0  0  0  0  0  0  0  0  0  0  0\\n   -2.9377    8.2535   13.8551 N   0  0  0  0  0  0  0  0  0  0  0  0\\n   -4.0527    9.0959   14.2363 C   0  0  0  0  0  0  0  0  0  0  0  0\\n   -4.4822    8.9410   15.6956 C   0  0  0  0  0  0  0  0  0  0  0  0\\n   -3.3294    9.0343   16.6959 C   0  0  0  0  0  0  0  0  0  0  0  0\\n   -2.4690   10.1824   16.5018 N   0  0  0  0  0  0  0  0  0  0  0  0\\n   -2.6596   11.3681   17.1216 C   0  0  0  0  0  0  0  0  0  0  0  0\\n   -3.5862   11.6172   17.8751 O   0  0  0  0  0  0  0  0  0  0  0  0\\n   -1.5910   12.3904   16.8186 C   0  0  0  0  0  0  0  0  0  0  0  0\\n   -0.6654   12.0878   15.9043 N   0  0  0  0  0  0  0  0  0  0  0  0\\n    0.2920   12.9855   15.6556 C   0  0  0  0  0  0  0  0  0  0  0  0\\n    1.3285   12.6547   14.6099 C   0  0  0  0  0  0  0  0  0  0  0  0\\n    2.2858   13.3832   14.4052 O   0  0  0  0  0  0  0  0  0  0  0  0\\n    1.0788   11.5097   13.9369 N   0  0  0  0  0  0  0  0  0  0  0  0\\n    1.9099   11.0317   12.8512 C   0  0  0  0  0  0  0  0  0  0  0  0\\n    3.1064   10.1937   13.3038 C   0  0  0  0  0  0  0  0  0  0  0  0\\n    2.7479    9.0781   14.2859 C   0  0  0  0  0  0  0  0  0  0  0  0\\n    0.5439    5.1564   12.2296 C   0  0  0  0  0  0  0  0  0  0  0  0\\n   -0.6490    4.4742   12.0157 C   0  0  0  0  0  0  0  0  0  0  0  0\\n   -1.8425    5.0624   12.4201 C   0  0  0  0  0  0  0  0  0  0  0  0\\n   -1.6073   13.5990   17.5126 C   0  0  0  0  0  0  0  0  0  0  0  0\\n   -0.6021   14.5243   17.2533 C   0  0  0  0  0  0  0  0  0  0  0  0\\n    0.3717   14.2132   16.3104 C   0  0  0  0  0  0  0  0  0  0  0  0\\n  1  2  1  0\\n  2  3  2  0\\n  2  4  1  0\\n  4 25  2  0\\n  5  4  1  0\\n  5  6  2  0\\n  6 27  1  0\\n  7  6  1  0\\n  7  8  2  0\\n  9  7  1  0\\n 10  9  1  0\\n 11 10  1  0\\n 12 11  1  0\\n 13 12  1  0\\n 14 13  1  0\\n 15 14  2  0\\n 16 14  1  0\\n 16 17  1  0\\n 18 17  2  0\\n 18 19  1  0\\n 19 21  1  0\\n 20 19  2  0\\n 21 22  1  0\\n 23 22  1  0\\n 24 23  1  0\\n 24  1  1  0\\n 25 26  1  0\\n 27 26  2  0\\n 28 16  2  0\\n 29 28  1  0\\n 29 30  2  0\\n 30 18  1  0\\nM  END\\n\",\"sdf\");\n",
       "\tviewer_14955361741161468.addModel(\"SCF Done:  E(RPBEh1PBE) =  -1403.44633813     A.U. after    7 cycles\\n     RDKit          3D\\n\\n 30 32  0  0  0  0  0  0  0  0999 V2000\\n    1.6325    8.3509   13.6809 N   0  0  0  0  0  0  0  0  0  0  0  0\\n    1.7847    7.1508   13.0777 C   0  0  0  0  0  0  0  0  0  0  0  0\\n    2.8555    6.6598   12.7606 O   0  0  0  0  0  0  0  0  0  0  0  0\\n    0.4876    6.4238   12.8269 C   0  0  0  0  0  0  0  0  0  0  0  0\\n   -0.6541    7.0032   13.2062 N   0  0  0  0  0  0  0  0  0  0  0  0\\n   -1.7921    6.3336   13.0071 C   0  0  0  0  0  0  0  0  0  0  0  0\\n   -3.0860    6.9656   13.4507 C   0  0  0  0  0  0  0  0  0  0  0  0\\n   -4.1456    6.3683   13.3581 O   0  0  0  0  0  0  0  0  0  0  0  0\\n   -2.9485    8.2191   13.9425 N   0  0  0  0  0  0  0  0  0  0  0  0\\n   -4.0492    8.9514   14.5195 C   0  0  0  0  0  0  0  0  0  0  0  0\\n   -3.9679    9.1208   16.0377 C   0  0  0  0  0  0  0  0  0  0  0  0\\n   -4.0386    7.8315   16.8513 C   0  0  0  0  0  0  0  0  0  0  0  0\\n   -2.8092    7.0711   16.8089 N   0  0  0  0  0  0  0  0  0  0  0  0\\n   -2.7868    5.7339   16.9975 C   0  0  0  0  0  0  0  0  0  0  0  0\\n   -3.7799    5.0467   17.1741 O   0  0  0  0  0  0  0  0  0  0  0  0\\n   -1.4091    5.1199   16.9718 C   0  0  0  0  0  0  0  0  0  0  0  0\\n   -0.3436    5.9194   16.8667 N   0  0  0  0  0  0  0  0  0  0  0  0\\n    0.8648    5.3486   16.8643 C   0  0  0  0  0  0  0  0  0  0  0  0\\n    2.0883    6.2254   16.7732 C   0  0  0  0  0  0  0  0  0  0  0  0\\n    3.2096    5.7444   16.7993 O   0  0  0  0  0  0  0  0  0  0  0  0\\n    1.8226    7.5475   16.6683 N   0  0  0  0  0  0  0  0  0  0  0  0\\n    2.8655    8.5448   16.6165 C   0  0  0  0  0  0  0  0  0  0  0  0\\n    2.6456    9.6232   15.5583 C   0  0  0  0  0  0  0  0  0  0  0  0\\n    2.7434    9.1693   14.1023 C   0  0  0  0  0  0  0  0  0  0  0  0\\n    0.5422    5.1657   12.2291 C   0  0  0  0  0  0  0  0  0  0  0  0\\n   -0.6481    4.4774   12.0245 C   0  0  0  0  0  0  0  0  0  0  0  0\\n   -1.8413    5.0682   12.4243 C   0  0  0  0  0  0  0  0  0  0  0  0\\n   -1.3164    3.7323   17.0744 C   0  0  0  0  0  0  0  0  0  0  0  0\\n   -0.0554    3.1488   17.0626 C   0  0  0  0  0  0  0  0  0  0  0  0\\n    1.0601    3.9711   16.9580 C   0  0  0  0  0  0  0  0  0  0  0  0\\n  1  2  1  0\\n  2  3  2  0\\n  2  4  1  0\\n  4 25  2  0\\n  5  4  1  0\\n  5  6  2  0\\n  6 27  1  0\\n  7  6  1  0\\n  7  8  2  0\\n  9  7  1  0\\n 10  9  1  0\\n 10 11  1  0\\n 11 12  1  0\\n 12 13  1  0\\n 13 14  1  0\\n 14 16  1  0\\n 14 15  2  0\\n 16 28  2  0\\n 17 18  2  0\\n 17 16  1  0\\n 18 30  1  0\\n 19 20  2  0\\n 19 18  1  0\\n 21 19  1  0\\n 22 21  1  0\\n 23 22  1  0\\n 24 23  1  0\\n 24  1  1  0\\n 25 26  1  0\\n 27 26  2  0\\n 28 29  1  0\\n 30 29  2  0\\nM  END\\n\",\"sdf\");\n",
       "\tviewer_14955361741161468.addModel(\"SCF Done:  E(RPBEh1PBE) =  -1403.41427098     A.U. after    7 cycles\\n     RDKit          3D\\n\\n 30 32  0  0  0  0  0  0  0  0999 V2000\\n    1.6350    8.3395   13.7044 N   0  0  0  0  0  0  0  0  0  0  0  0\\n    1.7800    7.1352   13.1067 C   0  0  0  0  0  0  0  0  0  0  0  0\\n    2.8589    6.6424   12.8156 O   0  0  0  0  0  0  0  0  0  0  0  0\\n    0.4834    6.4212   12.8275 C   0  0  0  0  0  0  0  0  0  0  0  0\\n   -0.6586    7.0437   13.1384 N   0  0  0  0  0  0  0  0  0  0  0  0\\n   -1.8034    6.3948   12.9153 C   0  0  0  0  0  0  0  0  0  0  0  0\\n   -3.1286    6.9993   13.3092 C   0  0  0  0  0  0  0  0  0  0  0  0\\n   -4.0619    6.2524   13.5623 O   0  0  0  0  0  0  0  0  0  0  0  0\\n   -3.2768    8.3489   13.3819 N   0  0  0  0  0  0  0  0  0  0  0  0\\n   -2.4236    9.4369   12.9472 C   0  0  0  0  0  0  0  0  0  0  0  0\\n   -1.8030   10.2011   14.1136 C   0  0  0  0  0  0  0  0  0  0  0  0\\n   -1.0128   11.4333   13.6705 C   0  0  0  0  0  0  0  0  0  0  0  0\\n   -1.8693   12.4863   13.1653 N   0  0  0  0  0  0  0  0  0  0  0  0\\n   -2.0974   12.9246   11.8967 C   0  0  0  0  0  0  0  0  0  0  0  0\\n   -3.0798   13.6080   11.6477 O   0  0  0  0  0  0  0  0  0  0  0  0\\n   -1.1359   12.6119   10.7722 C   0  0  0  0  0  0  0  0  0  0  0  0\\n    0.1620   12.3857   11.0068 N   0  0  0  0  0  0  0  0  0  0  0  0\\n    0.9719   12.2753    9.9483 C   0  0  0  0  0  0  0  0  0  0  0  0\\n    2.4706   12.1891   10.1194 C   0  0  0  0  0  0  0  0  0  0  0  0\\n    3.1873   12.5981    9.2177 O   0  0  0  0  0  0  0  0  0  0  0  0\\n    3.0025   11.6822   11.2601 N   0  0  0  0  0  0  0  0  0  0  0  0\\n    2.3866   10.9456   12.3435 C   0  0  0  0  0  0  0  0  0  0  0  0\\n    3.3717    9.9418   12.9283 C   0  0  0  0  0  0  0  0  0  0  0  0\\n    2.7791    9.1389   14.0853 C   0  0  0  0  0  0  0  0  0  0  0  0\\n    0.5196   12.3396    8.6275 C   0  0  0  0  0  0  0  0  0  0  0  0\\n   -0.8359   12.5241    8.3954 C   0  0  0  0  0  0  0  0  0  0  0  0\\n   -1.6785   12.6882    9.4867 C   0  0  0  0  0  0  0  0  0  0  0  0\\n   -1.8490    5.1033   12.3806 C   0  0  0  0  0  0  0  0  0  0  0  0\\n   -0.6574    4.4768   12.0407 C   0  0  0  0  0  0  0  0  0  0  0  0\\n    0.5393    5.1471   12.2689 C   0  0  0  0  0  0  0  0  0  0  0  0\\n  1  2  1  0\\n  2  4  1  0\\n  3  2  2  0\\n  4  5  1  0\\n  4 30  2  0\\n  5  6  2  0\\n  6  7  1  0\\n  6 28  1  0\\n  7  8  2  0\\n  9  7  1  0\\n 10  9  1  0\\n 11 10  1  0\\n 12 13  1  0\\n 12 11  1  0\\n 13 14  1  0\\n 14 15  2  0\\n 16 14  1  0\\n 16 27  2  0\\n 17 16  1  0\\n 18 17  2  0\\n 18 25  1  0\\n 19 18  1  0\\n 20 19  2  0\\n 21 22  1  0\\n 21 19  1  0\\n 23 24  1  0\\n 23 22  1  0\\n 24  1  1  0\\n 25 26  2  0\\n 27 26  1  0\\n 29 28  2  0\\n 30 29  1  0\\nM  END\\n\",\"sdf\");\n",
       "\tviewer_14955361741161468.addModel(\"SCF Done:  E(RPBEh1PBE) =  -1403.42443916     A.U. after    7 cycles\\n     RDKit          3D\\n\\n 30 32  0  0  0  0  0  0  0  0999 V2000\\n    1.8409    8.5549   13.0745 N   0  0  0  0  0  0  0  0  0  0  0  0\\n    1.7986    7.2016   12.9288 C   0  0  0  0  0  0  0  0  0  0  0  0\\n    2.8217    6.5348   12.9746 O   0  0  0  0  0  0  0  0  0  0  0  0\\n    0.4817    6.4829   12.7360 C   0  0  0  0  0  0  0  0  0  0  0  0\\n   -0.6659    7.0291   13.1405 N   0  0  0  0  0  0  0  0  0  0  0  0\\n   -1.7922    6.3234   13.0057 C   0  0  0  0  0  0  0  0  0  0  0  0\\n   -3.0776    6.9580   13.4762 C   0  0  0  0  0  0  0  0  0  0  0  0\\n   -4.1445    6.3676   13.4208 O   0  0  0  0  0  0  0  0  0  0  0  0\\n   -2.9203    8.2178   13.9404 N   0  0  0  0  0  0  0  0  0  0  0  0\\n   -4.0034    9.0041   14.4800 C   0  0  0  0  0  0  0  0  0  0  0  0\\n   -4.2349    8.7798   15.9763 C   0  0  0  0  0  0  0  0  0  0  0  0\\n   -5.0539    9.9089   16.5920 C   0  0  0  0  0  0  0  0  0  0  0  0\\n   -5.2452    9.7706   18.0219 N   0  0  0  0  0  0  0  0  0  0  0  0\\n   -4.7115   10.4840   19.0495 C   0  0  0  0  0  0  0  0  0  0  0  0\\n   -5.1624   10.4026   20.1814 O   0  0  0  0  0  0  0  0  0  0  0  0\\n   -3.5301   11.3911   18.8017 C   0  0  0  0  0  0  0  0  0  0  0  0\\n   -2.6138   11.0730   17.8850 N   0  0  0  0  0  0  0  0  0  0  0  0\\n   -1.5397   11.8622   17.7722 C   0  0  0  0  0  0  0  0  0  0  0  0\\n   -0.4705   11.4712   16.7827 C   0  0  0  0  0  0  0  0  0  0  0  0\\n    0.5232   12.1600   16.6069 O   0  0  0  0  0  0  0  0  0  0  0  0\\n   -0.7118   10.3095   16.1372 N   0  0  0  0  0  0  0  0  0  0  0  0\\n    0.2713    9.6903   15.2711 C   0  0  0  0  0  0  0  0  0  0  0  0\\n    0.5415   10.4805   13.9816 C   0  0  0  0  0  0  0  0  0  0  0  0\\n    0.8531    9.5806   12.7825 C   0  0  0  0  0  0  0  0  0  0  0  0\\n    0.5447    5.1987   12.1862 C   0  0  0  0  0  0  0  0  0  0  0  0\\n   -0.6327    4.4757   12.0386 C   0  0  0  0  0  0  0  0  0  0  0  0\\n   -1.8312    5.0445   12.4579 C   0  0  0  0  0  0  0  0  0  0  0  0\\n   -3.4087   12.5049   19.6382 C   0  0  0  0  0  0  0  0  0  0  0  0\\n   -2.3055   13.3355   19.4891 C   0  0  0  0  0  0  0  0  0  0  0  0\\n   -1.3449   13.0089   18.5379 C   0  0  0  0  0  0  0  0  0  0  0  0\\n  1  2  1  0\\n  2  3  2  0\\n  4  2  1  0\\n  5  4  1  0\\n  6  5  2  0\\n  7  9  1  0\\n  7  6  1  0\\n  8  7  2  0\\n 10  9  1  0\\n 10 11  1  0\\n 12 11  1  0\\n 12 13  1  0\\n 13 14  1  0\\n 14 16  1  0\\n 14 15  2  0\\n 16 28  2  0\\n 17 16  1  0\\n 17 18  2  0\\n 18 19  1  0\\n 18 30  1  0\\n 19 20  2  0\\n 21 22  1  0\\n 21 19  1  0\\n 23 22  1  0\\n 24 23  1  0\\n 24  1  1  0\\n 25  4  2  0\\n 26 25  1  0\\n 27  6  1  0\\n 27 26  2  0\\n 28 29  1  0\\n 30 29  2  0\\nM  END\\n\",\"sdf\");\n",
       "\tviewer_14955361741161468.setStyle({\"stick\": {\"radius\": \"0.15\"}});\n",
       "\tviewer_14955361741161468.setBackgroundColor(\"0xeeeeee\");\n",
       "\tviewer_14955361741161468.zoomTo();\n",
       "viewer_14955361741161468.render();\n",
       "});\n",
       "</script><script>$(\"#pbe_631gd\").append($(\"#3dmolviewer_14955361741161468\")); </script>"
      ],
      "text/plain": [
       "<IPython.core.display.HTML object>"
      ]
     },
     "execution_count": 47,
     "metadata": {},
     "output_type": "execute_result"
    }
   ],
   "source": [
    "for key, mol in mol_gaussian_pbe_631gd.items():\n",
    "    core_mol = mol.GetSubstructMatch(Chem.MolFromSmiles(core_smiles))\n",
    "    AllChem.AlignMol(mol,m7_crystal,atomMap=list(zip(core_mol,core_m7)))\n",
    "    \n",
    "p1 = py3Dmol.view(width=400,height=400)\n",
    "for key, mol in mol_gaussian_pbe_631gd.items():\n",
    "    mb = Chem.MolToMolBlock(mol)\n",
    "    p1.addModel(mb,'sdf')\n",
    "p1.setStyle({'stick':{'radius':'0.15'}})\n",
    "p1.setBackgroundColor('0xeeeeee')\n",
    "p1.zoomTo()\n",
    "p1.insert(\"pbe_631gd\")"
   ]
  },
  {
   "cell_type": "code",
   "execution_count": 48,
   "metadata": {
    "collapsed": false
   },
   "outputs": [
    {
     "data": {
      "text/html": [
       "<div id=\"3dmolviewer_1495536176581147\"  style=\"position: relative; width: 400px; height: 400px\">\n",
       "<script>\n",
       "if(typeof $3Dmolpromise === 'undefined') $3Dmolpromise = $.when($.getScript('http://3dmol.csb.pitt.edu/build/3Dmol.js'))\n",
       "var viewer_1495536176581147 = null;\n",
       "$3Dmolpromise.done(function() {\n",
       "viewer_1495536176581147 = $3Dmol.createViewer($(\"#3dmolviewer_1495536176581147\"),{backgroundColor:\"white\"});\n",
       "\tviewer_1495536176581147.addModel(\"SCF Done:  E(RB97D) =  -1403.86761560     A.U. after    6 cycles\\n     RDKit          3D\\n\\n 30 32  0  0  0  0  0  0  0  0999 V2000\\n    1.8860    8.5574   12.8507 N   0  0  0  0  0  0  0  0  0  0  0  0\\n    1.8111    7.1873   12.9208 C   0  0  0  0  0  0  0  0  0  0  0  0\\n    2.8007    6.5117   13.2133 O   0  0  0  0  0  0  0  0  0  0  0  0\\n    0.4821    6.4946   12.6592 C   0  0  0  0  0  0  0  0  0  0  0  0\\n   -0.6783    7.1185   12.9573 N   0  0  0  0  0  0  0  0  0  0  0  0\\n   -1.8182    6.4020   12.8488 C   0  0  0  0  0  0  0  0  0  0  0  0\\n   -3.1369    6.9900   13.3274 C   0  0  0  0  0  0  0  0  0  0  0  0\\n   -4.0100    6.2419   13.7735 O   0  0  0  0  0  0  0  0  0  0  0  0\\n   -3.3268    8.3498   13.2779 N   0  0  0  0  0  0  0  0  0  0  0  0\\n   -2.5747    9.3853   12.5714 C   0  0  0  0  0  0  0  0  0  0  0  0\\n   -3.5355   10.4226   11.9678 C   0  0  0  0  0  0  0  0  0  0  0  0\\n   -2.7723   11.5145   11.1996 C   0  0  0  0  0  0  0  0  0  0  0  0\\n   -3.7071   12.4892   10.6410 N   0  0  0  0  0  0  0  0  0  0  0  0\\n   -3.6321   13.8592   10.5711 C   0  0  0  0  0  0  0  0  0  0  0  0\\n   -4.6218   14.5349   10.2789 O   0  0  0  0  0  0  0  0  0  0  0  0\\n   -2.3031   14.5518   10.8324 C   0  0  0  0  0  0  0  0  0  0  0  0\\n   -1.1428   13.9279   10.5342 N   0  0  0  0  0  0  0  0  0  0  0  0\\n   -0.0027   14.6442   10.6426 C   0  0  0  0  0  0  0  0  0  0  0  0\\n    1.3159   14.0560   10.1638 C   0  0  0  0  0  0  0  0  0  0  0  0\\n    2.1891   14.8041    9.7175 O   0  0  0  0  0  0  0  0  0  0  0  0\\n    1.5056   12.6963   10.2131 N   0  0  0  0  0  0  0  0  0  0  0  0\\n    0.7535   11.6609   10.9198 C   0  0  0  0  0  0  0  0  0  0  0  0\\n    1.7145   10.6238   11.5236 C   0  0  0  0  0  0  0  0  0  0  0  0\\n    0.9513    9.5319   12.2919 C   0  0  0  0  0  0  0  0  0  0  0  0\\n    0.0294   15.9818   11.0866 C   0  0  0  0  0  0  0  0  0  0  0  0\\n   -1.1754   16.6017   11.4375 C   0  0  0  0  0  0  0  0  0  0  0  0\\n   -2.3681   15.8852   11.2856 C   0  0  0  0  0  0  0  0  0  0  0  0\\n   -1.8501    5.0644   12.4047 C   0  0  0  0  0  0  0  0  0  0  0  0\\n   -0.6452    4.4446   12.0540 C   0  0  0  0  0  0  0  0  0  0  0  0\\n    0.5475    5.1612   12.2062 C   0  0  0  0  0  0  0  0  0  0  0  0\\n  1 24  1  0\\n  2  1  1  0\\n  2  4  1  0\\n  3  2  2  0\\n  4 30  2  0\\n  4  5  1  0\\n  5  6  2  0\\n  6 28  1  0\\n  6  7  1  0\\n  7  8  2  0\\n  7  9  1  0\\n  9 10  1  0\\n 10 11  1  0\\n 11 12  1  0\\n 12 13  1  0\\n 13 14  1  0\\n 14 15  2  0\\n 16 14  1  0\\n 17 16  2  0\\n 18 17  1  0\\n 19 18  1  0\\n 20 19  2  0\\n 21 19  1  0\\n 22 21  1  0\\n 23 22  1  0\\n 24 23  1  0\\n 25 18  2  0\\n 25 26  1  0\\n 26 27  2  0\\n 27 16  1  0\\n 29 28  2  0\\n 30 29  1  0\\nM  END\\n\",\"sdf\");\n",
       "\tviewer_1495536176581147.addModel(\"SCF Done:  E(RB97D) =  -1403.87886218     A.U. after    7 cycles\\n     RDKit          3D\\n\\n 30 32  0  0  0  0  0  0  0  0999 V2000\\n    1.8188    8.5201   13.3733 N   0  0  0  0  0  0  0  0  0  0  0  0\\n    1.8166    7.1941   12.9956 C   0  0  0  0  0  0  0  0  0  0  0  0\\n    2.8824    6.6009   12.8067 O   0  0  0  0  0  0  0  0  0  0  0  0\\n    0.4983    6.4543   12.8140 C   0  0  0  0  0  0  0  0  0  0  0  0\\n   -0.6600    7.0038   13.2245 N   0  0  0  0  0  0  0  0  0  0  0  0\\n   -1.8046    6.3191   13.0385 C   0  0  0  0  0  0  0  0  0  0  0  0\\n   -3.1088    6.9554   13.4976 C   0  0  0  0  0  0  0  0  0  0  0  0\\n   -4.1915    6.3892   13.3172 O   0  0  0  0  0  0  0  0  0  0  0  0\\n   -2.9673    8.1689   14.1112 N   0  0  0  0  0  0  0  0  0  0  0  0\\n   -4.0954    8.9092   14.6813 C   0  0  0  0  0  0  0  0  0  0  0  0\\n   -4.6239   10.0464   13.7821 C   0  0  0  0  0  0  0  0  0  0  0  0\\n   -4.9240    9.5499   12.3516 C   0  0  0  0  0  0  0  0  0  0  0  0\\n   -5.8496   10.4134   11.6100 N   0  0  0  0  0  0  0  0  0  0  0  0\\n   -5.6240   11.3710   10.6580 C   0  0  0  0  0  0  0  0  0  0  0  0\\n   -6.5465   11.8534    9.9930 O   0  0  0  0  0  0  0  0  0  0  0  0\\n   -4.2075   11.8755   10.4258 C   0  0  0  0  0  0  0  0  0  0  0  0\\n   -3.3381   11.9194   11.4529 N   0  0  0  0  0  0  0  0  0  0  0  0\\n   -2.1329   12.4798   11.2306 C   0  0  0  0  0  0  0  0  0  0  0  0\\n   -1.2370   12.6434   12.4480 C   0  0  0  0  0  0  0  0  0  0  0  0\\n   -1.6536   13.1382   13.4889 O   0  0  0  0  0  0  0  0  0  0  0  0\\n    0.0975   12.2886   12.2666 N   0  0  0  0  0  0  0  0  0  0  0  0\\n    0.4760   11.0788   11.5110 C   0  0  0  0  0  0  0  0  0  0  0  0\\n   -0.0225    9.7896   12.1944 C   0  0  0  0  0  0  0  0  0  0  0  0\\n    0.7194    9.4819   13.5236 C   0  0  0  0  0  0  0  0  0  0  0  0\\n   -1.7354   12.9910    9.9811 C   0  0  0  0  0  0  0  0  0  0  0  0\\n   -2.6496   12.9422    8.9173 C   0  0  0  0  0  0  0  0  0  0  0  0\\n   -3.9135   12.3886    9.1436 C   0  0  0  0  0  0  0  0  0  0  0  0\\n   -1.8470    5.0496   12.4346 C   0  0  0  0  0  0  0  0  0  0  0  0\\n   -0.6385    4.4719   12.0219 C   0  0  0  0  0  0  0  0  0  0  0  0\\n    0.5558    5.1780   12.2144 C   0  0  0  0  0  0  0  0  0  0  0  0\\n  1  2  1  0\\n  2  4  1  0\\n  2  3  2  0\\n  4 30  2  0\\n  5  6  2  0\\n  5  4  1  0\\n  6 28  1  0\\n  7  8  2  0\\n  7  6  1  0\\n  9  7  1  0\\n 10 11  1  0\\n 10  9  1  0\\n 11 12  1  0\\n 12 13  1  0\\n 13 14  1  0\\n 14 16  1  0\\n 14 15  2  0\\n 16 27  2  0\\n 17 18  2  0\\n 17 16  1  0\\n 18 25  1  0\\n 19 21  1  0\\n 19 18  1  0\\n 20 19  2  0\\n 21 22  1  0\\n 23 22  1  0\\n 24  1  1  0\\n 24 23  1  0\\n 25 26  2  0\\n 27 26  1  0\\n 28 29  2  0\\n 30 29  1  0\\nM  END\\n\",\"sdf\");\n",
       "\tviewer_1495536176581147.addModel(\"SCF Done:  E(RB97D) =  -1403.91907332     A.U. after    8 cycles\\n     RDKit          3D\\n\\n 30 32  0  0  0  0  0  0  0  0999 V2000\\n    1.6722    8.3059   13.8194 N   0  0  0  0  0  0  0  0  0  0  0  0\\n    1.8111    7.1404   13.1200 C   0  0  0  0  0  0  0  0  0  0  0  0\\n    2.8916    6.6813   12.7438 O   0  0  0  0  0  0  0  0  0  0  0  0\\n    0.5002    6.4200   12.8364 C   0  0  0  0  0  0  0  0  0  0  0  0\\n   -0.6565    7.0130   13.1938 N   0  0  0  0  0  0  0  0  0  0  0  0\\n   -1.8076    6.3416   12.9861 C   0  0  0  0  0  0  0  0  0  0  0  0\\n   -3.1201    6.9960   13.3846 C   0  0  0  0  0  0  0  0  0  0  0  0\\n   -4.1695    6.3521   13.4432 O   0  0  0  0  0  0  0  0  0  0  0  0\\n   -3.0313    8.3340   13.6631 N   0  0  0  0  0  0  0  0  0  0  0  0\\n   -4.2378    9.1498   13.8088 C   0  0  0  0  0  0  0  0  0  0  0  0\\n   -4.9908    9.3848   12.4820 C   0  0  0  0  0  0  0  0  0  0  0  0\\n   -4.2896   10.3370   11.4924 C   0  0  0  0  0  0  0  0  0  0  0  0\\n   -2.9360    9.9207   11.1157 N   0  0  0  0  0  0  0  0  0  0  0  0\\n   -2.6866    8.7651   10.4324 C   0  0  0  0  0  0  0  0  0  0  0  0\\n   -3.5678    8.0002   10.0330 O   0  0  0  0  0  0  0  0  0  0  0  0\\n   -1.2145    8.4691   10.2053 C   0  0  0  0  0  0  0  0  0  0  0  0\\n   -0.2998    9.2899   10.7594 N   0  0  0  0  0  0  0  0  0  0  0  0\\n    1.0045    9.0200   10.5515 C   0  0  0  0  0  0  0  0  0  0  0  0\\n    2.0456    9.8961   11.2225 C   0  0  0  0  0  0  0  0  0  0  0  0\\n    3.2473    9.7503   10.9977 O   0  0  0  0  0  0  0  0  0  0  0  0\\n    1.5350   10.8210   12.1017 N   0  0  0  0  0  0  0  0  0  0  0  0\\n    2.3826   11.4143   13.1314 C   0  0  0  0  0  0  0  0  0  0  0  0\\n    2.4095   10.5968   14.4435 C   0  0  0  0  0  0  0  0  0  0  0  0\\n    2.8052    9.1143   14.2679 C   0  0  0  0  0  0  0  0  0  0  0  0\\n    0.5535    5.1497   12.2342 C   0  0  0  0  0  0  0  0  0  0  0  0\\n   -0.6475    4.4622   12.0161 C   0  0  0  0  0  0  0  0  0  0  0  0\\n   -1.8525    5.0601   12.4070 C   0  0  0  0  0  0  0  0  0  0  0  0\\n   -0.8673    7.3395    9.4426 C   0  0  0  0  0  0  0  0  0  0  0  0\\n    0.4907    7.0643    9.2381 C   0  0  0  0  0  0  0  0  0  0  0  0\\n    1.4489    7.9210    9.7941 C   0  0  0  0  0  0  0  0  0  0  0  0\\n  1  2  1  0\\n  2  4  1  0\\n  2  3  2  0\\n  4 25  2  0\\n  5  4  1  0\\n  6  5  2  0\\n  6 27  1  0\\n  7  6  1  0\\n  8  7  2  0\\n  9  7  1  0\\n 10  9  1  0\\n 10 11  1  0\\n 11 12  1  0\\n 12 13  1  0\\n 13 14  1  0\\n 14 15  2  0\\n 14 16  1  0\\n 16 28  2  0\\n 17 16  1  0\\n 17 18  2  0\\n 18 30  1  0\\n 19 18  1  0\\n 19 20  2  0\\n 21 19  1  0\\n 22 21  1  0\\n 23 24  1  0\\n 23 22  1  0\\n 24  1  1  0\\n 26 25  1  0\\n 27 26  2  0\\n 28 29  1  0\\n 30 29  2  0\\nM  END\\n\",\"sdf\");\n",
       "\tviewer_1495536176581147.addModel(\"SCF Done:  E(RB97D) =  -1403.91496755     A.U. after    7 cycles\\n     RDKit          3D\\n\\n 30 32  0  0  0  0  0  0  0  0999 V2000\\n    1.6273    8.5110   13.3283 N   0  0  0  0  0  0  0  0  0  0  0  0\\n    1.7965    7.2004   12.9855 C   0  0  0  0  0  0  0  0  0  0  0  0\\n    2.8961    6.6669   12.8226 O   0  0  0  0  0  0  0  0  0  0  0  0\\n    0.4984    6.4289   12.7996 C   0  0  0  0  0  0  0  0  0  0  0  0\\n   -0.6501    6.9874   13.2379 N   0  0  0  0  0  0  0  0  0  0  0  0\\n   -1.7981    6.2972   13.0688 C   0  0  0  0  0  0  0  0  0  0  0  0\\n   -3.0964    6.9199   13.5596 C   0  0  0  0  0  0  0  0  0  0  0  0\\n   -4.1958    6.4599   13.2434 O   0  0  0  0  0  0  0  0  0  0  0  0\\n   -2.9279    8.0029   14.3737 N   0  0  0  0  0  0  0  0  0  0  0  0\\n   -4.0437    8.8403   14.8153 C   0  0  0  0  0  0  0  0  0  0  0  0\\n   -4.6556    9.6900   13.6800 C   0  0  0  0  0  0  0  0  0  0  0  0\\n   -3.5908   10.4051   12.8186 C   0  0  0  0  0  0  0  0  0  0  0  0\\n   -2.5509   11.0610   13.6135 N   0  0  0  0  0  0  0  0  0  0  0  0\\n   -2.7964   12.1783   14.3590 C   0  0  0  0  0  0  0  0  0  0  0  0\\n   -3.8414   12.8302   14.2964 O   0  0  0  0  0  0  0  0  0  0  0  0\\n   -1.6600   12.5832   15.2866 C   0  0  0  0  0  0  0  0  0  0  0  0\\n   -0.6624   11.7012   15.5137 N   0  0  0  0  0  0  0  0  0  0  0  0\\n    0.3354   12.0726   16.3451 C   0  0  0  0  0  0  0  0  0  0  0  0\\n    1.4703   11.0935   16.6068 C   0  0  0  0  0  0  0  0  0  0  0  0\\n    2.5141   11.4477   17.1595 O   0  0  0  0  0  0  0  0  0  0  0  0\\n    1.2242    9.8158   16.1931 N   0  0  0  0  0  0  0  0  0  0  0  0\\n    2.2606    8.7815   16.1808 C   0  0  0  0  0  0  0  0  0  0  0  0\\n    3.3383    9.0119   15.0980 C   0  0  0  0  0  0  0  0  0  0  0  0\\n    2.7414    9.3748   13.7202 C   0  0  0  0  0  0  0  0  0  0  0  0\\n    0.5495    5.1611   12.1921 C   0  0  0  0  0  0  0  0  0  0  0  0\\n   -0.6491    4.4586   12.0085 C   0  0  0  0  0  0  0  0  0  0  0  0\\n   -1.8483    5.0361   12.4471 C   0  0  0  0  0  0  0  0  0  0  0  0\\n   -1.7080   13.8559   15.8847 C   0  0  0  0  0  0  0  0  0  0  0  0\\n   -0.6617   14.2361   16.7352 C   0  0  0  0  0  0  0  0  0  0  0  0\\n    0.3843   13.3333   16.9679 C   0  0  0  0  0  0  0  0  0  0  0  0\\n  1 24  1  0\\n  2  1  1  0\\n  3  2  2  0\\n  4  2  1  0\\n  4  5  2  0\\n  6  5  1  0\\n  6  7  1  0\\n  7  9  1  0\\n  8  7  2  0\\n  9 10  1  0\\n 11 10  1  0\\n 12 13  1  0\\n 12 11  1  0\\n 13 14  1  0\\n 14 15  2  0\\n 14 16  1  0\\n 16 28  2  0\\n 17 16  1  0\\n 17 18  2  0\\n 18 30  1  0\\n 19 18  1  0\\n 19 20  2  0\\n 21 19  1  0\\n 22 21  1  0\\n 23 22  1  0\\n 24 23  1  0\\n 25  4  1  0\\n 26 25  2  0\\n 26 27  1  0\\n 27  6  2  0\\n 28 29  1  0\\n 30 29  2  0\\nM  END\\n\",\"sdf\");\n",
       "\tviewer_1495536176581147.addModel(\"SCF Done:  E(RB97D) =  -1403.91496075     A.U. after    7 cycles\\n     RDKit          3D\\n\\n 30 32  0  0  0  0  0  0  0  0999 V2000\\n    1.7110    8.1856   13.9968 N   0  0  0  0  0  0  0  0  0  0  0  0\\n    1.8175    7.1151   13.1560 C   0  0  0  0  0  0  0  0  0  0  0  0\\n    2.8791    6.7383   12.6543 O   0  0  0  0  0  0  0  0  0  0  0  0\\n    0.5066    6.3924   12.8837 C   0  0  0  0  0  0  0  0  0  0  0  0\\n   -0.6501    6.9928   13.2392 N   0  0  0  0  0  0  0  0  0  0  0  0\\n   -1.8064    6.3416   12.9868 C   0  0  0  0  0  0  0  0  0  0  0  0\\n   -3.1183    7.0002   13.3879 C   0  0  0  0  0  0  0  0  0  0  0  0\\n   -4.1777    6.3695   13.4062 O   0  0  0  0  0  0  0  0  0  0  0  0\\n   -3.0154    8.3243   13.7054 N   0  0  0  0  0  0  0  0  0  0  0  0\\n   -4.1212    9.0756   14.3021 C   0  0  0  0  0  0  0  0  0  0  0  0\\n   -4.4145    8.6698   15.7638 C   0  0  0  0  0  0  0  0  0  0  0  0\\n   -3.1391    8.5548   16.6272 C   0  0  0  0  0  0  0  0  0  0  0  0\\n   -2.2252    9.6858   16.4621 N   0  0  0  0  0  0  0  0  0  0  0  0\\n   -2.5087   10.9364   16.9303 C   0  0  0  0  0  0  0  0  0  0  0  0\\n   -3.4731   11.1998   17.6521 O   0  0  0  0  0  0  0  0  0  0  0  0\\n   -1.5177   12.0067   16.4982 C   0  0  0  0  0  0  0  0  0  0  0  0\\n   -0.6385   11.7105   15.5172 N   0  0  0  0  0  0  0  0  0  0  0  0\\n    0.2377   12.6653   15.1385 C   0  0  0  0  0  0  0  0  0  0  0  0\\n    1.2316   12.3396   14.0334 C   0  0  0  0  0  0  0  0  0  0  0  0\\n    2.1965   13.0692   13.7945 O   0  0  0  0  0  0  0  0  0  0  0  0\\n    0.9489   11.1971   13.3416 N   0  0  0  0  0  0  0  0  0  0  0  0\\n    1.8696   10.6186   12.3626 C   0  0  0  0  0  0  0  0  0  0  0  0\\n    3.1335   10.0040   13.0039 C   0  0  0  0  0  0  0  0  0  0  0  0\\n    2.8179    9.1158   14.2281 C   0  0  0  0  0  0  0  0  0  0  0  0\\n    0.5550    5.1344   12.2554 C   0  0  0  0  0  0  0  0  0  0  0  0\\n   -0.6492    4.4620   12.0095 C   0  0  0  0  0  0  0  0  0  0  0  0\\n   -1.8539    5.0701   12.3861 C   0  0  0  0  0  0  0  0  0  0  0  0\\n   -1.5668   13.2641   17.1274 C   0  0  0  0  0  0  0  0  0  0  0  0\\n   -0.6440   14.2438   16.7369 C   0  0  0  0  0  0  0  0  0  0  0  0\\n    0.2815   13.9412   15.7293 C   0  0  0  0  0  0  0  0  0  0  0  0\\n  1 24  1  0\\n  2  1  1  0\\n  3  2  2  0\\n  4  2  1  0\\n  4  5  2  0\\n  6  5  1  0\\n  6  7  1  0\\n  7  9  1  0\\n  8  7  2  0\\n  9 10  1  0\\n 11 10  1  0\\n 12 11  1  0\\n 12 13  1  0\\n 13 14  1  0\\n 14 15  2  0\\n 14 16  1  0\\n 16 28  2  0\\n 17 16  1  0\\n 17 18  2  0\\n 18 30  1  0\\n 19 18  1  0\\n 19 20  2  0\\n 21 19  1  0\\n 22 21  1  0\\n 23 22  1  0\\n 24 23  1  0\\n 25  4  1  0\\n 26 25  2  0\\n 26 27  1  0\\n 27  6  2  0\\n 28 29  1  0\\n 30 29  2  0\\nM  END\\n\",\"sdf\");\n",
       "\tviewer_1495536176581147.addModel(\"SCF Done:  E(RB97D) =  -1403.91784506     A.U. after    7 cycles\\n     RDKit          3D\\n\\n 30 32  0  0  0  0  0  0  0  0999 V2000\\n    1.6294    8.5372   13.2202 N   0  0  0  0  0  0  0  0  0  0  0  0\\n    1.7978    7.1992   12.9703 C   0  0  0  0  0  0  0  0  0  0  0  0\\n    2.8949    6.6511   12.8571 O   0  0  0  0  0  0  0  0  0  0  0  0\\n    0.4996    6.4252   12.8117 C   0  0  0  0  0  0  0  0  0  0  0  0\\n   -0.6527    7.0079   13.1982 N   0  0  0  0  0  0  0  0  0  0  0  0\\n   -1.8021    6.3265   13.0188 C   0  0  0  0  0  0  0  0  0  0  0  0\\n   -3.0968    6.9443   13.5206 C   0  0  0  0  0  0  0  0  0  0  0  0\\n   -4.1865    6.3975   13.3333 O   0  0  0  0  0  0  0  0  0  0  0  0\\n   -2.9446    8.1269   14.1909 N   0  0  0  0  0  0  0  0  0  0  0  0\\n   -4.0603    8.7878   14.8800 C   0  0  0  0  0  0  0  0  0  0  0  0\\n   -5.1686    9.3218   13.9499 C   0  0  0  0  0  0  0  0  0  0  0  0\\n   -4.7207   10.3975   12.9391 C   0  0  0  0  0  0  0  0  0  0  0  0\\n   -3.7934    9.8840   11.9297 N   0  0  0  0  0  0  0  0  0  0  0  0\\n   -4.2289    8.9955   10.9799 C   0  0  0  0  0  0  0  0  0  0  0  0\\n   -5.4140    8.8105   10.6998 O   0  0  0  0  0  0  0  0  0  0  0  0\\n   -3.1173    8.2141   10.3002 C   0  0  0  0  0  0  0  0  0  0  0  0\\n   -1.8456    8.6338   10.4521 N   0  0  0  0  0  0  0  0  0  0  0  0\\n   -0.8635    7.9093    9.8793 C   0  0  0  0  0  0  0  0  0  0  0  0\\n    0.5656    8.4151    9.9835 C   0  0  0  0  0  0  0  0  0  0  0  0\\n    1.5123    7.7677    9.5299 O   0  0  0  0  0  0  0  0  0  0  0  0\\n    0.7002    9.6280   10.6017 N   0  0  0  0  0  0  0  0  0  0  0  0\\n    1.9806   10.3453   10.6557 C   0  0  0  0  0  0  0  0  0  0  0  0\\n    3.0722    9.6586   11.5022 C   0  0  0  0  0  0  0  0  0  0  0  0\\n    2.7306    9.4748   12.9952 C   0  0  0  0  0  0  0  0  0  0  0  0\\n    0.5521    5.1465   12.2262 C   0  0  0  0  0  0  0  0  0  0  0  0\\n   -0.6502    4.4609   12.0135 C   0  0  0  0  0  0  0  0  0  0  0  0\\n   -1.8534    5.0573   12.4155 C   0  0  0  0  0  0  0  0  0  0  0  0\\n   -3.4608    7.0563    9.5776 C   0  0  0  0  0  0  0  0  0  0  0  0\\n   -2.4309    6.2926    9.0146 C   0  0  0  0  0  0  0  0  0  0  0  0\\n   -1.1053    6.7222    9.1655 C   0  0  0  0  0  0  0  0  0  0  0  0\\n  1  2  1  0\\n  2  3  2  0\\n  2  4  1  0\\n  4 25  2  0\\n  5  4  1  0\\n  5  6  2  0\\n  6 27  1  0\\n  7  8  2  0\\n  7  6  1  0\\n  9  7  1  0\\n 10  9  1  0\\n 11 10  1  0\\n 12 13  1  0\\n 12 11  1  0\\n 13 14  1  0\\n 14 15  2  0\\n 14 16  1  0\\n 16 28  2  0\\n 17 16  1  0\\n 17 18  2  0\\n 18 30  1  0\\n 19 18  1  0\\n 19 20  2  0\\n 21 19  1  0\\n 22 21  1  0\\n 22 23  1  0\\n 23 24  1  0\\n 24  1  1  0\\n 25 26  1  0\\n 27 26  2  0\\n 28 29  1  0\\n 30 29  2  0\\nM  END\\n\",\"sdf\");\n",
       "\tviewer_1495536176581147.addModel(\"SCF Done:  E(RB97D) =  -1403.88644446     A.U. after    8 cycles\\n     RDKit          3D\\n\\n 30 32  0  0  0  0  0  0  0  0999 V2000\\n    1.6900    8.3570   13.7242 N   0  0  0  0  0  0  0  0  0  0  0  0\\n    1.8093    7.1403   13.1096 C   0  0  0  0  0  0  0  0  0  0  0  0\\n    2.8932    6.6454   12.7902 O   0  0  0  0  0  0  0  0  0  0  0  0\\n    0.4962    6.4218   12.8445 C   0  0  0  0  0  0  0  0  0  0  0  0\\n   -0.6601    7.0505   13.1515 N   0  0  0  0  0  0  0  0  0  0  0  0\\n   -1.8163    6.3981   12.9160 C   0  0  0  0  0  0  0  0  0  0  0  0\\n   -3.1555    7.0042   13.3119 C   0  0  0  0  0  0  0  0  0  0  0  0\\n   -4.1028    6.2545   13.5650 O   0  0  0  0  0  0  0  0  0  0  0  0\\n   -3.3103    8.3680   13.3637 N   0  0  0  0  0  0  0  0  0  0  0  0\\n   -2.3939    9.4712   13.0745 C   0  0  0  0  0  0  0  0  0  0  0  0\\n   -1.6985   10.0107   14.3375 C   0  0  0  0  0  0  0  0  0  0  0  0\\n   -0.8128   11.2378   14.0351 C   0  0  0  0  0  0  0  0  0  0  0  0\\n   -1.5906   12.4428   13.7286 N   0  0  0  0  0  0  0  0  0  0  0  0\\n   -2.1551   12.8234   12.5292 C   0  0  0  0  0  0  0  0  0  0  0  0\\n   -3.1270   13.5820   12.5006 O   0  0  0  0  0  0  0  0  0  0  0  0\\n   -1.5515   12.3429   11.2168 C   0  0  0  0  0  0  0  0  0  0  0  0\\n   -0.2242   12.1189   11.1187 N   0  0  0  0  0  0  0  0  0  0  0  0\\n    0.2785   11.8350    9.8978 C   0  0  0  0  0  0  0  0  0  0  0  0\\n    1.7850   11.7317    9.6901 C   0  0  0  0  0  0  0  0  0  0  0  0\\n    2.2642   11.9998    8.5853 O   0  0  0  0  0  0  0  0  0  0  0  0\\n    2.5810   11.3603   10.7436 N   0  0  0  0  0  0  0  0  0  0  0  0\\n    2.1991   10.7933   12.0366 C   0  0  0  0  0  0  0  0  0  0  0  0\\n    3.3072    9.9003   12.6070 C   0  0  0  0  0  0  0  0  0  0  0  0\\n    2.8504    9.2248   13.9179 C   0  0  0  0  0  0  0  0  0  0  0  0\\n   -0.5250   11.7181    8.7449 C   0  0  0  0  0  0  0  0  0  0  0  0\\n   -1.9064   11.9058    8.8672 C   0  0  0  0  0  0  0  0  0  0  0  0\\n   -2.4305   12.2513   10.1188 C   0  0  0  0  0  0  0  0  0  0  0  0\\n   -1.8576    5.0982   12.3665 C   0  0  0  0  0  0  0  0  0  0  0  0\\n   -0.6548    4.4667   12.0322 C   0  0  0  0  0  0  0  0  0  0  0  0\\n    0.5510    5.1367   12.2777 C   0  0  0  0  0  0  0  0  0  0  0  0\\n  1  2  1  0\\n  2  4  1  0\\n  3  2  2  0\\n  4  5  1  0\\n  4 30  2  0\\n  5  6  2  0\\n  6  7  1  0\\n  6 28  1  0\\n  7  8  2  0\\n  9  7  1  0\\n 10  9  1  0\\n 11 10  1  0\\n 12 13  1  0\\n 12 11  1  0\\n 13 14  1  0\\n 14 16  1  0\\n 14 15  2  0\\n 16 27  2  0\\n 17 18  2  0\\n 17 16  1  0\\n 18 25  1  0\\n 19 18  1  0\\n 20 19  2  0\\n 21 19  1  0\\n 22 21  1  0\\n 23 24  1  0\\n 23 22  1  0\\n 24  1  1  0\\n 25 26  2  0\\n 27 26  1  0\\n 29 28  2  0\\n 30 29  1  0\\nM  END\\n\",\"sdf\");\n",
       "\tviewer_1495536176581147.addModel(\"SCF Done:  E(RB97D) =  -1403.88905447     A.U. after    7 cycles\\n     RDKit          3D\\n\\n 30 32  0  0  0  0  0  0  0  0999 V2000\\n    1.7884    8.5927   12.5680 N   0  0  0  0  0  0  0  0  0  0  0  0\\n    1.7919    7.2357   12.7945 C   0  0  0  0  0  0  0  0  0  0  0  0\\n    2.8105    6.6334   13.1384 O   0  0  0  0  0  0  0  0  0  0  0  0\\n    0.4879    6.4655   12.6585 C   0  0  0  0  0  0  0  0  0  0  0  0\\n   -0.6420    6.9989   13.1617 N   0  0  0  0  0  0  0  0  0  0  0  0\\n   -1.7760    6.2676   13.0975 C   0  0  0  0  0  0  0  0  0  0  0  0\\n   -3.0531    6.9044   13.6265 C   0  0  0  0  0  0  0  0  0  0  0  0\\n   -4.1637    6.5109   13.2681 O   0  0  0  0  0  0  0  0  0  0  0  0\\n   -2.8393    7.9382   14.5057 N   0  0  0  0  0  0  0  0  0  0  0  0\\n   -3.8579    8.9344   14.8170 C   0  0  0  0  0  0  0  0  0  0  0  0\\n   -3.7785    9.4327   16.2698 C   0  0  0  0  0  0  0  0  0  0  0  0\\n   -4.6814   10.6700   16.4502 C   0  0  0  0  0  0  0  0  0  0  0  0\\n   -4.7665   11.1515   17.8306 N   0  0  0  0  0  0  0  0  0  0  0  0\\n   -4.0767   12.1162   18.5291 C   0  0  0  0  0  0  0  0  0  0  0  0\\n   -4.4355   12.4312   19.6676 O   0  0  0  0  0  0  0  0  0  0  0  0\\n   -2.8455   12.7803   17.9276 C   0  0  0  0  0  0  0  0  0  0  0  0\\n   -2.2291   12.2493   16.8539 N   0  0  0  0  0  0  0  0  0  0  0  0\\n   -1.0630   12.7936   16.4472 C   0  0  0  0  0  0  0  0  0  0  0  0\\n   -0.3162   12.1030   15.3144 C   0  0  0  0  0  0  0  0  0  0  0  0\\n    0.8902   12.2897   15.1417 O   0  0  0  0  0  0  0  0  0  0  0  0\\n   -1.0975   11.2795   14.5477 N   0  0  0  0  0  0  0  0  0  0  0  0\\n   -0.5538   10.2057   13.7105 C   0  0  0  0  0  0  0  0  0  0  0  0\\n    0.3548   10.6471   12.5563 C   0  0  0  0  0  0  0  0  0  0  0  0\\n    0.8521    9.4092   11.7816 C   0  0  0  0  0  0  0  0  0  0  0  0\\n    0.5361    5.1734   12.0975 C   0  0  0  0  0  0  0  0  0  0  0  0\\n   -0.6515    4.4346   12.0113 C   0  0  0  0  0  0  0  0  0  0  0  0\\n   -1.8374    4.9919   12.5111 C   0  0  0  0  0  0  0  0  0  0  0  0\\n   -2.3386   13.9100   18.6053 C   0  0  0  0  0  0  0  0  0  0  0  0\\n   -1.1442   14.4873   18.1567 C   0  0  0  0  0  0  0  0  0  0  0  0\\n   -0.4753   13.9079   17.0702 C   0  0  0  0  0  0  0  0  0  0  0  0\\n  1  2  1  0\\n  2  3  2  0\\n  4  2  1  0\\n  5  4  1  0\\n  6  5  2  0\\n  7  6  1  0\\n  7  9  1  0\\n  8  7  2  0\\n 10  9  1  0\\n 10 11  1  0\\n 12 11  1  0\\n 12 13  1  0\\n 13 14  1  0\\n 14 16  1  0\\n 14 15  2  0\\n 16 28  2  0\\n 17 16  1  0\\n 17 18  2  0\\n 18 30  1  0\\n 19 18  1  0\\n 19 20  2  0\\n 21 19  1  0\\n 22 21  1  0\\n 23 22  1  0\\n 24 23  1  0\\n 24  1  1  0\\n 25  4  2  0\\n 26 25  1  0\\n 27  6  1  0\\n 27 26  2  0\\n 28 29  1  0\\n 30 29  2  0\\nM  END\\n\",\"sdf\");\n",
       "\tviewer_1495536176581147.setStyle({\"stick\": {\"radius\": \"0.15\"}});\n",
       "\tviewer_1495536176581147.setBackgroundColor(\"0xeeeeee\");\n",
       "\tviewer_1495536176581147.zoomTo();\n",
       "viewer_1495536176581147.render();\n",
       "});\n",
       "</script><script>$(\"#b97d_631gd\").append($(\"#3dmolviewer_1495536176581147\")); </script>"
      ],
      "text/plain": [
       "<IPython.core.display.HTML object>"
      ]
     },
     "execution_count": 48,
     "metadata": {},
     "output_type": "execute_result"
    }
   ],
   "source": [
    "for key, mol in mol_gaussian_b97d_631gd.items():\n",
    "    core_mol = mol.GetSubstructMatch(Chem.MolFromSmiles(core_smiles))\n",
    "    AllChem.AlignMol(mol,m7_crystal,atomMap=list(zip(core_mol,core_m7))) \n",
    "    \n",
    "p2 = py3Dmol.view(width=400,height=400)\n",
    "for key, mol in mol_gaussian_b97d_631gd.items():\n",
    "    mb = Chem.MolToMolBlock(mol)\n",
    "    p2.addModel(mb,'sdf')\n",
    "p2.setStyle({'stick':{'radius':'0.15'}})\n",
    "p2.setBackgroundColor('0xeeeeee')\n",
    "p2.zoomTo()\n",
    "p2.insert(\"b97d_631gd\")    "
   ]
  },
  {
   "cell_type": "markdown",
   "metadata": {},
   "source": [
    "We will work with conformers optimized with B97D/6-31G(d) model.\n"
   ]
  },
  {
   "cell_type": "code",
   "execution_count": 49,
   "metadata": {
    "collapsed": true
   },
   "outputs": [],
   "source": [
    "# write selected conformers to file:\n",
    "with open(\"/home/gosia/work/work_on_gitlab/icho/calcs/m7/gaussian_results/list_selected_conformers_b97d_631gd\", \"w\") as f:\n",
    "    for key, mol in mol_gaussian_b97d_631gd.items():\n",
    "        f.write(key+\"\\n\")"
   ]
  },
  {
   "cell_type": "markdown",
   "metadata": {},
   "source": [
    "#### The evaluation of model deficiencies - MP2 calculations and basis set effects"
   ]
  },
  {
   "cell_type": "markdown",
   "metadata": {},
   "source": [
    "#### Gibbs free energy corrections"
   ]
  },
  {
   "cell_type": "markdown",
   "metadata": {},
   "source": [
    "Calculated for the selected conformers with **B97D/6-31G(d)** model - only for local minima."
   ]
  },
  {
   "cell_type": "code",
   "execution_count": 50,
   "metadata": {
    "collapsed": false
   },
   "outputs": [
    {
     "data": {
      "text/html": [
       "<div>\n",
       "<table border=\"1\" class=\"dataframe\">\n",
       "  <thead>\n",
       "    <tr style=\"text-align: right;\">\n",
       "      <th></th>\n",
       "      <th>#Mol</th>\n",
       "      <th>E1-E1(min)[kcal/mol]</th>\n",
       "      <th>E2-E2(min)[kcal/mol]</th>\n",
       "      <th>E3-E3(min)[kcal/mol]</th>\n",
       "      <th>E4-E4(min)[kcal/mol]</th>\n",
       "      <th>Boltzmann_weight</th>\n",
       "      <th>Mol_fraction</th>\n",
       "    </tr>\n",
       "  </thead>\n",
       "  <tbody>\n",
       "    <tr>\n",
       "      <th>0</th>\n",
       "      <td>m7_b_sdf_20</td>\n",
       "      <td>0.000000</td>\n",
       "      <td>0.000000</td>\n",
       "      <td>0.000000</td>\n",
       "      <td>0.000000</td>\n",
       "      <td>1.000000</td>\n",
       "      <td>0.083343</td>\n",
       "    </tr>\n",
       "    <tr>\n",
       "      <th>1</th>\n",
       "      <td>m7_b_sdf_6</td>\n",
       "      <td>0.061496</td>\n",
       "      <td>0.123619</td>\n",
       "      <td>0.123619</td>\n",
       "      <td>-1.327182</td>\n",
       "      <td>1.000009</td>\n",
       "      <td>0.083343</td>\n",
       "    </tr>\n",
       "    <tr>\n",
       "      <th>2</th>\n",
       "      <td>m7_b_smi_0</td>\n",
       "      <td>0.815135</td>\n",
       "      <td>0.806350</td>\n",
       "      <td>0.806350</td>\n",
       "      <td>0.651982</td>\n",
       "      <td>0.999996</td>\n",
       "      <td>0.083342</td>\n",
       "    </tr>\n",
       "    <tr>\n",
       "      <th>3</th>\n",
       "      <td>m7_b_sdf_0</td>\n",
       "      <td>0.837725</td>\n",
       "      <td>0.846510</td>\n",
       "      <td>0.846510</td>\n",
       "      <td>0.534010</td>\n",
       "      <td>0.999996</td>\n",
       "      <td>0.083342</td>\n",
       "    </tr>\n",
       "    <tr>\n",
       "      <th>4</th>\n",
       "      <td>m7_rdkit_sdf_70</td>\n",
       "      <td>19.072520</td>\n",
       "      <td>19.202415</td>\n",
       "      <td>19.202415</td>\n",
       "      <td>18.099253</td>\n",
       "      <td>0.999879</td>\n",
       "      <td>0.083333</td>\n",
       "    </tr>\n",
       "    <tr>\n",
       "      <th>5</th>\n",
       "      <td>m7_rdkit_smi_24</td>\n",
       "      <td>20.544030</td>\n",
       "      <td>20.663257</td>\n",
       "      <td>20.663257</td>\n",
       "      <td>19.185472</td>\n",
       "      <td>0.999872</td>\n",
       "      <td>0.083332</td>\n",
       "    </tr>\n",
       "    <tr>\n",
       "      <th>6</th>\n",
       "      <td>m7_rdkit_smi_81</td>\n",
       "      <td>25.288628</td>\n",
       "      <td>25.392795</td>\n",
       "      <td>25.392795</td>\n",
       "      <td>24.044905</td>\n",
       "      <td>0.999840</td>\n",
       "      <td>0.083329</td>\n",
       "    </tr>\n",
       "    <tr>\n",
       "      <th>7</th>\n",
       "      <td>m7_rdkit_smi_94</td>\n",
       "      <td>26.262523</td>\n",
       "      <td>26.498467</td>\n",
       "      <td>26.498467</td>\n",
       "      <td>23.748720</td>\n",
       "      <td>0.999842</td>\n",
       "      <td>0.083329</td>\n",
       "    </tr>\n",
       "    <tr>\n",
       "      <th>8</th>\n",
       "      <td>m7_rdkit_smi_15</td>\n",
       "      <td>29.063097</td>\n",
       "      <td>29.415758</td>\n",
       "      <td>29.415758</td>\n",
       "      <td>27.086443</td>\n",
       "      <td>0.999820</td>\n",
       "      <td>0.083328</td>\n",
       "    </tr>\n",
       "    <tr>\n",
       "      <th>9</th>\n",
       "      <td>m7_rdkit_sdf_104</td>\n",
       "      <td>31.406845</td>\n",
       "      <td>31.612668</td>\n",
       "      <td>31.612668</td>\n",
       "      <td>30.395927</td>\n",
       "      <td>0.999798</td>\n",
       "      <td>0.083326</td>\n",
       "    </tr>\n",
       "    <tr>\n",
       "      <th>10</th>\n",
       "      <td>m7_rdkit_sdf_66</td>\n",
       "      <td>31.633376</td>\n",
       "      <td>31.827904</td>\n",
       "      <td>31.827904</td>\n",
       "      <td>30.031972</td>\n",
       "      <td>0.999800</td>\n",
       "      <td>0.083326</td>\n",
       "    </tr>\n",
       "    <tr>\n",
       "      <th>11</th>\n",
       "      <td>m7_rdkit_smi_43</td>\n",
       "      <td>31.723110</td>\n",
       "      <td>32.266533</td>\n",
       "      <td>32.267160</td>\n",
       "      <td>29.383127</td>\n",
       "      <td>0.999804</td>\n",
       "      <td>0.083326</td>\n",
       "    </tr>\n",
       "  </tbody>\n",
       "</table>\n",
       "</div>"
      ],
      "text/plain": [
       "                #Mol  E1-E1(min)[kcal/mol]  E2-E2(min)[kcal/mol]  \\\n",
       "0        m7_b_sdf_20              0.000000              0.000000   \n",
       "1         m7_b_sdf_6              0.061496              0.123619   \n",
       "2         m7_b_smi_0              0.815135              0.806350   \n",
       "3         m7_b_sdf_0              0.837725              0.846510   \n",
       "4    m7_rdkit_sdf_70             19.072520             19.202415   \n",
       "5    m7_rdkit_smi_24             20.544030             20.663257   \n",
       "6    m7_rdkit_smi_81             25.288628             25.392795   \n",
       "7    m7_rdkit_smi_94             26.262523             26.498467   \n",
       "8    m7_rdkit_smi_15             29.063097             29.415758   \n",
       "9   m7_rdkit_sdf_104             31.406845             31.612668   \n",
       "10   m7_rdkit_sdf_66             31.633376             31.827904   \n",
       "11   m7_rdkit_smi_43             31.723110             32.266533   \n",
       "\n",
       "    E3-E3(min)[kcal/mol]  E4-E4(min)[kcal/mol]  Boltzmann_weight  Mol_fraction  \n",
       "0               0.000000              0.000000          1.000000      0.083343  \n",
       "1               0.123619             -1.327182          1.000009      0.083343  \n",
       "2               0.806350              0.651982          0.999996      0.083342  \n",
       "3               0.846510              0.534010          0.999996      0.083342  \n",
       "4              19.202415             18.099253          0.999879      0.083333  \n",
       "5              20.663257             19.185472          0.999872      0.083332  \n",
       "6              25.392795             24.044905          0.999840      0.083329  \n",
       "7              26.498467             23.748720          0.999842      0.083329  \n",
       "8              29.415758             27.086443          0.999820      0.083328  \n",
       "9              31.612668             30.395927          0.999798      0.083326  \n",
       "10             31.827904             30.031972          0.999800      0.083326  \n",
       "11             32.267160             29.383127          0.999804      0.083326  "
      ]
     },
     "execution_count": 50,
     "metadata": {},
     "output_type": "execute_result"
    }
   ],
   "source": [
    "final_results = \"/home/gosia/work/work_on_gitlab/icho/calcs/m7/gaussian_results/FINAL_RESULTS_selected_conformers_thermochemistry_b97d_631gd.csv\"\n",
    "final_data    = pd.read_csv(final_results, \n",
    "                            skiprows=18, \n",
    "                            usecols=[0,5,6,7,8,9,10],\n",
    "                            delimiter=r\"\\s+\")\n",
    "final_data"
   ]
  },
  {
   "cell_type": "code",
   "execution_count": 51,
   "metadata": {
    "collapsed": true
   },
   "outputs": [],
   "source": [
    "def plot_line(data, xmin, xmax):\n",
    "    for i, v in enumerate(data):\n",
    "        if i == 0:\n",
    "            ax.hlines(v, xmin, xmax, linestyle='-', color='r', linewidth=1.5)\n",
    "        else:\n",
    "            ax.hlines(v, xmin, xmax, linestyle='-', linewidth=1)\n",
    "\n",
    "\n",
    "def set_style():\n",
    "    sns.set_context(\"paper\")\n",
    "    sns.set(font='serif')\n",
    "    sns.set_style(\"white\", {\n",
    "        \"font.family\": \"serif\",\n",
    "        \"font.serif\": [\"Times\", \"Palatino\", \"serif\"]\n",
    "    })"
   ]
  },
  {
   "cell_type": "code",
   "execution_count": 52,
   "metadata": {
    "collapsed": false
   },
   "outputs": [
    {
     "data": {
      "text/plain": [
       "<matplotlib.text.Text at 0x7fc3b14fc940>"
      ]
     },
     "execution_count": 52,
     "metadata": {},
     "output_type": "execute_result"
    },
    {
     "data": {
      "image/png": "[encoded data removed]",
      "text/plain": [
       "<matplotlib.figure.Figure at 0x7fc3b48c5e48>"
      ]
     },
     "metadata": {},
     "output_type": "display_data"
    }
   ],
   "source": [
    "set_style()\n",
    "fig, ax = plt.subplots()\n",
    "\n",
    "ax.set_title(\"Relative energies of selected conformers of M7, B97D/631(G)d calculations\", fontsize=14)\n",
    "ax.set_ylabel(\"Relative energies [kcal/mol]\", fontsize=12)\n",
    "ax.set_xticks([0.0, 1.5, 3.0, 4.5])\n",
    "ax.set_xticklabels([\"E1\", \"E2\", \"E3\", \"E4\"], fontsize=12)\n",
    "\n",
    "plot_line(final_data[\"E1-E1(min)[kcal/mol]\"], -0.5, 0.5)\n",
    "plot_line(final_data[\"E2-E2(min)[kcal/mol]\"],  1.0, 2.0)\n",
    "plot_line(final_data[\"E3-E3(min)[kcal/mol]\"],  2.5, 3.5)\n",
    "plot_line(final_data[\"E4-E4(min)[kcal/mol]\"],  4.0, 5.0)\n",
    "\n",
    "ax.text(6, 0,\n",
    "\"E1 = Sum of electronic and zero-point Energies\\n\\\n",
    "E2 = Sum of electronic and thermal Energies\\n\\\n",
    "E3 = Sum of electronic and thermal Enthalpies\\n\\\n",
    "E4 = Sum of electronic and thermal Free Energies\")"
   ]
  },
  {
   "cell_type": "code",
   "execution_count": null,
   "metadata": {
    "collapsed": true
   },
   "outputs": [],
   "source": []
  }
 ],
 "metadata": {
  "kernelspec": {
   "display_name": "Python 3",
   "language": "python",
   "name": "python3"
  },
  "language_info": {
   "codemirror_mode": {
    "name": "ipython",
    "version": 3
   },
   "file_extension": ".py",
   "mimetype": "text/x-python",
   "name": "python",
   "nbconvert_exporter": "python",
   "pygments_lexer": "ipython3",
   "version": "3.5.3"
  }
 },
 "nbformat": 4,
 "nbformat_minor": 2
}
