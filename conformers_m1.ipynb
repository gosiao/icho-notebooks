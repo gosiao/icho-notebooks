{
 "cells": [
  {
   "cell_type": "markdown",
   "metadata": {
    "deletable": true,
    "editable": true
   },
   "source": [
    "# Exploring conformational space of selected macrocycles - \"M1\"; <br /> Part 1: Generation and selection of conformer candidates (MM methods)"
   ]
  },
  {
   "cell_type": "code",
   "execution_count": 135,
   "metadata": {
    "collapsed": false,
    "deletable": true,
    "editable": true
   },
   "outputs": [
    {
     "data": {
      "text/html": [
       "<script>\n",
       "code_show=true; \n",
       "function code_toggle() {\n",
       " if (code_show){\n",
       " $('div.input').hide();\n",
       " } else {\n",
       " $('div.input').show();\n",
       " }\n",
       " code_show = !code_show\n",
       "}\n",
       "$( document ).ready(code_toggle);\n",
       "</script>\n",
       "<form action=\"javascript:code_toggle()\"><input type=\"submit\" value=\"Click here to toggle on/off the raw code.\"></form>"
      ],
      "text/plain": [
       "<IPython.core.display.HTML object>"
      ]
     },
     "execution_count": 135,
     "metadata": {},
     "output_type": "execute_result"
    }
   ],
   "source": [
    "from IPython.display import HTML\n",
    "\n",
    "HTML('''<script>\n",
    "code_show=true; \n",
    "function code_toggle() {\n",
    " if (code_show){\n",
    " $('div.input').hide();\n",
    " } else {\n",
    " $('div.input').show();\n",
    " }\n",
    " code_show = !code_show\n",
    "}\n",
    "$( document ).ready(code_toggle);\n",
    "</script>\n",
    "<form action=\"javascript:code_toggle()\"><input type=\"submit\" value=\"Click here to toggle on/off the raw code.\"></form>''')"
   ]
  },
  {
   "cell_type": "code",
   "execution_count": 136,
   "metadata": {
    "collapsed": false,
    "deletable": true,
    "editable": true
   },
   "outputs": [
    {
     "name": "stdout",
     "output_type": "stream",
     "text": [
      "2016.09.4\n",
      "Mon Jun 19 10:28:16 2017\n"
     ]
    }
   ],
   "source": [
    "import glob\n",
    "import py3Dmol\n",
    "\n",
    "import matplotlib\n",
    "import matplotlib.pyplot as plt\n",
    "import seaborn as sns\n",
    "import pandas as pd\n",
    "import numpy as np\n",
    "%matplotlib inline \n",
    "\n",
    "from rdkit import Chem\n",
    "from rdkit.Chem import AllChem\n",
    "from rdkit.Chem import Draw\n",
    "from rdkit.Chem import rdMolAlign\n",
    "from rdkit.Chem.Draw import IPythonConsole\n",
    "from rdkit import rdBase\n",
    "print(rdBase.rdkitVersion)\n",
    "import os,time\n",
    "print( time.asctime())"
   ]
  },
  {
   "cell_type": "code",
   "execution_count": 137,
   "metadata": {
    "collapsed": true,
    "deletable": true,
    "editable": true
   },
   "outputs": [],
   "source": [
    "# Functions used in this notebook:\n",
    "\n",
    "def grep_energies_from_sdf_outputs(files):\n",
    "    energies = {}\n",
    "    for inp in files:\n",
    "        with open(inp,'r') as f:\n",
    "            lines = f.readlines()\n",
    "            for i, line in enumerate(lines):\n",
    "                if \"M  END\" in line:\n",
    "                    energies[os.path.splitext(os.path.basename(inp))[0]] = float(lines[i+1])\n",
    "    return energies\n",
    "\n",
    "def write_to_dict(prefix, suppl):\n",
    "    moldict = {}\n",
    "    for i, mol in enumerate(suppl):\n",
    "        name = prefix + str(i)\n",
    "        moldict[name] = mol\n",
    "    return moldict\n",
    "\n",
    "\n",
    "def align_structures_to_crystal(moldict):\n",
    "    for key, mol in moldict.items():\n",
    "        core_mol = mol.GetSubstructMatch(Chem.MolFromSmiles(core_smiles))\n",
    "        AllChem.AlignMol(mol,m1_crystal,atomMap=list(zip(core_mol,core_m1)))\n",
    "\n",
    "\n",
    "def align_structures_to_lowest_energy(moldict, energy_dict):\n",
    "    \"\"\"\n",
    "    align all structures in \"moldict\" to the one of the lowest energy\n",
    "    \"\"\"\n",
    "    energy_sorted = sorted(energy_dict.items(), key=lambda x: x[1])\n",
    "    first = energy_sorted[0][0]\n",
    "    core_first = moldict[first].GetSubstructMatch(Chem.MolFromSmiles(core_smiles))\n",
    "    \n",
    "    for key, mol in moldict.items():\n",
    "        core_mol = mol.GetSubstructMatch(Chem.MolFromSmiles(core_smiles))\n",
    "        AllChem.AlignMol(mol,moldict[first],atomMap=list(zip(core_mol,core_first)))\n",
    "\n",
    "\n",
    "def prepare_view(moldict):\n",
    "    p = py3Dmol.view(width=400,height=400)\n",
    "    for key, mol in moldict.items():\n",
    "        mb = Chem.MolToMolBlock(mol)\n",
    "        p.addModel(mb,'sdf')\n",
    "    p.setStyle({'stick':{'radius':'0.15'}})\n",
    "    p.setBackgroundColor('0xeeeeee')\n",
    "    p.zoomTo()\n",
    "    return p        \n",
    "\n",
    "\n",
    "def make_similarity_matrix(moldict):\n",
    "    \n",
    "    similarity_matrix = {}\n",
    "\n",
    "    for k1, m1 in moldict.items():\n",
    "        for k2, m2 in moldict.items():\n",
    "            if (k1, k2) in similarity_matrix.keys() or (k2, k1) in similarity_matrix.keys():\n",
    "                pass\n",
    "            else:\n",
    "                if k1 != k2:\n",
    "                    rms = AllChem.GetBestRMS(Chem.RemoveHs(m1),Chem.RemoveHs(m2))\n",
    "                    similarity_matrix[(k1, k2)] = rms \n",
    "                    \n",
    "    return similarity_matrix\n",
    "\n",
    "\n",
    "def find_duplicates_in_sorted_similarity_matrix(similarity_matrix_sorted, energy):\n",
    "    \n",
    "    similarity_thresh = 0.5 # Angstrom\n",
    "    energy_thresh     = 5   # kcal/mol\n",
    "    \n",
    "    to_be_deleted     = []\n",
    "    \n",
    "    for pair in similarity_matrix_sorted:\n",
    "        if pair[1] < similarity_thresh:\n",
    "            conf1 = pair[0][0]\n",
    "            conf2 = pair[0][1]\n",
    "            if abs(energy[conf1] - energy[conf2]) < energy_thresh:\n",
    "                #print(\"conf1, conf2, E(conf1), E(conf2) = \", conf1, conf2, energy_m1_b[conf1], energy_m1_b[conf2])\n",
    "                if energy[conf1] < energy[conf2]:\n",
    "                    to_be_deleted.append(conf2)\n",
    "                else:\n",
    "                    to_be_deleted.append(conf1)\n",
    "        else:\n",
    "            # similarity_matrix_b_sorted is sorted, so here we would already start looping over \n",
    "            # pairs for which rmsd is > threshold \n",
    "            # and we do not need to do this, so break\n",
    "            break\n",
    "\n",
    "    return to_be_deleted\n",
    "\n",
    "\n",
    "def find_duplicates(rms_sorted, energy, rms_thresh):\n",
    "    i = 0\n",
    "    to_be_deleted = []\n",
    "    while i < len(rms_sorted):\n",
    "        j = i + 1\n",
    "        while j < len(rms_sorted):\n",
    "            if rms_sorted[i][0] in to_be_deleted:\n",
    "                i = i + 1\n",
    "                j = j + 1\n",
    "            elif rms_sorted[j][0] in to_be_deleted:\n",
    "                j = j + 1\n",
    "            else:\n",
    "                rms1 = rms_sorted[i][1]\n",
    "                rms2 = rms_sorted[j][1]\n",
    "                if (rms2 - rms1) < rms_thresh:\n",
    "                    if energy[rms_sorted[i][0]] < energy[rms_sorted[j][0]]:\n",
    "                        to_be_deleted.append(rms_sorted[j][0])\n",
    "                    else:\n",
    "                        to_be_deleted.append(rms_sorted[i][0])\n",
    "                else:\n",
    "                    break\n",
    "        i = i + 1\n",
    "    if to_be_deleted:\n",
    "        print(\"Conformers which will be deleted:\")    \n",
    "        print(to_be_deleted)\n",
    "    return to_be_deleted"
   ]
  },
  {
   "cell_type": "markdown",
   "metadata": {
    "deletable": true,
    "editable": true
   },
   "source": [
    "## Crystal structure of \"M1\" macrocycle"
   ]
  },
  {
   "cell_type": "code",
   "execution_count": 138,
   "metadata": {
    "collapsed": false,
    "deletable": true,
    "editable": true,
    "scrolled": false
   },
   "outputs": [
    {
     "data": {
      "text/html": [
       "<div id=\"3dmolviewer_14978608967006855\"  style=\"position: relative; width: 400px; height: 400px\">\n",
       "<script>\n",
       "if(typeof $3Dmolpromise === 'undefined') $3Dmolpromise = $.when($.getScript('http://3dmol.csb.pitt.edu/build/3Dmol.js'))\n",
       "var viewer_14978608967006855 = null;\n",
       "$3Dmolpromise.done(function() {\n",
       "viewer_14978608967006855 = $3Dmol.createViewer($(\"#3dmolviewer_14978608967006855\"),{backgroundColor:\"white\"});\n",
       "\tviewer_14978608967006855.removeAllModels();\n",
       "\tviewer_14978608967006855.addModel(\"46\\n\\nO          8.47386       14.40237       -0.01237\\nO         13.00994       15.03854        5.23003\\nO         15.44524       10.63976        3.45016\\nO         10.57273       10.02569       -1.57307\\nN          8.95748       12.65034        1.33093\\nH          9.35699       12.31014        2.21821\\nN         10.52494       14.24417        2.85275\\nN         12.10005       13.08069        4.69271\\nH         11.32970       12.58230        4.22609\\nN         13.21639       10.63465        3.76301\\nH         12.30841       10.45435        3.31406\\nN         12.74233       10.22131        1.21250\\nN         10.17322       10.17878        0.65044\\nH         10.60905       10.13116        1.58191\\nC          8.99762       13.94140        1.01101\\nC          9.77753       14.83272        1.90536\\nC         11.28382       15.03854        3.59156\\nC         12.18607       14.39726        4.57959\\nC         13.07493       12.32374        5.46334\\nH         14.01350       12.77111        5.32194\\nH         12.83217       12.43091        6.47965\\nC         13.20683       10.97825        5.20175\\nH         12.41354       10.46625        5.66307\\nH         14.09952       10.63635        5.63479\\nC         14.30597       10.53769        3.00475\\nC         14.03835       10.27574        1.55717\\nC         12.43648       10.04100       -0.07247\\nC         10.95121       10.06992       -0.39945\\nC          8.73574       10.35909        0.58151\\nH          8.35725        9.77735       -0.20680\\nH          8.30755       10.00528        1.47233\\nC          8.32667       11.73350        0.38355\\nH          7.28297       11.79814        0.48606\\nH          8.57326       12.02607       -0.59388\\nC          9.77179       16.19862        1.71448\\nH          9.17921       16.60176        1.01631\\nC         10.56890       16.99639        2.47450\\nH         10.58802       17.98637        2.33133\\nC         11.33926       16.41635        3.43425\\nH         11.93566       16.97258        4.01399\\nC         15.05529       10.14476        0.64160\\nH         16.01106       10.19069        0.92794\\nC         14.72650        9.94745       -0.66811\\nH         15.44524        9.83348       -1.35390\\nC         13.40372        9.90833       -1.04459\\nH         13.14757        9.78585       -2.00258\\n\",\"xyz\");\n",
       "\tviewer_14978608967006855.setStyle({\"stick\": {\"radius\": 0.15, \"color\": \"spectrum\"}});\n",
       "\tviewer_14978608967006855.setBackgroundColor(\"0xeeeeee\");\n",
       "\tviewer_14978608967006855.zoomTo();\n",
       "viewer_14978608967006855.render();\n",
       "});\n",
       "</script>"
      ],
      "text/plain": [
       "<IPython.core.display.HTML object>"
      ]
     },
     "execution_count": 138,
     "metadata": {},
     "output_type": "execute_result"
    }
   ],
   "source": [
    "cm1 = open('/home/gosia/work/work_on_gitlab/icho/calcs/m1/m1_crystal.xyz','r').read()\n",
    "vcm1 = py3Dmol.view(width=400,height=400)\n",
    "vcm1.removeAllModels()\n",
    "vcm1.addModel(cm1,'xyz')\n",
    "vcm1.setStyle({'stick':{'radius':0.15,'color':'spectrum'}})\n",
    "vcm1.setBackgroundColor('0xeeeeee')\n",
    "vcm1.zoomTo()\n",
    "vcm1.show()"
   ]
  },
  {
   "cell_type": "code",
   "execution_count": 139,
   "metadata": {
    "collapsed": true,
    "deletable": true,
    "editable": true
   },
   "outputs": [],
   "source": [
    "# \"core\" is a part of a molecule, which we wish to be the \"most-aligned\" among multiple conformers\n",
    "smiles      = 'O=C1NCCNC(=O)c2nc(C(=O)NCCNC(=O)c3nc1ccc3)ccc2'\n",
    "core_smiles = 'n1ccccc1'\n",
    "\n",
    "m1 = Chem.AddHs(Chem.MolFromSmiles(smiles))\n",
    "core_m1 = m1.GetSubstructMatch(Chem.MolFromSmiles(core_smiles))\n",
    "\n",
    "templ_m1 = Chem.SDMolSupplier('/home/gosia/work/work_on_gitlab/icho/calcs/m1/m1_crystal.sdf')\n",
    "m1_crystal = templ_m1[0]"
   ]
  },
  {
   "cell_type": "markdown",
   "metadata": {
    "deletable": true,
    "editable": true
   },
   "source": [
    "## Conformers generated with the Balloon software:"
   ]
  },
  {
   "cell_type": "markdown",
   "metadata": {
    "deletable": true,
    "editable": true
   },
   "source": [
    "Conformers were generated in the Balloon software with the following starting structures:\n",
    "\n",
    "* the crystal geometry (3D), results with prefix: \"m1_b_sdf\"; the crystal is of the \"ss-ss\" type;\n",
    "\n",
    "* the SMILES signature of M1 (\"0D\"), program was allowed to \"rebuild the geometry\" (option \"--rebuildGeometry\"), results with prefix: \"m1_b_smi\"\n",
    "\n",
    "* 3D structures generated in Avogadro (from the crystal geometry and pre-optimized) of the:\n",
    "    * \"ss_sa\" type\n",
    "    * \"ss_aa\" type\n",
    "    * \"sa_sa\" type\n",
    "    * \"sa_as\" type\n",
    "    * \"sa_aa\" type\n",
    "    * \"aa_aa\" type    \n",
    "\n",
    "  where \"ss\\_sa\" means \"(ring1: syn-syn)\\_(ring2: syn-anti)\" configuration of the amide groups, paired by the neighbouring aromatic ring, etc.\n",
    "    \n",
    "In all cases the Balloon software was asked to generate 100 conformers using the genertic algorithm with default settings (only \"maxPostprocessIter\" increased to 150 and \"nGenerations\" to 300).\n",
    "\n",
    "The generated conformer structures are presented in a separate notebook: [link](http://nbviewer.jupyter.org/github/gosiao/icho-notebooks/blob/master/conformers_m1_suppl1.ipynb)."
   ]
  },
  {
   "cell_type": "code",
   "execution_count": 140,
   "metadata": {
    "collapsed": false,
    "deletable": true,
    "editable": true
   },
   "outputs": [],
   "source": [
    "inps_m1_b_sdf = glob.glob('/home/gosia/work/work_on_gitlab/icho/calcs/m1/balloon/results_starting_from_crystalsdf/*.sdf')\n",
    "inps_m1_b_smi = glob.glob('/home/gosia/work/work_on_gitlab/icho/calcs/m1/balloon/results_starting_from_crystalsmiles/*.sdf')\n",
    "inps_m1_b_ss_sa = glob.glob('/home/gosia/work/work_on_gitlab/icho/calcs/m1/balloon/results_starting_from_m1_ss_sa/*.sdf')\n",
    "inps_m1_b_ss_aa = glob.glob('/home/gosia/work/work_on_gitlab/icho/calcs/m1/balloon/results_starting_from_m1_ss_aa/*.sdf')\n",
    "inps_m1_b_sa_sa = glob.glob('/home/gosia/work/work_on_gitlab/icho/calcs/m1/balloon/results_starting_from_m1_sa_sa/*.sdf')\n",
    "inps_m1_b_sa_as = glob.glob('/home/gosia/work/work_on_gitlab/icho/calcs/m1/balloon/results_starting_from_m1_sa_as/*.sdf')\n",
    "inps_m1_b_sa_aa = glob.glob('/home/gosia/work/work_on_gitlab/icho/calcs/m1/balloon/results_starting_from_m1_sa_aa/*.sdf')\n",
    "inps_m1_b_aa_aa = glob.glob('/home/gosia/work/work_on_gitlab/icho/calcs/m1/balloon/results_starting_from_m1_aa_aa/*.sdf')"
   ]
  },
  {
   "cell_type": "code",
   "execution_count": 141,
   "metadata": {
    "collapsed": false,
    "deletable": true,
    "editable": true
   },
   "outputs": [],
   "source": [
    "e_m1_b_sdf = grep_energies_from_sdf_outputs(inps_m1_b_sdf)\n",
    "e_m1_b_smi = grep_energies_from_sdf_outputs(inps_m1_b_smi)\n",
    "e_m1_b_ss_sa = grep_energies_from_sdf_outputs(inps_m1_b_ss_sa)\n",
    "e_m1_b_ss_aa = grep_energies_from_sdf_outputs(inps_m1_b_ss_aa)\n",
    "e_m1_b_sa_sa = grep_energies_from_sdf_outputs(inps_m1_b_sa_sa)\n",
    "e_m1_b_sa_as = grep_energies_from_sdf_outputs(inps_m1_b_sa_as)\n",
    "e_m1_b_sa_aa = grep_energies_from_sdf_outputs(inps_m1_b_sa_aa)\n",
    "e_m1_b_aa_aa = grep_energies_from_sdf_outputs(inps_m1_b_aa_aa)"
   ]
  },
  {
   "cell_type": "code",
   "execution_count": 142,
   "metadata": {
    "collapsed": false,
    "deletable": true,
    "editable": true
   },
   "outputs": [],
   "source": [
    "# write conformers to dictionaries\n",
    "   \n",
    "suppl_m1_b_sdf  = Chem.SDMolSupplier('/home/gosia/work/work_on_gitlab/icho/calcs/m1/balloon/m1_crystal_sdfout.sdf')\n",
    "suppl_m1_b_smi  = Chem.SDMolSupplier('/home/gosia/work/work_on_gitlab/icho/calcs/m1/balloon/m1_crystal_smilesout.sdf')\n",
    "suppl_m1_b_ss_sa  = Chem.SDMolSupplier('/home/gosia/work/work_on_gitlab/icho/calcs/m1/balloon/m1_ss_sa_sdfout.sdf')\n",
    "suppl_m1_b_ss_aa  = Chem.SDMolSupplier('/home/gosia/work/work_on_gitlab/icho/calcs/m1/balloon/m1_ss_aa_sdfout.sdf')\n",
    "suppl_m1_b_sa_sa  = Chem.SDMolSupplier('/home/gosia/work/work_on_gitlab/icho/calcs/m1/balloon/m1_sa_sa_sdfout.sdf')\n",
    "suppl_m1_b_sa_as  = Chem.SDMolSupplier('/home/gosia/work/work_on_gitlab/icho/calcs/m1/balloon/m1_sa_as_sdfout.sdf')\n",
    "suppl_m1_b_sa_aa  = Chem.SDMolSupplier('/home/gosia/work/work_on_gitlab/icho/calcs/m1/balloon/m1_sa_aa_sdfout.sdf')\n",
    "suppl_m1_b_aa_aa  = Chem.SDMolSupplier('/home/gosia/work/work_on_gitlab/icho/calcs/m1/balloon/m1_aa_aa_sdfout.sdf')\n",
    "\n",
    "allmol_m1_b_sdf   = write_to_dict(\"m1_b_sdf_\", suppl_m1_b_sdf)\n",
    "allmol_m1_b_smi   = write_to_dict(\"m1_b_smi_\", suppl_m1_b_smi)\n",
    "allmol_m1_b_ss_sa = write_to_dict(\"m1_b_ss_sa_\", suppl_m1_b_ss_sa)\n",
    "allmol_m1_b_ss_aa = write_to_dict(\"m1_b_ss_aa_\", suppl_m1_b_ss_aa)\n",
    "allmol_m1_b_sa_sa = write_to_dict(\"m1_b_sa_sa_\", suppl_m1_b_sa_sa)\n",
    "allmol_m1_b_sa_as = write_to_dict(\"m1_b_sa_as_\", suppl_m1_b_sa_as)\n",
    "allmol_m1_b_sa_aa = write_to_dict(\"m1_b_sa_aa_\", suppl_m1_b_sa_aa)\n",
    "allmol_m1_b_aa_aa = write_to_dict(\"m1_b_aa_aa_\", suppl_m1_b_aa_aa)"
   ]
  },
  {
   "cell_type": "markdown",
   "metadata": {
    "deletable": true,
    "editable": true
   },
   "source": [
    "### pre-screening"
   ]
  },
  {
   "cell_type": "markdown",
   "metadata": {
    "deletable": true,
    "editable": true
   },
   "source": [
    "All generated structures are pre-optimized with MM methods (MMFF94-like force field). To remove potential duplicates, we will:\n",
    "\n",
    "* calculate the root-mean-square-distance (RMSD) between the pairs of conformers (taking into account non-hydrogen atoms only);\n",
    "* compare the energies of conformers from pairs which are found to be similar (RMSD lower than the threshold);\n",
    "* if these energies are too similar (the difference lower than the threshold), we will remove the conformer which has the higher energy value;"
   ]
  },
  {
   "cell_type": "code",
   "execution_count": 143,
   "metadata": {
    "collapsed": false,
    "deletable": true,
    "editable": true
   },
   "outputs": [
    {
     "name": "stdout",
     "output_type": "stream",
     "text": [
      "The total number of generated conformers (before the duplicates removal) =  102\n"
     ]
    }
   ],
   "source": [
    "allmol_m1_b = {}\n",
    "allmol_m1_b.update(allmol_m1_b_sdf)\n",
    "allmol_m1_b.update(allmol_m1_b_smi)\n",
    "allmol_m1_b.update(allmol_m1_b_ss_sa)\n",
    "allmol_m1_b.update(allmol_m1_b_ss_aa)\n",
    "allmol_m1_b.update(allmol_m1_b_sa_sa)\n",
    "allmol_m1_b.update(allmol_m1_b_sa_as)\n",
    "allmol_m1_b.update(allmol_m1_b_sa_aa)\n",
    "allmol_m1_b.update(allmol_m1_b_aa_aa)\n",
    "\n",
    "print(\"The total number of generated conformers (before the duplicates removal) = \", len(allmol_m1_b))\n",
    "             \n",
    "energy_m1_b = {}\n",
    "energy_m1_b.update(e_m1_b_sdf)\n",
    "energy_m1_b.update(e_m1_b_smi)\n",
    "energy_m1_b.update(e_m1_b_ss_sa)\n",
    "energy_m1_b.update(e_m1_b_ss_aa)\n",
    "energy_m1_b.update(e_m1_b_sa_sa)\n",
    "energy_m1_b.update(e_m1_b_sa_as)\n",
    "energy_m1_b.update(e_m1_b_sa_aa)\n",
    "energy_m1_b.update(e_m1_b_aa_aa)"
   ]
  },
  {
   "cell_type": "code",
   "execution_count": 144,
   "metadata": {
    "collapsed": false,
    "deletable": true,
    "editable": true
   },
   "outputs": [],
   "source": [
    "# 1. calculate the similarity matrix between all pairs of conformers and sort its elements from the lowest\n",
    "# (the most similar structures) to the largest values (the most different structures)\n",
    "similarity_matrix_b = make_similarity_matrix(allmol_m1_b)\n",
    "similarity_matrix_b_sorted = sorted(similarity_matrix_b.items(), key=lambda x: x[1])\n",
    "\n",
    "# 2. remove duplicates:\n",
    "# for all pairs of structures, for which the similarity value is lower than threshold (\"similarity_thresh\"), \n",
    "# compare energies; then if the energies are similar (controlled by the \"energy_thresh\"), \n",
    "#then remove the one with higher energy\n",
    "to_be_deleted = find_duplicates_in_sorted_similarity_matrix(similarity_matrix_b_sorted, energy_m1_b)\n",
    "\n",
    "for mol in to_be_deleted:\n",
    "    #print(\"to_be_deleted: \", mol)\n",
    "    to_be_deleted_keys = list(k for k in similarity_matrix_b.keys() if mol in k)\n",
    "    for k in to_be_deleted_keys:\n",
    "        del similarity_matrix_b[k]\n",
    "    allmol_m1_b.pop(mol, None)\n",
    "    energy_m1_b.pop(mol, None)\n",
    "    "
   ]
  },
  {
   "cell_type": "code",
   "execution_count": 145,
   "metadata": {
    "collapsed": false,
    "deletable": true,
    "editable": true
   },
   "outputs": [
    {
     "name": "stdout",
     "output_type": "stream",
     "text": [
      "We have removed potential conformer duplicates.\n",
      "The final number of remaining conformers =  54\n",
      "Below we present all the remaining conformers aligned (to one aromatic ring).\n"
     ]
    }
   ],
   "source": [
    "print(\"We have removed potential conformer duplicates.\")\n",
    "print(\"The final number of remaining conformers = \", len(allmol_m1_b))\n",
    "print(\"Below we present all the remaining conformers aligned (to one aromatic ring).\")"
   ]
  },
  {
   "cell_type": "code",
   "execution_count": 146,
   "metadata": {
    "collapsed": false,
    "deletable": true,
    "editable": true
   },
   "outputs": [
    {
     "data": {
      "text/html": [
       "<div id=\"3dmolviewer_14978609135507078\"  style=\"position: relative; width: 400px; height: 400px\">\n",
       "<script>\n",
       "if(typeof $3Dmolpromise === 'undefined') $3Dmolpromise = $.when($.getScript('http://3dmol.csb.pitt.edu/build/3Dmol.js'))\n",
       "var viewer_14978609135507078 = null;\n",
       "$3Dmolpromise.done(function() {\n",
       "viewer_14978609135507078 = $3Dmol.createViewer($(\"#3dmolviewer_14978609135507078\"),{backgroundColor:\"white\"});\n",
       "\tviewer_14978609135507078.addModel(\"m1_sa_sa.xyz\\n     RDKit          3D\\n\\n 28 30  0  0  0  0  0  0  0  0999 V2000\\n    5.6994   11.7749    3.2946 O   0  0  0  0  0  0  0  0  0  0  0  0\\n   10.8316   11.6372    7.8889 O   0  0  0  0  0  0  0  0  0  0  0  0\\n   14.8556   11.8927    3.1776 O   0  0  0  0  0  0  0  0  0  0  0  0\\n    9.2417   12.2975    1.0844 O   0  0  0  0  0  0  0  0  0  0  0  0\\n    7.4654   10.2695    3.1119 N   0  0  0  0  0  0  0  0  0  0  0  0\\n    8.5100   11.6745    5.2918 N   0  0  0  0  0  0  0  0  0  0  0  0\\n   11.0862   12.5644    5.7746 N   0  0  0  0  0  0  0  0  0  0  0  0\\n   12.8473   13.0385    3.4520 N   0  0  0  0  0  0  0  0  0  0  0  0\\n   11.7230   11.5962    1.6242 N   0  0  0  0  0  0  0  0  0  0  0  0\\n    8.7469   10.1419    0.3808 N   0  0  0  0  0  0  0  0  0  0  0  0\\n    6.7146   11.2506    3.7376 C   0  0  0  0  0  0  0  0  0  0  0  0\\n    7.1702   11.5802    5.0993 C   0  0  0  0  0  0  0  0  0  0  0  0\\n    8.9065   11.8677    6.5730 C   0  0  0  0  0  0  0  0  0  0  0  0\\n   10.3622   11.9994    6.8129 C   0  0  0  0  0  0  0  0  0  0  0  0\\n   12.5307   12.7381    5.8611 C   0  0  0  0  0  0  0  0  0  0  0  0\\n   13.0900   13.6259    4.7548 C   0  0  0  0  0  0  0  0  0  0  0  0\\n   13.6949   12.1165    2.8550 C   0  0  0  0  0  0  0  0  0  0  0  0\\n   13.0435   11.3472    1.7664 C   0  0  0  0  0  0  0  0  0  0  0  0\\n   11.0365   10.8578    0.7285 C   0  0  0  0  0  0  0  0  0  0  0  0\\n    9.5957   11.1770    0.7250 C   0  0  0  0  0  0  0  0  0  0  0  0\\n    7.3178   10.2156    0.6318 C   0  0  0  0  0  0  0  0  0  0  0  0\\n    6.9625    9.5474    1.9529 C   0  0  0  0  0  0  0  0  0  0  0  0\\n    6.2158   11.6930    6.1038 C   0  0  0  0  0  0  0  0  0  0  0  0\\n    6.6700   11.8605    7.4042 C   0  0  0  0  0  0  0  0  0  0  0  0\\n    8.0356   11.9365    7.6567 C   0  0  0  0  0  0  0  0  0  0  0  0\\n   13.7272   10.3997    1.0205 C   0  0  0  0  0  0  0  0  0  0  0  0\\n   12.9957    9.6714    0.0829 C   0  0  0  0  0  0  0  0  0  0  0  0\\n   11.6271    9.8914   -0.0711 C   0  0  0  0  0  0  0  0  0  0  0  0\\n  1 11  2  0\\n  5 11  1  0\\n  6 13  2  0\\n  7 14  1  0\\n  7 15  1  0\\n  8 16  1  0\\n  9 18  1  0\\n 10 21  1  0\\n 10 20  1  0\\n 11 12  1  0\\n 12  6  1  0\\n 13 14  1  0\\n 14  2  2  0\\n 16 15  1  0\\n 17  3  2  0\\n 17  8  1  0\\n 18 17  1  0\\n 19 20  1  0\\n 19  9  2  0\\n 20  4  2  0\\n 22 21  1  0\\n 22  5  1  0\\n 23 12  2  0\\n 23 24  1  0\\n 24 25  2  0\\n 25 13  1  0\\n 26 18  2  0\\n 27 26  1  0\\n 28 27  2  0\\n 28 19  1  0\\nM  END\\n\",\"sdf\");\n",
       "\tviewer_14978609135507078.addModel(\"m1_crystal.xyz\\n     RDKit          3D\\n\\n 28 30  0  0  0  0  0  0  0  0999 V2000\\n    6.2549   10.2986    3.4233 O   0  0  0  0  0  0  0  0  0  0  0  0\\n   10.8134   12.1973    7.9115 O   0  0  0  0  0  0  0  0  0  0  0  0\\n   14.8355   13.0929    3.1071 O   0  0  0  0  0  0  0  0  0  0  0  0\\n    9.1191   14.7286   -0.5550 O   0  0  0  0  0  0  0  0  0  0  0  0\\n    6.9513   12.4116    2.8072 N   0  0  0  0  0  0  0  0  0  0  0  0\\n    8.5061   11.6739    5.2959 N   0  0  0  0  0  0  0  0  0  0  0  0\\n   11.1532   11.6394    5.6862 N   0  0  0  0  0  0  0  0  0  0  0  0\\n   12.7753   13.5481    4.0763 N   0  0  0  0  0  0  0  0  0  0  0  0\\n   11.7388   13.9536    1.6738 N   0  0  0  0  0  0  0  0  0  0  0  0\\n    9.1087   14.2701    1.7221 N   0  0  0  0  0  0  0  0  0  0  0  0\\n    6.7511   11.3837    3.7133 C   0  0  0  0  0  0  0  0  0  0  0  0\\n    7.1695   11.6024    5.1005 C   0  0  0  0  0  0  0  0  0  0  0  0\\n    8.9114   11.8479    6.5752 C   0  0  0  0  0  0  0  0  0  0  0  0\\n   10.3764   11.9164    6.8002 C   0  0  0  0  0  0  0  0  0  0  0  0\\n   12.6061   11.7178    5.7027 C   0  0  0  0  0  0  0  0  0  0  0  0\\n   13.0986   13.1346    5.4304 C   0  0  0  0  0  0  0  0  0  0  0  0\\n   13.6609   13.4328    3.0181 C   0  0  0  0  0  0  0  0  0  0  0  0\\n   13.0774   13.7552    1.6943 C   0  0  0  0  0  0  0  0  0  0  0  0\\n   11.1767   14.2352    0.4754 C   0  0  0  0  0  0  0  0  0  0  0  0\\n    9.7061   14.4355    0.4816 C   0  0  0  0  0  0  0  0  0  0  0  0\\n    7.7151   14.6009    1.9657 C   0  0  0  0  0  0  0  0  0  0  0  0\\n    7.1512   13.8194    3.1435 C   0  0  0  0  0  0  0  0  0  0  0  0\\n    6.2141   11.6720    6.1026 C   0  0  0  0  0  0  0  0  0  0  0  0\\n    6.6699   11.8606    7.4017 C   0  0  0  0  0  0  0  0  0  0  0  0\\n    8.0372   11.9558    7.6530 C   0  0  0  0  0  0  0  0  0  0  0  0\\n   13.8841   13.8256    0.5670 C   0  0  0  0  0  0  0  0  0  0  0  0\\n   13.2729   14.1247   -0.6474 C   0  0  0  0  0  0  0  0  0  0  0  0\\n   11.8982   14.3365   -0.7065 C   0  0  0  0  0  0  0  0  0  0  0  0\\n  1 11  2  0\\n  4 20  2  0\\n  6 13  2  0\\n  7 15  1  0\\n  8 16  1  0\\n  9 18  1  0\\n 11  5  1  0\\n 11 12  1  0\\n 12  6  1  0\\n 13 14  1  0\\n 14  7  1  0\\n 14  2  2  0\\n 16 15  1  0\\n 17  3  2  0\\n 17  8  1  0\\n 18 17  1  0\\n 19  9  2  0\\n 20 19  1  0\\n 20 10  1  0\\n 21 10  1  0\\n 22 21  1  0\\n 22  5  1  0\\n 23 12  2  0\\n 23 24  1  0\\n 24 25  2  0\\n 25 13  1  0\\n 26 18  2  0\\n 27 26  1  0\\n 28 27  2  0\\n 28 19  1  0\\nM  END\\n\",\"sdf\");\n",
       "\tviewer_14978609135507078.addModel(\"m1_ss_aa.xyz\\n     RDKit          3D\\n\\n 28 30  0  0  0  0  0  0  0  0999 V2000\\n    5.6182   11.4414    3.3203 O   0  0  0  0  0  0  0  0  0  0  0  0\\n   11.0558   11.4329    5.7977 O   0  0  0  0  0  0  0  0  0  0  0  0\\n   12.1344   17.3320    6.3149 O   0  0  0  0  0  0  0  0  0  0  0  0\\n    9.6447   15.1736    0.2190 O   0  0  0  0  0  0  0  0  0  0  0  0\\n    7.8657   11.7900    2.8108 N   0  0  0  0  0  0  0  0  0  0  0  0\\n    8.4943   11.6638    5.3107 N   0  0  0  0  0  0  0  0  0  0  0  0\\n   10.8702   12.8110    7.6575 N   0  0  0  0  0  0  0  0  0  0  0  0\\n   11.8605   15.0599    5.9688 N   0  0  0  0  0  0  0  0  0  0  0  0\\n   10.7394   15.7855    3.4829 N   0  0  0  0  0  0  0  0  0  0  0  0\\n    8.5840   14.5591    2.1918 N   0  0  0  0  0  0  0  0  0  0  0  0\\n    6.7862   11.5724    3.6581 C   0  0  0  0  0  0  0  0  0  0  0  0\\n    7.1646   11.6020    5.0897 C   0  0  0  0  0  0  0  0  0  0  0  0\\n    8.9097   11.8593    6.5781 C   0  0  0  0  0  0  0  0  0  0  0  0\\n   10.3765   11.9918    6.6578 C   0  0  0  0  0  0  0  0  0  0  0  0\\n   12.2560   13.2397    7.6582 C   0  0  0  0  0  0  0  0  0  0  0  0\\n   12.3883   14.7106    7.2836 C   0  0  0  0  0  0  0  0  0  0  0  0\\n   11.8478   16.3930    5.5747 C   0  0  0  0  0  0  0  0  0  0  0  0\\n   11.5047   16.6794    4.1606 C   0  0  0  0  0  0  0  0  0  0  0  0\\n   10.4216   16.1329    2.2061 C   0  0  0  0  0  0  0  0  0  0  0  0\\n    9.5338   15.2306    1.4414 C   0  0  0  0  0  0  0  0  0  0  0  0\\n    7.4653   13.8535    1.5715 C   0  0  0  0  0  0  0  0  0  0  0  0\\n    7.6989   12.3499    1.4883 C   0  0  0  0  0  0  0  0  0  0  0  0\\n    6.2159   11.6803    6.0948 C   0  0  0  0  0  0  0  0  0  0  0  0\\n    6.6770   11.8507    7.3985 C   0  0  0  0  0  0  0  0  0  0  0  0\\n    8.0466   11.9564    7.6573 C   0  0  0  0  0  0  0  0  0  0  0  0\\n   11.9508   17.8873    3.6216 C   0  0  0  0  0  0  0  0  0  0  0  0\\n   11.6079   18.1979    2.3134 C   0  0  0  0  0  0  0  0  0  0  0  0\\n   10.8337   17.3094    1.5828 C   0  0  0  0  0  0  0  0  0  0  0  0\\n  4 20  2  0\\n  5 22  1  0\\n  5 11  1  0\\n  6 13  1  0\\n  7 15  1  0\\n  8 17  1  0\\n  8 16  1  0\\n  9 18  2  0\\n 10 20  1  0\\n 11  1  2  0\\n 12 11  1  0\\n 12  6  2  0\\n 13 14  1  0\\n 14  2  2  0\\n 14  7  1  0\\n 15 16  1  0\\n 17  3  2  0\\n 18 26  1  0\\n 18 17  1  0\\n 19 28  2  0\\n 19  9  1  0\\n 20 19  1  0\\n 21 10  1  0\\n 22 21  1  0\\n 23 12  1  0\\n 23 24  2  0\\n 24 25  1  0\\n 25 13  2  0\\n 27 26  2  0\\n 28 27  1  0\\nM  END\\n\",\"sdf\");\n",
       "\tviewer_14978609135507078.addModel(\"m1_ss_sa.xyz\\n     RDKit          3D\\n\\n 28 30  0  0  0  0  0  0  0  0999 V2000\\n    5.6064   11.0739    3.3942 O   0  0  0  0  0  0  0  0  0  0  0  0\\n   11.0463   12.2088    5.7112 O   0  0  0  0  0  0  0  0  0  0  0  0\\n   12.1287    6.8719    7.0734 O   0  0  0  0  0  0  0  0  0  0  0  0\\n   10.4331    8.0337    0.5998 O   0  0  0  0  0  0  0  0  0  0  0  0\\n    7.8650   11.1532    2.8371 N   0  0  0  0  0  0  0  0  0  0  0  0\\n    8.4938   11.6850    5.3067 N   0  0  0  0  0  0  0  0  0  0  0  0\\n   10.9109   11.4429    7.8951 N   0  0  0  0  0  0  0  0  0  0  0  0\\n   12.2874    9.1293    6.5118 N   0  0  0  0  0  0  0  0  0  0  0  0\\n   11.2961    7.9472    4.0163 N   0  0  0  0  0  0  0  0  0  0  0  0\\n    9.1455    8.5630    2.4552 N   0  0  0  0  0  0  0  0  0  0  0  0\\n    6.7803   11.2646    3.6944 C   0  0  0  0  0  0  0  0  0  0  0  0\\n    7.1640   11.5853    5.0904 C   0  0  0  0  0  0  0  0  0  0  0  0\\n    8.9124   11.8506    6.5799 C   0  0  0  0  0  0  0  0  0  0  0  0\\n   10.3850   11.8759    6.6915 C   0  0  0  0  0  0  0  0  0  0  0  0\\n   12.3145   11.0993    8.0360 C   0  0  0  0  0  0  0  0  0  0  0  0\\n   12.5189    9.5974    7.8718 C   0  0  0  0  0  0  0  0  0  0  0  0\\n   12.1947    7.7724    6.2423 C   0  0  0  0  0  0  0  0  0  0  0  0\\n   12.2500    7.4126    4.8182 C   0  0  0  0  0  0  0  0  0  0  0  0\\n   11.3258    7.5431    2.7195 C   0  0  0  0  0  0  0  0  0  0  0  0\\n   10.2725    8.0780    1.8169 C   0  0  0  0  0  0  0  0  0  0  0  0\\n    7.9242    8.9493    1.7571 C   0  0  0  0  0  0  0  0  0  0  0  0\\n    7.7977   10.4579    1.5665 C   0  0  0  0  0  0  0  0  0  0  0  0\\n    6.2164   11.6789    6.0949 C   0  0  0  0  0  0  0  0  0  0  0  0\\n    6.6762   11.8648    7.3980 C   0  0  0  0  0  0  0  0  0  0  0  0\\n    8.0454   11.9478    7.6589 C   0  0  0  0  0  0  0  0  0  0  0  0\\n   13.2222    6.5123    4.4048 C   0  0  0  0  0  0  0  0  0  0  0  0\\n   13.2201    6.1325    3.0703 C   0  0  0  0  0  0  0  0  0  0  0  0\\n   12.2591    6.6455    2.2056 C   0  0  0  0  0  0  0  0  0  0  0  0\\n  1 11  2  0\\n  4 20  2  0\\n  6 13  2  0\\n  7 15  1  0\\n  8 17  1  0\\n  8 16  1  0\\n  9 18  2  0\\n 10 20  1  0\\n 11  5  1  0\\n 11 12  1  0\\n 12  6  1  0\\n 13 14  1  0\\n 14  7  1  0\\n 14  2  2  0\\n 15 16  1  0\\n 17  3  2  0\\n 18 26  1  0\\n 18 17  1  0\\n 19 28  2  0\\n 19  9  1  0\\n 20 19  1  0\\n 21 10  1  0\\n 22  5  1  0\\n 22 21  1  0\\n 23 12  2  0\\n 23 24  1  0\\n 24 25  2  0\\n 25 13  1  0\\n 27 26  2  0\\n 28 27  1  0\\nM  END\\n\",\"sdf\");\n",
       "\tviewer_14978609135507078.addModel(\"m1_sa_aa.xyz\\n     RDKit          3D\\n\\n 28 30  0  0  0  0  0  0  0  0999 V2000\\n    5.5604   11.4140    3.3742 O   0  0  0  0  0  0  0  0  0  0  0  0\\n   10.8731   12.8888    5.9959 O   0  0  0  0  0  0  0  0  0  0  0  0\\n   12.4841    6.6051    6.6340 O   0  0  0  0  0  0  0  0  0  0  0  0\\n    7.3174    8.2895    3.7721 O   0  0  0  0  0  0  0  0  0  0  0  0\\n    7.7993   11.2355    2.7882 N   0  0  0  0  0  0  0  0  0  0  0  0\\n    8.5007   11.6787    5.2992 N   0  0  0  0  0  0  0  0  0  0  0  0\\n   11.0628   11.3209    7.6591 N   0  0  0  0  0  0  0  0  0  0  0  0\\n   11.0201    8.4028    6.7142 N   0  0  0  0  0  0  0  0  0  0  0  0\\n    9.8862    7.5782    4.4645 N   0  0  0  0  0  0  0  0  0  0  0  0\\n    8.1680    8.5241    1.6139 N   0  0  0  0  0  0  0  0  0  0  0  0\\n    6.7501   11.4144    3.6746 C   0  0  0  0  0  0  0  0  0  0  0  0\\n    7.1669   11.5957    5.0865 C   0  0  0  0  0  0  0  0  0  0  0  0\\n    8.9035   11.8446    6.5795 C   0  0  0  0  0  0  0  0  0  0  0  0\\n   10.3501   12.0491    6.7282 C   0  0  0  0  0  0  0  0  0  0  0  0\\n   10.6565   10.1455    8.4246 C   0  0  0  0  0  0  0  0  0  0  0  0\\n   11.4487    8.9129    8.0044 C   0  0  0  0  0  0  0  0  0  0  0  0\\n   11.5698    7.2629    6.1482 C   0  0  0  0  0  0  0  0  0  0  0  0\\n   10.9593    6.8568    4.8587 C   0  0  0  0  0  0  0  0  0  0  0  0\\n    9.3266    7.2342    3.2822 C   0  0  0  0  0  0  0  0  0  0  0  0\\n    8.1608    8.0526    2.9145 C   0  0  0  0  0  0  0  0  0  0  0  0\\n    7.1907    9.4824    1.1294 C   0  0  0  0  0  0  0  0  0  0  0  0\\n    7.6193   10.9280    1.3798 C   0  0  0  0  0  0  0  0  0  0  0  0\\n    6.2194   11.6756    6.1005 C   0  0  0  0  0  0  0  0  0  0  0  0\\n    6.6766   11.8587    7.4043 C   0  0  0  0  0  0  0  0  0  0  0  0\\n    8.0410   11.9591    7.6590 C   0  0  0  0  0  0  0  0  0  0  0  0\\n   11.4804    5.7930    4.1310 C   0  0  0  0  0  0  0  0  0  0  0  0\\n   10.8657    5.4635    2.9237 C   0  0  0  0  0  0  0  0  0  0  0  0\\n    9.7689    6.1940    2.4777 C   0  0  0  0  0  0  0  0  0  0  0  0\\n  4 20  2  0\\n  5 22  1  0\\n  5 11  1  0\\n  6 13  1  0\\n  7 15  1  0\\n  8 17  1  0\\n  8 16  1  0\\n  9 18  2  0\\n 10 20  1  0\\n 11  1  2  0\\n 12 11  1  0\\n 12  6  2  0\\n 13 14  1  0\\n 14  2  2  0\\n 14  7  1  0\\n 15 16  1  0\\n 17  3  2  0\\n 18 26  1  0\\n 18 17  1  0\\n 19 28  2  0\\n 19  9  1  0\\n 20 19  1  0\\n 21 10  1  0\\n 22 21  1  0\\n 23 12  1  0\\n 23 24  2  0\\n 24 25  1  0\\n 25 13  2  0\\n 27 26  2  0\\n 28 27  1  0\\nM  END\\n\",\"sdf\");\n",
       "\tviewer_14978609135507078.addModel(\"m1_ss_sa.xyz\\n     RDKit          3D\\n\\n 28 30  0  0  0  0  0  0  0  0999 V2000\\n    5.6189   10.8781    3.4727 O   0  0  0  0  0  0  0  0  0  0  0  0\\n   11.0575   12.5461    6.0450 O   0  0  0  0  0  0  0  0  0  0  0  0\\n   11.9090    7.1294    7.2525 O   0  0  0  0  0  0  0  0  0  0  0  0\\n    7.4460    7.5342    1.8741 O   0  0  0  0  0  0  0  0  0  0  0  0\\n    7.7747   11.3892    2.7689 N   0  0  0  0  0  0  0  0  0  0  0  0\\n    8.5009   11.6897    5.2978 N   0  0  0  0  0  0  0  0  0  0  0  0\\n   10.8002   10.8823    7.6594 N   0  0  0  0  0  0  0  0  0  0  0  0\\n   11.7528    8.9500    5.8235 N   0  0  0  0  0  0  0  0  0  0  0  0\\n    9.8727    7.7191    4.4275 N   0  0  0  0  0  0  0  0  0  0  0  0\\n    9.1982    9.0155    2.2198 N   0  0  0  0  0  0  0  0  0  0  0  0\\n    6.7605   11.2614    3.7040 C   0  0  0  0  0  0  0  0  0  0  0  0\\n    7.1683   11.5849    5.0904 C   0  0  0  0  0  0  0  0  0  0  0  0\\n    8.9013   11.8455    6.5776 C   0  0  0  0  0  0  0  0  0  0  0  0\\n   10.3605   11.8260    6.7487 C   0  0  0  0  0  0  0  0  0  0  0  0\\n   12.1907   10.4696    7.7536 C   0  0  0  0  0  0  0  0  0  0  0  0\\n   12.7174    9.8225    6.4729 C   0  0  0  0  0  0  0  0  0  0  0  0\\n   11.4054    7.6946    6.2885 C   0  0  0  0  0  0  0  0  0  0  0  0\\n   10.3125    7.0457    5.5165 C   0  0  0  0  0  0  0  0  0  0  0  0\\n    8.8727    7.1522    3.7123 C   0  0  0  0  0  0  0  0  0  0  0  0\\n    8.4243    7.9046    2.5125 C   0  0  0  0  0  0  0  0  0  0  0  0\\n    8.9028    9.9437    1.1409 C   0  0  0  0  0  0  0  0  0  0  0  0\\n    7.6910   10.8258    1.4321 C   0  0  0  0  0  0  0  0  0  0  0  0\\n    6.2196   11.6743    6.1005 C   0  0  0  0  0  0  0  0  0  0  0  0\\n    6.6765   11.8720    7.4016 C   0  0  0  0  0  0  0  0  0  0  0  0\\n    8.0415   11.9460    7.6611 C   0  0  0  0  0  0  0  0  0  0  0  0\\n    9.7938    5.8256    5.9253 C   0  0  0  0  0  0  0  0  0  0  0  0\\n    8.7632    5.2749    5.1675 C   0  0  0  0  0  0  0  0  0  0  0  0\\n    8.2839    5.9403    4.0417 C   0  0  0  0  0  0  0  0  0  0  0  0\\n  1 11  2  0\\n  4 20  2  0\\n  6 13  2  0\\n  7 15  1  0\\n  8 17  1  0\\n  8 16  1  0\\n  9 18  2  0\\n 10 20  1  0\\n 11  5  1  0\\n 11 12  1  0\\n 12  6  1  0\\n 13 14  1  0\\n 14  7  1  0\\n 14  2  2  0\\n 15 16  1  0\\n 17  3  2  0\\n 18 26  1  0\\n 18 17  1  0\\n 19 28  2  0\\n 19  9  1  0\\n 20 19  1  0\\n 21 10  1  0\\n 22  5  1  0\\n 22 21  1  0\\n 23 12  2  0\\n 23 24  1  0\\n 24 25  2  0\\n 25 13  1  0\\n 27 26  2  0\\n 28 27  1  0\\nM  END\\n\",\"sdf\");\n",
       "\tviewer_14978609135507078.addModel(\"m1_ss_sa.xyz\\n     RDKit          3D\\n\\n 28 30  0  0  0  0  0  0  0  0999 V2000\\n    5.8539   12.0062    3.1999 O   0  0  0  0  0  0  0  0  0  0  0  0\\n   10.9817   12.4931    5.7373 O   0  0  0  0  0  0  0  0  0  0  0  0\\n   14.5770    8.3134    5.8851 O   0  0  0  0  0  0  0  0  0  0  0  0\\n   10.9147    9.6379    0.0752 O   0  0  0  0  0  0  0  0  0  0  0  0\\n    7.7235   10.6156    3.0045 N   0  0  0  0  0  0  0  0  0  0  0  0\\n    8.4969   11.6781    5.3077 N   0  0  0  0  0  0  0  0  0  0  0  0\\n   10.9511   11.4470    7.8083 N   0  0  0  0  0  0  0  0  0  0  0  0\\n   12.8185    9.8118    5.9771 N   0  0  0  0  0  0  0  0  0  0  0  0\\n   12.4105    9.3793    3.2852 N   0  0  0  0  0  0  0  0  0  0  0  0\\n   10.4743   10.8278    2.0054 N   0  0  0  0  0  0  0  0  0  0  0  0\\n    6.8168   11.4201    3.6755 C   0  0  0  0  0  0  0  0  0  0  0  0\\n    7.1663   11.5852    5.0971 C   0  0  0  0  0  0  0  0  0  0  0  0\\n    8.9096   11.8588    6.5763 C   0  0  0  0  0  0  0  0  0  0  0  0\\n   10.3736   11.9836    6.6751 C   0  0  0  0  0  0  0  0  0  0  0  0\\n   12.3897   11.3107    7.9336 C   0  0  0  0  0  0  0  0  0  0  0  0\\n   12.8795    9.9598    7.4275 C   0  0  0  0  0  0  0  0  0  0  0  0\\n   13.6547    8.9106    5.3328 C   0  0  0  0  0  0  0  0  0  0  0  0\\n   13.3874    8.6575    3.8938 C   0  0  0  0  0  0  0  0  0  0  0  0\\n   12.2070    9.1150    1.9660 C   0  0  0  0  0  0  0  0  0  0  0  0\\n   11.1479    9.8775    1.2578 C   0  0  0  0  0  0  0  0  0  0  0  0\\n    9.3414   11.5694    1.4602 C   0  0  0  0  0  0  0  0  0  0  0  0\\n    8.0351   10.7858    1.5988 C   0  0  0  0  0  0  0  0  0  0  0  0\\n    6.2127   11.6860    6.0932 C   0  0  0  0  0  0  0  0  0  0  0  0\\n    6.6764   11.8585    7.3973 C   0  0  0  0  0  0  0  0  0  0  0  0\\n    8.0463   11.9457    7.6573 C   0  0  0  0  0  0  0  0  0  0  0  0\\n   14.1572    7.6932    3.2450 C   0  0  0  0  0  0  0  0  0  0  0  0\\n   13.9166    7.4526    1.8999 C   0  0  0  0  0  0  0  0  0  0  0  0\\n   12.9286    8.1694    1.2410 C   0  0  0  0  0  0  0  0  0  0  0  0\\n  1 11  2  0\\n  4 20  2  0\\n  6 13  2  0\\n  7 15  1  0\\n  8 17  1  0\\n  8 16  1  0\\n  9 18  2  0\\n 10 20  1  0\\n 11  5  1  0\\n 11 12  1  0\\n 12  6  1  0\\n 13 14  1  0\\n 14  7  1  0\\n 14  2  2  0\\n 15 16  1  0\\n 17  3  2  0\\n 18 26  1  0\\n 18 17  1  0\\n 19 28  2  0\\n 19  9  1  0\\n 20 19  1  0\\n 21 10  1  0\\n 22  5  1  0\\n 22 21  1  0\\n 23 12  2  0\\n 23 24  1  0\\n 24 25  2  0\\n 25 13  1  0\\n 27 26  2  0\\n 28 27  1  0\\nM  END\\n\",\"sdf\");\n",
       "\tviewer_14978609135507078.addModel(\"m1_sa_aa.xyz\\n     RDKit          3D\\n\\n 28 30  0  0  0  0  0  0  0  0999 V2000\\n    5.5674   11.3127    3.3758 O   0  0  0  0  0  0  0  0  0  0  0  0\\n   11.0306   12.3426    5.7493 O   0  0  0  0  0  0  0  0  0  0  0  0\\n   14.1018    7.8164    6.3609 O   0  0  0  0  0  0  0  0  0  0  0  0\\n   11.0203   11.3877    2.5466 O   0  0  0  0  0  0  0  0  0  0  0  0\\n    7.8145   11.1584    2.8120 N   0  0  0  0  0  0  0  0  0  0  0  0\\n    8.4976   11.6814    5.3027 N   0  0  0  0  0  0  0  0  0  0  0  0\\n   10.9190   11.5161    7.9167 N   0  0  0  0  0  0  0  0  0  0  0  0\\n   12.8051    9.7415    6.3686 N   0  0  0  0  0  0  0  0  0  0  0  0\\n   12.1809    9.3641    3.8364 N   0  0  0  0  0  0  0  0  0  0  0  0\\n    9.9550    9.9056    1.1090 N   0  0  0  0  0  0  0  0  0  0  0  0\\n    6.7539   11.3490    3.6819 C   0  0  0  0  0  0  0  0  0  0  0  0\\n    7.1641   11.5884    5.0889 C   0  0  0  0  0  0  0  0  0  0  0  0\\n    8.9107   11.8513    6.5806 C   0  0  0  0  0  0  0  0  0  0  0  0\\n   10.3815   11.9426    6.7130 C   0  0  0  0  0  0  0  0  0  0  0  0\\n   12.3541   11.4080    8.1392 C   0  0  0  0  0  0  0  0  0  0  0  0\\n   12.8827   10.0191    7.7920 C   0  0  0  0  0  0  0  0  0  0  0  0\\n   13.3673    8.6164    5.7905 C   0  0  0  0  0  0  0  0  0  0  0  0\\n   12.9850    8.4138    4.3701 C   0  0  0  0  0  0  0  0  0  0  0  0\\n   11.7717    9.1829    2.5589 C   0  0  0  0  0  0  0  0  0  0  0  0\\n   10.8951   10.2658    2.0624 C   0  0  0  0  0  0  0  0  0  0  0  0\\n    8.9309   10.8251    0.6325 C   0  0  0  0  0  0  0  0  0  0  0  0\\n    7.6411   10.7147    1.4402 C   0  0  0  0  0  0  0  0  0  0  0  0\\n    6.2170   11.6788    6.0981 C   0  0  0  0  0  0  0  0  0  0  0  0\\n    6.6762   11.8629    7.3998 C   0  0  0  0  0  0  0  0  0  0  0  0\\n    8.0426   11.9496    7.6588 C   0  0  0  0  0  0  0  0  0  0  0  0\\n   13.4186    7.2951    3.6741 C   0  0  0  0  0  0  0  0  0  0  0  0\\n   12.9888    7.1475    2.3579 C   0  0  0  0  0  0  0  0  0  0  0  0\\n   12.1494    8.0982    1.7807 C   0  0  0  0  0  0  0  0  0  0  0  0\\n  4 20  2  0\\n  5 22  1  0\\n  5 11  1  0\\n  6 13  1  0\\n  7 15  1  0\\n  8 17  1  0\\n  8 16  1  0\\n  9 18  2  0\\n 10 20  1  0\\n 11  1  2  0\\n 12 11  1  0\\n 12  6  2  0\\n 13 14  1  0\\n 14  2  2  0\\n 14  7  1  0\\n 15 16  1  0\\n 17  3  2  0\\n 18 26  1  0\\n 18 17  1  0\\n 19 28  2  0\\n 19  9  1  0\\n 20 19  1  0\\n 21 10  1  0\\n 22 21  1  0\\n 23 12  1  0\\n 23 24  2  0\\n 24 25  1  0\\n 25 13  2  0\\n 27 26  2  0\\n 28 27  1  0\\nM  END\\n\",\"sdf\");\n",
       "\tviewer_14978609135507078.addModel(\"m1_sa_aa.xyz\\n     RDKit          3D\\n\\n 28 30  0  0  0  0  0  0  0  0999 V2000\\n    6.9513   12.2163    2.8734 O   0  0  0  0  0  0  0  0  0  0  0  0\\n   11.0623   12.1761    5.7569 O   0  0  0  0  0  0  0  0  0  0  0  0\\n   14.2025    9.3789    5.5858 O   0  0  0  0  0  0  0  0  0  0  0  0\\n    8.4654    7.9479    4.2822 O   0  0  0  0  0  0  0  0  0  0  0  0\\n    6.3184   10.0500    3.4963 N   0  0  0  0  0  0  0  0  0  0  0  0\\n    8.5026   11.6875    5.2960 N   0  0  0  0  0  0  0  0  0  0  0  0\\n   10.8737   11.4159    7.9467 N   0  0  0  0  0  0  0  0  0  0  0  0\\n   12.1371    9.1403    6.6128 N   0  0  0  0  0  0  0  0  0  0  0  0\\n   11.0315    8.6343    4.2450 N   0  0  0  0  0  0  0  0  0  0  0  0\\n    8.2470    8.3135    1.9984 N   0  0  0  0  0  0  0  0  0  0  0  0\\n    6.7866   11.3331    3.7097 C   0  0  0  0  0  0  0  0  0  0  0  0\\n    7.1704   11.5910    5.1017 C   0  0  0  0  0  0  0  0  0  0  0  0\\n    8.9098   11.8422    6.5768 C   0  0  0  0  0  0  0  0  0  0  0  0\\n   10.3817   11.8483    6.7248 C   0  0  0  0  0  0  0  0  0  0  0  0\\n   12.2763   11.0851    8.1331 C   0  0  0  0  0  0  0  0  0  0  0  0\\n   12.5115    9.5881    7.9424 C   0  0  0  0  0  0  0  0  0  0  0  0\\n   13.0075    9.1084    5.5390 C   0  0  0  0  0  0  0  0  0  0  0  0\\n   12.3828    8.7051    4.2544 C   0  0  0  0  0  0  0  0  0  0  0  0\\n   10.4392    8.2621    3.0838 C   0  0  0  0  0  0  0  0  0  0  0  0\\n    8.9640    8.1560    3.1773 C   0  0  0  0  0  0  0  0  0  0  0  0\\n    6.7985    8.1843    1.9503 C   0  0  0  0  0  0  0  0  0  0  0  0\\n    6.0672    9.5058    2.1698 C   0  0  0  0  0  0  0  0  0  0  0  0\\n    6.2150   11.6729    6.1004 C   0  0  0  0  0  0  0  0  0  0  0  0\\n    6.6715   11.8673    7.4006 C   0  0  0  0  0  0  0  0  0  0  0  0\\n    8.0390   11.9515    7.6535 C   0  0  0  0  0  0  0  0  0  0  0  0\\n   13.1721    8.4124    3.1515 C   0  0  0  0  0  0  0  0  0  0  0  0\\n   12.5343    8.0236    1.9785 C   0  0  0  0  0  0  0  0  0  0  0  0\\n   11.1441    7.9458    1.9301 C   0  0  0  0  0  0  0  0  0  0  0  0\\n  4 20  2  0\\n  5 22  1  0\\n  5 11  1  0\\n  6 13  1  0\\n  7 15  1  0\\n  8 17  1  0\\n  8 16  1  0\\n  9 18  2  0\\n 10 20  1  0\\n 11  1  2  0\\n 12 11  1  0\\n 12  6  2  0\\n 13 14  1  0\\n 14  2  2  0\\n 14  7  1  0\\n 15 16  1  0\\n 17  3  2  0\\n 18 26  1  0\\n 18 17  1  0\\n 19 28  2  0\\n 19  9  1  0\\n 20 19  1  0\\n 21 10  1  0\\n 22 21  1  0\\n 23 12  1  0\\n 23 24  2  0\\n 24 25  1  0\\n 25 13  2  0\\n 27 26  2  0\\n 28 27  1  0\\nM  END\\n\",\"sdf\");\n",
       "\tviewer_14978609135507078.addModel(\"m1_sa_sa.xyz\\n     RDKit          3D\\n\\n 28 30  0  0  0  0  0  0  0  0999 V2000\\n    7.4449   10.6454    2.9770 O   0  0  0  0  0  0  0  0  0  0  0  0\\n   10.7969   12.3407    7.9063 O   0  0  0  0  0  0  0  0  0  0  0  0\\n   13.6597   12.0725    2.3578 O   0  0  0  0  0  0  0  0  0  0  0  0\\n    8.2555   15.2912    0.6992 O   0  0  0  0  0  0  0  0  0  0  0  0\\n    5.7112   12.1794    3.2395 N   0  0  0  0  0  0  0  0  0  0  0  0\\n    8.5037   11.6675    5.2995 N   0  0  0  0  0  0  0  0  0  0  0  0\\n   11.1383   11.9362    5.6488 N   0  0  0  0  0  0  0  0  0  0  0  0\\n   12.2239   13.5048    3.4919 N   0  0  0  0  0  0  0  0  0  0  0  0\\n   10.5353   13.3895    1.4524 N   0  0  0  0  0  0  0  0  0  0  0  0\\n    7.4596   13.1014    0.9034 N   0  0  0  0  0  0  0  0  0  0  0  0\\n    6.7794   11.4110    3.6742 C   0  0  0  0  0  0  0  0  0  0  0  0\\n    7.1647   11.5930    5.0892 C   0  0  0  0  0  0  0  0  0  0  0  0\\n    8.9099   11.8629    6.5785 C   0  0  0  0  0  0  0  0  0  0  0  0\\n   10.3691   12.0645    6.7909 C   0  0  0  0  0  0  0  0  0  0  0  0\\n   12.5700   12.2094    5.5757 C   0  0  0  0  0  0  0  0  0  0  0  0\\n   12.8614   13.4894    4.7967 C   0  0  0  0  0  0  0  0  0  0  0  0\\n   12.6585   12.7735    2.3996 C   0  0  0  0  0  0  0  0  0  0  0  0\\n   11.7767   12.9041    1.2124 C   0  0  0  0  0  0  0  0  0  0  0  0\\n    9.7352   13.5305    0.3741 C   0  0  0  0  0  0  0  0  0  0  0  0\\n    8.4092   14.0763    0.6685 C   0  0  0  0  0  0  0  0  0  0  0  0\\n    6.0577   13.4166    1.1233 C   0  0  0  0  0  0  0  0  0  0  0  0\\n    5.3217   12.2846    1.8380 C   0  0  0  0  0  0  0  0  0  0  0  0\\n    6.2152   11.6855    6.1005 C   0  0  0  0  0  0  0  0  0  0  0  0\\n    6.6746   11.8546    7.4030 C   0  0  0  0  0  0  0  0  0  0  0  0\\n    8.0399   11.9489    7.6582 C   0  0  0  0  0  0  0  0  0  0  0  0\\n   12.2426   12.5573   -0.0502 C   0  0  0  0  0  0  0  0  0  0  0  0\\n   11.3783   12.7264   -1.1308 C   0  0  0  0  0  0  0  0  0  0  0  0\\n   10.0952   13.2245   -0.9280 C   0  0  0  0  0  0  0  0  0  0  0  0\\n  1 11  2  0\\n  5 11  1  0\\n  6 13  2  0\\n  7 14  1  0\\n  7 15  1  0\\n  8 16  1  0\\n  9 18  1  0\\n 10 21  1  0\\n 10 20  1  0\\n 11 12  1  0\\n 12  6  1  0\\n 13 14  1  0\\n 14  2  2  0\\n 16 15  1  0\\n 17  3  2  0\\n 17  8  1  0\\n 18 17  1  0\\n 19 20  1  0\\n 19  9  2  0\\n 20  4  2  0\\n 22 21  1  0\\n 22  5  1  0\\n 23 12  2  0\\n 23 24  1  0\\n 24 25  2  0\\n 25 13  1  0\\n 26 18  2  0\\n 27 26  1  0\\n 28 27  2  0\\n 28 19  1  0\\nM  END\\n\",\"sdf\");\n",
       "\tviewer_14978609135507078.addModel(\"m1_sa_aa.xyz\\n     RDKit          3D\\n\\n 28 30  0  0  0  0  0  0  0  0999 V2000\\n    5.5137   11.2805    3.4393 O   0  0  0  0  0  0  0  0  0  0  0  0\\n   10.9159   12.9341    6.2447 O   0  0  0  0  0  0  0  0  0  0  0  0\\n   13.8048    9.6563    6.1494 O   0  0  0  0  0  0  0  0  0  0  0  0\\n    9.0705    8.3238    2.6790 O   0  0  0  0  0  0  0  0  0  0  0  0\\n    7.7125   11.4557    2.7281 N   0  0  0  0  0  0  0  0  0  0  0  0\\n    8.5049   11.6843    5.2920 N   0  0  0  0  0  0  0  0  0  0  0  0\\n   10.9975   11.0629    7.5869 N   0  0  0  0  0  0  0  0  0  0  0  0\\n   11.7316    8.5945    6.2337 N   0  0  0  0  0  0  0  0  0  0  0  0\\n   11.3980    9.0936    3.6830 N   0  0  0  0  0  0  0  0  0  0  0  0\\n    9.3341    9.8248    0.9228 N   0  0  0  0  0  0  0  0  0  0  0  0\\n    6.7099   11.4224    3.6820 C   0  0  0  0  0  0  0  0  0  0  0  0\\n    7.1668   11.5945    5.0852 C   0  0  0  0  0  0  0  0  0  0  0  0\\n    8.9012   11.8408    6.5792 C   0  0  0  0  0  0  0  0  0  0  0  0\\n   10.3516   11.9847    6.7810 C   0  0  0  0  0  0  0  0  0  0  0  0\\n   10.5100    9.7510    8.0096 C   0  0  0  0  0  0  0  0  0  0  0  0\\n   11.5160    8.6567    7.6683 C   0  0  0  0  0  0  0  0  0  0  0  0\\n   12.8077    9.1976    5.5997 C   0  0  0  0  0  0  0  0  0  0  0  0\\n   12.6565    9.2856    4.1302 C   0  0  0  0  0  0  0  0  0  0  0  0\\n   11.1890    9.2268    2.3565 C   0  0  0  0  0  0  0  0  0  0  0  0\\n    9.7732    9.0584    1.9883 C   0  0  0  0  0  0  0  0  0  0  0  0\\n    7.9166   10.0381    0.6953 C   0  0  0  0  0  0  0  0  0  0  0  0\\n    7.4559   11.3641    1.2969 C   0  0  0  0  0  0  0  0  0  0  0  0\\n    6.2230   11.6694    6.1045 C   0  0  0  0  0  0  0  0  0  0  0  0\\n    6.6744   11.8684    7.4060 C   0  0  0  0  0  0  0  0  0  0  0  0\\n    8.0379   11.9550    7.6620 C   0  0  0  0  0  0  0  0  0  0  0  0\\n   13.7282    9.5858    3.3017 C   0  0  0  0  0  0  0  0  0  0  0  0\\n   13.4811    9.6844    1.9325 C   0  0  0  0  0  0  0  0  0  0  0  0\\n   12.1895    9.5108    1.4400 C   0  0  0  0  0  0  0  0  0  0  0  0\\n  4 20  2  0\\n  5 22  1  0\\n  5 11  1  0\\n  6 13  1  0\\n  7 15  1  0\\n  8 17  1  0\\n  8 16  1  0\\n  9 18  2  0\\n 10 20  1  0\\n 11  1  2  0\\n 12 11  1  0\\n 12  6  2  0\\n 13 14  1  0\\n 14  2  2  0\\n 14  7  1  0\\n 15 16  1  0\\n 17  3  2  0\\n 18 26  1  0\\n 18 17  1  0\\n 19 28  2  0\\n 19  9  1  0\\n 20 19  1  0\\n 21 10  1  0\\n 22 21  1  0\\n 23 12  1  0\\n 23 24  2  0\\n 24 25  1  0\\n 25 13  2  0\\n 27 26  2  0\\n 28 27  1  0\\nM  END\\n\",\"sdf\");\n",
       "\tviewer_14978609135507078.addModel(\"m1_ss_sa.xyz\\n     RDKit          3D\\n\\n 28 30  0  0  0  0  0  0  0  0999 V2000\\n    5.6664   10.8332    3.4418 O   0  0  0  0  0  0  0  0  0  0  0  0\\n   11.0419   12.5280    5.9701 O   0  0  0  0  0  0  0  0  0  0  0  0\\n   14.7765   10.7171    5.4833 O   0  0  0  0  0  0  0  0  0  0  0  0\\n   10.7613   10.8659   -0.2435 O   0  0  0  0  0  0  0  0  0  0  0  0\\n    7.7865   11.5158    2.7743 N   0  0  0  0  0  0  0  0  0  0  0  0\\n    8.4996   11.6891    5.3003 N   0  0  0  0  0  0  0  0  0  0  0  0\\n   10.8408   10.9828    7.7043 N   0  0  0  0  0  0  0  0  0  0  0  0\\n   12.6250    9.8600    5.4669 N   0  0  0  0  0  0  0  0  0  0  0  0\\n   12.3831   10.5630    2.8848 N   0  0  0  0  0  0  0  0  0  0  0  0\\n   10.0187    9.9782    1.7636 N   0  0  0  0  0  0  0  0  0  0  0  0\\n    6.7783   11.2812    3.6933 C   0  0  0  0  0  0  0  0  0  0  0  0\\n    7.1671   11.5866    5.0903 C   0  0  0  0  0  0  0  0  0  0  0  0\\n    8.9033   11.8446    6.5785 C   0  0  0  0  0  0  0  0  0  0  0  0\\n   10.3658   11.8462    6.7332 C   0  0  0  0  0  0  0  0  0  0  0  0\\n   12.2455   10.6220    7.8018 C   0  0  0  0  0  0  0  0  0  0  0  0\\n   12.5933    9.4637    6.8665 C   0  0  0  0  0  0  0  0  0  0  0  0\\n   13.7249   10.4799    4.8970 C   0  0  0  0  0  0  0  0  0  0  0  0\\n   13.5652   10.8682    3.4734 C   0  0  0  0  0  0  0  0  0  0  0  0\\n   12.2447   10.9129    1.5819 C   0  0  0  0  0  0  0  0  0  0  0  0\\n   10.9487   10.5852    0.9366 C   0  0  0  0  0  0  0  0  0  0  0  0\\n    8.6463    9.7219    1.3488 C   0  0  0  0  0  0  0  0  0  0  0  0\\n    7.7864   10.9822    1.4239 C   0  0  0  0  0  0  0  0  0  0  0  0\\n    6.2184   11.6734    6.0989 C   0  0  0  0  0  0  0  0  0  0  0  0\\n    6.6768   11.8705    7.4007 C   0  0  0  0  0  0  0  0  0  0  0  0\\n    8.0431   11.9481    7.6601 C   0  0  0  0  0  0  0  0  0  0  0  0\\n   14.6104   11.5089    2.8187 C   0  0  0  0  0  0  0  0  0  0  0  0\\n   14.4305   11.8538    1.4842 C   0  0  0  0  0  0  0  0  0  0  0  0\\n   13.2334   11.5541    0.8451 C   0  0  0  0  0  0  0  0  0  0  0  0\\n  1 11  2  0\\n  4 20  2  0\\n  6 13  2  0\\n  7 15  1  0\\n  8 17  1  0\\n  8 16  1  0\\n  9 18  2  0\\n 10 20  1  0\\n 11  5  1  0\\n 11 12  1  0\\n 12  6  1  0\\n 13 14  1  0\\n 14  7  1  0\\n 14  2  2  0\\n 15 16  1  0\\n 17  3  2  0\\n 18 26  1  0\\n 18 17  1  0\\n 19 28  2  0\\n 19  9  1  0\\n 20 19  1  0\\n 21 10  1  0\\n 22  5  1  0\\n 22 21  1  0\\n 23 12  2  0\\n 23 24  1  0\\n 24 25  2  0\\n 25 13  1  0\\n 27 26  2  0\\n 28 27  1  0\\nM  END\\n\",\"sdf\");\n",
       "\tviewer_14978609135507078.addModel(\"m1_sa_as.xyz\\n     RDKit          3D\\n\\n 28 30  0  0  0  0  0  0  0  0999 V2000\\n    5.5893   11.0345    3.4345 O   0  0  0  0  0  0  0  0  0  0  0  0\\n   11.0583   12.2157    5.7469 O   0  0  0  0  0  0  0  0  0  0  0  0\\n   14.7873    9.9855    5.8740 O   0  0  0  0  0  0  0  0  0  0  0  0\\n    9.3169    8.7933    3.5625 O   0  0  0  0  0  0  0  0  0  0  0  0\\n    7.7589   11.5028    2.7554 N   0  0  0  0  0  0  0  0  0  0  0  0\\n    8.4987   11.6837    5.3007 N   0  0  0  0  0  0  0  0  0  0  0  0\\n   10.8967   11.5150    7.9554 N   0  0  0  0  0  0  0  0  0  0  0  0\\n   12.6169    9.5186    6.5534 N   0  0  0  0  0  0  0  0  0  0  0  0\\n   11.8766    9.3358    4.0096 N   0  0  0  0  0  0  0  0  0  0  0  0\\n    9.4789    9.5062    1.3575 N   0  0  0  0  0  0  0  0  0  0  0  0\\n    6.7464   11.3523    3.6876 C   0  0  0  0  0  0  0  0  0  0  0  0\\n    7.1646   11.5921    5.0896 C   0  0  0  0  0  0  0  0  0  0  0  0\\n    8.9116   11.8452    6.5809 C   0  0  0  0  0  0  0  0  0  0  0  0\\n   10.3856   11.8920    6.7226 C   0  0  0  0  0  0  0  0  0  0  0  0\\n   12.3224   11.3393    8.1914 C   0  0  0  0  0  0  0  0  0  0  0  0\\n   12.7580    9.8960    7.9491 C   0  0  0  0  0  0  0  0  0  0  0  0\\n   13.6299    9.6679    5.6215 C   0  0  0  0  0  0  0  0  0  0  0  0\\n   13.2110    9.4265    4.2196 C   0  0  0  0  0  0  0  0  0  0  0  0\\n   11.4628    9.1702    2.7304 C   0  0  0  0  0  0  0  0  0  0  0  0\\n    9.9894    9.1225    2.5884 C   0  0  0  0  0  0  0  0  0  0  0  0\\n    8.0532    9.6802    1.1203 C   0  0  0  0  0  0  0  0  0  0  0  0\\n    7.6167   11.1235    1.3603 C   0  0  0  0  0  0  0  0  0  0  0  0\\n    6.2175   11.6732    6.1002 C   0  0  0  0  0  0  0  0  0  0  0  0\\n    6.6749   11.8653    7.4002 C   0  0  0  0  0  0  0  0  0  0  0  0\\n    8.0409   11.9529    7.6573 C   0  0  0  0  0  0  0  0  0  0  0  0\\n   14.1572    9.3414    3.2082 C   0  0  0  0  0  0  0  0  0  0  0  0\\n   13.6986    9.1455    1.9091 C   0  0  0  0  0  0  0  0  0  0  0  0\\n   12.3324    9.0572    1.6538 C   0  0  0  0  0  0  0  0  0  0  0  0\\n  1 11  2  0\\n  5 22  1  0\\n  6 13  1  0\\n  7 15  1  0\\n  8 16  1  0\\n  8 17  1  0\\n  9 18  2  0\\n 10 20  1  0\\n 11 12  1  0\\n 11  5  1  0\\n 12  6  2  0\\n 13 14  1  0\\n 14  7  1  0\\n 14  2  2  0\\n 15 16  1  0\\n 17  3  2  0\\n 18 17  1  0\\n 18 26  1  0\\n 19  9  1  0\\n 19 28  2  0\\n 20  4  2  0\\n 20 19  1  0\\n 21 10  1  0\\n 22 21  1  0\\n 23 24  2  0\\n 23 12  1  0\\n 24 25  1  0\\n 25 13  2  0\\n 27 26  2  0\\n 28 27  1  0\\nM  END\\n\",\"sdf\");\n",
       "\tviewer_14978609135507078.addModel(\"m1_ss_sa.xyz\\n     RDKit          3D\\n\\n 28 30  0  0  0  0  0  0  0  0999 V2000\\n    5.5930   11.2729    3.3687 O   0  0  0  0  0  0  0  0  0  0  0  0\\n   11.0401   12.6557    6.1568 O   0  0  0  0  0  0  0  0  0  0  0  0\\n   12.0049    6.8925    6.9101 O   0  0  0  0  0  0  0  0  0  0  0  0\\n    5.7431    7.5524    4.0743 O   0  0  0  0  0  0  0  0  0  0  0  0\\n    7.8228   10.8022    2.9044 N   0  0  0  0  0  0  0  0  0  0  0  0\\n    8.5004   11.6872    5.2955 N   0  0  0  0  0  0  0  0  0  0  0  0\\n   10.8020   10.7293    7.4619 N   0  0  0  0  0  0  0  0  0  0  0  0\\n   11.3218    8.6743    5.5865 N   0  0  0  0  0  0  0  0  0  0  0  0\\n    9.0639    7.3494    5.0273 N   0  0  0  0  0  0  0  0  0  0  0  0\\n    7.6329    7.9600    2.7812 N   0  0  0  0  0  0  0  0  0  0  0  0\\n    6.7707   11.2279    3.7025 C   0  0  0  0  0  0  0  0  0  0  0  0\\n    7.1707   11.5785    5.0865 C   0  0  0  0  0  0  0  0  0  0  0  0\\n    8.8958   11.8522    6.5765 C   0  0  0  0  0  0  0  0  0  0  0  0\\n   10.3547   11.8229    6.7398 C   0  0  0  0  0  0  0  0  0  0  0  0\\n   12.1595   10.2326    7.3179 C   0  0  0  0  0  0  0  0  0  0  0  0\\n   12.3841    9.6023    5.9406 C   0  0  0  0  0  0  0  0  0  0  0  0\\n   11.1658    7.4470    6.2070 C   0  0  0  0  0  0  0  0  0  0  0  0\\n    9.8296    6.8336    6.0183 C   0  0  0  0  0  0  0  0  0  0  0  0\\n    7.8097    6.8519    4.9157 C   0  0  0  0  0  0  0  0  0  0  0  0\\n    6.9536    7.4808    3.8895 C   0  0  0  0  0  0  0  0  0  0  0  0\\n    6.9813    8.7677    1.7633 C   0  0  0  0  0  0  0  0  0  0  0  0\\n    7.6470   10.1349    1.6234 C   0  0  0  0  0  0  0  0  0  0  0  0\\n    6.2225   11.6834    6.0999 C   0  0  0  0  0  0  0  0  0  0  0  0\\n    6.6772   11.8681    7.4061 C   0  0  0  0  0  0  0  0  0  0  0  0\\n    8.0416   11.9430    7.6644 C   0  0  0  0  0  0  0  0  0  0  0  0\\n    9.4010    5.8349    6.8869 C   0  0  0  0  0  0  0  0  0  0  0  0\\n    8.1045    5.3504    6.7350 C   0  0  0  0  0  0  0  0  0  0  0  0\\n    7.2819    5.8659    5.7393 C   0  0  0  0  0  0  0  0  0  0  0  0\\n  1 11  2  0\\n  4 20  2  0\\n  6 13  2  0\\n  7 15  1  0\\n  8 17  1  0\\n  8 16  1  0\\n  9 18  2  0\\n 10 20  1  0\\n 11  5  1  0\\n 11 12  1  0\\n 12  6  1  0\\n 13 14  1  0\\n 14  7  1  0\\n 14  2  2  0\\n 15 16  1  0\\n 17  3  2  0\\n 18 26  1  0\\n 18 17  1  0\\n 19 28  2  0\\n 19  9  1  0\\n 20 19  1  0\\n 21 10  1  0\\n 22  5  1  0\\n 22 21  1  0\\n 23 12  2  0\\n 23 24  1  0\\n 24 25  2  0\\n 25 13  1  0\\n 27 26  2  0\\n 28 27  1  0\\nM  END\\n\",\"sdf\");\n",
       "\tviewer_14978609135507078.addModel(\"m1_ss_sa.xyz\\n     RDKit          3D\\n\\n 28 30  0  0  0  0  0  0  0  0999 V2000\\n    5.7179   10.8067    3.4000 O   0  0  0  0  0  0  0  0  0  0  0  0\\n   11.0314   12.1685    5.6903 O   0  0  0  0  0  0  0  0  0  0  0  0\\n   10.6524    6.9985    7.9016 O   0  0  0  0  0  0  0  0  0  0  0  0\\n    8.9279    7.4872    1.2080 O   0  0  0  0  0  0  0  0  0  0  0  0\\n    7.8682   11.4866    2.8145 N   0  0  0  0  0  0  0  0  0  0  0  0\\n    8.4914   11.6885    5.3103 N   0  0  0  0  0  0  0  0  0  0  0  0\\n   10.9191   11.3139    7.8453 N   0  0  0  0  0  0  0  0  0  0  0  0\\n   11.6204    8.7284    6.6973 N   0  0  0  0  0  0  0  0  0  0  0  0\\n   10.2029    7.7357    4.5083 N   0  0  0  0  0  0  0  0  0  0  0  0\\n    9.7329    9.3244    2.3581 N   0  0  0  0  0  0  0  0  0  0  0  0\\n    6.8151   11.2678    3.6858 C   0  0  0  0  0  0  0  0  0  0  0  0\\n    7.1637   11.5889    5.0899 C   0  0  0  0  0  0  0  0  0  0  0  0\\n    8.9110   11.8447    6.5812 C   0  0  0  0  0  0  0  0  0  0  0  0\\n   10.3819   11.8230    6.6757 C   0  0  0  0  0  0  0  0  0  0  0  0\\n   12.2875   10.8267    7.8736 C   0  0  0  0  0  0  0  0  0  0  0  0\\n   12.3276    9.3036    7.8366 C   0  0  0  0  0  0  0  0  0  0  0  0\\n   10.8929    7.5550    6.8327 C   0  0  0  0  0  0  0  0  0  0  0  0\\n   10.4133    6.9297    5.5789 C   0  0  0  0  0  0  0  0  0  0  0  0\\n    9.7146    7.1282    3.3938 C   0  0  0  0  0  0  0  0  0  0  0  0\\n    9.4226    7.9843    2.2165 C   0  0  0  0  0  0  0  0  0  0  0  0\\n    9.4067   10.3107    1.3353 C   0  0  0  0  0  0  0  0  0  0  0  0\\n    7.9926   10.8659    1.5099 C   0  0  0  0  0  0  0  0  0  0  0  0\\n    6.2153   11.6713    6.0938 C   0  0  0  0  0  0  0  0  0  0  0  0\\n    6.6787   11.8692    7.3950 C   0  0  0  0  0  0  0  0  0  0  0  0\\n    8.0483   11.9498    7.6586 C   0  0  0  0  0  0  0  0  0  0  0  0\\n   10.1747    5.5575    5.5813 C   0  0  0  0  0  0  0  0  0  0  0  0\\n    9.6945    4.9740    4.4176 C   0  0  0  0  0  0  0  0  0  0  0  0\\n    9.4535    5.7632    3.3016 C   0  0  0  0  0  0  0  0  0  0  0  0\\n  1 11  2  0\\n  4 20  2  0\\n  6 13  2  0\\n  7 15  1  0\\n  8 17  1  0\\n  8 16  1  0\\n  9 18  2  0\\n 10 20  1  0\\n 11  5  1  0\\n 11 12  1  0\\n 12  6  1  0\\n 13 14  1  0\\n 14  7  1  0\\n 14  2  2  0\\n 15 16  1  0\\n 17  3  2  0\\n 18 26  1  0\\n 18 17  1  0\\n 19 28  2  0\\n 19  9  1  0\\n 20 19  1  0\\n 21 10  1  0\\n 22  5  1  0\\n 22 21  1  0\\n 23 12  2  0\\n 23 24  1  0\\n 24 25  2  0\\n 25 13  1  0\\n 27 26  2  0\\n 28 27  1  0\\nM  END\\n\",\"sdf\");\n",
       "\tviewer_14978609135507078.addModel(\"m1_aa_aa.xyz\\n     RDKit          3D\\n\\n 28 30  0  0  0  0  0  0  0  0999 V2000\\n    5.7180   10.9915    3.3427 O   0  0  0  0  0  0  0  0  0  0  0  0\\n   11.0181   12.1408    5.6251 O   0  0  0  0  0  0  0  0  0  0  0  0\\n   14.3976    9.1941    6.0173 O   0  0  0  0  0  0  0  0  0  0  0  0\\n    8.8053    8.8990    3.2356 O   0  0  0  0  0  0  0  0  0  0  0  0\\n    7.7934   11.9266    2.8245 N   0  0  0  0  0  0  0  0  0  0  0  0\\n    8.4910   11.6727    5.3115 N   0  0  0  0  0  0  0  0  0  0  0  0\\n   10.9463   11.6799    7.8993 N   0  0  0  0  0  0  0  0  0  0  0  0\\n   12.2112    9.1876    6.7875 N   0  0  0  0  0  0  0  0  0  0  0  0\\n   11.4540    9.0446    4.1539 N   0  0  0  0  0  0  0  0  0  0  0  0\\n    9.6015   10.1462    1.4244 N   0  0  0  0  0  0  0  0  0  0  0  0\\n    6.7990   11.4647    3.6659 C   0  0  0  0  0  0  0  0  0  0  0  0\\n    7.1638   11.5979    5.0930 C   0  0  0  0  0  0  0  0  0  0  0  0\\n    8.9133   11.8548    6.5790 C   0  0  0  0  0  0  0  0  0  0  0  0\\n   10.3868   11.9289    6.6600 C   0  0  0  0  0  0  0  0  0  0  0  0\\n   12.3479   11.3159    8.0282 C   0  0  0  0  0  0  0  0  0  0  0  0\\n   12.5000    9.7919    8.0800 C   0  0  0  0  0  0  0  0  0  0  0  0\\n   13.1971    9.0337    5.8242 C   0  0  0  0  0  0  0  0  0  0  0  0\\n   12.7256    8.6908    4.4631 C   0  0  0  0  0  0  0  0  0  0  0  0\\n   11.1003    8.9082    2.8530 C   0  0  0  0  0  0  0  0  0  0  0  0\\n    9.7151    9.3127    2.5302 C   0  0  0  0  0  0  0  0  0  0  0  0\\n    8.3210   10.5406    0.8456 C   0  0  0  0  0  0  0  0  0  0  0  0\\n    7.7605   11.8570    1.3796 C   0  0  0  0  0  0  0  0  0  0  0  0\\n    6.2153   11.6756    6.0929 C   0  0  0  0  0  0  0  0  0  0  0  0\\n    6.6779   11.8589    7.3948 C   0  0  0  0  0  0  0  0  0  0  0  0\\n    8.0469   11.9524    7.6578 C   0  0  0  0  0  0  0  0  0  0  0  0\\n   13.6274    8.1491    3.5518 C   0  0  0  0  0  0  0  0  0  0  0  0\\n   13.2150    8.0055    2.2336 C   0  0  0  0  0  0  0  0  0  0  0  0\\n   11.9357    8.4033    1.8623 C   0  0  0  0  0  0  0  0  0  0  0  0\\n  3 17  2  0\\n  4 20  2  0\\n  5 22  1  0\\n  5 11  1  0\\n  6 13  1  0\\n  7 15  1  0\\n  9 18  2  0\\n 10 20  1  0\\n 11  1  2  0\\n 12 11  1  0\\n 12  6  2  0\\n 13 14  1  0\\n 14  2  2  0\\n 14  7  1  0\\n 15 16  1  0\\n 16  8  1  0\\n 17 18  1  0\\n 17  8  1  0\\n 18 26  1  0\\n 19 28  2  0\\n 19  9  1  0\\n 20 19  1  0\\n 21 10  1  0\\n 22 21  1  0\\n 23 12  1  0\\n 23 24  2  0\\n 24 25  1  0\\n 25 13  2  0\\n 27 26  2  0\\n 28 27  1  0\\nM  END\\n\",\"sdf\");\n",
       "\tviewer_14978609135507078.addModel(\"m1_sa_aa.xyz\\n     RDKit          3D\\n\\n 28 30  0  0  0  0  0  0  0  0999 V2000\\n    5.5417   11.6027    3.3893 O   0  0  0  0  0  0  0  0  0  0  0  0\\n   10.8721   13.0574    6.4603 O   0  0  0  0  0  0  0  0  0  0  0  0\\n   15.3928   10.9988    4.8110 O   0  0  0  0  0  0  0  0  0  0  0  0\\n   10.2791   12.9149    2.4276 O   0  0  0  0  0  0  0  0  0  0  0  0\\n    7.7244   11.1219    2.7739 N   0  0  0  0  0  0  0  0  0  0  0  0\\n    8.5056   11.6750    5.2915 N   0  0  0  0  0  0  0  0  0  0  0  0\\n   10.9322   10.8827    7.3328 N   0  0  0  0  0  0  0  0  0  0  0  0\\n   13.1741   10.9788    5.5180 N   0  0  0  0  0  0  0  0  0  0  0  0\\n   12.4525   11.4578    3.0075 N   0  0  0  0  0  0  0  0  0  0  0  0\\n    9.8027   11.4868    0.6548 N   0  0  0  0  0  0  0  0  0  0  0  0\\n    6.7238   11.4422    3.6738 C   0  0  0  0  0  0  0  0  0  0  0  0\\n    7.1695   11.5917    5.0834 C   0  0  0  0  0  0  0  0  0  0  0  0\\n    8.8938   11.8522    6.5764 C   0  0  0  0  0  0  0  0  0  0  0  0\\n   10.3382   12.0022    6.7810 C   0  0  0  0  0  0  0  0  0  0  0  0\\n   12.2999   10.8281    7.8338 C   0  0  0  0  0  0  0  0  0  0  0  0\\n   13.3792   11.3689    6.9000 C   0  0  0  0  0  0  0  0  0  0  0  0\\n   14.1906   10.9773    4.5771 C   0  0  0  0  0  0  0  0  0  0  0  0\\n   13.6989   10.9607    3.1820 C   0  0  0  0  0  0  0  0  0  0  0  0\\n   11.9650   11.4620    1.7470 C   0  0  0  0  0  0  0  0  0  0  0  0\\n   10.6102   12.0371    1.6359 C   0  0  0  0  0  0  0  0  0  0  0  0\\n    8.3976   11.8339    0.5127 C   0  0  0  0  0  0  0  0  0  0  0  0\\n    7.4992   10.9293    1.3489 C   0  0  0  0  0  0  0  0  0  0  0  0\\n    6.2243   11.6809    6.1030 C   0  0  0  0  0  0  0  0  0  0  0  0\\n    6.6771   11.8598    7.4097 C   0  0  0  0  0  0  0  0  0  0  0  0\\n    8.0378   11.9529    7.6648 C   0  0  0  0  0  0  0  0  0  0  0  0\\n   14.4911   10.4889    2.1496 C   0  0  0  0  0  0  0  0  0  0  0  0\\n   13.9544   10.5046    0.8649 C   0  0  0  0  0  0  0  0  0  0  0  0\\n   12.6696   10.9966    0.6474 C   0  0  0  0  0  0  0  0  0  0  0  0\\n  4 20  2  0\\n  5 22  1  0\\n  5 11  1  0\\n  6 13  1  0\\n  7 15  1  0\\n  8 17  1  0\\n  8 16  1  0\\n  9 18  2  0\\n 10 20  1  0\\n 11  1  2  0\\n 12 11  1  0\\n 12  6  2  0\\n 13 14  1  0\\n 14  2  2  0\\n 14  7  1  0\\n 15 16  1  0\\n 17  3  2  0\\n 18 26  1  0\\n 18 17  1  0\\n 19 28  2  0\\n 19  9  1  0\\n 20 19  1  0\\n 21 10  1  0\\n 22 21  1  0\\n 23 12  1  0\\n 23 24  2  0\\n 24 25  1  0\\n 25 13  2  0\\n 27 26  2  0\\n 28 27  1  0\\nM  END\\n\",\"sdf\");\n",
       "\tviewer_14978609135507078.addModel(\"m1_ss_aa.xyz\\n     RDKit          3D\\n\\n 28 30  0  0  0  0  0  0  0  0999 V2000\\n    7.3914   11.8115    2.7923 O   0  0  0  0  0  0  0  0  0  0  0  0\\n   11.0786   12.4358    6.0269 O   0  0  0  0  0  0  0  0  0  0  0  0\\n   13.8182   10.2122    4.7036 O   0  0  0  0  0  0  0  0  0  0  0  0\\n    8.5452    9.2569    0.2200 O   0  0  0  0  0  0  0  0  0  0  0  0\\n    5.9740   10.1410    3.5950 N   0  0  0  0  0  0  0  0  0  0  0  0\\n    8.5018   11.6967    5.2954 N   0  0  0  0  0  0  0  0  0  0  0  0\\n   10.7607   10.7752    7.6401 N   0  0  0  0  0  0  0  0  0  0  0  0\\n   11.8152    9.2442    5.3475 N   0  0  0  0  0  0  0  0  0  0  0  0\\n   10.8533    9.6062    2.8717 N   0  0  0  0  0  0  0  0  0  0  0  0\\n    8.3414    8.7279    2.4665 N   0  0  0  0  0  0  0  0  0  0  0  0\\n    6.8300   11.2243    3.7118 C   0  0  0  0  0  0  0  0  0  0  0  0\\n    7.1714   11.5822    5.0958 C   0  0  0  0  0  0  0  0  0  0  0  0\\n    8.9004   11.8399    6.5763 C   0  0  0  0  0  0  0  0  0  0  0  0\\n   10.3561   11.7488    6.7410 C   0  0  0  0  0  0  0  0  0  0  0  0\\n   12.1058   10.2253    7.6153 C   0  0  0  0  0  0  0  0  0  0  0  0\\n   12.1807    8.9809    6.7292 C   0  0  0  0  0  0  0  0  0  0  0  0\\n   12.6671    9.8665    4.4533 C   0  0  0  0  0  0  0  0  0  0  0  0\\n   12.0880   10.1162    3.1106 C   0  0  0  0  0  0  0  0  0  0  0  0\\n   10.3441    9.8077    1.6316 C   0  0  0  0  0  0  0  0  0  0  0  0\\n    9.0007    9.2367    1.3601 C   0  0  0  0  0  0  0  0  0  0  0  0\\n    6.9752    8.2301    2.4095 C   0  0  0  0  0  0  0  0  0  0  0  0\\n    5.9284    9.3459    2.3792 C   0  0  0  0  0  0  0  0  0  0  0  0\\n    6.2186   11.6721    6.1006 C   0  0  0  0  0  0  0  0  0  0  0  0\\n    6.6747   11.8760    7.4013 C   0  0  0  0  0  0  0  0  0  0  0  0\\n    8.0413   11.9455    7.6596 C   0  0  0  0  0  0  0  0  0  0  0  0\\n   12.8247   10.8303    2.1736 C   0  0  0  0  0  0  0  0  0  0  0  0\\n   12.2661   11.0224    0.9157 C   0  0  0  0  0  0  0  0  0  0  0  0\\n   11.0094   10.5020    0.6271 C   0  0  0  0  0  0  0  0  0  0  0  0\\n  4 20  2  0\\n  5 22  1  0\\n  5 11  1  0\\n  6 13  1  0\\n  7 15  1  0\\n  8 17  1  0\\n  8 16  1  0\\n  9 18  2  0\\n 10 20  1  0\\n 11  1  2  0\\n 12 11  1  0\\n 12  6  2  0\\n 13 14  1  0\\n 14  2  2  0\\n 14  7  1  0\\n 15 16  1  0\\n 17  3  2  0\\n 18 26  1  0\\n 18 17  1  0\\n 19 28  2  0\\n 19  9  1  0\\n 20 19  1  0\\n 21 10  1  0\\n 22 21  1  0\\n 23 12  1  0\\n 23 24  2  0\\n 24 25  1  0\\n 25 13  2  0\\n 27 26  2  0\\n 28 27  1  0\\nM  END\\n\",\"sdf\");\n",
       "\tviewer_14978609135507078.addModel(\"m1_sa_aa.xyz\\n     RDKit          3D\\n\\n 28 30  0  0  0  0  0  0  0  0999 V2000\\n    5.5559   11.5579    3.3768 O   0  0  0  0  0  0  0  0  0  0  0  0\\n   11.0151   10.9897    6.2501 O   0  0  0  0  0  0  0  0  0  0  0  0\\n   10.7279   17.5770    5.2648 O   0  0  0  0  0  0  0  0  0  0  0  0\\n   10.6577   12.2484    2.4109 O   0  0  0  0  0  0  0  0  0  0  0  0\\n    7.7479   11.0555    2.8072 N   0  0  0  0  0  0  0  0  0  0  0  0\\n    8.5032   11.6680    5.2983 N   0  0  0  0  0  0  0  0  0  0  0  0\\n   10.9419   12.9226    7.4878 N   0  0  0  0  0  0  0  0  0  0  0  0\\n   10.7025   15.2978    5.7167 N   0  0  0  0  0  0  0  0  0  0  0  0\\n   10.3287   14.7740    3.1714 N   0  0  0  0  0  0  0  0  0  0  0  0\\n    9.1353   12.5538    0.6805 N   0  0  0  0  0  0  0  0  0  0  0  0\\n    6.7335   11.4015    3.6831 C   0  0  0  0  0  0  0  0  0  0  0  0\\n    7.1672   11.5882    5.0889 C   0  0  0  0  0  0  0  0  0  0  0  0\\n    8.9030   11.8683    6.5760 C   0  0  0  0  0  0  0  0  0  0  0  0\\n   10.3615   11.8993    6.7598 C   0  0  0  0  0  0  0  0  0  0  0  0\\n   10.3640   14.2048    7.8911 C   0  0  0  0  0  0  0  0  0  0  0  0\\n   11.0072   15.3639    7.1350 C   0  0  0  0  0  0  0  0  0  0  0  0\\n   10.6266   16.4121    4.8971 C   0  0  0  0  0  0  0  0  0  0  0  0\\n   10.3944   16.0914    3.4671 C   0  0  0  0  0  0  0  0  0  0  0  0\\n   10.0789   14.4399    1.8853 C   0  0  0  0  0  0  0  0  0  0  0  0\\n   10.0044   12.9810    1.6721 C   0  0  0  0  0  0  0  0  0  0  0  0\\n    8.7568   11.1550    0.5514 C   0  0  0  0  0  0  0  0  0  0  0  0\\n    7.5220   10.8326    1.3882 C   0  0  0  0  0  0  0  0  0  0  0  0\\n    6.2197   11.6879    6.1005 C   0  0  0  0  0  0  0  0  0  0  0  0\\n    6.6753   11.8590    7.4046 C   0  0  0  0  0  0  0  0  0  0  0  0\\n    8.0398   11.9410    7.6605 C   0  0  0  0  0  0  0  0  0  0  0  0\\n   10.2409   17.0970    2.5238 C   0  0  0  0  0  0  0  0  0  0  0  0\\n    9.9995   16.7162    1.2053 C   0  0  0  0  0  0  0  0  0  0  0  0\\n    9.9113   15.3675    0.8678 C   0  0  0  0  0  0  0  0  0  0  0  0\\n  4 20  2  0\\n  5 22  1  0\\n  5 11  1  0\\n  6 13  1  0\\n  7 15  1  0\\n  8 17  1  0\\n  8 16  1  0\\n  9 18  2  0\\n 10 20  1  0\\n 11  1  2  0\\n 12 11  1  0\\n 12  6  2  0\\n 13 14  1  0\\n 14  2  2  0\\n 14  7  1  0\\n 15 16  1  0\\n 17  3  2  0\\n 18 26  1  0\\n 18 17  1  0\\n 19 28  2  0\\n 19  9  1  0\\n 20 19  1  0\\n 21 10  1  0\\n 22 21  1  0\\n 23 12  1  0\\n 23 24  2  0\\n 24 25  1  0\\n 25 13  2  0\\n 27 26  2  0\\n 28 27  1  0\\nM  END\\n\",\"sdf\");\n",
       "\tviewer_14978609135507078.addModel(\"m1_ss_sa.xyz\\n     RDKit          3D\\n\\n 28 30  0  0  0  0  0  0  0  0999 V2000\\n    5.5392   11.3123    3.4089 O   0  0  0  0  0  0  0  0  0  0  0  0\\n   10.8678   13.0233    6.9171 O   0  0  0  0  0  0  0  0  0  0  0  0\\n   13.6514    7.8538    5.2938 O   0  0  0  0  0  0  0  0  0  0  0  0\\n    8.9420    7.9560    0.1346 O   0  0  0  0  0  0  0  0  0  0  0  0\\n    7.7614   11.2978    2.7610 N   0  0  0  0  0  0  0  0  0  0  0  0\\n    8.5070   11.6739    5.2930 N   0  0  0  0  0  0  0  0  0  0  0  0\\n   10.9469   10.6879    6.8509 N   0  0  0  0  0  0  0  0  0  0  0  0\\n   12.5044    9.7547    4.6123 N   0  0  0  0  0  0  0  0  0  0  0  0\\n   11.2565    8.3509    2.7596 N   0  0  0  0  0  0  0  0  0  0  0  0\\n    9.7409    9.8570    1.2017 N   0  0  0  0  0  0  0  0  0  0  0  0\\n    6.7324   11.3966    3.6801 C   0  0  0  0  0  0  0  0  0  0  0  0\\n    7.1701   11.5953    5.0858 C   0  0  0  0  0  0  0  0  0  0  0  0\\n    8.8931   11.8510    6.5764 C   0  0  0  0  0  0  0  0  0  0  0  0\\n   10.3381   11.9267    6.7978 C   0  0  0  0  0  0  0  0  0  0  0  0\\n   12.3879   10.5321    6.9481 C   0  0  0  0  0  0  0  0  0  0  0  0\\n   13.0572   10.6813    5.5858 C   0  0  0  0  0  0  0  0  0  0  0  0\\n   12.8299    8.4083    4.5724 C   0  0  0  0  0  0  0  0  0  0  0  0\\n   12.0890    7.6337    3.5504 C   0  0  0  0  0  0  0  0  0  0  0  0\\n   10.5873    7.6797    1.7952 C   0  0  0  0  0  0  0  0  0  0  0  0\\n    9.6766    8.4954    0.9555 C   0  0  0  0  0  0  0  0  0  0  0  0\\n    8.8351   10.8208    0.6006 C   0  0  0  0  0  0  0  0  0  0  0  0\\n    7.5315   10.9197    1.3771 C   0  0  0  0  0  0  0  0  0  0  0  0\\n    6.2225   11.6783    6.1034 C   0  0  0  0  0  0  0  0  0  0  0  0\\n    6.6764   11.8597    7.4089 C   0  0  0  0  0  0  0  0  0  0  0  0\\n    8.0391   11.9542    7.6614 C   0  0  0  0  0  0  0  0  0  0  0  0\\n   12.2795    6.2640    3.4247 C   0  0  0  0  0  0  0  0  0  0  0  0\\n   11.5731    5.6065    2.4213 C   0  0  0  0  0  0  0  0  0  0  0  0\\n   10.7126    6.3136    1.5839 C   0  0  0  0  0  0  0  0  0  0  0  0\\n  1 11  2  0\\n  4 20  2  0\\n  6 13  2  0\\n  7 15  1  0\\n  8 17  1  0\\n  8 16  1  0\\n  9 18  2  0\\n 10 20  1  0\\n 11  5  1  0\\n 11 12  1  0\\n 12  6  1  0\\n 13 14  1  0\\n 14  7  1  0\\n 14  2  2  0\\n 15 16  1  0\\n 17  3  2  0\\n 18 26  1  0\\n 18 17  1  0\\n 19 28  2  0\\n 19  9  1  0\\n 20 19  1  0\\n 21 10  1  0\\n 22  5  1  0\\n 22 21  1  0\\n 23 12  2  0\\n 23 24  1  0\\n 24 25  2  0\\n 25 13  1  0\\n 27 26  2  0\\n 28 27  1  0\\nM  END\\n\",\"sdf\");\n",
       "\tviewer_14978609135507078.addModel(\"m1_aa_aa.xyz\\n     RDKit          3D\\n\\n 28 30  0  0  0  0  0  0  0  0999 V2000\\n    5.5991   11.0177    3.4272 O   0  0  0  0  0  0  0  0  0  0  0  0\\n   11.0563   12.3321    5.8209 O   0  0  0  0  0  0  0  0  0  0  0  0\\n   11.1898    6.6473    7.4512 O   0  0  0  0  0  0  0  0  0  0  0  0\\n    8.1261    8.2567    3.8600 O   0  0  0  0  0  0  0  0  0  0  0  0\\n    7.7838   11.4455    2.7638 N   0  0  0  0  0  0  0  0  0  0  0  0\\n    8.4985   11.6874    5.3006 N   0  0  0  0  0  0  0  0  0  0  0  0\\n   10.8762   11.2806    7.8846 N   0  0  0  0  0  0  0  0  0  0  0  0\\n   12.2988    8.6475    7.7532 N   0  0  0  0  0  0  0  0  0  0  0  0\\n   10.4925    8.0303    4.9891 N   0  0  0  0  0  0  0  0  0  0  0  0\\n    9.0076    8.9570    1.8308 N   0  0  0  0  0  0  0  0  0  0  0  0\\n    6.7558   11.3327    3.6853 C   0  0  0  0  0  0  0  0  0  0  0  0\\n    7.1654   11.5922    5.0881 C   0  0  0  0  0  0  0  0  0  0  0  0\\n    8.9081   11.8404    6.5809 C   0  0  0  0  0  0  0  0  0  0  0  0\\n   10.3791   11.8599    6.7293 C   0  0  0  0  0  0  0  0  0  0  0  0\\n   12.3006   11.0900    8.1124 C   0  0  0  0  0  0  0  0  0  0  0  0\\n   12.8651    9.9206    7.3082 C   0  0  0  0  0  0  0  0  0  0  0  0\\n   11.7142    7.6569    6.9877 C   0  0  0  0  0  0  0  0  0  0  0  0\\n   11.7108    7.8163    5.5327 C   0  0  0  0  0  0  0  0  0  0  0  0\\n   10.4485    8.1587    3.6395 C   0  0  0  0  0  0  0  0  0  0  0  0\\n    9.0878    8.4471    3.1198 C   0  0  0  0  0  0  0  0  0  0  0  0\\n    7.7674    9.4696    1.2692 C   0  0  0  0  0  0  0  0  0  0  0  0\\n    7.6783   10.9907    1.3874 C   0  0  0  0  0  0  0  0  0  0  0  0\\n    6.2184   11.6700    6.0998 C   0  0  0  0  0  0  0  0  0  0  0  0\\n    6.6760   11.8680    7.4011 C   0  0  0  0  0  0  0  0  0  0  0  0\\n    8.0418   11.9544    7.6584 C   0  0  0  0  0  0  0  0  0  0  0  0\\n   12.8899    7.6914    4.8142 C   0  0  0  0  0  0  0  0  0  0  0  0\\n   12.8025    7.8099    3.4336 C   0  0  0  0  0  0  0  0  0  0  0  0\\n   11.5698    8.0402    2.8253 C   0  0  0  0  0  0  0  0  0  0  0  0\\n  3 17  2  0\\n  4 20  2  0\\n  5 22  1  0\\n  5 11  1  0\\n  6 13  1  0\\n  7 15  1  0\\n  9 18  2  0\\n 10 20  1  0\\n 11  1  2  0\\n 12 11  1  0\\n 12  6  2  0\\n 13 14  1  0\\n 14  2  2  0\\n 14  7  1  0\\n 15 16  1  0\\n 16  8  1  0\\n 17 18  1  0\\n 17  8  1  0\\n 18 26  1  0\\n 19 28  2  0\\n 19  9  1  0\\n 20 19  1  0\\n 21 10  1  0\\n 22 21  1  0\\n 23 12  1  0\\n 23 24  2  0\\n 24 25  1  0\\n 25 13  2  0\\n 27 26  2  0\\n 28 27  1  0\\nM  END\\n\",\"sdf\");\n",
       "\tviewer_14978609135507078.addModel(\"m1_ss_aa.xyz\\n     RDKit          3D\\n\\n 28 30  0  0  0  0  0  0  0  0999 V2000\\n    6.6018   12.3490    2.9847 O   0  0  0  0  0  0  0  0  0  0  0  0\\n   10.8213   12.4868    7.7989 O   0  0  0  0  0  0  0  0  0  0  0  0\\n   12.9801   14.7475    1.9460 O   0  0  0  0  0  0  0  0  0  0  0  0\\n    7.7540   11.0298   -0.8506 O   0  0  0  0  0  0  0  0  0  0  0  0\\n    6.7209   10.0448    3.3735 N   0  0  0  0  0  0  0  0  0  0  0  0\\n    8.5009   11.6709    5.2998 N   0  0  0  0  0  0  0  0  0  0  0  0\\n   11.0996   11.7495    5.6106 N   0  0  0  0  0  0  0  0  0  0  0  0\\n   11.8304   13.1384    3.1552 N   0  0  0  0  0  0  0  0  0  0  0  0\\n   10.3473   12.5857    0.9745 N   0  0  0  0  0  0  0  0  0  0  0  0\\n    8.7471   10.4258    1.1548 N   0  0  0  0  0  0  0  0  0  0  0  0\\n    6.7856   11.3822    3.7101 C   0  0  0  0  0  0  0  0  0  0  0  0\\n    7.1702   11.5953    5.1042 C   0  0  0  0  0  0  0  0  0  0  0  0\\n    8.9093   11.8584    6.5750 C   0  0  0  0  0  0  0  0  0  0  0  0\\n   10.3687   12.0561    6.7437 C   0  0  0  0  0  0  0  0  0  0  0  0\\n   12.4530   12.2140    5.3682 C   0  0  0  0  0  0  0  0  0  0  0  0\\n   12.4476   13.4300    4.4440 C   0  0  0  0  0  0  0  0  0  0  0  0\\n   12.1057   13.8879    2.0217 C   0  0  0  0  0  0  0  0  0  0  0  0\\n   11.2426   13.5977    0.8456 C   0  0  0  0  0  0  0  0  0  0  0  0\\n    9.5630   12.3290   -0.1019 C   0  0  0  0  0  0  0  0  0  0  0  0\\n    8.5967   11.2122    0.0238 C   0  0  0  0  0  0  0  0  0  0  0  0\\n    7.9306    9.2481    1.3903 C   0  0  0  0  0  0  0  0  0  0  0  0\\n    6.5771    9.5820    2.0080 C   0  0  0  0  0  0  0  0  0  0  0  0\\n    6.2134   11.6818    6.0975 C   0  0  0  0  0  0  0  0  0  0  0  0\\n    6.6726   11.8566    7.3977 C   0  0  0  0  0  0  0  0  0  0  0  0\\n    8.0418   11.9493    7.6547 C   0  0  0  0  0  0  0  0  0  0  0  0\\n   11.3875   14.3554   -0.3114 C   0  0  0  0  0  0  0  0  0  0  0  0\\n   10.5626   14.0638   -1.3916 C   0  0  0  0  0  0  0  0  0  0  0  0\\n    9.6297   13.0388   -1.2951 C   0  0  0  0  0  0  0  0  0  0  0  0\\n  4 20  2  0\\n  5 22  1  0\\n  5 11  1  0\\n  6 13  1  0\\n  7 15  1  0\\n  8 17  1  0\\n  8 16  1  0\\n  9 18  2  0\\n 10 20  1  0\\n 11  1  2  0\\n 12 11  1  0\\n 12  6  2  0\\n 13 14  1  0\\n 14  2  2  0\\n 14  7  1  0\\n 15 16  1  0\\n 17  3  2  0\\n 18 26  1  0\\n 18 17  1  0\\n 19 28  2  0\\n 19  9  1  0\\n 20 19  1  0\\n 21 10  1  0\\n 22 21  1  0\\n 23 12  1  0\\n 23 24  2  0\\n 24 25  1  0\\n 25 13  2  0\\n 27 26  2  0\\n 28 27  1  0\\nM  END\\n\",\"sdf\");\n",
       "\tviewer_14978609135507078.addModel(\"m1_sa_as.xyz\\n     RDKit          3D\\n\\n 28 30  0  0  0  0  0  0  0  0999 V2000\\n    5.5646   11.2898    3.3847 O   0  0  0  0  0  0  0  0  0  0  0  0\\n   10.9936   12.7672    6.1578 O   0  0  0  0  0  0  0  0  0  0  0  0\\n   13.0407    7.5146    6.7228 O   0  0  0  0  0  0  0  0  0  0  0  0\\n   10.2516    8.8991    1.2774 O   0  0  0  0  0  0  0  0  0  0  0  0\\n    7.8072   11.1155    2.8177 N   0  0  0  0  0  0  0  0  0  0  0  0\\n    8.5024   11.6838    5.2971 N   0  0  0  0  0  0  0  0  0  0  0  0\\n   10.8595   10.9099    7.5665 N   0  0  0  0  0  0  0  0  0  0  0  0\\n   12.4309    9.4732    5.6389 N   0  0  0  0  0  0  0  0  0  0  0  0\\n   10.9982    8.0919    3.9049 N   0  0  0  0  0  0  0  0  0  0  0  0\\n    8.1487    8.3480    2.1310 N   0  0  0  0  0  0  0  0  0  0  0  0\\n    6.7519   11.3263    3.6869 C   0  0  0  0  0  0  0  0  0  0  0  0\\n    7.1680   11.5860    5.0882 C   0  0  0  0  0  0  0  0  0  0  0  0\\n    8.8993   11.8500    6.5773 C   0  0  0  0  0  0  0  0  0  0  0  0\\n   10.3561   11.9091    6.7560 C   0  0  0  0  0  0  0  0  0  0  0  0\\n   12.2785   10.6915    7.7986 C   0  0  0  0  0  0  0  0  0  0  0  0\\n   13.0818   10.4196    6.5269 C   0  0  0  0  0  0  0  0  0  0  0  0\\n   12.4251    8.1049    5.8421 C   0  0  0  0  0  0  0  0  0  0  0  0\\n   11.5573    7.3585    4.8966 C   0  0  0  0  0  0  0  0  0  0  0  0\\n   10.1428    7.4420    3.0857 C   0  0  0  0  0  0  0  0  0  0  0  0\\n    9.5274    8.2908    2.0560 C   0  0  0  0  0  0  0  0  0  0  0  0\\n    7.3258    9.2101    1.2983 C   0  0  0  0  0  0  0  0  0  0  0  0\\n    7.6443   10.6984    1.4374 C   0  0  0  0  0  0  0  0  0  0  0  0\\n    6.2205   11.6787    6.1004 C   0  0  0  0  0  0  0  0  0  0  0  0\\n    6.6767   11.8665    7.4041 C   0  0  0  0  0  0  0  0  0  0  0  0\\n    8.0413   11.9474    7.6618 C   0  0  0  0  0  0  0  0  0  0  0  0\\n   11.3233    6.0005    5.0767 C   0  0  0  0  0  0  0  0  0  0  0  0\\n   10.4445    5.3693    4.1980 C   0  0  0  0  0  0  0  0  0  0  0  0\\n    9.8282    6.0952    3.1843 C   0  0  0  0  0  0  0  0  0  0  0  0\\n  1 11  2  0\\n  5 22  1  0\\n  6 13  1  0\\n  7 15  1  0\\n  8 16  1  0\\n  8 17  1  0\\n  9 18  2  0\\n 10 20  1  0\\n 11 12  1  0\\n 11  5  1  0\\n 12  6  2  0\\n 13 14  1  0\\n 14  7  1  0\\n 14  2  2  0\\n 15 16  1  0\\n 17  3  2  0\\n 18 17  1  0\\n 18 26  1  0\\n 19  9  1  0\\n 19 28  2  0\\n 20  4  2  0\\n 20 19  1  0\\n 21 10  1  0\\n 22 21  1  0\\n 23 24  2  0\\n 23 12  1  0\\n 24 25  1  0\\n 25 13  2  0\\n 27 26  2  0\\n 28 27  1  0\\nM  END\\n\",\"sdf\");\n",
       "\tviewer_14978609135507078.addModel(\"m1_sa_aa.xyz\\n     RDKit          3D\\n\\n 28 30  0  0  0  0  0  0  0  0999 V2000\\n    5.6757   11.9038    3.3350 O   0  0  0  0  0  0  0  0  0  0  0  0\\n   11.0570   11.8841    5.6576 O   0  0  0  0  0  0  0  0  0  0  0  0\\n   14.7663    8.4056    7.7308 O   0  0  0  0  0  0  0  0  0  0  0  0\\n   10.0111    6.3483    3.0547 O   0  0  0  0  0  0  0  0  0  0  0  0\\n    7.4883   10.6012    2.8257 N   0  0  0  0  0  0  0  0  0  0  0  0\\n    8.4913   11.6883    5.3037 N   0  0  0  0  0  0  0  0  0  0  0  0\\n   10.9409   11.8643    7.9689 N   0  0  0  0  0  0  0  0  0  0  0  0\\n   12.7013    9.4463    7.4820 N   0  0  0  0  0  0  0  0  0  0  0  0\\n   12.0733    7.6803    5.5814 N   0  0  0  0  0  0  0  0  0  0  0  0\\n    9.6936    8.1171    4.5252 N   0  0  0  0  0  0  0  0  0  0  0  0\\n    6.7315   11.3793    3.6903 C   0  0  0  0  0  0  0  0  0  0  0  0\\n    7.1655   11.5830    5.0886 C   0  0  0  0  0  0  0  0  0  0  0  0\\n    8.9143   11.8475    6.5827 C   0  0  0  0  0  0  0  0  0  0  0  0\\n   10.3958   11.8749    6.6952 C   0  0  0  0  0  0  0  0  0  0  0  0\\n   12.3768   11.8034    8.2000 C   0  0  0  0  0  0  0  0  0  0  0  0\\n   12.8394   10.3990    8.5748 C   0  0  0  0  0  0  0  0  0  0  0  0\\n   13.6555    8.4721    7.2135 C   0  0  0  0  0  0  0  0  0  0  0  0\\n   13.2316    7.4379    6.2337 C   0  0  0  0  0  0  0  0  0  0  0  0\\n   11.6575    6.7459    4.6911 C   0  0  0  0  0  0  0  0  0  0  0  0\\n   10.3803    7.0389    3.9981 C   0  0  0  0  0  0  0  0  0  0  0  0\\n    8.4444    8.6277    3.9949 C   0  0  0  0  0  0  0  0  0  0  0  0\\n    8.6972    9.8249    3.0867 C   0  0  0  0  0  0  0  0  0  0  0  0\\n    6.2189   11.6799    6.0980 C   0  0  0  0  0  0  0  0  0  0  0  0\\n    6.6758   11.8645    7.3986 C   0  0  0  0  0  0  0  0  0  0  0  0\\n    8.0425   11.9493    7.6574 C   0  0  0  0  0  0  0  0  0  0  0  0\\n   13.9966    6.2926    6.0368 C   0  0  0  0  0  0  0  0  0  0  0  0\\n   13.5366    5.3535    5.1144 C   0  0  0  0  0  0  0  0  0  0  0  0\\n   12.3508    5.5755    4.4208 C   0  0  0  0  0  0  0  0  0  0  0  0\\n  4 20  2  0\\n  5 22  1  0\\n  5 11  1  0\\n  6 13  1  0\\n  7 15  1  0\\n  8 17  1  0\\n  8 16  1  0\\n  9 18  2  0\\n 10 20  1  0\\n 11  1  2  0\\n 12 11  1  0\\n 12  6  2  0\\n 13 14  1  0\\n 14  2  2  0\\n 14  7  1  0\\n 15 16  1  0\\n 17  3  2  0\\n 18 26  1  0\\n 18 17  1  0\\n 19 28  2  0\\n 19  9  1  0\\n 20 19  1  0\\n 21 10  1  0\\n 22 21  1  0\\n 23 12  1  0\\n 23 24  2  0\\n 24 25  1  0\\n 25 13  2  0\\n 27 26  2  0\\n 28 27  1  0\\nM  END\\n\",\"sdf\");\n",
       "\tviewer_14978609135507078.addModel(\"m1_sa_sa.xyz\\n     RDKit          3D\\n\\n 28 30  0  0  0  0  0  0  0  0999 V2000\\n    7.4498   11.9109    2.8025 O   0  0  0  0  0  0  0  0  0  0  0  0\\n   10.8496   11.8798    7.9159 O   0  0  0  0  0  0  0  0  0  0  0  0\\n   13.3738    9.3217    2.9529 O   0  0  0  0  0  0  0  0  0  0  0  0\\n    7.9513    6.2649    3.7900 O   0  0  0  0  0  0  0  0  0  0  0  0\\n    5.7959   10.4217    3.4836 N   0  0  0  0  0  0  0  0  0  0  0  0\\n    8.4985   11.6867    5.2998 N   0  0  0  0  0  0  0  0  0  0  0  0\\n   11.1063   11.6987    5.6147 N   0  0  0  0  0  0  0  0  0  0  0  0\\n   11.8991    9.0900    4.7268 N   0  0  0  0  0  0  0  0  0  0  0  0\\n   10.0881    8.0333    3.0895 N   0  0  0  0  0  0  0  0  0  0  0  0\\n    6.7195    7.7868    2.5777 N   0  0  0  0  0  0  0  0  0  0  0  0\\n    6.8074   11.3461    3.6822 C   0  0  0  0  0  0  0  0  0  0  0  0\\n    7.1670   11.5872    5.0920 C   0  0  0  0  0  0  0  0  0  0  0  0\\n    8.9087   11.8466    6.5795 C   0  0  0  0  0  0  0  0  0  0  0  0\\n   10.3779   11.8261    6.7858 C   0  0  0  0  0  0  0  0  0  0  0  0\\n   12.5091   11.3236    5.5896 C   0  0  0  0  0  0  0  0  0  0  0  0\\n   12.6786    9.8113    5.7211 C   0  0  0  0  0  0  0  0  0  0  0  0\\n   12.2897    8.9671    3.4041 C   0  0  0  0  0  0  0  0  0  0  0  0\\n   11.2639    8.3744    2.5099 C   0  0  0  0  0  0  0  0  0  0  0  0\\n    9.1387    7.5333    2.2666 C   0  0  0  0  0  0  0  0  0  0  0  0\\n    7.8908    7.1447    2.9338 C   0  0  0  0  0  0  0  0  0  0  0  0\\n    6.5617    8.9225    1.6734 C   0  0  0  0  0  0  0  0  0  0  0  0\\n    5.4848    9.8860    2.1682 C   0  0  0  0  0  0  0  0  0  0  0  0\\n    6.2171   11.6755    6.0992 C   0  0  0  0  0  0  0  0  0  0  0  0\\n    6.6751   11.8676    7.4002 C   0  0  0  0  0  0  0  0  0  0  0  0\\n    8.0417   11.9487    7.6583 C   0  0  0  0  0  0  0  0  0  0  0  0\\n   11.5300    8.2176    1.1541 C   0  0  0  0  0  0  0  0  0  0  0  0\\n   10.5289    7.6789    0.3494 C   0  0  0  0  0  0  0  0  0  0  0  0\\n    9.3056    7.3223    0.9055 C   0  0  0  0  0  0  0  0  0  0  0  0\\n  1 11  2  0\\n  5 11  1  0\\n  6 13  2  0\\n  7 14  1  0\\n  7 15  1  0\\n  8 16  1  0\\n  9 18  1  0\\n 10 21  1  0\\n 10 20  1  0\\n 11 12  1  0\\n 12  6  1  0\\n 13 14  1  0\\n 14  2  2  0\\n 16 15  1  0\\n 17  3  2  0\\n 17  8  1  0\\n 18 17  1  0\\n 19 20  1  0\\n 19  9  2  0\\n 20  4  2  0\\n 22 21  1  0\\n 22  5  1  0\\n 23 12  2  0\\n 23 24  1  0\\n 24 25  2  0\\n 25 13  1  0\\n 26 18  2  0\\n 27 26  1  0\\n 28 27  2  0\\n 28 19  1  0\\nM  END\\n\",\"sdf\");\n",
       "\tviewer_14978609135507078.addModel(\"m1_ss_sa.xyz\\n     RDKit          3D\\n\\n 28 30  0  0  0  0  0  0  0  0999 V2000\\n    5.6589   11.0684    3.3386 O   0  0  0  0  0  0  0  0  0  0  0  0\\n   11.0249   12.2995    5.7271 O   0  0  0  0  0  0  0  0  0  0  0  0\\n   12.0902    6.7813    6.7519 O   0  0  0  0  0  0  0  0  0  0  0  0\\n   10.3811    8.0812    0.2446 O   0  0  0  0  0  0  0  0  0  0  0  0\\n    7.9299   11.2488    2.8629 N   0  0  0  0  0  0  0  0  0  0  0  0\\n    8.4916   11.6886    5.3114 N   0  0  0  0  0  0  0  0  0  0  0  0\\n   10.9192   11.2713    7.8053 N   0  0  0  0  0  0  0  0  0  0  0  0\\n   12.2068    9.0367    6.2171 N   0  0  0  0  0  0  0  0  0  0  0  0\\n   11.4538    8.1406    3.6213 N   0  0  0  0  0  0  0  0  0  0  0  0\\n   10.2063    9.7691    1.8142 N   0  0  0  0  0  0  0  0  0  0  0  0\\n    6.8141   11.2865    3.6784 C   0  0  0  0  0  0  0  0  0  0  0  0\\n    7.1633   11.5855    5.0900 C   0  0  0  0  0  0  0  0  0  0  0  0\\n    8.9106   11.8476    6.5805 C   0  0  0  0  0  0  0  0  0  0  0  0\\n   10.3813   11.8562    6.6751 C   0  0  0  0  0  0  0  0  0  0  0  0\\n   12.3255   10.9171    7.8711 C   0  0  0  0  0  0  0  0  0  0  0  0\\n   12.5391    9.4375    7.5798 C   0  0  0  0  0  0  0  0  0  0  0  0\\n   12.1152    7.6833    5.9168 C   0  0  0  0  0  0  0  0  0  0  0  0\\n   12.1068    7.3207    4.4839 C   0  0  0  0  0  0  0  0  0  0  0  0\\n   11.3988    7.7149    2.3300 C   0  0  0  0  0  0  0  0  0  0  0  0\\n   10.6187    8.5298    1.3633 C   0  0  0  0  0  0  0  0  0  0  0  0\\n    9.3946   10.6739    1.0046 C   0  0  0  0  0  0  0  0  0  0  0  0\\n    7.9563   10.7353    1.5089 C   0  0  0  0  0  0  0  0  0  0  0  0\\n    6.2149   11.6749    6.0929 C   0  0  0  0  0  0  0  0  0  0  0  0\\n    6.6792   11.8684    7.3952 C   0  0  0  0  0  0  0  0  0  0  0  0\\n    8.0487   11.9474    7.6590 C   0  0  0  0  0  0  0  0  0  0  0  0\\n   12.7200    6.1251    4.1179 C   0  0  0  0  0  0  0  0  0  0  0  0\\n   12.6651    5.7429    2.7857 C   0  0  0  0  0  0  0  0  0  0  0  0\\n   11.9904    6.5392    1.8712 C   0  0  0  0  0  0  0  0  0  0  0  0\\n  1 11  2  0\\n  4 20  2  0\\n  6 13  2  0\\n  7 15  1  0\\n  8 17  1  0\\n  8 16  1  0\\n  9 18  2  0\\n 10 20  1  0\\n 11  5  1  0\\n 11 12  1  0\\n 12  6  1  0\\n 13 14  1  0\\n 14  7  1  0\\n 14  2  2  0\\n 15 16  1  0\\n 17  3  2  0\\n 18 26  1  0\\n 18 17  1  0\\n 19 28  2  0\\n 19  9  1  0\\n 20 19  1  0\\n 21 10  1  0\\n 22  5  1  0\\n 22 21  1  0\\n 23 12  2  0\\n 23 24  1  0\\n 24 25  2  0\\n 25 13  1  0\\n 27 26  2  0\\n 28 27  1  0\\nM  END\\n\",\"sdf\");\n",
       "\tviewer_14978609135507078.addModel(\"m1_sa_aa.xyz\\n     RDKit          3D\\n\\n 28 30  0  0  0  0  0  0  0  0999 V2000\\n    7.5149   11.9907    2.8172 O   0  0  0  0  0  0  0  0  0  0  0  0\\n   10.8751   12.9472    6.1498 O   0  0  0  0  0  0  0  0  0  0  0  0\\n   12.9011    9.5318    5.0875 O   0  0  0  0  0  0  0  0  0  0  0  0\\n    7.3635    7.8436    3.3378 O   0  0  0  0  0  0  0  0  0  0  0  0\\n    5.6455   10.7319    3.3938 N   0  0  0  0  0  0  0  0  0  0  0  0\\n    8.5029   11.6870    5.2954 N   0  0  0  0  0  0  0  0  0  0  0  0\\n   11.0391   11.1541    7.5842 N   0  0  0  0  0  0  0  0  0  0  0  0\\n   10.9220    8.6763    5.9503 N   0  0  0  0  0  0  0  0  0  0  0  0\\n    9.8337    8.7678    3.5323 N   0  0  0  0  0  0  0  0  0  0  0  0\\n    7.0091    9.0094    1.3613 N   0  0  0  0  0  0  0  0  0  0  0  0\\n    6.7917   11.4662    3.6606 C   0  0  0  0  0  0  0  0  0  0  0  0\\n    7.1676   11.5914    5.0867 C   0  0  0  0  0  0  0  0  0  0  0  0\\n    8.9007   11.8382    6.5792 C   0  0  0  0  0  0  0  0  0  0  0  0\\n   10.3460   12.0156    6.7539 C   0  0  0  0  0  0  0  0  0  0  0  0\\n   10.6104    9.8542    8.0962 C   0  0  0  0  0  0  0  0  0  0  0  0\\n   11.2903    8.7047    7.3539 C   0  0  0  0  0  0  0  0  0  0  0  0\\n   11.7521    9.1292    4.9371 C   0  0  0  0  0  0  0  0  0  0  0  0\\n   11.1408    9.1119    3.5856 C   0  0  0  0  0  0  0  0  0  0  0  0\\n    9.2361    8.7889    2.3171 C   0  0  0  0  0  0  0  0  0  0  0  0\\n    7.7907    8.4785    2.3750 C   0  0  0  0  0  0  0  0  0  0  0  0\\n    5.5656    9.1219    1.4927 C   0  0  0  0  0  0  0  0  0  0  0  0\\n    5.1580   10.4899    2.0427 C   0  0  0  0  0  0  0  0  0  0  0  0\\n    6.2208   11.6734    6.1020 C   0  0  0  0  0  0  0  0  0  0  0  0\\n    6.6764   11.8638    7.4051 C   0  0  0  0  0  0  0  0  0  0  0  0\\n    8.0398   11.9586    7.6606 C   0  0  0  0  0  0  0  0  0  0  0  0\\n   11.8864    9.4656    2.4700 C   0  0  0  0  0  0  0  0  0  0  0  0\\n   11.2470    9.4553    1.2336 C   0  0  0  0  0  0  0  0  0  0  0  0\\n    9.9002    9.1159    1.1435 C   0  0  0  0  0  0  0  0  0  0  0  0\\n  4 20  2  0\\n  5 22  1  0\\n  5 11  1  0\\n  6 13  1  0\\n  7 15  1  0\\n  8 17  1  0\\n  8 16  1  0\\n  9 18  2  0\\n 10 20  1  0\\n 11  1  2  0\\n 12 11  1  0\\n 12  6  2  0\\n 13 14  1  0\\n 14  2  2  0\\n 14  7  1  0\\n 15 16  1  0\\n 17  3  2  0\\n 18 26  1  0\\n 18 17  1  0\\n 19 28  2  0\\n 19  9  1  0\\n 20 19  1  0\\n 21 10  1  0\\n 22 21  1  0\\n 23 12  1  0\\n 23 24  2  0\\n 24 25  1  0\\n 25 13  2  0\\n 27 26  2  0\\n 28 27  1  0\\nM  END\\n\",\"sdf\");\n",
       "\tviewer_14978609135507078.addModel(\"m1_sa_sa.xyz\\n     RDKit          3D\\n\\n 28 30  0  0  0  0  0  0  0  0999 V2000\\n    5.5774   10.9997    3.4607 O   0  0  0  0  0  0  0  0  0  0  0  0\\n   10.7959   11.5656    7.9322 O   0  0  0  0  0  0  0  0  0  0  0  0\\n   13.7301   15.3147    3.9249 O   0  0  0  0  0  0  0  0  0  0  0  0\\n    9.7982   12.9527   -0.3980 O   0  0  0  0  0  0  0  0  0  0  0  0\\n    7.7172   11.5527    2.7558 N   0  0  0  0  0  0  0  0  0  0  0  0\\n    8.5070   11.6858    5.2956 N   0  0  0  0  0  0  0  0  0  0  0  0\\n   11.1323   12.3663    5.7799 N   0  0  0  0  0  0  0  0  0  0  0  0\\n   12.7734   13.2255    3.5693 N   0  0  0  0  0  0  0  0  0  0  0  0\\n   11.1461   14.2578    1.7763 N   0  0  0  0  0  0  0  0  0  0  0  0\\n    7.9967   13.7410    0.8656 N   0  0  0  0  0  0  0  0  0  0  0  0\\n    6.7304   11.3483    3.6984 C   0  0  0  0  0  0  0  0  0  0  0  0\\n    7.1669   11.5886    5.0941 C   0  0  0  0  0  0  0  0  0  0  0  0\\n    8.9084   11.8468    6.5777 C   0  0  0  0  0  0  0  0  0  0  0  0\\n   10.3635   11.8953    6.8303 C   0  0  0  0  0  0  0  0  0  0  0  0\\n   12.5200   12.7682    5.9675 C   0  0  0  0  0  0  0  0  0  0  0  0\\n   13.3533   12.5438    4.7112 C   0  0  0  0  0  0  0  0  0  0  0  0\\n   12.9155   14.5895    3.3629 C   0  0  0  0  0  0  0  0  0  0  0  0\\n   11.9234   15.1590    2.4194 C   0  0  0  0  0  0  0  0  0  0  0  0\\n   10.1465   14.7578    1.0189 C   0  0  0  0  0  0  0  0  0  0  0  0\\n    9.2987   13.7385    0.3978 C   0  0  0  0  0  0  0  0  0  0  0  0\\n    7.0834   12.6370    0.6148 C   0  0  0  0  0  0  0  0  0  0  0  0\\n    7.5149   11.3594    1.3309 C   0  0  0  0  0  0  0  0  0  0  0  0\\n    6.2167   11.6750    6.1049 C   0  0  0  0  0  0  0  0  0  0  0  0\\n    6.6719   11.8686    7.4017 C   0  0  0  0  0  0  0  0  0  0  0  0\\n    8.0374   11.9475    7.6549 C   0  0  0  0  0  0  0  0  0  0  0  0\\n   11.7657   16.5331    2.2995 C   0  0  0  0  0  0  0  0  0  0  0  0\\n   10.7334   17.0037    1.4876 C   0  0  0  0  0  0  0  0  0  0  0  0\\n    9.8918   16.1074    0.8397 C   0  0  0  0  0  0  0  0  0  0  0  0\\n  1 11  2  0\\n  5 11  1  0\\n  6 13  2  0\\n  7 14  1  0\\n  7 15  1  0\\n  8 16  1  0\\n  9 18  1  0\\n 10 21  1  0\\n 10 20  1  0\\n 11 12  1  0\\n 12  6  1  0\\n 13 14  1  0\\n 14  2  2  0\\n 16 15  1  0\\n 17  3  2  0\\n 17  8  1  0\\n 18 17  1  0\\n 19 20  1  0\\n 19  9  2  0\\n 20  4  2  0\\n 22 21  1  0\\n 22  5  1  0\\n 23 12  2  0\\n 23 24  1  0\\n 24 25  2  0\\n 25 13  1  0\\n 26 18  2  0\\n 27 26  1  0\\n 28 27  2  0\\n 28 19  1  0\\nM  END\\n\",\"sdf\");\n",
       "\tviewer_14978609135507078.addModel(\"m1_ss_sa.xyz\\n     RDKit          3D\\n\\n 28 30  0  0  0  0  0  0  0  0999 V2000\\n    5.7286   11.7851    3.2516 O   0  0  0  0  0  0  0  0  0  0  0  0\\n   10.9856   12.7357    6.0606 O   0  0  0  0  0  0  0  0  0  0  0  0\\n   14.8239   11.0984    5.2843 O   0  0  0  0  0  0  0  0  0  0  0  0\\n   11.0830   12.3820   -0.4772 O   0  0  0  0  0  0  0  0  0  0  0  0\\n    7.7562   10.6649    2.9768 N   0  0  0  0  0  0  0  0  0  0  0  0\\n    8.5002   11.6820    5.3014 N   0  0  0  0  0  0  0  0  0  0  0  0\\n   10.8829   10.9133    7.5154 N   0  0  0  0  0  0  0  0  0  0  0  0\\n   12.6824   10.2472    5.0567 N   0  0  0  0  0  0  0  0  0  0  0  0\\n   12.5293   11.4490    2.6201 N   0  0  0  0  0  0  0  0  0  0  0  0\\n   10.0930   11.5424    1.4394 N   0  0  0  0  0  0  0  0  0  0  0  0\\n    6.7912   11.3576    3.6858 C   0  0  0  0  0  0  0  0  0  0  0  0\\n    7.1691   11.5834    5.0945 C   0  0  0  0  0  0  0  0  0  0  0  0\\n    8.9011   11.8547    6.5755 C   0  0  0  0  0  0  0  0  0  0  0  0\\n   10.3588   11.9079    6.7128 C   0  0  0  0  0  0  0  0  0  0  0  0\\n   12.2963   10.5794    7.4988 C   0  0  0  0  0  0  0  0  0  0  0  0\\n   12.6260    9.6069    6.3642 C   0  0  0  0  0  0  0  0  0  0  0  0\\n   13.8079   10.9256    4.6154 C   0  0  0  0  0  0  0  0  0  0  0  0\\n   13.7437   11.4443    3.2257 C   0  0  0  0  0  0  0  0  0  0  0  0\\n   12.4899   11.9359    1.3524 C   0  0  0  0  0  0  0  0  0  0  0  0\\n   11.1670   11.9739    0.6774 C   0  0  0  0  0  0  0  0  0  0  0  0\\n    8.7169   11.6942    0.9796 C   0  0  0  0  0  0  0  0  0  0  0  0\\n    7.8033   10.6066    1.5305 C   0  0  0  0  0  0  0  0  0  0  0  0\\n    6.2166   11.6843    6.0964 C   0  0  0  0  0  0  0  0  0  0  0  0\\n    6.6772   11.8624    7.4009 C   0  0  0  0  0  0  0  0  0  0  0  0\\n    8.0442   11.9456    7.6602 C   0  0  0  0  0  0  0  0  0  0  0  0\\n   14.9132   11.8953    2.6197 C   0  0  0  0  0  0  0  0  0  0  0  0\\n   14.8320   12.3783    1.3189 C   0  0  0  0  0  0  0  0  0  0  0  0\\n   13.6063   12.4056    0.6664 C   0  0  0  0  0  0  0  0  0  0  0  0\\n  1 11  2  0\\n  4 20  2  0\\n  6 13  2  0\\n  7 15  1  0\\n  8 17  1  0\\n  8 16  1  0\\n  9 18  2  0\\n 10 20  1  0\\n 11  5  1  0\\n 11 12  1  0\\n 12  6  1  0\\n 13 14  1  0\\n 14  7  1  0\\n 14  2  2  0\\n 15 16  1  0\\n 17  3  2  0\\n 18 26  1  0\\n 18 17  1  0\\n 19 28  2  0\\n 19  9  1  0\\n 20 19  1  0\\n 21 10  1  0\\n 22  5  1  0\\n 22 21  1  0\\n 23 12  2  0\\n 23 24  1  0\\n 24 25  2  0\\n 25 13  1  0\\n 27 26  2  0\\n 28 27  1  0\\nM  END\\n\",\"sdf\");\n",
       "\tviewer_14978609135507078.addModel(\"m1_sa_sa.xyz\\n     RDKit          3D\\n\\n 28 30  0  0  0  0  0  0  0  0999 V2000\\n    7.4225   11.9243    2.7927 O   0  0  0  0  0  0  0  0  0  0  0  0\\n   10.8331   12.0988    7.9182 O   0  0  0  0  0  0  0  0  0  0  0  0\\n   11.2457    7.4513    7.5788 O   0  0  0  0  0  0  0  0  0  0  0  0\\n    8.9708    9.0288    2.2747 O   0  0  0  0  0  0  0  0  0  0  0  0\\n    5.7169   10.5057    3.4951 N   0  0  0  0  0  0  0  0  0  0  0  0\\n    8.5014   11.6825    5.2965 N   0  0  0  0  0  0  0  0  0  0  0  0\\n   11.1261   11.5057    5.6950 N   0  0  0  0  0  0  0  0  0  0  0  0\\n   11.7554    8.7643    5.7289 N   0  0  0  0  0  0  0  0  0  0  0  0\\n    9.5784    7.8464    4.5334 N   0  0  0  0  0  0  0  0  0  0  0  0\\n    6.8132    8.1687    2.2902 N   0  0  0  0  0  0  0  0  0  0  0  0\\n    6.7782   11.3746    3.6799 C   0  0  0  0  0  0  0  0  0  0  0  0\\n    7.1668   11.5886    5.0905 C   0  0  0  0  0  0  0  0  0  0  0  0\\n    8.9085   11.8491    6.5792 C   0  0  0  0  0  0  0  0  0  0  0  0\\n   10.3763   11.8511    6.8070 C   0  0  0  0  0  0  0  0  0  0  0  0\\n   12.5206   11.0983    5.7835 C   0  0  0  0  0  0  0  0  0  0  0  0\\n   12.6603    9.6978    6.3795 C   0  0  0  0  0  0  0  0  0  0  0  0\\n   11.0557    7.7849    6.4142 C   0  0  0  0  0  0  0  0  0  0  0  0\\n    9.9695    7.1567    5.6279 C   0  0  0  0  0  0  0  0  0  0  0  0\\n    8.5182    7.3687    3.8398 C   0  0  0  0  0  0  0  0  0  0  0  0\\n    8.1305    8.2475    2.7158 C   0  0  0  0  0  0  0  0  0  0  0  0\\n    6.2338    9.1910    1.4339 C   0  0  0  0  0  0  0  0  0  0  0  0\\n    5.2433   10.0755    2.1905 C   0  0  0  0  0  0  0  0  0  0  0  0\\n    6.2186   11.6782    6.1015 C   0  0  0  0  0  0  0  0  0  0  0  0\\n    6.6738   11.8641    7.4028 C   0  0  0  0  0  0  0  0  0  0  0  0\\n    8.0391   11.9500    7.6584 C   0  0  0  0  0  0  0  0  0  0  0  0\\n    9.3592    5.9891    6.0566 C   0  0  0  0  0  0  0  0  0  0  0  0\\n    8.2886    5.5077    5.3063 C   0  0  0  0  0  0  0  0  0  0  0  0\\n    7.8491    6.2019    4.1795 C   0  0  0  0  0  0  0  0  0  0  0  0\\n  1 11  2  0\\n  5 11  1  0\\n  6 13  2  0\\n  7 14  1  0\\n  7 15  1  0\\n  8 16  1  0\\n  9 18  1  0\\n 10 21  1  0\\n 10 20  1  0\\n 11 12  1  0\\n 12  6  1  0\\n 13 14  1  0\\n 14  2  2  0\\n 16 15  1  0\\n 17  3  2  0\\n 17  8  1  0\\n 18 17  1  0\\n 19 20  1  0\\n 19  9  2  0\\n 20  4  2  0\\n 22 21  1  0\\n 22  5  1  0\\n 23 12  2  0\\n 23 24  1  0\\n 24 25  2  0\\n 25 13  1  0\\n 26 18  2  0\\n 27 26  1  0\\n 28 27  2  0\\n 28 19  1  0\\nM  END\\n\",\"sdf\");\n",
       "\tviewer_14978609135507078.addModel(\"m1_aa_aa.xyz\\n     RDKit          3D\\n\\n 28 30  0  0  0  0  0  0  0  0999 V2000\\n    5.5664   11.5434    3.3588 O   0  0  0  0  0  0  0  0  0  0  0  0\\n   11.0866   11.4151    5.8681 O   0  0  0  0  0  0  0  0  0  0  0  0\\n   12.8598   16.7004    5.5608 O   0  0  0  0  0  0  0  0  0  0  0  0\\n   11.0011   11.8071    2.5549 O   0  0  0  0  0  0  0  0  0  0  0  0\\n    7.8007   11.2958    2.7882 N   0  0  0  0  0  0  0  0  0  0  0  0\\n    8.4988   11.6693    5.3036 N   0  0  0  0  0  0  0  0  0  0  0  0\\n   10.8472   12.7254    7.7712 N   0  0  0  0  0  0  0  0  0  0  0  0\\n   12.3749   14.4557    5.8850 N   0  0  0  0  0  0  0  0  0  0  0  0\\n   11.5445   14.2521    3.3931 N   0  0  0  0  0  0  0  0  0  0  0  0\\n    9.6225   12.6012    0.8636 N   0  0  0  0  0  0  0  0  0  0  0  0\\n    6.7498   11.4708    3.6709 C   0  0  0  0  0  0  0  0  0  0  0  0\\n    7.1642   11.5963    5.0885 C   0  0  0  0  0  0  0  0  0  0  0  0\\n    8.9104   11.8585    6.5794 C   0  0  0  0  0  0  0  0  0  0  0  0\\n   10.3813   11.9611    6.7126 C   0  0  0  0  0  0  0  0  0  0  0  0\\n   12.2536   13.0677    7.9286 C   0  0  0  0  0  0  0  0  0  0  0  0\\n   12.5729   14.4307    7.3223 C   0  0  0  0  0  0  0  0  0  0  0  0\\n   12.4686   15.6178    5.1392 C   0  0  0  0  0  0  0  0  0  0  0  0\\n   12.0172   15.4734    3.7329 C   0  0  0  0  0  0  0  0  0  0  0  0\\n   11.0718   14.0970    2.1342 C   0  0  0  0  0  0  0  0  0  0  0  0\\n   10.5753   12.7299    1.8634 C   0  0  0  0  0  0  0  0  0  0  0  0\\n    8.9461   11.3408    0.5971 C   0  0  0  0  0  0  0  0  0  0  0  0\\n    7.6232   11.2366    1.3488 C   0  0  0  0  0  0  0  0  0  0  0  0\\n    6.2169   11.6801    6.0984 C   0  0  0  0  0  0  0  0  0  0  0  0\\n    6.6759   11.8568    7.4012 C   0  0  0  0  0  0  0  0  0  0  0  0\\n    8.0420   11.9513    7.6578 C   0  0  0  0  0  0  0  0  0  0  0  0\\n   12.0553   16.5514    2.8610 C   0  0  0  0  0  0  0  0  0  0  0  0\\n   11.5770   16.3538    1.5682 C   0  0  0  0  0  0  0  0  0  0  0  0\\n   11.0744   15.1112    1.1869 C   0  0  0  0  0  0  0  0  0  0  0  0\\n  3 17  2  0\\n  4 20  2  0\\n  5 22  1  0\\n  5 11  1  0\\n  6 13  1  0\\n  7 15  1  0\\n  9 18  2  0\\n 10 20  1  0\\n 11  1  2  0\\n 12 11  1  0\\n 12  6  2  0\\n 13 14  1  0\\n 14  2  2  0\\n 14  7  1  0\\n 15 16  1  0\\n 16  8  1  0\\n 17 18  1  0\\n 17  8  1  0\\n 18 26  1  0\\n 19 28  2  0\\n 19  9  1  0\\n 20 19  1  0\\n 21 10  1  0\\n 22 21  1  0\\n 23 12  1  0\\n 23 24  2  0\\n 24 25  1  0\\n 25 13  2  0\\n 27 26  2  0\\n 28 27  1  0\\nM  END\\n\",\"sdf\");\n",
       "\tviewer_14978609135507078.addModel(\"m1_crystal.xyz\\n     RDKit          3D\\n\\n 28 30  0  0  0  0  0  0  0  0999 V2000\\n    5.5687   11.0577    3.4537 O   0  0  0  0  0  0  0  0  0  0  0  0\\n   10.8218   11.7946    7.9358 O   0  0  0  0  0  0  0  0  0  0  0  0\\n   14.9472   10.0815    3.3875 O   0  0  0  0  0  0  0  0  0  0  0  0\\n    9.6857    9.4230   -1.0899 O   0  0  0  0  0  0  0  0  0  0  0  0\\n    7.7486   11.4281    2.7492 N   0  0  0  0  0  0  0  0  0  0  0  0\\n    8.5015   11.6808    5.2977 N   0  0  0  0  0  0  0  0  0  0  0  0\\n   11.1289   11.9926    5.6432 N   0  0  0  0  0  0  0  0  0  0  0  0\\n   12.7455    9.9440    4.1053 N   0  0  0  0  0  0  0  0  0  0  0  0\\n   11.9764    9.5438    1.5716 N   0  0  0  0  0  0  0  0  0  0  0  0\\n    9.3221    9.3514    1.2002 N   0  0  0  0  0  0  0  0  0  0  0  0\\n    6.7391   11.3368    3.6942 C   0  0  0  0  0  0  0  0  0  0  0  0\\n    7.1673   11.5896    5.0898 C   0  0  0  0  0  0  0  0  0  0  0  0\\n    8.9068   11.8511    6.5777 C   0  0  0  0  0  0  0  0  0  0  0  0\\n   10.3706   11.8811    6.7979 C   0  0  0  0  0  0  0  0  0  0  0  0\\n   12.5752   11.8472    5.6486 C   0  0  0  0  0  0  0  0  0  0  0  0\\n   12.9778   10.3872    5.4712 C   0  0  0  0  0  0  0  0  0  0  0  0\\n   13.7577    9.8816    3.1615 C   0  0  0  0  0  0  0  0  0  0  0  0\\n   13.3136    9.5553    1.7856 C   0  0  0  0  0  0  0  0  0  0  0  0\\n   11.5685    9.3009    0.3032 C   0  0  0  0  0  0  0  0  0  0  0  0\\n   10.1095    9.3593    0.0602 C   0  0  0  0  0  0  0  0  0  0  0  0\\n    7.8857    9.5701    1.1512 C   0  0  0  0  0  0  0  0  0  0  0  0\\n    7.5508   11.0431    1.3619 C   0  0  0  0  0  0  0  0  0  0  0  0\\n    6.2199   11.6776    6.1019 C   0  0  0  0  0  0  0  0  0  0  0  0\\n    6.6738   11.8653    7.4035 C   0  0  0  0  0  0  0  0  0  0  0  0\\n    8.0388   11.9481    7.6583 C   0  0  0  0  0  0  0  0  0  0  0  0\\n   14.2589    9.3203    0.7937 C   0  0  0  0  0  0  0  0  0  0  0  0\\n   13.8005    9.0594   -0.4925 C   0  0  0  0  0  0  0  0  0  0  0  0\\n   12.4351    9.0528   -0.7547 C   0  0  0  0  0  0  0  0  0  0  0  0\\n  1 11  2  0\\n  4 20  2  0\\n  6 13  2  0\\n  7 15  1  0\\n  8 16  1  0\\n  9 18  1  0\\n 11  5  1  0\\n 11 12  1  0\\n 12  6  1  0\\n 13 14  1  0\\n 14  7  1  0\\n 14  2  2  0\\n 16 15  1  0\\n 17  3  2  0\\n 17  8  1  0\\n 18 17  1  0\\n 19  9  2  0\\n 20 19  1  0\\n 20 10  1  0\\n 21 10  1  0\\n 22 21  1  0\\n 22  5  1  0\\n 23 12  2  0\\n 23 24  1  0\\n 24 25  2  0\\n 25 13  1  0\\n 26 18  2  0\\n 27 26  1  0\\n 28 27  2  0\\n 28 19  1  0\\nM  END\\n\",\"sdf\");\n",
       "\tviewer_14978609135507078.addModel(\"m1_sa_sa.xyz\\n     RDKit          3D\\n\\n 28 30  0  0  0  0  0  0  0  0999 V2000\\n    7.5341   11.8337    2.7982 O   0  0  0  0  0  0  0  0  0  0  0  0\\n   10.8401   11.8408    7.9259 O   0  0  0  0  0  0  0  0  0  0  0  0\\n   13.7824    9.9560    2.7695 O   0  0  0  0  0  0  0  0  0  0  0  0\\n    7.9726    8.2091    3.2788 O   0  0  0  0  0  0  0  0  0  0  0  0\\n    5.6479   10.6412    3.4491 N   0  0  0  0  0  0  0  0  0  0  0  0\\n    8.4992   11.6839    5.2993 N   0  0  0  0  0  0  0  0  0  0  0  0\\n   11.1173   11.9220    5.6233 N   0  0  0  0  0  0  0  0  0  0  0  0\\n   12.1647    9.5665    4.3874 N   0  0  0  0  0  0  0  0  0  0  0  0\\n   10.3946    9.0284    2.4944 N   0  0  0  0  0  0  0  0  0  0  0  0\\n    7.0521    8.9191    1.2673 N   0  0  0  0  0  0  0  0  0  0  0  0\\n    6.7987   11.3792    3.6699 C   0  0  0  0  0  0  0  0  0  0  0  0\\n    7.1659   11.5852    5.0886 C   0  0  0  0  0  0  0  0  0  0  0  0\\n    8.9078   11.8513    6.5799 C   0  0  0  0  0  0  0  0  0  0  0  0\\n   10.3759   11.8796    6.7915 C   0  0  0  0  0  0  0  0  0  0  0  0\\n   12.5500   11.6792    5.5829 C   0  0  0  0  0  0  0  0  0  0  0  0\\n   12.8520   10.1839    5.5099 C   0  0  0  0  0  0  0  0  0  0  0  0\\n   12.6515    9.6077    3.0917 C   0  0  0  0  0  0  0  0  0  0  0  0\\n   11.6621    9.2200    2.0567 C   0  0  0  0  0  0  0  0  0  0  0  0\\n    9.4566    8.7470    1.5599 C   0  0  0  0  0  0  0  0  0  0  0  0\\n    8.0942    8.5846    2.1160 C   0  0  0  0  0  0  0  0  0  0  0  0\\n    5.6573    8.9080    1.6781 C   0  0  0  0  0  0  0  0  0  0  0  0\\n    5.1719   10.2857    2.1222 C   0  0  0  0  0  0  0  0  0  0  0  0\\n    6.2187   11.6795    6.0999 C   0  0  0  0  0  0  0  0  0  0  0  0\\n    6.6757   11.8658    7.4018 C   0  0  0  0  0  0  0  0  0  0  0  0\\n    8.0409   11.9467    7.6595 C   0  0  0  0  0  0  0  0  0  0  0  0\\n   12.0402    9.1218    0.7251 C   0  0  0  0  0  0  0  0  0  0  0  0\\n   11.0545    8.8076   -0.2054 C   0  0  0  0  0  0  0  0  0  0  0  0\\n    9.7378    8.6168    0.2061 C   0  0  0  0  0  0  0  0  0  0  0  0\\n  1 11  2  0\\n  5 11  1  0\\n  6 13  2  0\\n  7 14  1  0\\n  7 15  1  0\\n  8 16  1  0\\n  9 18  1  0\\n 10 21  1  0\\n 10 20  1  0\\n 11 12  1  0\\n 12  6  1  0\\n 13 14  1  0\\n 14  2  2  0\\n 16 15  1  0\\n 17  3  2  0\\n 17  8  1  0\\n 18 17  1  0\\n 19 20  1  0\\n 19  9  2  0\\n 20  4  2  0\\n 22 21  1  0\\n 22  5  1  0\\n 23 12  2  0\\n 23 24  1  0\\n 24 25  2  0\\n 25 13  1  0\\n 26 18  2  0\\n 27 26  1  0\\n 28 27  2  0\\n 28 19  1  0\\nM  END\\n\",\"sdf\");\n",
       "\tviewer_14978609135507078.addModel(\"m1_sa_sa.xyz\\n     RDKit          3D\\n\\n 28 30  0  0  0  0  0  0  0  0999 V2000\\n    7.1720   12.1494    2.8364 O   0  0  0  0  0  0  0  0  0  0  0  0\\n   10.8124   11.8765    7.9628 O   0  0  0  0  0  0  0  0  0  0  0  0\\n   12.9359    7.0723    5.3519 O   0  0  0  0  0  0  0  0  0  0  0  0\\n    9.0728    9.9335    1.7516 O   0  0  0  0  0  0  0  0  0  0  0  0\\n    5.9292   10.2902    3.5066 N   0  0  0  0  0  0  0  0  0  0  0  0\\n    8.5047   11.6856    5.2934 N   0  0  0  0  0  0  0  0  0  0  0  0\\n   11.1513   11.7595    5.6738 N   0  0  0  0  0  0  0  0  0  0  0  0\\n   12.1144    9.1884    4.8522 N   0  0  0  0  0  0  0  0  0  0  0  0\\n   10.3518    8.1757    3.2322 N   0  0  0  0  0  0  0  0  0  0  0  0\\n    7.2362    8.5280    1.5462 N   0  0  0  0  0  0  0  0  0  0  0  0\\n    6.7560   11.3828    3.6969 C   0  0  0  0  0  0  0  0  0  0  0  0\\n    7.1690   11.5883    5.0963 C   0  0  0  0  0  0  0  0  0  0  0  0\\n    8.9096   11.8467    6.5775 C   0  0  0  0  0  0  0  0  0  0  0  0\\n   10.3749   11.8429    6.8171 C   0  0  0  0  0  0  0  0  0  0  0  0\\n   12.5724   11.4398    5.7131 C   0  0  0  0  0  0  0  0  0  0  0  0\\n   12.7984    9.9399    5.8886 C   0  0  0  0  0  0  0  0  0  0  0  0\\n   12.1701    7.8092    4.7428 C   0  0  0  0  0  0  0  0  0  0  0  0\\n   11.1555    7.2550    3.8107 C   0  0  0  0  0  0  0  0  0  0  0  0\\n    9.3650    7.7291    2.4248 C   0  0  0  0  0  0  0  0  0  0  0  0\\n    8.5510    8.8262    1.8632 C   0  0  0  0  0  0  0  0  0  0  0  0\\n    6.2992    9.5588    1.1309 C   0  0  0  0  0  0  0  0  0  0  0  0\\n    5.3158    9.9344    2.2370 C   0  0  0  0  0  0  0  0  0  0  0  0\\n    6.2166   11.6760    6.1032 C   0  0  0  0  0  0  0  0  0  0  0  0\\n    6.6713   11.8674    7.4023 C   0  0  0  0  0  0  0  0  0  0  0  0\\n    8.0371   11.9485    7.6563 C   0  0  0  0  0  0  0  0  0  0  0  0\\n   11.0319    5.8916    3.5982 C   0  0  0  0  0  0  0  0  0  0  0  0\\n   10.0140    5.4634    2.7470 C   0  0  0  0  0  0  0  0  0  0  0  0\\n    9.1563    6.3868    2.1484 C   0  0  0  0  0  0  0  0  0  0  0  0\\n  1 11  2  0\\n  5 11  1  0\\n  6 13  2  0\\n  7 14  1  0\\n  7 15  1  0\\n  8 16  1  0\\n  9 18  1  0\\n 10 21  1  0\\n 10 20  1  0\\n 11 12  1  0\\n 12  6  1  0\\n 13 14  1  0\\n 14  2  2  0\\n 16 15  1  0\\n 17  3  2  0\\n 17  8  1  0\\n 18 17  1  0\\n 19 20  1  0\\n 19  9  2  0\\n 20  4  2  0\\n 22 21  1  0\\n 22  5  1  0\\n 23 12  2  0\\n 23 24  1  0\\n 24 25  2  0\\n 25 13  1  0\\n 26 18  2  0\\n 27 26  1  0\\n 28 27  2  0\\n 28 19  1  0\\nM  END\\n\",\"sdf\");\n",
       "\tviewer_14978609135507078.addModel(\"m1_sa_sa.xyz\\n     RDKit          3D\\n\\n 28 30  0  0  0  0  0  0  0  0999 V2000\\n    7.7705   11.3891    2.8444 O   0  0  0  0  0  0  0  0  0  0  0  0\\n   10.8535   11.4859    7.8392 O   0  0  0  0  0  0  0  0  0  0  0  0\\n   12.4615    8.5732    5.7921 O   0  0  0  0  0  0  0  0  0  0  0  0\\n    7.9209    8.2820    1.6515 O   0  0  0  0  0  0  0  0  0  0  0  0\\n    5.5570   10.9236    3.3500 N   0  0  0  0  0  0  0  0  0  0  0  0\\n    8.4942   11.6834    5.3071 N   0  0  0  0  0  0  0  0  0  0  0  0\\n   11.0863   12.1868    5.6308 N   0  0  0  0  0  0  0  0  0  0  0  0\\n   11.6497    9.9195    4.0881 N   0  0  0  0  0  0  0  0  0  0  0  0\\n    9.5017    8.3463    3.8894 N   0  0  0  0  0  0  0  0  0  0  0  0\\n    6.0864    8.1757    3.0794 N   0  0  0  0  0  0  0  0  0  0  0  0\\n    6.8521   11.3103    3.6598 C   0  0  0  0  0  0  0  0  0  0  0  0\\n    7.1620   11.5830    5.0829 C   0  0  0  0  0  0  0  0  0  0  0  0\\n    8.9070   11.8550    6.5825 C   0  0  0  0  0  0  0  0  0  0  0  0\\n   10.3739   11.8368    6.7675 C   0  0  0  0  0  0  0  0  0  0  0  0\\n   12.4825   11.8306    5.4335 C   0  0  0  0  0  0  0  0  0  0  0  0\\n   12.6522   10.9692    4.1808 C   0  0  0  0  0  0  0  0  0  0  0  0\\n   11.5898    8.8653    4.9820 C   0  0  0  0  0  0  0  0  0  0  0  0\\n   10.3170    8.1073    4.9466 C   0  0  0  0  0  0  0  0  0  0  0  0\\n    8.3079    7.7068    3.8880 C   0  0  0  0  0  0  0  0  0  0  0  0\\n    7.4270    8.0596    2.7514 C   0  0  0  0  0  0  0  0  0  0  0  0\\n    5.0934    8.7772    2.2034 C   0  0  0  0  0  0  0  0  0  0  0  0\\n    5.2402   10.2957    2.0748 C   0  0  0  0  0  0  0  0  0  0  0  0\\n    6.2175   11.6805    6.0952 C   0  0  0  0  0  0  0  0  0  0  0  0\\n    6.6808   11.8660    7.3990 C   0  0  0  0  0  0  0  0  0  0  0  0\\n    8.0468   11.9445    7.6622 C   0  0  0  0  0  0  0  0  0  0  0  0\\n   10.0000    7.2475    5.9897 C   0  0  0  0  0  0  0  0  0  0  0  0\\n    8.7717    6.5977    5.9433 C   0  0  0  0  0  0  0  0  0  0  0  0\\n    7.9039    6.8212    4.8798 C   0  0  0  0  0  0  0  0  0  0  0  0\\n  1 11  2  0\\n  5 11  1  0\\n  6 13  2  0\\n  7 14  1  0\\n  7 15  1  0\\n  8 16  1  0\\n  9 18  1  0\\n 10 21  1  0\\n 10 20  1  0\\n 11 12  1  0\\n 12  6  1  0\\n 13 14  1  0\\n 14  2  2  0\\n 16 15  1  0\\n 17  3  2  0\\n 17  8  1  0\\n 18 17  1  0\\n 19 20  1  0\\n 19  9  2  0\\n 20  4  2  0\\n 22 21  1  0\\n 22  5  1  0\\n 23 12  2  0\\n 23 24  1  0\\n 24 25  2  0\\n 25 13  1  0\\n 26 18  2  0\\n 27 26  1  0\\n 28 27  2  0\\n 28 19  1  0\\nM  END\\n\",\"sdf\");\n",
       "\tviewer_14978609135507078.addModel(\"m1_sa_aa.xyz\\n     RDKit          3D\\n\\n 28 30  0  0  0  0  0  0  0  0999 V2000\\n    7.5399   11.8365    2.7926 O   0  0  0  0  0  0  0  0  0  0  0  0\\n   10.9568   12.8193    7.0898 O   0  0  0  0  0  0  0  0  0  0  0  0\\n   13.8439    9.8485    2.5364 O   0  0  0  0  0  0  0  0  0  0  0  0\\n    8.0846    8.2887    3.1344 O   0  0  0  0  0  0  0  0  0  0  0  0\\n    5.6407   10.6647    3.4545 N   0  0  0  0  0  0  0  0  0  0  0  0\\n    8.5044   11.6791    5.2940 N   0  0  0  0  0  0  0  0  0  0  0  0\\n   10.8568   10.5233    6.5966 N   0  0  0  0  0  0  0  0  0  0  0  0\\n   12.1211   10.0179    4.0902 N   0  0  0  0  0  0  0  0  0  0  0  0\\n   10.3994    9.2037    2.2683 N   0  0  0  0  0  0  0  0  0  0  0  0\\n    7.0056    8.9862    1.2029 N   0  0  0  0  0  0  0  0  0  0  0  0\\n    6.7990   11.3937    3.6627 C   0  0  0  0  0  0  0  0  0  0  0  0\\n    7.1691   11.5910    5.0846 C   0  0  0  0  0  0  0  0  0  0  0  0\\n    8.8958   11.8483    6.5775 C   0  0  0  0  0  0  0  0  0  0  0  0\\n   10.3489   11.7996    6.7911 C   0  0  0  0  0  0  0  0  0  0  0  0\\n   12.2759   10.2096    6.5326 C   0  0  0  0  0  0  0  0  0  0  0  0\\n   12.8802   10.5950    5.1890 C   0  0  0  0  0  0  0  0  0  0  0  0\\n   12.6562    9.7865    2.8328 C   0  0  0  0  0  0  0  0  0  0  0  0\\n   11.6391    9.4666    1.7993 C   0  0  0  0  0  0  0  0  0  0  0  0\\n    9.4296    8.9713    1.3576 C   0  0  0  0  0  0  0  0  0  0  0  0\\n    8.1123    8.6996    1.9786 C   0  0  0  0  0  0  0  0  0  0  0  0\\n    5.6488    8.9157    1.7050 C   0  0  0  0  0  0  0  0  0  0  0  0\\n    5.1433   10.2913    2.1403 C   0  0  0  0  0  0  0  0  0  0  0  0\\n    6.2217   11.6788    6.1022 C   0  0  0  0  0  0  0  0  0  0  0  0\\n    6.6762   11.8611    7.4070 C   0  0  0  0  0  0  0  0  0  0  0  0\\n    8.0411   11.9541    7.6636 C   0  0  0  0  0  0  0  0  0  0  0  0\\n   11.9588    9.4868    0.4451 C   0  0  0  0  0  0  0  0  0  0  0  0\\n   10.9353    9.2415   -0.4685 C   0  0  0  0  0  0  0  0  0  0  0  0\\n    9.6456    8.9789   -0.0151 C   0  0  0  0  0  0  0  0  0  0  0  0\\n  4 20  2  0\\n  5 22  1  0\\n  5 11  1  0\\n  6 13  1  0\\n  7 15  1  0\\n  8 17  1  0\\n  8 16  1  0\\n  9 18  2  0\\n 10 20  1  0\\n 11  1  2  0\\n 12 11  1  0\\n 12  6  2  0\\n 13 14  1  0\\n 14  2  2  0\\n 14  7  1  0\\n 15 16  1  0\\n 17  3  2  0\\n 18 26  1  0\\n 18 17  1  0\\n 19 28  2  0\\n 19  9  1  0\\n 20 19  1  0\\n 21 10  1  0\\n 22 21  1  0\\n 23 12  1  0\\n 23 24  2  0\\n 24 25  1  0\\n 25 13  2  0\\n 27 26  2  0\\n 28 27  1  0\\nM  END\\n\",\"sdf\");\n",
       "\tviewer_14978609135507078.addModel(\"m1_crystal.xyz\\n     RDKit          3D\\n\\n 28 30  0  0  0  0  0  0  0  0999 V2000\\n    5.5571   11.3247    3.3900 O   0  0  0  0  0  0  0  0  0  0  0  0\\n   10.8382   11.9571    7.9212 O   0  0  0  0  0  0  0  0  0  0  0  0\\n   14.1082    7.9376    4.7684 O   0  0  0  0  0  0  0  0  0  0  0  0\\n    9.2598    8.2616   -0.2512 O   0  0  0  0  0  0  0  0  0  0  0  0\\n    7.7958   11.2235    2.7904 N   0  0  0  0  0  0  0  0  0  0  0  0\\n    8.5001   11.6773    5.3008 N   0  0  0  0  0  0  0  0  0  0  0  0\\n   11.1199   11.9644    5.6178 N   0  0  0  0  0  0  0  0  0  0  0  0\\n   12.6843    9.7432    4.4588 N   0  0  0  0  0  0  0  0  0  0  0  0\\n   11.6162    8.5485    2.3508 N   0  0  0  0  0  0  0  0  0  0  0  0\\n    9.8919   10.0827    1.0408 N   0  0  0  0  0  0  0  0  0  0  0  0\\n    6.7466   11.3722    3.6830 C   0  0  0  0  0  0  0  0  0  0  0  0\\n    7.1659   11.5897    5.0894 C   0  0  0  0  0  0  0  0  0  0  0  0\\n    8.9086   11.8550    6.5785 C   0  0  0  0  0  0  0  0  0  0  0  0\\n   10.3754   11.9320    6.7851 C   0  0  0  0  0  0  0  0  0  0  0  0\\n   12.5730   11.9224    5.6011 C   0  0  0  0  0  0  0  0  0  0  0  0\\n   13.0933   10.4914    5.6351 C   0  0  0  0  0  0  0  0  0  0  0  0\\n   13.2009    8.4931    4.1590 C   0  0  0  0  0  0  0  0  0  0  0  0\\n   12.5501    7.8215    3.0072 C   0  0  0  0  0  0  0  0  0  0  0  0\\n   10.9973    7.9535    1.3047 C   0  0  0  0  0  0  0  0  0  0  0  0\\n    9.9667    8.7666    0.6148 C   0  0  0  0  0  0  0  0  0  0  0  0\\n    8.8639   11.0029    0.5837 C   0  0  0  0  0  0  0  0  0  0  0  0\\n    7.5862   10.8595    1.4000 C   0  0  0  0  0  0  0  0  0  0  0  0\\n    6.2180   11.6806    6.1000 C   0  0  0  0  0  0  0  0  0  0  0  0\\n    6.6751   11.8616    7.4021 C   0  0  0  0  0  0  0  0  0  0  0  0\\n    8.0405   11.9482    7.6581 C   0  0  0  0  0  0  0  0  0  0  0  0\\n   12.8979    6.5228    2.6603 C   0  0  0  0  0  0  0  0  0  0  0  0\\n   12.2394    5.9418    1.5798 C   0  0  0  0  0  0  0  0  0  0  0  0\\n   11.2690    6.6584    0.8848 C   0  0  0  0  0  0  0  0  0  0  0  0\\n  1 11  2  0\\n  4 20  2  0\\n  6 13  2  0\\n  7 15  1  0\\n  8 16  1  0\\n  9 18  1  0\\n 11  5  1  0\\n 11 12  1  0\\n 12  6  1  0\\n 13 14  1  0\\n 14  7  1  0\\n 14  2  2  0\\n 16 15  1  0\\n 17  3  2  0\\n 17  8  1  0\\n 18 17  1  0\\n 19  9  2  0\\n 20 19  1  0\\n 20 10  1  0\\n 21 10  1  0\\n 22 21  1  0\\n 22  5  1  0\\n 23 12  2  0\\n 23 24  1  0\\n 24 25  2  0\\n 25 13  1  0\\n 26 18  2  0\\n 27 26  1  0\\n 28 27  2  0\\n 28 19  1  0\\nM  END\\n\",\"sdf\");\n",
       "\tviewer_14978609135507078.addModel(\"m1_sa_aa.xyz\\n     RDKit          3D\\n\\n 28 30  0  0  0  0  0  0  0  0999 V2000\\n    7.1607   12.0697    2.8299 O   0  0  0  0  0  0  0  0  0  0  0  0\\n   11.0585   11.7414    5.6562 O   0  0  0  0  0  0  0  0  0  0  0  0\\n   11.1881    7.9017    9.5568 O   0  0  0  0  0  0  0  0  0  0  0  0\\n    9.9662    9.2804    3.8656 O   0  0  0  0  0  0  0  0  0  0  0  0\\n    6.2658   10.0302    3.5469 N   0  0  0  0  0  0  0  0  0  0  0  0\\n    8.4969   11.6871    5.3043 N   0  0  0  0  0  0  0  0  0  0  0  0\\n   10.9443   11.9334    7.9583 N   0  0  0  0  0  0  0  0  0  0  0  0\\n   11.9836    9.2932    7.8689 N   0  0  0  0  0  0  0  0  0  0  0  0\\n   10.2467    8.1278    6.2046 N   0  0  0  0  0  0  0  0  0  0  0  0\\n    8.1935    7.9183    3.2394 N   0  0  0  0  0  0  0  0  0  0  0  0\\n    6.8259   11.2836    3.7084 C   0  0  0  0  0  0  0  0  0  0  0  0\\n    7.1663   11.5886    5.1018 C   0  0  0  0  0  0  0  0  0  0  0  0\\n    8.9180   11.8471    6.5792 C   0  0  0  0  0  0  0  0  0  0  0  0\\n   10.3971   11.8499    6.6884 C   0  0  0  0  0  0  0  0  0  0  0  0\\n   12.3626   11.7091    8.1987 C   0  0  0  0  0  0  0  0  0  0  0  0\\n   12.6334   10.2902    8.7018 C   0  0  0  0  0  0  0  0  0  0  0  0\\n   11.2623    8.2253    8.3761 C   0  0  0  0  0  0  0  0  0  0  0  0\\n   10.5078    7.4626    7.3553 C   0  0  0  0  0  0  0  0  0  0  0  0\\n    9.4790    7.4970    5.2839 C   0  0  0  0  0  0  0  0  0  0  0  0\\n    9.2434    8.3051    4.0637 C   0  0  0  0  0  0  0  0  0  0  0  0\\n    7.7741    8.7072    2.0908 C   0  0  0  0  0  0  0  0  0  0  0  0\\n    6.3766    9.3033    2.2924 C   0  0  0  0  0  0  0  0  0  0  0  0\\n    6.2112   11.6745    6.0968 C   0  0  0  0  0  0  0  0  0  0  0  0\\n    6.6729   11.8673    7.3946 C   0  0  0  0  0  0  0  0  0  0  0  0\\n    8.0429   11.9477    7.6522 C   0  0  0  0  0  0  0  0  0  0  0  0\\n   10.0589    6.1765    7.6239 C   0  0  0  0  0  0  0  0  0  0  0  0\\n    9.2883    5.5493    6.6528 C   0  0  0  0  0  0  0  0  0  0  0  0\\n    8.9827    6.2107    5.4633 C   0  0  0  0  0  0  0  0  0  0  0  0\\n  4 20  2  0\\n  5 22  1  0\\n  5 11  1  0\\n  6 13  1  0\\n  7 15  1  0\\n  8 17  1  0\\n  8 16  1  0\\n  9 18  2  0\\n 10 20  1  0\\n 11  1  2  0\\n 12 11  1  0\\n 12  6  2  0\\n 13 14  1  0\\n 14  2  2  0\\n 14  7  1  0\\n 15 16  1  0\\n 17  3  2  0\\n 18 26  1  0\\n 18 17  1  0\\n 19 28  2  0\\n 19  9  1  0\\n 20 19  1  0\\n 21 10  1  0\\n 22 21  1  0\\n 23 12  1  0\\n 23 24  2  0\\n 24 25  1  0\\n 25 13  2  0\\n 27 26  2  0\\n 28 27  1  0\\nM  END\\n\",\"sdf\");\n",
       "\tviewer_14978609135507078.addModel(\"m1_sa_aa.xyz\\n     RDKit          3D\\n\\n 28 30  0  0  0  0  0  0  0  0999 V2000\\n    5.6445   10.8224    3.4746 O   0  0  0  0  0  0  0  0  0  0  0  0\\n   11.0634   11.9935    5.6941 O   0  0  0  0  0  0  0  0  0  0  0  0\\n   10.7080    7.6503    8.5495 O   0  0  0  0  0  0  0  0  0  0  0  0\\n   10.7958    9.9680    3.0235 O   0  0  0  0  0  0  0  0  0  0  0  0\\n    7.7156   11.5786    2.7413 N   0  0  0  0  0  0  0  0  0  0  0  0\\n    8.4967   11.6845    5.3019 N   0  0  0  0  0  0  0  0  0  0  0  0\\n   10.9203   11.6385    7.9826 N   0  0  0  0  0  0  0  0  0  0  0  0\\n   11.9971    9.0909    7.2564 N   0  0  0  0  0  0  0  0  0  0  0  0\\n   10.4512    8.4864    5.1616 N   0  0  0  0  0  0  0  0  0  0  0  0\\n    8.9192    9.1075    1.9603 N   0  0  0  0  0  0  0  0  0  0  0  0\\n    6.7513   11.3004    3.6968 C   0  0  0  0  0  0  0  0  0  0  0  0\\n    7.1637   11.5919    5.0903 C   0  0  0  0  0  0  0  0  0  0  0  0\\n    8.9142   11.8448    6.5829 C   0  0  0  0  0  0  0  0  0  0  0  0\\n   10.3925   11.8509    6.7148 C   0  0  0  0  0  0  0  0  0  0  0  0\\n   12.3340   11.3508    8.1844 C   0  0  0  0  0  0  0  0  0  0  0  0\\n   12.5905    9.8526    8.3417 C   0  0  0  0  0  0  0  0  0  0  0  0\\n   11.0310    8.1185    7.4636 C   0  0  0  0  0  0  0  0  0  0  0  0\\n   10.3429    7.6664    6.2324 C   0  0  0  0  0  0  0  0  0  0  0  0\\n    9.7683    8.1413    4.0428 C   0  0  0  0  0  0  0  0  0  0  0  0\\n    9.8868    9.1421    2.9562 C   0  0  0  0  0  0  0  0  0  0  0  0\\n    8.7731   10.1921    0.9991 C   0  0  0  0  0  0  0  0  0  0  0  0\\n    7.6161   11.1193    1.3650 C   0  0  0  0  0  0  0  0  0  0  0  0\\n    6.2159   11.6727    6.0988 C   0  0  0  0  0  0  0  0  0  0  0  0\\n    6.6747   11.8654    7.3982 C   0  0  0  0  0  0  0  0  0  0  0  0\\n    8.0429   11.9531    7.6568 C   0  0  0  0  0  0  0  0  0  0  0  0\\n    9.5918    6.5010    6.2346 C   0  0  0  0  0  0  0  0  0  0  0  0\\n    8.9301    6.1576    5.0596 C   0  0  0  0  0  0  0  0  0  0  0  0\\n    9.0110    6.9830    3.9401 C   0  0  0  0  0  0  0  0  0  0  0  0\\n  4 20  2  0\\n  5 22  1  0\\n  5 11  1  0\\n  6 13  1  0\\n  7 15  1  0\\n  8 17  1  0\\n  8 16  1  0\\n  9 18  2  0\\n 10 20  1  0\\n 11  1  2  0\\n 12 11  1  0\\n 12  6  2  0\\n 13 14  1  0\\n 14  2  2  0\\n 14  7  1  0\\n 15 16  1  0\\n 17  3  2  0\\n 18 26  1  0\\n 18 17  1  0\\n 19 28  2  0\\n 19  9  1  0\\n 20 19  1  0\\n 21 10  1  0\\n 22 21  1  0\\n 23 12  1  0\\n 23 24  2  0\\n 24 25  1  0\\n 25 13  2  0\\n 27 26  2  0\\n 28 27  1  0\\nM  END\\n\",\"sdf\");\n",
       "\tviewer_14978609135507078.addModel(\"m1_ss_aa.xyz\\n     RDKit          3D\\n\\n 28 30  0  0  0  0  0  0  0  0999 V2000\\n    5.6287   11.4772    3.2935 O   0  0  0  0  0  0  0  0  0  0  0  0\\n   11.0591   11.2466    5.9387 O   0  0  0  0  0  0  0  0  0  0  0  0\\n   14.2741   15.4646    4.7459 O   0  0  0  0  0  0  0  0  0  0  0  0\\n    9.4819   14.1559   -0.1172 O   0  0  0  0  0  0  0  0  0  0  0  0\\n    7.9089   11.4459    2.8291 N   0  0  0  0  0  0  0  0  0  0  0  0\\n    8.4944   11.6690    5.3113 N   0  0  0  0  0  0  0  0  0  0  0  0\\n   10.8495   12.8936    7.5636 N   0  0  0  0  0  0  0  0  0  0  0  0\\n   12.3059   14.3968    5.3563 N   0  0  0  0  0  0  0  0  0  0  0  0\\n   11.6848   14.4018    2.6213 N   0  0  0  0  0  0  0  0  0  0  0  0\\n   10.1665   12.4870    1.3296 N   0  0  0  0  0  0  0  0  0  0  0  0\\n    6.7983   11.4911    3.6535 C   0  0  0  0  0  0  0  0  0  0  0  0\\n    7.1639   11.6005    5.0878 C   0  0  0  0  0  0  0  0  0  0  0  0\\n    8.9078   11.8548    6.5784 C   0  0  0  0  0  0  0  0  0  0  0  0\\n   10.3739   11.9469    6.6787 C   0  0  0  0  0  0  0  0  0  0  0  0\\n   12.2496   13.2681    7.5955 C   0  0  0  0  0  0  0  0  0  0  0  0\\n   12.5223   14.5358    6.7942 C   0  0  0  0  0  0  0  0  0  0  0  0\\n   13.1596   15.0306    4.4614 C   0  0  0  0  0  0  0  0  0  0  0  0\\n   12.6385   15.2474    3.0902 C   0  0  0  0  0  0  0  0  0  0  0  0\\n   11.2244   14.6684    1.3683 C   0  0  0  0  0  0  0  0  0  0  0  0\\n   10.2011   13.7608    0.7957 C   0  0  0  0  0  0  0  0  0  0  0  0\\n    9.2782   11.4525    0.8126 C   0  0  0  0  0  0  0  0  0  0  0  0\\n    7.8700   11.5665    1.3865 C   0  0  0  0  0  0  0  0  0  0  0  0\\n    6.2160   11.6770    6.0941 C   0  0  0  0  0  0  0  0  0  0  0  0\\n    6.6793   11.8548    7.3988 C   0  0  0  0  0  0  0  0  0  0  0  0\\n    8.0467   11.9565    7.6585 C   0  0  0  0  0  0  0  0  0  0  0  0\\n   13.1482   16.3252    2.3678 C   0  0  0  0  0  0  0  0  0  0  0  0\\n   12.6406   16.5654    1.0982 C   0  0  0  0  0  0  0  0  0  0  0  0\\n   11.6597   15.7322    0.5819 C   0  0  0  0  0  0  0  0  0  0  0  0\\n  4 20  2  0\\n  5 22  1  0\\n  5 11  1  0\\n  6 13  1  0\\n  7 15  1  0\\n  8 17  1  0\\n  8 16  1  0\\n  9 18  2  0\\n 10 20  1  0\\n 11  1  2  0\\n 12 11  1  0\\n 12  6  2  0\\n 13 14  1  0\\n 14  2  2  0\\n 14  7  1  0\\n 15 16  1  0\\n 17  3  2  0\\n 18 26  1  0\\n 18 17  1  0\\n 19 28  2  0\\n 19  9  1  0\\n 20 19  1  0\\n 21 10  1  0\\n 22 21  1  0\\n 23 12  1  0\\n 23 24  2  0\\n 24 25  1  0\\n 25 13  2  0\\n 27 26  2  0\\n 28 27  1  0\\nM  END\\n\",\"sdf\");\n",
       "\tviewer_14978609135507078.addModel(\"m1_ss_aa.xyz\\n     RDKit          3D\\n\\n 28 30  0  0  0  0  0  0  0  0999 V2000\\n    6.9379   12.0882    2.8427 O   0  0  0  0  0  0  0  0  0  0  0  0\\n   11.0554   12.6509    6.2617 O   0  0  0  0  0  0  0  0  0  0  0  0\\n   12.7391    6.9222    6.7181 O   0  0  0  0  0  0  0  0  0  0  0  0\\n    7.5652    6.1100    2.0754 O   0  0  0  0  0  0  0  0  0  0  0  0\\n    6.3995    9.9355    3.5815 N   0  0  0  0  0  0  0  0  0  0  0  0\\n    8.5058   11.6902    5.2913 N   0  0  0  0  0  0  0  0  0  0  0  0\\n   10.7654   10.6472    7.4301 N   0  0  0  0  0  0  0  0  0  0  0  0\\n   11.8189    8.6952    5.5454 N   0  0  0  0  0  0  0  0  0  0  0  0\\n   10.1335    7.0133    4.3305 N   0  0  0  0  0  0  0  0  0  0  0  0\\n    8.4867    8.1759    2.5787 N   0  0  0  0  0  0  0  0  0  0  0  0\\n    6.7995   11.2512    3.7251 C   0  0  0  0  0  0  0  0  0  0  0  0\\n    7.1742   11.5869    5.1007 C   0  0  0  0  0  0  0  0  0  0  0  0\\n    8.8977   11.8433    6.5735 C   0  0  0  0  0  0  0  0  0  0  0  0\\n   10.3501   11.7826    6.7592 C   0  0  0  0  0  0  0  0  0  0  0  0\\n   12.1545   10.2290    7.4690 C   0  0  0  0  0  0  0  0  0  0  0  0\\n   12.6530    9.7443    6.1086 C   0  0  0  0  0  0  0  0  0  0  0  0\\n   11.9311    7.3643    5.9075 C   0  0  0  0  0  0  0  0  0  0  0  0\\n   10.9780    6.4498    5.2285 C   0  0  0  0  0  0  0  0  0  0  0  0\\n    9.2710    6.1808    3.6970 C   0  0  0  0  0  0  0  0  0  0  0  0\\n    8.3571    6.8041    2.7063 C   0  0  0  0  0  0  0  0  0  0  0  0\\n    7.6601    8.9754    1.6877 C   0  0  0  0  0  0  0  0  0  0  0  0\\n    6.2905    9.2912    2.2850 C   0  0  0  0  0  0  0  0  0  0  0  0\\n    6.2177   11.6730    6.1017 C   0  0  0  0  0  0  0  0  0  0  0  0\\n    6.6731   11.8728    7.4024 C   0  0  0  0  0  0  0  0  0  0  0  0\\n    8.0397   11.9463    7.6592 C   0  0  0  0  0  0  0  0  0  0  0  0\\n   10.9962    5.0916    5.5220 C   0  0  0  0  0  0  0  0  0  0  0  0\\n   10.0955    4.2685    4.8540 C   0  0  0  0  0  0  0  0  0  0  0  0\\n    9.2151    4.8110    3.9236 C   0  0  0  0  0  0  0  0  0  0  0  0\\n  4 20  2  0\\n  5 22  1  0\\n  5 11  1  0\\n  6 13  1  0\\n  7 15  1  0\\n  8 17  1  0\\n  8 16  1  0\\n  9 18  2  0\\n 10 20  1  0\\n 11  1  2  0\\n 12 11  1  0\\n 12  6  2  0\\n 13 14  1  0\\n 14  2  2  0\\n 14  7  1  0\\n 15 16  1  0\\n 17  3  2  0\\n 18 26  1  0\\n 18 17  1  0\\n 19 28  2  0\\n 19  9  1  0\\n 20 19  1  0\\n 21 10  1  0\\n 22 21  1  0\\n 23 12  1  0\\n 23 24  2  0\\n 24 25  1  0\\n 25 13  2  0\\n 27 26  2  0\\n 28 27  1  0\\nM  END\\n\",\"sdf\");\n",
       "\tviewer_14978609135507078.addModel(\"m1_sa_sa.xyz\\n     RDKit          3D\\n\\n 28 30  0  0  0  0  0  0  0  0999 V2000\\n    7.6084   11.8451    2.8224 O   0  0  0  0  0  0  0  0  0  0  0  0\\n   10.8777   12.0561    7.8707 O   0  0  0  0  0  0  0  0  0  0  0  0\\n   13.5782    8.7699    3.7187 O   0  0  0  0  0  0  0  0  0  0  0  0\\n    8.1722    9.7479    0.6205 O   0  0  0  0  0  0  0  0  0  0  0  0\\n    5.6703   10.6942    3.3874 N   0  0  0  0  0  0  0  0  0  0  0  0\\n    8.4945   11.6815    5.3054 N   0  0  0  0  0  0  0  0  0  0  0  0\\n   11.0811   11.7783    5.5730 N   0  0  0  0  0  0  0  0  0  0  0  0\\n   12.2551   10.6131    3.2450 N   0  0  0  0  0  0  0  0  0  0  0  0\\n   10.3517    8.9980    2.2882 N   0  0  0  0  0  0  0  0  0  0  0  0\\n    6.9786    8.4016    2.1080 N   0  0  0  0  0  0  0  0  0  0  0  0\\n    6.8287   11.4028    3.6620 C   0  0  0  0  0  0  0  0  0  0  0  0\\n    7.1640   11.5880    5.0877 C   0  0  0  0  0  0  0  0  0  0  0  0\\n    8.9095   11.8522    6.5812 C   0  0  0  0  0  0  0  0  0  0  0  0\\n   10.3820   11.9150    6.7594 C   0  0  0  0  0  0  0  0  0  0  0  0\\n   12.5166   11.5763    5.4968 C   0  0  0  0  0  0  0  0  0  0  0  0\\n   12.9884   11.5858    4.0443 C   0  0  0  0  0  0  0  0  0  0  0  0\\n   12.5535    9.2613    3.2552 C   0  0  0  0  0  0  0  0  0  0  0  0\\n   11.4945    8.3867    2.6898 C   0  0  0  0  0  0  0  0  0  0  0  0\\n    9.3532    8.1819    1.8766 C   0  0  0  0  0  0  0  0  0  0  0  0\\n    8.1133    8.8594    1.4624 C   0  0  0  0  0  0  0  0  0  0  0  0\\n    5.6249    8.8147    1.7741 C   0  0  0  0  0  0  0  0  0  0  0  0\\n    5.3241   10.2884    2.0359 C   0  0  0  0  0  0  0  0  0  0  0  0\\n    6.2172   11.6784    6.0957 C   0  0  0  0  0  0  0  0  0  0  0  0\\n    6.6779   11.8637    7.3992 C   0  0  0  0  0  0  0  0  0  0  0  0\\n    8.0451   11.9487    7.6597 C   0  0  0  0  0  0  0  0  0  0  0  0\\n   11.6871    7.0096    2.6616 C   0  0  0  0  0  0  0  0  0  0  0  0\\n   10.6402    6.2129    2.2077 C   0  0  0  0  0  0  0  0  0  0  0  0\\n    9.4437    6.7979    1.8114 C   0  0  0  0  0  0  0  0  0  0  0  0\\n  1 11  2  0\\n  5 11  1  0\\n  6 13  2  0\\n  7 14  1  0\\n  7 15  1  0\\n  8 16  1  0\\n  9 18  1  0\\n 10 21  1  0\\n 10 20  1  0\\n 11 12  1  0\\n 12  6  1  0\\n 13 14  1  0\\n 14  2  2  0\\n 16 15  1  0\\n 17  3  2  0\\n 17  8  1  0\\n 18 17  1  0\\n 19 20  1  0\\n 19  9  2  0\\n 20  4  2  0\\n 22 21  1  0\\n 22  5  1  0\\n 23 12  2  0\\n 23 24  1  0\\n 24 25  2  0\\n 25 13  1  0\\n 26 18  2  0\\n 27 26  1  0\\n 28 27  2  0\\n 28 19  1  0\\nM  END\\n\",\"sdf\");\n",
       "\tviewer_14978609135507078.addModel(\"m1_sa_aa.xyz\\n     RDKit          3D\\n\\n 28 30  0  0  0  0  0  0  0  0999 V2000\\n    7.2746   11.9609    2.7948 O   0  0  0  0  0  0  0  0  0  0  0  0\\n   11.0720   12.5447    6.0990 O   0  0  0  0  0  0  0  0  0  0  0  0\\n   12.2848    7.1126    7.2349 O   0  0  0  0  0  0  0  0  0  0  0  0\\n    9.2939    9.2123    2.4718 O   0  0  0  0  0  0  0  0  0  0  0  0\\n    5.9026   10.2422    3.5701 N   0  0  0  0  0  0  0  0  0  0  0  0\\n    8.5058   11.6928    5.2906 N   0  0  0  0  0  0  0  0  0  0  0  0\\n   10.7787   10.8576    7.6863 N   0  0  0  0  0  0  0  0  0  0  0  0\\n   12.0190    9.0141    5.9301 N   0  0  0  0  0  0  0  0  0  0  0  0\\n   10.1321    7.8391    4.5396 N   0  0  0  0  0  0  0  0  0  0  0  0\\n    7.3009    8.0328    2.3379 N   0  0  0  0  0  0  0  0  0  0  0  0\\n    6.7799   11.3035    3.7028 C   0  0  0  0  0  0  0  0  0  0  0  0\\n    7.1718   11.5847    5.0951 C   0  0  0  0  0  0  0  0  0  0  0  0\\n    8.9010   11.8410    6.5759 C   0  0  0  0  0  0  0  0  0  0  0  0\\n   10.3605   11.8089    6.7731 C   0  0  0  0  0  0  0  0  0  0  0  0\\n   12.1717   10.5029    7.9106 C   0  0  0  0  0  0  0  0  0  0  0  0\\n   12.8655    9.9273    6.6761 C   0  0  0  0  0  0  0  0  0  0  0  0\\n   11.7467    7.7126    6.3115 C   0  0  0  0  0  0  0  0  0  0  0  0\\n   10.6819    7.0648    5.5035 C   0  0  0  0  0  0  0  0  0  0  0  0\\n    9.1228    7.3123    3.8066 C   0  0  0  0  0  0  0  0  0  0  0  0\\n    8.5883    8.2609    2.8014 C   0  0  0  0  0  0  0  0  0  0  0  0\\n    6.5958    9.0082    1.5184 C   0  0  0  0  0  0  0  0  0  0  0  0\\n    5.4769    9.7056    2.2894 C   0  0  0  0  0  0  0  0  0  0  0  0\\n    6.2194   11.6734    6.1039 C   0  0  0  0  0  0  0  0  0  0  0  0\\n    6.6723   11.8731    7.4043 C   0  0  0  0  0  0  0  0  0  0  0  0\\n    8.0378   11.9474    7.6591 C   0  0  0  0  0  0  0  0  0  0  0  0\\n   10.2742    5.7669    5.7653 C   0  0  0  0  0  0  0  0  0  0  0  0\\n    9.2422    5.2474    4.9869 C   0  0  0  0  0  0  0  0  0  0  0  0\\n    8.6479    6.0217    3.9901 C   0  0  0  0  0  0  0  0  0  0  0  0\\n  4 20  2  0\\n  5 22  1  0\\n  5 11  1  0\\n  6 13  1  0\\n  7 15  1  0\\n  8 17  1  0\\n  8 16  1  0\\n  9 18  2  0\\n 10 20  1  0\\n 11  1  2  0\\n 12 11  1  0\\n 12  6  2  0\\n 13 14  1  0\\n 14  2  2  0\\n 14  7  1  0\\n 15 16  1  0\\n 17  3  2  0\\n 18 26  1  0\\n 18 17  1  0\\n 19 28  2  0\\n 19  9  1  0\\n 20 19  1  0\\n 21 10  1  0\\n 22 21  1  0\\n 23 12  1  0\\n 23 24  2  0\\n 24 25  1  0\\n 25 13  2  0\\n 27 26  2  0\\n 28 27  1  0\\nM  END\\n\",\"sdf\");\n",
       "\tviewer_14978609135507078.addModel(\"m1_sa_aa.xyz\\n     RDKit          3D\\n\\n 28 30  0  0  0  0  0  0  0  0999 V2000\\n    5.5697   11.2337    3.3891 O   0  0  0  0  0  0  0  0  0  0  0  0\\n   11.0636   11.2073    6.0032 O   0  0  0  0  0  0  0  0  0  0  0  0\\n   14.8305   14.5316    4.9002 O   0  0  0  0  0  0  0  0  0  0  0  0\\n   10.7429   10.6384    2.7148 O   0  0  0  0  0  0  0  0  0  0  0  0\\n    7.7844   11.5433    2.7632 N   0  0  0  0  0  0  0  0  0  0  0  0\\n    8.4998   11.6697    5.3016 N   0  0  0  0  0  0  0  0  0  0  0  0\\n   10.8438   12.8014    7.6843 N   0  0  0  0  0  0  0  0  0  0  0  0\\n   12.7474   13.7467    5.5622 N   0  0  0  0  0  0  0  0  0  0  0  0\\n   12.3652   12.7548    3.1318 N   0  0  0  0  0  0  0  0  0  0  0  0\\n   10.0139   11.6387    0.7447 N   0  0  0  0  0  0  0  0  0  0  0  0\\n    6.7458   11.4339    3.6706 C   0  0  0  0  0  0  0  0  0  0  0  0\\n    7.1648   11.5980    5.0865 C   0  0  0  0  0  0  0  0  0  0  0  0\\n    8.9059   11.8556    6.5792 C   0  0  0  0  0  0  0  0  0  0  0  0\\n   10.3721   11.9087    6.7352 C   0  0  0  0  0  0  0  0  0  0  0  0\\n   12.2627   13.0575    7.8834 C   0  0  0  0  0  0  0  0  0  0  0  0\\n   12.7954   14.1485    6.9583 C   0  0  0  0  0  0  0  0  0  0  0  0\\n   13.7549   14.0007    4.6485 C   0  0  0  0  0  0  0  0  0  0  0  0\\n   13.4315   13.5790    3.2623 C   0  0  0  0  0  0  0  0  0  0  0  0\\n   12.0266   12.3853    1.8744 C   0  0  0  0  0  0  0  0  0  0  0  0\\n   10.8781   11.4615    1.8137 C   0  0  0  0  0  0  0  0  0  0  0  0\\n    8.7792   10.8797    0.6047 C   0  0  0  0  0  0  0  0  0  0  0  0\\n    7.6049   11.5415    1.3212 C   0  0  0  0  0  0  0  0  0  0  0  0\\n    6.2188   11.6780    6.0991 C   0  0  0  0  0  0  0  0  0  0  0  0\\n    6.6769   11.8574    7.4025 C   0  0  0  0  0  0  0  0  0  0  0  0\\n    8.0420   11.9536    7.6601 C   0  0  0  0  0  0  0  0  0  0  0  0\\n   14.1920   14.0285    2.1919 C   0  0  0  0  0  0  0  0  0  0  0  0\\n   13.8132   13.6233    0.9139 C   0  0  0  0  0  0  0  0  0  0  0  0\\n   12.7098   12.7925    0.7381 C   0  0  0  0  0  0  0  0  0  0  0  0\\n  4 20  2  0\\n  5 22  1  0\\n  5 11  1  0\\n  6 13  1  0\\n  7 15  1  0\\n  8 17  1  0\\n  8 16  1  0\\n  9 18  2  0\\n 10 20  1  0\\n 11  1  2  0\\n 12 11  1  0\\n 12  6  2  0\\n 13 14  1  0\\n 14  2  2  0\\n 14  7  1  0\\n 15 16  1  0\\n 17  3  2  0\\n 18 26  1  0\\n 18 17  1  0\\n 19 28  2  0\\n 19  9  1  0\\n 20 19  1  0\\n 21 10  1  0\\n 22 21  1  0\\n 23 12  1  0\\n 23 24  2  0\\n 24 25  1  0\\n 25 13  2  0\\n 27 26  2  0\\n 28 27  1  0\\nM  END\\n\",\"sdf\");\n",
       "\tviewer_14978609135507078.addModel(\"m1_ss_sa.xyz\\n     RDKit          3D\\n\\n 28 30  0  0  0  0  0  0  0  0999 V2000\\n    5.6083   11.7463    3.3323 O   0  0  0  0  0  0  0  0  0  0  0  0\\n   11.1052   11.3130    6.0554 O   0  0  0  0  0  0  0  0  0  0  0  0\\n   14.5567   13.5563    5.1020 O   0  0  0  0  0  0  0  0  0  0  0  0\\n   10.5905   12.3296   -0.5203 O   0  0  0  0  0  0  0  0  0  0  0  0\\n    7.8204   11.2707    2.7999 N   0  0  0  0  0  0  0  0  0  0  0  0\\n    8.5006   11.6631    5.3038 N   0  0  0  0  0  0  0  0  0  0  0  0\\n   10.7404   13.1125    7.4907 N   0  0  0  0  0  0  0  0  0  0  0  0\\n   12.3166   14.1417    5.0577 N   0  0  0  0  0  0  0  0  0  0  0  0\\n   12.1476   13.1655    2.5458 N   0  0  0  0  0  0  0  0  0  0  0  0\\n    9.6809   13.0918    1.4676 N   0  0  0  0  0  0  0  0  0  0  0  0\\n    6.7693   11.5342    3.6633 C   0  0  0  0  0  0  0  0  0  0  0  0\\n    7.1672   11.5986    5.0886 C   0  0  0  0  0  0  0  0  0  0  0  0\\n    8.9036   11.8621    6.5757 C   0  0  0  0  0  0  0  0  0  0  0  0\\n   10.3595   12.0432    6.7003 C   0  0  0  0  0  0  0  0  0  0  0  0\\n   12.0930   13.6410    7.4839 C   0  0  0  0  0  0  0  0  0  0  0  0\\n   12.2712   14.7015    6.3993 C   0  0  0  0  0  0  0  0  0  0  0  0\\n   13.4834   13.6370    4.5102 C   0  0  0  0  0  0  0  0  0  0  0  0\\n   13.3848   13.1950    3.0986 C   0  0  0  0  0  0  0  0  0  0  0  0\\n   12.0740   12.7802    1.2471 C   0  0  0  0  0  0  0  0  0  0  0  0\\n   10.7226   12.7138    0.6375 C   0  0  0  0  0  0  0  0  0  0  0  0\\n    8.2843   12.9506    1.0818 C   0  0  0  0  0  0  0  0  0  0  0  0\\n    7.7605   11.5464    1.3755 C   0  0  0  0  0  0  0  0  0  0  0  0\\n    6.2178   11.6842    6.0981 C   0  0  0  0  0  0  0  0  0  0  0  0\\n    6.6766   11.8510    7.4038 C   0  0  0  0  0  0  0  0  0  0  0  0\\n    8.0424   11.9534    7.6588 C   0  0  0  0  0  0  0  0  0  0  0  0\\n   14.5472   12.8567    2.4146 C   0  0  0  0  0  0  0  0  0  0  0  0\\n   14.4326   12.4765    1.0835 C   0  0  0  0  0  0  0  0  0  0  0  0\\n   13.1817   12.4338    0.4802 C   0  0  0  0  0  0  0  0  0  0  0  0\\n  1 11  2  0\\n  4 20  2  0\\n  6 13  2  0\\n  7 15  1  0\\n  8 17  1  0\\n  8 16  1  0\\n  9 18  2  0\\n 10 20  1  0\\n 11  5  1  0\\n 11 12  1  0\\n 12  6  1  0\\n 13 14  1  0\\n 14  7  1  0\\n 14  2  2  0\\n 15 16  1  0\\n 17  3  2  0\\n 18 26  1  0\\n 18 17  1  0\\n 19 28  2  0\\n 19  9  1  0\\n 20 19  1  0\\n 21 10  1  0\\n 22  5  1  0\\n 22 21  1  0\\n 23 12  2  0\\n 23 24  1  0\\n 24 25  2  0\\n 25 13  1  0\\n 27 26  2  0\\n 28 27  1  0\\nM  END\\n\",\"sdf\");\n",
       "\tviewer_14978609135507078.addModel(\"m1_crystal.xyz\\n     RDKit          3D\\n\\n 28 30  0  0  0  0  0  0  0  0999 V2000\\n    5.5738   11.2136    3.3920 O   0  0  0  0  0  0  0  0  0  0  0  0\\n   10.8472   11.7041    7.8931 O   0  0  0  0  0  0  0  0  0  0  0  0\\n   13.5789    8.7686    5.6499 O   0  0  0  0  0  0  0  0  0  0  0  0\\n    7.4879    6.6920    2.9514 O   0  0  0  0  0  0  0  0  0  0  0  0\\n    7.8206   11.2144    2.8039 N   0  0  0  0  0  0  0  0  0  0  0  0\\n    8.4991   11.6792    5.3023 N   0  0  0  0  0  0  0  0  0  0  0  0\\n   11.0983   12.1191    5.6203 N   0  0  0  0  0  0  0  0  0  0  0  0\\n   12.3168   10.0237    4.1574 N   0  0  0  0  0  0  0  0  0  0  0  0\\n   10.5919    8.0380    3.9191 N   0  0  0  0  0  0  0  0  0  0  0  0\\n    8.6418    8.5508    2.1779 N   0  0  0  0  0  0  0  0  0  0  0  0\\n    6.7580   11.3356    3.6843 C   0  0  0  0  0  0  0  0  0  0  0  0\\n    7.1658   11.5895    5.0894 C   0  0  0  0  0  0  0  0  0  0  0  0\\n    8.9077   11.8539    6.5787 C   0  0  0  0  0  0  0  0  0  0  0  0\\n   10.3739   11.8896    6.7780 C   0  0  0  0  0  0  0  0  0  0  0  0\\n   12.5483   12.0420    5.5580 C   0  0  0  0  0  0  0  0  0  0  0  0\\n   13.0141   11.2877    4.3158 C   0  0  0  0  0  0  0  0  0  0  0  0\\n   12.6083    8.8991    4.9116 C   0  0  0  0  0  0  0  0  0  0  0  0\\n   11.5998    7.8156    4.7966 C   0  0  0  0  0  0  0  0  0  0  0  0\\n    9.6281    7.0930    3.8356 C   0  0  0  0  0  0  0  0  0  0  0  0\\n    8.4860    7.4052    2.9418 C   0  0  0  0  0  0  0  0  0  0  0  0\\n    7.5344    9.1723    1.4670 C   0  0  0  0  0  0  0  0  0  0  0  0\\n    7.6759   10.6911    1.4553 C   0  0  0  0  0  0  0  0  0  0  0  0\\n    6.2180   11.6786    6.0988 C   0  0  0  0  0  0  0  0  0  0  0  0\\n    6.6755   11.8640    7.4016 C   0  0  0  0  0  0  0  0  0  0  0  0\\n    8.0421   11.9473    7.6580 C   0  0  0  0  0  0  0  0  0  0  0  0\\n   11.6919    6.6811    5.5919 C   0  0  0  0  0  0  0  0  0  0  0  0\\n   10.6848    5.7273    5.4760 C   0  0  0  0  0  0  0  0  0  0  0  0\\n    9.6294    5.9263    4.5885 C   0  0  0  0  0  0  0  0  0  0  0  0\\n  1 11  2  0\\n  4 20  2  0\\n  6 13  2  0\\n  7 15  1  0\\n  8 16  1  0\\n  9 18  1  0\\n 11  5  1  0\\n 11 12  1  0\\n 12  6  1  0\\n 13 14  1  0\\n 14  7  1  0\\n 14  2  2  0\\n 16 15  1  0\\n 17  3  2  0\\n 17  8  1  0\\n 18 17  1  0\\n 19  9  2  0\\n 20 19  1  0\\n 20 10  1  0\\n 21 10  1  0\\n 22 21  1  0\\n 22  5  1  0\\n 23 12  2  0\\n 23 24  1  0\\n 24 25  2  0\\n 25 13  1  0\\n 26 18  2  0\\n 27 26  1  0\\n 28 27  2  0\\n 28 19  1  0\\nM  END\\n\",\"sdf\");\n",
       "\tviewer_14978609135507078.addModel(\"m1_ss_aa.xyz\\n     RDKit          3D\\n\\n 28 30  0  0  0  0  0  0  0  0999 V2000\\n    5.5620   11.6503    3.3671 O   0  0  0  0  0  0  0  0  0  0  0  0\\n   11.1145   11.1974    6.2825 O   0  0  0  0  0  0  0  0  0  0  0  0\\n   11.4779   16.8414    6.0044 O   0  0  0  0  0  0  0  0  0  0  0  0\\n    7.3024   14.9415    0.7187 O   0  0  0  0  0  0  0  0  0  0  0  0\\n    7.7920   11.4272    2.7653 N   0  0  0  0  0  0  0  0  0  0  0  0\\n    8.5031   11.6640    5.2991 N   0  0  0  0  0  0  0  0  0  0  0  0\\n   10.6932   13.2546    7.3003 N   0  0  0  0  0  0  0  0  0  0  0  0\\n   11.4969   14.7428    5.0160 N   0  0  0  0  0  0  0  0  0  0  0  0\\n    9.5980   15.4937    3.3406 N   0  0  0  0  0  0  0  0  0  0  0  0\\n    9.0513   13.6493    1.5277 N   0  0  0  0  0  0  0  0  0  0  0  0\\n    6.7469   11.5467    3.6653 C   0  0  0  0  0  0  0  0  0  0  0  0\\n    7.1680   11.6008    5.0866 C   0  0  0  0  0  0  0  0  0  0  0  0\\n    8.8986   11.8582    6.5759 C   0  0  0  0  0  0  0  0  0  0  0  0\\n   10.3491   12.0435    6.7280 C   0  0  0  0  0  0  0  0  0  0  0  0\\n   12.0420   13.7908    7.2581 C   0  0  0  0  0  0  0  0  0  0  0  0\\n   12.5153   14.1155    5.8407 C   0  0  0  0  0  0  0  0  0  0  0  0\\n   11.0466   16.0402    5.1830 C   0  0  0  0  0  0  0  0  0  0  0  0\\n    9.9378   16.4191    4.2682 C   0  0  0  0  0  0  0  0  0  0  0  0\\n    8.5848   15.8044    2.4988 C   0  0  0  0  0  0  0  0  0  0  0  0\\n    8.2410   14.7714    1.4895 C   0  0  0  0  0  0  0  0  0  0  0  0\\n    8.7918   12.4424    0.7587 C   0  0  0  0  0  0  0  0  0  0  0  0\\n    7.6340   11.6295    1.3344 C   0  0  0  0  0  0  0  0  0  0  0  0\\n    6.2207   11.6808    6.1005 C   0  0  0  0  0  0  0  0  0  0  0  0\\n    6.6772   11.8529    7.4058 C   0  0  0  0  0  0  0  0  0  0  0  0\\n    8.0406   11.9557    7.6610 C   0  0  0  0  0  0  0  0  0  0  0  0\\n    9.3046   17.6480    4.3915 C   0  0  0  0  0  0  0  0  0  0  0  0\\n    8.2582   17.9300    3.5163 C   0  0  0  0  0  0  0  0  0  0  0  0\\n    7.8822   16.9995    2.5516 C   0  0  0  0  0  0  0  0  0  0  0  0\\n  4 20  2  0\\n  5 22  1  0\\n  5 11  1  0\\n  6 13  1  0\\n  7 15  1  0\\n  8 17  1  0\\n  8 16  1  0\\n  9 18  2  0\\n 10 20  1  0\\n 11  1  2  0\\n 12 11  1  0\\n 12  6  2  0\\n 13 14  1  0\\n 14  2  2  0\\n 14  7  1  0\\n 15 16  1  0\\n 17  3  2  0\\n 18 26  1  0\\n 18 17  1  0\\n 19 28  2  0\\n 19  9  1  0\\n 20 19  1  0\\n 21 10  1  0\\n 22 21  1  0\\n 23 12  1  0\\n 23 24  2  0\\n 24 25  1  0\\n 25 13  2  0\\n 27 26  2  0\\n 28 27  1  0\\nM  END\\n\",\"sdf\");\n",
       "\tviewer_14978609135507078.addModel(\"m1_sa_sa.xyz\\n     RDKit          3D\\n\\n 28 30  0  0  0  0  0  0  0  0999 V2000\\n    5.5690   11.7242    3.3870 O   0  0  0  0  0  0  0  0  0  0  0  0\\n   10.8101   11.6598    7.9242 O   0  0  0  0  0  0  0  0  0  0  0  0\\n   15.1056   11.7252    3.2049 O   0  0  0  0  0  0  0  0  0  0  0  0\\n    9.5156   12.7942    1.7003 O   0  0  0  0  0  0  0  0  0  0  0  0\\n    7.5621   10.6499    2.8917 N   0  0  0  0  0  0  0  0  0  0  0  0\\n    8.5083   11.6750    5.2894 N   0  0  0  0  0  0  0  0  0  0  0  0\\n   11.0875   12.5263    5.7925 N   0  0  0  0  0  0  0  0  0  0  0  0\\n   13.0841   11.1419    4.2124 N   0  0  0  0  0  0  0  0  0  0  0  0\\n   11.9246   11.6289    1.8908 N   0  0  0  0  0  0  0  0  0  0  0  0\\n    8.9275   11.1487    0.1674 N   0  0  0  0  0  0  0  0  0  0  0  0\\n    6.6924   11.3487    3.7103 C   0  0  0  0  0  0  0  0  0  0  0  0\\n    7.1689   11.5870    5.0909 C   0  0  0  0  0  0  0  0  0  0  0  0\\n    8.9031   11.8589    6.5766 C   0  0  0  0  0  0  0  0  0  0  0  0\\n   10.3539   11.9874    6.8325 C   0  0  0  0  0  0  0  0  0  0  0  0\\n   12.5155   12.7952    5.9047 C   0  0  0  0  0  0  0  0  0  0  0  0\\n   13.3523   11.5636    5.5732 C   0  0  0  0  0  0  0  0  0  0  0  0\\n   13.9247   11.4081    3.1457 C   0  0  0  0  0  0  0  0  0  0  0  0\\n   13.2367   11.3105    1.8428 C   0  0  0  0  0  0  0  0  0  0  0  0\\n   11.2348   11.5618    0.7353 C   0  0  0  0  0  0  0  0  0  0  0  0\\n    9.8156   11.9159    0.8968 C   0  0  0  0  0  0  0  0  0  0  0  0\\n    7.5039   11.1545    0.4539 C   0  0  0  0  0  0  0  0  0  0  0  0\\n    7.1649   10.1731    1.5733 C   0  0  0  0  0  0  0  0  0  0  0  0\\n    6.2213   11.6853    6.1055 C   0  0  0  0  0  0  0  0  0  0  0  0\\n    6.6721   11.8613    7.4074 C   0  0  0  0  0  0  0  0  0  0  0  0\\n    8.0344   11.9448    7.6590 C   0  0  0  0  0  0  0  0  0  0  0  0\\n   13.9059   10.9511    0.6856 C   0  0  0  0  0  0  0  0  0  0  0  0\\n   13.1581   10.8910   -0.4892 C   0  0  0  0  0  0  0  0  0  0  0  0\\n   11.7970   11.1955   -0.4779 C   0  0  0  0  0  0  0  0  0  0  0  0\\n  1 11  2  0\\n  5 11  1  0\\n  6 13  2  0\\n  7 14  1  0\\n  7 15  1  0\\n  8 16  1  0\\n  9 18  1  0\\n 10 21  1  0\\n 10 20  1  0\\n 11 12  1  0\\n 12  6  1  0\\n 13 14  1  0\\n 14  2  2  0\\n 16 15  1  0\\n 17  3  2  0\\n 17  8  1  0\\n 18 17  1  0\\n 19 20  1  0\\n 19  9  2  0\\n 20  4  2  0\\n 22 21  1  0\\n 22  5  1  0\\n 23 12  2  0\\n 23 24  1  0\\n 24 25  2  0\\n 25 13  1  0\\n 26 18  2  0\\n 27 26  1  0\\n 28 27  2  0\\n 28 19  1  0\\nM  END\\n\",\"sdf\");\n",
       "\tviewer_14978609135507078.addModel(\"m1_sa_sa.xyz\\n     RDKit          3D\\n\\n 28 30  0  0  0  0  0  0  0  0999 V2000\\n    5.5444   11.4025    3.3966 O   0  0  0  0  0  0  0  0  0  0  0  0\\n   10.8675   11.7717    7.8595 O   0  0  0  0  0  0  0  0  0  0  0  0\\n   14.3546   14.5210    2.4387 O   0  0  0  0  0  0  0  0  0  0  0  0\\n   10.2779   10.1136    0.5576 O   0  0  0  0  0  0  0  0  0  0  0  0\\n    7.7196   10.8294    2.8390 N   0  0  0  0  0  0  0  0  0  0  0  0\\n    8.5020   11.6756    5.2939 N   0  0  0  0  0  0  0  0  0  0  0  0\\n   11.0046   12.5780    5.6841 N   0  0  0  0  0  0  0  0  0  0  0  0\\n   12.3488   13.9282    3.4675 N   0  0  0  0  0  0  0  0  0  0  0  0\\n   11.6977   12.6488    1.2371 N   0  0  0  0  0  0  0  0  0  0  0  0\\n    8.7650   11.8830    0.2559 N   0  0  0  0  0  0  0  0  0  0  0  0\\n    6.7290   11.2847    3.6982 C   0  0  0  0  0  0  0  0  0  0  0  0\\n    7.1697   11.5765    5.0867 C   0  0  0  0  0  0  0  0  0  0  0  0\\n    8.9005   11.8688    6.5768 C   0  0  0  0  0  0  0  0  0  0  0  0\\n   10.3541   12.0496    6.7805 C   0  0  0  0  0  0  0  0  0  0  0  0\\n   12.4353   12.8274    5.6358 C   0  0  0  0  0  0  0  0  0  0  0  0\\n   12.7242   14.1042    4.8603 C   0  0  0  0  0  0  0  0  0  0  0  0\\n   13.2152   14.0796    2.4007 C   0  0  0  0  0  0  0  0  0  0  0  0\\n   12.6299   13.6230    1.1223 C   0  0  0  0  0  0  0  0  0  0  0  0\\n   11.1187   12.2281    0.0964 C   0  0  0  0  0  0  0  0  0  0  0  0\\n   10.0134   11.2835    0.3095 C   0  0  0  0  0  0  0  0  0  0  0  0\\n    7.4925   11.1744    0.3726 C   0  0  0  0  0  0  0  0  0  0  0  0\\n    7.3987   10.2152    1.5568 C   0  0  0  0  0  0  0  0  0  0  0  0\\n    6.2203   11.6937    6.1005 C   0  0  0  0  0  0  0  0  0  0  0  0\\n    6.6780   11.8622    7.4070 C   0  0  0  0  0  0  0  0  0  0  0  0\\n    8.0377   11.9355    7.6640 C   0  0  0  0  0  0  0  0  0  0  0  0\\n   13.0192   14.1827   -0.0848 C   0  0  0  0  0  0  0  0  0  0  0  0\\n   12.4175   13.6919   -1.2440 C   0  0  0  0  0  0  0  0  0  0  0  0\\n   11.4499   12.6887   -1.1686 C   0  0  0  0  0  0  0  0  0  0  0  0\\n  1 11  2  0\\n  5 11  1  0\\n  6 13  2  0\\n  7 14  1  0\\n  7 15  1  0\\n  8 16  1  0\\n  9 18  1  0\\n 10 21  1  0\\n 10 20  1  0\\n 11 12  1  0\\n 12  6  1  0\\n 13 14  1  0\\n 14  2  2  0\\n 16 15  1  0\\n 17  3  2  0\\n 17  8  1  0\\n 18 17  1  0\\n 19 20  1  0\\n 19  9  2  0\\n 20  4  2  0\\n 22 21  1  0\\n 22  5  1  0\\n 23 12  2  0\\n 23 24  1  0\\n 24 25  2  0\\n 25 13  1  0\\n 26 18  2  0\\n 27 26  1  0\\n 28 27  2  0\\n 28 19  1  0\\nM  END\\n\",\"sdf\");\n",
       "\tviewer_14978609135507078.addModel(\"m1_ss_aa.xyz\\n     RDKit          3D\\n\\n 28 30  0  0  0  0  0  0  0  0999 V2000\\n    5.6102   11.4834    3.3169 O   0  0  0  0  0  0  0  0  0  0  0  0\\n   11.0950   11.2499    6.0669 O   0  0  0  0  0  0  0  0  0  0  0  0\\n   14.4766   15.0860    4.4883 O   0  0  0  0  0  0  0  0  0  0  0  0\\n   11.5747   11.2968   -0.6078 O   0  0  0  0  0  0  0  0  0  0  0  0\\n    7.8772   11.6427    2.8085 N   0  0  0  0  0  0  0  0  0  0  0  0\\n    8.4969   11.6621    5.3089 N   0  0  0  0  0  0  0  0  0  0  0  0\\n   10.7599   13.1349    7.3896 N   0  0  0  0  0  0  0  0  0  0  0  0\\n   12.4074   14.1095    4.8355 N   0  0  0  0  0  0  0  0  0  0  0  0\\n   12.5052   13.1856    2.2375 N   0  0  0  0  0  0  0  0  0  0  0  0\\n   10.2412   12.1310    1.0873 N   0  0  0  0  0  0  0  0  0  0  0  0\\n    6.7848   11.5584    3.6555 C   0  0  0  0  0  0  0  0  0  0  0  0\\n    7.1653   11.6082    5.0879 C   0  0  0  0  0  0  0  0  0  0  0  0\\n    8.9047   11.8542    6.5775 C   0  0  0  0  0  0  0  0  0  0  0  0\\n   10.3633   12.0199    6.6777 C   0  0  0  0  0  0  0  0  0  0  0  0\\n   12.0990   13.6857    7.2790 C   0  0  0  0  0  0  0  0  0  0  0  0\\n   12.1871   14.7105    6.1484 C   0  0  0  0  0  0  0  0  0  0  0  0\\n   13.5396   14.3966    4.0879 C   0  0  0  0  0  0  0  0  0  0  0  0\\n   13.6008   13.8285    2.7173 C   0  0  0  0  0  0  0  0  0  0  0  0\\n   12.6118   12.6837    0.9773 C   0  0  0  0  0  0  0  0  0  0  0  0\\n   11.4397   11.9699    0.4107 C   0  0  0  0  0  0  0  0  0  0  0  0\\n    9.0553   11.3866    0.6818 C   0  0  0  0  0  0  0  0  0  0  0  0\\n    7.7862   11.8538    1.3786 C   0  0  0  0  0  0  0  0  0  0  0  0\\n    6.2174   11.6759    6.0961 C   0  0  0  0  0  0  0  0  0  0  0  0\\n    6.6790   11.8495    7.4008 C   0  0  0  0  0  0  0  0  0  0  0  0\\n    8.0449   11.9626    7.6577 C   0  0  0  0  0  0  0  0  0  0  0  0\\n   14.7779   13.9980    1.9912 C   0  0  0  0  0  0  0  0  0  0  0  0\\n   14.8466   13.4678    0.7110 C   0  0  0  0  0  0  0  0  0  0  0  0\\n   13.7543   12.7928    0.1894 C   0  0  0  0  0  0  0  0  0  0  0  0\\n  4 20  2  0\\n  5 22  1  0\\n  5 11  1  0\\n  6 13  1  0\\n  7 15  1  0\\n  8 17  1  0\\n  8 16  1  0\\n  9 18  2  0\\n 10 20  1  0\\n 11  1  2  0\\n 12 11  1  0\\n 12  6  2  0\\n 13 14  1  0\\n 14  2  2  0\\n 14  7  1  0\\n 15 16  1  0\\n 17  3  2  0\\n 18 26  1  0\\n 18 17  1  0\\n 19 28  2  0\\n 19  9  1  0\\n 20 19  1  0\\n 21 10  1  0\\n 22 21  1  0\\n 23 12  1  0\\n 23 24  2  0\\n 24 25  1  0\\n 25 13  2  0\\n 27 26  2  0\\n 28 27  1  0\\nM  END\\n\",\"sdf\");\n",
       "\tviewer_14978609135507078.addModel(\"m1_crystal.xyz\\n     RDKit          3D\\n\\n 28 30  0  0  0  0  0  0  0  0999 V2000\\n   10.1175   11.1678   -1.0244 O   0  0  0  0  0  0  0  0  0  0  0  0\\n   10.3500   11.9263   -0.0888 C   0  0  0  0  0  0  0  0  0  0  0  0\\n    9.3931   12.4832    0.7443 N   0  0  0  0  0  0  0  0  0  0  0  0\\n    7.9740   12.1910    0.6291 C   0  0  0  0  0  0  0  0  0  0  0  0\\n    7.5898   10.9198    1.3777 C   0  0  0  0  0  0  0  0  0  0  0  0\\n    7.7728   11.0708    2.8115 N   0  0  0  0  0  0  0  0  0  0  0  0\\n    6.7470   11.4140    3.6773 C   0  0  0  0  0  0  0  0  0  0  0  0\\n    5.5718   11.5680    3.3619 O   0  0  0  0  0  0  0  0  0  0  0  0\\n    7.1664   11.5921    5.0883 C   0  0  0  0  0  0  0  0  0  0  0  0\\n    8.4998   11.6729    5.3006 N   0  0  0  0  0  0  0  0  0  0  0  0\\n    8.9079   11.8573    6.5784 C   0  0  0  0  0  0  0  0  0  0  0  0\\n   10.3745   11.9658    6.7771 C   0  0  0  0  0  0  0  0  0  0  0  0\\n   10.8341   12.1321    7.9023 O   0  0  0  0  0  0  0  0  0  0  0  0\\n   11.1235   11.8580    5.6150 N   0  0  0  0  0  0  0  0  0  0  0  0\\n   12.5729   11.7619    5.6348 C   0  0  0  0  0  0  0  0  0  0  0  0\\n   13.1829   12.1409    4.2941 C   0  0  0  0  0  0  0  0  0  0  0  0\\n   13.1321   13.5821    4.0649 N   0  0  0  0  0  0  0  0  0  0  0  0\\n   13.3453   14.2110    2.8505 C   0  0  0  0  0  0  0  0  0  0  0  0\\n   13.6394   15.3971    2.7300 O   0  0  0  0  0  0  0  0  0  0  0  0\\n   13.1899   13.4085    1.6347 C   0  0  0  0  0  0  0  0  0  0  0  0\\n   11.9190   13.0449    1.3506 N   0  0  0  0  0  0  0  0  0  0  0  0\\n   11.7450   12.3169    0.2237 C   0  0  0  0  0  0  0  0  0  0  0  0\\n   12.7862   11.9392   -0.6178 C   0  0  0  0  0  0  0  0  0  0  0  0\\n   14.0778   12.3465   -0.2862 C   0  0  0  0  0  0  0  0  0  0  0  0\\n   14.2970   13.1049    0.8586 C   0  0  0  0  0  0  0  0  0  0  0  0\\n    8.0407   11.9498    7.6584 C   0  0  0  0  0  0  0  0  0  0  0  0\\n    6.6748   11.8583    7.4033 C   0  0  0  0  0  0  0  0  0  0  0  0\\n    6.2186   11.6820    6.0999 C   0  0  0  0  0  0  0  0  0  0  0  0\\n  2  1  2  0\\n  3  2  1  0\\n  4  3  1  0\\n  5  4  1  0\\n  6  5  1  0\\n  7  6  1  0\\n  8  7  2  0\\n  9  7  1  0\\n 10  9  1  0\\n 11 10  2  0\\n 12 11  1  0\\n 13 12  2  0\\n 14 12  1  0\\n 15 14  1  0\\n 16 15  1  0\\n 17 16  1  0\\n 18 17  1  0\\n 19 18  2  0\\n 20 18  1  0\\n 21 20  1  0\\n 22 21  2  0\\n 22  2  1  0\\n 23 22  1  0\\n 24 23  2  0\\n 25 24  1  0\\n 25 20  2  0\\n 26 11  1  0\\n 27 26  2  0\\n 28 27  1  0\\n 28  9  2  0\\nM  END\\n\",\"sdf\");\n",
       "\tviewer_14978609135507078.addModel(\"m1_sa_aa.xyz\\n     RDKit          3D\\n\\n 28 30  0  0  0  0  0  0  0  0999 V2000\\n    5.6018   11.1079    3.3972 O   0  0  0  0  0  0  0  0  0  0  0  0\\n   10.8833   12.9058    6.0538 O   0  0  0  0  0  0  0  0  0  0  0  0\\n   13.3473    7.1463    6.0927 O   0  0  0  0  0  0  0  0  0  0  0  0\\n   11.0063   11.5775    2.6482 O   0  0  0  0  0  0  0  0  0  0  0  0\\n    7.7964   11.5430    2.7733 N   0  0  0  0  0  0  0  0  0  0  0  0\\n    8.5016   11.6832    5.2995 N   0  0  0  0  0  0  0  0  0  0  0  0\\n   11.0405   11.2453    7.6371 N   0  0  0  0  0  0  0  0  0  0  0  0\\n   11.7022    8.7774    6.2799 N   0  0  0  0  0  0  0  0  0  0  0  0\\n   11.7587    9.1822    3.7031 N   0  0  0  0  0  0  0  0  0  0  0  0\\n    9.9209   10.3482    0.9946 N   0  0  0  0  0  0  0  0  0  0  0  0\\n    6.7608   11.3931    3.6788 C   0  0  0  0  0  0  0  0  0  0  0  0\\n    7.1674   11.5931    5.0891 C   0  0  0  0  0  0  0  0  0  0  0  0\\n    8.9032   11.8440    6.5780 C   0  0  0  0  0  0  0  0  0  0  0  0\\n   10.3497   12.0338    6.7374 C   0  0  0  0  0  0  0  0  0  0  0  0\\n   10.6394    9.9391    8.1609 C   0  0  0  0  0  0  0  0  0  0  0  0\\n   11.6324    8.8617    7.7259 C   0  0  0  0  0  0  0  0  0  0  0  0\\n   12.5765    7.9582    5.5911 C   0  0  0  0  0  0  0  0  0  0  0  0\\n   12.5155    8.1397    4.1192 C   0  0  0  0  0  0  0  0  0  0  0  0\\n   11.6391    9.3614    2.3719 C   0  0  0  0  0  0  0  0  0  0  0  0\\n   10.8385   10.5414    2.0118 C   0  0  0  0  0  0  0  0  0  0  0  0\\n    8.9646   11.3731    0.6010 C   0  0  0  0  0  0  0  0  0  0  0  0\\n    7.6475   11.2560    1.3606 C   0  0  0  0  0  0  0  0  0  0  0  0\\n    6.2187   11.6730    6.1004 C   0  0  0  0  0  0  0  0  0  0  0  0\\n    6.6759   11.8651    7.4032 C   0  0  0  0  0  0  0  0  0  0  0  0\\n    8.0413   11.9540    7.6586 C   0  0  0  0  0  0  0  0  0  0  0  0\\n   13.1920    7.2907    3.2565 C   0  0  0  0  0  0  0  0  0  0  0  0\\n   13.0444    7.5093    1.8880 C   0  0  0  0  0  0  0  0  0  0  0  0\\n   12.2484    8.5549    1.4237 C   0  0  0  0  0  0  0  0  0  0  0  0\\n  4 20  2  0\\n  5 22  1  0\\n  5 11  1  0\\n  6 13  1  0\\n  7 15  1  0\\n  8 17  1  0\\n  8 16  1  0\\n  9 18  2  0\\n 10 20  1  0\\n 11  1  2  0\\n 12 11  1  0\\n 12  6  2  0\\n 13 14  1  0\\n 14  2  2  0\\n 14  7  1  0\\n 15 16  1  0\\n 17  3  2  0\\n 18 26  1  0\\n 18 17  1  0\\n 19 28  2  0\\n 19  9  1  0\\n 20 19  1  0\\n 21 10  1  0\\n 22 21  1  0\\n 23 12  1  0\\n 23 24  2  0\\n 24 25  1  0\\n 25 13  2  0\\n 27 26  2  0\\n 28 27  1  0\\nM  END\\n\",\"sdf\");\n",
       "\tviewer_14978609135507078.addModel(\"m1_sa_aa.xyz\\n     RDKit          3D\\n\\n 28 30  0  0  0  0  0  0  0  0999 V2000\\n    5.5431   11.2077    3.4301 O   0  0  0  0  0  0  0  0  0  0  0  0\\n   11.0153   12.6741    6.0665 O   0  0  0  0  0  0  0  0  0  0  0  0\\n   14.6164    8.5722    5.3153 O   0  0  0  0  0  0  0  0  0  0  0  0\\n    8.6286    8.3912    3.9772 O   0  0  0  0  0  0  0  0  0  0  0  0\\n    7.7710   11.1506    2.7872 N   0  0  0  0  0  0  0  0  0  0  0  0\\n    8.5037   11.6843    5.2944 N   0  0  0  0  0  0  0  0  0  0  0  0\\n   10.8441   11.0285    7.7133 N   0  0  0  0  0  0  0  0  0  0  0  0\\n   12.6032    9.4495    6.0753 N   0  0  0  0  0  0  0  0  0  0  0  0\\n   11.3388    8.3193    4.0553 N   0  0  0  0  0  0  0  0  0  0  0  0\\n    8.7850    8.5117    1.6564 N   0  0  0  0  0  0  0  0  0  0  0  0\\n    6.7368   11.3101    3.6956 C   0  0  0  0  0  0  0  0  0  0  0  0\\n    7.1687   11.5865    5.0883 C   0  0  0  0  0  0  0  0  0  0  0  0\\n    8.9006   11.8485    6.5773 C   0  0  0  0  0  0  0  0  0  0  0  0\\n   10.3591   11.9103    6.7647 C   0  0  0  0  0  0  0  0  0  0  0  0\\n   12.2492   10.8880    8.0600 C   0  0  0  0  0  0  0  0  0  0  0  0\\n   13.1537   10.5165    6.8905 C   0  0  0  0  0  0  0  0  0  0  0  0\\n   13.3970    8.6786    5.2401 C   0  0  0  0  0  0  0  0  0  0  0  0\\n   12.6486    7.9919    4.1580 C   0  0  0  0  0  0  0  0  0  0  0  0\\n   10.6603    7.8022    3.0062 C   0  0  0  0  0  0  0  0  0  0  0  0\\n    9.2549    8.2450    2.9319 C   0  0  0  0  0  0  0  0  0  0  0  0\\n    7.4870    9.1191    1.4052 C   0  0  0  0  0  0  0  0  0  0  0  0\\n    7.5538   10.6459    1.4418 C   0  0  0  0  0  0  0  0  0  0  0  0\\n    6.2212   11.6782    6.1027 C   0  0  0  0  0  0  0  0  0  0  0  0\\n    6.6751   11.8667    7.4052 C   0  0  0  0  0  0  0  0  0  0  0  0\\n    8.0389   11.9483    7.6611 C   0  0  0  0  0  0  0  0  0  0  0  0\\n   13.3008    7.1392    3.2778 C   0  0  0  0  0  0  0  0  0  0  0  0\\n   12.5609    6.6057    2.2257 C   0  0  0  0  0  0  0  0  0  0  0  0\\n   11.2188    6.9418    2.0716 C   0  0  0  0  0  0  0  0  0  0  0  0\\n  4 20  2  0\\n  5 22  1  0\\n  5 11  1  0\\n  6 13  1  0\\n  7 15  1  0\\n  8 17  1  0\\n  8 16  1  0\\n  9 18  2  0\\n 10 20  1  0\\n 11  1  2  0\\n 12 11  1  0\\n 12  6  2  0\\n 13 14  1  0\\n 14  2  2  0\\n 14  7  1  0\\n 15 16  1  0\\n 17  3  2  0\\n 18 26  1  0\\n 18 17  1  0\\n 19 28  2  0\\n 19  9  1  0\\n 20 19  1  0\\n 21 10  1  0\\n 22 21  1  0\\n 23 12  1  0\\n 23 24  2  0\\n 24 25  1  0\\n 25 13  2  0\\n 27 26  2  0\\n 28 27  1  0\\nM  END\\n\",\"sdf\");\n",
       "\tviewer_14978609135507078.addModel(\"m1_crystal.xyz\\n     RDKit          3D\\n\\n 28 30  0  0  0  0  0  0  0  0999 V2000\\n    9.2092    7.5889   -0.2150 O   0  0  0  0  0  0  0  0  0  0  0  0\\n    9.7723    8.3234    0.5901 C   0  0  0  0  0  0  0  0  0  0  0  0\\n    9.2128    9.4501    1.1707 N   0  0  0  0  0  0  0  0  0  0  0  0\\n    7.8215    9.8200    0.9710 C   0  0  0  0  0  0  0  0  0  0  0  0\\n    7.5710   11.2783    1.3309 C   0  0  0  0  0  0  0  0  0  0  0  0\\n    7.7615   11.5201    2.7512 N   0  0  0  0  0  0  0  0  0  0  0  0\\n    6.7432   11.3930    3.6819 C   0  0  0  0  0  0  0  0  0  0  0  0\\n    5.5723   11.1366    3.4212 O   0  0  0  0  0  0  0  0  0  0  0  0\\n    7.1658   11.5941    5.0888 C   0  0  0  0  0  0  0  0  0  0  0  0\\n    8.5000   11.6772    5.3003 N   0  0  0  0  0  0  0  0  0  0  0  0\\n    8.9084   11.8508    6.5792 C   0  0  0  0  0  0  0  0  0  0  0  0\\n   10.3749   11.9289    6.7870 C   0  0  0  0  0  0  0  0  0  0  0  0\\n   10.8305   12.1367    7.9067 O   0  0  0  0  0  0  0  0  0  0  0  0\\n   11.1282   11.7427    5.6393 N   0  0  0  0  0  0  0  0  0  0  0  0\\n   12.5781   11.6562    5.6657 C   0  0  0  0  0  0  0  0  0  0  0  0\\n   13.1781   11.8968    4.2873 C   0  0  0  0  0  0  0  0  0  0  0  0\\n   12.8205   10.8390    3.3572 N   0  0  0  0  0  0  0  0  0  0  0  0\\n   13.5740    9.6874    3.1995 C   0  0  0  0  0  0  0  0  0  0  0  0\\n   14.6445    9.4593    3.7536 O   0  0  0  0  0  0  0  0  0  0  0  0\\n   12.9857    8.6885    2.2750 C   0  0  0  0  0  0  0  0  0  0  0  0\\n   11.7209    8.9365    1.8615 N   0  0  0  0  0  0  0  0  0  0  0  0\\n   11.1615    8.0333    1.0226 C   0  0  0  0  0  0  0  0  0  0  0  0\\n   11.8143    6.8930    0.5729 C   0  0  0  0  0  0  0  0  0  0  0  0\\n   13.1140    6.6707    1.0195 C   0  0  0  0  0  0  0  0  0  0  0  0\\n   13.7192    7.5750    1.8873 C   0  0  0  0  0  0  0  0  0  0  0  0\\n    8.0402   11.9522    7.6578 C   0  0  0  0  0  0  0  0  0  0  0  0\\n    6.6751   11.8618    7.4023 C   0  0  0  0  0  0  0  0  0  0  0  0\\n    6.2186   11.6764    6.1006 C   0  0  0  0  0  0  0  0  0  0  0  0\\n  2  1  2  0\\n  3  2  1  0\\n  4  3  1  0\\n  5  4  1  0\\n  6  5  1  0\\n  7  6  1  0\\n  8  7  2  0\\n  9  7  1  0\\n 10  9  1  0\\n 11 10  2  0\\n 12 11  1  0\\n 13 12  2  0\\n 14 12  1  0\\n 15 14  1  0\\n 16 15  1  0\\n 17 16  1  0\\n 18 17  1  0\\n 19 18  2  0\\n 20 18  1  0\\n 21 20  1  0\\n 22 21  2  0\\n 22  2  1  0\\n 23 22  1  0\\n 24 23  2  0\\n 25 24  1  0\\n 25 20  2  0\\n 26 11  1  0\\n 27 26  2  0\\n 28 27  1  0\\n 28  9  2  0\\nM  END\\n\",\"sdf\");\n",
       "\tviewer_14978609135507078.setStyle({\"stick\": {\"radius\": \"0.15\"}});\n",
       "\tviewer_14978609135507078.setBackgroundColor(\"0xeeeeee\");\n",
       "\tviewer_14978609135507078.zoomTo();\n",
       "viewer_14978609135507078.render();\n",
       "});\n",
       "</script>"
      ],
      "text/plain": [
       "<IPython.core.display.HTML object>"
      ]
     },
     "execution_count": 146,
     "metadata": {},
     "output_type": "execute_result"
    }
   ],
   "source": [
    "align_structures_to_lowest_energy(allmol_m1_b, energy_m1_b)\n",
    "p_b = prepare_view(allmol_m1_b)\n",
    "p_b.show()"
   ]
  },
  {
   "cell_type": "code",
   "execution_count": 147,
   "metadata": {
    "collapsed": false,
    "deletable": true,
    "editable": true
   },
   "outputs": [
    {
     "name": "stdout",
     "output_type": "stream",
     "text": [
      "Sorted energy of all selected conformers and the energy differences with respect to the lowest:\n"
     ]
    },
    {
     "data": {
      "text/html": [
       "<div>\n",
       "<table border=\"1\" class=\"dataframe\">\n",
       "  <thead>\n",
       "    <tr style=\"text-align: right;\">\n",
       "      <th></th>\n",
       "      <th>conformer</th>\n",
       "      <th>E</th>\n",
       "      <th>E - Emin</th>\n",
       "    </tr>\n",
       "  </thead>\n",
       "  <tbody>\n",
       "    <tr>\n",
       "      <th>0</th>\n",
       "      <td>m1_b_sdf_0</td>\n",
       "      <td>53.045942</td>\n",
       "      <td>0.000000</td>\n",
       "    </tr>\n",
       "    <tr>\n",
       "      <th>1</th>\n",
       "      <td>m1_b_smi_0</td>\n",
       "      <td>53.057266</td>\n",
       "      <td>0.011324</td>\n",
       "    </tr>\n",
       "    <tr>\n",
       "      <th>2</th>\n",
       "      <td>m1_b_sdf_3</td>\n",
       "      <td>53.710066</td>\n",
       "      <td>0.664124</td>\n",
       "    </tr>\n",
       "    <tr>\n",
       "      <th>3</th>\n",
       "      <td>m1_b_sdf_6</td>\n",
       "      <td>56.225813</td>\n",
       "      <td>3.179871</td>\n",
       "    </tr>\n",
       "    <tr>\n",
       "      <th>4</th>\n",
       "      <td>m1_b_sa_as_1</td>\n",
       "      <td>56.380826</td>\n",
       "      <td>3.334885</td>\n",
       "    </tr>\n",
       "    <tr>\n",
       "      <th>5</th>\n",
       "      <td>m1_b_ss_sa_4</td>\n",
       "      <td>57.105316</td>\n",
       "      <td>4.059374</td>\n",
       "    </tr>\n",
       "    <tr>\n",
       "      <th>6</th>\n",
       "      <td>m1_b_ss_sa_5</td>\n",
       "      <td>57.150992</td>\n",
       "      <td>4.105050</td>\n",
       "    </tr>\n",
       "    <tr>\n",
       "      <th>7</th>\n",
       "      <td>m1_b_sa_sa_0</td>\n",
       "      <td>57.179163</td>\n",
       "      <td>4.133221</td>\n",
       "    </tr>\n",
       "    <tr>\n",
       "      <th>8</th>\n",
       "      <td>m1_b_sa_aa_0</td>\n",
       "      <td>58.268791</td>\n",
       "      <td>5.222849</td>\n",
       "    </tr>\n",
       "    <tr>\n",
       "      <th>9</th>\n",
       "      <td>m1_b_ss_sa_6</td>\n",
       "      <td>58.357893</td>\n",
       "      <td>5.311951</td>\n",
       "    </tr>\n",
       "    <tr>\n",
       "      <th>10</th>\n",
       "      <td>m1_b_aa_aa_0</td>\n",
       "      <td>58.561622</td>\n",
       "      <td>5.515681</td>\n",
       "    </tr>\n",
       "    <tr>\n",
       "      <th>11</th>\n",
       "      <td>m1_b_sa_aa_1</td>\n",
       "      <td>59.167940</td>\n",
       "      <td>6.121999</td>\n",
       "    </tr>\n",
       "    <tr>\n",
       "      <th>12</th>\n",
       "      <td>m1_b_ss_aa_4</td>\n",
       "      <td>60.297685</td>\n",
       "      <td>7.251743</td>\n",
       "    </tr>\n",
       "    <tr>\n",
       "      <th>13</th>\n",
       "      <td>m1_b_ss_sa_7</td>\n",
       "      <td>60.337291</td>\n",
       "      <td>7.291350</td>\n",
       "    </tr>\n",
       "    <tr>\n",
       "      <th>14</th>\n",
       "      <td>m1_b_ss_aa_5</td>\n",
       "      <td>60.450684</td>\n",
       "      <td>7.404742</td>\n",
       "    </tr>\n",
       "    <tr>\n",
       "      <th>15</th>\n",
       "      <td>m1_b_ss_sa_8</td>\n",
       "      <td>60.816979</td>\n",
       "      <td>7.771038</td>\n",
       "    </tr>\n",
       "    <tr>\n",
       "      <th>16</th>\n",
       "      <td>m1_b_sa_sa_1</td>\n",
       "      <td>60.829426</td>\n",
       "      <td>7.783485</td>\n",
       "    </tr>\n",
       "    <tr>\n",
       "      <th>17</th>\n",
       "      <td>m1_b_sa_aa_3</td>\n",
       "      <td>60.863680</td>\n",
       "      <td>7.817738</td>\n",
       "    </tr>\n",
       "    <tr>\n",
       "      <th>18</th>\n",
       "      <td>m1_b_ss_aa_6</td>\n",
       "      <td>61.371405</td>\n",
       "      <td>8.325464</td>\n",
       "    </tr>\n",
       "    <tr>\n",
       "      <th>19</th>\n",
       "      <td>m1_b_sa_sa_2</td>\n",
       "      <td>61.404260</td>\n",
       "      <td>8.358318</td>\n",
       "    </tr>\n",
       "    <tr>\n",
       "      <th>20</th>\n",
       "      <td>m1_b_sa_aa_4</td>\n",
       "      <td>61.429659</td>\n",
       "      <td>8.383718</td>\n",
       "    </tr>\n",
       "    <tr>\n",
       "      <th>21</th>\n",
       "      <td>m1_b_sa_sa_3</td>\n",
       "      <td>61.473568</td>\n",
       "      <td>8.427627</td>\n",
       "    </tr>\n",
       "    <tr>\n",
       "      <th>22</th>\n",
       "      <td>m1_b_sa_sa_4</td>\n",
       "      <td>61.619693</td>\n",
       "      <td>8.573752</td>\n",
       "    </tr>\n",
       "    <tr>\n",
       "      <th>23</th>\n",
       "      <td>m1_b_sa_sa_5</td>\n",
       "      <td>62.014258</td>\n",
       "      <td>8.968316</td>\n",
       "    </tr>\n",
       "    <tr>\n",
       "      <th>24</th>\n",
       "      <td>m1_b_ss_aa_7</td>\n",
       "      <td>62.101232</td>\n",
       "      <td>9.055290</td>\n",
       "    </tr>\n",
       "    <tr>\n",
       "      <th>25</th>\n",
       "      <td>m1_b_ss_aa_8</td>\n",
       "      <td>62.170501</td>\n",
       "      <td>9.124559</td>\n",
       "    </tr>\n",
       "    <tr>\n",
       "      <th>26</th>\n",
       "      <td>m1_b_sa_sa_6</td>\n",
       "      <td>62.241101</td>\n",
       "      <td>9.195160</td>\n",
       "    </tr>\n",
       "    <tr>\n",
       "      <th>27</th>\n",
       "      <td>m1_b_ss_sa_9</td>\n",
       "      <td>62.253554</td>\n",
       "      <td>9.207612</td>\n",
       "    </tr>\n",
       "    <tr>\n",
       "      <th>28</th>\n",
       "      <td>m1_b_ss_sa_10</td>\n",
       "      <td>62.516577</td>\n",
       "      <td>9.470635</td>\n",
       "    </tr>\n",
       "    <tr>\n",
       "      <th>29</th>\n",
       "      <td>m1_b_sdf_8</td>\n",
       "      <td>62.676695</td>\n",
       "      <td>9.630753</td>\n",
       "    </tr>\n",
       "    <tr>\n",
       "      <th>30</th>\n",
       "      <td>m1_b_sa_aa_6</td>\n",
       "      <td>62.713745</td>\n",
       "      <td>9.667804</td>\n",
       "    </tr>\n",
       "    <tr>\n",
       "      <th>31</th>\n",
       "      <td>m1_b_sa_sa_7</td>\n",
       "      <td>62.749312</td>\n",
       "      <td>9.703370</td>\n",
       "    </tr>\n",
       "    <tr>\n",
       "      <th>32</th>\n",
       "      <td>m1_b_smi_7</td>\n",
       "      <td>62.827310</td>\n",
       "      <td>9.781369</td>\n",
       "    </tr>\n",
       "    <tr>\n",
       "      <th>33</th>\n",
       "      <td>m1_b_ss_sa_11</td>\n",
       "      <td>62.904975</td>\n",
       "      <td>9.859034</td>\n",
       "    </tr>\n",
       "    <tr>\n",
       "      <th>34</th>\n",
       "      <td>m1_b_ss_sa_12</td>\n",
       "      <td>62.954970</td>\n",
       "      <td>9.909028</td>\n",
       "    </tr>\n",
       "    <tr>\n",
       "      <th>35</th>\n",
       "      <td>m1_b_aa_aa_4</td>\n",
       "      <td>62.979288</td>\n",
       "      <td>9.933346</td>\n",
       "    </tr>\n",
       "    <tr>\n",
       "      <th>36</th>\n",
       "      <td>m1_b_ss_sa_14</td>\n",
       "      <td>63.032274</td>\n",
       "      <td>9.986332</td>\n",
       "    </tr>\n",
       "    <tr>\n",
       "      <th>37</th>\n",
       "      <td>m1_b_ss_aa_10</td>\n",
       "      <td>63.111969</td>\n",
       "      <td>10.066028</td>\n",
       "    </tr>\n",
       "    <tr>\n",
       "      <th>38</th>\n",
       "      <td>m1_b_sa_aa_9</td>\n",
       "      <td>63.478917</td>\n",
       "      <td>10.432975</td>\n",
       "    </tr>\n",
       "    <tr>\n",
       "      <th>39</th>\n",
       "      <td>m1_b_sa_sa_8</td>\n",
       "      <td>63.728034</td>\n",
       "      <td>10.682092</td>\n",
       "    </tr>\n",
       "    <tr>\n",
       "      <th>40</th>\n",
       "      <td>m1_b_sa_as_9</td>\n",
       "      <td>63.857450</td>\n",
       "      <td>10.811508</td>\n",
       "    </tr>\n",
       "    <tr>\n",
       "      <th>41</th>\n",
       "      <td>m1_b_ss_aa_13</td>\n",
       "      <td>64.077675</td>\n",
       "      <td>11.031733</td>\n",
       "    </tr>\n",
       "    <tr>\n",
       "      <th>42</th>\n",
       "      <td>m1_b_sa_aa_11</td>\n",
       "      <td>64.759364</td>\n",
       "      <td>11.713422</td>\n",
       "    </tr>\n",
       "    <tr>\n",
       "      <th>43</th>\n",
       "      <td>m1_b_sa_aa_13</td>\n",
       "      <td>65.791505</td>\n",
       "      <td>12.745563</td>\n",
       "    </tr>\n",
       "    <tr>\n",
       "      <th>44</th>\n",
       "      <td>m1_b_sa_sa_9</td>\n",
       "      <td>65.797001</td>\n",
       "      <td>12.751059</td>\n",
       "    </tr>\n",
       "    <tr>\n",
       "      <th>45</th>\n",
       "      <td>m1_b_sa_aa_14</td>\n",
       "      <td>65.816139</td>\n",
       "      <td>12.770197</td>\n",
       "    </tr>\n",
       "    <tr>\n",
       "      <th>46</th>\n",
       "      <td>m1_b_sa_aa_15</td>\n",
       "      <td>65.863388</td>\n",
       "      <td>12.817446</td>\n",
       "    </tr>\n",
       "    <tr>\n",
       "      <th>47</th>\n",
       "      <td>m1_b_sa_aa_16</td>\n",
       "      <td>66.308518</td>\n",
       "      <td>13.262576</td>\n",
       "    </tr>\n",
       "    <tr>\n",
       "      <th>48</th>\n",
       "      <td>m1_b_sa_sa_10</td>\n",
       "      <td>66.496771</td>\n",
       "      <td>13.450829</td>\n",
       "    </tr>\n",
       "    <tr>\n",
       "      <th>49</th>\n",
       "      <td>m1_b_sa_aa_17</td>\n",
       "      <td>66.550341</td>\n",
       "      <td>13.504399</td>\n",
       "    </tr>\n",
       "    <tr>\n",
       "      <th>50</th>\n",
       "      <td>m1_b_sa_aa_18</td>\n",
       "      <td>66.889049</td>\n",
       "      <td>13.843108</td>\n",
       "    </tr>\n",
       "    <tr>\n",
       "      <th>51</th>\n",
       "      <td>m1_b_aa_aa_8</td>\n",
       "      <td>66.928310</td>\n",
       "      <td>13.882368</td>\n",
       "    </tr>\n",
       "    <tr>\n",
       "      <th>52</th>\n",
       "      <td>m1_b_sa_aa_19</td>\n",
       "      <td>67.783801</td>\n",
       "      <td>14.737860</td>\n",
       "    </tr>\n",
       "    <tr>\n",
       "      <th>53</th>\n",
       "      <td>m1_b_sa_aa_20</td>\n",
       "      <td>68.217142</td>\n",
       "      <td>15.171200</td>\n",
       "    </tr>\n",
       "  </tbody>\n",
       "</table>\n",
       "</div>"
      ],
      "text/plain": [
       "        conformer          E   E - Emin\n",
       "0      m1_b_sdf_0  53.045942   0.000000\n",
       "1      m1_b_smi_0  53.057266   0.011324\n",
       "2      m1_b_sdf_3  53.710066   0.664124\n",
       "3      m1_b_sdf_6  56.225813   3.179871\n",
       "4    m1_b_sa_as_1  56.380826   3.334885\n",
       "5    m1_b_ss_sa_4  57.105316   4.059374\n",
       "6    m1_b_ss_sa_5  57.150992   4.105050\n",
       "7    m1_b_sa_sa_0  57.179163   4.133221\n",
       "8    m1_b_sa_aa_0  58.268791   5.222849\n",
       "9    m1_b_ss_sa_6  58.357893   5.311951\n",
       "10   m1_b_aa_aa_0  58.561622   5.515681\n",
       "11   m1_b_sa_aa_1  59.167940   6.121999\n",
       "12   m1_b_ss_aa_4  60.297685   7.251743\n",
       "13   m1_b_ss_sa_7  60.337291   7.291350\n",
       "14   m1_b_ss_aa_5  60.450684   7.404742\n",
       "15   m1_b_ss_sa_8  60.816979   7.771038\n",
       "16   m1_b_sa_sa_1  60.829426   7.783485\n",
       "17   m1_b_sa_aa_3  60.863680   7.817738\n",
       "18   m1_b_ss_aa_6  61.371405   8.325464\n",
       "19   m1_b_sa_sa_2  61.404260   8.358318\n",
       "20   m1_b_sa_aa_4  61.429659   8.383718\n",
       "21   m1_b_sa_sa_3  61.473568   8.427627\n",
       "22   m1_b_sa_sa_4  61.619693   8.573752\n",
       "23   m1_b_sa_sa_5  62.014258   8.968316\n",
       "24   m1_b_ss_aa_7  62.101232   9.055290\n",
       "25   m1_b_ss_aa_8  62.170501   9.124559\n",
       "26   m1_b_sa_sa_6  62.241101   9.195160\n",
       "27   m1_b_ss_sa_9  62.253554   9.207612\n",
       "28  m1_b_ss_sa_10  62.516577   9.470635\n",
       "29     m1_b_sdf_8  62.676695   9.630753\n",
       "30   m1_b_sa_aa_6  62.713745   9.667804\n",
       "31   m1_b_sa_sa_7  62.749312   9.703370\n",
       "32     m1_b_smi_7  62.827310   9.781369\n",
       "33  m1_b_ss_sa_11  62.904975   9.859034\n",
       "34  m1_b_ss_sa_12  62.954970   9.909028\n",
       "35   m1_b_aa_aa_4  62.979288   9.933346\n",
       "36  m1_b_ss_sa_14  63.032274   9.986332\n",
       "37  m1_b_ss_aa_10  63.111969  10.066028\n",
       "38   m1_b_sa_aa_9  63.478917  10.432975\n",
       "39   m1_b_sa_sa_8  63.728034  10.682092\n",
       "40   m1_b_sa_as_9  63.857450  10.811508\n",
       "41  m1_b_ss_aa_13  64.077675  11.031733\n",
       "42  m1_b_sa_aa_11  64.759364  11.713422\n",
       "43  m1_b_sa_aa_13  65.791505  12.745563\n",
       "44   m1_b_sa_sa_9  65.797001  12.751059\n",
       "45  m1_b_sa_aa_14  65.816139  12.770197\n",
       "46  m1_b_sa_aa_15  65.863388  12.817446\n",
       "47  m1_b_sa_aa_16  66.308518  13.262576\n",
       "48  m1_b_sa_sa_10  66.496771  13.450829\n",
       "49  m1_b_sa_aa_17  66.550341  13.504399\n",
       "50  m1_b_sa_aa_18  66.889049  13.843108\n",
       "51   m1_b_aa_aa_8  66.928310  13.882368\n",
       "52  m1_b_sa_aa_19  67.783801  14.737860\n",
       "53  m1_b_sa_aa_20  68.217142  15.171200"
      ]
     },
     "execution_count": 147,
     "metadata": {},
     "output_type": "execute_result"
    }
   ],
   "source": [
    "print(\"Sorted energy of all selected conformers and the energy differences with respect to the lowest:\")\n",
    "energy_b_sorted = sorted(energy_m1_b.items(), key=lambda x: x[1])\n",
    "energy_b_diff = []\n",
    "e_b_min = energy_b_sorted[0][1]\n",
    "for e in energy_b_sorted:\n",
    "    e_diff = e[1] - e_b_min\n",
    "    energy_b_diff.append([e[0], e[1], e_diff])\n",
    "\n",
    "e_b_df = pd.DataFrame(energy_b_diff, columns=[\"conformer\", \"E\", \"E - Emin\"])\n",
    "e_b_df"
   ]
  },
  {
   "cell_type": "markdown",
   "metadata": {
    "deletable": true,
    "editable": true
   },
   "source": [
    "## Conformers generated with the RDKit software:"
   ]
  },
  {
   "cell_type": "markdown",
   "metadata": {
    "deletable": true,
    "editable": true
   },
   "source": [
    "Conformers were generated in the RDKit software with the following starting structures:\n",
    "\n",
    "* the crystal geometry (3D), results with prefix: \"m1_b_sdf\"; the crystal is of the \"ss-ss\" type;\n",
    "\n",
    "* the SMILES signature of M1 (\"0D\"), program was allowed to \"rebuild the geometry\" (option \"--rebuildGeometry\"), results with prefix: \"m1_b_smi\"\n",
    "\n",
    "* 3D structures generated in Avogadro (from the crystal geometry and pre-optimized) of the:\n",
    "    * \"ss_sa\" type\n",
    "    * \"ss_aa\" type\n",
    "    * \"sa_sa\" type\n",
    "    * \"sa_as\" type\n",
    "    * \"sa_aa\" type\n",
    "    * \"aa_aa\" type    \n",
    "\n",
    "  where \"ss\\_sa\" means \"(ring1: syn-syn)\\_(ring2: syn-anti)\" configuration of the amide groups, paired by the neighbouring aromatic ring, etc.\n",
    "\n",
    "In all cases the RDKit software was asked to generate 100 conformers using the distnce geometry algorithm with default settings (only \"pruneRmsThresh\" set to 1.0 in \"AllChem.EmbedMultipleConfs\" and \"maxIters\" set to 500 or 700 (when needed) in \"AllChem.UFFOptimizeMolecule\").\n",
    "\n",
    "The generated conformer structures are presented in a separate notebook: [link](http://nbviewer.jupyter.org/github/gosiao/icho-notebooks/blob/master/conformers_m1_suppl1.ipynb)."
   ]
  },
  {
   "cell_type": "code",
   "execution_count": 148,
   "metadata": {
    "collapsed": false,
    "deletable": true,
    "editable": true
   },
   "outputs": [],
   "source": [
    "inps_m1_rdkit_smi = glob.glob('/home/gosia/work/work_on_gitlab/icho/calcs/m1/rdkit/results_crystal_from_smiles/*.sdf')\n",
    "inps_m1_rdkit_sdf = glob.glob('/home/gosia/work/work_on_gitlab/icho/calcs/m1/rdkit/results_crystal_from_sdf/*.sdf')\n",
    "inps_m1_rdkit_ss_sa = glob.glob('/home/gosia/work/work_on_gitlab/icho/calcs/m1/rdkit/results_from_m1_ss_sa/*.sdf')\n",
    "inps_m1_rdkit_ss_aa = glob.glob('/home/gosia/work/work_on_gitlab/icho/calcs/m1/rdkit/results_from_m1_ss_aa/*.sdf')\n",
    "inps_m1_rdkit_sa_sa = glob.glob('/home/gosia/work/work_on_gitlab/icho/calcs/m1/rdkit/results_from_m1_sa_sa/*.sdf')\n",
    "inps_m1_rdkit_sa_as = glob.glob('/home/gosia/work/work_on_gitlab/icho/calcs/m1/rdkit/results_from_m1_sa_as/*.sdf')\n",
    "inps_m1_rdkit_sa_aa = glob.glob('/home/gosia/work/work_on_gitlab/icho/calcs/m1/rdkit/results_from_m1_sa_aa/*.sdf')\n",
    "inps_m1_rdkit_aa_aa = glob.glob('/home/gosia/work/work_on_gitlab/icho/calcs/m1/rdkit/results_from_m1_aa_aa/*.sdf')"
   ]
  },
  {
   "cell_type": "code",
   "execution_count": 149,
   "metadata": {
    "collapsed": false,
    "deletable": true,
    "editable": true
   },
   "outputs": [],
   "source": [
    "e_m1_rdkit_smi = grep_energies_from_sdf_outputs(inps_m1_rdkit_smi)\n",
    "e_m1_rdkit_sdf = grep_energies_from_sdf_outputs(inps_m1_rdkit_sdf)\n",
    "e_m1_rdkit_ss_sa = grep_energies_from_sdf_outputs(inps_m1_rdkit_ss_sa)\n",
    "e_m1_rdkit_ss_aa = grep_energies_from_sdf_outputs(inps_m1_rdkit_ss_aa)\n",
    "e_m1_rdkit_sa_sa = grep_energies_from_sdf_outputs(inps_m1_rdkit_sa_sa)\n",
    "e_m1_rdkit_sa_as = grep_energies_from_sdf_outputs(inps_m1_rdkit_sa_as)\n",
    "e_m1_rdkit_sa_aa = grep_energies_from_sdf_outputs(inps_m1_rdkit_sa_aa)\n",
    "e_m1_rdkit_aa_aa = grep_energies_from_sdf_outputs(inps_m1_rdkit_aa_aa)"
   ]
  },
  {
   "cell_type": "code",
   "execution_count": 150,
   "metadata": {
    "collapsed": false,
    "deletable": true,
    "editable": true
   },
   "outputs": [],
   "source": [
    "# write conformers to dictionaries\n",
    "suppl_m1_rdkit_smi  = Chem.SDMolSupplier('/home/gosia/work/work_on_gitlab/icho/calcs/m1/rdkit/result_smiles.sdf')\n",
    "suppl_m1_rdkit_sdf  = Chem.SDMolSupplier('/home/gosia/work/work_on_gitlab/icho/calcs/m1/rdkit/result_sdf.sdf')\n",
    "suppl_m1_rdkit_ss_sa  = Chem.SDMolSupplier('/home/gosia/work/work_on_gitlab/icho/calcs/m1/rdkit/result_m1_ss_sa.sdf')\n",
    "suppl_m1_rdkit_ss_aa  = Chem.SDMolSupplier('/home/gosia/work/work_on_gitlab/icho/calcs/m1/rdkit/result_m1_ss_aa.sdf')\n",
    "suppl_m1_rdkit_sa_sa  = Chem.SDMolSupplier('/home/gosia/work/work_on_gitlab/icho/calcs/m1/rdkit/result_m1_sa_sa.sdf')\n",
    "suppl_m1_rdkit_sa_as  = Chem.SDMolSupplier('/home/gosia/work/work_on_gitlab/icho/calcs/m1/rdkit/result_m1_sa_as.sdf')\n",
    "suppl_m1_rdkit_sa_aa  = Chem.SDMolSupplier('/home/gosia/work/work_on_gitlab/icho/calcs/m1/rdkit/result_m1_sa_aa.sdf')\n",
    "suppl_m1_rdkit_aa_aa  = Chem.SDMolSupplier('/home/gosia/work/work_on_gitlab/icho/calcs/m1/rdkit/result_m1_aa_aa.sdf')\n",
    "\n",
    "allmol_m1_rdkit_smi = write_to_dict(\"m1_rdkit_smi_\", suppl_m1_rdkit_smi)\n",
    "allmol_m1_rdkit_sdf = write_to_dict(\"m1_rdkit_sdf_\", suppl_m1_rdkit_sdf)\n",
    "allmol_m1_rdkit_ss_sa = write_to_dict(\"m1_rdkit_ss_sa_\", suppl_m1_rdkit_ss_sa)\n",
    "allmol_m1_rdkit_ss_aa = write_to_dict(\"m1_rdkit_ss_aa_\", suppl_m1_rdkit_ss_aa)\n",
    "allmol_m1_rdkit_sa_sa = write_to_dict(\"m1_rdkit_sa_sa_\", suppl_m1_rdkit_sa_sa)\n",
    "allmol_m1_rdkit_sa_as = write_to_dict(\"m1_rdkit_sa_as_\", suppl_m1_rdkit_sa_as)\n",
    "allmol_m1_rdkit_sa_aa = write_to_dict(\"m1_rdkit_sa_aa_\", suppl_m1_rdkit_sa_aa)\n",
    "allmol_m1_rdkit_aa_aa = write_to_dict(\"m1_rdkit_aa_aa_\", suppl_m1_rdkit_aa_aa)"
   ]
  },
  {
   "cell_type": "markdown",
   "metadata": {
    "deletable": true,
    "editable": true
   },
   "source": [
    "### pre-screening"
   ]
  },
  {
   "cell_type": "markdown",
   "metadata": {
    "deletable": true,
    "editable": true
   },
   "source": [
    "All the generated structures are pre-optimized with MM methods (UFF force field). To remove potential duplicates, we will:\n",
    "\n",
    "* calculate the root-mean-square-distance (RMSD) between the pairs of conformers (taking into account non-hydrogen atoms only);\n",
    "* compare the energies of conformers from pairs which are found to be similar (RMSD lower than the threshold);\n",
    "* if these energies are too similar (the difference lower than the threshold), we will remove the conformer which has the higher energy value;"
   ]
  },
  {
   "cell_type": "code",
   "execution_count": null,
   "metadata": {
    "collapsed": false,
    "deletable": true,
    "editable": true
   },
   "outputs": [
    {
     "name": "stdout",
     "output_type": "stream",
     "text": [
      "The total number of generated conformers (before the duplicates removal) =  453\n"
     ]
    }
   ],
   "source": [
    "allmol_m1_rdkit = {}\n",
    "allmol_m1_rdkit.update(allmol_m1_rdkit_sdf)\n",
    "allmol_m1_rdkit.update(allmol_m1_rdkit_smi)\n",
    "allmol_m1_rdkit.update(allmol_m1_rdkit_ss_sa)\n",
    "allmol_m1_rdkit.update(allmol_m1_rdkit_ss_aa)\n",
    "allmol_m1_rdkit.update(allmol_m1_rdkit_sa_sa)\n",
    "allmol_m1_rdkit.update(allmol_m1_rdkit_sa_as)\n",
    "allmol_m1_rdkit.update(allmol_m1_rdkit_sa_aa)\n",
    "allmol_m1_rdkit.update(allmol_m1_rdkit_aa_aa)\n",
    "\n",
    "print(\"The total number of generated conformers (before the duplicates removal) = \", len(allmol_m1_rdkit))\n",
    "             \n",
    "energy_m1_rdkit = {}\n",
    "energy_m1_rdkit.update(e_m1_rdkit_sdf)\n",
    "energy_m1_rdkit.update(e_m1_rdkit_smi)\n",
    "energy_m1_rdkit.update(e_m1_rdkit_ss_sa)\n",
    "energy_m1_rdkit.update(e_m1_rdkit_ss_aa)\n",
    "energy_m1_rdkit.update(e_m1_rdkit_sa_sa)\n",
    "energy_m1_rdkit.update(e_m1_rdkit_sa_as)\n",
    "energy_m1_rdkit.update(e_m1_rdkit_sa_aa)\n",
    "energy_m1_rdkit.update(e_m1_rdkit_aa_aa)"
   ]
  },
  {
   "cell_type": "code",
   "execution_count": null,
   "metadata": {
    "collapsed": false,
    "deletable": true,
    "editable": true
   },
   "outputs": [],
   "source": [
    "# 1. calculate the similarity matrix between all pairs of conformers and sort its elements from the lowest\n",
    "# (the most similar structures) to the largest values (the most different structures)\n",
    "similarity_matrix_rdkit = make_similarity_matrix(allmol_m1_rdkit)\n",
    "similarity_matrix_rdkit_sorted = sorted(similarity_matrix_rdkit.items(), key=lambda x: x[1])\n",
    "\n",
    "# 2. remove duplicates:\n",
    "# for all pairs of structures, for which the similarity value is lower than threshold (\"similarity_thresh\"), \n",
    "# compare energies; then if the energies are similar (controlled by the \"energy_thresh\"), \n",
    "#then remove the one with higher energy\n",
    "to_be_deleted = find_duplicates_in_sorted_similarity_matrix(similarity_matrix_rdkit_sorted, energy_m1_rdkit)\n",
    "\n",
    "for mol in to_be_deleted:\n",
    "    #print(\"to_be_deleted: \", mol)\n",
    "    to_be_deleted_keys = list(k for k in similarity_matrix_rdkit.keys() if mol in k)\n",
    "    for k in to_be_deleted_keys:\n",
    "        del similarity_matrix_rdkit[k]\n",
    "    allmol_m1_rdkit.pop(mol, None)\n",
    "    energy_m1_rdkit.pop(mol, None) "
   ]
  },
  {
   "cell_type": "code",
   "execution_count": null,
   "metadata": {
    "collapsed": false,
    "deletable": true,
    "editable": true
   },
   "outputs": [],
   "source": [
    "print(\"We have removed potential conformer duplicates.\")\n",
    "print(\"The final number of remaining conformers = \", len(allmol_m1_rdkit))\n",
    "print(\"Below we present all the remaining conformers aligned (to one aromatic ring).\")"
   ]
  },
  {
   "cell_type": "code",
   "execution_count": null,
   "metadata": {
    "collapsed": false,
    "deletable": true,
    "editable": true
   },
   "outputs": [],
   "source": [
    "align_structures_to_lowest_energy(allmol_m1_rdkit, energy_m1_rdkit)\n",
    "p_rdkit = prepare_view(allmol_m1_rdkit)\n",
    "p_rdkit.show()"
   ]
  },
  {
   "cell_type": "code",
   "execution_count": null,
   "metadata": {
    "collapsed": false
   },
   "outputs": [],
   "source": [
    "print(\"Sorted energy of all selected conformers and the energy differences with respect to the lowest:\")\n",
    "energy_rdkit_sorted = sorted(energy_m1_rdkit.items(), key=lambda x: x[1])\n",
    "energy_rdkit_diff = []\n",
    "e_rdkit_min = energy_rdkit_sorted[0][1]\n",
    "for e in energy_rdkit_sorted:\n",
    "    e_diff = e[1] - e_rdkit_min\n",
    "    energy_rdkit_diff.append([e[0], e[1], e_diff])\n",
    "\n",
    "e_rdkit_df = pd.DataFrame(energy_rdkit_diff, columns=[\"conformer\", \"E\", \"E - Emin\"])\n",
    "e_rdkit_df"
   ]
  },
  {
   "cell_type": "markdown",
   "metadata": {
    "deletable": true,
    "editable": true
   },
   "source": [
    "## Summary"
   ]
  },
  {
   "cell_type": "markdown",
   "metadata": {
    "deletable": true,
    "editable": true
   },
   "source": [
    "Now let's generate a list of all conformers (from all programs used) and align them. \n",
    "These conformers will further be used as starting points in DFT geometry optimizations"
   ]
  },
  {
   "cell_type": "code",
   "execution_count": null,
   "metadata": {
    "collapsed": false,
    "deletable": true,
    "editable": true
   },
   "outputs": [],
   "source": [
    "allmol_m1 = {}\n",
    "allmol_m1.update(allmol_m1_b)\n",
    "allmol_m1.update(allmol_m1_rdkit)\n",
    "\n",
    "energy_m1 = {}\n",
    "energy_m1.update(energy_m1_b)\n",
    "energy_m1.update(energy_m1_rdkit)"
   ]
  },
  {
   "cell_type": "markdown",
   "metadata": {
    "deletable": true,
    "editable": true
   },
   "source": [
    "The total number of conformers is:"
   ]
  },
  {
   "cell_type": "code",
   "execution_count": null,
   "metadata": {
    "collapsed": false,
    "deletable": true,
    "editable": true
   },
   "outputs": [],
   "source": [
    "print(len(allmol_m1))"
   ]
  },
  {
   "cell_type": "code",
   "execution_count": null,
   "metadata": {
    "collapsed": false,
    "deletable": true,
    "editable": true
   },
   "outputs": [],
   "source": [
    "align_structures_to_lowest_energy(allmol_m1, energy_m1)\n",
    "p_all = prepare_view(allmol_m1)\n",
    "p_all.show()"
   ]
  },
  {
   "cell_type": "code",
   "execution_count": null,
   "metadata": {
    "collapsed": false,
    "deletable": true,
    "editable": true
   },
   "outputs": [],
   "source": [
    "#Write the selected conformers' names to the list \"list_selected_conformers_from_balloon_rdkit\". \n",
    "# It will be used to generate Gaussian inputs:\n",
    "\n",
    "with open(\"/home/gosia/work/work_on_gitlab/icho/calcs/m1/list_selected_conformers_from_ballon_rdkit\", \"w\") as f:\n",
    "    for key, mol in allmol_m1.items():\n",
    "        f.write(key+\"\\n\")\n",
    "\n",
    "energy_sorted = sorted(energy_m1.items(), key=lambda x: x[1])\n",
    "with open(\"/home/gosia/work/work_on_gitlab/icho/calcs/m1/detailed_list_selected_conformers_from_ballon_rdkit\", \"w\") as f:\n",
    "    for pair in energy_sorted:\n",
    "        f.write(\"{0:30}   {1}\\n\".format(pair[0], pair[1]))        "
   ]
  }
 ],
 "metadata": {
  "kernelspec": {
   "display_name": "Python 3",
   "language": "python",
   "name": "python3"
  },
  "language_info": {
   "codemirror_mode": {
    "name": "ipython",
    "version": 3
   },
   "file_extension": ".py",
   "mimetype": "text/x-python",
   "name": "python",
   "nbconvert_exporter": "python",
   "pygments_lexer": "ipython3",
   "version": "3.5.3"
  }
 },
 "nbformat": 4,
 "nbformat_minor": 2
}
