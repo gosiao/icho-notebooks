{
 "cells": [
  {
   "cell_type": "markdown",
   "metadata": {
    "deletable": true,
    "editable": true
   },
   "source": [
    "# Exploring conformational space of selected macrocycles - \"M1\"; <br /> Part 1: Generation and selection of conformer candidates (MM methods)"
   ]
  },
  {
   "cell_type": "code",
   "execution_count": null,
   "metadata": {
    "collapsed": false,
    "deletable": true,
    "editable": true
   },
   "outputs": [],
   "source": [
    "from IPython.display import HTML\n",
    "\n",
    "HTML('''<script>\n",
    "code_show=true; \n",
    "function code_toggle() {\n",
    " if (code_show){\n",
    " $('div.input').hide();\n",
    " } else {\n",
    " $('div.input').show();\n",
    " }\n",
    " code_show = !code_show\n",
    "}\n",
    "$( document ).ready(code_toggle);\n",
    "</script>\n",
    "<form action=\"javascript:code_toggle()\"><input type=\"submit\" value=\"Click here to toggle on/off the raw code.\"></form>''')"
   ]
  },
  {
   "cell_type": "code",
   "execution_count": null,
   "metadata": {
    "collapsed": false,
    "deletable": true,
    "editable": true
   },
   "outputs": [],
   "source": [
    "import glob\n",
    "import py3Dmol\n",
    "\n",
    "import matplotlib\n",
    "import matplotlib.pyplot as plt\n",
    "import seaborn as sns\n",
    "import pandas as pd\n",
    "import numpy as np\n",
    "%matplotlib inline \n",
    "\n",
    "from rdkit import Chem\n",
    "from rdkit.Chem import AllChem\n",
    "from rdkit.Chem import Draw\n",
    "from rdkit.Chem import rdMolAlign\n",
    "from rdkit.Chem.Draw import IPythonConsole\n",
    "from rdkit import rdBase\n",
    "print(rdBase.rdkitVersion)\n",
    "import os,time\n",
    "print( time.asctime())"
   ]
  },
  {
   "cell_type": "code",
   "execution_count": null,
   "metadata": {
    "collapsed": true,
    "deletable": true,
    "editable": true
   },
   "outputs": [],
   "source": [
    "# Functions used in this notebook:\n",
    "\n",
    "def grep_energies_from_sdf_outputs(files):\n",
    "    energies = {}\n",
    "    for inp in files:\n",
    "        with open(inp,'r') as f:\n",
    "            lines = f.readlines()\n",
    "            for i, line in enumerate(lines):\n",
    "                if \"M  END\" in line:\n",
    "                    energies[os.path.splitext(os.path.basename(inp))[0]] = float(lines[i+1])\n",
    "    return energies\n",
    "\n",
    "def write_to_dict(prefix, suppl):\n",
    "    moldict = {}\n",
    "    for i, mol in enumerate(suppl):\n",
    "        name = prefix + str(i)\n",
    "        moldict[name] = mol\n",
    "    return moldict\n",
    "\n",
    "\n",
    "def align_structures_to_crystal(moldict):\n",
    "    for key, mol in moldict.items():\n",
    "        core_mol = mol.GetSubstructMatch(Chem.MolFromSmiles(core_smiles))\n",
    "        AllChem.AlignMol(mol,m1_crystal,atomMap=list(zip(core_mol,core_m1)))\n",
    "\n",
    "\n",
    "def align_structures_to_lowest_energy(moldict, energy_dict):\n",
    "    \"\"\"\n",
    "    align all structures in \"moldict\" to the one of the lowest energy\n",
    "    \"\"\"\n",
    "    energy_sorted = sorted(energy_dict.items(), key=lambda x: x[1])\n",
    "    first = energy_sorted[0][0]\n",
    "    core_first = moldict[first].GetSubstructMatch(Chem.MolFromSmiles(core_smiles))\n",
    "    \n",
    "    for key, mol in moldict.items():\n",
    "        core_mol = mol.GetSubstructMatch(Chem.MolFromSmiles(core_smiles))\n",
    "        AllChem.AlignMol(mol,moldict[first],atomMap=list(zip(core_mol,core_first)))\n",
    "\n",
    "\n",
    "def prepare_view(moldict):\n",
    "    p = py3Dmol.view(width=400,height=400)\n",
    "    for key, mol in moldict.items():\n",
    "        mb = Chem.MolToMolBlock(mol)\n",
    "        p.addModel(mb,'sdf')\n",
    "    p.setStyle({'stick':{'radius':'0.15'}})\n",
    "    p.setBackgroundColor('0xeeeeee')\n",
    "    p.zoomTo()\n",
    "    return p        \n",
    "\n",
    "\n",
    "def make_similarity_matrix(moldict):\n",
    "    \n",
    "    similarity_matrix = {}\n",
    "\n",
    "    for k1, m1 in moldict.items():\n",
    "        for k2, m2 in moldict.items():\n",
    "            if (k1, k2) in similarity_matrix.keys() or (k2, k1) in similarity_matrix.keys():\n",
    "                pass\n",
    "            else:\n",
    "                if k1 != k2:\n",
    "                    rms = AllChem.GetBestRMS(Chem.RemoveHs(m1),Chem.RemoveHs(m2))\n",
    "                    similarity_matrix[(k1, k2)] = rms \n",
    "                    \n",
    "    return similarity_matrix\n",
    "\n",
    "\n",
    "def find_duplicates_in_sorted_similarity_matrix(similarity_matrix_sorted, energy):\n",
    "    \n",
    "    similarity_thresh = 0.5 # Angstrom\n",
    "    energy_thresh     = 5   # kcal/mol\n",
    "    \n",
    "    to_be_deleted     = []\n",
    "    \n",
    "    for pair in similarity_matrix_sorted:\n",
    "        if pair[1] < similarity_thresh:\n",
    "            conf1 = pair[0][0]\n",
    "            conf2 = pair[0][1]\n",
    "            if abs(energy[conf1] - energy[conf2]) < energy_thresh:\n",
    "                #print(\"conf1, conf2, E(conf1), E(conf2) = \", conf1, conf2, energy_m1_b[conf1], energy_m1_b[conf2])\n",
    "                if energy[conf1] < energy[conf2]:\n",
    "                    to_be_deleted.append(conf2)\n",
    "                else:\n",
    "                    to_be_deleted.append(conf1)\n",
    "        else:\n",
    "            # similarity_matrix_b_sorted is sorted, so here we would already start looping over \n",
    "            # pairs for which rmsd is > threshold \n",
    "            # and we do not need to do this, so break\n",
    "            break\n",
    "\n",
    "    return to_be_deleted\n",
    "\n",
    "\n",
    "def find_duplicates(rms_sorted, energy, rms_thresh):\n",
    "    i = 0\n",
    "    to_be_deleted = []\n",
    "    while i < len(rms_sorted):\n",
    "        j = i + 1\n",
    "        while j < len(rms_sorted):\n",
    "            if rms_sorted[i][0] in to_be_deleted:\n",
    "                i = i + 1\n",
    "                j = j + 1\n",
    "            elif rms_sorted[j][0] in to_be_deleted:\n",
    "                j = j + 1\n",
    "            else:\n",
    "                rms1 = rms_sorted[i][1]\n",
    "                rms2 = rms_sorted[j][1]\n",
    "                if (rms2 - rms1) < rms_thresh:\n",
    "                    if energy[rms_sorted[i][0]] < energy[rms_sorted[j][0]]:\n",
    "                        to_be_deleted.append(rms_sorted[j][0])\n",
    "                    else:\n",
    "                        to_be_deleted.append(rms_sorted[i][0])\n",
    "                else:\n",
    "                    break\n",
    "        i = i + 1\n",
    "    if to_be_deleted:\n",
    "        print(\"Conformers which will be deleted:\")    \n",
    "        print(to_be_deleted)\n",
    "    return to_be_deleted"
   ]
  },
  {
   "cell_type": "markdown",
   "metadata": {
    "deletable": true,
    "editable": true
   },
   "source": [
    "## Crystal structure of \"M1\" macrocycle"
   ]
  },
  {
   "cell_type": "code",
   "execution_count": null,
   "metadata": {
    "collapsed": false,
    "deletable": true,
    "editable": true,
    "scrolled": false
   },
   "outputs": [],
   "source": [
    "cm1 = open('/home/gosia/work/work_on_gitlab/icho/calcs/m1/m1_crystal.xyz','r').read()\n",
    "vcm1 = py3Dmol.view(width=400,height=400)\n",
    "vcm1.removeAllModels()\n",
    "vcm1.addModel(cm1,'xyz')\n",
    "vcm1.setStyle({'stick':{'radius':0.15,'color':'spectrum'}})\n",
    "vcm1.setBackgroundColor('0xeeeeee')\n",
    "vcm1.zoomTo()\n",
    "vcm1.show()"
   ]
  },
  {
   "cell_type": "code",
   "execution_count": null,
   "metadata": {
    "collapsed": true,
    "deletable": true,
    "editable": true
   },
   "outputs": [],
   "source": [
    "# \"core\" is a part of a molecule, which we wish to be the \"most-aligned\" among multiple conformers\n",
    "smiles      = 'O=C1NCCNC(=O)c2nc(C(=O)NCCNC(=O)c3nc1ccc3)ccc2'\n",
    "core_smiles = 'n1ccccc1'\n",
    "\n",
    "m1 = Chem.AddHs(Chem.MolFromSmiles(smiles))\n",
    "core_m1 = m1.GetSubstructMatch(Chem.MolFromSmiles(core_smiles))\n",
    "\n",
    "templ_m1 = Chem.SDMolSupplier('/home/gosia/work/work_on_gitlab/icho/calcs/m1/m1_crystal.sdf')\n",
    "m1_crystal = templ_m1[0]"
   ]
  },
  {
   "cell_type": "markdown",
   "metadata": {
    "deletable": true,
    "editable": true
   },
   "source": [
    "## Conformers generated with the Balloon software:"
   ]
  },
  {
   "cell_type": "markdown",
   "metadata": {
    "deletable": true,
    "editable": true
   },
   "source": [
    "Conformers were generated in the Balloon software with the following starting structures:\n",
    "\n",
    "* the crystal geometry (3D), results with prefix: \"m1_b_sdf\"; the crystal is of the \"ss-ss\" type;\n",
    "\n",
    "* the SMILES signature of M1 (\"0D\") and allowing to \"rebuild the geometry\" (option \"--rebuildGeometry\"), results with prefix: \"m1_b_smi\"\n",
    "\n",
    "* 3D structures generated in Avogadro (from the crystal geometry and pre-optimized) of the:\n",
    "    * \"ss_sa\" type\n",
    "    * \"ss_aa\" type\n",
    "    * \"sa_sa\" type\n",
    "    * \"sa_as\" type\n",
    "    * \"sa_aa\" type\n",
    "    * \"aa_aa\" type    \n",
    "\n",
    "    where \"ss\\_sa\" means \"(ring1: syn-syn)\\_(ring2: syn-anti)\" configuration of the amide groups, paired by the neighbouring aromatic ring, etc.\n",
    "    \n",
    "The geometries of generated conformers were then pre-optimized with the MM methods (using MMFF94-like force field).\n",
    "\n",
    "In all cases the Balloon software was asked to generate 100 conformers using the genertic algorithm with default settings (only \"maxPostprocessIter\" increased to 150 and \"nGenerations\" to 300)."
   ]
  },
  {
   "cell_type": "code",
   "execution_count": null,
   "metadata": {
    "collapsed": false,
    "deletable": true,
    "editable": true
   },
   "outputs": [],
   "source": [
    "inps_m1_b_sdf = glob.glob('/home/gosia/work/work_on_gitlab/icho/calcs/m1/balloon/results_starting_from_crystalsdf/*.sdf')\n",
    "inps_m1_b_smi = glob.glob('/home/gosia/work/work_on_gitlab/icho/calcs/m1/balloon/results_starting_from_crystalsmiles/*.sdf')\n",
    "inps_m1_b_ss_sa = glob.glob('/home/gosia/work/work_on_gitlab/icho/calcs/m1/balloon/results_starting_from_m1_ss_sa/*.sdf')\n",
    "inps_m1_b_ss_aa = glob.glob('/home/gosia/work/work_on_gitlab/icho/calcs/m1/balloon/results_starting_from_m1_ss_aa/*.sdf')\n",
    "inps_m1_b_sa_sa = glob.glob('/home/gosia/work/work_on_gitlab/icho/calcs/m1/balloon/results_starting_from_m1_sa_sa/*.sdf')\n",
    "inps_m1_b_sa_as = glob.glob('/home/gosia/work/work_on_gitlab/icho/calcs/m1/balloon/results_starting_from_m1_sa_as/*.sdf')\n",
    "inps_m1_b_sa_aa = glob.glob('/home/gosia/work/work_on_gitlab/icho/calcs/m1/balloon/results_starting_from_m1_sa_aa/*.sdf')\n",
    "inps_m1_b_aa_aa = glob.glob('/home/gosia/work/work_on_gitlab/icho/calcs/m1/balloon/results_starting_from_m1_aa_aa/*.sdf')"
   ]
  },
  {
   "cell_type": "code",
   "execution_count": null,
   "metadata": {
    "collapsed": false,
    "deletable": true,
    "editable": true
   },
   "outputs": [],
   "source": [
    "e_m1_b_sdf = grep_energies_from_sdf_outputs(inps_m1_b_sdf)\n",
    "e_m1_b_smi = grep_energies_from_sdf_outputs(inps_m1_b_smi)\n",
    "e_m1_b_ss_sa = grep_energies_from_sdf_outputs(inps_m1_b_ss_sa)\n",
    "e_m1_b_ss_aa = grep_energies_from_sdf_outputs(inps_m1_b_ss_aa)\n",
    "e_m1_b_sa_sa = grep_energies_from_sdf_outputs(inps_m1_b_sa_sa)\n",
    "e_m1_b_sa_as = grep_energies_from_sdf_outputs(inps_m1_b_sa_as)\n",
    "e_m1_b_sa_aa = grep_energies_from_sdf_outputs(inps_m1_b_sa_aa)\n",
    "e_m1_b_aa_aa = grep_energies_from_sdf_outputs(inps_m1_b_aa_aa)"
   ]
  },
  {
   "cell_type": "code",
   "execution_count": null,
   "metadata": {
    "collapsed": false,
    "deletable": true,
    "editable": true
   },
   "outputs": [],
   "source": [
    "# write conformers to dictionaries\n",
    "   \n",
    "suppl_m1_b_sdf  = Chem.SDMolSupplier('/home/gosia/work/work_on_gitlab/icho/calcs/m1/balloon/m1_crystal_sdfout.sdf')\n",
    "suppl_m1_b_smi  = Chem.SDMolSupplier('/home/gosia/work/work_on_gitlab/icho/calcs/m1/balloon/m1_crystal_smilesout.sdf')\n",
    "suppl_m1_b_ss_sa  = Chem.SDMolSupplier('/home/gosia/work/work_on_gitlab/icho/calcs/m1/balloon/m1_ss_sa_sdfout.sdf')\n",
    "suppl_m1_b_ss_aa  = Chem.SDMolSupplier('/home/gosia/work/work_on_gitlab/icho/calcs/m1/balloon/m1_ss_aa_sdfout.sdf')\n",
    "suppl_m1_b_sa_sa  = Chem.SDMolSupplier('/home/gosia/work/work_on_gitlab/icho/calcs/m1/balloon/m1_sa_sa_sdfout.sdf')\n",
    "suppl_m1_b_sa_as  = Chem.SDMolSupplier('/home/gosia/work/work_on_gitlab/icho/calcs/m1/balloon/m1_sa_as_sdfout.sdf')\n",
    "suppl_m1_b_sa_aa  = Chem.SDMolSupplier('/home/gosia/work/work_on_gitlab/icho/calcs/m1/balloon/m1_sa_aa_sdfout.sdf')\n",
    "suppl_m1_b_aa_aa  = Chem.SDMolSupplier('/home/gosia/work/work_on_gitlab/icho/calcs/m1/balloon/m1_aa_aa_sdfout.sdf')\n",
    "\n",
    "allmol_m1_b_sdf   = write_to_dict(\"m1_b_sdf_\", suppl_m1_b_sdf)\n",
    "allmol_m1_b_smi   = write_to_dict(\"m1_b_smi_\", suppl_m1_b_smi)\n",
    "allmol_m1_b_ss_sa = write_to_dict(\"m1_b_ss_sa_\", suppl_m1_b_ss_sa)\n",
    "allmol_m1_b_ss_aa = write_to_dict(\"m1_b_ss_aa_\", suppl_m1_b_ss_aa)\n",
    "allmol_m1_b_sa_sa = write_to_dict(\"m1_b_sa_sa_\", suppl_m1_b_sa_sa)\n",
    "allmol_m1_b_sa_as = write_to_dict(\"m1_b_sa_as_\", suppl_m1_b_sa_as)\n",
    "allmol_m1_b_sa_aa = write_to_dict(\"m1_b_sa_aa_\", suppl_m1_b_sa_aa)\n",
    "allmol_m1_b_aa_aa = write_to_dict(\"m1_b_aa_aa_\", suppl_m1_b_aa_aa)"
   ]
  },
  {
   "cell_type": "markdown",
   "metadata": {
    "deletable": true,
    "editable": true
   },
   "source": [
    "The generated conformer structures are presented in a separate notebook: [link](http://nbviewer.jupyter.org/github/gosiao/icho-notebooks/blob/master/conformers_m1_suppl1.ipynb)."
   ]
  },
  {
   "cell_type": "markdown",
   "metadata": {
    "deletable": true,
    "editable": true
   },
   "source": [
    "### pre-screening"
   ]
  },
  {
   "cell_type": "markdown",
   "metadata": {
    "deletable": true,
    "editable": true
   },
   "source": [
    "All generated structures are pre-optimized with MM methods (MMFF94-like force field). To remove potential duplicates, we will:\n",
    "\n",
    "* calculate the root-mean-square-distance (RMSD) between the pairs of conformers (taking into account non-hydrogen atoms only);\n",
    "* compare the energies of conformers from pairs which are found to be similar (RMSD lower than the threshold);\n",
    "* if these energies are too similar (the difference lower than the threshold), we will remove the conformer which has the higher energy value;"
   ]
  },
  {
   "cell_type": "code",
   "execution_count": null,
   "metadata": {
    "collapsed": false,
    "deletable": true,
    "editable": true
   },
   "outputs": [],
   "source": [
    "allmol_m1_b = {}\n",
    "allmol_m1_b.update(allmol_m1_b_sdf)\n",
    "allmol_m1_b.update(allmol_m1_b_smi)\n",
    "allmol_m1_b.update(allmol_m1_b_ss_sa)\n",
    "allmol_m1_b.update(allmol_m1_b_ss_aa)\n",
    "allmol_m1_b.update(allmol_m1_b_sa_sa)\n",
    "allmol_m1_b.update(allmol_m1_b_sa_as)\n",
    "allmol_m1_b.update(allmol_m1_b_sa_aa)\n",
    "allmol_m1_b.update(allmol_m1_b_aa_aa)\n",
    "\n",
    "print(\"The total number of generated conformers = \", len(allmol_m1_b))\n",
    "             \n",
    "energy_m1_b = {}\n",
    "energy_m1_b.update(e_m1_b_sdf)\n",
    "energy_m1_b.update(e_m1_b_smi)\n",
    "energy_m1_b.update(e_m1_b_ss_sa)\n",
    "energy_m1_b.update(e_m1_b_ss_aa)\n",
    "energy_m1_b.update(e_m1_b_sa_sa)\n",
    "energy_m1_b.update(e_m1_b_sa_as)\n",
    "energy_m1_b.update(e_m1_b_sa_aa)\n",
    "energy_m1_b.update(e_m1_b_aa_aa)"
   ]
  },
  {
   "cell_type": "code",
   "execution_count": null,
   "metadata": {
    "collapsed": false,
    "deletable": true,
    "editable": true
   },
   "outputs": [],
   "source": [
    "# 1. calculate the similarity matrix between all pairs of conformers and sort its elements from the lowest\n",
    "# (the most similar structures) to the largest values (the most different structures)\n",
    "similarity_matrix_b = make_similarity_matrix(allmol_m1_b)\n",
    "similarity_matrix_b_sorted = sorted(similarity_matrix_b.items(), key=lambda x: x[1])\n",
    "\n",
    "# 2. remove duplicates:\n",
    "# for all pairs of structures, for which the similarity value is lower than threshold (\"similarity_thresh\"), \n",
    "# compare energies; then if the energies are similar (controlled by the \"energy_thresh\"), \n",
    "#then remove the one with higher energy\n",
    "to_be_deleted = find_duplicates_in_sorted_similarity_matrix(similarity_matrix_b_sorted, energy_m1_b)\n",
    "\n",
    "for mol in to_be_deleted:\n",
    "    #print(\"to_be_deleted: \", mol)\n",
    "    to_be_deleted_keys = list(k for k in similarity_matrix_b.keys() if mol in k)\n",
    "    for k in to_be_deleted_keys:\n",
    "        del similarity_matrix_b[k]\n",
    "    allmol_m1_b.pop(mol, None)\n",
    "    energy_m1_b.pop(mol, None)\n",
    "    "
   ]
  },
  {
   "cell_type": "code",
   "execution_count": null,
   "metadata": {
    "collapsed": false,
    "deletable": true,
    "editable": true
   },
   "outputs": [],
   "source": [
    "print(\"We have removed potential conformer duplicates.\")\n",
    "print(\"The final number of remaining conformers = \", len(allmol_m1_b))\n",
    "print(\"Below we present all the remaining conformers aligned (to one aromatic ring).\")"
   ]
  },
  {
   "cell_type": "code",
   "execution_count": null,
   "metadata": {
    "collapsed": false,
    "deletable": true,
    "editable": true
   },
   "outputs": [],
   "source": [
    "align_structures_to_lowest_energy(allmol_m1_b, energy_m1_b)\n",
    "p_b = prepare_view(allmol_m1_b)\n",
    "p_b.show()"
   ]
  },
  {
   "cell_type": "code",
   "execution_count": null,
   "metadata": {
    "collapsed": false,
    "deletable": true,
    "editable": true
   },
   "outputs": [],
   "source": [
    "print(\"Sorted energy of all selected conformers and the energy differences with respect to the lowest:\")\n",
    "energy_sorted = sorted(energy_m1_b.items(), key=lambda x: x[1])\n",
    "energy_diff = []\n",
    "e_min = energy_sorted[0][1]\n",
    "for e in energy_sorted:\n",
    "    e_diff = e[1] - e_min\n",
    "    energy_diff.append([e[0], e[1], e_diff])\n",
    "\n",
    "e_df = pd.DataFrame(energy_diff, columns=[\"conformer\", \"E\", \"E - Emin\"])\n",
    "e_df"
   ]
  },
  {
   "cell_type": "markdown",
   "metadata": {
    "deletable": true,
    "editable": true
   },
   "source": [
    "## Conformers generated with the RDKit software:"
   ]
  },
  {
   "cell_type": "markdown",
   "metadata": {
    "deletable": true,
    "editable": true
   },
   "source": [
    "Conformers were generated in the RDKit software with the following starting structures:\n",
    "\n",
    "* the crystal geometry (3D), results with prefix: \"m1_b_sdf\"; the crystal is of the \"ss-ss\" type;\n",
    "\n",
    "* the SMILES signature of M1 (\"0D\") and allowing to \"rebuild the geometry\" (option \"--rebuildGeometry\"), results with prefix: \"m1_b_smi\"\n",
    "\n",
    "* 3D structures generated in Avogadro (from the crystal geometry and pre-optimized) of the:\n",
    "    * \"ss_sa\" type\n",
    "    * \"ss_aa\" type\n",
    "    * \"sa_sa\" type\n",
    "    * \"sa_as\" type\n",
    "    * \"sa_aa\" type\n",
    "    * \"aa_aa\" type    \n",
    "\n",
    "    where \"ss\\_sa\" means \"(ring1: syn-syn)\\_(ring2: syn-anti)\" configuration of the amide groups, paired by the neighbouring aromatic ring, etc.\n",
    "\n",
    "\n",
    "The geometries of generated conformers were then pre-optimized with the MM methods (using UFF force field).\n",
    "\n",
    "In all cases the RDKit software was asked to generate 100 conformers using the distnce geometry algorithm with default settings (only \"pruneRmsThresh\" set to 1.0 in \"AllChem.EmbedMultipleConfs\" and \"maxIters\" set to 500 or 700 (when needed) in \"AllChem.UFFOptimizeMolecule\")."
   ]
  },
  {
   "cell_type": "code",
   "execution_count": null,
   "metadata": {
    "collapsed": false,
    "deletable": true,
    "editable": true
   },
   "outputs": [],
   "source": [
    "inps_m1_rdkit_smi = glob.glob('/home/gosia/work/work_on_gitlab/icho/calcs/m1/rdkit/results_crystal_from_smiles/*.sdf')\n",
    "inps_m1_rdkit_sdf = glob.glob('/home/gosia/work/work_on_gitlab/icho/calcs/m1/rdkit/results_crystal_from_sdf/*.sdf')\n",
    "inps_m1_rdkit_ss_sa = glob.glob('/home/gosia/work/work_on_gitlab/icho/calcs/m1/rdkit/results_from_m1_ss_sa/*.sdf')\n",
    "inps_m1_rdkit_ss_aa = glob.glob('/home/gosia/work/work_on_gitlab/icho/calcs/m1/rdkit/results_from_m1_ss_aa/*.sdf')\n",
    "inps_m1_rdkit_sa_sa = glob.glob('/home/gosia/work/work_on_gitlab/icho/calcs/m1/rdkit/results_from_m1_sa_sa/*.sdf')\n",
    "inps_m1_rdkit_sa_as = glob.glob('/home/gosia/work/work_on_gitlab/icho/calcs/m1/rdkit/results_from_m1_sa_as/*.sdf')\n",
    "inps_m1_rdkit_sa_aa = glob.glob('/home/gosia/work/work_on_gitlab/icho/calcs/m1/rdkit/results_from_m1_sa_aa/*.sdf')\n",
    "inps_m1_rdkit_aa_aa = glob.glob('/home/gosia/work/work_on_gitlab/icho/calcs/m1/rdkit/results_from_m1_aa_aa/*.sdf')"
   ]
  },
  {
   "cell_type": "code",
   "execution_count": null,
   "metadata": {
    "collapsed": false,
    "deletable": true,
    "editable": true
   },
   "outputs": [],
   "source": [
    "e_m1_rdkit_smi = grep_energies_from_sdf_outputs(inps_m1_rdkit_smi)\n",
    "e_m1_rdkit_sdf = grep_energies_from_sdf_outputs(inps_m1_rdkit_sdf)\n",
    "e_m1_rdkit_ss_sa = grep_energies_from_sdf_outputs(inps_m1_rdkit_ss_sa)\n",
    "e_m1_rdkit_ss_aa = grep_energies_from_sdf_outputs(inps_m1_rdkit_ss_aa)\n",
    "e_m1_rdkit_sa_sa = grep_energies_from_sdf_outputs(inps_m1_rdkit_sa_sa)\n",
    "e_m1_rdkit_sa_as = grep_energies_from_sdf_outputs(inps_m1_rdkit_sa_as)\n",
    "e_m1_rdkit_sa_aa = grep_energies_from_sdf_outputs(inps_m1_rdkit_sa_aa)\n",
    "e_m1_rdkit_aa_aa = grep_energies_from_sdf_outputs(inps_m1_rdkit_aa_aa)"
   ]
  },
  {
   "cell_type": "code",
   "execution_count": null,
   "metadata": {
    "collapsed": false,
    "deletable": true,
    "editable": true
   },
   "outputs": [],
   "source": [
    "# write conformers to dictionaries\n",
    "suppl_m1_rdkit_smi  = Chem.SDMolSupplier('/home/gosia/work/work_on_gitlab/icho/calcs/m1/rdkit/result_smiles.sdf')\n",
    "suppl_m1_rdkit_sdf  = Chem.SDMolSupplier('/home/gosia/work/work_on_gitlab/icho/calcs/m1/rdkit/result_sdf.sdf')\n",
    "suppl_m1_rdkit_ss_sa  = Chem.SDMolSupplier('/home/gosia/work/work_on_gitlab/icho/calcs/m1/rdkit/result_m1_ss_sa.sdf')\n",
    "suppl_m1_rdkit_ss_aa  = Chem.SDMolSupplier('/home/gosia/work/work_on_gitlab/icho/calcs/m1/rdkit/result_m1_ss_aa.sdf')\n",
    "suppl_m1_rdkit_sa_sa  = Chem.SDMolSupplier('/home/gosia/work/work_on_gitlab/icho/calcs/m1/rdkit/result_m1_sa_sa.sdf')\n",
    "suppl_m1_rdkit_sa_as  = Chem.SDMolSupplier('/home/gosia/work/work_on_gitlab/icho/calcs/m1/rdkit/result_m1_sa_as.sdf')\n",
    "suppl_m1_rdkit_sa_aa  = Chem.SDMolSupplier('/home/gosia/work/work_on_gitlab/icho/calcs/m1/rdkit/result_m1_sa_aa.sdf')\n",
    "suppl_m1_rdkit_aa_aa  = Chem.SDMolSupplier('/home/gosia/work/work_on_gitlab/icho/calcs/m1/rdkit/result_m1_aa_aa.sdf')\n",
    "\n",
    "allmol_m1_rdkit_smi = write_to_dict(\"m1_rdkit_smi_\", suppl_m1_rdkit_smi)\n",
    "allmol_m1_rdkit_sdf = write_to_dict(\"m1_rdkit_sdf_\", suppl_m1_rdkit_sdf)\n",
    "allmol_m1_rdkit_ss_sa = write_to_dict(\"m1_rdkit_ss_sa_\", suppl_m1_rdkit_ss_sa)\n",
    "allmol_m1_rdkit_ss_aa = write_to_dict(\"m1_rdkit_ss_aa_\", suppl_m1_rdkit_ss_aa)\n",
    "allmol_m1_rdkit_sa_sa = write_to_dict(\"m1_rdkit_sa_sa_\", suppl_m1_rdkit_sa_sa)\n",
    "allmol_m1_rdkit_sa_as = write_to_dict(\"m1_rdkit_sa_as_\", suppl_m1_rdkit_sa_as)\n",
    "allmol_m1_rdkit_sa_aa = write_to_dict(\"m1_rdkit_sa_aa_\", suppl_m1_rdkit_sa_aa)\n",
    "allmol_m1_rdkit_aa_aa = write_to_dict(\"m1_rdkit_aa_aa_\", suppl_m1_rdkit_aa_aa)"
   ]
  },
  {
   "cell_type": "markdown",
   "metadata": {},
   "source": [
    "The generated conformer structures are presented in a separate notebook: [link](http://nbviewer.jupyter.org/github/gosiao/icho-notebooks/blob/master/conformers_m1_suppl1.ipynb)."
   ]
  },
  {
   "cell_type": "markdown",
   "metadata": {
    "deletable": true,
    "editable": true
   },
   "source": [
    "### pre-screening"
   ]
  },
  {
   "cell_type": "markdown",
   "metadata": {
    "deletable": true,
    "editable": true
   },
   "source": [
    "All the generated structures are pre-optimized with MM methods (UFF force field). To remove potential duplicates, we will:\n",
    "\n",
    "* calculate the root-mean-square-distance (RMSD) between the pairs of conformers (taking into account non-hydrogen atoms only);\n",
    "* compare the energies of conformers from pairs which are found to be similar (RMSD lower than the threshold);\n",
    "* if these energies are too similar (the difference lower than the threshold), we will remove the conformer which has the higher energy value;"
   ]
  },
  {
   "cell_type": "code",
   "execution_count": null,
   "metadata": {
    "collapsed": false,
    "deletable": true,
    "editable": true
   },
   "outputs": [],
   "source": [
    "allmol_m1_rdkit = {}\n",
    "allmol_m1_rdkit.update(allmol_m1_rdkit_sdf)\n",
    "allmol_m1_rdkit.update(allmol_m1_rdkit_smi)\n",
    "allmol_m1_rdkit.update(allmol_m1_rdkit_ss_sa)\n",
    "allmol_m1_rdkit.update(allmol_m1_rdkit_ss_aa)\n",
    "allmol_m1_rdkit.update(allmol_m1_rdkit_sa_sa)\n",
    "allmol_m1_rdkit.update(allmol_m1_rdkit_sa_as)\n",
    "allmol_m1_rdkit.update(allmol_m1_rdkit_sa_aa)\n",
    "allmol_m1_rdkit.update(allmol_m1_rdkit_aa_aa)\n",
    "\n",
    "print(\"The total number of generated conformers = \", len(allmol_m1_rdkit))\n",
    "             \n",
    "energy_m1_rdkit = {}\n",
    "energy_m1_rdkit.update(e_m1_rdkit_sdf)\n",
    "energy_m1_rdkit.update(e_m1_rdkit_smi)\n",
    "energy_m1_rdkit.update(e_m1_rdkit_ss_sa)\n",
    "energy_m1_rdkit.update(e_m1_rdkit_ss_aa)\n",
    "energy_m1_rdkit.update(e_m1_rdkit_sa_sa)\n",
    "energy_m1_rdkit.update(e_m1_rdkit_sa_as)\n",
    "energy_m1_rdkit.update(e_m1_rdkit_sa_aa)\n",
    "energy_m1_rdkit.update(e_m1_rdkit_aa_aa)"
   ]
  },
  {
   "cell_type": "code",
   "execution_count": null,
   "metadata": {
    "collapsed": false,
    "deletable": true,
    "editable": true
   },
   "outputs": [],
   "source": [
    "# 1. calculate the similarity matrix between all pairs of conformers and sort its elements from the lowest\n",
    "# (the most similar structures) to the largest values (the most different structures)\n",
    "similarity_matrix_rdkit = make_similarity_matrix(allmol_m1_rdkit)\n",
    "similarity_matrix_rdkit_sorted = sorted(similarity_matrix_rdkit.items(), key=lambda x: x[1])\n",
    "\n",
    "# 2. remove duplicates:\n",
    "# for all pairs of structures, for which the similarity value is lower than threshold (\"similarity_thresh\"), \n",
    "# compare energies; then if the energies are similar (controlled by the \"energy_thresh\"), \n",
    "#then remove the one with higher energy\n",
    "to_be_deleted = find_duplicates_in_sorted_similarity_matrix(similarity_matrix_rdkit_sorted, energy_m1_rdkit)\n",
    "\n",
    "for mol in to_be_deleted:\n",
    "    #print(\"to_be_deleted: \", mol)\n",
    "    to_be_deleted_keys = list(k for k in similarity_matrix_rdkit.keys() if mol in k)\n",
    "    for k in to_be_deleted_keys:\n",
    "        del similarity_matrix_rdkit[k]\n",
    "    allmol_m1_rdkit.pop(mol, None)\n",
    "    energy_m1_rdkit.pop(mol, None) "
   ]
  },
  {
   "cell_type": "code",
   "execution_count": null,
   "metadata": {
    "collapsed": false,
    "deletable": true,
    "editable": true
   },
   "outputs": [],
   "source": [
    "print(\"We have removed potential conformer duplicates.\")\n",
    "print(\"The final number of remaining conformers = \", len(allmol_m1_rdkit))\n",
    "print(\"Below we present all the remaining conformers aligned (to one aromatic ring).\")"
   ]
  },
  {
   "cell_type": "code",
   "execution_count": null,
   "metadata": {
    "collapsed": false,
    "deletable": true,
    "editable": true
   },
   "outputs": [],
   "source": [
    "align_structures_to_lowest_energy(allmol_m1_rdkit, energy_m1_rdkit)\n",
    "p_rdkit = prepare_view(allmol_m1_rdkit)\n",
    "p_rdkit.show()"
   ]
  },
  {
   "cell_type": "markdown",
   "metadata": {
    "deletable": true,
    "editable": true
   },
   "source": [
    "## Summary"
   ]
  },
  {
   "cell_type": "markdown",
   "metadata": {
    "deletable": true,
    "editable": true
   },
   "source": [
    "Now let's generate a list of all conformers (from all programs used).\n",
    "We will not further pre-screen the structures, as different programs use different force fields and the comparison of structures based on RMSD without the comparison of energies might lead to the removal of promising candidates."
   ]
  },
  {
   "cell_type": "code",
   "execution_count": null,
   "metadata": {
    "collapsed": false,
    "deletable": true,
    "editable": true
   },
   "outputs": [],
   "source": [
    "allmol_m1 = {}\n",
    "allmol_m1.update(allmol_m1_b)\n",
    "allmol_m1.update(allmol_m1_rdkit)\n",
    "\n",
    "energy_m1 = {}\n",
    "energy_m1.update(energy_m1_b)\n",
    "energy_m1.update(energy_m1_rdkit)"
   ]
  },
  {
   "cell_type": "markdown",
   "metadata": {
    "deletable": true,
    "editable": true
   },
   "source": [
    "Finally we can align all conformers which will further be used as starting points in DFT geometry optimizations; the total number of conformers is:"
   ]
  },
  {
   "cell_type": "code",
   "execution_count": null,
   "metadata": {
    "collapsed": false,
    "deletable": true,
    "editable": true
   },
   "outputs": [],
   "source": [
    "print(len(allmol_m1))"
   ]
  },
  {
   "cell_type": "code",
   "execution_count": null,
   "metadata": {
    "collapsed": false,
    "deletable": true,
    "editable": true
   },
   "outputs": [],
   "source": [
    "align_structures_to_lowest_energy(allmol_m1, energy_m1)\n",
    "p_all = prepare_view(allmol_m1)\n",
    "p_all.show()"
   ]
  },
  {
   "cell_type": "markdown",
   "metadata": {
    "deletable": true,
    "editable": true
   },
   "source": [
    "Write the selected conformers' names to the list \"list_selected_conformers_from_balloon_rdkit\". It will be used to generate Gaussian inputs:"
   ]
  },
  {
   "cell_type": "code",
   "execution_count": null,
   "metadata": {
    "collapsed": false,
    "deletable": true,
    "editable": true
   },
   "outputs": [],
   "source": [
    "with open(\"/home/gosia/work/work_on_gitlab/icho/calcs/m1/list_selected_conformers_from_ballon_rdkit\", \"w\") as f:\n",
    "    for key, mol in allmol_m1.items():\n",
    "        f.write(key+\"\\n\")\n",
    "\n",
    "energy_sorted = sorted(energy_m1.items(), key=lambda x: x[1])\n",
    "with open(\"/home/gosia/work/work_on_gitlab/icho/calcs/m1/detailed_list_selected_conformers_from_ballon_rdkit\", \"w\") as f:\n",
    "    for pair in energy_sorted:\n",
    "        f.write(\"{0:30}   {1}\\n\".format(pair[0], pair[1]))        "
   ]
  }
 ],
 "metadata": {
  "kernelspec": {
   "display_name": "Python 3",
   "language": "python",
   "name": "python3"
  },
  "language_info": {
   "codemirror_mode": {
    "name": "ipython",
    "version": 3
   },
   "file_extension": ".py",
   "mimetype": "text/x-python",
   "name": "python",
   "nbconvert_exporter": "python",
   "pygments_lexer": "ipython3",
   "version": "3.5.3"
  }
 },
 "nbformat": 4,
 "nbformat_minor": 2
}
