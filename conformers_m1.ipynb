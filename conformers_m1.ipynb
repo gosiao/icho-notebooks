{
 "cells": [
  {
   "cell_type": "markdown",
   "metadata": {
    "deletable": true,
    "editable": true
   },
   "source": [
    "# Exploring conformational space of selected macrocycles - \"M1\"; <br /> Part 1: Generation and selection of conformer candidates (MM methods)"
   ]
  },
  {
   "cell_type": "code",
   "execution_count": null,
   "metadata": {
    "collapsed": false,
    "deletable": true,
    "editable": true
   },
   "outputs": [],
   "source": [
    "from IPython.display import HTML\n",
    "\n",
    "HTML('''<script>\n",
    "code_show=true; \n",
    "function code_toggle() {\n",
    " if (code_show){\n",
    " $('div.input').hide();\n",
    " } else {\n",
    " $('div.input').show();\n",
    " }\n",
    " code_show = !code_show\n",
    "}\n",
    "$( document ).ready(code_toggle);\n",
    "</script>\n",
    "<form action=\"javascript:code_toggle()\"><input type=\"submit\" value=\"Click here to toggle on/off the raw code.\"></form>''')"
   ]
  },
  {
   "cell_type": "code",
   "execution_count": 173,
   "metadata": {
    "collapsed": false,
    "deletable": true,
    "editable": true
   },
   "outputs": [
    {
     "name": "stdout",
     "output_type": "stream",
     "text": [
      "2016.09.4\n",
      "Mon May 29 12:57:48 2017\n"
     ]
    }
   ],
   "source": [
    "import glob\n",
    "import py3Dmol\n",
    "\n",
    "import matplotlib\n",
    "import matplotlib.pyplot as plt\n",
    "import seaborn as sns\n",
    "import pandas as pd\n",
    "import numpy as np\n",
    "%matplotlib inline \n",
    "\n",
    "from rdkit import Chem\n",
    "from rdkit.Chem import AllChem\n",
    "from rdkit.Chem import Draw\n",
    "from rdkit.Chem import rdMolAlign\n",
    "from rdkit.Chem.Draw import IPythonConsole\n",
    "from rdkit import rdBase\n",
    "print(rdBase.rdkitVersion)\n",
    "import os,time\n",
    "print( time.asctime())"
   ]
  },
  {
   "cell_type": "code",
   "execution_count": 174,
   "metadata": {
    "collapsed": true,
    "deletable": true,
    "editable": true
   },
   "outputs": [],
   "source": [
    "# Functions used in this notebook:\n",
    "\n",
    "def grep_energies_from_sdf_outputs(files):\n",
    "    energies = {}\n",
    "    for inp in files:\n",
    "        with open(inp,'r') as f:\n",
    "            lines = f.readlines()\n",
    "            for i, line in enumerate(lines):\n",
    "                if \"M  END\" in line:\n",
    "                    energies[os.path.splitext(os.path.basename(inp))[0]] = float(lines[i+1])\n",
    "    return energies\n",
    "\n",
    "def write_to_dict(prefix, suppl):\n",
    "    moldict = {}\n",
    "    for i, mol in enumerate(suppl):\n",
    "        name = prefix + str(i)\n",
    "        moldict[name] = mol\n",
    "    return moldict\n",
    "\n",
    "def align_structures_to_crystal(moldict):\n",
    "    for key, mol in moldict.items():\n",
    "        core_mol = mol.GetSubstructMatch(Chem.MolFromSmiles(core_smiles))\n",
    "        AllChem.AlignMol(mol,m1_crystal,atomMap=list(zip(core_mol,core_m1)))\n",
    "\n",
    "def align_structures_to_lowest_energy(moldict, energy_dict):\n",
    "    \"\"\"\n",
    "    align structures from the structures' dictionary\n",
    "    \n",
    "    note that the dictionary in python is not ordered, so the \"first\" element is arbitrary\n",
    "    \"\"\"\n",
    "    energy_sorted = sorted(energy_dict.items(), key=lambda x: x[1])\n",
    "    first = energy_sorted[0][0]\n",
    "    core_first = moldict[first].GetSubstructMatch(Chem.MolFromSmiles(core_smiles))\n",
    "    \n",
    "    for key, mol in moldict.items():\n",
    "        core_mol = mol.GetSubstructMatch(Chem.MolFromSmiles(core_smiles))\n",
    "        AllChem.AlignMol(mol,moldict[first],atomMap=list(zip(core_mol,core_first)))        \n",
    "\n",
    "def prepare_view(moldict):\n",
    "    p = py3Dmol.view(width=400,height=400)\n",
    "    for key, mol in moldict.items():\n",
    "        mb = Chem.MolToMolBlock(mol)\n",
    "        p.addModel(mb,'sdf')\n",
    "    p.setStyle({'stick':{'radius':'0.15'}})\n",
    "    p.setBackgroundColor('0xeeeeee')\n",
    "    p.zoomTo()\n",
    "    return p        \n",
    "\n",
    "def make_similarity_matrix(moldict):\n",
    "    \n",
    "    similarity_matrix = {}\n",
    "\n",
    "    for k1, m1 in moldict.items():\n",
    "        for k2, m2 in moldict.items():\n",
    "            if (k1, k2) in similarity_matrix.keys() or (k2, k1) in similarity_matrix.keys():\n",
    "                pass\n",
    "            else:\n",
    "                if k1 != k2:\n",
    "                    rms = AllChem.GetBestRMS(Chem.RemoveHs(m1),Chem.RemoveHs(m2))\n",
    "                    similarity_matrix[(k1, k2)] = rms \n",
    "                    \n",
    "    return similarity_matrix\n",
    "\n",
    "\n",
    "def find_duplicates(rms_sorted, energy, rms_thresh):\n",
    "    i = 0\n",
    "    to_be_deleted = []\n",
    "    while i < len(rms_sorted):\n",
    "        j = i + 1\n",
    "        while j < len(rms_sorted):\n",
    "            if rms_sorted[i][0] in to_be_deleted:\n",
    "                i = i + 1\n",
    "                j = j + 1\n",
    "            elif rms_sorted[j][0] in to_be_deleted:\n",
    "                j = j + 1\n",
    "            else:\n",
    "                rms1 = rms_sorted[i][1]\n",
    "                rms2 = rms_sorted[j][1]\n",
    "                if (rms2 - rms1) < rms_thresh:\n",
    "                    if energy[rms_sorted[i][0]] < energy[rms_sorted[j][0]]:\n",
    "                        to_be_deleted.append(rms_sorted[j][0])\n",
    "                    else:\n",
    "                        to_be_deleted.append(rms_sorted[i][0])\n",
    "                else:\n",
    "                    break\n",
    "        i = i + 1\n",
    "    if to_be_deleted:\n",
    "        print(\"Conformers which will be deleted:\")    \n",
    "        print(to_be_deleted)\n",
    "    return to_be_deleted"
   ]
  },
  {
   "cell_type": "markdown",
   "metadata": {
    "deletable": true,
    "editable": true
   },
   "source": [
    "## Crystal structure of \"M1\" macrocycle"
   ]
  },
  {
   "cell_type": "code",
   "execution_count": 175,
   "metadata": {
    "collapsed": false,
    "deletable": true,
    "editable": true,
    "scrolled": false
   },
   "outputs": [
    {
     "data": {
      "text/html": [
       "<div id=\"3dmolviewer_14960554780261323\"  style=\"position: relative; width: 400px; height: 400px\">\n",
       "<script>\n",
       "if(typeof $3Dmolpromise === 'undefined') $3Dmolpromise = $.when($.getScript('http://3dmol.csb.pitt.edu/build/3Dmol.js'))\n",
       "var viewer_14960554780261323 = null;\n",
       "$3Dmolpromise.done(function() {\n",
       "viewer_14960554780261323 = $3Dmol.createViewer($(\"#3dmolviewer_14960554780261323\"),{backgroundColor:\"white\"});\n",
       "\tviewer_14960554780261323.removeAllModels();\n",
       "\tviewer_14960554780261323.addModel(\"46\\n\\nO          8.47386       14.40237       -0.01237\\nO         13.00994       15.03854        5.23003\\nO         15.44524       10.63976        3.45016\\nO         10.57273       10.02569       -1.57307\\nN          8.95748       12.65034        1.33093\\nH          9.35699       12.31014        2.21821\\nN         10.52494       14.24417        2.85275\\nN         12.10005       13.08069        4.69271\\nH         11.32970       12.58230        4.22609\\nN         13.21639       10.63465        3.76301\\nH         12.30841       10.45435        3.31406\\nN         12.74233       10.22131        1.21250\\nN         10.17322       10.17878        0.65044\\nH         10.60905       10.13116        1.58191\\nC          8.99762       13.94140        1.01101\\nC          9.77753       14.83272        1.90536\\nC         11.28382       15.03854        3.59156\\nC         12.18607       14.39726        4.57959\\nC         13.07493       12.32374        5.46334\\nH         14.01350       12.77111        5.32194\\nH         12.83217       12.43091        6.47965\\nC         13.20683       10.97825        5.20175\\nH         12.41354       10.46625        5.66307\\nH         14.09952       10.63635        5.63479\\nC         14.30597       10.53769        3.00475\\nC         14.03835       10.27574        1.55717\\nC         12.43648       10.04100       -0.07247\\nC         10.95121       10.06992       -0.39945\\nC          8.73574       10.35909        0.58151\\nH          8.35725        9.77735       -0.20680\\nH          8.30755       10.00528        1.47233\\nC          8.32667       11.73350        0.38355\\nH          7.28297       11.79814        0.48606\\nH          8.57326       12.02607       -0.59388\\nC          9.77179       16.19862        1.71448\\nH          9.17921       16.60176        1.01631\\nC         10.56890       16.99639        2.47450\\nH         10.58802       17.98637        2.33133\\nC         11.33926       16.41635        3.43425\\nH         11.93566       16.97258        4.01399\\nC         15.05529       10.14476        0.64160\\nH         16.01106       10.19069        0.92794\\nC         14.72650        9.94745       -0.66811\\nH         15.44524        9.83348       -1.35390\\nC         13.40372        9.90833       -1.04459\\nH         13.14757        9.78585       -2.00258\\n\",\"xyz\");\n",
       "\tviewer_14960554780261323.setStyle({\"stick\": {\"color\": \"spectrum\", \"radius\": 0.15}});\n",
       "\tviewer_14960554780261323.setBackgroundColor(\"0xeeeeee\");\n",
       "\tviewer_14960554780261323.zoomTo();\n",
       "viewer_14960554780261323.render();\n",
       "});\n",
       "</script>"
      ],
      "text/plain": [
       "<IPython.core.display.HTML object>"
      ]
     },
     "execution_count": 175,
     "metadata": {},
     "output_type": "execute_result"
    }
   ],
   "source": [
    "cm1 = open('/home/gosia/work/work_on_gitlab/icho/calcs/m1/m1_crystal.xyz','r').read()\n",
    "vcm1 = py3Dmol.view(width=400,height=400)\n",
    "vcm1.removeAllModels()\n",
    "vcm1.addModel(cm1,'xyz')\n",
    "vcm1.setStyle({'stick':{'radius':0.15,'color':'spectrum'}})\n",
    "vcm1.setBackgroundColor('0xeeeeee')\n",
    "vcm1.zoomTo()\n",
    "vcm1.show()"
   ]
  },
  {
   "cell_type": "code",
   "execution_count": 176,
   "metadata": {
    "collapsed": true,
    "deletable": true,
    "editable": true
   },
   "outputs": [],
   "source": [
    "# \"core\" is a part of a molecule, which we wish to be the \"most-aligned\" among multiple conformers\n",
    "smiles      = 'O=C1NCCNC(=O)c2nc(C(=O)NCCNC(=O)c3nc1ccc3)ccc2'\n",
    "core_smiles = 'n1ccccc1'\n",
    "\n",
    "m1 = Chem.AddHs(Chem.MolFromSmiles(smiles))\n",
    "core_m1 = m1.GetSubstructMatch(Chem.MolFromSmiles(core_smiles))\n",
    "\n",
    "templ_m1 = Chem.SDMolSupplier('/home/gosia/work/work_on_gitlab/icho/calcs/m1/m1_crystal.sdf')\n",
    "m1_crystal = templ_m1[0]"
   ]
  },
  {
   "cell_type": "markdown",
   "metadata": {
    "deletable": true,
    "editable": true
   },
   "source": [
    "## Conformers generated with the Balloon software:"
   ]
  },
  {
   "cell_type": "markdown",
   "metadata": {
    "deletable": true,
    "editable": true
   },
   "source": [
    "Conformers were generated using the genetic algorithm as implemented in the Balloon software:\n",
    "\n",
    "* starting with the crystal geometry kept as a template, results with prefix: \"m1_b_sdf\"; the crystal is of the \"ss-ss\" type;\n",
    "\n",
    "* starting with the SMILES signature of M1 and allowing to \"rebuild the geometry\" (option --rebuildGeometry), results with prefix: \"m1_b_smi\"\n",
    "\n",
    "* starting with structures generated in Avogadro (from the crystal geometry and pre-optimized) of the:\n",
    "    * \"ss_sa\" type\n",
    "    * \"ss_aa\" type\n",
    "    * \"sa_sa\" type\n",
    "    * \"sa_as\" type\n",
    "    * \"sa_aa\" type\n",
    "    * \"aa_aa\" type    \n",
    "\n",
    "    where \"ss\\_sa\" means \"(syn-syn)\\_(syn-anti)\" configuration, etc. with the bracket notation used to mark conformations around the rings.\n",
    "    \n",
    "\n",
    "In all cases the Balloon software was asked to generate 100 conformers using the genertic algorithm with default settings (only \"maxPostprocessIter\" increased to 150 and \"nGenerations\" to 300)."
   ]
  },
  {
   "cell_type": "code",
   "execution_count": 177,
   "metadata": {
    "collapsed": false,
    "deletable": true,
    "editable": true
   },
   "outputs": [],
   "source": [
    "inps_m1_b_sdf = glob.glob('/home/gosia/work/work_on_gitlab/icho/calcs/m1/balloon/results_starting_from_crystalsdf/*.sdf')\n",
    "inps_m1_b_smi = glob.glob('/home/gosia/work/work_on_gitlab/icho/calcs/m1/balloon/results_starting_from_crystalsmiles/*.sdf')\n",
    "inps_m1_b_ss_sa = glob.glob('/home/gosia/work/work_on_gitlab/icho/calcs/m1/balloon/results_starting_from_m1_ss_sa/*.sdf')\n",
    "inps_m1_b_ss_aa = glob.glob('/home/gosia/work/work_on_gitlab/icho/calcs/m1/balloon/results_starting_from_m1_ss_aa/*.sdf')\n",
    "inps_m1_b_sa_sa = glob.glob('/home/gosia/work/work_on_gitlab/icho/calcs/m1/balloon/results_starting_from_m1_sa_sa/*.sdf')\n",
    "inps_m1_b_sa_as = glob.glob('/home/gosia/work/work_on_gitlab/icho/calcs/m1/balloon/results_starting_from_m1_sa_as/*.sdf')\n",
    "inps_m1_b_sa_aa = glob.glob('/home/gosia/work/work_on_gitlab/icho/calcs/m1/balloon/results_starting_from_m1_sa_aa/*.sdf')\n",
    "inps_m1_b_aa_aa = glob.glob('/home/gosia/work/work_on_gitlab/icho/calcs/m1/balloon/results_starting_from_m1_aa_aa/*.sdf')"
   ]
  },
  {
   "cell_type": "code",
   "execution_count": 178,
   "metadata": {
    "collapsed": false,
    "deletable": true,
    "editable": true
   },
   "outputs": [],
   "source": [
    "e_m1_b_sdf = grep_energies_from_sdf_outputs(inps_m1_b_sdf)\n",
    "e_m1_b_smi = grep_energies_from_sdf_outputs(inps_m1_b_smi)\n",
    "e_m1_b_ss_sa = grep_energies_from_sdf_outputs(inps_m1_b_ss_sa)\n",
    "e_m1_b_ss_aa = grep_energies_from_sdf_outputs(inps_m1_b_ss_aa)\n",
    "e_m1_b_sa_sa = grep_energies_from_sdf_outputs(inps_m1_b_sa_sa)\n",
    "e_m1_b_sa_as = grep_energies_from_sdf_outputs(inps_m1_b_sa_as)\n",
    "e_m1_b_sa_aa = grep_energies_from_sdf_outputs(inps_m1_b_sa_aa)\n",
    "e_m1_b_aa_aa = grep_energies_from_sdf_outputs(inps_m1_b_aa_aa)"
   ]
  },
  {
   "cell_type": "code",
   "execution_count": 179,
   "metadata": {
    "collapsed": false,
    "deletable": true,
    "editable": true
   },
   "outputs": [],
   "source": [
    "# write conformers to dictionaries\n",
    "   \n",
    "suppl_m1_b_sdf  = Chem.SDMolSupplier('/home/gosia/work/work_on_gitlab/icho/calcs/m1/balloon/m1_crystal_sdfout.sdf')\n",
    "suppl_m1_b_smi  = Chem.SDMolSupplier('/home/gosia/work/work_on_gitlab/icho/calcs/m1/balloon/m1_crystal_smilesout.sdf')\n",
    "suppl_m1_b_ss_sa  = Chem.SDMolSupplier('/home/gosia/work/work_on_gitlab/icho/calcs/m1/balloon/m1_ss_sa_sdfout.sdf')\n",
    "suppl_m1_b_ss_aa  = Chem.SDMolSupplier('/home/gosia/work/work_on_gitlab/icho/calcs/m1/balloon/m1_ss_aa_sdfout.sdf')\n",
    "suppl_m1_b_sa_sa  = Chem.SDMolSupplier('/home/gosia/work/work_on_gitlab/icho/calcs/m1/balloon/m1_sa_sa_sdfout.sdf')\n",
    "suppl_m1_b_sa_as  = Chem.SDMolSupplier('/home/gosia/work/work_on_gitlab/icho/calcs/m1/balloon/m1_sa_as_sdfout.sdf')\n",
    "suppl_m1_b_sa_aa  = Chem.SDMolSupplier('/home/gosia/work/work_on_gitlab/icho/calcs/m1/balloon/m1_sa_aa_sdfout.sdf')\n",
    "suppl_m1_b_aa_aa  = Chem.SDMolSupplier('/home/gosia/work/work_on_gitlab/icho/calcs/m1/balloon/m1_aa_aa_sdfout.sdf')\n",
    "\n",
    "allmol_m1_b_sdf   = write_to_dict(\"m1_b_sdf_\", suppl_m1_b_sdf)\n",
    "allmol_m1_b_smi   = write_to_dict(\"m1_b_smi_\", suppl_m1_b_smi)\n",
    "allmol_m1_b_ss_sa = write_to_dict(\"m1_b_ss_sa_\", suppl_m1_b_ss_sa)\n",
    "allmol_m1_b_ss_aa = write_to_dict(\"m1_b_ss_aa_\", suppl_m1_b_ss_aa)\n",
    "allmol_m1_b_sa_sa = write_to_dict(\"m1_b_sa_sa_\", suppl_m1_b_sa_sa)\n",
    "allmol_m1_b_sa_as = write_to_dict(\"m1_b_sa_as_\", suppl_m1_b_sa_as)\n",
    "allmol_m1_b_sa_aa = write_to_dict(\"m1_b_sa_aa_\", suppl_m1_b_sa_aa)\n",
    "allmol_m1_b_aa_aa = write_to_dict(\"m1_b_aa_aa_\", suppl_m1_b_aa_aa)"
   ]
  },
  {
   "cell_type": "markdown",
   "metadata": {},
   "source": [
    "The generated conformer structures are presented in a separate notebook: [link](http://nbviewer.jupyter.org/github/gosiao/icho-notebooks/blob/master/conformers_m1_suppl1.ipynb)."
   ]
  },
  {
   "cell_type": "markdown",
   "metadata": {
    "deletable": true,
    "editable": true
   },
   "source": [
    "### pre-screening"
   ]
  },
  {
   "cell_type": "markdown",
   "metadata": {
    "deletable": true,
    "editable": true
   },
   "source": [
    "All the generated structures are pre-optimized with MM methods (MMFF94-like force field). To remove potential duplicates, we will:\n",
    "\n",
    "* calculate the root-mean-square-distance (RMSD) between the pairs of conformers (taking into account the heavy atoms only);\n",
    "* compare the energies of conformers from pairs which are found to be similar (RMSD lower than the threshold);\n",
    "* if these energies are too similar (the difference lower than the threshold), we will remove the conformer which has the higher energy value;"
   ]
  },
  {
   "cell_type": "code",
   "execution_count": 180,
   "metadata": {
    "collapsed": false
   },
   "outputs": [
    {
     "name": "stdout",
     "output_type": "stream",
     "text": [
      "The total number of generated conformers =  94\n"
     ]
    }
   ],
   "source": [
    "allmol_m1_b = {}\n",
    "allmol_m1_b.update(allmol_m1_b_sdf)\n",
    "allmol_m1_b.update(allmol_m1_b_smi)\n",
    "allmol_m1_b.update(allmol_m1_b_ss_sa)\n",
    "allmol_m1_b.update(allmol_m1_b_ss_aa)\n",
    "allmol_m1_b.update(allmol_m1_b_sa_sa)\n",
    "allmol_m1_b.update(allmol_m1_b_sa_as)\n",
    "allmol_m1_b.update(allmol_m1_b_sa_aa)\n",
    "allmol_m1_b.update(allmol_m1_b_aa_aa)\n",
    "\n",
    "print(\"The total number of generated conformers = \", len(allmol_m1_b))\n",
    "             \n",
    "energy_m1_b = {}\n",
    "energy_m1_b.update(e_m1_b_sdf)\n",
    "energy_m1_b.update(e_m1_b_smi)\n",
    "energy_m1_b.update(e_m1_b_ss_sa)\n",
    "energy_m1_b.update(e_m1_b_ss_aa)\n",
    "energy_m1_b.update(e_m1_b_sa_sa)\n",
    "energy_m1_b.update(e_m1_b_sa_as)\n",
    "energy_m1_b.update(e_m1_b_sa_aa)\n",
    "energy_m1_b.update(e_m1_b_aa_aa)"
   ]
  },
  {
   "cell_type": "code",
   "execution_count": 181,
   "metadata": {
    "collapsed": false
   },
   "outputs": [
    {
     "name": "stdout",
     "output_type": "stream",
     "text": [
      "to_be_deleted:  m1_b_ss_sa_8\n",
      "to_be_deleted:  m1_b_sa_as_2\n",
      "to_be_deleted:  m1_b_sa_sa_0\n",
      "to_be_deleted:  m1_b_ss_sa_2\n",
      "to_be_deleted:  m1_b_sa_as_1\n",
      "to_be_deleted:  m1_b_sa_as_10\n",
      "to_be_deleted:  m1_b_sa_as_6\n",
      "to_be_deleted:  m1_b_sa_as_1\n",
      "to_be_deleted:  m1_b_ss_sa_0\n",
      "to_be_deleted:  m1_b_sa_sa_8\n",
      "to_be_deleted:  m1_b_sa_aa_5\n",
      "to_be_deleted:  m1_b_sa_sa_5\n",
      "to_be_deleted:  m1_b_ss_sa_6\n",
      "to_be_deleted:  m1_b_sa_sa_5\n",
      "to_be_deleted:  m1_b_sa_sa_13\n",
      "to_be_deleted:  m1_b_sa_as_0\n",
      "to_be_deleted:  m1_b_smi_1\n",
      "to_be_deleted:  m1_b_sa_sa_7\n",
      "to_be_deleted:  m1_b_sa_aa_4\n",
      "to_be_deleted:  m1_b_ss_sa_0\n",
      "to_be_deleted:  m1_b_sa_as_3\n",
      "to_be_deleted:  m1_b_sa_as_10\n",
      "to_be_deleted:  m1_b_smi_1\n",
      "to_be_deleted:  m1_b_sa_as_4\n",
      "to_be_deleted:  m1_b_sdf_1\n",
      "to_be_deleted:  m1_b_sa_sa_0\n",
      "to_be_deleted:  m1_b_aa_aa_1\n",
      "to_be_deleted:  m1_b_sa_aa_8\n",
      "to_be_deleted:  m1_b_sa_sa_3\n",
      "to_be_deleted:  m1_b_sdf_2\n",
      "to_be_deleted:  m1_b_sdf_2\n",
      "to_be_deleted:  m1_b_sa_sa_14\n",
      "to_be_deleted:  m1_b_ss_sa_1\n",
      "to_be_deleted:  m1_b_aa_aa_5\n",
      "to_be_deleted:  m1_b_sdf_2\n",
      "to_be_deleted:  m1_b_sa_sa_3\n",
      "to_be_deleted:  m1_b_sa_as_3\n",
      "to_be_deleted:  m1_b_ss_sa_0\n",
      "to_be_deleted:  m1_b_ss_sa_0\n",
      "to_be_deleted:  m1_b_ss_sa_0\n",
      "to_be_deleted:  m1_b_ss_sa_0\n",
      "to_be_deleted:  m1_b_sa_aa_2\n",
      "to_be_deleted:  m1_b_ss_sa_6\n"
     ]
    }
   ],
   "source": [
    "# 1. calculate the similarity matrix between all pairs of conformers and sort its elements from the lowest\n",
    "# (the most similar structures) to the largest values (the most different structures)\n",
    "similarity_matrix_b = make_similarity_matrix(allmol_m1_b)\n",
    "similarity_matrix_b_sorted = sorted(similarity_matrix_b.items(), key=lambda x: x[1])\n",
    "\n",
    "# 2. remove duplicates:\n",
    "# for all pairs of structures, for which the similarity value is lower than threshold (\"similarity_thresh\"), \n",
    "# compare energies; then if the energies are similar (controlled by the \"energy_thresh\"), \n",
    "#then remove the one with higher energy\n",
    "\n",
    "to_be_deleted = []\n",
    "similarity_thresh = 0.5 # Angstrom (same as Balloon's original RMSD threshold used for conformer generation)\n",
    "energy_thresh     = 1 # kcal/mol (Balloon original threshold used for conformer generation is 25 kcal/mol)\n",
    "\n",
    "for pair in similarity_matrix_b_sorted:\n",
    "    if pair[1] < similarity_thresh:\n",
    "        conf1 = pair[0][0]\n",
    "        conf2 = pair[0][1]\n",
    "        if abs(energy_m1_b[conf1] - energy_m1_b[conf2]) < energy_thresh:\n",
    "            #print(\"conf1, conf2, E(conf1), E(conf2) = \", conf1, conf2, energy_m1_b[conf1], energy_m1_b[conf2])\n",
    "            if energy_m1_b[conf1] < energy_m1_b[conf2]:\n",
    "                to_be_deleted.append(conf2)\n",
    "            else:\n",
    "                to_be_deleted.append(conf1)\n",
    "\n",
    "for mol in to_be_deleted:\n",
    "    print(\"to_be_deleted: \", mol)\n",
    "    to_be_deleted_keys = list(k for k in similarity_matrix_b.keys() if mol in k)\n",
    "    for k in to_be_deleted_keys:\n",
    "        del similarity_matrix_b[k]\n",
    "    allmol_m1_b.pop(mol, None)\n",
    "    energy_m1_b.pop(mol, None)\n",
    "    "
   ]
  },
  {
   "cell_type": "code",
   "execution_count": 182,
   "metadata": {
    "collapsed": false
   },
   "outputs": [
    {
     "name": "stdout",
     "output_type": "stream",
     "text": [
      "We have removed the potential conformer duplicates.\n",
      "The final number of remaining conformers =  66\n",
      "Below we present all the remaining conformers aligned (to one ring).\n"
     ]
    }
   ],
   "source": [
    "print(\"We have removed the potential conformer duplicates.\")\n",
    "print(\"The final number of remaining conformers = \", len(allmol_m1_b))\n",
    "print(\"Below we present all the remaining conformers aligned (to one ring).\")"
   ]
  },
  {
   "cell_type": "code",
   "execution_count": 183,
   "metadata": {
    "collapsed": false,
    "deletable": true,
    "editable": true
   },
   "outputs": [
    {
     "data": {
      "text/html": [
       "<div id=\"3dmolviewer_14960555254471288\"  style=\"position: relative; width: 400px; height: 400px\">\n",
       "<script>\n",
       "if(typeof $3Dmolpromise === 'undefined') $3Dmolpromise = $.when($.getScript('http://3dmol.csb.pitt.edu/build/3Dmol.js'))\n",
       "var viewer_14960555254471288 = null;\n",
       "$3Dmolpromise.done(function() {\n",
       "viewer_14960555254471288 = $3Dmol.createViewer($(\"#3dmolviewer_14960555254471288\"),{backgroundColor:\"white\"});\n",
       "\tviewer_14960555254471288.addModel(\"m1_sa_sa.xyz\\n     RDKit          3D\\n\\n 28 30  0  0  0  0  0  0  0  0999 V2000\\n    5.5506   11.6115    3.3896 O   0  0  0  0  0  0  0  0  0  0  0  0\\n   10.8124   12.0725    7.9396 O   0  0  0  0  0  0  0  0  0  0  0  0\\n   13.0753    8.5037    6.6413 O   0  0  0  0  0  0  0  0  0  0  0  0\\n   11.2903   10.4004    1.2224 O   0  0  0  0  0  0  0  0  0  0  0  0\\n    7.6827   10.8817    2.8269 N   0  0  0  0  0  0  0  0  0  0  0  0\\n    8.5030   11.6745    5.2953 N   0  0  0  0  0  0  0  0  0  0  0  0\\n   11.1173   12.1289    5.6441 N   0  0  0  0  0  0  0  0  0  0  0  0\\n   13.3642   10.2797    5.1580 N   0  0  0  0  0  0  0  0  0  0  0  0\\n   11.9804    9.0010    3.3896 N   0  0  0  0  0  0  0  0  0  0  0  0\\n    9.3637    9.1032    1.1253 N   0  0  0  0  0  0  0  0  0  0  0  0\\n    6.7189   11.3780    3.6930 C   0  0  0  0  0  0  0  0  0  0  0  0\\n    7.1675   11.5881    5.0898 C   0  0  0  0  0  0  0  0  0  0  0  0\\n    8.9064   11.8587    6.5774 C   0  0  0  0  0  0  0  0  0  0  0  0\\n   10.3633   12.0169    6.8001 C   0  0  0  0  0  0  0  0  0  0  0  0\\n   12.5193   12.5165    5.6624 C   0  0  0  0  0  0  0  0  0  0  0  0\\n   13.4510   11.3836    6.0928 C   0  0  0  0  0  0  0  0  0  0  0  0\\n   13.0144    8.9903    5.5195 C   0  0  0  0  0  0  0  0  0  0  0  0\\n   12.4525    8.2230    4.3885 C   0  0  0  0  0  0  0  0  0  0  0  0\\n   11.2811    8.3985    2.4102 C   0  0  0  0  0  0  0  0  0  0  0  0\\n   10.6651    9.3789    1.4969 C   0  0  0  0  0  0  0  0  0  0  0  0\\n    8.4881   10.1329    0.5919 C   0  0  0  0  0  0  0  0  0  0  0  0\\n    7.3007   10.3849    1.5134 C   0  0  0  0  0  0  0  0  0  0  0  0\\n    6.2200   11.6849    6.1020 C   0  0  0  0  0  0  0  0  0  0  0  0\\n    6.6736   11.8594    7.4050 C   0  0  0  0  0  0  0  0  0  0  0  0\\n    8.0376   11.9468    7.6594 C   0  0  0  0  0  0  0  0  0  0  0  0\\n   12.3008    6.8482    4.4319 C   0  0  0  0  0  0  0  0  0  0  0  0\\n   11.6149    6.2509    3.3735 C   0  0  0  0  0  0  0  0  0  0  0  0\\n   11.0761    7.0303    2.3472 C   0  0  0  0  0  0  0  0  0  0  0  0\\n  1 11  2  0\\n  6 13  2  0\\n  7 14  1  0\\n  7 15  1  0\\n  8 16  1  0\\n  9 18  1  0\\n 10 20  1  0\\n 10 21  1  0\\n 11  5  1  0\\n 11 12  1  0\\n 12  6  1  0\\n 13 14  1  0\\n 14  2  2  0\\n 16 15  1  0\\n 17  3  2  0\\n 17  8  1  0\\n 18 17  1  0\\n 19 20  1  0\\n 19  9  2  0\\n 20  4  2  0\\n 22 21  1  0\\n 22  5  1  0\\n 23 12  2  0\\n 23 24  1  0\\n 24 25  2  0\\n 25 13  1  0\\n 26 18  2  0\\n 27 26  1  0\\n 28 27  2  0\\n 28 19  1  0\\nM  END\\n\",\"sdf\");\n",
       "\tviewer_14960555254471288.addModel(\"m1_sa_sa.xyz\\n     RDKit          3D\\n\\n 28 30  0  0  0  0  0  0  0  0999 V2000\\n    5.5715   11.3999    3.3681 O   0  0  0  0  0  0  0  0  0  0  0  0\\n   10.8633   11.8684    7.8893 O   0  0  0  0  0  0  0  0  0  0  0  0\\n   15.1670    9.4256    3.9310 O   0  0  0  0  0  0  0  0  0  0  0  0\\n   10.2814    9.3766   -1.0575 O   0  0  0  0  0  0  0  0  0  0  0  0\\n    7.8201   11.1473    2.8292 N   0  0  0  0  0  0  0  0  0  0  0  0\\n    8.4986   11.6754    5.3051 N   0  0  0  0  0  0  0  0  0  0  0  0\\n   11.1172   12.0472    5.5905 N   0  0  0  0  0  0  0  0  0  0  0  0\\n   12.9322    9.9536    4.2970 N   0  0  0  0  0  0  0  0  0  0  0  0\\n   12.3977    9.4497    1.7592 N   0  0  0  0  0  0  0  0  0  0  0  0\\n    9.7845    9.5422    1.2048 N   0  0  0  0  0  0  0  0  0  0  0  0\\n    6.7546   11.3788    3.6827 C   0  0  0  0  0  0  0  0  0  0  0  0\\n    7.1654   11.5950    5.0911 C   0  0  0  0  0  0  0  0  0  0  0  0\\n    8.9118   11.8530    6.5775 C   0  0  0  0  0  0  0  0  0  0  0  0\\n   10.3811   11.9255    6.7643 C   0  0  0  0  0  0  0  0  0  0  0  0\\n   12.5713   11.9829    5.5987 C   0  0  0  0  0  0  0  0  0  0  0  0\\n   13.0542   10.5319    5.6265 C   0  0  0  0  0  0  0  0  0  0  0  0\\n   14.0223    9.5850    3.5232 C   0  0  0  0  0  0  0  0  0  0  0  0\\n   13.7145    9.4472    2.0779 C   0  0  0  0  0  0  0  0  0  0  0  0\\n   12.0872    9.4016    0.4447 C   0  0  0  0  0  0  0  0  0  0  0  0\\n   10.6399    9.4416    0.1168 C   0  0  0  0  0  0  0  0  0  0  0  0\\n    8.3323    9.5142    1.0774 C   0  0  0  0  0  0  0  0  0  0  0  0\\n    7.6795   10.8506    1.4160 C   0  0  0  0  0  0  0  0  0  0  0  0\\n    6.2164   11.6770    6.0989 C   0  0  0  0  0  0  0  0  0  0  0  0\\n    6.6741   11.8605    7.4001 C   0  0  0  0  0  0  0  0  0  0  0  0\\n    8.0420   11.9514    7.6562 C   0  0  0  0  0  0  0  0  0  0  0  0\\n   14.7410    9.4055    1.1404 C   0  0  0  0  0  0  0  0  0  0  0  0\\n   14.3882    9.3520   -0.2043 C   0  0  0  0  0  0  0  0  0  0  0  0\\n   13.0437    9.3491   -0.5672 C   0  0  0  0  0  0  0  0  0  0  0  0\\n  1 11  2  0\\n  6 13  2  0\\n  7 14  1  0\\n  7 15  1  0\\n  8 16  1  0\\n  9 18  1  0\\n 10 20  1  0\\n 10 21  1  0\\n 11  5  1  0\\n 11 12  1  0\\n 12  6  1  0\\n 13 14  1  0\\n 14  2  2  0\\n 16 15  1  0\\n 17  3  2  0\\n 17  8  1  0\\n 18 17  1  0\\n 19 20  1  0\\n 19  9  2  0\\n 20  4  2  0\\n 22 21  1  0\\n 22  5  1  0\\n 23 12  2  0\\n 23 24  1  0\\n 24 25  2  0\\n 25 13  1  0\\n 26 18  2  0\\n 27 26  1  0\\n 28 27  2  0\\n 28 19  1  0\\nM  END\\n\",\"sdf\");\n",
       "\tviewer_14960555254471288.addModel(\"m1_aa_aa.xyz\\n     RDKit          3D\\n\\n 28 30  0  0  0  0  0  0  0  0999 V2000\\n    7.3964   11.8974    2.7919 O   0  0  0  0  0  0  0  0  0  0  0  0\\n   11.0570   12.6303    6.2268 O   0  0  0  0  0  0  0  0  0  0  0  0\\n   11.4819    9.8572    4.1683 O   0  0  0  0  0  0  0  0  0  0  0  0\\n    7.1217    6.3852    1.9642 O   0  0  0  0  0  0  0  0  0  0  0  0\\n    5.8125   10.3568    3.5412 N   0  0  0  0  0  0  0  0  0  0  0  0\\n    8.5064   11.6903    5.2909 N   0  0  0  0  0  0  0  0  0  0  0  0\\n   10.7614   10.7651    7.5976 N   0  0  0  0  0  0  0  0  0  0  0  0\\n   12.2911    8.8339    6.0895 N   0  0  0  0  0  0  0  0  0  0  0  0\\n    9.7179    7.9622    3.7308 N   0  0  0  0  0  0  0  0  0  0  0  0\\n    7.6373    8.6297    2.2464 N   0  0  0  0  0  0  0  0  0  0  0  0\\n    6.7928   11.3246    3.6919 C   0  0  0  0  0  0  0  0  0  0  0  0\\n    7.1721   11.5905    5.0928 C   0  0  0  0  0  0  0  0  0  0  0  0\\n    8.8964   11.8378    6.5757 C   0  0  0  0  0  0  0  0  0  0  0  0\\n   10.3475   11.8032    6.7845 C   0  0  0  0  0  0  0  0  0  0  0  0\\n   12.1603   10.5048    7.8885 C   0  0  0  0  0  0  0  0  0  0  0  0\\n   12.9340   10.0036    6.6696 C   0  0  0  0  0  0  0  0  0  0  0  0\\n   11.5344    8.8917    4.9285 C   0  0  0  0  0  0  0  0  0  0  0  0\\n   10.6982    7.7026    4.6285 C   0  0  0  0  0  0  0  0  0  0  0  0\\n    8.8745    6.9482    3.4243 C   0  0  0  0  0  0  0  0  0  0  0  0\\n    7.7904    7.2784    2.4683 C   0  0  0  0  0  0  0  0  0  0  0  0\\n    6.5886    9.2254    1.4406 C   0  0  0  0  0  0  0  0  0  0  0  0\\n    5.4274    9.7735    2.2687 C   0  0  0  0  0  0  0  0  0  0  0  0\\n    6.2226   11.6697    6.1048 C   0  0  0  0  0  0  0  0  0  0  0  0\\n    6.6734   11.8720    7.4063 C   0  0  0  0  0  0  0  0  0  0  0  0\\n    8.0372   11.9521    7.6584 C   0  0  0  0  0  0  0  0  0  0  0  0\\n   10.8774    6.4587    5.2153 C   0  0  0  0  0  0  0  0  0  0  0  0\\n    9.9913    5.4367    4.8765 C   0  0  0  0  0  0  0  0  0  0  0  0\\n    8.9659    5.6778    3.9689 C   0  0  0  0  0  0  0  0  0  0  0  0\\n  1 11  2  0\\n  2 14  2  0\\n  6 13  2  0\\n  7 15  1  0\\n  8 16  1  0\\n  9 18  1  0\\n 10 20  1  0\\n 10 21  1  0\\n 11  5  1  0\\n 11 12  1  0\\n 12  6  1  0\\n 13 14  1  0\\n 14  7  1  0\\n 16 15  1  0\\n 17  3  2  0\\n 17  8  1  0\\n 18 17  1  0\\n 19 20  1  0\\n 19  9  2  0\\n 20  4  2  0\\n 22 21  1  0\\n 22  5  1  0\\n 23 12  2  0\\n 23 24  1  0\\n 24 25  2  0\\n 25 13  1  0\\n 26 18  2  0\\n 27 26  1  0\\n 28 27  2  0\\n 28 19  1  0\\nM  END\\n\",\"sdf\");\n",
       "\tviewer_14960555254471288.addModel(\"m1_ss_aa.xyz\\n     RDKit          3D\\n\\n 28 30  0  0  0  0  0  0  0  0999 V2000\\n    7.4082   10.5792    3.0138 O   0  0  0  0  0  0  0  0  0  0  0  0\\n   10.9236   11.7154    7.7730 O   0  0  0  0  0  0  0  0  0  0  0  0\\n   13.8827   10.7737    1.7972 O   0  0  0  0  0  0  0  0  0  0  0  0\\n    7.6646   12.1473   -1.0949 O   0  0  0  0  0  0  0  0  0  0  0  0\\n    5.9357   12.3763    3.1951 N   0  0  0  0  0  0  0  0  0  0  0  0\\n    8.4972   11.6684    5.3032 N   0  0  0  0  0  0  0  0  0  0  0  0\\n   10.9675   12.5130    5.5814 N   0  0  0  0  0  0  0  0  0  0  0  0\\n   12.1124   11.5449    3.0754 N   0  0  0  0  0  0  0  0  0  0  0  0\\n   10.5960   11.6863    0.8345 N   0  0  0  0  0  0  0  0  0  0  0  0\\n    8.1555   12.8919    1.0406 N   0  0  0  0  0  0  0  0  0  0  0  0\\n    6.8280   11.4358    3.6733 C   0  0  0  0  0  0  0  0  0  0  0  0\\n    7.1690   11.5902    5.0937 C   0  0  0  0  0  0  0  0  0  0  0  0\\n    8.9040   11.8657    6.5763 C   0  0  0  0  0  0  0  0  0  0  0  0\\n   10.3673   12.0194    6.7265 C   0  0  0  0  0  0  0  0  0  0  0  0\\n   12.3947   12.5149    5.3325 C   0  0  0  0  0  0  0  0  0  0  0  0\\n   12.7662   11.3915    4.3714 C   0  0  0  0  0  0  0  0  0  0  0  0\\n   12.7199   11.1555    1.8938 C   0  0  0  0  0  0  0  0  0  0  0  0\\n   11.8586   11.2071    0.6843 C   0  0  0  0  0  0  0  0  0  0  0  0\\n    9.8222   11.7052   -0.2812 C   0  0  0  0  0  0  0  0  0  0  0  0\\n    8.4484   12.2553   -0.1550 C   0  0  0  0  0  0  0  0  0  0  0  0\\n    6.8848   13.5700    1.2615 C   0  0  0  0  0  0  0  0  0  0  0  0\\n    5.7858   12.6378    1.7732 C   0  0  0  0  0  0  0  0  0  0  0  0\\n    6.2159   11.6870    6.0950 C   0  0  0  0  0  0  0  0  0  0  0  0\\n    6.6773   11.8562    7.4005 C   0  0  0  0  0  0  0  0  0  0  0  0\\n    8.0449   11.9449    7.6602 C   0  0  0  0  0  0  0  0  0  0  0  0\\n   12.3781   10.7605   -0.5278 C   0  0  0  0  0  0  0  0  0  0  0  0\\n   11.5525   10.7887   -1.6440 C   0  0  0  0  0  0  0  0  0  0  0  0\\n   10.2518   11.2616   -1.5290 C   0  0  0  0  0  0  0  0  0  0  0  0\\n  2 14  2  0\\n  4 20  2  0\\n  5 11  1  0\\n  6 13  2  0\\n  7 15  1  0\\n  8 16  1  0\\n  9 18  1  0\\n 11  1  2  0\\n 11 12  1  0\\n 12  6  1  0\\n 13 14  1  0\\n 14  7  1  0\\n 16 15  1  0\\n 17  3  2  0\\n 17  8  1  0\\n 18 17  1  0\\n 19  9  2  0\\n 20 19  1  0\\n 20 10  1  0\\n 21 10  1  0\\n 22  5  1  0\\n 22 21  1  0\\n 23 12  2  0\\n 23 24  1  0\\n 24 25  2  0\\n 25 13  1  0\\n 26 18  2  0\\n 27 26  1  0\\n 28 27  2  0\\n 28 19  1  0\\nM  END\\n\",\"sdf\");\n",
       "\tviewer_14960555254471288.addModel(\"m1_crystal.xyz\\n     RDKit          3D\\n\\n 28 30  0  0  0  0  0  0  0  0999 V2000\\n    6.3252   15.4542    3.0465 O   0  0  0  0  0  0  0  0  0  0  0  0\\n    7.5109   15.2175    2.8442 C   0  0  0  0  0  0  0  0  0  0  0  0\\n    8.0161   14.3603    1.8794 N   0  0  0  0  0  0  0  0  0  0  0  0\\n    7.1843   13.4295    1.1334 C   0  0  0  0  0  0  0  0  0  0  0  0\\n    7.6280   11.9848    1.3648 C   0  0  0  0  0  0  0  0  0  0  0  0\\n    7.8078   11.6871    2.7753 N   0  0  0  0  0  0  0  0  0  0  0  0\\n    6.7540   11.5381    3.6612 C   0  0  0  0  0  0  0  0  0  0  0  0\\n    5.5739   11.4180    3.3508 O   0  0  0  0  0  0  0  0  0  0  0  0\\n    7.1645   11.6012    5.0869 C   0  0  0  0  0  0  0  0  0  0  0  0\\n    8.4981   11.6686    5.3043 N   0  0  0  0  0  0  0  0  0  0  0  0\\n    8.9076   11.8533    6.5790 C   0  0  0  0  0  0  0  0  0  0  0  0\\n   10.3671   12.0303    6.7515 C   0  0  0  0  0  0  0  0  0  0  0  0\\n   10.7986   12.6107    7.7429 O   0  0  0  0  0  0  0  0  0  0  0  0\\n   11.1322   11.5263    5.7108 N   0  0  0  0  0  0  0  0  0  0  0  0\\n   12.5462   11.8340    5.5463 C   0  0  0  0  0  0  0  0  0  0  0  0\\n   12.8035   12.5808    4.2365 C   0  0  0  0  0  0  0  0  0  0  0  0\\n   11.8563   13.6616    4.0265 N   0  0  0  0  0  0  0  0  0  0  0  0\\n   11.8944   14.8501    4.7350 C   0  0  0  0  0  0  0  0  0  0  0  0\\n   12.8215   15.2264    5.4434 O   0  0  0  0  0  0  0  0  0  0  0  0\\n   10.6558   15.6594    4.6138 C   0  0  0  0  0  0  0  0  0  0  0  0\\n    9.7159   15.1683    3.7729 N   0  0  0  0  0  0  0  0  0  0  0  0\\n    8.5445   15.8388    3.7024 C   0  0  0  0  0  0  0  0  0  0  0  0\\n    8.2668   16.9866    4.4307 C   0  0  0  0  0  0  0  0  0  0  0  0\\n    9.2626   17.4733    5.2735 C   0  0  0  0  0  0  0  0  0  0  0  0\\n   10.4786   16.8036    5.3776 C   0  0  0  0  0  0  0  0  0  0  0  0\\n    8.0422   11.9578    7.6583 C   0  0  0  0  0  0  0  0  0  0  0  0\\n    6.6768   11.8547    7.4026 C   0  0  0  0  0  0  0  0  0  0  0  0\\n    6.2191   11.6769    6.0979 C   0  0  0  0  0  0  0  0  0  0  0  0\\n  2  1  2  0\\n  3  2  1  0\\n  4  3  1  0\\n  5  4  1  0\\n  6  5  1  0\\n  7  6  1  0\\n  8  7  2  0\\n  9  7  1  0\\n 10  9  1  0\\n 11 10  2  0\\n 12 11  1  0\\n 13 12  2  0\\n 14 12  1  0\\n 15 14  1  0\\n 16 15  1  0\\n 17 16  1  0\\n 18 17  1  0\\n 19 18  2  0\\n 20 18  1  0\\n 21 20  1  0\\n 22 21  2  0\\n 22  2  1  0\\n 23 22  1  0\\n 24 23  2  0\\n 25 24  1  0\\n 25 20  2  0\\n 26 11  1  0\\n 27 26  2  0\\n 28 27  1  0\\n 28  9  2  0\\nM  END\\n\",\"sdf\");\n",
       "\tviewer_14960555254471288.addModel(\"m1_aa_aa.xyz\\n     RDKit          3D\\n\\n 28 30  0  0  0  0  0  0  0  0999 V2000\\n    5.4927   11.4616    3.4374 O   0  0  0  0  0  0  0  0  0  0  0  0\\n   10.6995   12.8225    7.6950 O   0  0  0  0  0  0  0  0  0  0  0  0\\n   11.9776   10.3861    3.0063 O   0  0  0  0  0  0  0  0  0  0  0  0\\n    9.8631   14.0276   -0.9931 O   0  0  0  0  0  0  0  0  0  0  0  0\\n    7.6772   11.7793    2.7305 N   0  0  0  0  0  0  0  0  0  0  0  0\\n    8.5110   11.6676    5.2934 N   0  0  0  0  0  0  0  0  0  0  0  0\\n   11.2056   11.1747    6.1382 N   0  0  0  0  0  0  0  0  0  0  0  0\\n   13.4991   11.5797    4.3022 N   0  0  0  0  0  0  0  0  0  0  0  0\\n   11.4971   12.6800    1.6647 N   0  0  0  0  0  0  0  0  0  0  0  0\\n    9.1134   13.7970    1.2099 N   0  0  0  0  0  0  0  0  0  0  0  0\\n    6.6893   11.5905    3.6793 C   0  0  0  0  0  0  0  0  0  0  0  0\\n    7.1661   11.6076    5.0889 C   0  0  0  0  0  0  0  0  0  0  0  0\\n    8.9065   11.8475    6.5768 C   0  0  0  0  0  0  0  0  0  0  0  0\\n   10.3478   12.0086    6.8444 C   0  0  0  0  0  0  0  0  0  0  0  0\\n   12.6044   11.0689    6.5360 C   0  0  0  0  0  0  0  0  0  0  0  0\\n   13.5465   10.6551    5.4139 C   0  0  0  0  0  0  0  0  0  0  0  0\\n   12.6966   11.3619    3.1994 C   0  0  0  0  0  0  0  0  0  0  0  0\\n   12.7090   12.4396    2.1996 C   0  0  0  0  0  0  0  0  0  0  0  0\\n   11.4284   13.6344    0.7127 C   0  0  0  0  0  0  0  0  0  0  0  0\\n   10.0629   13.8567    0.2018 C   0  0  0  0  0  0  0  0  0  0  0  0\\n    7.6984   13.5277    0.9957 C   0  0  0  0  0  0  0  0  0  0  0  0\\n    7.3935   12.0651    1.3271 C   0  0  0  0  0  0  0  0  0  0  0  0\\n    6.2181   11.6717    6.1065 C   0  0  0  0  0  0  0  0  0  0  0  0\\n    6.6717   11.8559    7.4072 C   0  0  0  0  0  0  0  0  0  0  0  0\\n    8.0347   11.9621    7.6561 C   0  0  0  0  0  0  0  0  0  0  0  0\\n   13.8661   13.1027    1.8249 C   0  0  0  0  0  0  0  0  0  0  0  0\\n   13.7590   14.0623    0.8202 C   0  0  0  0  0  0  0  0  0  0  0  0\\n   12.5218   14.3350    0.2350 C   0  0  0  0  0  0  0  0  0  0  0  0\\n  1 11  2  0\\n  2 14  2  0\\n  6 13  2  0\\n  7 15  1  0\\n  8 16  1  0\\n  9 18  1  0\\n 10 20  1  0\\n 10 21  1  0\\n 11  5  1  0\\n 11 12  1  0\\n 12  6  1  0\\n 13 14  1  0\\n 14  7  1  0\\n 16 15  1  0\\n 17  3  2  0\\n 17  8  1  0\\n 18 17  1  0\\n 19 20  1  0\\n 19  9  2  0\\n 20  4  2  0\\n 22 21  1  0\\n 22  5  1  0\\n 23 12  2  0\\n 23 24  1  0\\n 24 25  2  0\\n 25 13  1  0\\n 26 18  2  0\\n 27 26  1  0\\n 28 27  2  0\\n 28 19  1  0\\nM  END\\n\",\"sdf\");\n",
       "\tviewer_14960555254471288.addModel(\"m1_crystal.xyz\\n     RDKit          3D\\n\\n 28 30  0  0  0  0  0  0  0  0999 V2000\\n    5.5571   11.3247    3.3900 O   0  0  0  0  0  0  0  0  0  0  0  0\\n   10.8382   11.9571    7.9212 O   0  0  0  0  0  0  0  0  0  0  0  0\\n   14.1082    7.9376    4.7684 O   0  0  0  0  0  0  0  0  0  0  0  0\\n    9.2598    8.2616   -0.2512 O   0  0  0  0  0  0  0  0  0  0  0  0\\n    7.7958   11.2235    2.7904 N   0  0  0  0  0  0  0  0  0  0  0  0\\n    8.5001   11.6773    5.3008 N   0  0  0  0  0  0  0  0  0  0  0  0\\n   11.1199   11.9644    5.6178 N   0  0  0  0  0  0  0  0  0  0  0  0\\n   12.6843    9.7432    4.4588 N   0  0  0  0  0  0  0  0  0  0  0  0\\n   11.6162    8.5485    2.3508 N   0  0  0  0  0  0  0  0  0  0  0  0\\n    9.8919   10.0827    1.0408 N   0  0  0  0  0  0  0  0  0  0  0  0\\n    6.7466   11.3722    3.6830 C   0  0  0  0  0  0  0  0  0  0  0  0\\n    7.1659   11.5897    5.0894 C   0  0  0  0  0  0  0  0  0  0  0  0\\n    8.9086   11.8550    6.5785 C   0  0  0  0  0  0  0  0  0  0  0  0\\n   10.3754   11.9320    6.7851 C   0  0  0  0  0  0  0  0  0  0  0  0\\n   12.5730   11.9224    5.6011 C   0  0  0  0  0  0  0  0  0  0  0  0\\n   13.0933   10.4914    5.6351 C   0  0  0  0  0  0  0  0  0  0  0  0\\n   13.2009    8.4931    4.1590 C   0  0  0  0  0  0  0  0  0  0  0  0\\n   12.5501    7.8215    3.0072 C   0  0  0  0  0  0  0  0  0  0  0  0\\n   10.9973    7.9535    1.3047 C   0  0  0  0  0  0  0  0  0  0  0  0\\n    9.9667    8.7666    0.6148 C   0  0  0  0  0  0  0  0  0  0  0  0\\n    8.8639   11.0029    0.5837 C   0  0  0  0  0  0  0  0  0  0  0  0\\n    7.5862   10.8595    1.4000 C   0  0  0  0  0  0  0  0  0  0  0  0\\n    6.2180   11.6806    6.1000 C   0  0  0  0  0  0  0  0  0  0  0  0\\n    6.6751   11.8616    7.4021 C   0  0  0  0  0  0  0  0  0  0  0  0\\n    8.0405   11.9482    7.6581 C   0  0  0  0  0  0  0  0  0  0  0  0\\n   12.8979    6.5228    2.6603 C   0  0  0  0  0  0  0  0  0  0  0  0\\n   12.2394    5.9418    1.5798 C   0  0  0  0  0  0  0  0  0  0  0  0\\n   11.2690    6.6584    0.8848 C   0  0  0  0  0  0  0  0  0  0  0  0\\n  1 11  2  0\\n  4 20  2  0\\n  6 13  2  0\\n  7 15  1  0\\n  8 16  1  0\\n  9 18  1  0\\n 11  5  1  0\\n 11 12  1  0\\n 12  6  1  0\\n 13 14  1  0\\n 14  7  1  0\\n 14  2  2  0\\n 16 15  1  0\\n 17  3  2  0\\n 17  8  1  0\\n 18 17  1  0\\n 19  9  2  0\\n 20 19  1  0\\n 20 10  1  0\\n 21 10  1  0\\n 22 21  1  0\\n 22  5  1  0\\n 23 12  2  0\\n 23 24  1  0\\n 24 25  2  0\\n 25 13  1  0\\n 26 18  2  0\\n 27 26  1  0\\n 28 27  2  0\\n 28 19  1  0\\nM  END\\n\",\"sdf\");\n",
       "\tviewer_14960555254471288.addModel(\"m1_sa_as.xyz\\n     RDKit          3D\\n\\n 28 30  0  0  0  0  0  0  0  0999 V2000\\n    5.5750   11.1093    3.4049 O   0  0  0  0  0  0  0  0  0  0  0  0\\n   10.8247   11.6084    7.9061 O   0  0  0  0  0  0  0  0  0  0  0  0\\n   15.1951   12.8353    3.6752 O   0  0  0  0  0  0  0  0  0  0  0  0\\n   11.0609    8.7131    0.2527 O   0  0  0  0  0  0  0  0  0  0  0  0\\n    7.7964   11.3938    2.7969 N   0  0  0  0  0  0  0  0  0  0  0  0\\n    8.5044   11.6893    5.3000 N   0  0  0  0  0  0  0  0  0  0  0  0\\n   11.0748   12.5618    5.8140 N   0  0  0  0  0  0  0  0  0  0  0  0\\n   12.9238   13.3098    3.6629 N   0  0  0  0  0  0  0  0  0  0  0  0\\n   12.6524   11.3016    1.9008 N   0  0  0  0  0  0  0  0  0  0  0  0\\n   10.0843   10.6075    1.1614 N   0  0  0  0  0  0  0  0  0  0  0  0\\n    6.7456   11.3377    3.6871 C   0  0  0  0  0  0  0  0  0  0  0  0\\n    7.1641   11.5819    5.0929 C   0  0  0  0  0  0  0  0  0  0  0  0\\n    8.9073   11.8507    6.5802 C   0  0  0  0  0  0  0  0  0  0  0  0\\n   10.3543   11.9695    6.8322 C   0  0  0  0  0  0  0  0  0  0  0  0\\n   12.4399   13.0069    6.0392 C   0  0  0  0  0  0  0  0  0  0  0  0\\n   12.8691   13.9742    4.9483 C   0  0  0  0  0  0  0  0  0  0  0  0\\n   14.0804   12.7263    3.1877 C   0  0  0  0  0  0  0  0  0  0  0  0\\n   13.8721   11.8878    1.9956 C   0  0  0  0  0  0  0  0  0  0  0  0\\n   12.4792   10.4599    0.8613 C   0  0  0  0  0  0  0  0  0  0  0  0\\n   11.1514    9.8323    0.7389 C   0  0  0  0  0  0  0  0  0  0  0  0\\n    8.7183   10.1668    0.9356 C   0  0  0  0  0  0  0  0  0  0  0  0\\n    7.6965   11.2050    1.3635 C   0  0  0  0  0  0  0  0  0  0  0  0\\n    6.2132   11.6770    6.0998 C   0  0  0  0  0  0  0  0  0  0  0  0\\n    6.6767   11.8722    7.3987 C   0  0  0  0  0  0  0  0  0  0  0  0\\n    8.0425   11.9412    7.6572 C   0  0  0  0  0  0  0  0  0  0  0  0\\n   14.9124   11.6924    1.0995 C   0  0  0  0  0  0  0  0  0  0  0  0\\n   14.6945   10.8112    0.0484 C   0  0  0  0  0  0  0  0  0  0  0  0\\n   13.4654   10.1655   -0.0728 C   0  0  0  0  0  0  0  0  0  0  0  0\\n  1 11  2  0\\n  3 17  2  0\\n  4 20  2  0\\n  5 11  1  0\\n  6 13  2  0\\n  7 15  1  0\\n  8 16  1  0\\n  9 18  1  0\\n 11 12  1  0\\n 12  6  1  0\\n 13 14  1  0\\n 14  7  1  0\\n 14  2  2  0\\n 16 15  1  0\\n 17  8  1  0\\n 18 17  1  0\\n 19  9  2  0\\n 20 19  1  0\\n 20 10  1  0\\n 21 10  1  0\\n 22 21  1  0\\n 22  5  1  0\\n 23 12  2  0\\n 23 24  1  0\\n 24 25  2  0\\n 25 13  1  0\\n 26 18  2  0\\n 27 26  1  0\\n 28 27  2  0\\n 28 19  1  0\\nM  END\\n\",\"sdf\");\n",
       "\tviewer_14960555254471288.addModel(\"m1_crystal.xyz\\n     RDKit          3D\\n\\n 28 30  0  0  0  0  0  0  0  0999 V2000\\n    5.5687   11.0577    3.4537 O   0  0  0  0  0  0  0  0  0  0  0  0\\n   10.8218   11.7946    7.9358 O   0  0  0  0  0  0  0  0  0  0  0  0\\n   14.9472   10.0815    3.3875 O   0  0  0  0  0  0  0  0  0  0  0  0\\n    9.6857    9.4230   -1.0899 O   0  0  0  0  0  0  0  0  0  0  0  0\\n    7.7486   11.4281    2.7492 N   0  0  0  0  0  0  0  0  0  0  0  0\\n    8.5015   11.6808    5.2977 N   0  0  0  0  0  0  0  0  0  0  0  0\\n   11.1289   11.9926    5.6432 N   0  0  0  0  0  0  0  0  0  0  0  0\\n   12.7455    9.9440    4.1053 N   0  0  0  0  0  0  0  0  0  0  0  0\\n   11.9764    9.5438    1.5716 N   0  0  0  0  0  0  0  0  0  0  0  0\\n    9.3221    9.3514    1.2002 N   0  0  0  0  0  0  0  0  0  0  0  0\\n    6.7391   11.3368    3.6942 C   0  0  0  0  0  0  0  0  0  0  0  0\\n    7.1673   11.5896    5.0898 C   0  0  0  0  0  0  0  0  0  0  0  0\\n    8.9068   11.8511    6.5777 C   0  0  0  0  0  0  0  0  0  0  0  0\\n   10.3706   11.8811    6.7979 C   0  0  0  0  0  0  0  0  0  0  0  0\\n   12.5752   11.8472    5.6486 C   0  0  0  0  0  0  0  0  0  0  0  0\\n   12.9778   10.3872    5.4712 C   0  0  0  0  0  0  0  0  0  0  0  0\\n   13.7577    9.8816    3.1615 C   0  0  0  0  0  0  0  0  0  0  0  0\\n   13.3136    9.5553    1.7856 C   0  0  0  0  0  0  0  0  0  0  0  0\\n   11.5685    9.3009    0.3032 C   0  0  0  0  0  0  0  0  0  0  0  0\\n   10.1095    9.3593    0.0602 C   0  0  0  0  0  0  0  0  0  0  0  0\\n    7.8857    9.5701    1.1512 C   0  0  0  0  0  0  0  0  0  0  0  0\\n    7.5508   11.0431    1.3619 C   0  0  0  0  0  0  0  0  0  0  0  0\\n    6.2199   11.6776    6.1019 C   0  0  0  0  0  0  0  0  0  0  0  0\\n    6.6738   11.8653    7.4035 C   0  0  0  0  0  0  0  0  0  0  0  0\\n    8.0388   11.9481    7.6583 C   0  0  0  0  0  0  0  0  0  0  0  0\\n   14.2589    9.3203    0.7937 C   0  0  0  0  0  0  0  0  0  0  0  0\\n   13.8005    9.0594   -0.4925 C   0  0  0  0  0  0  0  0  0  0  0  0\\n   12.4351    9.0528   -0.7547 C   0  0  0  0  0  0  0  0  0  0  0  0\\n  1 11  2  0\\n  4 20  2  0\\n  6 13  2  0\\n  7 15  1  0\\n  8 16  1  0\\n  9 18  1  0\\n 11  5  1  0\\n 11 12  1  0\\n 12  6  1  0\\n 13 14  1  0\\n 14  7  1  0\\n 14  2  2  0\\n 16 15  1  0\\n 17  3  2  0\\n 17  8  1  0\\n 18 17  1  0\\n 19  9  2  0\\n 20 19  1  0\\n 20 10  1  0\\n 21 10  1  0\\n 22 21  1  0\\n 22  5  1  0\\n 23 12  2  0\\n 23 24  1  0\\n 24 25  2  0\\n 25 13  1  0\\n 26 18  2  0\\n 27 26  1  0\\n 28 27  2  0\\n 28 19  1  0\\nM  END\\n\",\"sdf\");\n",
       "\tviewer_14960555254471288.addModel(\"m1_ss_sa.xyz\\n     RDKit          3D\\n\\n 28 30  0  0  0  0  0  0  0  0999 V2000\\n    6.7194   12.3185    2.9417 O   0  0  0  0  0  0  0  0  0  0  0  0\\n   10.8528   12.3647    7.8154 O   0  0  0  0  0  0  0  0  0  0  0  0\\n   12.7557   14.8569    2.3514 O   0  0  0  0  0  0  0  0  0  0  0  0\\n    8.2607   10.5712   -0.8615 O   0  0  0  0  0  0  0  0  0  0  0  0\\n    6.6294   10.0265    3.4019 N   0  0  0  0  0  0  0  0  0  0  0  0\\n    8.5011   11.6768    5.2998 N   0  0  0  0  0  0  0  0  0  0  0  0\\n   11.1037   11.5789    5.6425 N   0  0  0  0  0  0  0  0  0  0  0  0\\n   12.1547   12.8116    3.2565 N   0  0  0  0  0  0  0  0  0  0  0  0\\n   10.5543   12.3649    1.1496 N   0  0  0  0  0  0  0  0  0  0  0  0\\n    8.8763   10.2523    1.3468 N   0  0  0  0  0  0  0  0  0  0  0  0\\n    6.7913   11.3643    3.7059 C   0  0  0  0  0  0  0  0  0  0  0  0\\n    7.1682   11.5935    5.1022 C   0  0  0  0  0  0  0  0  0  0  0  0\\n    8.9112   11.8526    6.5767 C   0  0  0  0  0  0  0  0  0  0  0  0\\n   10.3807   11.9594    6.7598 C   0  0  0  0  0  0  0  0  0  0  0  0\\n   12.5286   11.8096    5.4739 C   0  0  0  0  0  0  0  0  0  0  0  0\\n   12.7676   13.0069    4.5622 C   0  0  0  0  0  0  0  0  0  0  0  0\\n   12.1612   13.7857    2.2767 C   0  0  0  0  0  0  0  0  0  0  0  0\\n   11.3626   13.4546    1.0698 C   0  0  0  0  0  0  0  0  0  0  0  0\\n    9.8073   12.0855    0.0522 C   0  0  0  0  0  0  0  0  0  0  0  0\\n    8.9124   10.9039    0.1265 C   0  0  0  0  0  0  0  0  0  0  0  0\\n    8.0046    9.1115    1.5853 C   0  0  0  0  0  0  0  0  0  0  0  0\\n    6.6052    9.5286    2.0368 C   0  0  0  0  0  0  0  0  0  0  0  0\\n    6.2131   11.6791    6.0974 C   0  0  0  0  0  0  0  0  0  0  0  0\\n    6.6723   11.8593    7.3980 C   0  0  0  0  0  0  0  0  0  0  0  0\\n    8.0422   11.9511    7.6547 C   0  0  0  0  0  0  0  0  0  0  0  0\\n   11.4571   14.2687   -0.0511 C   0  0  0  0  0  0  0  0  0  0  0  0\\n   10.6806   13.9448   -1.1582 C   0  0  0  0  0  0  0  0  0  0  0  0\\n    9.8400   12.8387   -1.1150 C   0  0  0  0  0  0  0  0  0  0  0  0\\n  1 11  2  0\\n  4 20  2  0\\n  5 11  1  0\\n  6 13  2  0\\n  7 15  1  0\\n  8 16  1  0\\n  9 18  1  0\\n 11 12  1  0\\n 12  6  1  0\\n 13 14  1  0\\n 14  7  1  0\\n 14  2  2  0\\n 16 15  1  0\\n 17  3  2  0\\n 17  8  1  0\\n 18 17  1  0\\n 19  9  2  0\\n 20 19  1  0\\n 20 10  1  0\\n 21 10  1  0\\n 22 21  1  0\\n 22  5  1  0\\n 23 12  2  0\\n 23 24  1  0\\n 24 25  2  0\\n 25 13  1  0\\n 26 18  2  0\\n 27 26  1  0\\n 28 27  2  0\\n 28 19  1  0\\nM  END\\n\",\"sdf\");\n",
       "\tviewer_14960555254471288.addModel(\"m1_ss_sa.xyz\\n     RDKit          3D\\n\\n 28 30  0  0  0  0  0  0  0  0999 V2000\\n    7.4617   11.9833    2.8213 O   0  0  0  0  0  0  0  0  0  0  0  0\\n   10.8850   11.9625    7.8677 O   0  0  0  0  0  0  0  0  0  0  0  0\\n   13.6226   10.0873    1.5101 O   0  0  0  0  0  0  0  0  0  0  0  0\\n    7.9115    6.3121    2.1153 O   0  0  0  0  0  0  0  0  0  0  0  0\\n    5.8519   10.4248    3.4419 N   0  0  0  0  0  0  0  0  0  0  0  0\\n    8.4944   11.6867    5.3038 N   0  0  0  0  0  0  0  0  0  0  0  0\\n   11.0687   11.6462    5.5727 N   0  0  0  0  0  0  0  0  0  0  0  0\\n   12.2525   10.1234    3.3795 N   0  0  0  0  0  0  0  0  0  0  0  0\\n   10.5099    8.5447    1.9526 N   0  0  0  0  0  0  0  0  0  0  0  0\\n    7.6531    8.6071    1.8217 N   0  0  0  0  0  0  0  0  0  0  0  0\\n    6.8294   11.3722    3.6774 C   0  0  0  0  0  0  0  0  0  0  0  0\\n    7.1670   11.5894    5.0928 C   0  0  0  0  0  0  0  0  0  0  0  0\\n    8.9087   11.8447    6.5803 C   0  0  0  0  0  0  0  0  0  0  0  0\\n   10.3809   11.8387    6.7578 C   0  0  0  0  0  0  0  0  0  0  0  0\\n   12.4893   11.3669    5.5056 C   0  0  0  0  0  0  0  0  0  0  0  0\\n   12.9415   11.2115    4.0609 C   0  0  0  0  0  0  0  0  0  0  0  0\\n   12.6462    9.6782    2.1294 C   0  0  0  0  0  0  0  0  0  0  0  0\\n   11.8060    8.6036    1.5515 C   0  0  0  0  0  0  0  0  0  0  0  0\\n    9.7830    7.5247    1.4344 C   0  0  0  0  0  0  0  0  0  0  0  0\\n    8.3708    7.4184    1.8465 C   0  0  0  0  0  0  0  0  0  0  0  0\\n    6.1961    8.5738    1.8605 C   0  0  0  0  0  0  0  0  0  0  0  0\\n    5.5631    9.9374    2.1055 C   0  0  0  0  0  0  0  0  0  0  0  0\\n    6.2165   11.6737    6.0965 C   0  0  0  0  0  0  0  0  0  0  0  0\\n    6.6769   11.8666    7.3977 C   0  0  0  0  0  0  0  0  0  0  0  0\\n    8.0447   11.9512    7.6579 C   0  0  0  0  0  0  0  0  0  0  0  0\\n   12.3874    7.7176    0.6482 C   0  0  0  0  0  0  0  0  0  0  0  0\\n   11.6034    6.6831    0.1514 C   0  0  0  0  0  0  0  0  0  0  0  0\\n   10.2795    6.5690    0.5544 C   0  0  0  0  0  0  0  0  0  0  0  0\\n  1 11  2  0\\n  4 20  2  0\\n  5 11  1  0\\n  6 13  2  0\\n  7 15  1  0\\n  8 16  1  0\\n  9 18  1  0\\n 11 12  1  0\\n 12  6  1  0\\n 13 14  1  0\\n 14  7  1  0\\n 14  2  2  0\\n 16 15  1  0\\n 17  3  2  0\\n 17  8  1  0\\n 18 17  1  0\\n 19  9  2  0\\n 20 19  1  0\\n 20 10  1  0\\n 21 10  1  0\\n 22 21  1  0\\n 22  5  1  0\\n 23 12  2  0\\n 23 24  1  0\\n 24 25  2  0\\n 25 13  1  0\\n 26 18  2  0\\n 27 26  1  0\\n 28 27  2  0\\n 28 19  1  0\\nM  END\\n\",\"sdf\");\n",
       "\tviewer_14960555254471288.addModel(\"m1_crystal.xyz\\n     RDKit          3D\\n\\n 28 30  0  0  0  0  0  0  0  0999 V2000\\n    5.5738   11.2136    3.3920 O   0  0  0  0  0  0  0  0  0  0  0  0\\n   10.8472   11.7041    7.8931 O   0  0  0  0  0  0  0  0  0  0  0  0\\n   13.5789    8.7686    5.6499 O   0  0  0  0  0  0  0  0  0  0  0  0\\n    7.4879    6.6920    2.9514 O   0  0  0  0  0  0  0  0  0  0  0  0\\n    7.8206   11.2144    2.8039 N   0  0  0  0  0  0  0  0  0  0  0  0\\n    8.4991   11.6792    5.3023 N   0  0  0  0  0  0  0  0  0  0  0  0\\n   11.0983   12.1191    5.6203 N   0  0  0  0  0  0  0  0  0  0  0  0\\n   12.3168   10.0237    4.1574 N   0  0  0  0  0  0  0  0  0  0  0  0\\n   10.5919    8.0380    3.9191 N   0  0  0  0  0  0  0  0  0  0  0  0\\n    8.6418    8.5508    2.1779 N   0  0  0  0  0  0  0  0  0  0  0  0\\n    6.7580   11.3356    3.6843 C   0  0  0  0  0  0  0  0  0  0  0  0\\n    7.1658   11.5895    5.0894 C   0  0  0  0  0  0  0  0  0  0  0  0\\n    8.9077   11.8539    6.5787 C   0  0  0  0  0  0  0  0  0  0  0  0\\n   10.3739   11.8896    6.7780 C   0  0  0  0  0  0  0  0  0  0  0  0\\n   12.5483   12.0420    5.5580 C   0  0  0  0  0  0  0  0  0  0  0  0\\n   13.0141   11.2877    4.3158 C   0  0  0  0  0  0  0  0  0  0  0  0\\n   12.6083    8.8991    4.9116 C   0  0  0  0  0  0  0  0  0  0  0  0\\n   11.5998    7.8156    4.7966 C   0  0  0  0  0  0  0  0  0  0  0  0\\n    9.6281    7.0930    3.8356 C   0  0  0  0  0  0  0  0  0  0  0  0\\n    8.4860    7.4052    2.9418 C   0  0  0  0  0  0  0  0  0  0  0  0\\n    7.5344    9.1723    1.4670 C   0  0  0  0  0  0  0  0  0  0  0  0\\n    7.6759   10.6911    1.4553 C   0  0  0  0  0  0  0  0  0  0  0  0\\n    6.2180   11.6786    6.0988 C   0  0  0  0  0  0  0  0  0  0  0  0\\n    6.6755   11.8640    7.4016 C   0  0  0  0  0  0  0  0  0  0  0  0\\n    8.0421   11.9473    7.6580 C   0  0  0  0  0  0  0  0  0  0  0  0\\n   11.6919    6.6811    5.5919 C   0  0  0  0  0  0  0  0  0  0  0  0\\n   10.6848    5.7273    5.4760 C   0  0  0  0  0  0  0  0  0  0  0  0\\n    9.6294    5.9263    4.5885 C   0  0  0  0  0  0  0  0  0  0  0  0\\n  1 11  2  0\\n  4 20  2  0\\n  6 13  2  0\\n  7 15  1  0\\n  8 16  1  0\\n  9 18  1  0\\n 11  5  1  0\\n 11 12  1  0\\n 12  6  1  0\\n 13 14  1  0\\n 14  7  1  0\\n 14  2  2  0\\n 16 15  1  0\\n 17  3  2  0\\n 17  8  1  0\\n 18 17  1  0\\n 19  9  2  0\\n 20 19  1  0\\n 20 10  1  0\\n 21 10  1  0\\n 22 21  1  0\\n 22  5  1  0\\n 23 12  2  0\\n 23 24  1  0\\n 24 25  2  0\\n 25 13  1  0\\n 26 18  2  0\\n 27 26  1  0\\n 28 27  2  0\\n 28 19  1  0\\nM  END\\n\",\"sdf\");\n",
       "\tviewer_14960555254471288.addModel(\"m1_aa_aa.xyz\\n     RDKit          3D\\n\\n 28 30  0  0  0  0  0  0  0  0999 V2000\\n    7.0089   12.2245    2.8766 O   0  0  0  0  0  0  0  0  0  0  0  0\\n   10.8376   11.7150    7.9286 O   0  0  0  0  0  0  0  0  0  0  0  0\\n   13.6744    8.9875    3.6000 O   0  0  0  0  0  0  0  0  0  0  0  0\\n    8.7288   11.0885    0.8681 O   0  0  0  0  0  0  0  0  0  0  0  0\\n    6.1058   10.1588    3.5080 N   0  0  0  0  0  0  0  0  0  0  0  0\\n    8.5049   11.6864    5.2939 N   0  0  0  0  0  0  0  0  0  0  0  0\\n   11.1365   11.9675    5.6364 N   0  0  0  0  0  0  0  0  0  0  0  0\\n   12.4721   10.9529    3.2717 N   0  0  0  0  0  0  0  0  0  0  0  0\\n   10.6737    9.6149    1.9164 N   0  0  0  0  0  0  0  0  0  0  0  0\\n    7.3435    9.2228    0.9306 N   0  0  0  0  0  0  0  0  0  0  0  0\\n    6.7546   11.3640    3.7071 C   0  0  0  0  0  0  0  0  0  0  0  0\\n    7.1688   11.5874    5.0995 C   0  0  0  0  0  0  0  0  0  0  0  0\\n    8.9127   11.8473    6.5767 C   0  0  0  0  0  0  0  0  0  0  0  0\\n   10.3816   11.8438    6.7951 C   0  0  0  0  0  0  0  0  0  0  0  0\\n   12.5761   11.7501    5.6177 C   0  0  0  0  0  0  0  0  0  0  0  0\\n   13.1677   11.8207    4.2109 C   0  0  0  0  0  0  0  0  0  0  0  0\\n   12.7517    9.6083    3.0877 C   0  0  0  0  0  0  0  0  0  0  0  0\\n   11.7991    8.9208    2.1786 C   0  0  0  0  0  0  0  0  0  0  0  0\\n    9.7484    9.0239    1.1303 C   0  0  0  0  0  0  0  0  0  0  0  0\\n    8.5634    9.8738    0.9378 C   0  0  0  0  0  0  0  0  0  0  0  0\\n    6.0860    9.9483    0.9744 C   0  0  0  0  0  0  0  0  0  0  0  0\\n    5.3651    9.7835    2.3099 C   0  0  0  0  0  0  0  0  0  0  0  0\\n    6.2132   11.6760    6.1020 C   0  0  0  0  0  0  0  0  0  0  0  0\\n    6.6697   11.8680    7.3999 C   0  0  0  0  0  0  0  0  0  0  0  0\\n    8.0390   11.9472    7.6570 C   0  0  0  0  0  0  0  0  0  0  0  0\\n   12.0460    7.6530    1.6690 C   0  0  0  0  0  0  0  0  0  0  0  0\\n   11.0790    7.0844    0.8375 C   0  0  0  0  0  0  0  0  0  0  0  0\\n    9.8975    7.7673    0.5617 C   0  0  0  0  0  0  0  0  0  0  0  0\\n  1 11  2  0\\n  2 14  2  0\\n  6 13  2  0\\n  7 15  1  0\\n  8 16  1  0\\n  9 18  1  0\\n 10 20  1  0\\n 10 21  1  0\\n 11  5  1  0\\n 11 12  1  0\\n 12  6  1  0\\n 13 14  1  0\\n 14  7  1  0\\n 16 15  1  0\\n 17  3  2  0\\n 17  8  1  0\\n 18 17  1  0\\n 19 20  1  0\\n 19  9  2  0\\n 20  4  2  0\\n 22 21  1  0\\n 22  5  1  0\\n 23 12  2  0\\n 23 24  1  0\\n 24 25  2  0\\n 25 13  1  0\\n 26 18  2  0\\n 27 26  1  0\\n 28 27  2  0\\n 28 19  1  0\\nM  END\\n\",\"sdf\");\n",
       "\tviewer_14960555254471288.addModel(\"m1_aa_aa.xyz\\n     RDKit          3D\\n\\n 28 30  0  0  0  0  0  0  0  0999 V2000\\n    7.6730   11.5387    2.8136 O   0  0  0  0  0  0  0  0  0  0  0  0\\n   10.8363   11.6308    7.8862 O   0  0  0  0  0  0  0  0  0  0  0  0\\n   12.4383    8.9173    6.3679 O   0  0  0  0  0  0  0  0  0  0  0  0\\n    8.3233    8.7352    1.6467 O   0  0  0  0  0  0  0  0  0  0  0  0\\n    5.5587   10.7870    3.4128 N   0  0  0  0  0  0  0  0  0  0  0  0\\n    8.4998   11.6825    5.3005 N   0  0  0  0  0  0  0  0  0  0  0  0\\n   11.0925   12.3131    5.6751 N   0  0  0  0  0  0  0  0  0  0  0  0\\n   12.0542   10.0791    4.4028 N   0  0  0  0  0  0  0  0  0  0  0  0\\n    9.8447    8.6115    4.0111 N   0  0  0  0  0  0  0  0  0  0  0  0\\n    6.5331    8.1982    3.0368 N   0  0  0  0  0  0  0  0  0  0  0  0\\n    6.8164   11.3227    3.6698 C   0  0  0  0  0  0  0  0  0  0  0  0\\n    7.1641   11.5797    5.0871 C   0  0  0  0  0  0  0  0  0  0  0  0\\n    8.9050   11.8588    6.5796 C   0  0  0  0  0  0  0  0  0  0  0  0\\n   10.3675   11.9244    6.7901 C   0  0  0  0  0  0  0  0  0  0  0  0\\n   12.5397   12.2106    5.6138 C   0  0  0  0  0  0  0  0  0  0  0  0\\n   13.0146   11.1450    4.6244 C   0  0  0  0  0  0  0  0  0  0  0  0\\n   11.8101    9.0815    5.3290 C   0  0  0  0  0  0  0  0  0  0  0  0\\n   10.6815    8.1883    4.9909 C   0  0  0  0  0  0  0  0  0  0  0  0\\n    8.7892    7.8077    3.7429 C   0  0  0  0  0  0  0  0  0  0  0  0\\n    7.8698    8.2880    2.6937 C   0  0  0  0  0  0  0  0  0  0  0  0\\n    5.4350    8.6396    2.1919 C   0  0  0  0  0  0  0  0  0  0  0  0\\n    5.2636   10.1579    2.1351 C   0  0  0  0  0  0  0  0  0  0  0  0\\n    6.2199   11.6851    6.0985 C   0  0  0  0  0  0  0  0  0  0  0  0\\n    6.6774   11.8658    7.4020 C   0  0  0  0  0  0  0  0  0  0  0  0\\n    8.0420   11.9405    7.6613 C   0  0  0  0  0  0  0  0  0  0  0  0\\n   10.5214    6.9980    5.6893 C   0  0  0  0  0  0  0  0  0  0  0  0\\n    9.4360    6.1908    5.3617 C   0  0  0  0  0  0  0  0  0  0  0  0\\n    8.5459    6.5946    4.3753 C   0  0  0  0  0  0  0  0  0  0  0  0\\n  1 11  2  0\\n  2 14  2  0\\n  6 13  2  0\\n  7 15  1  0\\n  8 16  1  0\\n  9 18  1  0\\n 10 20  1  0\\n 10 21  1  0\\n 11  5  1  0\\n 11 12  1  0\\n 12  6  1  0\\n 13 14  1  0\\n 14  7  1  0\\n 16 15  1  0\\n 17  3  2  0\\n 17  8  1  0\\n 18 17  1  0\\n 19 20  1  0\\n 19  9  2  0\\n 20  4  2  0\\n 22 21  1  0\\n 22  5  1  0\\n 23 12  2  0\\n 23 24  1  0\\n 24 25  2  0\\n 25 13  1  0\\n 26 18  2  0\\n 27 26  1  0\\n 28 27  2  0\\n 28 19  1  0\\nM  END\\n\",\"sdf\");\n",
       "\tviewer_14960555254471288.addModel(\"m1_sa_aa.xyz\\n     RDKit          3D\\n\\n 28 30  0  0  0  0  0  0  0  0999 V2000\\n    7.4953   11.9937    2.8260 O   0  0  0  0  0  0  0  0  0  0  0  0\\n   10.8329   12.0941    7.9102 O   0  0  0  0  0  0  0  0  0  0  0  0\\n   11.3064    9.2476    3.3268 O   0  0  0  0  0  0  0  0  0  0  0  0\\n    7.1269   10.3396   -0.8692 O   0  0  0  0  0  0  0  0  0  0  0  0\\n    5.7017   10.6280    3.4078 N   0  0  0  0  0  0  0  0  0  0  0  0\\n    8.4991   11.6825    5.3004 N   0  0  0  0  0  0  0  0  0  0  0  0\\n   11.1117   11.7924    5.6259 N   0  0  0  0  0  0  0  0  0  0  0  0\\n   12.7217   11.0866    3.2716 N   0  0  0  0  0  0  0  0  0  0  0  0\\n    9.8783   10.1771    1.3176 N   0  0  0  0  0  0  0  0  0  0  0  0\\n    7.3826    9.3557    1.2216 N   0  0  0  0  0  0  0  0  0  0  0  0\\n    6.7995   11.4329    3.6691 C   0  0  0  0  0  0  0  0  0  0  0  0\\n    7.1658   11.5887    5.0902 C   0  0  0  0  0  0  0  0  0  0  0  0\\n    8.9069   11.8499    6.5803 C   0  0  0  0  0  0  0  0  0  0  0  0\\n   10.3721   11.9240    6.7868 C   0  0  0  0  0  0  0  0  0  0  0  0\\n   12.5497   11.9773    5.5627 C   0  0  0  0  0  0  0  0  0  0  0  0\\n   13.2073   10.9572    4.6371 C   0  0  0  0  0  0  0  0  0  0  0  0\\n   11.7422   10.2493    2.7631 C   0  0  0  0  0  0  0  0  0  0  0  0\\n   11.1425   10.6367    1.4687 C   0  0  0  0  0  0  0  0  0  0  0  0\\n    9.2261   10.5087    0.1821 C   0  0  0  0  0  0  0  0  0  0  0  0\\n    7.8164   10.0578    0.1042 C   0  0  0  0  0  0  0  0  0  0  0  0\\n    5.9791    9.0905    1.4826 C   0  0  0  0  0  0  0  0  0  0  0  0\\n    5.2658   10.3142    2.0539 C   0  0  0  0  0  0  0  0  0  0  0  0\\n    6.2178   11.6773    6.0988 C   0  0  0  0  0  0  0  0  0  0  0  0\\n    6.6769   11.8648    7.4011 C   0  0  0  0  0  0  0  0  0  0  0  0\\n    8.0418   11.9492    7.6581 C   0  0  0  0  0  0  0  0  0  0  0  0\\n   11.7984   11.3963    0.5110 C   0  0  0  0  0  0  0  0  0  0  0  0\\n   11.1018   11.7069   -0.6551 C   0  0  0  0  0  0  0  0  0  0  0  0\\n    9.7909   11.2669   -0.8321 C   0  0  0  0  0  0  0  0  0  0  0  0\\n  1 11  2  0\\n  2 14  2  0\\n  4 20  2  0\\n  6 13  2  0\\n  7 15  1  0\\n  8 16  1  0\\n  9 18  1  0\\n 11  5  1  0\\n 11 12  1  0\\n 12  6  1  0\\n 13 14  1  0\\n 14  7  1  0\\n 16 15  1  0\\n 17  3  2  0\\n 17  8  1  0\\n 18 17  1  0\\n 19  9  2  0\\n 20 19  1  0\\n 20 10  1  0\\n 21 10  1  0\\n 22 21  1  0\\n 22  5  1  0\\n 23 12  2  0\\n 23 24  1  0\\n 24 25  2  0\\n 25 13  1  0\\n 26 18  2  0\\n 27 26  1  0\\n 28 27  2  0\\n 28 19  1  0\\nM  END\\n\",\"sdf\");\n",
       "\tviewer_14960555254471288.addModel(\"m1_sa_sa.xyz\\n     RDKit          3D\\n\\n 28 30  0  0  0  0  0  0  0  0999 V2000\\n    5.6437   11.8314    3.3337 O   0  0  0  0  0  0  0  0  0  0  0  0\\n   10.8372   12.0985    7.9009 O   0  0  0  0  0  0  0  0  0  0  0  0\\n   14.6339   13.3031    2.6469 O   0  0  0  0  0  0  0  0  0  0  0  0\\n    9.4198   11.3451   -1.5692 O   0  0  0  0  0  0  0  0  0  0  0  0\\n    7.6521   10.7594    2.8790 N   0  0  0  0  0  0  0  0  0  0  0  0\\n    8.5017   11.6724    5.2987 N   0  0  0  0  0  0  0  0  0  0  0  0\\n   11.0963   12.1384    5.5907 N   0  0  0  0  0  0  0  0  0  0  0  0\\n   12.9215   11.8393    3.2186 N   0  0  0  0  0  0  0  0  0  0  0  0\\n   11.8452   12.1132    0.8610 N   0  0  0  0  0  0  0  0  0  0  0  0\\n    9.6361   10.6937    0.6531 N   0  0  0  0  0  0  0  0  0  0  0  0\\n    6.7410   11.4135    3.6903 C   0  0  0  0  0  0  0  0  0  0  0  0\\n    7.1677   11.5873    5.0934 C   0  0  0  0  0  0  0  0  0  0  0  0\\n    8.9090   11.8626    6.5760 C   0  0  0  0  0  0  0  0  0  0  0  0\\n   10.3708   12.0354    6.7690 C   0  0  0  0  0  0  0  0  0  0  0  0\\n   12.5096   12.4894    5.5582 C   0  0  0  0  0  0  0  0  0  0  0  0\\n   13.2902   11.5976    4.5995 C   0  0  0  0  0  0  0  0  0  0  0  0\\n   13.6040   12.6956    2.3755 C   0  0  0  0  0  0  0  0  0  0  0  0\\n   12.9673   12.8454    1.0439 C   0  0  0  0  0  0  0  0  0  0  0  0\\n   11.2158   12.2204   -0.3287 C   0  0  0  0  0  0  0  0  0  0  0  0\\n   10.0013   11.3857   -0.4891 C   0  0  0  0  0  0  0  0  0  0  0  0\\n    8.4843    9.8155    0.7352 C   0  0  0  0  0  0  0  0  0  0  0  0\\n    7.3354   10.4692    1.4904 C   0  0  0  0  0  0  0  0  0  0  0  0\\n    6.2175   11.6876    6.0996 C   0  0  0  0  0  0  0  0  0  0  0  0\\n    6.6728   11.8575    7.4032 C   0  0  0  0  0  0  0  0  0  0  0  0\\n    8.0395   11.9449    7.6580 C   0  0  0  0  0  0  0  0  0  0  0  0\\n   13.4989   13.6890    0.0803 C   0  0  0  0  0  0  0  0  0  0  0  0\\n   12.8224   13.7835   -1.1344 C   0  0  0  0  0  0  0  0  0  0  0  0\\n   11.6625   13.0403   -1.3552 C   0  0  0  0  0  0  0  0  0  0  0  0\\n  1 11  2  0\\n  6 13  2  0\\n  7 14  1  0\\n  7 15  1  0\\n  8 16  1  0\\n  9 18  1  0\\n 10 20  1  0\\n 10 21  1  0\\n 11  5  1  0\\n 11 12  1  0\\n 12  6  1  0\\n 13 14  1  0\\n 14  2  2  0\\n 16 15  1  0\\n 17  3  2  0\\n 17  8  1  0\\n 18 17  1  0\\n 19 20  1  0\\n 19  9  2  0\\n 20  4  2  0\\n 22 21  1  0\\n 22  5  1  0\\n 23 12  2  0\\n 23 24  1  0\\n 24 25  2  0\\n 25 13  1  0\\n 26 18  2  0\\n 27 26  1  0\\n 28 27  2  0\\n 28 19  1  0\\nM  END\\n\",\"sdf\");\n",
       "\tviewer_14960555254471288.addModel(\"m1_sa_sa.xyz\\n     RDKit          3D\\n\\n 28 30  0  0  0  0  0  0  0  0999 V2000\\n    7.3228   11.9169    2.7935 O   0  0  0  0  0  0  0  0  0  0  0  0\\n   10.8339   11.8739    7.9263 O   0  0  0  0  0  0  0  0  0  0  0  0\\n   11.7861    6.7039    6.7866 O   0  0  0  0  0  0  0  0  0  0  0  0\\n    8.2056    6.5468    0.9237 O   0  0  0  0  0  0  0  0  0  0  0  0\\n    5.9278   10.2229    3.5799 N   0  0  0  0  0  0  0  0  0  0  0  0\\n    8.5014   11.6881    5.2974 N   0  0  0  0  0  0  0  0  0  0  0  0\\n   11.0907   11.4466    5.6556 N   0  0  0  0  0  0  0  0  0  0  0  0\\n   11.5081    8.5529    5.4258 N   0  0  0  0  0  0  0  0  0  0  0  0\\n    9.7285    7.0702    3.9409 N   0  0  0  0  0  0  0  0  0  0  0  0\\n    7.4876    8.0633    2.5349 N   0  0  0  0  0  0  0  0  0  0  0  0\\n    6.8022   11.2867    3.7055 C   0  0  0  0  0  0  0  0  0  0  0  0\\n    7.1715   11.5884    5.0968 C   0  0  0  0  0  0  0  0  0  0  0  0\\n    8.9077   11.8438    6.5755 C   0  0  0  0  0  0  0  0  0  0  0  0\\n   10.3686   11.7536    6.7987 C   0  0  0  0  0  0  0  0  0  0  0  0\\n   12.4131   10.8612    5.7175 C   0  0  0  0  0  0  0  0  0  0  0  0\\n   12.3682    9.4211    6.2230 C   0  0  0  0  0  0  0  0  0  0  0  0\\n   11.3066    7.2271    5.7834 C   0  0  0  0  0  0  0  0  0  0  0  0\\n   10.4722    6.4118    4.8652 C   0  0  0  0  0  0  0  0  0  0  0  0\\n    9.0003    6.2867    3.1041 C   0  0  0  0  0  0  0  0  0  0  0  0\\n    8.2044    6.9755    2.0741 C   0  0  0  0  0  0  0  0  0  0  0  0\\n    6.7522    8.9278    1.6304 C   0  0  0  0  0  0  0  0  0  0  0  0\\n    5.5799    9.6332    2.3020 C   0  0  0  0  0  0  0  0  0  0  0  0\\n    6.2171   11.6743    6.1026 C   0  0  0  0  0  0  0  0  0  0  0  0\\n    6.6723   11.8688    7.4013 C   0  0  0  0  0  0  0  0  0  0  0  0\\n    8.0382   11.9490    7.6553 C   0  0  0  0  0  0  0  0  0  0  0  0\\n   10.4935    5.0231    4.9951 C   0  0  0  0  0  0  0  0  0  0  0  0\\n    9.7245    4.2659    4.1170 C   0  0  0  0  0  0  0  0  0  0  0  0\\n    8.9674    4.8984    3.1419 C   0  0  0  0  0  0  0  0  0  0  0  0\\n  1 11  2  0\\n  6 13  2  0\\n  7 14  1  0\\n  7 15  1  0\\n  8 16  1  0\\n  9 18  1  0\\n 10 20  1  0\\n 10 21  1  0\\n 11  5  1  0\\n 11 12  1  0\\n 12  6  1  0\\n 13 14  1  0\\n 14  2  2  0\\n 16 15  1  0\\n 17  3  2  0\\n 17  8  1  0\\n 18 17  1  0\\n 19 20  1  0\\n 19  9  2  0\\n 20  4  2  0\\n 22 21  1  0\\n 22  5  1  0\\n 23 12  2  0\\n 23 24  1  0\\n 24 25  2  0\\n 25 13  1  0\\n 26 18  2  0\\n 27 26  1  0\\n 28 27  2  0\\n 28 19  1  0\\nM  END\\n\",\"sdf\");\n",
       "\tviewer_14960555254471288.addModel(\"m1_sa_aa.xyz\\n     RDKit          3D\\n\\n 28 30  0  0  0  0  0  0  0  0999 V2000\\n    7.0056   12.2716    2.9125 O   0  0  0  0  0  0  0  0  0  0  0  0\\n   10.8636   12.0819    7.8798 O   0  0  0  0  0  0  0  0  0  0  0  0\\n   14.1946    8.7593    3.7246 O   0  0  0  0  0  0  0  0  0  0  0  0\\n    7.7620    6.0793    3.4031 O   0  0  0  0  0  0  0  0  0  0  0  0\\n    6.3873   10.0933    3.3287 N   0  0  0  0  0  0  0  0  0  0  0  0\\n    8.5009   11.6833    5.3010 N   0  0  0  0  0  0  0  0  0  0  0  0\\n   11.1148   11.7700    5.5919 N   0  0  0  0  0  0  0  0  0  0  0  0\\n   12.4550    9.2422    5.1919 N   0  0  0  0  0  0  0  0  0  0  0  0\\n   10.8368    7.7115    3.8154 N   0  0  0  0  0  0  0  0  0  0  0  0\\n    8.2933    8.1027    4.4111 N   0  0  0  0  0  0  0  0  0  0  0  0\\n    6.8183   11.3495    3.7039 C   0  0  0  0  0  0  0  0  0  0  0  0\\n    7.1684   11.5833    5.1031 C   0  0  0  0  0  0  0  0  0  0  0  0\\n    8.9134   11.8547    6.5763 C   0  0  0  0  0  0  0  0  0  0  0  0\\n   10.3866   11.9204    6.7619 C   0  0  0  0  0  0  0  0  0  0  0  0\\n   12.5664   11.6760    5.5397 C   0  0  0  0  0  0  0  0  0  0  0  0\\n   13.0783   10.3017    5.9628 C   0  0  0  0  0  0  0  0  0  0  0  0\\n   13.0418    8.6062    4.1115 C   0  0  0  0  0  0  0  0  0  0  0  0\\n   12.1255    7.6725    3.4064 C   0  0  0  0  0  0  0  0  0  0  0  0\\n    9.9648    6.8870    3.1933 C   0  0  0  0  0  0  0  0  0  0  0  0\\n    8.5630    6.9681    3.6678 C   0  0  0  0  0  0  0  0  0  0  0  0\\n    7.0264    8.3510    5.0682 C   0  0  0  0  0  0  0  0  0  0  0  0\\n    5.9645    8.9710    4.1628 C   0  0  0  0  0  0  0  0  0  0  0  0\\n    6.2114   11.6846    6.0968 C   0  0  0  0  0  0  0  0  0  0  0  0\\n    6.6719   11.8619    7.3981 C   0  0  0  0  0  0  0  0  0  0  0  0\\n    8.0421   11.9447    7.6536 C   0  0  0  0  0  0  0  0  0  0  0  0\\n   12.5817    6.8458    2.3913 C   0  0  0  0  0  0  0  0  0  0  0  0\\n   11.6561    6.0019    1.7808 C   0  0  0  0  0  0  0  0  0  0  0  0\\n   10.3236    6.0093    2.1846 C   0  0  0  0  0  0  0  0  0  0  0  0\\n  1 11  2  0\\n  2 14  2  0\\n  4 20  2  0\\n  6 13  2  0\\n  7 15  1  0\\n  8 16  1  0\\n  9 18  1  0\\n 11  5  1  0\\n 11 12  1  0\\n 12  6  1  0\\n 13 14  1  0\\n 14  7  1  0\\n 16 15  1  0\\n 17  3  2  0\\n 17  8  1  0\\n 18 17  1  0\\n 19  9  2  0\\n 20 19  1  0\\n 20 10  1  0\\n 21 10  1  0\\n 22 21  1  0\\n 22  5  1  0\\n 23 12  2  0\\n 23 24  1  0\\n 24 25  2  0\\n 25 13  1  0\\n 26 18  2  0\\n 27 26  1  0\\n 28 27  2  0\\n 28 19  1  0\\nM  END\\n\",\"sdf\");\n",
       "\tviewer_14960555254471288.addModel(\"m1_ss_sa.xyz\\n     RDKit          3D\\n\\n 28 30  0  0  0  0  0  0  0  0999 V2000\\n    7.6682   11.6904    2.8258 O   0  0  0  0  0  0  0  0  0  0  0  0\\n   10.8908   11.7070    7.8444 O   0  0  0  0  0  0  0  0  0  0  0  0\\n   13.5796    8.4241    3.1707 O   0  0  0  0  0  0  0  0  0  0  0  0\\n    7.5182    7.1872   -0.0836 O   0  0  0  0  0  0  0  0  0  0  0  0\\n    5.7473   10.5351    3.4190 N   0  0  0  0  0  0  0  0  0  0  0  0\\n    8.4903   11.6920    5.3084 N   0  0  0  0  0  0  0  0  0  0  0  0\\n   11.0627   11.7455    5.5187 N   0  0  0  0  0  0  0  0  0  0  0  0\\n   11.6076    9.1160    4.1590 N   0  0  0  0  0  0  0  0  0  0  0  0\\n   10.2561    8.1512    1.9588 N   0  0  0  0  0  0  0  0  0  0  0  0\\n    7.5274    8.5619    1.7787 N   0  0  0  0  0  0  0  0  0  0  0  0\\n    6.8705   11.2993    3.6740 C   0  0  0  0  0  0  0  0  0  0  0  0\\n    7.1657   11.5777    5.0900 C   0  0  0  0  0  0  0  0  0  0  0  0\\n    8.9093   11.8514    6.5800 C   0  0  0  0  0  0  0  0  0  0  0  0\\n   10.3820   11.7873    6.7327 C   0  0  0  0  0  0  0  0  0  0  0  0\\n   12.3676   11.1260    5.3984 C   0  0  0  0  0  0  0  0  0  0  0  0\\n   12.2238    9.6051    5.3888 C   0  0  0  0  0  0  0  0  0  0  0  0\\n   12.3526    8.5047    3.1641 C   0  0  0  0  0  0  0  0  0  0  0  0\\n   11.5897    7.8924    2.0436 C   0  0  0  0  0  0  0  0  0  0  0  0\\n    9.5980    7.5526    0.9281 C   0  0  0  0  0  0  0  0  0  0  0  0\\n    8.1300    7.7550    0.8200 C   0  0  0  0  0  0  0  0  0  0  0  0\\n    6.0727    8.5873    1.9221 C   0  0  0  0  0  0  0  0  0  0  0  0\\n    5.4875    9.9863    2.0994 C   0  0  0  0  0  0  0  0  0  0  0  0\\n    6.2164   11.6790    6.0930 C   0  0  0  0  0  0  0  0  0  0  0  0\\n    6.6781   11.8720    7.3967 C   0  0  0  0  0  0  0  0  0  0  0  0\\n    8.0484   11.9403    7.6609 C   0  0  0  0  0  0  0  0  0  0  0  0\\n   12.2776    7.0650    1.1568 C   0  0  0  0  0  0  0  0  0  0  0  0\\n   11.5700    6.4721    0.1220 C   0  0  0  0  0  0  0  0  0  0  0  0\\n   10.2107    6.7208   -0.0083 C   0  0  0  0  0  0  0  0  0  0  0  0\\n  1 11  2  0\\n  4 20  2  0\\n  5 11  1  0\\n  6 13  2  0\\n  7 15  1  0\\n  8 16  1  0\\n  9 18  1  0\\n 11 12  1  0\\n 12  6  1  0\\n 13 14  1  0\\n 14  7  1  0\\n 14  2  2  0\\n 16 15  1  0\\n 17  3  2  0\\n 17  8  1  0\\n 18 17  1  0\\n 19  9  2  0\\n 20 19  1  0\\n 20 10  1  0\\n 21 10  1  0\\n 22 21  1  0\\n 22  5  1  0\\n 23 12  2  0\\n 23 24  1  0\\n 24 25  2  0\\n 25 13  1  0\\n 26 18  2  0\\n 27 26  1  0\\n 28 27  2  0\\n 28 19  1  0\\nM  END\\n\",\"sdf\");\n",
       "\tviewer_14960555254471288.addModel(\"m1_sa_aa.xyz\\n     RDKit          3D\\n\\n 28 30  0  0  0  0  0  0  0  0999 V2000\\n    6.6687   12.1776    2.9301 O   0  0  0  0  0  0  0  0  0  0  0  0\\n   10.8369   11.8291    7.9235 O   0  0  0  0  0  0  0  0  0  0  0  0\\n   14.1881   11.7208    2.2501 O   0  0  0  0  0  0  0  0  0  0  0  0\\n    8.4101   10.0460   -1.3307 O   0  0  0  0  0  0  0  0  0  0  0  0\\n    6.6895    9.8939    3.5130 N   0  0  0  0  0  0  0  0  0  0  0  0\\n    8.5025   11.6879    5.2970 N   0  0  0  0  0  0  0  0  0  0  0  0\\n   11.1051   11.7104    5.6194 N   0  0  0  0  0  0  0  0  0  0  0  0\\n   12.3804   10.6874    3.2684 N   0  0  0  0  0  0  0  0  0  0  0  0\\n   11.0141   10.7610    0.9644 N   0  0  0  0  0  0  0  0  0  0  0  0\\n    8.3226   10.0539    0.9819 N   0  0  0  0  0  0  0  0  0  0  0  0\\n    6.7973   11.2602    3.7325 C   0  0  0  0  0  0  0  0  0  0  0  0\\n    7.1707   11.5868    5.1045 C   0  0  0  0  0  0  0  0  0  0  0  0\\n    8.9096   11.8457    6.5762 C   0  0  0  0  0  0  0  0  0  0  0  0\\n   10.3747   11.8091    6.7874 C   0  0  0  0  0  0  0  0  0  0  0  0\\n   12.5442   11.5291    5.5918 C   0  0  0  0  0  0  0  0  0  0  0  0\\n   12.9516   10.4604    4.5854 C   0  0  0  0  0  0  0  0  0  0  0  0\\n   13.0556   11.2502    2.2072 C   0  0  0  0  0  0  0  0  0  0  0  0\\n   12.3001   11.2140    0.9230 C   0  0  0  0  0  0  0  0  0  0  0  0\\n   10.3825   10.6448   -0.2290 C   0  0  0  0  0  0  0  0  0  0  0  0\\n    8.9617   10.2145   -0.2438 C   0  0  0  0  0  0  0  0  0  0  0  0\\n    6.8708    9.9326    0.9979 C   0  0  0  0  0  0  0  0  0  0  0  0\\n    6.2962    9.2859    2.2501 C   0  0  0  0  0  0  0  0  0  0  0  0\\n    6.2130   11.6775    6.0997 C   0  0  0  0  0  0  0  0  0  0  0  0\\n    6.6715   11.8658    7.3976 C   0  0  0  0  0  0  0  0  0  0  0  0\\n    8.0409   11.9487    7.6539 C   0  0  0  0  0  0  0  0  0  0  0  0\\n   12.9661   11.5666   -0.2464 C   0  0  0  0  0  0  0  0  0  0  0  0\\n   12.2953   11.4080   -1.4468 C   0  0  0  0  0  0  0  0  0  0  0  0\\n   10.9890   10.9344   -1.4498 C   0  0  0  0  0  0  0  0  0  0  0  0\\n  1 11  2  0\\n  2 14  2  0\\n  4 20  2  0\\n  6 13  2  0\\n  7 15  1  0\\n  8 16  1  0\\n  9 18  1  0\\n 11  5  1  0\\n 11 12  1  0\\n 12  6  1  0\\n 13 14  1  0\\n 14  7  1  0\\n 16 15  1  0\\n 17  3  2  0\\n 17  8  1  0\\n 18 17  1  0\\n 19  9  2  0\\n 20 19  1  0\\n 20 10  1  0\\n 21 10  1  0\\n 22 21  1  0\\n 22  5  1  0\\n 23 12  2  0\\n 23 24  1  0\\n 24 25  2  0\\n 25 13  1  0\\n 26 18  2  0\\n 27 26  1  0\\n 28 27  2  0\\n 28 19  1  0\\nM  END\\n\",\"sdf\");\n",
       "\tviewer_14960555254471288.addModel(\"m1_ss_sa.xyz\\n     RDKit          3D\\n\\n 28 30  0  0  0  0  0  0  0  0999 V2000\\n    5.6335   11.6624    3.3228 O   0  0  0  0  0  0  0  0  0  0  0  0\\n   10.8351   11.7206    7.8985 O   0  0  0  0  0  0  0  0  0  0  0  0\\n   14.5406   11.7939    2.8698 O   0  0  0  0  0  0  0  0  0  0  0  0\\n    9.3724    9.3101   -1.1022 O   0  0  0  0  0  0  0  0  0  0  0  0\\n    7.5699   10.4077    3.0458 N   0  0  0  0  0  0  0  0  0  0  0  0\\n    8.5041   11.6731    5.2929 N   0  0  0  0  0  0  0  0  0  0  0  0\\n   11.0777   12.3200    5.6652 N   0  0  0  0  0  0  0  0  0  0  0  0\\n   12.6672   10.7000    3.7097 N   0  0  0  0  0  0  0  0  0  0  0  0\\n   11.7601   10.3900    1.2448 N   0  0  0  0  0  0  0  0  0  0  0  0\\n    9.4838    9.1209    1.2135 N   0  0  0  0  0  0  0  0  0  0  0  0\\n    6.7154   11.2538    3.7279 C   0  0  0  0  0  0  0  0  0  0  0  0\\n    7.1688   11.5851    5.0933 C   0  0  0  0  0  0  0  0  0  0  0  0\\n    8.9021   11.8625    6.5760 C   0  0  0  0  0  0  0  0  0  0  0  0\\n   10.3608   11.9573    6.7924 C   0  0  0  0  0  0  0  0  0  0  0  0\\n   12.5253   12.2494    5.6088 C   0  0  0  0  0  0  0  0  0  0  0  0\\n   12.9747   10.8782    5.1192 C   0  0  0  0  0  0  0  0  0  0  0  0\\n   13.4584   11.2377    2.7044 C   0  0  0  0  0  0  0  0  0  0  0  0\\n   12.8890   11.1209    1.3450 C   0  0  0  0  0  0  0  0  0  0  0  0\\n   11.2046   10.2780    0.0173 C   0  0  0  0  0  0  0  0  0  0  0  0\\n    9.9379    9.5159   -0.0341 C   0  0  0  0  0  0  0  0  0  0  0  0\\n    8.1423    8.6224    1.4461 C   0  0  0  0  0  0  0  0  0  0  0  0\\n    7.2027    9.7716    1.7901 C   0  0  0  0  0  0  0  0  0  0  0  0\\n    6.2219   11.6897    6.1017 C   0  0  0  0  0  0  0  0  0  0  0  0\\n    6.6742   11.8576    7.4045 C   0  0  0  0  0  0  0  0  0  0  0  0\\n    8.0371   11.9443    7.6605 C   0  0  0  0  0  0  0  0  0  0  0  0\\n   13.4961   11.7444    0.2635 C   0  0  0  0  0  0  0  0  0  0  0  0\\n   12.8990   11.6002   -0.9864 C   0  0  0  0  0  0  0  0  0  0  0  0\\n   11.7333   10.8549   -1.1265 C   0  0  0  0  0  0  0  0  0  0  0  0\\n  1 11  2  0\\n  4 20  2  0\\n  5 11  1  0\\n  6 13  2  0\\n  7 15  1  0\\n  8 16  1  0\\n  9 18  1  0\\n 11 12  1  0\\n 12  6  1  0\\n 13 14  1  0\\n 14  7  1  0\\n 14  2  2  0\\n 16 15  1  0\\n 17  3  2  0\\n 17  8  1  0\\n 18 17  1  0\\n 19  9  2  0\\n 20 19  1  0\\n 20 10  1  0\\n 21 10  1  0\\n 22 21  1  0\\n 22  5  1  0\\n 23 12  2  0\\n 23 24  1  0\\n 24 25  2  0\\n 25 13  1  0\\n 26 18  2  0\\n 27 26  1  0\\n 28 27  2  0\\n 28 19  1  0\\nM  END\\n\",\"sdf\");\n",
       "\tviewer_14960555254471288.addModel(\"m1_sa_as.xyz\\n     RDKit          3D\\n\\n 28 30  0  0  0  0  0  0  0  0999 V2000\\n    7.1548   12.0727    2.8217 O   0  0  0  0  0  0  0  0  0  0  0  0\\n   10.8437   11.8407    7.9233 O   0  0  0  0  0  0  0  0  0  0  0  0\\n   13.0889    8.0168    5.7413 O   0  0  0  0  0  0  0  0  0  0  0  0\\n    7.0766    6.3912    2.5522 O   0  0  0  0  0  0  0  0  0  0  0  0\\n    6.1073   10.1171    3.5501 N   0  0  0  0  0  0  0  0  0  0  0  0\\n    8.5017   11.6864    5.2967 N   0  0  0  0  0  0  0  0  0  0  0  0\\n   11.1127   11.6732    5.6241 N   0  0  0  0  0  0  0  0  0  0  0  0\\n   12.0424    9.3969    4.1987 N   0  0  0  0  0  0  0  0  0  0  0  0\\n   10.0716    7.6338    3.9466 N   0  0  0  0  0  0  0  0  0  0  0  0\\n    8.1041    8.4607    2.3651 N   0  0  0  0  0  0  0  0  0  0  0  0\\n    6.7909   11.3083    3.7070 C   0  0  0  0  0  0  0  0  0  0  0  0\\n    7.1694   11.5898    5.0985 C   0  0  0  0  0  0  0  0  0  0  0  0\\n    8.9099   11.8451    6.5771 C   0  0  0  0  0  0  0  0  0  0  0  0\\n   10.3783   11.8039    6.7903 C   0  0  0  0  0  0  0  0  0  0  0  0\\n   12.5318   11.3628    5.6072 C   0  0  0  0  0  0  0  0  0  0  0  0\\n   12.9016   10.5592    4.3637 C   0  0  0  0  0  0  0  0  0  0  0  0\\n   12.1646    8.2535    4.9704 C   0  0  0  0  0  0  0  0  0  0  0  0\\n   11.0445    7.2895    4.8246 C   0  0  0  0  0  0  0  0  0  0  0  0\\n    9.0382    6.7694    3.8037 C   0  0  0  0  0  0  0  0  0  0  0  0\\n    7.9770    7.1706    2.8458 C   0  0  0  0  0  0  0  0  0  0  0  0\\n    7.1214    9.1073    1.5116 C   0  0  0  0  0  0  0  0  0  0  0  0\\n    5.8491    9.5142    2.2543 C   0  0  0  0  0  0  0  0  0  0  0  0\\n    6.2154   11.6737    6.1006 C   0  0  0  0  0  0  0  0  0  0  0  0\\n    6.6719   11.8682    7.3999 C   0  0  0  0  0  0  0  0  0  0  0  0\\n    8.0399   11.9492    7.6560 C   0  0  0  0  0  0  0  0  0  0  0  0\\n   11.0245    6.1214    5.5755 C   0  0  0  0  0  0  0  0  0  0  0  0\\n    9.9469    5.2573    5.4017 C   0  0  0  0  0  0  0  0  0  0  0  0\\n    8.9339    5.5738    4.5010 C   0  0  0  0  0  0  0  0  0  0  0  0\\n  1 11  2  0\\n  3 17  2  0\\n  4 20  2  0\\n  5 11  1  0\\n  6 13  2  0\\n  7 15  1  0\\n  8 16  1  0\\n  9 18  1  0\\n 11 12  1  0\\n 12  6  1  0\\n 13 14  1  0\\n 14  7  1  0\\n 14  2  2  0\\n 16 15  1  0\\n 17  8  1  0\\n 18 17  1  0\\n 19  9  2  0\\n 20 19  1  0\\n 20 10  1  0\\n 21 10  1  0\\n 22 21  1  0\\n 22  5  1  0\\n 23 12  2  0\\n 23 24  1  0\\n 24 25  2  0\\n 25 13  1  0\\n 26 18  2  0\\n 27 26  1  0\\n 28 27  2  0\\n 28 19  1  0\\nM  END\\n\",\"sdf\");\n",
       "\tviewer_14960555254471288.addModel(\"m1_aa_aa.xyz\\n     RDKit          3D\\n\\n 28 30  0  0  0  0  0  0  0  0999 V2000\\n    5.5873   11.4106    3.3419 O   0  0  0  0  0  0  0  0  0  0  0  0\\n   11.0011   12.5521    5.8518 O   0  0  0  0  0  0  0  0  0  0  0  0\\n   15.2184   10.3016    5.4960 O   0  0  0  0  0  0  0  0  0  0  0  0\\n   10.5631   12.5858    2.5618 O   0  0  0  0  0  0  0  0  0  0  0  0\\n    7.8410   11.1572    2.8240 N   0  0  0  0  0  0  0  0  0  0  0  0\\n    8.4982   11.6806    5.3029 N   0  0  0  0  0  0  0  0  0  0  0  0\\n   10.9140   11.3229    7.8259 N   0  0  0  0  0  0  0  0  0  0  0  0\\n   12.9329   10.1438    5.9134 N   0  0  0  0  0  0  0  0  0  0  0  0\\n   12.5264   10.9139    3.3811 N   0  0  0  0  0  0  0  0  0  0  0  0\\n   10.1188   11.0939    0.8360 N   0  0  0  0  0  0  0  0  0  0  0  0\\n    6.7679   11.3814    3.6694 C   0  0  0  0  0  0  0  0  0  0  0  0\\n    7.1649   11.5893    5.0870 C   0  0  0  0  0  0  0  0  0  0  0  0\\n    8.9073   11.8511    6.5804 C   0  0  0  0  0  0  0  0  0  0  0  0\\n   10.3708   11.9594    6.7226 C   0  0  0  0  0  0  0  0  0  0  0  0\\n   12.3487   11.2250    8.0519 C   0  0  0  0  0  0  0  0  0  0  0  0\\n   12.9630   10.0107    7.3598 C   0  0  0  0  0  0  0  0  0  0  0  0\\n   14.0531   10.2822    5.1148 C   0  0  0  0  0  0  0  0  0  0  0  0\\n   13.7412   10.3950    3.6721 C   0  0  0  0  0  0  0  0  0  0  0  0\\n   12.2003   11.0106    2.0718 C   0  0  0  0  0  0  0  0  0  0  0  0\\n   10.8922   11.6500    1.8395 C   0  0  0  0  0  0  0  0  0  0  0  0\\n    8.7574   11.5355    0.5623 C   0  0  0  0  0  0  0  0  0  0  0  0\\n    7.7278   10.8031    1.4202 C   0  0  0  0  0  0  0  0  0  0  0  0\\n    6.2169   11.6783    6.0978 C   0  0  0  0  0  0  0  0  0  0  0  0\\n    6.6776   11.8628    7.4015 C   0  0  0  0  0  0  0  0  0  0  0  0\\n    8.0433   11.9503    7.6593 C   0  0  0  0  0  0  0  0  0  0  0  0\\n   14.6580    9.9889    2.7145 C   0  0  0  0  0  0  0  0  0  0  0  0\\n   14.2825   10.0978    1.3765 C   0  0  0  0  0  0  0  0  0  0  0  0\\n   13.0312   10.6099    1.0362 C   0  0  0  0  0  0  0  0  0  0  0  0\\n  1 11  2  0\\n  2 14  2  0\\n  6 13  2  0\\n  7 15  1  0\\n  8 16  1  0\\n  9 18  1  0\\n 10 20  1  0\\n 10 21  1  0\\n 11  5  1  0\\n 11 12  1  0\\n 12  6  1  0\\n 13 14  1  0\\n 14  7  1  0\\n 16 15  1  0\\n 17  3  2  0\\n 17  8  1  0\\n 18 17  1  0\\n 19 20  1  0\\n 19  9  2  0\\n 20  4  2  0\\n 22 21  1  0\\n 22  5  1  0\\n 23 12  2  0\\n 23 24  1  0\\n 24 25  2  0\\n 25 13  1  0\\n 26 18  2  0\\n 27 26  1  0\\n 28 27  2  0\\n 28 19  1  0\\nM  END\\n\",\"sdf\");\n",
       "\tviewer_14960555254471288.addModel(\"m1_crystal.xyz\\n     RDKit          3D\\n\\n 28 30  0  0  0  0  0  0  0  0999 V2000\\n    5.5581   11.4058    3.3775 O   0  0  0  0  0  0  0  0  0  0  0  0\\n   10.8166   12.3669    7.8571 O   0  0  0  0  0  0  0  0  0  0  0  0\\n   13.5406   15.0497    4.4647 O   0  0  0  0  0  0  0  0  0  0  0  0\\n    7.2474   15.8489    1.5295 O   0  0  0  0  0  0  0  0  0  0  0  0\\n    7.8013   11.4240    2.7764 N   0  0  0  0  0  0  0  0  0  0  0  0\\n    8.4991   11.6736    5.3030 N   0  0  0  0  0  0  0  0  0  0  0  0\\n   11.1238   11.7097    5.6514 N   0  0  0  0  0  0  0  0  0  0  0  0\\n   12.2687   13.3137    3.5970 N   0  0  0  0  0  0  0  0  0  0  0  0\\n   10.4328   15.0325    2.7974 N   0  0  0  0  0  0  0  0  0  0  0  0\\n    8.4657   13.8738    1.4661 N   0  0  0  0  0  0  0  0  0  0  0  0\\n    6.7469   11.4553    3.6738 C   0  0  0  0  0  0  0  0  0  0  0  0\\n    7.1650   11.5944    5.0897 C   0  0  0  0  0  0  0  0  0  0  0  0\\n    8.9094   11.8540    6.5790 C   0  0  0  0  0  0  0  0  0  0  0  0\\n   10.3721   11.9990    6.7750 C   0  0  0  0  0  0  0  0  0  0  0  0\\n   12.5631   11.9002    5.5889 C   0  0  0  0  0  0  0  0  0  0  0  0\\n   13.0216   12.2064    4.1641 C   0  0  0  0  0  0  0  0  0  0  0  0\\n   12.5360   14.6401    3.8942 C   0  0  0  0  0  0  0  0  0  0  0  0\\n   11.4536   15.5756    3.5012 C   0  0  0  0  0  0  0  0  0  0  0  0\\n    9.4029   15.8501    2.4758 C   0  0  0  0  0  0  0  0  0  0  0  0\\n    8.2670   15.2102    1.7700 C   0  0  0  0  0  0  0  0  0  0  0  0\\n    7.4183   13.0174    0.9355 C   0  0  0  0  0  0  0  0  0  0  0  0\\n    7.6328   11.5621    1.3401 C   0  0  0  0  0  0  0  0  0  0  0  0\\n    6.2179   11.6801    6.0986 C   0  0  0  0  0  0  0  0  0  0  0  0\\n    6.6754   11.8570    7.4019 C   0  0  0  0  0  0  0  0  0  0  0  0\\n    8.0414   11.9533    7.6567 C   0  0  0  0  0  0  0  0  0  0  0  0\\n   11.4944   16.9056    3.8955 C   0  0  0  0  0  0  0  0  0  0  0  0\\n   10.4185   17.7170    3.5434 C   0  0  0  0  0  0  0  0  0  0  0  0\\n    9.3481   17.1921    2.8229 C   0  0  0  0  0  0  0  0  0  0  0  0\\n  1 11  2  0\\n  4 20  2  0\\n  6 13  2  0\\n  7 15  1  0\\n  8 16  1  0\\n  9 18  1  0\\n 11  5  1  0\\n 11 12  1  0\\n 12  6  1  0\\n 13 14  1  0\\n 14  7  1  0\\n 14  2  2  0\\n 16 15  1  0\\n 17  3  2  0\\n 17  8  1  0\\n 18 17  1  0\\n 19  9  2  0\\n 20 19  1  0\\n 20 10  1  0\\n 21 10  1  0\\n 22 21  1  0\\n 22  5  1  0\\n 23 12  2  0\\n 23 24  1  0\\n 24 25  2  0\\n 25 13  1  0\\n 26 18  2  0\\n 27 26  1  0\\n 28 27  2  0\\n 28 19  1  0\\nM  END\\n\",\"sdf\");\n",
       "\tviewer_14960555254471288.addModel(\"m1_aa_aa.xyz\\n     RDKit          3D\\n\\n 28 30  0  0  0  0  0  0  0  0999 V2000\\n    6.0127   12.2455    3.1882 O   0  0  0  0  0  0  0  0  0  0  0  0\\n   10.7194   13.2052    7.0586 O   0  0  0  0  0  0  0  0  0  0  0  0\\n   14.2384    9.3075    4.5514 O   0  0  0  0  0  0  0  0  0  0  0  0\\n    9.6152   11.8554    1.5940 O   0  0  0  0  0  0  0  0  0  0  0  0\\n    7.1349   10.2014    3.1561 N   0  0  0  0  0  0  0  0  0  0  0  0\\n    8.5126   11.6662    5.2890 N   0  0  0  0  0  0  0  0  0  0  0  0\\n   11.0883   10.9310    6.6903 N   0  0  0  0  0  0  0  0  0  0  0  0\\n   13.0020   11.2755    4.5291 N   0  0  0  0  0  0  0  0  0  0  0  0\\n   11.6528   10.3694    2.4494 N   0  0  0  0  0  0  0  0  0  0  0  0\\n    8.6890    9.9767    0.5815 N   0  0  0  0  0  0  0  0  0  0  0  0\\n    6.7239   11.3982    3.7163 C   0  0  0  0  0  0  0  0  0  0  0  0\\n    7.1740   11.5929    5.0997 C   0  0  0  0  0  0  0  0  0  0  0  0\\n    8.8945   11.8621    6.5713 C   0  0  0  0  0  0  0  0  0  0  0  0\\n   10.3261   12.0756    6.7906 C   0  0  0  0  0  0  0  0  0  0  0  0\\n   12.5259   10.9205    6.9199 C   0  0  0  0  0  0  0  0  0  0  0  0\\n   13.3076   11.7165    5.8750 C   0  0  0  0  0  0  0  0  0  0  0  0\\n   13.4260   10.0587    4.0268 C   0  0  0  0  0  0  0  0  0  0  0  0\\n   12.7688    9.6717    2.7574 C   0  0  0  0  0  0  0  0  0  0  0  0\\n   10.9816    9.9884    1.3406 C   0  0  0  0  0  0  0  0  0  0  0  0\\n    9.7096   10.7115    1.1597 C   0  0  0  0  0  0  0  0  0  0  0  0\\n    7.3067   10.3954    0.6794 C   0  0  0  0  0  0  0  0  0  0  0  0\\n    6.6233    9.7404    1.8743 C   0  0  0  0  0  0  0  0  0  0  0  0\\n    6.2183   11.6897    6.1038 C   0  0  0  0  0  0  0  0  0  0  0  0\\n    6.6729   11.8517    7.4072 C   0  0  0  0  0  0  0  0  0  0  0  0\\n    8.0361   11.9498    7.6578 C   0  0  0  0  0  0  0  0  0  0  0  0\\n   13.2589    8.6159    2.0028 C   0  0  0  0  0  0  0  0  0  0  0  0\\n   12.5617    8.2776    0.8462 C   0  0  0  0  0  0  0  0  0  0  0  0\\n   11.4039    8.9697    0.4989 C   0  0  0  0  0  0  0  0  0  0  0  0\\n  1 11  2  0\\n  2 14  2  0\\n  6 13  2  0\\n  7 15  1  0\\n  8 16  1  0\\n  9 18  1  0\\n 10 20  1  0\\n 10 21  1  0\\n 11  5  1  0\\n 11 12  1  0\\n 12  6  1  0\\n 13 14  1  0\\n 14  7  1  0\\n 16 15  1  0\\n 17  3  2  0\\n 17  8  1  0\\n 18 17  1  0\\n 19 20  1  0\\n 19  9  2  0\\n 20  4  2  0\\n 22 21  1  0\\n 22  5  1  0\\n 23 12  2  0\\n 23 24  1  0\\n 24 25  2  0\\n 25 13  1  0\\n 26 18  2  0\\n 27 26  1  0\\n 28 27  2  0\\n 28 19  1  0\\nM  END\\n\",\"sdf\");\n",
       "\tviewer_14960555254471288.addModel(\"m1_sa_aa.xyz\\n     RDKit          3D\\n\\n 28 30  0  0  0  0  0  0  0  0999 V2000\\n    6.6175   12.5144    3.0431 O   0  0  0  0  0  0  0  0  0  0  0  0\\n   11.0731   12.4572    6.0232 O   0  0  0  0  0  0  0  0  0  0  0  0\\n   10.5176    8.8871    5.1611 O   0  0  0  0  0  0  0  0  0  0  0  0\\n    9.5940   11.2572   -0.2789 O   0  0  0  0  0  0  0  0  0  0  0  0\\n    6.5132   10.1909    3.2693 N   0  0  0  0  0  0  0  0  0  0  0  0\\n    8.5065   11.6852    5.2840 N   0  0  0  0  0  0  0  0  0  0  0  0\\n   10.7723   10.9906    7.8126 N   0  0  0  0  0  0  0  0  0  0  0  0\\n   12.6255    9.6325    5.7809 N   0  0  0  0  0  0  0  0  0  0  0  0\\n   10.7288    9.9589    2.7581 N   0  0  0  0  0  0  0  0  0  0  0  0\\n    8.4961    9.9716    1.3117 N   0  0  0  0  0  0  0  0  0  0  0  0\\n    6.7365   11.4854    3.6956 C   0  0  0  0  0  0  0  0  0  0  0  0\\n    7.1741   11.5982    5.0941 C   0  0  0  0  0  0  0  0  0  0  0  0\\n    8.8972   11.8347    6.5760 C   0  0  0  0  0  0  0  0  0  0  0  0\\n   10.3540   11.8155    6.7809 C   0  0  0  0  0  0  0  0  0  0  0  0\\n   12.1596   10.6195    8.0033 C   0  0  0  0  0  0  0  0  0  0  0  0\\n   12.5064    9.3661    7.2075 C   0  0  0  0  0  0  0  0  0  0  0  0\\n   11.6086    9.3764    4.8775 C   0  0  0  0  0  0  0  0  0  0  0  0\\n   11.8630    9.7568    3.4687 C   0  0  0  0  0  0  0  0  0  0  0  0\\n   10.8645   10.3135    1.4591 C   0  0  0  0  0  0  0  0  0  0  0  0\\n    9.6013   10.5658    0.7344 C   0  0  0  0  0  0  0  0  0  0  0  0\\n    7.1412   10.2224    0.8588 C   0  0  0  0  0  0  0  0  0  0  0  0\\n    6.1044    9.8427    1.9122 C   0  0  0  0  0  0  0  0  0  0  0  0\\n    6.2243   11.6669    6.1047 C   0  0  0  0  0  0  0  0  0  0  0  0\\n    6.6727   11.8679    7.4096 C   0  0  0  0  0  0  0  0  0  0  0  0\\n    8.0335   11.9595    7.6604 C   0  0  0  0  0  0  0  0  0  0  0  0\\n   13.1362    9.8702    2.9269 C   0  0  0  0  0  0  0  0  0  0  0  0\\n   13.2362   10.2271    1.5835 C   0  0  0  0  0  0  0  0  0  0  0  0\\n   12.0879   10.4661    0.8288 C   0  0  0  0  0  0  0  0  0  0  0  0\\n  1 11  2  0\\n  2 14  2  0\\n  4 20  2  0\\n  6 13  2  0\\n  7 15  1  0\\n  8 16  1  0\\n  9 18  1  0\\n 11  5  1  0\\n 11 12  1  0\\n 12  6  1  0\\n 13 14  1  0\\n 14  7  1  0\\n 16 15  1  0\\n 17  3  2  0\\n 17  8  1  0\\n 18 17  1  0\\n 19  9  2  0\\n 20 19  1  0\\n 20 10  1  0\\n 21 10  1  0\\n 22 21  1  0\\n 22  5  1  0\\n 23 12  2  0\\n 23 24  1  0\\n 24 25  2  0\\n 25 13  1  0\\n 26 18  2  0\\n 27 26  1  0\\n 28 27  2  0\\n 28 19  1  0\\nM  END\\n\",\"sdf\");\n",
       "\tviewer_14960555254471288.addModel(\"m1_aa_aa.xyz\\n     RDKit          3D\\n\\n 28 30  0  0  0  0  0  0  0  0999 V2000\\n    7.6007   11.7318    2.8066 O   0  0  0  0  0  0  0  0  0  0  0  0\\n   11.0646   12.0930    5.7304 O   0  0  0  0  0  0  0  0  0  0  0  0\\n   13.7205    8.7994    5.3307 O   0  0  0  0  0  0  0  0  0  0  0  0\\n    7.7486    7.9969    4.3520 O   0  0  0  0  0  0  0  0  0  0  0  0\\n    5.7032   10.5566    3.4545 N   0  0  0  0  0  0  0  0  0  0  0  0\\n    8.4959   11.6904    5.3023 N   0  0  0  0  0  0  0  0  0  0  0  0\\n   10.8746   11.3243    7.9151 N   0  0  0  0  0  0  0  0  0  0  0  0\\n   11.7161    8.9239    6.4852 N   0  0  0  0  0  0  0  0  0  0  0  0\\n   10.3842    8.4596    4.2048 N   0  0  0  0  0  0  0  0  0  0  0  0\\n    7.4681    8.5056    2.0999 N   0  0  0  0  0  0  0  0  0  0  0  0\\n    6.8325   11.3261    3.6754 C   0  0  0  0  0  0  0  0  0  0  0  0\\n    7.1660   11.5877    5.0904 C   0  0  0  0  0  0  0  0  0  0  0  0\\n    8.9099   11.8413    6.5804 C   0  0  0  0  0  0  0  0  0  0  0  0\\n   10.3819   11.7988    6.7087 C   0  0  0  0  0  0  0  0  0  0  0  0\\n   12.2302   10.8078    8.0176 C   0  0  0  0  0  0  0  0  0  0  0  0\\n   12.2571    9.2961    7.7848 C   0  0  0  0  0  0  0  0  0  0  0  0\\n   12.4955    8.7348    5.3581 C   0  0  0  0  0  0  0  0  0  0  0  0\\n   11.7380    8.4343    4.1152 C   0  0  0  0  0  0  0  0  0  0  0  0\\n    9.6878    8.2020    3.0670 C   0  0  0  0  0  0  0  0  0  0  0  0\\n    8.2133    8.2195    3.2370 C   0  0  0  0  0  0  0  0  0  0  0  0\\n    6.0108    8.5315    2.0855 C   0  0  0  0  0  0  0  0  0  0  0  0\\n    5.4386    9.9446    2.1644 C   0  0  0  0  0  0  0  0  0  0  0  0\\n    6.2175   11.6726    6.0985 C   0  0  0  0  0  0  0  0  0  0  0  0\\n    6.6765   11.8686    7.3989 C   0  0  0  0  0  0  0  0  0  0  0  0\\n    8.0424   11.9518    7.6584 C   0  0  0  0  0  0  0  0  0  0  0  0\\n   12.4254    8.1420    2.9429 C   0  0  0  0  0  0  0  0  0  0  0  0\\n   11.6798    7.8666    1.8022 C   0  0  0  0  0  0  0  0  0  0  0  0\\n   10.2899    7.8951    1.8531 C   0  0  0  0  0  0  0  0  0  0  0  0\\n  1 11  2  0\\n  2 14  2  0\\n  6 13  2  0\\n  7 15  1  0\\n  8 16  1  0\\n  9 18  1  0\\n 10 20  1  0\\n 10 21  1  0\\n 11  5  1  0\\n 11 12  1  0\\n 12  6  1  0\\n 13 14  1  0\\n 14  7  1  0\\n 16 15  1  0\\n 17  3  2  0\\n 17  8  1  0\\n 18 17  1  0\\n 19 20  1  0\\n 19  9  2  0\\n 20  4  2  0\\n 22 21  1  0\\n 22  5  1  0\\n 23 12  2  0\\n 23 24  1  0\\n 24 25  2  0\\n 25 13  1  0\\n 26 18  2  0\\n 27 26  1  0\\n 28 27  2  0\\n 28 19  1  0\\nM  END\\n\",\"sdf\");\n",
       "\tviewer_14960555254471288.addModel(\"m1_sa_sa.xyz\\n     RDKit          3D\\n\\n 28 30  0  0  0  0  0  0  0  0999 V2000\\n    7.6186   11.7931    2.8206 O   0  0  0  0  0  0  0  0  0  0  0  0\\n   10.8671   11.7943    7.8895 O   0  0  0  0  0  0  0  0  0  0  0  0\\n   13.1535    7.4024    4.3493 O   0  0  0  0  0  0  0  0  0  0  0  0\\n    8.2028    9.4138    0.9517 O   0  0  0  0  0  0  0  0  0  0  0  0\\n    5.6831   10.6471    3.4011 N   0  0  0  0  0  0  0  0  0  0  0  0\\n    8.4946   11.6851    5.3050 N   0  0  0  0  0  0  0  0  0  0  0  0\\n   11.0890   11.8667    5.5760 N   0  0  0  0  0  0  0  0  0  0  0  0\\n   11.8985    9.3490    4.4357 N   0  0  0  0  0  0  0  0  0  0  0  0\\n   10.0654    8.2194    2.8324 N   0  0  0  0  0  0  0  0  0  0  0  0\\n    6.7445    8.1451    2.2677 N   0  0  0  0  0  0  0  0  0  0  0  0\\n    6.8349   11.3682    3.6665 C   0  0  0  0  0  0  0  0  0  0  0  0\\n    7.1646   11.5860    5.0885 C   0  0  0  0  0  0  0  0  0  0  0  0\\n    8.9089   11.8502    6.5810 C   0  0  0  0  0  0  0  0  0  0  0  0\\n   10.3798   11.8482    6.7663 C   0  0  0  0  0  0  0  0  0  0  0  0\\n   12.4928   11.5111    5.4806 C   0  0  0  0  0  0  0  0  0  0  0  0\\n   12.6800    9.9984    5.4791 C   0  0  0  0  0  0  0  0  0  0  0  0\\n   12.1549    8.0458    4.0407 C   0  0  0  0  0  0  0  0  0  0  0  0\\n   11.0910    7.4189    3.2162 C   0  0  0  0  0  0  0  0  0  0  0  0\\n    9.0712    7.6155    2.1400 C   0  0  0  0  0  0  0  0  0  0  0  0\\n    7.9663    8.4907    1.7209 C   0  0  0  0  0  0  0  0  0  0  0  0\\n    5.4688    8.7173    1.8655 C   0  0  0  0  0  0  0  0  0  0  0  0\\n    5.3401   10.2263    2.0539 C   0  0  0  0  0  0  0  0  0  0  0  0\\n    6.2172   11.6773    6.0961 C   0  0  0  0  0  0  0  0  0  0  0  0\\n    6.6781   11.8666    7.3987 C   0  0  0  0  0  0  0  0  0  0  0  0\\n    8.0448   11.9473    7.6596 C   0  0  0  0  0  0  0  0  0  0  0  0\\n   11.1712    6.0634    2.9107 C   0  0  0  0  0  0  0  0  0  0  0  0\\n   10.1290    5.4913    2.1865 C   0  0  0  0  0  0  0  0  0  0  0  0\\n    9.0490    6.2715    1.7934 C   0  0  0  0  0  0  0  0  0  0  0  0\\n  1 11  2  0\\n  6 13  2  0\\n  7 14  1  0\\n  7 15  1  0\\n  8 16  1  0\\n  9 18  1  0\\n 10 20  1  0\\n 10 21  1  0\\n 11  5  1  0\\n 11 12  1  0\\n 12  6  1  0\\n 13 14  1  0\\n 14  2  2  0\\n 16 15  1  0\\n 17  3  2  0\\n 17  8  1  0\\n 18 17  1  0\\n 19 20  1  0\\n 19  9  2  0\\n 20  4  2  0\\n 22 21  1  0\\n 22  5  1  0\\n 23 12  2  0\\n 23 24  1  0\\n 24 25  2  0\\n 25 13  1  0\\n 26 18  2  0\\n 27 26  1  0\\n 28 27  2  0\\n 28 19  1  0\\nM  END\\n\",\"sdf\");\n",
       "\tviewer_14960555254471288.addModel(\"m1_crystal.xyz\\n     RDKit          3D\\n\\n 28 30  0  0  0  0  0  0  0  0999 V2000\\n    5.5788   11.3384    3.3655 O   0  0  0  0  0  0  0  0  0  0  0  0\\n   10.8766   12.1997    7.8384 O   0  0  0  0  0  0  0  0  0  0  0  0\\n   12.5388   16.3987    5.7783 O   0  0  0  0  0  0  0  0  0  0  0  0\\n    8.0648   16.1535    0.4296 O   0  0  0  0  0  0  0  0  0  0  0  0\\n    7.8031   11.6625    2.7756 N   0  0  0  0  0  0  0  0  0  0  0  0\\n    8.4948   11.6724    5.3063 N   0  0  0  0  0  0  0  0  0  0  0  0\\n   11.0787   11.8400    5.5489 N   0  0  0  0  0  0  0  0  0  0  0  0\\n   12.0306   14.4210    4.6914 N   0  0  0  0  0  0  0  0  0  0  0  0\\n   10.2832   15.7623    3.1389 N   0  0  0  0  0  0  0  0  0  0  0  0\\n    8.4274   14.3023    1.7768 N   0  0  0  0  0  0  0  0  0  0  0  0\\n    6.7573   11.5004    3.6679 C   0  0  0  0  0  0  0  0  0  0  0  0\\n    7.1645   11.5971    5.0879 C   0  0  0  0  0  0  0  0  0  0  0  0\\n    8.9100   11.8531    6.5790 C   0  0  0  0  0  0  0  0  0  0  0  0\\n   10.3828   11.9762    6.7401 C   0  0  0  0  0  0  0  0  0  0  0  0\\n   12.4975   12.0993    5.3826 C   0  0  0  0  0  0  0  0  0  0  0  0\\n   12.8445   13.5711    5.5439 C   0  0  0  0  0  0  0  0  0  0  0  0\\n   11.9509   15.7883    4.8930 C   0  0  0  0  0  0  0  0  0  0  0  0\\n   11.0707   16.5163    3.9467 C   0  0  0  0  0  0  0  0  0  0  0  0\\n    9.4651   16.4349    2.2948 C   0  0  0  0  0  0  0  0  0  0  0  0\\n    8.5990   15.6270    1.4023 C   0  0  0  0  0  0  0  0  0  0  0  0\\n    7.3529   13.4962    1.2138 C   0  0  0  0  0  0  0  0  0  0  0  0\\n    7.5913   12.0006    1.3818 C   0  0  0  0  0  0  0  0  0  0  0  0\\n    6.2186   11.6778    6.0964 C   0  0  0  0  0  0  0  0  0  0  0  0\\n    6.6762   11.8566    7.4004 C   0  0  0  0  0  0  0  0  0  0  0  0\\n    8.0439   11.9553    7.6589 C   0  0  0  0  0  0  0  0  0  0  0  0\\n   11.0747   17.9075    3.9526 C   0  0  0  0  0  0  0  0  0  0  0  0\\n   10.2096   18.5613    3.0838 C   0  0  0  0  0  0  0  0  0  0  0  0\\n    9.3895   17.8216    2.2362 C   0  0  0  0  0  0  0  0  0  0  0  0\\n  1 11  2  0\\n  4 20  2  0\\n  6 13  2  0\\n  7 15  1  0\\n  8 16  1  0\\n  9 18  1  0\\n 11  5  1  0\\n 11 12  1  0\\n 12  6  1  0\\n 13 14  1  0\\n 14  7  1  0\\n 14  2  2  0\\n 16 15  1  0\\n 17  3  2  0\\n 17  8  1  0\\n 18 17  1  0\\n 19  9  2  0\\n 20 19  1  0\\n 20 10  1  0\\n 21 10  1  0\\n 22 21  1  0\\n 22  5  1  0\\n 23 12  2  0\\n 23 24  1  0\\n 24 25  2  0\\n 25 13  1  0\\n 26 18  2  0\\n 27 26  1  0\\n 28 27  2  0\\n 28 19  1  0\\nM  END\\n\",\"sdf\");\n",
       "\tviewer_14960555254471288.addModel(\"m1_aa_aa.xyz\\n     RDKit          3D\\n\\n 28 30  0  0  0  0  0  0  0  0999 V2000\\n    7.6316   11.8606    2.8204 O   0  0  0  0  0  0  0  0  0  0  0  0\\n   10.9900   12.7106    7.1075 O   0  0  0  0  0  0  0  0  0  0  0  0\\n   12.7703    7.6812    4.3289 O   0  0  0  0  0  0  0  0  0  0  0  0\\n    7.9863    9.4534   -0.0854 O   0  0  0  0  0  0  0  0  0  0  0  0\\n    5.6401   10.7939    3.3641 N   0  0  0  0  0  0  0  0  0  0  0  0\\n    8.5000   11.6792    5.2981 N   0  0  0  0  0  0  0  0  0  0  0  0\\n   10.7910   10.4425    6.5755 N   0  0  0  0  0  0  0  0  0  0  0  0\\n   11.9569    9.8244    4.0153 N   0  0  0  0  0  0  0  0  0  0  0  0\\n   10.0626    8.6831    2.3213 N   0  0  0  0  0  0  0  0  0  0  0  0\\n    7.0478    8.6741    1.9068 N   0  0  0  0  0  0  0  0  0  0  0  0\\n    6.8288   11.4431    3.6532 C   0  0  0  0  0  0  0  0  0  0  0  0\\n    7.1672   11.5998    5.0837 C   0  0  0  0  0  0  0  0  0  0  0  0\\n    8.8921   11.8407    6.5801 C   0  0  0  0  0  0  0  0  0  0  0  0\\n   10.3378   11.7299    6.7901 C   0  0  0  0  0  0  0  0  0  0  0  0\\n   12.1974   10.1076    6.4765 C   0  0  0  0  0  0  0  0  0  0  0  0\\n   12.7351   10.4457    5.0861 C   0  0  0  0  0  0  0  0  0  0  0  0\\n   12.0368    8.4688    3.7390 C   0  0  0  0  0  0  0  0  0  0  0  0\\n   11.1729    7.9705    2.6389 C   0  0  0  0  0  0  0  0  0  0  0  0\\n    9.2993    8.1510    1.3317 C   0  0  0  0  0  0  0  0  0  0  0  0\\n    8.0586    8.8596    0.9811 C   0  0  0  0  0  0  0  0  0  0  0  0\\n    5.6540    9.0120    1.6495 C   0  0  0  0  0  0  0  0  0  0  0  0\\n    5.2869   10.4475    2.0021 C   0  0  0  0  0  0  0  0  0  0  0  0\\n    6.2233   11.6689    6.0992 C   0  0  0  0  0  0  0  0  0  0  0  0\\n    6.6811   11.8628    7.4032 C   0  0  0  0  0  0  0  0  0  0  0  0\\n    8.0446   11.9609    7.6645 C   0  0  0  0  0  0  0  0  0  0  0  0\\n   11.5317    6.7731    2.0180 C   0  0  0  0  0  0  0  0  0  0  0  0\\n   10.7147    6.2756    1.0110 C   0  0  0  0  0  0  0  0  0  0  0  0\\n    9.5711    6.9704    0.6513 C   0  0  0  0  0  0  0  0  0  0  0  0\\n  1 11  2  0\\n  2 14  2  0\\n  6 13  2  0\\n  7 15  1  0\\n  8 16  1  0\\n  9 18  1  0\\n 10 20  1  0\\n 10 21  1  0\\n 11  5  1  0\\n 11 12  1  0\\n 12  6  1  0\\n 13 14  1  0\\n 14  7  1  0\\n 16 15  1  0\\n 17  3  2  0\\n 17  8  1  0\\n 18 17  1  0\\n 19 20  1  0\\n 19  9  2  0\\n 20  4  2  0\\n 22 21  1  0\\n 22  5  1  0\\n 23 12  2  0\\n 23 24  1  0\\n 24 25  2  0\\n 25 13  1  0\\n 26 18  2  0\\n 27 26  1  0\\n 28 27  2  0\\n 28 19  1  0\\nM  END\\n\",\"sdf\");\n",
       "\tviewer_14960555254471288.addModel(\"m1_sa_as.xyz\\n     RDKit          3D\\n\\n 28 30  0  0  0  0  0  0  0  0999 V2000\\n    7.4335   11.9193    2.8066 O   0  0  0  0  0  0  0  0  0  0  0  0\\n   10.9029   11.9337    7.8443 O   0  0  0  0  0  0  0  0  0  0  0  0\\n   13.6935   11.7417    1.2817 O   0  0  0  0  0  0  0  0  0  0  0  0\\n    8.0372    8.0643   -0.5044 O   0  0  0  0  0  0  0  0  0  0  0  0\\n    5.9712   10.2480    3.5047 N   0  0  0  0  0  0  0  0  0  0  0  0\\n    8.4921   11.6894    5.3039 N   0  0  0  0  0  0  0  0  0  0  0  0\\n   11.0452   11.6473    5.5382 N   0  0  0  0  0  0  0  0  0  0  0  0\\n   12.2930   10.9770    2.9559 N   0  0  0  0  0  0  0  0  0  0  0  0\\n   10.7051    9.8685    0.9889 N   0  0  0  0  0  0  0  0  0  0  0  0\\n    8.1831    8.9666    1.6200 N   0  0  0  0  0  0  0  0  0  0  0  0\\n    6.8466   11.2999    3.6876 C   0  0  0  0  0  0  0  0  0  0  0  0\\n    7.1676   11.5869    5.0934 C   0  0  0  0  0  0  0  0  0  0  0  0\\n    8.9089   11.8446    6.5801 C   0  0  0  0  0  0  0  0  0  0  0  0\\n   10.3837   11.8250    6.7410 C   0  0  0  0  0  0  0  0  0  0  0  0\\n   12.4593   11.3655    5.4072 C   0  0  0  0  0  0  0  0  0  0  0  0\\n   12.9490   11.7349    4.0152 C   0  0  0  0  0  0  0  0  0  0  0  0\\n   12.7209   11.0823    1.6419 C   0  0  0  0  0  0  0  0  0  0  0  0\\n   11.9384   10.3213    0.6355 C   0  0  0  0  0  0  0  0  0  0  0  0\\n   10.0297    9.1782    0.0317 C   0  0  0  0  0  0  0  0  0  0  0  0\\n    8.6641    8.6878    0.3504 C   0  0  0  0  0  0  0  0  0  0  0  0\\n    6.8872    8.4704    2.0751 C   0  0  0  0  0  0  0  0  0  0  0  0\\n    5.8414    9.5726    2.2273 C   0  0  0  0  0  0  0  0  0  0  0  0\\n    6.2171   11.6733    6.0949 C   0  0  0  0  0  0  0  0  0  0  0  0\\n    6.6767   11.8695    7.3974 C   0  0  0  0  0  0  0  0  0  0  0  0\\n    8.0459   11.9488    7.6593 C   0  0  0  0  0  0  0  0  0  0  0  0\\n   12.5143   10.1182   -0.6162 C   0  0  0  0  0  0  0  0  0  0  0  0\\n   11.8005    9.3917   -1.5576 C   0  0  0  0  0  0  0  0  0  0  0  0\\n   10.5397    8.9089   -1.2382 C   0  0  0  0  0  0  0  0  0  0  0  0\\n  1 11  2  0\\n  3 17  2  0\\n  4 20  2  0\\n  5 11  1  0\\n  6 13  2  0\\n  7 15  1  0\\n  8 16  1  0\\n  9 18  1  0\\n 11 12  1  0\\n 12  6  1  0\\n 13 14  1  0\\n 14  7  1  0\\n 14  2  2  0\\n 16 15  1  0\\n 17  8  1  0\\n 18 17  1  0\\n 19  9  2  0\\n 20 19  1  0\\n 20 10  1  0\\n 21 10  1  0\\n 22 21  1  0\\n 22  5  1  0\\n 23 12  2  0\\n 23 24  1  0\\n 24 25  2  0\\n 25 13  1  0\\n 26 18  2  0\\n 27 26  1  0\\n 28 27  2  0\\n 28 19  1  0\\nM  END\\n\",\"sdf\");\n",
       "\tviewer_14960555254471288.addModel(\"m1_crystal.xyz\\n     RDKit          3D\\n\\n 28 30  0  0  0  0  0  0  0  0999 V2000\\n    6.5949    7.1445    3.5476 O   0  0  0  0  0  0  0  0  0  0  0  0\\n    7.7319    7.5533    3.3387 C   0  0  0  0  0  0  0  0  0  0  0  0\\n    8.1210    8.3359    2.2660 N   0  0  0  0  0  0  0  0  0  0  0  0\\n    7.1694    9.1094    1.4850 C   0  0  0  0  0  0  0  0  0  0  0  0\\n    7.5942   10.5751    1.4592 C   0  0  0  0  0  0  0  0  0  0  0  0\\n    7.7949   11.1071    2.8017 N   0  0  0  0  0  0  0  0  0  0  0  0\\n    6.7498   11.3385    3.6834 C   0  0  0  0  0  0  0  0  0  0  0  0\\n    5.5595   11.3146    3.3868 O   0  0  0  0  0  0  0  0  0  0  0  0\\n    7.1660   11.5885    5.0873 C   0  0  0  0  0  0  0  0  0  0  0  0\\n    8.4995   11.6782    5.2994 N   0  0  0  0  0  0  0  0  0  0  0  0\\n    8.9058   11.8555    6.5791 C   0  0  0  0  0  0  0  0  0  0  0  0\\n   10.3731   11.8628    6.7801 C   0  0  0  0  0  0  0  0  0  0  0  0\\n   10.8393   11.5784    7.8789 O   0  0  0  0  0  0  0  0  0  0  0  0\\n   11.0993   12.1685    5.6411 N   0  0  0  0  0  0  0  0  0  0  0  0\\n   12.5177   11.8816    5.5021 C   0  0  0  0  0  0  0  0  0  0  0  0\\n   12.7735   11.0053    4.2737 C   0  0  0  0  0  0  0  0  0  0  0  0\\n   11.9057    9.8361    4.2303 N   0  0  0  0  0  0  0  0  0  0  0  0\\n   12.0132    8.8025    5.1468 C   0  0  0  0  0  0  0  0  0  0  0  0\\n   12.9404    8.6517    5.9359 O   0  0  0  0  0  0  0  0  0  0  0  0\\n   10.8617    7.8700    5.1711 C   0  0  0  0  0  0  0  0  0  0  0  0\\n    9.9107    8.0539    4.2262 N   0  0  0  0  0  0  0  0  0  0  0  0\\n    8.8107    7.2658    4.3124 C   0  0  0  0  0  0  0  0  0  0  0  0\\n    8.6164    6.3077    5.2992 C   0  0  0  0  0  0  0  0  0  0  0  0\\n    9.6222    6.1428    6.2441 C   0  0  0  0  0  0  0  0  0  0  0  0\\n   10.7696    6.9271    6.1873 C   0  0  0  0  0  0  0  0  0  0  0  0\\n    8.0425   11.9463    7.6611 C   0  0  0  0  0  0  0  0  0  0  0  0\\n    6.6752   11.8642    7.4031 C   0  0  0  0  0  0  0  0  0  0  0  0\\n    6.2193   11.6797    6.0990 C   0  0  0  0  0  0  0  0  0  0  0  0\\n  2  1  2  0\\n  3  2  1  0\\n  4  3  1  0\\n  5  4  1  0\\n  6  5  1  0\\n  7  6  1  0\\n  8  7  2  0\\n  9  7  1  0\\n 10  9  1  0\\n 11 10  2  0\\n 12 11  1  0\\n 13 12  2  0\\n 14 12  1  0\\n 15 14  1  0\\n 16 15  1  0\\n 17 16  1  0\\n 18 17  1  0\\n 19 18  2  0\\n 20 18  1  0\\n 21 20  1  0\\n 22 21  2  0\\n 22  2  1  0\\n 23 22  1  0\\n 24 23  2  0\\n 25 24  1  0\\n 25 20  2  0\\n 26 11  1  0\\n 27 26  2  0\\n 28 27  1  0\\n 28  9  2  0\\nM  END\\n\",\"sdf\");\n",
       "\tviewer_14960555254471288.addModel(\"m1_ss_aa.xyz\\n     RDKit          3D\\n\\n 28 30  0  0  0  0  0  0  0  0999 V2000\\n    7.6731   11.0316    2.8647 O   0  0  0  0  0  0  0  0  0  0  0  0\\n   10.9482   11.2481    7.4666 O   0  0  0  0  0  0  0  0  0  0  0  0\\n    7.1777   16.3348    7.8264 O   0  0  0  0  0  0  0  0  0  0  0  0\\n    3.4285   14.8527    2.1349 O   0  0  0  0  0  0  0  0  0  0  0  0\\n    5.5406   11.8318    3.2932 N   0  0  0  0  0  0  0  0  0  0  0  0\\n    8.5022   11.6651    5.2991 N   0  0  0  0  0  0  0  0  0  0  0  0\\n   10.9143   13.1717    6.1900 N   0  0  0  0  0  0  0  0  0  0  0  0\\n    8.0610   15.3279    5.9327 N   0  0  0  0  0  0  0  0  0  0  0  0\\n    5.7256   15.5305    4.7126 N   0  0  0  0  0  0  0  0  0  0  0  0\\n    5.7077   14.4292    2.3053 N   0  0  0  0  0  0  0  0  0  0  0  0\\n    6.8179   11.4352    3.6471 C   0  0  0  0  0  0  0  0  0  0  0  0\\n    7.1681   11.5913    5.0822 C   0  0  0  0  0  0  0  0  0  0  0  0\\n    8.8948   11.8665    6.5759 C   0  0  0  0  0  0  0  0  0  0  0  0\\n   10.3357   12.0601    6.7757 C   0  0  0  0  0  0  0  0  0  0  0  0\\n   10.2274   14.2466    5.4825 C   0  0  0  0  0  0  0  0  0  0  0  0\\n    9.4172   15.1408    6.4224 C   0  0  0  0  0  0  0  0  0  0  0  0\\n    7.0628   15.9386    6.6726 C   0  0  0  0  0  0  0  0  0  0  0  0\\n    5.7854   16.1040    5.9378 C   0  0  0  0  0  0  0  0  0  0  0  0\\n    4.5711   15.6812    4.0219 C   0  0  0  0  0  0  0  0  0  0  0  0\\n    4.5000   14.9736    2.7201 C   0  0  0  0  0  0  0  0  0  0  0  0\\n    5.7690   13.3395    1.3481 C   0  0  0  0  0  0  0  0  0  0  0  0\\n    5.1393   12.0642    1.9152 C   0  0  0  0  0  0  0  0  0  0  0  0\\n    6.2232   11.6878    6.1010 C   0  0  0  0  0  0  0  0  0  0  0  0\\n    6.6786   11.8555    7.4065 C   0  0  0  0  0  0  0  0  0  0  0  0\\n    8.0414   11.9463    7.6643 C   0  0  0  0  0  0  0  0  0  0  0  0\\n    4.7437   16.8242    6.5014 C   0  0  0  0  0  0  0  0  0  0  0  0\\n    3.5775   16.9658    5.7572 C   0  0  0  0  0  0  0  0  0  0  0  0\\n    3.4751   16.3860    4.4968 C   0  0  0  0  0  0  0  0  0  0  0  0\\n  2 14  2  0\\n  4 20  2  0\\n  5 11  1  0\\n  6 13  2  0\\n  7 15  1  0\\n  8 16  1  0\\n  9 18  1  0\\n 11  1  2  0\\n 11 12  1  0\\n 12  6  1  0\\n 13 14  1  0\\n 14  7  1  0\\n 16 15  1  0\\n 17  3  2  0\\n 17  8  1  0\\n 18 17  1  0\\n 19  9  2  0\\n 20 19  1  0\\n 20 10  1  0\\n 21 10  1  0\\n 22  5  1  0\\n 22 21  1  0\\n 23 12  2  0\\n 23 24  1  0\\n 24 25  2  0\\n 25 13  1  0\\n 26 18  2  0\\n 27 26  1  0\\n 28 27  2  0\\n 28 19  1  0\\nM  END\\n\",\"sdf\");\n",
       "\tviewer_14960555254471288.addModel(\"m1_ss_sa.xyz\\n     RDKit          3D\\n\\n 28 30  0  0  0  0  0  0  0  0999 V2000\\n    6.4510   12.3231    3.0194 O   0  0  0  0  0  0  0  0  0  0  0  0\\n   10.8504   12.0096    7.9055 O   0  0  0  0  0  0  0  0  0  0  0  0\\n   13.7474    7.6012    5.8299 O   0  0  0  0  0  0  0  0  0  0  0  0\\n    8.8014    6.9969    0.9225 O   0  0  0  0  0  0  0  0  0  0  0  0\\n    6.8982   10.0462    3.3365 N   0  0  0  0  0  0  0  0  0  0  0  0\\n    8.5033   11.6765    5.2988 N   0  0  0  0  0  0  0  0  0  0  0  0\\n   11.1225   11.8788    5.6048 N   0  0  0  0  0  0  0  0  0  0  0  0\\n   12.5198    9.3997    5.0386 N   0  0  0  0  0  0  0  0  0  0  0  0\\n   11.1485    7.7796    3.4419 N   0  0  0  0  0  0  0  0  0  0  0  0\\n    9.2708    9.0079    1.9713 N   0  0  0  0  0  0  0  0  0  0  0  0\\n    6.7817   11.3702    3.7137 C   0  0  0  0  0  0  0  0  0  0  0  0\\n    7.1696   11.5958    5.1043 C   0  0  0  0  0  0  0  0  0  0  0  0\\n    8.9122   11.8508    6.5751 C   0  0  0  0  0  0  0  0  0  0  0  0\\n   10.3811   11.9263    6.7757 C   0  0  0  0  0  0  0  0  0  0  0  0\\n   12.5758   11.7968    5.5793 C   0  0  0  0  0  0  0  0  0  0  0  0\\n   13.0683   10.3997    5.9381 C   0  0  0  0  0  0  0  0  0  0  0  0\\n   12.8731    8.0656    5.1050 C   0  0  0  0  0  0  0  0  0  0  0  0\\n   12.0967    7.1787    4.2039 C   0  0  0  0  0  0  0  0  0  0  0  0\\n   10.4490    6.9843    2.5979 C   0  0  0  0  0  0  0  0  0  0  0  0\\n    9.4331    7.6515    1.7475 C   0  0  0  0  0  0  0  0  0  0  0  0\\n    8.2475    9.7944    1.3000 C   0  0  0  0  0  0  0  0  0  0  0  0\\n    6.8746    9.6234    1.9492 C   0  0  0  0  0  0  0  0  0  0  0  0\\n    6.2121   11.6775    6.0987 C   0  0  0  0  0  0  0  0  0  0  0  0\\n    6.6709   11.8593    7.3992 C   0  0  0  0  0  0  0  0  0  0  0  0\\n    8.0402   11.9525    7.6528 C   0  0  0  0  0  0  0  0  0  0  0  0\\n   12.3652    5.8166    4.1698 C   0  0  0  0  0  0  0  0  0  0  0  0\\n   11.6216    5.0322    3.2948 C   0  0  0  0  0  0  0  0  0  0  0  0\\n   10.6487    5.6143    2.4889 C   0  0  0  0  0  0  0  0  0  0  0  0\\n  1 11  2  0\\n  4 20  2  0\\n  5 11  1  0\\n  6 13  2  0\\n  7 15  1  0\\n  8 16  1  0\\n  9 18  1  0\\n 11 12  1  0\\n 12  6  1  0\\n 13 14  1  0\\n 14  7  1  0\\n 14  2  2  0\\n 16 15  1  0\\n 17  3  2  0\\n 17  8  1  0\\n 18 17  1  0\\n 19  9  2  0\\n 20 19  1  0\\n 20 10  1  0\\n 21 10  1  0\\n 22 21  1  0\\n 22  5  1  0\\n 23 12  2  0\\n 23 24  1  0\\n 24 25  2  0\\n 25 13  1  0\\n 26 18  2  0\\n 27 26  1  0\\n 28 27  2  0\\n 28 19  1  0\\nM  END\\n\",\"sdf\");\n",
       "\tviewer_14960555254471288.addModel(\"m1_sa_sa.xyz\\n     RDKit          3D\\n\\n 28 30  0  0  0  0  0  0  0  0999 V2000\\n    5.5933   11.2113    3.3689 O   0  0  0  0  0  0  0  0  0  0  0  0\\n   10.7636   12.4295    7.8815 O   0  0  0  0  0  0  0  0  0  0  0  0\\n   15.1189   11.1380    3.6063 O   0  0  0  0  0  0  0  0  0  0  0  0\\n   10.4085    8.9538   -1.0469 O   0  0  0  0  0  0  0  0  0  0  0  0\\n    7.8450   11.3835    2.7847 N   0  0  0  0  0  0  0  0  0  0  0  0\\n    8.5026   11.6773    5.3030 N   0  0  0  0  0  0  0  0  0  0  0  0\\n   11.1537   11.9166    5.6472 N   0  0  0  0  0  0  0  0  0  0  0  0\\n   13.0529   12.1365    3.2723 N   0  0  0  0  0  0  0  0  0  0  0  0\\n   12.4623   10.3059    1.4394 N   0  0  0  0  0  0  0  0  0  0  0  0\\n    9.8453   10.0269    0.9489 N   0  0  0  0  0  0  0  0  0  0  0  0\\n    6.7757   11.3720    3.6718 C   0  0  0  0  0  0  0  0  0  0  0  0\\n    7.1674   11.5848    5.0896 C   0  0  0  0  0  0  0  0  0  0  0  0\\n    8.9081   11.8612    6.5759 C   0  0  0  0  0  0  0  0  0  0  0  0\\n   10.3562   12.0849    6.7713 C   0  0  0  0  0  0  0  0  0  0  0  0\\n   12.5768   12.2089    5.6897 C   0  0  0  0  0  0  0  0  0  0  0  0\\n   13.0433   12.9779    4.4575 C   0  0  0  0  0  0  0  0  0  0  0  0\\n   14.0456   11.2077    3.0106 C   0  0  0  0  0  0  0  0  0  0  0  0\\n   13.7187   10.2366    1.9371 C   0  0  0  0  0  0  0  0  0  0  0  0\\n   12.1262    9.3977    0.4927 C   0  0  0  0  0  0  0  0  0  0  0  0\\n   10.7164    9.4400    0.0346 C   0  0  0  0  0  0  0  0  0  0  0  0\\n    8.3954    9.9744    0.8178 C   0  0  0  0  0  0  0  0  0  0  0  0\\n    7.7116   11.2368    1.3395 C   0  0  0  0  0  0  0  0  0  0  0  0\\n    6.2155   11.6848    6.1011 C   0  0  0  0  0  0  0  0  0  0  0  0\\n    6.6748   11.8635    7.4036 C   0  0  0  0  0  0  0  0  0  0  0  0\\n    8.0397   11.9410    7.6557 C   0  0  0  0  0  0  0  0  0  0  0  0\\n   14.6529    9.2916    1.5368 C   0  0  0  0  0  0  0  0  0  0  0  0\\n   14.2782    8.3841    0.5477 C   0  0  0  0  0  0  0  0  0  0  0  0\\n   12.9975    8.4334    0.0030 C   0  0  0  0  0  0  0  0  0  0  0  0\\n  1 11  2  0\\n  6 13  2  0\\n  7 14  1  0\\n  7 15  1  0\\n  8 16  1  0\\n  9 18  1  0\\n 10 20  1  0\\n 10 21  1  0\\n 11  5  1  0\\n 11 12  1  0\\n 12  6  1  0\\n 13 14  1  0\\n 14  2  2  0\\n 16 15  1  0\\n 17  3  2  0\\n 17  8  1  0\\n 18 17  1  0\\n 19 20  1  0\\n 19  9  2  0\\n 20  4  2  0\\n 22 21  1  0\\n 22  5  1  0\\n 23 12  2  0\\n 23 24  1  0\\n 24 25  2  0\\n 25 13  1  0\\n 26 18  2  0\\n 27 26  1  0\\n 28 27  2  0\\n 28 19  1  0\\nM  END\\n\",\"sdf\");\n",
       "\tviewer_14960555254471288.addModel(\"m1_crystal.xyz\\n     RDKit          3D\\n\\n 28 30  0  0  0  0  0  0  0  0999 V2000\\n    5.5424   11.4648    3.3978 O   0  0  0  0  0  0  0  0  0  0  0  0\\n   10.8118   12.1989    7.9121 O   0  0  0  0  0  0  0  0  0  0  0  0\\n   15.2317   11.3561    2.6797 O   0  0  0  0  0  0  0  0  0  0  0  0\\n    9.9138   12.1155   -1.7774 O   0  0  0  0  0  0  0  0  0  0  0  0\\n    7.7631   11.1688    2.7873 N   0  0  0  0  0  0  0  0  0  0  0  0\\n    8.5015   11.6735    5.2994 N   0  0  0  0  0  0  0  0  0  0  0  0\\n   11.1404   11.7685    5.6542 N   0  0  0  0  0  0  0  0  0  0  0  0\\n   13.0116   11.1926    3.3375 N   0  0  0  0  0  0  0  0  0  0  0  0\\n   12.2503   11.7144    0.8318 N   0  0  0  0  0  0  0  0  0  0  0  0\\n    9.6154   11.9717    0.5210 N   0  0  0  0  0  0  0  0  0  0  0  0\\n    6.7342   11.4062    3.6834 C   0  0  0  0  0  0  0  0  0  0  0  0\\n    7.1666   11.5927    5.0892 C   0  0  0  0  0  0  0  0  0  0  0  0\\n    8.9080   11.8559    6.5774 C   0  0  0  0  0  0  0  0  0  0  0  0\\n   10.3724   11.9594    6.7918 C   0  0  0  0  0  0  0  0  0  0  0  0\\n   12.5861   11.9182    5.6516 C   0  0  0  0  0  0  0  0  0  0  0  0\\n   13.2572   10.9013    4.7400 C   0  0  0  0  0  0  0  0  0  0  0  0\\n   14.0328   11.3790    2.4197 C   0  0  0  0  0  0  0  0  0  0  0  0\\n   13.5867   11.6173    1.0269 C   0  0  0  0  0  0  0  0  0  0  0  0\\n   11.8340   11.9337   -0.4378 C   0  0  0  0  0  0  0  0  0  0  0  0\\n   10.3676   12.0174   -0.6416 C   0  0  0  0  0  0  0  0  0  0  0  0\\n    8.1642   12.0620    0.5298 C   0  0  0  0  0  0  0  0  0  0  0  0\\n    7.5449   10.9516    1.3666 C   0  0  0  0  0  0  0  0  0  0  0  0\\n    6.2193   11.6813    6.1016 C   0  0  0  0  0  0  0  0  0  0  0  0\\n    6.6743   11.8586    7.4035 C   0  0  0  0  0  0  0  0  0  0  0  0\\n    8.0385   11.9504    7.6577 C   0  0  0  0  0  0  0  0  0  0  0  0\\n   14.5255   11.7305    0.0093 C   0  0  0  0  0  0  0  0  0  0  0  0\\n   14.0603   11.9571   -1.2821 C   0  0  0  0  0  0  0  0  0  0  0  0\\n   12.6943   12.0630   -1.5209 C   0  0  0  0  0  0  0  0  0  0  0  0\\n  1 11  2  0\\n  4 20  2  0\\n  6 13  2  0\\n  7 15  1  0\\n  8 16  1  0\\n  9 18  1  0\\n 11  5  1  0\\n 11 12  1  0\\n 12  6  1  0\\n 13 14  1  0\\n 14  7  1  0\\n 14  2  2  0\\n 16 15  1  0\\n 17  3  2  0\\n 17  8  1  0\\n 18 17  1  0\\n 19  9  2  0\\n 20 19  1  0\\n 20 10  1  0\\n 21 10  1  0\\n 22 21  1  0\\n 22  5  1  0\\n 23 12  2  0\\n 23 24  1  0\\n 24 25  2  0\\n 25 13  1  0\\n 26 18  2  0\\n 27 26  1  0\\n 28 27  2  0\\n 28 19  1  0\\nM  END\\n\",\"sdf\");\n",
       "\tviewer_14960555254471288.addModel(\"m1_ss_sa.xyz\\n     RDKit          3D\\n\\n 28 30  0  0  0  0  0  0  0  0999 V2000\\n    7.1072   10.4678    3.0672 O   0  0  0  0  0  0  0  0  0  0  0  0\\n   10.8282   12.2761    7.8783 O   0  0  0  0  0  0  0  0  0  0  0  0\\n   12.8043   15.8029    4.6001 O   0  0  0  0  0  0  0  0  0  0  0  0\\n    6.7829   15.8737    1.0383 O   0  0  0  0  0  0  0  0  0  0  0  0\\n    6.1127   12.5757    3.2030 N   0  0  0  0  0  0  0  0  0  0  0  0\\n    8.5036   11.6663    5.2987 N   0  0  0  0  0  0  0  0  0  0  0  0\\n   11.0924   12.0713    5.5824 N   0  0  0  0  0  0  0  0  0  0  0  0\\n   11.9027   13.9303    3.5700 N   0  0  0  0  0  0  0  0  0  0  0  0\\n    9.8309   15.3745    2.7472 N   0  0  0  0  0  0  0  0  0  0  0  0\\n    7.9723   13.9395    1.5097 N   0  0  0  0  0  0  0  0  0  0  0  0\\n    6.7788   11.4688    3.6911 C   0  0  0  0  0  0  0  0  0  0  0  0\\n    7.1696   11.5965    5.0995 C   0  0  0  0  0  0  0  0  0  0  0  0\\n    8.9093   11.8615    6.5747 C   0  0  0  0  0  0  0  0  0  0  0  0\\n   10.3660   12.0742    6.7605 C   0  0  0  0  0  0  0  0  0  0  0  0\\n   12.4735   12.5138    5.5078 C   0  0  0  0  0  0  0  0  0  0  0  0\\n   12.8405   12.9468    4.0921 C   0  0  0  0  0  0  0  0  0  0  0  0\\n   11.9310   15.2689    3.9240 C   0  0  0  0  0  0  0  0  0  0  0  0\\n   10.7806   16.0632    3.4243 C   0  0  0  0  0  0  0  0  0  0  0  0\\n    8.7757   16.0813    2.2768 C   0  0  0  0  0  0  0  0  0  0  0  0\\n    7.7446   15.3039    1.5435 C   0  0  0  0  0  0  0  0  0  0  0  0\\n    7.0446   12.9831    0.9324 C   0  0  0  0  0  0  0  0  0  0  0  0\\n    5.8038   12.7608    1.7961 C   0  0  0  0  0  0  0  0  0  0  0  0\\n    6.2143   11.6844    6.0997 C   0  0  0  0  0  0  0  0  0  0  0  0\\n    6.6721   11.8534    7.4016 C   0  0  0  0  0  0  0  0  0  0  0  0\\n    8.0394   11.9502    7.6549 C   0  0  0  0  0  0  0  0  0  0  0  0\\n   10.7174   17.4306    3.6593 C   0  0  0  0  0  0  0  0  0  0  0  0\\n    9.6193   18.1254    3.1594 C   0  0  0  0  0  0  0  0  0  0  0  0\\n    8.6282   17.4510    2.4520 C   0  0  0  0  0  0  0  0  0  0  0  0\\n  1 11  2  0\\n  4 20  2  0\\n  5 11  1  0\\n  6 13  2  0\\n  7 15  1  0\\n  8 16  1  0\\n  9 18  1  0\\n 11 12  1  0\\n 12  6  1  0\\n 13 14  1  0\\n 14  7  1  0\\n 14  2  2  0\\n 16 15  1  0\\n 17  3  2  0\\n 17  8  1  0\\n 18 17  1  0\\n 19  9  2  0\\n 20 19  1  0\\n 20 10  1  0\\n 21 10  1  0\\n 22 21  1  0\\n 22  5  1  0\\n 23 12  2  0\\n 23 24  1  0\\n 24 25  2  0\\n 25 13  1  0\\n 26 18  2  0\\n 27 26  1  0\\n 28 27  2  0\\n 28 19  1  0\\nM  END\\n\",\"sdf\");\n",
       "\tviewer_14960555254471288.addModel(\"m1_sa_aa.xyz\\n     RDKit          3D\\n\\n 28 30  0  0  0  0  0  0  0  0999 V2000\\n    5.5892   10.9414    3.4618 O   0  0  0  0  0  0  0  0  0  0  0  0\\n   10.9441   12.8263    6.1005 O   0  0  0  0  0  0  0  0  0  0  0  0\\n   14.7387    9.2747    4.5810 O   0  0  0  0  0  0  0  0  0  0  0  0\\n    9.0734    7.4360    1.3671 O   0  0  0  0  0  0  0  0  0  0  0  0\\n    7.7898   11.2332    2.7809 N   0  0  0  0  0  0  0  0  0  0  0  0\\n    8.5016   11.6841    5.2960 N   0  0  0  0  0  0  0  0  0  0  0  0\\n   10.9164   11.0182    7.5769 N   0  0  0  0  0  0  0  0  0  0  0  0\\n   12.7723    9.5706    5.8126 N   0  0  0  0  0  0  0  0  0  0  0  0\\n   11.7596    8.5182    3.3497 N   0  0  0  0  0  0  0  0  0  0  0  0\\n    9.9519    9.5659    1.6764 N   0  0  0  0  0  0  0  0  0  0  0  0\\n    6.7557   11.2451    3.7043 C   0  0  0  0  0  0  0  0  0  0  0  0\\n    7.1678   11.5839    5.0876 C   0  0  0  0  0  0  0  0  0  0  0  0\\n    8.8988   11.8524    6.5777 C   0  0  0  0  0  0  0  0  0  0  0  0\\n   10.3533   11.9650    6.7383 C   0  0  0  0  0  0  0  0  0  0  0  0\\n   12.3441   10.9359    7.8391 C   0  0  0  0  0  0  0  0  0  0  0  0\\n   13.1892   10.7277    6.5840 C   0  0  0  0  0  0  0  0  0  0  0  0\\n   13.5632    9.0243    4.8168 C   0  0  0  0  0  0  0  0  0  0  0  0\\n   12.8540    8.0434    3.9879 C   0  0  0  0  0  0  0  0  0  0  0  0\\n   11.0811    7.6358    2.5806 C   0  0  0  0  0  0  0  0  0  0  0  0\\n    9.9278    8.1874    1.8257 C   0  0  0  0  0  0  0  0  0  0  0  0\\n    9.0088   10.2993    0.8457 C   0  0  0  0  0  0  0  0  0  0  0  0\\n    7.6647   10.5169    1.5253 C   0  0  0  0  0  0  0  0  0  0  0  0\\n    6.2216   11.6794    6.1000 C   0  0  0  0  0  0  0  0  0  0  0  0\\n    6.6762   11.8685    7.4038 C   0  0  0  0  0  0  0  0  0  0  0  0\\n    8.0423   11.9441    7.6638 C   0  0  0  0  0  0  0  0  0  0  0  0\\n   13.3173    6.7396    3.9005 C   0  0  0  0  0  0  0  0  0  0  0  0\\n   12.5787    5.8538    3.1249 C   0  0  0  0  0  0  0  0  0  0  0  0\\n   11.4359    6.2954    2.4545 C   0  0  0  0  0  0  0  0  0  0  0  0\\n  1 11  2  0\\n  2 14  2  0\\n  4 20  2  0\\n  6 13  2  0\\n  7 15  1  0\\n  8 16  1  0\\n  9 18  1  0\\n 11  5  1  0\\n 11 12  1  0\\n 12  6  1  0\\n 13 14  1  0\\n 14  7  1  0\\n 16 15  1  0\\n 17  3  2  0\\n 17  8  1  0\\n 18 17  1  0\\n 19  9  2  0\\n 20 19  1  0\\n 20 10  1  0\\n 21 10  1  0\\n 22 21  1  0\\n 22  5  1  0\\n 23 12  2  0\\n 23 24  1  0\\n 24 25  2  0\\n 25 13  1  0\\n 26 18  2  0\\n 27 26  1  0\\n 28 27  2  0\\n 28 19  1  0\\nM  END\\n\",\"sdf\");\n",
       "\tviewer_14960555254471288.addModel(\"m1_sa_aa.xyz\\n     RDKit          3D\\n\\n 28 30  0  0  0  0  0  0  0  0999 V2000\\n    7.5738   11.8442    2.8107 O   0  0  0  0  0  0  0  0  0  0  0  0\\n   10.8505   12.0781    7.8992 O   0  0  0  0  0  0  0  0  0  0  0  0\\n   10.9084   11.4725    2.3969 O   0  0  0  0  0  0  0  0  0  0  0  0\\n    7.4498    6.8834    0.4610 O   0  0  0  0  0  0  0  0  0  0  0  0\\n    5.6555   10.6791    3.4113 N   0  0  0  0  0  0  0  0  0  0  0  0\\n    8.4978   11.6823    5.3023 N   0  0  0  0  0  0  0  0  0  0  0  0\\n   11.1142   11.7031    5.6236 N   0  0  0  0  0  0  0  0  0  0  0  0\\n   12.7179   10.4305    3.4155 N   0  0  0  0  0  0  0  0  0  0  0  0\\n    9.8705    9.1020    1.7481 N   0  0  0  0  0  0  0  0  0  0  0  0\\n    7.2453    8.9251    1.5461 N   0  0  0  0  0  0  0  0  0  0  0  0\\n    6.8115   11.3997    3.6659 C   0  0  0  0  0  0  0  0  0  0  0  0\\n    7.1647   11.5887    5.0885 C   0  0  0  0  0  0  0  0  0  0  0  0\\n    8.9096   11.8498    6.5804 C   0  0  0  0  0  0  0  0  0  0  0  0\\n   10.3797   11.8974    6.7815 C   0  0  0  0  0  0  0  0  0  0  0  0\\n   12.5547   11.5227    5.6275 C   0  0  0  0  0  0  0  0  0  0  0  0\\n   13.1459   11.5647    4.2220 C   0  0  0  0  0  0  0  0  0  0  0  0\\n   11.6020   10.4782    2.5950 C   0  0  0  0  0  0  0  0  0  0  0  0\\n   11.2036    9.2037    1.9608 C   0  0  0  0  0  0  0  0  0  0  0  0\\n    9.4208    7.9590    1.1790 C   0  0  0  0  0  0  0  0  0  0  0  0\\n    7.9490    7.8580    1.0125 C   0  0  0  0  0  0  0  0  0  0  0  0\\n    5.7980    8.9301    1.6668 C   0  0  0  0  0  0  0  0  0  0  0  0\\n    5.2516   10.2976    2.0654 C   0  0  0  0  0  0  0  0  0  0  0  0\\n    6.2173   11.6778    6.0983 C   0  0  0  0  0  0  0  0  0  0  0  0\\n    6.6763   11.8637    7.4007 C   0  0  0  0  0  0  0  0  0  0  0  0\\n    8.0425   11.9502    7.6586 C   0  0  0  0  0  0  0  0  0  0  0  0\\n   12.1151    8.2190    1.6067 C   0  0  0  0  0  0  0  0  0  0  0  0\\n   11.6183    7.0627    1.0093 C   0  0  0  0  0  0  0  0  0  0  0  0\\n   10.2508    6.9174    0.7892 C   0  0  0  0  0  0  0  0  0  0  0  0\\n  1 11  2  0\\n  2 14  2  0\\n  4 20  2  0\\n  6 13  2  0\\n  7 15  1  0\\n  8 16  1  0\\n  9 18  1  0\\n 11  5  1  0\\n 11 12  1  0\\n 12  6  1  0\\n 13 14  1  0\\n 14  7  1  0\\n 16 15  1  0\\n 17  3  2  0\\n 17  8  1  0\\n 18 17  1  0\\n 19  9  2  0\\n 20 19  1  0\\n 20 10  1  0\\n 21 10  1  0\\n 22 21  1  0\\n 22  5  1  0\\n 23 12  2  0\\n 23 24  1  0\\n 24 25  2  0\\n 25 13  1  0\\n 26 18  2  0\\n 27 26  1  0\\n 28 27  2  0\\n 28 19  1  0\\nM  END\\n\",\"sdf\");\n",
       "\tviewer_14960555254471288.addModel(\"m1_sa_aa.xyz\\n     RDKit          3D\\n\\n 28 30  0  0  0  0  0  0  0  0999 V2000\\n    5.6557   10.9798    3.3778 O   0  0  0  0  0  0  0  0  0  0  0  0\\n   10.9062   12.0063    7.8411 O   0  0  0  0  0  0  0  0  0  0  0  0\\n   15.9112   11.1778    2.7740 O   0  0  0  0  0  0  0  0  0  0  0  0\\n    9.8221    8.6338    0.8827 O   0  0  0  0  0  0  0  0  0  0  0  0\\n    7.8225   11.5577    2.7626 N   0  0  0  0  0  0  0  0  0  0  0  0\\n    8.4873   11.6850    5.3072 N   0  0  0  0  0  0  0  0  0  0  0  0\\n   11.0320   11.6522    5.5421 N   0  0  0  0  0  0  0  0  0  0  0  0\\n   14.1602   12.3545    3.6630 N   0  0  0  0  0  0  0  0  0  0  0  0\\n   12.6582   10.3426    2.1252 N   0  0  0  0  0  0  0  0  0  0  0  0\\n   10.2358   10.9003    1.1626 N   0  0  0  0  0  0  0  0  0  0  0  0\\n    6.7856   11.3598    3.6665 C   0  0  0  0  0  0  0  0  0  0  0  0\\n    7.1625   11.5965    5.0820 C   0  0  0  0  0  0  0  0  0  0  0  0\\n    8.9067   11.8407    6.5866 C   0  0  0  0  0  0  0  0  0  0  0  0\\n   10.3845   11.8479    6.7434 C   0  0  0  0  0  0  0  0  0  0  0  0\\n   12.4630   11.6310    5.3341 C   0  0  0  0  0  0  0  0  0  0  0  0\\n   12.8035   12.5346    4.1515 C   0  0  0  0  0  0  0  0  0  0  0  0\\n   14.7101   11.2466    3.0403 C   0  0  0  0  0  0  0  0  0  0  0  0\\n   13.8572   10.0890    2.7003 C   0  0  0  0  0  0  0  0  0  0  0  0\\n   11.8915    9.2655    1.8187 C   0  0  0  0  0  0  0  0  0  0  0  0\\n   10.5493    9.5507    1.2414 C   0  0  0  0  0  0  0  0  0  0  0  0\\n    9.0004   11.4132    0.5874 C   0  0  0  0  0  0  0  0  0  0  0  0\\n    7.7550   11.0673    1.3978 C   0  0  0  0  0  0  0  0  0  0  0  0\\n    6.2193   11.6647    6.0930 C   0  0  0  0  0  0  0  0  0  0  0  0\\n    6.6826   11.8691    7.3962 C   0  0  0  0  0  0  0  0  0  0  0  0\\n    8.0499   11.9563    7.6639 C   0  0  0  0  0  0  0  0  0  0  0  0\\n   14.3418    8.8126    2.9547 C   0  0  0  0  0  0  0  0  0  0  0  0\\n   13.5345    7.7328    2.6155 C   0  0  0  0  0  0  0  0  0  0  0  0\\n   12.2866    7.9482    2.0362 C   0  0  0  0  0  0  0  0  0  0  0  0\\n  1 11  2  0\\n  2 14  2  0\\n  4 20  2  0\\n  6 13  2  0\\n  7 15  1  0\\n  8 16  1  0\\n  9 18  1  0\\n 11  5  1  0\\n 11 12  1  0\\n 12  6  1  0\\n 13 14  1  0\\n 14  7  1  0\\n 16 15  1  0\\n 17  3  2  0\\n 17  8  1  0\\n 18 17  1  0\\n 19  9  2  0\\n 20 19  1  0\\n 20 10  1  0\\n 21 10  1  0\\n 22 21  1  0\\n 22  5  1  0\\n 23 12  2  0\\n 23 24  1  0\\n 24 25  2  0\\n 25 13  1  0\\n 26 18  2  0\\n 27 26  1  0\\n 28 27  2  0\\n 28 19  1  0\\nM  END\\n\",\"sdf\");\n",
       "\tviewer_14960555254471288.addModel(\"m1_crystal.xyz\\n     RDKit          3D\\n\\n 28 30  0  0  0  0  0  0  0  0999 V2000\\n    8.5707   12.9200   -0.9030 O   0  0  0  0  0  0  0  0  0  0  0  0\\n    9.4066   12.7250   -0.0286 C   0  0  0  0  0  0  0  0  0  0  0  0\\n    9.5744   11.5459    0.6788 N   0  0  0  0  0  0  0  0  0  0  0  0\\n    8.6544   10.4271    0.6001 C   0  0  0  0  0  0  0  0  0  0  0  0\\n    7.3983   10.6741    1.4241 C   0  0  0  0  0  0  0  0  0  0  0  0\\n    7.7003   10.9715    2.8149 N   0  0  0  0  0  0  0  0  0  0  0  0\\n    6.7178   11.3936    3.6940 C   0  0  0  0  0  0  0  0  0  0  0  0\\n    5.5445   11.5917    3.3926 O   0  0  0  0  0  0  0  0  0  0  0  0\\n    7.1670   11.5895    5.0925 C   0  0  0  0  0  0  0  0  0  0  0  0\\n    8.5058   11.6740    5.2959 N   0  0  0  0  0  0  0  0  0  0  0  0\\n    8.9089   11.8583    6.5765 C   0  0  0  0  0  0  0  0  0  0  0  0\\n   10.3674   11.9909    6.8130 C   0  0  0  0  0  0  0  0  0  0  0  0\\n   10.7973   12.0197    7.9629 O   0  0  0  0  0  0  0  0  0  0  0  0\\n   11.1501   12.1098    5.6740 N   0  0  0  0  0  0  0  0  0  0  0  0\\n   12.5377   12.5399    5.7671 C   0  0  0  0  0  0  0  0  0  0  0  0\\n   13.3488   12.1814    4.5303 C   0  0  0  0  0  0  0  0  0  0  0  0\\n   12.7638   12.7390    3.3264 N   0  0  0  0  0  0  0  0  0  0  0  0\\n   12.8932   14.0677    2.9552 C   0  0  0  0  0  0  0  0  0  0  0  0\\n   13.6270   14.8912    3.4899 O   0  0  0  0  0  0  0  0  0  0  0  0\\n   12.0198   14.4578    1.8216 C   0  0  0  0  0  0  0  0  0  0  0  0\\n   11.1751   13.4938    1.3923 N   0  0  0  0  0  0  0  0  0  0  0  0\\n   10.3363   13.8055    0.3795 C   0  0  0  0  0  0  0  0  0  0  0  0\\n   10.3042   15.0490   -0.2320 C   0  0  0  0  0  0  0  0  0  0  0  0\\n   11.1899   16.0200    0.2320 C   0  0  0  0  0  0  0  0  0  0  0  0\\n   12.0650   15.7333    1.2789 C   0  0  0  0  0  0  0  0  0  0  0  0\\n    8.0361   11.9474    7.6560 C   0  0  0  0  0  0  0  0  0  0  0  0\\n    6.6718   11.8586    7.4046 C   0  0  0  0  0  0  0  0  0  0  0  0\\n    6.2184   11.6847    6.1036 C   0  0  0  0  0  0  0  0  0  0  0  0\\n  2  1  2  0\\n  3  2  1  0\\n  4  3  1  0\\n  5  4  1  0\\n  6  5  1  0\\n  7  6  1  0\\n  8  7  2  0\\n  9  7  1  0\\n 10  9  1  0\\n 11 10  2  0\\n 12 11  1  0\\n 13 12  2  0\\n 14 12  1  0\\n 15 14  1  0\\n 16 15  1  0\\n 17 16  1  0\\n 18 17  1  0\\n 19 18  2  0\\n 20 18  1  0\\n 21 20  1  0\\n 22 21  2  0\\n 22  2  1  0\\n 23 22  1  0\\n 24 23  2  0\\n 25 24  1  0\\n 25 20  2  0\\n 26 11  1  0\\n 27 26  2  0\\n 28 27  1  0\\n 28  9  2  0\\nM  END\\n\",\"sdf\");\n",
       "\tviewer_14960555254471288.addModel(\"m1_aa_aa.xyz\\n     RDKit          3D\\n\\n 28 30  0  0  0  0  0  0  0  0999 V2000\\n    7.2584   12.0186    2.8131 O   0  0  0  0  0  0  0  0  0  0  0  0\\n   10.8364   12.1234    7.8981 O   0  0  0  0  0  0  0  0  0  0  0  0\\n   12.6891   13.8046    1.7947 O   0  0  0  0  0  0  0  0  0  0  0  0\\n    9.2347    9.1735    3.4106 O   0  0  0  0  0  0  0  0  0  0  0  0\\n    5.9871   10.2065    3.5510 N   0  0  0  0  0  0  0  0  0  0  0  0\\n    8.5032   11.6873    5.2972 N   0  0  0  0  0  0  0  0  0  0  0  0\\n   11.1247   11.5017    5.6795 N   0  0  0  0  0  0  0  0  0  0  0  0\\n   13.0224   12.4976    3.6470 N   0  0  0  0  0  0  0  0  0  0  0  0\\n   10.8992   11.0027    2.2381 N   0  0  0  0  0  0  0  0  0  0  0  0\\n    8.0204    9.1397    1.4206 N   0  0  0  0  0  0  0  0  0  0  0  0\\n    6.7925   11.3192    3.7045 C   0  0  0  0  0  0  0  0  0  0  0  0\\n    7.1696   11.5902    5.0987 C   0  0  0  0  0  0  0  0  0  0  0  0\\n    8.9098   11.8437    6.5768 C   0  0  0  0  0  0  0  0  0  0  0  0\\n   10.3773   11.8500    6.7941 C   0  0  0  0  0  0  0  0  0  0  0  0\\n   12.5616   11.3035    5.7422 C   0  0  0  0  0  0  0  0  0  0  0  0\\n   13.1819   11.2302    4.3552 C   0  0  0  0  0  0  0  0  0  0  0  0\\n   12.5755   12.7176    2.3600 C   0  0  0  0  0  0  0  0  0  0  0  0\\n   11.9280   11.6269    1.6187 C   0  0  0  0  0  0  0  0  0  0  0  0\\n   10.2452   10.0689    1.5069 C   0  0  0  0  0  0  0  0  0  0  0  0\\n    9.1266    9.4079    2.2111 C   0  0  0  0  0  0  0  0  0  0  0  0\\n    6.7943    8.5408    1.9223 C   0  0  0  0  0  0  0  0  0  0  0  0\\n    5.7364    9.5885    2.2621 C   0  0  0  0  0  0  0  0  0  0  0  0\\n    6.2149   11.6730    6.1016 C   0  0  0  0  0  0  0  0  0  0  0  0\\n    6.6715   11.8684    7.4007 C   0  0  0  0  0  0  0  0  0  0  0  0\\n    8.0392   11.9499    7.6540 C   0  0  0  0  0  0  0  0  0  0  0  0\\n   12.3315   11.3703    0.3137 C   0  0  0  0  0  0  0  0  0  0  0  0\\n   11.6443   10.3919   -0.3936 C   0  0  0  0  0  0  0  0  0  0  0  0\\n   10.5811    9.7232    0.2022 C   0  0  0  0  0  0  0  0  0  0  0  0\\n  1 11  2  0\\n  2 14  2  0\\n  6 13  2  0\\n  7 15  1  0\\n  8 16  1  0\\n  9 18  1  0\\n 10 20  1  0\\n 10 21  1  0\\n 11  5  1  0\\n 11 12  1  0\\n 12  6  1  0\\n 13 14  1  0\\n 14  7  1  0\\n 16 15  1  0\\n 17  3  2  0\\n 17  8  1  0\\n 18 17  1  0\\n 19 20  1  0\\n 19  9  2  0\\n 20  4  2  0\\n 22 21  1  0\\n 22  5  1  0\\n 23 12  2  0\\n 23 24  1  0\\n 24 25  2  0\\n 25 13  1  0\\n 26 18  2  0\\n 27 26  1  0\\n 28 27  2  0\\n 28 19  1  0\\nM  END\\n\",\"sdf\");\n",
       "\tviewer_14960555254471288.addModel(\"m1_sa_aa.xyz\\n     RDKit          3D\\n\\n 28 30  0  0  0  0  0  0  0  0999 V2000\\n    7.0146   12.3934    2.9495 O   0  0  0  0  0  0  0  0  0  0  0  0\\n   10.8116   12.0321    7.9497 O   0  0  0  0  0  0  0  0  0  0  0  0\\n   11.4987    8.5400    4.7083 O   0  0  0  0  0  0  0  0  0  0  0  0\\n    7.1323    8.6236    0.5306 O   0  0  0  0  0  0  0  0  0  0  0  0\\n    6.0555   10.3311    3.3176 N   0  0  0  0  0  0  0  0  0  0  0  0\\n    8.5066   11.6839    5.2925 N   0  0  0  0  0  0  0  0  0  0  0  0\\n   11.1484   11.9483    5.6573 N   0  0  0  0  0  0  0  0  0  0  0  0\\n   12.8490   10.2758    3.9606 N   0  0  0  0  0  0  0  0  0  0  0  0\\n   10.0045    8.7409    2.5194 N   0  0  0  0  0  0  0  0  0  0  0  0\\n    7.5129    7.8597    2.6953 N   0  0  0  0  0  0  0  0  0  0  0  0\\n    6.7464   11.4630    3.7058 C   0  0  0  0  0  0  0  0  0  0  0  0\\n    7.1704   11.5839    5.1018 C   0  0  0  0  0  0  0  0  0  0  0  0\\n    8.9113   11.8523    6.5750 C   0  0  0  0  0  0  0  0  0  0  0  0\\n   10.3757   11.9483    6.8061 C   0  0  0  0  0  0  0  0  0  0  0  0\\n   12.6026   12.0380    5.6625 C   0  0  0  0  0  0  0  0  0  0  0  0\\n   13.2718   10.7207    5.2787 C   0  0  0  0  0  0  0  0  0  0  0  0\\n   11.9078    9.2701    3.8071 C   0  0  0  0  0  0  0  0  0  0  0  0\\n   11.2963    9.1409    2.4703 C   0  0  0  0  0  0  0  0  0  0  0  0\\n    9.3345    8.6742    1.3474 C   0  0  0  0  0  0  0  0  0  0  0  0\\n    7.8893    8.3743    1.4639 C   0  0  0  0  0  0  0  0  0  0  0  0\\n    6.1366    7.8694    3.1608 C   0  0  0  0  0  0  0  0  0  0  0  0\\n    5.8815    9.0812    4.0563 C   0  0  0  0  0  0  0  0  0  0  0  0\\n    6.2153   11.6833    6.1032 C   0  0  0  0  0  0  0  0  0  0  0  0\\n    6.6685   11.8639    7.4024 C   0  0  0  0  0  0  0  0  0  0  0  0\\n    8.0361   11.9450    7.6541 C   0  0  0  0  0  0  0  0  0  0  0  0\\n   11.9650    9.4334    1.2914 C   0  0  0  0  0  0  0  0  0  0  0  0\\n   11.2487    9.3314    0.1005 C   0  0  0  0  0  0  0  0  0  0  0  0\\n    9.9065    8.9610    0.1175 C   0  0  0  0  0  0  0  0  0  0  0  0\\n  1 11  2  0\\n  2 14  2  0\\n  4 20  2  0\\n  6 13  2  0\\n  7 15  1  0\\n  8 16  1  0\\n  9 18  1  0\\n 11  5  1  0\\n 11 12  1  0\\n 12  6  1  0\\n 13 14  1  0\\n 14  7  1  0\\n 16 15  1  0\\n 17  3  2  0\\n 17  8  1  0\\n 18 17  1  0\\n 19  9  2  0\\n 20 19  1  0\\n 20 10  1  0\\n 21 10  1  0\\n 22 21  1  0\\n 22  5  1  0\\n 23 12  2  0\\n 23 24  1  0\\n 24 25  2  0\\n 25 13  1  0\\n 26 18  2  0\\n 27 26  1  0\\n 28 27  2  0\\n 28 19  1  0\\nM  END\\n\",\"sdf\");\n",
       "\tviewer_14960555254471288.addModel(\"m1_ss_aa.xyz\\n     RDKit          3D\\n\\n 28 30  0  0  0  0  0  0  0  0999 V2000\\n    6.6551   12.4425    3.0121 O   0  0  0  0  0  0  0  0  0  0  0  0\\n   10.8743   12.0923    7.8657 O   0  0  0  0  0  0  0  0  0  0  0  0\\n   14.1687   11.3457    2.4213 O   0  0  0  0  0  0  0  0  0  0  0  0\\n    8.5689    9.3138   -1.2121 O   0  0  0  0  0  0  0  0  0  0  0  0\\n    6.6341   10.1238    3.3177 N   0  0  0  0  0  0  0  0  0  0  0  0\\n    8.5001   11.6792    5.2994 N   0  0  0  0  0  0  0  0  0  0  0  0\\n   11.0853   11.5886    5.6047 N   0  0  0  0  0  0  0  0  0  0  0  0\\n   12.4000   10.2252    3.4028 N   0  0  0  0  0  0  0  0  0  0  0  0\\n   11.1012   10.2522    1.0482 N   0  0  0  0  0  0  0  0  0  0  0  0\\n    8.5329    9.4742    1.1022 N   0  0  0  0  0  0  0  0  0  0  0  0\\n    6.7822   11.4395    3.7020 C   0  0  0  0  0  0  0  0  0  0  0  0\\n    7.1691   11.5980    5.1007 C   0  0  0  0  0  0  0  0  0  0  0  0\\n    8.9113   11.8459    6.5770 C   0  0  0  0  0  0  0  0  0  0  0  0\\n   10.3847   11.8664    6.7648 C   0  0  0  0  0  0  0  0  0  0  0  0\\n   12.5281   11.4871    5.5152 C   0  0  0  0  0  0  0  0  0  0  0  0\\n   12.9333   10.2279    4.7551 C   0  0  0  0  0  0  0  0  0  0  0  0\\n   13.0624   10.8206    2.3444 C   0  0  0  0  0  0  0  0  0  0  0  0\\n   12.3465   10.7857    1.0497 C   0  0  0  0  0  0  0  0  0  0  0  0\\n   10.4678   10.1978   -0.1493 C   0  0  0  0  0  0  0  0  0  0  0  0\\n    9.1030    9.6204   -0.1510 C   0  0  0  0  0  0  0  0  0  0  0  0\\n    7.2585    8.8124    1.3285 C   0  0  0  0  0  0  0  0  0  0  0  0\\n    6.2371    9.7372    1.9748 C   0  0  0  0  0  0  0  0  0  0  0  0\\n    6.2130   11.6720    6.0981 C   0  0  0  0  0  0  0  0  0  0  0  0\\n    6.6726   11.8624    7.3979 C   0  0  0  0  0  0  0  0  0  0  0  0\\n    8.0421   11.9549    7.6557 C   0  0  0  0  0  0  0  0  0  0  0  0\\n   12.9805   11.2797   -0.0845 C   0  0  0  0  0  0  0  0  0  0  0  0\\n   12.3013   11.1972   -1.2944 C   0  0  0  0  0  0  0  0  0  0  0  0\\n   11.0291   10.6397   -1.3425 C   0  0  0  0  0  0  0  0  0  0  0  0\\n  2 14  2  0\\n  4 20  2  0\\n  5 11  1  0\\n  6 13  2  0\\n  7 15  1  0\\n  8 16  1  0\\n  9 18  1  0\\n 11  1  2  0\\n 11 12  1  0\\n 12  6  1  0\\n 13 14  1  0\\n 14  7  1  0\\n 16 15  1  0\\n 17  3  2  0\\n 17  8  1  0\\n 18 17  1  0\\n 19  9  2  0\\n 20 19  1  0\\n 20 10  1  0\\n 21 10  1  0\\n 22  5  1  0\\n 22 21  1  0\\n 23 12  2  0\\n 23 24  1  0\\n 24 25  2  0\\n 25 13  1  0\\n 26 18  2  0\\n 27 26  1  0\\n 28 27  2  0\\n 28 19  1  0\\nM  END\\n\",\"sdf\");\n",
       "\tviewer_14960555254471288.addModel(\"m1_aa_aa.xyz\\n     RDKit          3D\\n\\n 28 30  0  0  0  0  0  0  0  0999 V2000\\n    5.6679   10.9788    3.3964 O   0  0  0  0  0  0  0  0  0  0  0  0\\n   10.8256   11.5130    7.8977 O   0  0  0  0  0  0  0  0  0  0  0  0\\n   14.8257   14.5457    3.6082 O   0  0  0  0  0  0  0  0  0  0  0  0\\n    8.8736   14.8113    0.4547 O   0  0  0  0  0  0  0  0  0  0  0  0\\n    7.6904   11.9314    2.7656 N   0  0  0  0  0  0  0  0  0  0  0  0\\n    8.4982   11.6896    5.3003 N   0  0  0  0  0  0  0  0  0  0  0  0\\n   11.1142   11.8534    5.6118 N   0  0  0  0  0  0  0  0  0  0  0  0\\n   12.7053   14.0224    4.4127 N   0  0  0  0  0  0  0  0  0  0  0  0\\n   11.7073   14.3909    2.0157 N   0  0  0  0  0  0  0  0  0  0  0  0\\n    9.7226   12.6518    0.7516 N   0  0  0  0  0  0  0  0  0  0  0  0\\n    6.7584   11.4565    3.6772 C   0  0  0  0  0  0  0  0  0  0  0  0\\n    7.1697   11.6041    5.0902 C   0  0  0  0  0  0  0  0  0  0  0  0\\n    8.9088   11.8274    6.5785 C   0  0  0  0  0  0  0  0  0  0  0  0\\n   10.3723   11.7214    6.7779 C   0  0  0  0  0  0  0  0  0  0  0  0\\n   12.5657   11.8818    5.5788 C   0  0  0  0  0  0  0  0  0  0  0  0\\n   13.0754   13.3229    5.6333 C   0  0  0  0  0  0  0  0  0  0  0  0\\n   13.6177   14.4466    3.4523 C   0  0  0  0  0  0  0  0  0  0  0  0\\n   13.0054   14.7400    2.1326 C   0  0  0  0  0  0  0  0  0  0  0  0\\n   11.1569   14.5397    0.7940 C   0  0  0  0  0  0  0  0  0  0  0  0\\n    9.7924   14.0273    0.6580 C   0  0  0  0  0  0  0  0  0  0  0  0\\n    8.5172   11.9063    0.4318 C   0  0  0  0  0  0  0  0  0  0  0  0\\n    7.3555   12.1885    1.3754 C   0  0  0  0  0  0  0  0  0  0  0  0\\n    6.2170   11.6564    6.1033 C   0  0  0  0  0  0  0  0  0  0  0  0\\n    6.6746   11.8717    7.3998 C   0  0  0  0  0  0  0  0  0  0  0  0\\n    8.0399   11.9633    7.6567 C   0  0  0  0  0  0  0  0  0  0  0  0\\n   13.7603   15.2403    1.0822 C   0  0  0  0  0  0  0  0  0  0  0  0\\n   13.1457   15.3833   -0.1642 C   0  0  0  0  0  0  0  0  0  0  0  0\\n   11.8094   15.0339   -0.3194 C   0  0  0  0  0  0  0  0  0  0  0  0\\n  1 11  2  0\\n  2 14  2  0\\n  6 13  2  0\\n  7 15  1  0\\n  8 16  1  0\\n  9 18  1  0\\n 10 20  1  0\\n 10 21  1  0\\n 11  5  1  0\\n 11 12  1  0\\n 12  6  1  0\\n 13 14  1  0\\n 14  7  1  0\\n 16 15  1  0\\n 17  3  2  0\\n 17  8  1  0\\n 18 17  1  0\\n 19 20  1  0\\n 19  9  2  0\\n 20  4  2  0\\n 22 21  1  0\\n 22  5  1  0\\n 23 12  2  0\\n 23 24  1  0\\n 24 25  2  0\\n 25 13  1  0\\n 26 18  2  0\\n 27 26  1  0\\n 28 27  2  0\\n 28 19  1  0\\nM  END\\n\",\"sdf\");\n",
       "\tviewer_14960555254471288.addModel(\"m1_sa_sa.xyz\\n     RDKit          3D\\n\\n 28 30  0  0  0  0  0  0  0  0999 V2000\\n    5.5064   11.5105    3.4301 O   0  0  0  0  0  0  0  0  0  0  0  0\\n   10.7739   12.0018    7.9937 O   0  0  0  0  0  0  0  0  0  0  0  0\\n   14.8389   13.2398    3.1925 O   0  0  0  0  0  0  0  0  0  0  0  0\\n    8.9528   13.9343    1.7960 O   0  0  0  0  0  0  0  0  0  0  0  0\\n    7.6790   11.0472    2.7758 N   0  0  0  0  0  0  0  0  0  0  0  0\\n    8.5079   11.6756    5.2927 N   0  0  0  0  0  0  0  0  0  0  0  0\\n   11.1938   11.9578    5.7204 N   0  0  0  0  0  0  0  0  0  0  0  0\\n   12.8079   13.8555    4.1467 N   0  0  0  0  0  0  0  0  0  0  0  0\\n   11.5967   13.4671    1.8691 N   0  0  0  0  0  0  0  0  0  0  0  0\\n    8.7574   12.2802    0.1747 N   0  0  0  0  0  0  0  0  0  0  0  0\\n    6.7011   11.3905    3.6948 C   0  0  0  0  0  0  0  0  0  0  0  0\\n    7.1669   11.5917    5.0893 C   0  0  0  0  0  0  0  0  0  0  0  0\\n    8.9104   11.8544    6.5770 C   0  0  0  0  0  0  0  0  0  0  0  0\\n   10.3712   11.9432    6.8345 C   0  0  0  0  0  0  0  0  0  0  0  0\\n   12.6458   12.0878    5.8247 C   0  0  0  0  0  0  0  0  0  0  0  0\\n   13.1071   13.5140    5.5237 C   0  0  0  0  0  0  0  0  0  0  0  0\\n   13.6434   13.4976    3.1005 C   0  0  0  0  0  0  0  0  0  0  0  0\\n   12.9439   13.3677    1.8027 C   0  0  0  0  0  0  0  0  0  0  0  0\\n   10.9067   13.2137    0.7372 C   0  0  0  0  0  0  0  0  0  0  0  0\\n    9.4434   13.2046    0.9396 C   0  0  0  0  0  0  0  0  0  0  0  0\\n    7.3886   11.8907    0.4547 C   0  0  0  0  0  0  0  0  0  0  0  0\\n    7.3503   10.6965    1.4034 C   0  0  0  0  0  0  0  0  0  0  0  0\\n    6.2187   11.6802    6.1064 C   0  0  0  0  0  0  0  0  0  0  0  0\\n    6.6702   11.8617    7.4067 C   0  0  0  0  0  0  0  0  0  0  0  0\\n    8.0340   11.9489    7.6567 C   0  0  0  0  0  0  0  0  0  0  0  0\\n   13.6365   13.0553    0.6423 C   0  0  0  0  0  0  0  0  0  0  0  0\\n   12.8943   12.8359   -0.5134 C   0  0  0  0  0  0  0  0  0  0  0  0\\n   11.5048   12.9083   -0.4767 C   0  0  0  0  0  0  0  0  0  0  0  0\\n  1 11  2  0\\n  6 13  2  0\\n  7 14  1  0\\n  7 15  1  0\\n  8 16  1  0\\n  9 18  1  0\\n 10 20  1  0\\n 10 21  1  0\\n 11  5  1  0\\n 11 12  1  0\\n 12  6  1  0\\n 13 14  1  0\\n 14  2  2  0\\n 16 15  1  0\\n 17  3  2  0\\n 17  8  1  0\\n 18 17  1  0\\n 19 20  1  0\\n 19  9  2  0\\n 20  4  2  0\\n 22 21  1  0\\n 22  5  1  0\\n 23 12  2  0\\n 23 24  1  0\\n 24 25  2  0\\n 25 13  1  0\\n 26 18  2  0\\n 27 26  1  0\\n 28 27  2  0\\n 28 19  1  0\\nM  END\\n\",\"sdf\");\n",
       "\tviewer_14960555254471288.addModel(\"m1_sa_as.xyz\\n     RDKit          3D\\n\\n 28 30  0  0  0  0  0  0  0  0999 V2000\\n    5.6706   10.5967    3.5922 O   0  0  0  0  0  0  0  0  0  0  0  0\\n   10.8360   11.6121    7.8948 O   0  0  0  0  0  0  0  0  0  0  0  0\\n   14.9364   12.6020    2.2747 O   0  0  0  0  0  0  0  0  0  0  0  0\\n    9.6859   10.4155   -1.6207 O   0  0  0  0  0  0  0  0  0  0  0  0\\n    7.5300   11.6562    2.6941 N   0  0  0  0  0  0  0  0  0  0  0  0\\n    8.5064   11.6863    5.2893 N   0  0  0  0  0  0  0  0  0  0  0  0\\n   11.1160   12.3667    5.7169 N   0  0  0  0  0  0  0  0  0  0  0  0\\n   12.8493   12.3320    3.2521 N   0  0  0  0  0  0  0  0  0  0  0  0\\n   11.9985   11.3970    0.8311 N   0  0  0  0  0  0  0  0  0  0  0  0\\n    9.4378   11.4805    0.4310 N   0  0  0  0  0  0  0  0  0  0  0  0\\n    6.7151   11.2272    3.7323 C   0  0  0  0  0  0  0  0  0  0  0  0\\n    7.1697   11.5766    5.0961 C   0  0  0  0  0  0  0  0  0  0  0  0\\n    8.9081   11.8592    6.5759 C   0  0  0  0  0  0  0  0  0  0  0  0\\n   10.3716   11.9347    6.8028 C   0  0  0  0  0  0  0  0  0  0  0  0\\n   12.5618   12.2355    5.7008 C   0  0  0  0  0  0  0  0  0  0  0  0\\n   13.2163   12.9373    4.5219 C   0  0  0  0  0  0  0  0  0  0  0  0\\n   13.7803   12.1994    2.2331 C   0  0  0  0  0  0  0  0  0  0  0  0\\n   13.3251   11.4740    1.0362 C   0  0  0  0  0  0  0  0  0  0  0  0\\n   11.5976   10.7439   -0.2869 C   0  0  0  0  0  0  0  0  0  0  0  0\\n   10.1499   10.8414   -0.5701 C   0  0  0  0  0  0  0  0  0  0  0  0\\n    8.0804   11.9548    0.2699 C   0  0  0  0  0  0  0  0  0  0  0  0\\n    7.1675   11.3515    1.3181 C   0  0  0  0  0  0  0  0  0  0  0  0\\n    6.2190   11.6839    6.1036 C   0  0  0  0  0  0  0  0  0  0  0  0\\n    6.6687   11.8733    7.4050 C   0  0  0  0  0  0  0  0  0  0  0  0\\n    8.0364   11.9331    7.6591 C   0  0  0  0  0  0  0  0  0  0  0  0\\n   14.2762   10.9226    0.1877 C   0  0  0  0  0  0  0  0  0  0  0  0\\n   13.8290   10.2326   -0.9306 C   0  0  0  0  0  0  0  0  0  0  0  0\\n   12.4656   10.1276   -1.1839 C   0  0  0  0  0  0  0  0  0  0  0  0\\n  1 11  2  0\\n  3 17  2  0\\n  4 20  2  0\\n  5 11  1  0\\n  6 13  2  0\\n  7 15  1  0\\n  8 16  1  0\\n  9 18  1  0\\n 11 12  1  0\\n 12  6  1  0\\n 13 14  1  0\\n 14  7  1  0\\n 14  2  2  0\\n 16 15  1  0\\n 17  8  1  0\\n 18 17  1  0\\n 19  9  2  0\\n 20 19  1  0\\n 20 10  1  0\\n 21 10  1  0\\n 22 21  1  0\\n 22  5  1  0\\n 23 12  2  0\\n 23 24  1  0\\n 24 25  2  0\\n 25 13  1  0\\n 26 18  2  0\\n 27 26  1  0\\n 28 27  2  0\\n 28 19  1  0\\nM  END\\n\",\"sdf\");\n",
       "\tviewer_14960555254471288.addModel(\"m1_aa_aa.xyz\\n     RDKit          3D\\n\\n 28 30  0  0  0  0  0  0  0  0999 V2000\\n    6.3824   12.1173    2.9813 O   0  0  0  0  0  0  0  0  0  0  0  0\\n   11.1564   12.0245    5.8642 O   0  0  0  0  0  0  0  0  0  0  0  0\\n   12.8008    6.7963    7.4969 O   0  0  0  0  0  0  0  0  0  0  0  0\\n   10.3705   10.3134    3.1929 O   0  0  0  0  0  0  0  0  0  0  0  0\\n    6.9445    9.8984    3.4657 N   0  0  0  0  0  0  0  0  0  0  0  0\\n    8.5078   11.6894    5.2973 N   0  0  0  0  0  0  0  0  0  0  0  0\\n   10.7571   11.3028    8.0437 N   0  0  0  0  0  0  0  0  0  0  0  0\\n   12.3051    9.0258    7.0526 N   0  0  0  0  0  0  0  0  0  0  0  0\\n   11.3620    8.3081    4.7004 N   0  0  0  0  0  0  0  0  0  0  0  0\\n    9.2653    8.7101    1.9129 N   0  0  0  0  0  0  0  0  0  0  0  0\\n    6.7727   11.2424    3.7382 C   0  0  0  0  0  0  0  0  0  0  0  0\\n    7.1698   11.5919    5.1057 C   0  0  0  0  0  0  0  0  0  0  0  0\\n    8.9162   11.8379    6.5751 C   0  0  0  0  0  0  0  0  0  0  0  0\\n   10.3845   11.7524    6.7836 C   0  0  0  0  0  0  0  0  0  0  0  0\\n   12.1174   11.0207    8.4843 C   0  0  0  0  0  0  0  0  0  0  0  0\\n   12.3904    9.5244    8.4115 C   0  0  0  0  0  0  0  0  0  0  0  0\\n   12.4487    7.6846    6.7328 C   0  0  0  0  0  0  0  0  0  0  0  0\\n   12.1354    7.3855    5.3153 C   0  0  0  0  0  0  0  0  0  0  0  0\\n   11.0884    8.1103    3.3914 C   0  0  0  0  0  0  0  0  0  0  0  0\\n   10.2226    9.1551    2.8079 C   0  0  0  0  0  0  0  0  0  0  0  0\\n    8.2114    9.5668    1.3796 C   0  0  0  0  0  0  0  0  0  0  0  0\\n    6.8889    9.3630    2.1203 C   0  0  0  0  0  0  0  0  0  0  0  0\\n    6.2109   11.6736    6.1037 C   0  0  0  0  0  0  0  0  0  0  0  0\\n    6.6695   11.8640    7.4009 C   0  0  0  0  0  0  0  0  0  0  0  0\\n    8.0341   11.9556    7.6463 C   0  0  0  0  0  0  0  0  0  0  0  0\\n   12.6415    6.2564    4.6933 C   0  0  0  0  0  0  0  0  0  0  0  0\\n   12.3666    6.0963    3.3362 C   0  0  0  0  0  0  0  0  0  0  0  0\\n   11.5806    7.0349    2.6636 C   0  0  0  0  0  0  0  0  0  0  0  0\\n  1 11  2  0\\n  2 14  2  0\\n  6 13  2  0\\n  7 15  1  0\\n  8 16  1  0\\n  9 18  1  0\\n 10 20  1  0\\n 10 21  1  0\\n 11  5  1  0\\n 11 12  1  0\\n 12  6  1  0\\n 13 14  1  0\\n 14  7  1  0\\n 16 15  1  0\\n 17  3  2  0\\n 17  8  1  0\\n 18 17  1  0\\n 19 20  1  0\\n 19  9  2  0\\n 20  4  2  0\\n 22 21  1  0\\n 22  5  1  0\\n 23 12  2  0\\n 23 24  1  0\\n 24 25  2  0\\n 25 13  1  0\\n 26 18  2  0\\n 27 26  1  0\\n 28 27  2  0\\n 28 19  1  0\\nM  END\\n\",\"sdf\");\n",
       "\tviewer_14960555254471288.addModel(\"m1_sa_aa.xyz\\n     RDKit          3D\\n\\n 28 30  0  0  0  0  0  0  0  0999 V2000\\n    7.6825   11.8767    2.8283 O   0  0  0  0  0  0  0  0  0  0  0  0\\n   10.9264   12.6303    7.4495 O   0  0  0  0  0  0  0  0  0  0  0  0\\n   13.1864   10.3081    1.4266 O   0  0  0  0  0  0  0  0  0  0  0  0\\n    7.1124    7.1620    0.0941 O   0  0  0  0  0  0  0  0  0  0  0  0\\n    5.6591   10.8675    3.3298 N   0  0  0  0  0  0  0  0  0  0  0  0\\n    8.4875   11.6803    5.3070 N   0  0  0  0  0  0  0  0  0  0  0  0\\n   10.9421   10.9194    5.8532 N   0  0  0  0  0  0  0  0  0  0  0  0\\n   11.4631   10.5124    2.9614 N   0  0  0  0  0  0  0  0  0  0  0  0\\n    9.9179    9.0133    1.2064 N   0  0  0  0  0  0  0  0  0  0  0  0\\n    7.1879    9.1365    1.2963 N   0  0  0  0  0  0  0  0  0  0  0  0\\n    6.8557   11.4757    3.6450 C   0  0  0  0  0  0  0  0  0  0  0  0\\n    7.1663   11.6036    5.0814 C   0  0  0  0  0  0  0  0  0  0  0  0\\n    8.8972   11.8365    6.5836 C   0  0  0  0  0  0  0  0  0  0  0  0\\n   10.3615   11.8424    6.7070 C   0  0  0  0  0  0  0  0  0  0  0  0\\n   12.2469   11.0992    5.2507 C   0  0  0  0  0  0  0  0  0  0  0  0\\n   12.0930   11.5424    3.7942 C   0  0  0  0  0  0  0  0  0  0  0  0\\n   12.0602   10.0075    1.8154 C   0  0  0  0  0  0  0  0  0  0  0  0\\n   11.2656    9.0236    1.0356 C   0  0  0  0  0  0  0  0  0  0  0  0\\n    9.2230    8.1310    0.4388 C   0  0  0  0  0  0  0  0  0  0  0  0\\n    7.7487    8.0874    0.5929 C   0  0  0  0  0  0  0  0  0  0  0  0\\n    5.7567    9.1992    1.5329 C   0  0  0  0  0  0  0  0  0  0  0  0\\n    5.2838   10.5817    1.9587 C   0  0  0  0  0  0  0  0  0  0  0  0\\n    6.2228   11.6640    6.0931 C   0  0  0  0  0  0  0  0  0  0  0  0\\n    6.6851   11.8626    7.3994 C   0  0  0  0  0  0  0  0  0  0  0  0\\n    8.0492   11.9654    7.6644 C   0  0  0  0  0  0  0  0  0  0  0  0\\n   11.9408    8.1872    0.1475 C   0  0  0  0  0  0  0  0  0  0  0  0\\n   11.1956    7.2940   -0.6104 C   0  0  0  0  0  0  0  0  0  0  0  0\\n    9.8145    7.2612   -0.4754 C   0  0  0  0  0  0  0  0  0  0  0  0\\n  1 11  2  0\\n  2 14  2  0\\n  4 20  2  0\\n  6 13  2  0\\n  7 15  1  0\\n  8 16  1  0\\n  9 18  1  0\\n 11  5  1  0\\n 11 12  1  0\\n 12  6  1  0\\n 13 14  1  0\\n 14  7  1  0\\n 16 15  1  0\\n 17  3  2  0\\n 17  8  1  0\\n 18 17  1  0\\n 19  9  2  0\\n 20 19  1  0\\n 20 10  1  0\\n 21 10  1  0\\n 22 21  1  0\\n 22  5  1  0\\n 23 12  2  0\\n 23 24  1  0\\n 24 25  2  0\\n 25 13  1  0\\n 26 18  2  0\\n 27 26  1  0\\n 28 27  2  0\\n 28 19  1  0\\nM  END\\n\",\"sdf\");\n",
       "\tviewer_14960555254471288.addModel(\"m1_crystal.xyz\\n     RDKit          3D\\n\\n 28 30  0  0  0  0  0  0  0  0999 V2000\\n    6.1271    7.6016    3.3446 O   0  0  0  0  0  0  0  0  0  0  0  0\\n    7.3269    7.7882    3.1703 C   0  0  0  0  0  0  0  0  0  0  0  0\\n    7.8919    8.4701    2.1025 N   0  0  0  0  0  0  0  0  0  0  0  0\\n    7.1156    9.3599    1.2546 C   0  0  0  0  0  0  0  0  0  0  0  0\\n    7.5934   10.8054    1.3993 C   0  0  0  0  0  0  0  0  0  0  0  0\\n    7.7813   11.2007    2.7875 N   0  0  0  0  0  0  0  0  0  0  0  0\\n    6.7388   11.4003    3.6767 C   0  0  0  0  0  0  0  0  0  0  0  0\\n    5.5490   11.4005    3.3830 O   0  0  0  0  0  0  0  0  0  0  0  0\\n    7.1643   11.5967    5.0862 C   0  0  0  0  0  0  0  0  0  0  0  0\\n    8.4983   11.6753    5.3011 N   0  0  0  0  0  0  0  0  0  0  0  0\\n    8.9083   11.8501    6.5813 C   0  0  0  0  0  0  0  0  0  0  0  0\\n   10.3765   11.8865    6.7959 C   0  0  0  0  0  0  0  0  0  0  0  0\\n   10.8415   12.1674    7.8947 O   0  0  0  0  0  0  0  0  0  0  0  0\\n   11.1115   11.5400    5.6777 N   0  0  0  0  0  0  0  0  0  0  0  0\\n   12.5419   11.2908    5.6970 C   0  0  0  0  0  0  0  0  0  0  0  0\\n   12.9303   10.0177    6.4540 C   0  0  0  0  0  0  0  0  0  0  0  0\\n   11.9600    8.9441    6.3210 N   0  0  0  0  0  0  0  0  0  0  0  0\\n   11.6261    8.3761    5.1031 C   0  0  0  0  0  0  0  0  0  0  0  0\\n   12.2086    8.5441    4.0375 O   0  0  0  0  0  0  0  0  0  0  0  0\\n   10.3764    7.5933    5.1311 C   0  0  0  0  0  0  0  0  0  0  0  0\\n    9.5233    7.8946    4.1272 N   0  0  0  0  0  0  0  0  0  0  0  0\\n    8.3014    7.3141    4.1792 C   0  0  0  0  0  0  0  0  0  0  0  0\\n    7.9093    6.4199    5.1674 C   0  0  0  0  0  0  0  0  0  0  0  0\\n    8.8336    6.1068    6.1602 C   0  0  0  0  0  0  0  0  0  0  0  0\\n   10.0892    6.7068    6.1603 C   0  0  0  0  0  0  0  0  0  0  0  0\\n    8.0415   11.9551    7.6592 C   0  0  0  0  0  0  0  0  0  0  0  0\\n    6.6771   11.8602    7.4016 C   0  0  0  0  0  0  0  0  0  0  0  0\\n    6.2188   11.6750    6.0995 C   0  0  0  0  0  0  0  0  0  0  0  0\\n  2  1  2  0\\n  3  2  1  0\\n  4  3  1  0\\n  5  4  1  0\\n  6  5  1  0\\n  7  6  1  0\\n  8  7  2  0\\n  9  7  1  0\\n 10  9  1  0\\n 11 10  2  0\\n 12 11  1  0\\n 13 12  2  0\\n 14 12  1  0\\n 15 14  1  0\\n 16 15  1  0\\n 17 16  1  0\\n 18 17  1  0\\n 19 18  2  0\\n 20 18  1  0\\n 21 20  1  0\\n 22 21  2  0\\n 22  2  1  0\\n 23 22  1  0\\n 24 23  2  0\\n 25 24  1  0\\n 25 20  2  0\\n 26 11  1  0\\n 27 26  2  0\\n 28 27  1  0\\n 28  9  2  0\\nM  END\\n\",\"sdf\");\n",
       "\tviewer_14960555254471288.addModel(\"m1_aa_aa.xyz\\n     RDKit          3D\\n\\n 28 30  0  0  0  0  0  0  0  0999 V2000\\n    7.4816   11.9195    2.8077 O   0  0  0  0  0  0  0  0  0  0  0  0\\n   10.8336   11.8495    7.9266 O   0  0  0  0  0  0  0  0  0  0  0  0\\n   14.1812   10.2632    2.9162 O   0  0  0  0  0  0  0  0  0  0  0  0\\n    8.4435    8.4895    3.2325 O   0  0  0  0  0  0  0  0  0  0  0  0\\n    5.7156   10.5490    3.4575 N   0  0  0  0  0  0  0  0  0  0  0  0\\n    8.5009   11.6833    5.2990 N   0  0  0  0  0  0  0  0  0  0  0  0\\n   11.1177   11.9865    5.6284 N   0  0  0  0  0  0  0  0  0  0  0  0\\n   12.4944    9.7825    4.4405 N   0  0  0  0  0  0  0  0  0  0  0  0\\n   10.8015    9.3862    2.4901 N   0  0  0  0  0  0  0  0  0  0  0  0\\n    7.4395    9.1896    1.2598 N   0  0  0  0  0  0  0  0  0  0  0  0\\n    6.7967   11.3864    3.6756 C   0  0  0  0  0  0  0  0  0  0  0  0\\n    7.1668   11.5891    5.0908 C   0  0  0  0  0  0  0  0  0  0  0  0\\n    8.9076   11.8486    6.5790 C   0  0  0  0  0  0  0  0  0  0  0  0\\n   10.3728   11.8966    6.7911 C   0  0  0  0  0  0  0  0  0  0  0  0\\n   12.5706   11.9179    5.6199 C   0  0  0  0  0  0  0  0  0  0  0  0\\n   13.0594   10.4722    5.5847 C   0  0  0  0  0  0  0  0  0  0  0  0\\n   13.0395    9.8949    3.1726 C   0  0  0  0  0  0  0  0  0  0  0  0\\n   12.0774    9.5908    2.0862 C   0  0  0  0  0  0  0  0  0  0  0  0\\n    9.8652    9.2020    1.5340 C   0  0  0  0  0  0  0  0  0  0  0  0\\n    8.5200    8.9260    2.0860 C   0  0  0  0  0  0  0  0  0  0  0  0\\n    6.0698    8.8911    1.6451 C   0  0  0  0  0  0  0  0  0  0  0  0\\n    5.3068   10.1217    2.1301 C   0  0  0  0  0  0  0  0  0  0  0  0\\n    6.2175   11.6763    6.1010 C   0  0  0  0  0  0  0  0  0  0  0  0\\n    6.6752   11.8659    7.4011 C   0  0  0  0  0  0  0  0  0  0  0  0\\n    8.0403   11.9491    7.6581 C   0  0  0  0  0  0  0  0  0  0  0  0\\n   12.4702    9.5947    0.7565 C   0  0  0  0  0  0  0  0  0  0  0  0\\n   11.4817    9.3976   -0.2052 C   0  0  0  0  0  0  0  0  0  0  0  0\\n   10.1527    9.2062    0.1768 C   0  0  0  0  0  0  0  0  0  0  0  0\\n  1 11  2  0\\n  2 14  2  0\\n  6 13  2  0\\n  7 15  1  0\\n  8 16  1  0\\n  9 18  1  0\\n 10 20  1  0\\n 10 21  1  0\\n 11  5  1  0\\n 11 12  1  0\\n 12  6  1  0\\n 13 14  1  0\\n 14  7  1  0\\n 16 15  1  0\\n 17  3  2  0\\n 17  8  1  0\\n 18 17  1  0\\n 19 20  1  0\\n 19  9  2  0\\n 20  4  2  0\\n 22 21  1  0\\n 22  5  1  0\\n 23 12  2  0\\n 23 24  1  0\\n 24 25  2  0\\n 25 13  1  0\\n 26 18  2  0\\n 27 26  1  0\\n 28 27  2  0\\n 28 19  1  0\\nM  END\\n\",\"sdf\");\n",
       "\tviewer_14960555254471288.addModel(\"m1_crystal.xyz\\n     RDKit          3D\\n\\n 28 30  0  0  0  0  0  0  0  0999 V2000\\n    7.8271   15.6975    0.8066 O   0  0  0  0  0  0  0  0  0  0  0  0\\n    8.7335   14.9776    1.2112 C   0  0  0  0  0  0  0  0  0  0  0  0\\n    8.7022   13.5935    1.2426 N   0  0  0  0  0  0  0  0  0  0  0  0\\n    7.5314   12.8225    0.8627 C   0  0  0  0  0  0  0  0  0  0  0  0\\n    7.6335   11.3778    1.3395 C   0  0  0  0  0  0  0  0  0  0  0  0\\n    7.8031   11.3084    2.7812 N   0  0  0  0  0  0  0  0  0  0  0  0\\n    6.7499   11.4314    3.6733 C   0  0  0  0  0  0  0  0  0  0  0  0\\n    5.5618   11.4342    3.3730 O   0  0  0  0  0  0  0  0  0  0  0  0\\n    7.1654   11.5933    5.0881 C   0  0  0  0  0  0  0  0  0  0  0  0\\n    8.4989   11.6753    5.3015 N   0  0  0  0  0  0  0  0  0  0  0  0\\n    8.9091   11.8531    6.5793 C   0  0  0  0  0  0  0  0  0  0  0  0\\n   10.3758   11.9764    6.7708 C   0  0  0  0  0  0  0  0  0  0  0  0\\n   10.8349   12.2898    7.8639 O   0  0  0  0  0  0  0  0  0  0  0  0\\n   11.1219   11.7242    5.6303 N   0  0  0  0  0  0  0  0  0  0  0  0\\n   12.5688   11.8573    5.5892 C   0  0  0  0  0  0  0  0  0  0  0  0\\n   13.0952   11.8531    4.1591 C   0  0  0  0  0  0  0  0  0  0  0  0\\n   12.4971   12.9169    3.3715 N   0  0  0  0  0  0  0  0  0  0  0  0\\n   12.9251   14.2320    3.4406 C   0  0  0  0  0  0  0  0  0  0  0  0\\n   13.9509   14.6134    3.9932 O   0  0  0  0  0  0  0  0  0  0  0  0\\n   12.0040   15.2070    2.8084 C   0  0  0  0  0  0  0  0  0  0  0  0\\n   10.8755   14.6929    2.2668 N   0  0  0  0  0  0  0  0  0  0  0  0\\n    9.9855   15.5702    1.7460 C   0  0  0  0  0  0  0  0  0  0  0  0\\n   10.1755   16.9454    1.7353 C   0  0  0  0  0  0  0  0  0  0  0  0\\n   11.3540   17.4372    2.2921 C   0  0  0  0  0  0  0  0  0  0  0  0\\n   12.2894   16.5639    2.8419 C   0  0  0  0  0  0  0  0  0  0  0  0\\n    8.0414   11.9524    7.6589 C   0  0  0  0  0  0  0  0  0  0  0  0\\n    6.6757   11.8592    7.4021 C   0  0  0  0  0  0  0  0  0  0  0  0\\n    6.2177   11.6791    6.0990 C   0  0  0  0  0  0  0  0  0  0  0  0\\n  2  1  2  0\\n  3  2  1  0\\n  4  3  1  0\\n  5  4  1  0\\n  6  5  1  0\\n  7  6  1  0\\n  8  7  2  0\\n  9  7  1  0\\n 10  9  1  0\\n 11 10  2  0\\n 12 11  1  0\\n 13 12  2  0\\n 14 12  1  0\\n 15 14  1  0\\n 16 15  1  0\\n 17 16  1  0\\n 18 17  1  0\\n 19 18  2  0\\n 20 18  1  0\\n 21 20  1  0\\n 22 21  2  0\\n 22  2  1  0\\n 23 22  1  0\\n 24 23  2  0\\n 25 24  1  0\\n 25 20  2  0\\n 26 11  1  0\\n 27 26  2  0\\n 28 27  1  0\\n 28  9  2  0\\nM  END\\n\",\"sdf\");\n",
       "\tviewer_14960555254471288.addModel(\"m1_crystal.xyz\\n     RDKit          3D\\n\\n 28 30  0  0  0  0  0  0  0  0999 V2000\\n    6.2549   10.2986    3.4233 O   0  0  0  0  0  0  0  0  0  0  0  0\\n   10.8134   12.1973    7.9115 O   0  0  0  0  0  0  0  0  0  0  0  0\\n   14.8355   13.0929    3.1071 O   0  0  0  0  0  0  0  0  0  0  0  0\\n    9.1191   14.7286   -0.5550 O   0  0  0  0  0  0  0  0  0  0  0  0\\n    6.9513   12.4116    2.8072 N   0  0  0  0  0  0  0  0  0  0  0  0\\n    8.5061   11.6739    5.2959 N   0  0  0  0  0  0  0  0  0  0  0  0\\n   11.1532   11.6394    5.6862 N   0  0  0  0  0  0  0  0  0  0  0  0\\n   12.7753   13.5481    4.0763 N   0  0  0  0  0  0  0  0  0  0  0  0\\n   11.7388   13.9536    1.6738 N   0  0  0  0  0  0  0  0  0  0  0  0\\n    9.1087   14.2701    1.7221 N   0  0  0  0  0  0  0  0  0  0  0  0\\n    6.7511   11.3837    3.7133 C   0  0  0  0  0  0  0  0  0  0  0  0\\n    7.1695   11.6024    5.1005 C   0  0  0  0  0  0  0  0  0  0  0  0\\n    8.9114   11.8479    6.5752 C   0  0  0  0  0  0  0  0  0  0  0  0\\n   10.3764   11.9164    6.8002 C   0  0  0  0  0  0  0  0  0  0  0  0\\n   12.6061   11.7178    5.7027 C   0  0  0  0  0  0  0  0  0  0  0  0\\n   13.0986   13.1346    5.4304 C   0  0  0  0  0  0  0  0  0  0  0  0\\n   13.6609   13.4328    3.0181 C   0  0  0  0  0  0  0  0  0  0  0  0\\n   13.0774   13.7552    1.6943 C   0  0  0  0  0  0  0  0  0  0  0  0\\n   11.1767   14.2352    0.4754 C   0  0  0  0  0  0  0  0  0  0  0  0\\n    9.7061   14.4355    0.4816 C   0  0  0  0  0  0  0  0  0  0  0  0\\n    7.7151   14.6009    1.9657 C   0  0  0  0  0  0  0  0  0  0  0  0\\n    7.1512   13.8194    3.1435 C   0  0  0  0  0  0  0  0  0  0  0  0\\n    6.2141   11.6720    6.1026 C   0  0  0  0  0  0  0  0  0  0  0  0\\n    6.6699   11.8606    7.4017 C   0  0  0  0  0  0  0  0  0  0  0  0\\n    8.0372   11.9558    7.6530 C   0  0  0  0  0  0  0  0  0  0  0  0\\n   13.8841   13.8256    0.5670 C   0  0  0  0  0  0  0  0  0  0  0  0\\n   13.2729   14.1247   -0.6474 C   0  0  0  0  0  0  0  0  0  0  0  0\\n   11.8982   14.3365   -0.7065 C   0  0  0  0  0  0  0  0  0  0  0  0\\n  1 11  2  0\\n  4 20  2  0\\n  6 13  2  0\\n  7 15  1  0\\n  8 16  1  0\\n  9 18  1  0\\n 11  5  1  0\\n 11 12  1  0\\n 12  6  1  0\\n 13 14  1  0\\n 14  7  1  0\\n 14  2  2  0\\n 16 15  1  0\\n 17  3  2  0\\n 17  8  1  0\\n 18 17  1  0\\n 19  9  2  0\\n 20 19  1  0\\n 20 10  1  0\\n 21 10  1  0\\n 22 21  1  0\\n 22  5  1  0\\n 23 12  2  0\\n 23 24  1  0\\n 24 25  2  0\\n 25 13  1  0\\n 26 18  2  0\\n 27 26  1  0\\n 28 27  2  0\\n 28 19  1  0\\nM  END\\n\",\"sdf\");\n",
       "\tviewer_14960555254471288.addModel(\"m1_sa_aa.xyz\\n     RDKit          3D\\n\\n 28 30  0  0  0  0  0  0  0  0999 V2000\\n    7.5777   11.7171    2.8020 O   0  0  0  0  0  0  0  0  0  0  0  0\\n   11.0518   12.3333    5.8192 O   0  0  0  0  0  0  0  0  0  0  0  0\\n   10.3494    8.4556    6.0008 O   0  0  0  0  0  0  0  0  0  0  0  0\\n    8.2993    8.8121    0.3457 O   0  0  0  0  0  0  0  0  0  0  0  0\\n    5.7169   10.4947    3.4766 N   0  0  0  0  0  0  0  0  0  0  0  0\\n    8.4982   11.6906    5.3000 N   0  0  0  0  0  0  0  0  0  0  0  0\\n   10.8654   11.2406    7.8664 N   0  0  0  0  0  0  0  0  0  0  0  0\\n   12.4539    9.4291    6.0385 N   0  0  0  0  0  0  0  0  0  0  0  0\\n   10.0295    8.8259    3.4222 N   0  0  0  0  0  0  0  0  0  0  0  0\\n    7.5601    8.4436    2.5123 N   0  0  0  0  0  0  0  0  0  0  0  0\\n    6.8268   11.3013    3.6808 C   0  0  0  0  0  0  0  0  0  0  0  0\\n    7.1662   11.5837    5.0899 C   0  0  0  0  0  0  0  0  0  0  0  0\\n    8.9068   11.8451    6.5797 C   0  0  0  0  0  0  0  0  0  0  0  0\\n   10.3748   11.8567    6.7257 C   0  0  0  0  0  0  0  0  0  0  0  0\\n   12.2729   10.9073    8.0200 C   0  0  0  0  0  0  0  0  0  0  0  0\\n   12.5867    9.5096    7.4860 C   0  0  0  0  0  0  0  0  0  0  0  0\\n   11.3182    8.9340    5.4146 C   0  0  0  0  0  0  0  0  0  0  0  0\\n   11.2697    9.0269    3.9333 C   0  0  0  0  0  0  0  0  0  0  0  0\\n    9.8907    8.9016    2.0770 C   0  0  0  0  0  0  0  0  0  0  0  0\\n    8.5169    8.7119    1.5487 C   0  0  0  0  0  0  0  0  0  0  0  0\\n    6.1332    8.4069    2.2332 C   0  0  0  0  0  0  0  0  0  0  0  0\\n    5.5064    9.8018    2.2148 C   0  0  0  0  0  0  0  0  0  0  0  0\\n    6.2186   11.6756    6.0988 C   0  0  0  0  0  0  0  0  0  0  0  0\\n    6.6761   11.8700    7.4006 C   0  0  0  0  0  0  0  0  0  0  0  0\\n    8.0423   11.9474    7.6599 C   0  0  0  0  0  0  0  0  0  0  0  0\\n   12.3825    9.2866    3.1434 C   0  0  0  0  0  0  0  0  0  0  0  0\\n   12.2025    9.3537    1.7639 C   0  0  0  0  0  0  0  0  0  0  0  0\\n   10.9411    9.1624    1.2099 C   0  0  0  0  0  0  0  0  0  0  0  0\\n  1 11  2  0\\n  2 14  2  0\\n  4 20  2  0\\n  6 13  2  0\\n  7 15  1  0\\n  8 16  1  0\\n  9 18  1  0\\n 11  5  1  0\\n 11 12  1  0\\n 12  6  1  0\\n 13 14  1  0\\n 14  7  1  0\\n 16 15  1  0\\n 17  3  2  0\\n 17  8  1  0\\n 18 17  1  0\\n 19  9  2  0\\n 20 19  1  0\\n 20 10  1  0\\n 21 10  1  0\\n 22 21  1  0\\n 22  5  1  0\\n 23 12  2  0\\n 23 24  1  0\\n 24 25  2  0\\n 25 13  1  0\\n 26 18  2  0\\n 27 26  1  0\\n 28 27  2  0\\n 28 19  1  0\\nM  END\\n\",\"sdf\");\n",
       "\tviewer_14960555254471288.addModel(\"m1_sa_aa.xyz\\n     RDKit          3D\\n\\n 28 30  0  0  0  0  0  0  0  0999 V2000\\n    7.1952   12.1562    2.8409 O   0  0  0  0  0  0  0  0  0  0  0  0\\n   10.8113   12.1515    7.9308 O   0  0  0  0  0  0  0  0  0  0  0  0\\n   11.3211   10.8271    2.4261 O   0  0  0  0  0  0  0  0  0  0  0  0\\n    6.7921    7.1571    1.0389 O   0  0  0  0  0  0  0  0  0  0  0  0\\n    5.8903   10.3319    3.5042 N   0  0  0  0  0  0  0  0  0  0  0  0\\n    8.5059   11.6829    5.2931 N   0  0  0  0  0  0  0  0  0  0  0  0\\n   11.1520   11.5226    5.7268 N   0  0  0  0  0  0  0  0  0  0  0  0\\n   12.6540    9.6894    3.9450 N   0  0  0  0  0  0  0  0  0  0  0  0\\n    9.7337    8.7718    2.0983 N   0  0  0  0  0  0  0  0  0  0  0  0\\n    7.3774    9.4005    1.2062 N   0  0  0  0  0  0  0  0  0  0  0  0\\n    6.7509   11.3992    3.6955 C   0  0  0  0  0  0  0  0  0  0  0  0\\n    7.1688   11.5896    5.0967 C   0  0  0  0  0  0  0  0  0  0  0  0\\n    8.9093   11.8476    6.5771 C   0  0  0  0  0  0  0  0  0  0  0  0\\n   10.3738   11.8724    6.8189 C   0  0  0  0  0  0  0  0  0  0  0  0\\n   12.5687   11.2258    5.8720 C   0  0  0  0  0  0  0  0  0  0  0  0\\n   13.2438   10.8742    4.5501 C   0  0  0  0  0  0  0  0  0  0  0  0\\n   11.6740    9.7826    2.9702 C   0  0  0  0  0  0  0  0  0  0  0  0\\n   10.9557    8.5354    2.6244 C   0  0  0  0  0  0  0  0  0  0  0  0\\n    8.9620    7.7040    1.7907 C   0  0  0  0  0  0  0  0  0  0  0  0\\n    7.6035    8.0385    1.2959 C   0  0  0  0  0  0  0  0  0  0  0  0\\n    6.0770   10.0014    0.9989 C   0  0  0  0  0  0  0  0  0  0  0  0\\n    5.2136    9.9959    2.2577 C   0  0  0  0  0  0  0  0  0  0  0  0\\n    6.2164   11.6779    6.1034 C   0  0  0  0  0  0  0  0  0  0  0  0\\n    6.6710   11.8638    7.4027 C   0  0  0  0  0  0  0  0  0  0  0  0\\n    8.0369   11.9506    7.6559 C   0  0  0  0  0  0  0  0  0  0  0  0\\n   11.4563    7.2595    2.8323 C   0  0  0  0  0  0  0  0  0  0  0  0\\n   10.6414    6.1790    2.4921 C   0  0  0  0  0  0  0  0  0  0  0  0\\n    9.3678    6.3913    1.9662 C   0  0  0  0  0  0  0  0  0  0  0  0\\n  1 11  2  0\\n  2 14  2  0\\n  4 20  2  0\\n  6 13  2  0\\n  7 15  1  0\\n  8 16  1  0\\n  9 18  1  0\\n 11  5  1  0\\n 11 12  1  0\\n 12  6  1  0\\n 13 14  1  0\\n 14  7  1  0\\n 16 15  1  0\\n 17  3  2  0\\n 17  8  1  0\\n 18 17  1  0\\n 19  9  2  0\\n 20 19  1  0\\n 20 10  1  0\\n 21 10  1  0\\n 22 21  1  0\\n 22  5  1  0\\n 23 12  2  0\\n 23 24  1  0\\n 24 25  2  0\\n 25 13  1  0\\n 26 18  2  0\\n 27 26  1  0\\n 28 27  2  0\\n 28 19  1  0\\nM  END\\n\",\"sdf\");\n",
       "\tviewer_14960555254471288.addModel(\"m1_aa_aa.xyz\\n     RDKit          3D\\n\\n 28 30  0  0  0  0  0  0  0  0999 V2000\\n    5.5328   11.3409    3.4165 O   0  0  0  0  0  0  0  0  0  0  0  0\\n   10.8202   11.8954    7.9499 O   0  0  0  0  0  0  0  0  0  0  0  0\\n   13.9136   15.9277    4.3879 O   0  0  0  0  0  0  0  0  0  0  0  0\\n    8.8730   14.4662    2.6714 O   0  0  0  0  0  0  0  0  0  0  0  0\\n    7.7523   11.3633    2.7561 N   0  0  0  0  0  0  0  0  0  0  0  0\\n    8.5022   11.6767    5.2993 N   0  0  0  0  0  0  0  0  0  0  0  0\\n   11.1422   11.8449    5.6510 N   0  0  0  0  0  0  0  0  0  0  0  0\\n   13.4954   13.7255    4.9440 N   0  0  0  0  0  0  0  0  0  0  0  0\\n   11.5291   14.4449    2.8012 N   0  0  0  0  0  0  0  0  0  0  0  0\\n    8.9025   13.2546    0.6892 N   0  0  0  0  0  0  0  0  0  0  0  0\\n    6.7270   11.4156    3.6859 C   0  0  0  0  0  0  0  0  0  0  0  0\\n    7.1661   11.5951    5.0893 C   0  0  0  0  0  0  0  0  0  0  0  0\\n    8.9096   11.8506    6.5786 C   0  0  0  0  0  0  0  0  0  0  0  0\\n   10.3765   11.8744    6.8069 C   0  0  0  0  0  0  0  0  0  0  0  0\\n   12.5696   11.5671    5.6732 C   0  0  0  0  0  0  0  0  0  0  0  0\\n   13.3081   12.3217    4.5781 C   0  0  0  0  0  0  0  0  0  0  0  0\\n   13.4774   14.8183    4.0946 C   0  0  0  0  0  0  0  0  0  0  0  0\\n   12.8676   14.6352    2.7761 C   0  0  0  0  0  0  0  0  0  0  0  0\\n   10.9343   14.2223    1.6075 C   0  0  0  0  0  0  0  0  0  0  0  0\\n    9.4723   14.0090    1.7019 C   0  0  0  0  0  0  0  0  0  0  0  0\\n    7.5361   12.7619    0.7430 C   0  0  0  0  0  0  0  0  0  0  0  0\\n    7.4964   11.3524    1.3248 C   0  0  0  0  0  0  0  0  0  0  0  0\\n    6.2180   11.6759    6.1029 C   0  0  0  0  0  0  0  0  0  0  0  0\\n    6.6738   11.8619    7.4024 C   0  0  0  0  0  0  0  0  0  0  0  0\\n    8.0386   11.9523    7.6565 C   0  0  0  0  0  0  0  0  0  0  0  0\\n   13.6502   14.6554    1.6333 C   0  0  0  0  0  0  0  0  0  0  0  0\\n   13.0036   14.4200    0.4250 C   0  0  0  0  0  0  0  0  0  0  0  0\\n   11.6256   14.1989    0.4010 C   0  0  0  0  0  0  0  0  0  0  0  0\\n  1 11  2  0\\n  2 14  2  0\\n  6 13  2  0\\n  7 15  1  0\\n  8 16  1  0\\n  9 18  1  0\\n 10 20  1  0\\n 10 21  1  0\\n 11  5  1  0\\n 11 12  1  0\\n 12  6  1  0\\n 13 14  1  0\\n 14  7  1  0\\n 16 15  1  0\\n 17  3  2  0\\n 17  8  1  0\\n 18 17  1  0\\n 19 20  1  0\\n 19  9  2  0\\n 20  4  2  0\\n 22 21  1  0\\n 22  5  1  0\\n 23 12  2  0\\n 23 24  1  0\\n 24 25  2  0\\n 25 13  1  0\\n 26 18  2  0\\n 27 26  1  0\\n 28 27  2  0\\n 28 19  1  0\\nM  END\\n\",\"sdf\");\n",
       "\tviewer_14960555254471288.addModel(\"m1_sa_aa.xyz\\n     RDKit          3D\\n\\n 28 30  0  0  0  0  0  0  0  0999 V2000\\n    7.6921   11.4575    2.8165 O   0  0  0  0  0  0  0  0  0  0  0  0\\n   11.0559   12.5396    6.0479 O   0  0  0  0  0  0  0  0  0  0  0  0\\n   10.5371    9.2064    4.5261 O   0  0  0  0  0  0  0  0  0  0  0  0\\n    5.5132    5.9308    3.9648 O   0  0  0  0  0  0  0  0  0  0  0  0\\n    5.6283   10.6072    3.4525 N   0  0  0  0  0  0  0  0  0  0  0  0\\n    8.4983   11.6935    5.2979 N   0  0  0  0  0  0  0  0  0  0  0  0\\n   10.7917   10.8577    7.6433 N   0  0  0  0  0  0  0  0  0  0  0  0\\n   11.6678    8.4044    6.3882 N   0  0  0  0  0  0  0  0  0  0  0  0\\n    8.6233    7.4201    4.7029 N   0  0  0  0  0  0  0  0  0  0  0  0\\n    6.4804    7.8888    3.1855 N   0  0  0  0  0  0  0  0  0  0  0  0\\n    6.8445   11.2358    3.6788 C   0  0  0  0  0  0  0  0  0  0  0  0\\n    7.1676   11.5766    5.0844 C   0  0  0  0  0  0  0  0  0  0  0  0\\n    8.8969   11.8477    6.5787 C   0  0  0  0  0  0  0  0  0  0  0  0\\n   10.3570   11.8152    6.7450 C   0  0  0  0  0  0  0  0  0  0  0  0\\n   12.1764   10.4280    7.7162 C   0  0  0  0  0  0  0  0  0  0  0  0\\n   12.5699    9.5362    6.5386 C   0  0  0  0  0  0  0  0  0  0  0  0\\n   10.6883    8.3594    5.4039 C   0  0  0  0  0  0  0  0  0  0  0  0\\n    9.7383    7.2199    5.4503 C   0  0  0  0  0  0  0  0  0  0  0  0\\n    7.6854    6.4440    4.7103 C   0  0  0  0  0  0  0  0  0  0  0  0\\n    6.4569    6.7121    3.9193 C   0  0  0  0  0  0  0  0  0  0  0  0\\n    5.3212    8.3776    2.4540 C   0  0  0  0  0  0  0  0  0  0  0  0\\n    5.3667    9.8856    2.2146 C   0  0  0  0  0  0  0  0  0  0  0  0\\n    6.2235   11.6791    6.0991 C   0  0  0  0  0  0  0  0  0  0  0  0\\n    6.6797   11.8735    7.4036 C   0  0  0  0  0  0  0  0  0  0  0  0\\n    8.0422   11.9421    7.6652 C   0  0  0  0  0  0  0  0  0  0  0  0\\n    9.9626    6.0645    6.1876 C   0  0  0  0  0  0  0  0  0  0  0  0\\n    8.9739    5.0842    6.1781 C   0  0  0  0  0  0  0  0  0  0  0  0\\n    7.8096    5.2685    5.4381 C   0  0  0  0  0  0  0  0  0  0  0  0\\n  1 11  2  0\\n  2 14  2  0\\n  4 20  2  0\\n  6 13  2  0\\n  7 15  1  0\\n  8 16  1  0\\n  9 18  1  0\\n 11  5  1  0\\n 11 12  1  0\\n 12  6  1  0\\n 13 14  1  0\\n 14  7  1  0\\n 16 15  1  0\\n 17  3  2  0\\n 17  8  1  0\\n 18 17  1  0\\n 19  9  2  0\\n 20 19  1  0\\n 20 10  1  0\\n 21 10  1  0\\n 22 21  1  0\\n 22  5  1  0\\n 23 12  2  0\\n 23 24  1  0\\n 24 25  2  0\\n 25 13  1  0\\n 26 18  2  0\\n 27 26  1  0\\n 28 27  2  0\\n 28 19  1  0\\nM  END\\n\",\"sdf\");\n",
       "\tviewer_14960555254471288.addModel(\"m1_ss_sa.xyz\\n     RDKit          3D\\n\\n 28 30  0  0  0  0  0  0  0  0999 V2000\\n    7.7353   11.6340    2.8360 O   0  0  0  0  0  0  0  0  0  0  0  0\\n   10.9181   11.9584    7.8126 O   0  0  0  0  0  0  0  0  0  0  0  0\\n   13.5193    8.0814    3.7938 O   0  0  0  0  0  0  0  0  0  0  0  0\\n    7.0509    6.0007    2.7549 O   0  0  0  0  0  0  0  0  0  0  0  0\\n    5.7336   10.6056    3.3851 N   0  0  0  0  0  0  0  0  0  0  0  0\\n    8.4849   11.6913    5.3126 N   0  0  0  0  0  0  0  0  0  0  0  0\\n   11.0059   11.4864    5.5324 N   0  0  0  0  0  0  0  0  0  0  0  0\\n   11.9347    9.7145    3.3953 N   0  0  0  0  0  0  0  0  0  0  0  0\\n   10.1178    7.7040    2.9016 N   0  0  0  0  0  0  0  0  0  0  0  0\\n    7.3936    8.2592    2.3875 N   0  0  0  0  0  0  0  0  0  0  0  0\\n    6.8891   11.3045    3.6660 C   0  0  0  0  0  0  0  0  0  0  0  0\\n    7.1637   11.5859    5.0846 C   0  0  0  0  0  0  0  0  0  0  0  0\\n    8.9070   11.8429    6.5838 C   0  0  0  0  0  0  0  0  0  0  0  0\\n   10.3792   11.7885    6.7289 C   0  0  0  0  0  0  0  0  0  0  0  0\\n   12.3895   11.0840    5.4012 C   0  0  0  0  0  0  0  0  0  0  0  0\\n   12.7237   10.8179    3.9352 C   0  0  0  0  0  0  0  0  0  0  0  0\\n   12.3937    8.4118    3.4273 C   0  0  0  0  0  0  0  0  0  0  0  0\\n   11.4345    7.3670    2.9925 C   0  0  0  0  0  0  0  0  0  0  0  0\\n    9.2728    6.6874    2.5940 C   0  0  0  0  0  0  0  0  0  0  0  0\\n    7.8150    6.9504    2.5969 C   0  0  0  0  0  0  0  0  0  0  0  0\\n    5.9736    8.5002    2.1456 C   0  0  0  0  0  0  0  0  0  0  0  0\\n    5.5615    9.9646    2.0964 C   0  0  0  0  0  0  0  0  0  0  0  0\\n    6.2180   11.6721    6.0908 C   0  0  0  0  0  0  0  0  0  0  0  0\\n    6.6836   11.8693    7.3948 C   0  0  0  0  0  0  0  0  0  0  0  0\\n    8.0510   11.9510    7.6624 C   0  0  0  0  0  0  0  0  0  0  0  0\\n   11.9333    6.0837    2.7691 C   0  0  0  0  0  0  0  0  0  0  0  0\\n   11.0380    5.0829    2.4296 C   0  0  0  0  0  0  0  0  0  0  0  0\\n    9.6865    5.3783    2.3424 C   0  0  0  0  0  0  0  0  0  0  0  0\\n  1 11  2  0\\n  4 20  2  0\\n  5 11  1  0\\n  6 13  2  0\\n  7 15  1  0\\n  8 16  1  0\\n  9 18  1  0\\n 11 12  1  0\\n 12  6  1  0\\n 13 14  1  0\\n 14  7  1  0\\n 14  2  2  0\\n 16 15  1  0\\n 17  3  2  0\\n 17  8  1  0\\n 18 17  1  0\\n 19  9  2  0\\n 20 19  1  0\\n 20 10  1  0\\n 21 10  1  0\\n 22 21  1  0\\n 22  5  1  0\\n 23 12  2  0\\n 23 24  1  0\\n 24 25  2  0\\n 25 13  1  0\\n 26 18  2  0\\n 27 26  1  0\\n 28 27  2  0\\n 28 19  1  0\\nM  END\\n\",\"sdf\");\n",
       "\tviewer_14960555254471288.addModel(\"m1_ss_aa.xyz\\n     RDKit          3D\\n\\n 28 30  0  0  0  0  0  0  0  0999 V2000\\n    7.6426   10.9917    2.8746 O   0  0  0  0  0  0  0  0  0  0  0  0\\n   10.9790   10.8887    6.3810 O   0  0  0  0  0  0  0  0  0  0  0  0\\n    8.2010   16.7473    7.6423 O   0  0  0  0  0  0  0  0  0  0  0  0\\n    3.9458   15.3443    2.2736 O   0  0  0  0  0  0  0  0  0  0  0  0\\n    5.5651   11.9378    3.2913 N   0  0  0  0  0  0  0  0  0  0  0  0\\n    8.5012   11.6651    5.3004 N   0  0  0  0  0  0  0  0  0  0  0  0\\n   10.9570   13.0008    7.2866 N   0  0  0  0  0  0  0  0  0  0  0  0\\n    8.8051   15.3083    5.9294 N   0  0  0  0  0  0  0  0  0  0  0  0\\n    6.4228   15.7470    4.7624 N   0  0  0  0  0  0  0  0  0  0  0  0\\n    6.1093   14.5239    2.4329 N   0  0  0  0  0  0  0  0  0  0  0  0\\n    6.8113   11.4518    3.6522 C   0  0  0  0  0  0  0  0  0  0  0  0\\n    7.1670   11.5961    5.0843 C   0  0  0  0  0  0  0  0  0  0  0  0\\n    8.8987   11.8639    6.5769 C   0  0  0  0  0  0  0  0  0  0  0  0\\n   10.3535   11.8821    6.7500 C   0  0  0  0  0  0  0  0  0  0  0  0\\n   10.3755   14.3080    7.5823 C   0  0  0  0  0  0  0  0  0  0  0  0\\n   10.1960   15.1664    6.3302 C   0  0  0  0  0  0  0  0  0  0  0  0\\n    7.9340   16.1530    6.6018 C   0  0  0  0  0  0  0  0  0  0  0  0\\n    6.6057   16.3342    5.9680 C   0  0  0  0  0  0  0  0  0  0  0  0\\n    5.2202   15.9413    4.1648 C   0  0  0  0  0  0  0  0  0  0  0  0\\n    5.0188   15.2615    2.8606 C   0  0  0  0  0  0  0  0  0  0  0  0\\n    6.0060   13.4932    1.4132 C   0  0  0  0  0  0  0  0  0  0  0  0\\n    5.2363   12.2664    1.9118 C   0  0  0  0  0  0  0  0  0  0  0  0\\n    6.2216   11.6818    6.1001 C   0  0  0  0  0  0  0  0  0  0  0  0\\n    6.6784   11.8582    7.4049 C   0  0  0  0  0  0  0  0  0  0  0  0\\n    8.0413   11.9474    7.6621 C   0  0  0  0  0  0  0  0  0  0  0  0\\n    5.6395   17.1048    6.6033 C   0  0  0  0  0  0  0  0  0  0  0  0\\n    4.4170   17.2770    5.9622 C   0  0  0  0  0  0  0  0  0  0  0  0\\n    4.1917   16.6897    4.7219 C   0  0  0  0  0  0  0  0  0  0  0  0\\n  2 14  2  0\\n  4 20  2  0\\n  5 11  1  0\\n  6 13  2  0\\n  7 15  1  0\\n  8 16  1  0\\n  9 18  1  0\\n 11  1  2  0\\n 11 12  1  0\\n 12  6  1  0\\n 13 14  1  0\\n 14  7  1  0\\n 16 15  1  0\\n 17  3  2  0\\n 17  8  1  0\\n 18 17  1  0\\n 19  9  2  0\\n 20 19  1  0\\n 20 10  1  0\\n 21 10  1  0\\n 22  5  1  0\\n 22 21  1  0\\n 23 12  2  0\\n 23 24  1  0\\n 24 25  2  0\\n 25 13  1  0\\n 26 18  2  0\\n 27 26  1  0\\n 28 27  2  0\\n 28 19  1  0\\nM  END\\n\",\"sdf\");\n",
       "\tviewer_14960555254471288.addModel(\"m1_aa_aa.xyz\\n     RDKit          3D\\n\\n 28 30  0  0  0  0  0  0  0  0999 V2000\\n    7.5866   11.6921    2.7870 O   0  0  0  0  0  0  0  0  0  0  0  0\\n   11.0186   12.4695    5.8308 O   0  0  0  0  0  0  0  0  0  0  0  0\\n   10.7109    8.1650    6.4956 O   0  0  0  0  0  0  0  0  0  0  0  0\\n    7.2025    7.7894    3.7458 O   0  0  0  0  0  0  0  0  0  0  0  0\\n    5.5410   10.7945    3.4322 N   0  0  0  0  0  0  0  0  0  0  0  0\\n    8.4977   11.6846    5.2997 N   0  0  0  0  0  0  0  0  0  0  0  0\\n   10.9092   11.4191    7.9047 N   0  0  0  0  0  0  0  0  0  0  0  0\\n   12.4388    9.6758    6.1290 N   0  0  0  0  0  0  0  0  0  0  0  0\\n    9.6576    8.6176    4.1285 N   0  0  0  0  0  0  0  0  0  0  0  0\\n    7.0136    8.8838    1.7090 N   0  0  0  0  0  0  0  0  0  0  0  0\\n    6.7824   11.3795    3.6621 C   0  0  0  0  0  0  0  0  0  0  0  0\\n    7.1608   11.5840    5.0833 C   0  0  0  0  0  0  0  0  0  0  0  0\\n    8.9058   11.8503    6.5838 C   0  0  0  0  0  0  0  0  0  0  0  0\\n   10.3728   11.9592    6.7415 C   0  0  0  0  0  0  0  0  0  0  0  0\\n   12.3448   11.2266    8.0578 C   0  0  0  0  0  0  0  0  0  0  0  0\\n   12.7983    9.8629    7.5283 C   0  0  0  0  0  0  0  0  0  0  0  0\\n   11.3648    8.8819    5.7429 C   0  0  0  0  0  0  0  0  0  0  0  0\\n   10.9533    8.9623    4.3242 C   0  0  0  0  0  0  0  0  0  0  0  0\\n    9.1617    8.7022    2.8708 C   0  0  0  0  0  0  0  0  0  0  0  0\\n    7.7117    8.3937    2.8039 C   0  0  0  0  0  0  0  0  0  0  0  0\\n    5.5597    8.9864    1.7235 C   0  0  0  0  0  0  0  0  0  0  0  0\\n    5.0926   10.3929    2.1065 C   0  0  0  0  0  0  0  0  0  0  0  0\\n    6.2219   11.6801    6.0987 C   0  0  0  0  0  0  0  0  0  0  0  0\\n    6.6793   11.8645    7.4001 C   0  0  0  0  0  0  0  0  0  0  0  0\\n    8.0427   11.9489    7.6633 C   0  0  0  0  0  0  0  0  0  0  0  0\\n   11.7987    9.3493    3.2992 C   0  0  0  0  0  0  0  0  0  0  0  0\\n   11.2661    9.4037    2.0134 C   0  0  0  0  0  0  0  0  0  0  0  0\\n    9.9275    9.0868    1.7811 C   0  0  0  0  0  0  0  0  0  0  0  0\\n  1 11  2  0\\n  2 14  2  0\\n  6 13  2  0\\n  7 15  1  0\\n  8 16  1  0\\n  9 18  1  0\\n 10 20  1  0\\n 10 21  1  0\\n 11  5  1  0\\n 11 12  1  0\\n 12  6  1  0\\n 13 14  1  0\\n 14  7  1  0\\n 16 15  1  0\\n 17  3  2  0\\n 17  8  1  0\\n 18 17  1  0\\n 19 20  1  0\\n 19  9  2  0\\n 20  4  2  0\\n 22 21  1  0\\n 22  5  1  0\\n 23 12  2  0\\n 23 24  1  0\\n 24 25  2  0\\n 25 13  1  0\\n 26 18  2  0\\n 27 26  1  0\\n 28 27  2  0\\n 28 19  1  0\\nM  END\\n\",\"sdf\");\n",
       "\tviewer_14960555254471288.addModel(\"m1_ss_sa.xyz\\n     RDKit          3D\\n\\n 28 30  0  0  0  0  0  0  0  0999 V2000\\n    7.4766   11.8472    2.7999 O   0  0  0  0  0  0  0  0  0  0  0  0\\n   10.8512   11.6217    7.8857 O   0  0  0  0  0  0  0  0  0  0  0  0\\n   13.7762   10.3401    2.4630 O   0  0  0  0  0  0  0  0  0  0  0  0\\n    7.5717    9.2057   -0.5563 O   0  0  0  0  0  0  0  0  0  0  0  0\\n    5.8344   10.3558    3.5048 N   0  0  0  0  0  0  0  0  0  0  0  0\\n    8.4965   11.6897    5.3007 N   0  0  0  0  0  0  0  0  0  0  0  0\\n   11.0901   11.9001    5.5878 N   0  0  0  0  0  0  0  0  0  0  0  0\\n   11.9102    9.8009    3.7206 N   0  0  0  0  0  0  0  0  0  0  0  0\\n   10.4629    9.6097    1.4446 N   0  0  0  0  0  0  0  0  0  0  0  0\\n    7.8645    8.8730    1.7151 N   0  0  0  0  0  0  0  0  0  0  0  0\\n    6.8270   11.3023    3.6866 C   0  0  0  0  0  0  0  0  0  0  0  0\\n    7.1676   11.5848    5.0920 C   0  0  0  0  0  0  0  0  0  0  0  0\\n    8.9071   11.8459    6.5794 C   0  0  0  0  0  0  0  0  0  0  0  0\\n   10.3748   11.7929    6.7695 C   0  0  0  0  0  0  0  0  0  0  0  0\\n   12.4691   11.4682    5.4569 C   0  0  0  0  0  0  0  0  0  0  0  0\\n   12.5284   10.0041    5.0252 C   0  0  0  0  0  0  0  0  0  0  0  0\\n   12.5887   10.0360    2.5366 C   0  0  0  0  0  0  0  0  0  0  0  0\\n   11.7783    9.9125    1.2981 C   0  0  0  0  0  0  0  0  0  0  0  0\\n    9.7348    9.5199    0.3030 C   0  0  0  0  0  0  0  0  0  0  0  0\\n    8.2943    9.1903    0.4375 C   0  0  0  0  0  0  0  0  0  0  0  0\\n    6.4810    8.5167    1.9970 C   0  0  0  0  0  0  0  0  0  0  0  0\\n    5.5852    9.7355    2.2152 C   0  0  0  0  0  0  0  0  0  0  0  0\\n    6.2176   11.6748    6.0979 C   0  0  0  0  0  0  0  0  0  0  0  0\\n    6.6761   11.8705    7.3994 C   0  0  0  0  0  0  0  0  0  0  0  0\\n    8.0433   11.9467    7.6595 C   0  0  0  0  0  0  0  0  0  0  0  0\\n   12.3926   10.1217    0.0668 C   0  0  0  0  0  0  0  0  0  0  0  0\\n   11.6136   10.0184   -1.0786 C   0  0  0  0  0  0  0  0  0  0  0  0\\n   10.2622    9.7164   -0.9700 C   0  0  0  0  0  0  0  0  0  0  0  0\\n  1 11  2  0\\n  4 20  2  0\\n  5 11  1  0\\n  6 13  2  0\\n  7 15  1  0\\n  8 16  1  0\\n  9 18  1  0\\n 11 12  1  0\\n 12  6  1  0\\n 13 14  1  0\\n 14  7  1  0\\n 14  2  2  0\\n 16 15  1  0\\n 17  3  2  0\\n 17  8  1  0\\n 18 17  1  0\\n 19  9  2  0\\n 20 19  1  0\\n 20 10  1  0\\n 21 10  1  0\\n 22 21  1  0\\n 22  5  1  0\\n 23 12  2  0\\n 23 24  1  0\\n 24 25  2  0\\n 25 13  1  0\\n 26 18  2  0\\n 27 26  1  0\\n 28 27  2  0\\n 28 19  1  0\\nM  END\\n\",\"sdf\");\n",
       "\tviewer_14960555254471288.addModel(\"m1_sa_sa.xyz\\n     RDKit          3D\\n\\n 28 30  0  0  0  0  0  0  0  0999 V2000\\n    7.3745   11.9873    2.7987 O   0  0  0  0  0  0  0  0  0  0  0  0\\n   10.8329   12.0489    7.9273 O   0  0  0  0  0  0  0  0  0  0  0  0\\n   11.2187    7.8194    7.7653 O   0  0  0  0  0  0  0  0  0  0  0  0\\n    9.0126    9.2704    2.5049 O   0  0  0  0  0  0  0  0  0  0  0  0\\n    5.7656   10.4579    3.5011 N   0  0  0  0  0  0  0  0  0  0  0  0\\n    8.5020   11.6837    5.2964 N   0  0  0  0  0  0  0  0  0  0  0  0\\n   11.1231   11.5195    5.6878 N   0  0  0  0  0  0  0  0  0  0  0  0\\n   11.9233    8.8209    5.7860 N   0  0  0  0  0  0  0  0  0  0  0  0\\n    9.6595    8.0001    4.6650 N   0  0  0  0  0  0  0  0  0  0  0  0\\n    6.9760    8.1875    2.2552 N   0  0  0  0  0  0  0  0  0  0  0  0\\n    6.7746   11.3869    3.6829 C   0  0  0  0  0  0  0  0  0  0  0  0\\n    7.1670   11.5932    5.0918 C   0  0  0  0  0  0  0  0  0  0  0  0\\n    8.9085   11.8435    6.5797 C   0  0  0  0  0  0  0  0  0  0  0  0\\n   10.3757   11.8334    6.8098 C   0  0  0  0  0  0  0  0  0  0  0  0\\n   12.5414   11.1984    5.7385 C   0  0  0  0  0  0  0  0  0  0  0  0\\n   12.8071    9.8245    6.3550 C   0  0  0  0  0  0  0  0  0  0  0  0\\n   11.1145    8.0033    6.5572 C   0  0  0  0  0  0  0  0  0  0  0  0\\n   10.0165    7.3618    5.8020 C   0  0  0  0  0  0  0  0  0  0  0  0\\n    8.5776    7.5350    3.9966 C   0  0  0  0  0  0  0  0  0  0  0  0\\n    8.2177    8.3915    2.8401 C   0  0  0  0  0  0  0  0  0  0  0  0\\n    6.3562    9.2059    1.4206 C   0  0  0  0  0  0  0  0  0  0  0  0\\n    5.3091   10.0055    2.1972 C   0  0  0  0  0  0  0  0  0  0  0  0\\n    6.2181   11.6728    6.1024 C   0  0  0  0  0  0  0  0  0  0  0  0\\n    6.6736   11.8652    7.4017 C   0  0  0  0  0  0  0  0  0  0  0  0\\n    8.0391   11.9540    7.6569 C   0  0  0  0  0  0  0  0  0  0  0  0\\n    9.3556    6.2528    6.3033 C   0  0  0  0  0  0  0  0  0  0  0  0\\n    8.2661    5.7778    5.5794 C   0  0  0  0  0  0  0  0  0  0  0  0\\n    7.8584    6.4222    4.4102 C   0  0  0  0  0  0  0  0  0  0  0  0\\n  1 11  2  0\\n  6 13  2  0\\n  7 14  1  0\\n  7 15  1  0\\n  8 16  1  0\\n  9 18  1  0\\n 10 20  1  0\\n 10 21  1  0\\n 11  5  1  0\\n 11 12  1  0\\n 12  6  1  0\\n 13 14  1  0\\n 14  2  2  0\\n 16 15  1  0\\n 17  3  2  0\\n 17  8  1  0\\n 18 17  1  0\\n 19 20  1  0\\n 19  9  2  0\\n 20  4  2  0\\n 22 21  1  0\\n 22  5  1  0\\n 23 12  2  0\\n 23 24  1  0\\n 24 25  2  0\\n 25 13  1  0\\n 26 18  2  0\\n 27 26  1  0\\n 28 27  2  0\\n 28 19  1  0\\nM  END\\n\",\"sdf\");\n",
       "\tviewer_14960555254471288.addModel(\"m1_crystal.xyz\\n     RDKit          3D\\n\\n 28 30  0  0  0  0  0  0  0  0999 V2000\\n   10.1175   11.1678   -1.0244 O   0  0  0  0  0  0  0  0  0  0  0  0\\n   10.3500   11.9263   -0.0888 C   0  0  0  0  0  0  0  0  0  0  0  0\\n    9.3931   12.4832    0.7443 N   0  0  0  0  0  0  0  0  0  0  0  0\\n    7.9740   12.1910    0.6291 C   0  0  0  0  0  0  0  0  0  0  0  0\\n    7.5898   10.9198    1.3777 C   0  0  0  0  0  0  0  0  0  0  0  0\\n    7.7728   11.0708    2.8115 N   0  0  0  0  0  0  0  0  0  0  0  0\\n    6.7470   11.4140    3.6773 C   0  0  0  0  0  0  0  0  0  0  0  0\\n    5.5718   11.5680    3.3619 O   0  0  0  0  0  0  0  0  0  0  0  0\\n    7.1664   11.5921    5.0883 C   0  0  0  0  0  0  0  0  0  0  0  0\\n    8.4998   11.6729    5.3006 N   0  0  0  0  0  0  0  0  0  0  0  0\\n    8.9079   11.8573    6.5784 C   0  0  0  0  0  0  0  0  0  0  0  0\\n   10.3745   11.9658    6.7771 C   0  0  0  0  0  0  0  0  0  0  0  0\\n   10.8341   12.1321    7.9023 O   0  0  0  0  0  0  0  0  0  0  0  0\\n   11.1235   11.8580    5.6150 N   0  0  0  0  0  0  0  0  0  0  0  0\\n   12.5729   11.7619    5.6348 C   0  0  0  0  0  0  0  0  0  0  0  0\\n   13.1829   12.1409    4.2941 C   0  0  0  0  0  0  0  0  0  0  0  0\\n   13.1321   13.5821    4.0649 N   0  0  0  0  0  0  0  0  0  0  0  0\\n   13.3453   14.2110    2.8505 C   0  0  0  0  0  0  0  0  0  0  0  0\\n   13.6394   15.3971    2.7300 O   0  0  0  0  0  0  0  0  0  0  0  0\\n   13.1899   13.4085    1.6347 C   0  0  0  0  0  0  0  0  0  0  0  0\\n   11.9190   13.0449    1.3506 N   0  0  0  0  0  0  0  0  0  0  0  0\\n   11.7450   12.3169    0.2237 C   0  0  0  0  0  0  0  0  0  0  0  0\\n   12.7862   11.9392   -0.6178 C   0  0  0  0  0  0  0  0  0  0  0  0\\n   14.0778   12.3465   -0.2862 C   0  0  0  0  0  0  0  0  0  0  0  0\\n   14.2970   13.1049    0.8586 C   0  0  0  0  0  0  0  0  0  0  0  0\\n    8.0407   11.9498    7.6584 C   0  0  0  0  0  0  0  0  0  0  0  0\\n    6.6748   11.8583    7.4033 C   0  0  0  0  0  0  0  0  0  0  0  0\\n    6.2186   11.6820    6.0999 C   0  0  0  0  0  0  0  0  0  0  0  0\\n  2  1  2  0\\n  3  2  1  0\\n  4  3  1  0\\n  5  4  1  0\\n  6  5  1  0\\n  7  6  1  0\\n  8  7  2  0\\n  9  7  1  0\\n 10  9  1  0\\n 11 10  2  0\\n 12 11  1  0\\n 13 12  2  0\\n 14 12  1  0\\n 15 14  1  0\\n 16 15  1  0\\n 17 16  1  0\\n 18 17  1  0\\n 19 18  2  0\\n 20 18  1  0\\n 21 20  1  0\\n 22 21  2  0\\n 22  2  1  0\\n 23 22  1  0\\n 24 23  2  0\\n 25 24  1  0\\n 25 20  2  0\\n 26 11  1  0\\n 27 26  2  0\\n 28 27  1  0\\n 28  9  2  0\\nM  END\\n\",\"sdf\");\n",
       "\tviewer_14960555254471288.addModel(\"m1_crystal.xyz\\n     RDKit          3D\\n\\n 28 30  0  0  0  0  0  0  0  0999 V2000\\n    9.2092    7.5889   -0.2150 O   0  0  0  0  0  0  0  0  0  0  0  0\\n    9.7723    8.3234    0.5901 C   0  0  0  0  0  0  0  0  0  0  0  0\\n    9.2128    9.4501    1.1707 N   0  0  0  0  0  0  0  0  0  0  0  0\\n    7.8215    9.8200    0.9710 C   0  0  0  0  0  0  0  0  0  0  0  0\\n    7.5710   11.2783    1.3309 C   0  0  0  0  0  0  0  0  0  0  0  0\\n    7.7615   11.5201    2.7512 N   0  0  0  0  0  0  0  0  0  0  0  0\\n    6.7432   11.3930    3.6819 C   0  0  0  0  0  0  0  0  0  0  0  0\\n    5.5723   11.1366    3.4212 O   0  0  0  0  0  0  0  0  0  0  0  0\\n    7.1658   11.5941    5.0888 C   0  0  0  0  0  0  0  0  0  0  0  0\\n    8.5000   11.6772    5.3003 N   0  0  0  0  0  0  0  0  0  0  0  0\\n    8.9084   11.8508    6.5792 C   0  0  0  0  0  0  0  0  0  0  0  0\\n   10.3749   11.9289    6.7870 C   0  0  0  0  0  0  0  0  0  0  0  0\\n   10.8305   12.1367    7.9067 O   0  0  0  0  0  0  0  0  0  0  0  0\\n   11.1282   11.7427    5.6393 N   0  0  0  0  0  0  0  0  0  0  0  0\\n   12.5781   11.6562    5.6657 C   0  0  0  0  0  0  0  0  0  0  0  0\\n   13.1781   11.8968    4.2873 C   0  0  0  0  0  0  0  0  0  0  0  0\\n   12.8205   10.8390    3.3572 N   0  0  0  0  0  0  0  0  0  0  0  0\\n   13.5740    9.6874    3.1995 C   0  0  0  0  0  0  0  0  0  0  0  0\\n   14.6445    9.4593    3.7536 O   0  0  0  0  0  0  0  0  0  0  0  0\\n   12.9857    8.6885    2.2750 C   0  0  0  0  0  0  0  0  0  0  0  0\\n   11.7209    8.9365    1.8615 N   0  0  0  0  0  0  0  0  0  0  0  0\\n   11.1615    8.0333    1.0226 C   0  0  0  0  0  0  0  0  0  0  0  0\\n   11.8143    6.8930    0.5729 C   0  0  0  0  0  0  0  0  0  0  0  0\\n   13.1140    6.6707    1.0195 C   0  0  0  0  0  0  0  0  0  0  0  0\\n   13.7192    7.5750    1.8873 C   0  0  0  0  0  0  0  0  0  0  0  0\\n    8.0402   11.9522    7.6578 C   0  0  0  0  0  0  0  0  0  0  0  0\\n    6.6751   11.8618    7.4023 C   0  0  0  0  0  0  0  0  0  0  0  0\\n    6.2186   11.6764    6.1006 C   0  0  0  0  0  0  0  0  0  0  0  0\\n  2  1  2  0\\n  3  2  1  0\\n  4  3  1  0\\n  5  4  1  0\\n  6  5  1  0\\n  7  6  1  0\\n  8  7  2  0\\n  9  7  1  0\\n 10  9  1  0\\n 11 10  2  0\\n 12 11  1  0\\n 13 12  2  0\\n 14 12  1  0\\n 15 14  1  0\\n 16 15  1  0\\n 17 16  1  0\\n 18 17  1  0\\n 19 18  2  0\\n 20 18  1  0\\n 21 20  1  0\\n 22 21  2  0\\n 22  2  1  0\\n 23 22  1  0\\n 24 23  2  0\\n 25 24  1  0\\n 25 20  2  0\\n 26 11  1  0\\n 27 26  2  0\\n 28 27  1  0\\n 28  9  2  0\\nM  END\\n\",\"sdf\");\n",
       "\tviewer_14960555254471288.addModel(\"m1_aa_aa.xyz\\n     RDKit          3D\\n\\n 28 30  0  0  0  0  0  0  0  0999 V2000\\n    7.3241   12.0821    2.8198 O   0  0  0  0  0  0  0  0  0  0  0  0\\n   10.8245   12.0567    7.9345 O   0  0  0  0  0  0  0  0  0  0  0  0\\n   13.3544    9.0865    3.4548 O   0  0  0  0  0  0  0  0  0  0  0  0\\n    9.0687   10.0002    0.9792 O   0  0  0  0  0  0  0  0  0  0  0  0\\n    5.8113   10.4317    3.4708 N   0  0  0  0  0  0  0  0  0  0  0  0\\n    8.5025   11.6840    5.2956 N   0  0  0  0  0  0  0  0  0  0  0  0\\n   11.1371   11.6630    5.6730 N   0  0  0  0  0  0  0  0  0  0  0  0\\n   12.2220    9.0299    5.5000 N   0  0  0  0  0  0  0  0  0  0  0  0\\n   10.5259    8.7166    2.7736 N   0  0  0  0  0  0  0  0  0  0  0  0\\n    7.1881    8.7626    1.5535 N   0  0  0  0  0  0  0  0  0  0  0  0\\n    6.7717   11.4055    3.6805 C   0  0  0  0  0  0  0  0  0  0  0  0\\n    7.1674   11.5887    5.0922 C   0  0  0  0  0  0  0  0  0  0  0  0\\n    8.9090   11.8475    6.5788 C   0  0  0  0  0  0  0  0  0  0  0  0\\n   10.3756   11.8774    6.8076 C   0  0  0  0  0  0  0  0  0  0  0  0\\n   12.5782   11.4701    5.7058 C   0  0  0  0  0  0  0  0  0  0  0  0\\n   12.9703   10.0704    6.1830 C   0  0  0  0  0  0  0  0  0  0  0  0\\n   12.4262    8.7259    4.1670 C   0  0  0  0  0  0  0  0  0  0  0  0\\n   11.3156    7.9740    3.5771 C   0  0  0  0  0  0  0  0  0  0  0  0\\n    9.4121    8.1134    2.2984 C   0  0  0  0  0  0  0  0  0  0  0  0\\n    8.5472    9.0325    1.5283 C   0  0  0  0  0  0  0  0  0  0  0  0\\n    6.2081    9.7273    1.0842 C   0  0  0  0  0  0  0  0  0  0  0  0\\n    5.2171   10.1177    2.1794 C   0  0  0  0  0  0  0  0  0  0  0  0\\n    6.2176   11.6768    6.1020 C   0  0  0  0  0  0  0  0  0  0  0  0\\n    6.6730   11.8655    7.4026 C   0  0  0  0  0  0  0  0  0  0  0  0\\n    8.0386   11.9499    7.6577 C   0  0  0  0  0  0  0  0  0  0  0  0\\n   11.0836    6.6510    3.9124 C   0  0  0  0  0  0  0  0  0  0  0  0\\n    9.9505    6.0518    3.3703 C   0  0  0  0  0  0  0  0  0  0  0  0\\n    9.0898    6.7860    2.5537 C   0  0  0  0  0  0  0  0  0  0  0  0\\n  1 11  2  0\\n  2 14  2  0\\n  6 13  2  0\\n  7 15  1  0\\n  8 16  1  0\\n  9 18  1  0\\n 10 20  1  0\\n 10 21  1  0\\n 11  5  1  0\\n 11 12  1  0\\n 12  6  1  0\\n 13 14  1  0\\n 14  7  1  0\\n 16 15  1  0\\n 17  3  2  0\\n 17  8  1  0\\n 18 17  1  0\\n 19 20  1  0\\n 19  9  2  0\\n 20  4  2  0\\n 22 21  1  0\\n 22  5  1  0\\n 23 12  2  0\\n 23 24  1  0\\n 24 25  2  0\\n 25 13  1  0\\n 26 18  2  0\\n 27 26  1  0\\n 28 27  2  0\\n 28 19  1  0\\nM  END\\n\",\"sdf\");\n",
       "\tviewer_14960555254471288.addModel(\"m1_sa_aa.xyz\\n     RDKit          3D\\n\\n 28 30  0  0  0  0  0  0  0  0999 V2000\\n    5.4859   11.4021    3.4635 O   0  0  0  0  0  0  0  0  0  0  0  0\\n   10.7799   11.9086    7.9897 O   0  0  0  0  0  0  0  0  0  0  0  0\\n   11.2659   12.2501    2.5670 O   0  0  0  0  0  0  0  0  0  0  0  0\\n    9.1485    7.0140    0.5598 O   0  0  0  0  0  0  0  0  0  0  0  0\\n    7.6766   11.2910    2.7221 N   0  0  0  0  0  0  0  0  0  0  0  0\\n    8.5073   11.6761    5.2913 N   0  0  0  0  0  0  0  0  0  0  0  0\\n   11.1663   12.0723    5.7153 N   0  0  0  0  0  0  0  0  0  0  0  0\\n   13.2645   11.5362    3.5090 N   0  0  0  0  0  0  0  0  0  0  0  0\\n   10.8801    9.7665    1.6515 N   0  0  0  0  0  0  0  0  0  0  0  0\\n    8.2846    9.1336    0.7125 N   0  0  0  0  0  0  0  0  0  0  0  0\\n    6.6930   11.4186    3.6930 C   0  0  0  0  0  0  0  0  0  0  0  0\\n    7.1680   11.5925    5.0886 C   0  0  0  0  0  0  0  0  0  0  0  0\\n    8.9061   11.8525    6.5773 C   0  0  0  0  0  0  0  0  0  0  0  0\\n   10.3629   11.9440    6.8354 C   0  0  0  0  0  0  0  0  0  0  0  0\\n   12.6175   12.0573    5.8229 C   0  0  0  0  0  0  0  0  0  0  0  0\\n   13.3144   12.5405    4.5565 C   0  0  0  0  0  0  0  0  0  0  0  0\\n   12.1890   11.4446    2.6474 C   0  0  0  0  0  0  0  0  0  0  0  0\\n   12.1364   10.2299    1.8178 C   0  0  0  0  0  0  0  0  0  0  0  0\\n   10.7172    8.7070    0.8356 C   0  0  0  0  0  0  0  0  0  0  0  0\\n    9.3326    8.2248    0.6811 C   0  0  0  0  0  0  0  0  0  0  0  0\\n    8.3201   10.5708    0.4375 C   0  0  0  0  0  0  0  0  0  0  0  0\\n    7.3306   11.3280    1.3097 C   0  0  0  0  0  0  0  0  0  0  0  0\\n    6.2222   11.6791    6.1069 C   0  0  0  0  0  0  0  0  0  0  0  0\\n    6.6712   11.8623    7.4078 C   0  0  0  0  0  0  0  0  0  0  0  0\\n    8.0334   11.9500    7.6570 C   0  0  0  0  0  0  0  0  0  0  0  0\\n   13.2564    9.6539    1.2380 C   0  0  0  0  0  0  0  0  0  0  0  0\\n   13.0561    8.5378    0.4285 C   0  0  0  0  0  0  0  0  0  0  0  0\\n   11.7700    8.0449    0.2184 C   0  0  0  0  0  0  0  0  0  0  0  0\\n  1 11  2  0\\n  2 14  2  0\\n  4 20  2  0\\n  6 13  2  0\\n  7 15  1  0\\n  8 16  1  0\\n  9 18  1  0\\n 11  5  1  0\\n 11 12  1  0\\n 12  6  1  0\\n 13 14  1  0\\n 14  7  1  0\\n 16 15  1  0\\n 17  3  2  0\\n 17  8  1  0\\n 18 17  1  0\\n 19  9  2  0\\n 20 19  1  0\\n 20 10  1  0\\n 21 10  1  0\\n 22 21  1  0\\n 22  5  1  0\\n 23 12  2  0\\n 23 24  1  0\\n 24 25  2  0\\n 25 13  1  0\\n 26 18  2  0\\n 27 26  1  0\\n 28 27  2  0\\n 28 19  1  0\\nM  END\\n\",\"sdf\");\n",
       "\tviewer_14960555254471288.setStyle({\"stick\": {\"radius\": \"0.15\"}});\n",
       "\tviewer_14960555254471288.setBackgroundColor(\"0xeeeeee\");\n",
       "\tviewer_14960555254471288.zoomTo();\n",
       "viewer_14960555254471288.render();\n",
       "});\n",
       "</script>"
      ],
      "text/plain": [
       "<IPython.core.display.HTML object>"
      ]
     },
     "execution_count": 183,
     "metadata": {},
     "output_type": "execute_result"
    }
   ],
   "source": [
    "align_structures_to_lowest_energy(allmol_m1_b, energy_m1_b)\n",
    "p_b = prepare_view(allmol_m1_b)\n",
    "p_b.show()"
   ]
  },
  {
   "cell_type": "code",
   "execution_count": 184,
   "metadata": {
    "collapsed": false
   },
   "outputs": [
    {
     "name": "stdout",
     "output_type": "stream",
     "text": [
      "Sorted energy of all selected conformers and the energy differences with respect to the lowest:\n"
     ]
    },
    {
     "data": {
      "text/html": [
       "<div>\n",
       "<table border=\"1\" class=\"dataframe\">\n",
       "  <thead>\n",
       "    <tr style=\"text-align: right;\">\n",
       "      <th></th>\n",
       "      <th>conformer</th>\n",
       "      <th>E</th>\n",
       "      <th>E - Emin</th>\n",
       "    </tr>\n",
       "  </thead>\n",
       "  <tbody>\n",
       "    <tr>\n",
       "      <th>0</th>\n",
       "      <td>m1_b_sdf_0</td>\n",
       "      <td>53.045942</td>\n",
       "      <td>0.000000</td>\n",
       "    </tr>\n",
       "    <tr>\n",
       "      <th>1</th>\n",
       "      <td>m1_b_smi_0</td>\n",
       "      <td>53.057266</td>\n",
       "      <td>0.011324</td>\n",
       "    </tr>\n",
       "    <tr>\n",
       "      <th>2</th>\n",
       "      <td>m1_b_sdf_3</td>\n",
       "      <td>53.710066</td>\n",
       "      <td>0.664124</td>\n",
       "    </tr>\n",
       "    <tr>\n",
       "      <th>3</th>\n",
       "      <td>m1_b_smi_2</td>\n",
       "      <td>54.225857</td>\n",
       "      <td>1.179916</td>\n",
       "    </tr>\n",
       "    <tr>\n",
       "      <th>4</th>\n",
       "      <td>m1_b_smi_3</td>\n",
       "      <td>54.744909</td>\n",
       "      <td>1.698967</td>\n",
       "    </tr>\n",
       "    <tr>\n",
       "      <th>5</th>\n",
       "      <td>m1_b_sdf_4</td>\n",
       "      <td>55.067265</td>\n",
       "      <td>2.021323</td>\n",
       "    </tr>\n",
       "    <tr>\n",
       "      <th>6</th>\n",
       "      <td>m1_b_sdf_5</td>\n",
       "      <td>55.482657</td>\n",
       "      <td>2.436716</td>\n",
       "    </tr>\n",
       "    <tr>\n",
       "      <th>7</th>\n",
       "      <td>m1_b_sa_sa_1</td>\n",
       "      <td>55.548698</td>\n",
       "      <td>2.502756</td>\n",
       "    </tr>\n",
       "    <tr>\n",
       "      <th>8</th>\n",
       "      <td>m1_b_sdf_6</td>\n",
       "      <td>56.225813</td>\n",
       "      <td>3.179871</td>\n",
       "    </tr>\n",
       "    <tr>\n",
       "      <th>9</th>\n",
       "      <td>m1_b_sdf_7</td>\n",
       "      <td>56.622176</td>\n",
       "      <td>3.576235</td>\n",
       "    </tr>\n",
       "    <tr>\n",
       "      <th>10</th>\n",
       "      <td>m1_b_sa_sa_2</td>\n",
       "      <td>56.711334</td>\n",
       "      <td>3.665392</td>\n",
       "    </tr>\n",
       "    <tr>\n",
       "      <th>11</th>\n",
       "      <td>m1_b_sa_sa_4</td>\n",
       "      <td>56.838501</td>\n",
       "      <td>3.792559</td>\n",
       "    </tr>\n",
       "    <tr>\n",
       "      <th>12</th>\n",
       "      <td>m1_b_ss_sa_3</td>\n",
       "      <td>56.881089</td>\n",
       "      <td>3.835148</td>\n",
       "    </tr>\n",
       "    <tr>\n",
       "      <th>13</th>\n",
       "      <td>m1_b_ss_sa_4</td>\n",
       "      <td>57.071869</td>\n",
       "      <td>4.025928</td>\n",
       "    </tr>\n",
       "    <tr>\n",
       "      <th>14</th>\n",
       "      <td>m1_b_smi_4</td>\n",
       "      <td>57.583207</td>\n",
       "      <td>4.537266</td>\n",
       "    </tr>\n",
       "    <tr>\n",
       "      <th>15</th>\n",
       "      <td>m1_b_sa_aa_0</td>\n",
       "      <td>58.196048</td>\n",
       "      <td>5.150106</td>\n",
       "    </tr>\n",
       "    <tr>\n",
       "      <th>16</th>\n",
       "      <td>m1_b_sa_aa_1</td>\n",
       "      <td>58.249233</td>\n",
       "      <td>5.203291</td>\n",
       "    </tr>\n",
       "    <tr>\n",
       "      <th>17</th>\n",
       "      <td>m1_b_smi_5</td>\n",
       "      <td>58.435678</td>\n",
       "      <td>5.389737</td>\n",
       "    </tr>\n",
       "    <tr>\n",
       "      <th>18</th>\n",
       "      <td>m1_b_ss_sa_5</td>\n",
       "      <td>58.491375</td>\n",
       "      <td>5.445433</td>\n",
       "    </tr>\n",
       "    <tr>\n",
       "      <th>19</th>\n",
       "      <td>m1_b_aa_aa_0</td>\n",
       "      <td>58.568287</td>\n",
       "      <td>5.522345</td>\n",
       "    </tr>\n",
       "    <tr>\n",
       "      <th>20</th>\n",
       "      <td>m1_b_sa_sa_6</td>\n",
       "      <td>58.690105</td>\n",
       "      <td>5.644164</td>\n",
       "    </tr>\n",
       "    <tr>\n",
       "      <th>21</th>\n",
       "      <td>m1_b_ss_sa_7</td>\n",
       "      <td>59.669144</td>\n",
       "      <td>6.623203</td>\n",
       "    </tr>\n",
       "    <tr>\n",
       "      <th>22</th>\n",
       "      <td>m1_b_sa_aa_3</td>\n",
       "      <td>59.699169</td>\n",
       "      <td>6.653228</td>\n",
       "    </tr>\n",
       "    <tr>\n",
       "      <th>23</th>\n",
       "      <td>m1_b_aa_aa_2</td>\n",
       "      <td>60.037947</td>\n",
       "      <td>6.992005</td>\n",
       "    </tr>\n",
       "    <tr>\n",
       "      <th>24</th>\n",
       "      <td>m1_b_sa_as_5</td>\n",
       "      <td>60.091478</td>\n",
       "      <td>7.045536</td>\n",
       "    </tr>\n",
       "    <tr>\n",
       "      <th>25</th>\n",
       "      <td>m1_b_ss_sa_9</td>\n",
       "      <td>60.242205</td>\n",
       "      <td>7.196263</td>\n",
       "    </tr>\n",
       "    <tr>\n",
       "      <th>26</th>\n",
       "      <td>m1_b_ss_aa_0</td>\n",
       "      <td>60.323290</td>\n",
       "      <td>7.277348</td>\n",
       "    </tr>\n",
       "    <tr>\n",
       "      <th>27</th>\n",
       "      <td>m1_b_aa_aa_3</td>\n",
       "      <td>60.427790</td>\n",
       "      <td>7.381848</td>\n",
       "    </tr>\n",
       "    <tr>\n",
       "      <th>28</th>\n",
       "      <td>m1_b_ss_aa_1</td>\n",
       "      <td>60.606457</td>\n",
       "      <td>7.560515</td>\n",
       "    </tr>\n",
       "    <tr>\n",
       "      <th>29</th>\n",
       "      <td>m1_b_sa_as_7</td>\n",
       "      <td>60.783216</td>\n",
       "      <td>7.737275</td>\n",
       "    </tr>\n",
       "    <tr>\n",
       "      <th>...</th>\n",
       "      <td>...</td>\n",
       "      <td>...</td>\n",
       "      <td>...</td>\n",
       "    </tr>\n",
       "    <tr>\n",
       "      <th>36</th>\n",
       "      <td>m1_b_smi_7</td>\n",
       "      <td>62.827310</td>\n",
       "      <td>9.781369</td>\n",
       "    </tr>\n",
       "    <tr>\n",
       "      <th>37</th>\n",
       "      <td>m1_b_aa_aa_4</td>\n",
       "      <td>62.857439</td>\n",
       "      <td>9.811497</td>\n",
       "    </tr>\n",
       "    <tr>\n",
       "      <th>38</th>\n",
       "      <td>m1_b_sa_sa_9</td>\n",
       "      <td>62.882782</td>\n",
       "      <td>9.836840</td>\n",
       "    </tr>\n",
       "    <tr>\n",
       "      <th>39</th>\n",
       "      <td>m1_b_sa_sa_10</td>\n",
       "      <td>62.944228</td>\n",
       "      <td>9.898287</td>\n",
       "    </tr>\n",
       "    <tr>\n",
       "      <th>40</th>\n",
       "      <td>m1_b_sa_sa_11</td>\n",
       "      <td>63.259531</td>\n",
       "      <td>10.213589</td>\n",
       "    </tr>\n",
       "    <tr>\n",
       "      <th>41</th>\n",
       "      <td>m1_b_ss_sa_12</td>\n",
       "      <td>63.420086</td>\n",
       "      <td>10.374144</td>\n",
       "    </tr>\n",
       "    <tr>\n",
       "      <th>42</th>\n",
       "      <td>m1_b_sa_sa_12</td>\n",
       "      <td>63.455408</td>\n",
       "      <td>10.409466</td>\n",
       "    </tr>\n",
       "    <tr>\n",
       "      <th>43</th>\n",
       "      <td>m1_b_sa_aa_6</td>\n",
       "      <td>63.531645</td>\n",
       "      <td>10.485704</td>\n",
       "    </tr>\n",
       "    <tr>\n",
       "      <th>44</th>\n",
       "      <td>m1_b_aa_aa_6</td>\n",
       "      <td>63.561609</td>\n",
       "      <td>10.515668</td>\n",
       "    </tr>\n",
       "    <tr>\n",
       "      <th>45</th>\n",
       "      <td>m1_b_sa_aa_7</td>\n",
       "      <td>64.128256</td>\n",
       "      <td>11.082314</td>\n",
       "    </tr>\n",
       "    <tr>\n",
       "      <th>46</th>\n",
       "      <td>m1_b_sa_aa_9</td>\n",
       "      <td>64.621619</td>\n",
       "      <td>11.575678</td>\n",
       "    </tr>\n",
       "    <tr>\n",
       "      <th>47</th>\n",
       "      <td>m1_b_aa_aa_7</td>\n",
       "      <td>64.814935</td>\n",
       "      <td>11.768993</td>\n",
       "    </tr>\n",
       "    <tr>\n",
       "      <th>48</th>\n",
       "      <td>m1_b_aa_aa_8</td>\n",
       "      <td>64.991406</td>\n",
       "      <td>11.945464</td>\n",
       "    </tr>\n",
       "    <tr>\n",
       "      <th>49</th>\n",
       "      <td>m1_b_sa_aa_10</td>\n",
       "      <td>65.170600</td>\n",
       "      <td>12.124658</td>\n",
       "    </tr>\n",
       "    <tr>\n",
       "      <th>50</th>\n",
       "      <td>m1_b_aa_aa_9</td>\n",
       "      <td>65.553761</td>\n",
       "      <td>12.507819</td>\n",
       "    </tr>\n",
       "    <tr>\n",
       "      <th>51</th>\n",
       "      <td>m1_b_aa_aa_10</td>\n",
       "      <td>65.715945</td>\n",
       "      <td>12.670003</td>\n",
       "    </tr>\n",
       "    <tr>\n",
       "      <th>52</th>\n",
       "      <td>m1_b_sa_aa_11</td>\n",
       "      <td>65.956390</td>\n",
       "      <td>12.910448</td>\n",
       "    </tr>\n",
       "    <tr>\n",
       "      <th>53</th>\n",
       "      <td>m1_b_aa_aa_11</td>\n",
       "      <td>66.187408</td>\n",
       "      <td>13.141466</td>\n",
       "    </tr>\n",
       "    <tr>\n",
       "      <th>54</th>\n",
       "      <td>m1_b_sa_aa_12</td>\n",
       "      <td>66.476316</td>\n",
       "      <td>13.430374</td>\n",
       "    </tr>\n",
       "    <tr>\n",
       "      <th>55</th>\n",
       "      <td>m1_b_sa_aa_13</td>\n",
       "      <td>66.505364</td>\n",
       "      <td>13.459422</td>\n",
       "    </tr>\n",
       "    <tr>\n",
       "      <th>56</th>\n",
       "      <td>m1_b_aa_aa_12</td>\n",
       "      <td>66.541552</td>\n",
       "      <td>13.495610</td>\n",
       "    </tr>\n",
       "    <tr>\n",
       "      <th>57</th>\n",
       "      <td>m1_b_aa_aa_13</td>\n",
       "      <td>66.893731</td>\n",
       "      <td>13.847789</td>\n",
       "    </tr>\n",
       "    <tr>\n",
       "      <th>58</th>\n",
       "      <td>m1_b_sa_aa_14</td>\n",
       "      <td>66.944623</td>\n",
       "      <td>13.898682</td>\n",
       "    </tr>\n",
       "    <tr>\n",
       "      <th>59</th>\n",
       "      <td>m1_b_aa_aa_14</td>\n",
       "      <td>67.059285</td>\n",
       "      <td>14.013343</td>\n",
       "    </tr>\n",
       "    <tr>\n",
       "      <th>60</th>\n",
       "      <td>m1_b_sa_aa_15</td>\n",
       "      <td>67.330043</td>\n",
       "      <td>14.284102</td>\n",
       "    </tr>\n",
       "    <tr>\n",
       "      <th>61</th>\n",
       "      <td>m1_b_sa_aa_16</td>\n",
       "      <td>67.676019</td>\n",
       "      <td>14.630077</td>\n",
       "    </tr>\n",
       "    <tr>\n",
       "      <th>62</th>\n",
       "      <td>m1_b_aa_aa_15</td>\n",
       "      <td>68.245315</td>\n",
       "      <td>15.199373</td>\n",
       "    </tr>\n",
       "    <tr>\n",
       "      <th>63</th>\n",
       "      <td>m1_b_aa_aa_16</td>\n",
       "      <td>68.488821</td>\n",
       "      <td>15.442879</td>\n",
       "    </tr>\n",
       "    <tr>\n",
       "      <th>64</th>\n",
       "      <td>m1_b_ss_aa_2</td>\n",
       "      <td>69.245490</td>\n",
       "      <td>16.199548</td>\n",
       "    </tr>\n",
       "    <tr>\n",
       "      <th>65</th>\n",
       "      <td>m1_b_ss_aa_3</td>\n",
       "      <td>70.185810</td>\n",
       "      <td>17.139868</td>\n",
       "    </tr>\n",
       "  </tbody>\n",
       "</table>\n",
       "<p>66 rows × 3 columns</p>\n",
       "</div>"
      ],
      "text/plain": [
       "        conformer          E   E - Emin\n",
       "0      m1_b_sdf_0  53.045942   0.000000\n",
       "1      m1_b_smi_0  53.057266   0.011324\n",
       "2      m1_b_sdf_3  53.710066   0.664124\n",
       "3      m1_b_smi_2  54.225857   1.179916\n",
       "4      m1_b_smi_3  54.744909   1.698967\n",
       "5      m1_b_sdf_4  55.067265   2.021323\n",
       "6      m1_b_sdf_5  55.482657   2.436716\n",
       "7    m1_b_sa_sa_1  55.548698   2.502756\n",
       "8      m1_b_sdf_6  56.225813   3.179871\n",
       "9      m1_b_sdf_7  56.622176   3.576235\n",
       "10   m1_b_sa_sa_2  56.711334   3.665392\n",
       "11   m1_b_sa_sa_4  56.838501   3.792559\n",
       "12   m1_b_ss_sa_3  56.881089   3.835148\n",
       "13   m1_b_ss_sa_4  57.071869   4.025928\n",
       "14     m1_b_smi_4  57.583207   4.537266\n",
       "15   m1_b_sa_aa_0  58.196048   5.150106\n",
       "16   m1_b_sa_aa_1  58.249233   5.203291\n",
       "17     m1_b_smi_5  58.435678   5.389737\n",
       "18   m1_b_ss_sa_5  58.491375   5.445433\n",
       "19   m1_b_aa_aa_0  58.568287   5.522345\n",
       "20   m1_b_sa_sa_6  58.690105   5.644164\n",
       "21   m1_b_ss_sa_7  59.669144   6.623203\n",
       "22   m1_b_sa_aa_3  59.699169   6.653228\n",
       "23   m1_b_aa_aa_2  60.037947   6.992005\n",
       "24   m1_b_sa_as_5  60.091478   7.045536\n",
       "25   m1_b_ss_sa_9  60.242205   7.196263\n",
       "26   m1_b_ss_aa_0  60.323290   7.277348\n",
       "27   m1_b_aa_aa_3  60.427790   7.381848\n",
       "28   m1_b_ss_aa_1  60.606457   7.560515\n",
       "29   m1_b_sa_as_7  60.783216   7.737275\n",
       "..            ...        ...        ...\n",
       "36     m1_b_smi_7  62.827310   9.781369\n",
       "37   m1_b_aa_aa_4  62.857439   9.811497\n",
       "38   m1_b_sa_sa_9  62.882782   9.836840\n",
       "39  m1_b_sa_sa_10  62.944228   9.898287\n",
       "40  m1_b_sa_sa_11  63.259531  10.213589\n",
       "41  m1_b_ss_sa_12  63.420086  10.374144\n",
       "42  m1_b_sa_sa_12  63.455408  10.409466\n",
       "43   m1_b_sa_aa_6  63.531645  10.485704\n",
       "44   m1_b_aa_aa_6  63.561609  10.515668\n",
       "45   m1_b_sa_aa_7  64.128256  11.082314\n",
       "46   m1_b_sa_aa_9  64.621619  11.575678\n",
       "47   m1_b_aa_aa_7  64.814935  11.768993\n",
       "48   m1_b_aa_aa_8  64.991406  11.945464\n",
       "49  m1_b_sa_aa_10  65.170600  12.124658\n",
       "50   m1_b_aa_aa_9  65.553761  12.507819\n",
       "51  m1_b_aa_aa_10  65.715945  12.670003\n",
       "52  m1_b_sa_aa_11  65.956390  12.910448\n",
       "53  m1_b_aa_aa_11  66.187408  13.141466\n",
       "54  m1_b_sa_aa_12  66.476316  13.430374\n",
       "55  m1_b_sa_aa_13  66.505364  13.459422\n",
       "56  m1_b_aa_aa_12  66.541552  13.495610\n",
       "57  m1_b_aa_aa_13  66.893731  13.847789\n",
       "58  m1_b_sa_aa_14  66.944623  13.898682\n",
       "59  m1_b_aa_aa_14  67.059285  14.013343\n",
       "60  m1_b_sa_aa_15  67.330043  14.284102\n",
       "61  m1_b_sa_aa_16  67.676019  14.630077\n",
       "62  m1_b_aa_aa_15  68.245315  15.199373\n",
       "63  m1_b_aa_aa_16  68.488821  15.442879\n",
       "64   m1_b_ss_aa_2  69.245490  16.199548\n",
       "65   m1_b_ss_aa_3  70.185810  17.139868\n",
       "\n",
       "[66 rows x 3 columns]"
      ]
     },
     "execution_count": 184,
     "metadata": {},
     "output_type": "execute_result"
    }
   ],
   "source": [
    "print(\"Sorted energy of all selected conformers and the energy differences with respect to the lowest:\")\n",
    "energy_sorted = sorted(energy_m1_b.items(), key=lambda x: x[1])\n",
    "energy_diff = []\n",
    "e_min = energy_sorted[0][1]\n",
    "for e in energy_sorted:\n",
    "    e_diff = e[1] - e_min\n",
    "    energy_diff.append([e[0], e[1], e_diff])\n",
    "\n",
    "e_df = pd.DataFrame(energy_diff, columns=[\"conformer\", \"E\", \"E - Emin\"])\n",
    "e_df"
   ]
  },
  {
   "cell_type": "markdown",
   "metadata": {
    "deletable": true,
    "editable": true
   },
   "source": [
    "## Conformers generated with the RDKit software:"
   ]
  },
  {
   "cell_type": "markdown",
   "metadata": {},
   "source": [
    "Conformers were generated using the genetic algorithm as implemented in the RDKit software:\n",
    "\n",
    "* starting with the crystal geometry kept as a template, results with prefix: \"m1_b_sdf\"; the crystal is of the \"ss-ss\" type;\n",
    "\n",
    "* starting with the SMILES signature of M1 and allowing to \"rebuild the geometry\" (option --rebuildGeometry), results with prefix: \"m1_b_smi\"\n",
    "\n",
    "* starting with structures generated in Avogadro (from the crystal geometry and pre-optimized) of the:\n",
    "    * \"ss_sa\" type\n",
    "    * \"ss_aa\" type\n",
    "    * \"sa_sa\" type\n",
    "    * \"sa_as\" type\n",
    "    * \"sa_aa\" type\n",
    "    * \"aa_aa\" type    \n",
    "\n",
    "    where \"ss\\_sa\" means \"(syn-syn)\\_(syn-anti)\" configuration, etc. with the bracket notation used to mark conformations around the rings.\n",
    "    \n",
    "\n",
    "In all cases the Balloon software was asked to generate 100 conformers using the genertic algorithm with default settings (only \"maxPostprocessIter\" increased to 150 and \"nGenerations\" to 300)."
   ]
  },
  {
   "cell_type": "code",
   "execution_count": 195,
   "metadata": {
    "collapsed": false,
    "deletable": true,
    "editable": true
   },
   "outputs": [],
   "source": [
    "inps_m1_rdkit_smi = glob.glob('/home/gosia/work/work_on_gitlab/icho/calcs/m1/rdkit/results_crystal_from_smiles/*.sdf')\n",
    "inps_m1_rdkit_sdf = glob.glob('/home/gosia/work/work_on_gitlab/icho/calcs/m1/rdkit/results_crystal_from_sdf/*.sdf')\n",
    "inps_m1_rdkit_ss_sa = glob.glob('/home/gosia/work/work_on_gitlab/icho/calcs/m1/rdkit/results_from_m1_ss_sa/*.sdf')\n",
    "inps_m1_rdkit_ss_aa = glob.glob('/home/gosia/work/work_on_gitlab/icho/calcs/m1/rdkit/results_from_m1_ss_aa/*.sdf')\n",
    "inps_m1_rdkit_sa_sa = glob.glob('/home/gosia/work/work_on_gitlab/icho/calcs/m1/rdkit/results_from_m1_sa_sa/*.sdf')\n",
    "inps_m1_rdkit_sa_as = glob.glob('/home/gosia/work/work_on_gitlab/icho/calcs/m1/rdkit/results_from_m1_sa_as/*.sdf')\n",
    "inps_m1_rdkit_sa_aa = glob.glob('/home/gosia/work/work_on_gitlab/icho/calcs/m1/rdkit/results_from_m1_sa_aa/*.sdf')\n",
    "inps_m1_rdkit_aa_aa = glob.glob('/home/gosia/work/work_on_gitlab/icho/calcs/m1/rdkit/results_from_m1_aa_aa/*.sdf')"
   ]
  },
  {
   "cell_type": "code",
   "execution_count": 196,
   "metadata": {
    "collapsed": false,
    "deletable": true,
    "editable": true
   },
   "outputs": [],
   "source": [
    "e_m1_rdkit_smi = grep_energies_from_sdf_outputs(inps_m1_rdkit_smi)\n",
    "e_m1_rdkit_sdf = grep_energies_from_sdf_outputs(inps_m1_rdkit_sdf)\n",
    "e_m1_rdkit_ss_sa = grep_energies_from_sdf_outputs(inps_m1_rdkit_ss_sa)\n",
    "e_m1_rdkit_ss_aa = grep_energies_from_sdf_outputs(inps_m1_rdkit_ss_aa)\n",
    "e_m1_rdkit_sa_sa = grep_energies_from_sdf_outputs(inps_m1_rdkit_sa_sa)\n",
    "e_m1_rdkit_sa_as = grep_energies_from_sdf_outputs(inps_m1_rdkit_sa_as)\n",
    "e_m1_rdkit_sa_aa = grep_energies_from_sdf_outputs(inps_m1_rdkit_sa_aa)\n",
    "e_m1_rdkit_aa_aa = grep_energies_from_sdf_outputs(inps_m1_rdkit_aa_aa)"
   ]
  },
  {
   "cell_type": "code",
   "execution_count": 198,
   "metadata": {
    "collapsed": false,
    "deletable": true,
    "editable": true
   },
   "outputs": [],
   "source": [
    "# write conformers to dictionaries\n",
    "suppl_m1_rdkit_smi  = Chem.SDMolSupplier('/home/gosia/work/work_on_gitlab/icho/calcs/m1/rdkit/result_smiles.sdf')\n",
    "suppl_m1_rdkit_sdf  = Chem.SDMolSupplier('/home/gosia/work/work_on_gitlab/icho/calcs/m1/rdkit/result_sdf.sdf')\n",
    "suppl_m1_rdkit_ss_sa  = Chem.SDMolSupplier('/home/gosia/work/work_on_gitlab/icho/calcs/m1/rdkit/result_m1_ss_sa.sdf')\n",
    "suppl_m1_rdkit_ss_aa  = Chem.SDMolSupplier('/home/gosia/work/work_on_gitlab/icho/calcs/m1/rdkit/result_m1_ss_aa.sdf')\n",
    "suppl_m1_rdkit_sa_sa  = Chem.SDMolSupplier('/home/gosia/work/work_on_gitlab/icho/calcs/m1/rdkit/result_m1_sa_sa.sdf')\n",
    "suppl_m1_rdkit_sa_as  = Chem.SDMolSupplier('/home/gosia/work/work_on_gitlab/icho/calcs/m1/rdkit/result_m1_sa_as.sdf')\n",
    "suppl_m1_rdkit_sa_aa  = Chem.SDMolSupplier('/home/gosia/work/work_on_gitlab/icho/calcs/m1/rdkit/result_m1_sa_aa.sdf')\n",
    "suppl_m1_rdkit_aa_aa  = Chem.SDMolSupplier('/home/gosia/work/work_on_gitlab/icho/calcs/m1/rdkit/result_m1_aa_aa.sdf')\n",
    "\n",
    "allmol_m1_rdkit_smi = write_to_dict(\"m1_rdkit_smi_\", suppl_m1_rdkit_smi)\n",
    "allmol_m1_rdkit_sdf = write_to_dict(\"m1_rdkit_sdf_\", suppl_m1_rdkit_sdf)\n",
    "allmol_m1_rdkit_ss_sa = write_to_dict(\"m1_rdkit_ss_sa_\", suppl_m1_rdkit_ss_sa)\n",
    "allmol_m1_rdkit_ss_aa = write_to_dict(\"m1_rdkit_ss_aa_\", suppl_m1_rdkit_ss_aa)\n",
    "allmol_m1_rdkit_sa_sa = write_to_dict(\"m1_rdkit_sa_sa_\", suppl_m1_rdkit_sa_sa)\n",
    "allmol_m1_rdkit_sa_as = write_to_dict(\"m1_rdkit_sa_as_\", suppl_m1_rdkit_sa_as)\n",
    "allmol_m1_rdkit_sa_aa = write_to_dict(\"m1_rdkit_sa_aa_\", suppl_m1_rdkit_sa_aa)\n",
    "allmol_m1_rdkit_aa_aa = write_to_dict(\"m1_rdkit_aa_aa_\", suppl_m1_rdkit_aa_aa)"
   ]
  },
  {
   "cell_type": "code",
   "execution_count": 199,
   "metadata": {
    "collapsed": false,
    "deletable": true,
    "editable": true
   },
   "outputs": [],
   "source": [
    "# align:\n",
    "align_structures_to_lowest_energy(allmol_m1_rdkit_sdf, e_m1_rdkit_sdf)\n",
    "align_structures_to_lowest_energy(allmol_m1_rdkit_smi, e_m1_rdkit_smi)\n",
    "align_structures_to_lowest_energy(allmol_m1_rdkit_ss_sa, e_m1_rdkit_ss_sa)\n",
    "align_structures_to_lowest_energy(allmol_m1_rdkit_ss_aa, e_m1_rdkit_ss_aa)\n",
    "align_structures_to_lowest_energy(allmol_m1_rdkit_sa_sa, e_m1_rdkit_sa_sa)\n",
    "align_structures_to_lowest_energy(allmol_m1_rdkit_sa_as, e_m1_rdkit_sa_as)\n",
    "align_structures_to_lowest_energy(allmol_m1_rdkit_sa_aa, e_m1_rdkit_sa_aa)\n",
    "align_structures_to_lowest_energy(allmol_m1_rdkit_aa_aa, e_m1_rdkit_aa_aa)"
   ]
  },
  {
   "cell_type": "code",
   "execution_count": null,
   "metadata": {
    "collapsed": false,
    "deletable": true,
    "editable": true
   },
   "outputs": [],
   "source": [
    "%%html\n",
    "<table>\n",
    "  <tr>\n",
    "    <td id=\"m1_rdkit_crystal\" ></td>\n",
    "    <td id=\"m1_rdkit_smiles\"  ></td>\n",
    "  <tr>\n",
    "    <td> m1_rdkit_crystal </td>\n",
    "    <td> m1_rdkit_smiles  </td>  \n",
    "  </tr>\n",
    "</table>"
   ]
  },
  {
   "cell_type": "code",
   "execution_count": null,
   "metadata": {
    "collapsed": false,
    "deletable": true,
    "editable": true
   },
   "outputs": [],
   "source": [
    "# view:\n",
    "p1_rdkit_handles=[]\n",
    "\n",
    "p1_rdkit_sdf = py3Dmol.view(width=400,height=400)\n",
    "p1_rdkit_sdf.removeAllModels()\n",
    "for key, mol in allmol_m1_rdkit_sdf.items(): \n",
    "    mb = Chem.MolToMolBlock(mol)\n",
    "    p1_rdkit_sdf.addModel(mb,'sdf')    \n",
    "p1_rdkit_sdf.setStyle({'stick':{'radius':'0.15'}})\n",
    "p1_rdkit_sdf.setBackgroundColor('0xeeeeee')\n",
    "p1_rdkit_sdf.zoomTo()\n",
    "p1_rdkit_handles.append(p1_rdkit_sdf)\n",
    "\n",
    "p1_rdkit_smi = py3Dmol.view(width=400,height=400)\n",
    "p1_rdkit_smi.removeAllModels()\n",
    "for key, mol in allmol_m1_rdkit_smi.items(): \n",
    "    mb = Chem.MolToMolBlock(mol)\n",
    "    p1_rdkit_smi.addModel(mb,'sdf')    \n",
    "p1_rdkit_smi.setStyle({'stick':{'radius':'0.15'}})\n",
    "p1_rdkit_smi.setBackgroundColor('0xeeeeee')\n",
    "p1_rdkit_smi.zoomTo()\n",
    "p1_rdkit_handles.append(p1_rdkit_smi)"
   ]
  },
  {
   "cell_type": "code",
   "execution_count": null,
   "metadata": {
    "collapsed": false,
    "deletable": true,
    "editable": true
   },
   "outputs": [],
   "source": [
    "p1_rdkit_handles[0].insert('m1_rdkit_crystal')"
   ]
  },
  {
   "cell_type": "code",
   "execution_count": null,
   "metadata": {
    "collapsed": false,
    "deletable": true,
    "editable": true
   },
   "outputs": [],
   "source": [
    "p1_rdkit_handles[1].insert('m1_rdkit_smiles')"
   ]
  },
  {
   "cell_type": "markdown",
   "metadata": {
    "deletable": true,
    "editable": true
   },
   "source": [
    "### pre-screening"
   ]
  },
  {
   "cell_type": "code",
   "execution_count": null,
   "metadata": {
    "collapsed": false,
    "deletable": true,
    "editable": true
   },
   "outputs": [],
   "source": [
    "allmol_m1_rdkit = {}\n",
    "allmol_m1_rdkit.update(allmol_m1_rdkit_sdf)\n",
    "allmol_m1_rdkit.update(allmol_m1_rdkit_smi)\n",
    "\n",
    "energy_m1_rdkit = {}\n",
    "energy_m1_rdkit.update(e_m1_rdkit_sdf)\n",
    "energy_m1_rdkit.update(e_m1_rdkit_smi)\n",
    "\n",
    "rms_m1_rdkit = {}\n",
    "for key, mol in allmol_m1_rdkit.items():\n",
    "    rms_m1_rdkit[key] = AllChem.GetBestRMS(Chem.RemoveHs(mol),Chem.RemoveHs(m1_crystal))\n",
    "    #print(\"name = {}, E = {:.6f}, RMS = {:.6f}\".format(key, energy_m1_rdkit[key], rms_m1_rdkit[key]))"
   ]
  },
  {
   "cell_type": "code",
   "execution_count": null,
   "metadata": {
    "collapsed": false,
    "deletable": true,
    "editable": true
   },
   "outputs": [],
   "source": [
    "rms_sorted = sorted(rms_m1_rdkit.items(), key=lambda x: x[1])\n",
    "rms_thresh = 0.05\n",
    "\n",
    "print(\"List sorted by RMS:\")\n",
    "for i, t in enumerate(rms_sorted):\n",
    "    print(\"name = {}, E = {:.6f}, RMS = {:.6f}\".format(rms_sorted[i][0], energy_m1_rdkit[rms_sorted[i][0]], rms_sorted[i][1]))\n",
    "\n",
    "# now compare RMS of each pair, if the structures are too similar then delete the one with the higher energy\n",
    "to_be_deleted = find_duplicates(rms_sorted, energy_m1_rdkit, rms_thresh)\n",
    "\n",
    "for mol in to_be_deleted:\n",
    "    del allmol_m1_rdkit[mol]\n",
    "    del energy_m1_rdkit[mol]\n",
    "    del rms_m1_rdkit[mol]  "
   ]
  },
  {
   "cell_type": "markdown",
   "metadata": {
    "deletable": true,
    "editable": true
   },
   "source": [
    "Below we will align the selected conformers:"
   ]
  },
  {
   "cell_type": "code",
   "execution_count": null,
   "metadata": {
    "collapsed": false,
    "deletable": true,
    "editable": true
   },
   "outputs": [],
   "source": [
    "for key, mol in allmol_m1_rdkit.items():\n",
    "    core_mol = mol.GetSubstructMatch(Chem.MolFromSmiles(core_smiles))\n",
    "    AllChem.AlignMol(mol,m1_crystal,atomMap=list(zip(core_mol,core_m1)))\n",
    "    \n",
    "p_r = py3Dmol.view(width=400,height=400)\n",
    "for key, mol in allmol_m1_rdkit.items():\n",
    "    mb = Chem.MolToMolBlock(mol)\n",
    "    p_r.addModel(mb,'sdf')\n",
    "p_r.setStyle({'stick':{'radius':'0.15'}})\n",
    "p_r.setBackgroundColor('0xeeeeee')\n",
    "p_r.zoomTo()\n",
    "p_r.show()"
   ]
  },
  {
   "cell_type": "markdown",
   "metadata": {
    "deletable": true,
    "editable": true
   },
   "source": [
    "## Summary"
   ]
  },
  {
   "cell_type": "markdown",
   "metadata": {
    "deletable": true,
    "editable": true
   },
   "source": [
    "Now let's generate a list of all conformers (from all programs used, as presented above). We can further pre-screen all the structures and remove potential duplicates. Here we can also use more crude RMSD threshold."
   ]
  },
  {
   "cell_type": "code",
   "execution_count": null,
   "metadata": {
    "collapsed": false,
    "deletable": true,
    "editable": true
   },
   "outputs": [],
   "source": [
    "allmol_m1 = {}\n",
    "allmol_m1.update(allmol_m1_b)\n",
    "allmol_m1.update(allmol_m1_rdkit)\n",
    "\n",
    "energy_m1 = {}\n",
    "energy_m1.update(energy_m1_b)\n",
    "energy_m1.update(energy_m1_rdkit)\n",
    "\n",
    "rms_m1 = {}\n",
    "for key, mol in allmol_m1.items():\n",
    "    rms_m1[key] = AllChem.GetBestRMS(Chem.RemoveHs(mol),Chem.RemoveHs(m1_crystal))\n",
    "    #print(\"name = {}, E = {:.6f}, RMS = {:.6f}\".format(key, energy_m1[key], rms_m1[key]))"
   ]
  },
  {
   "cell_type": "markdown",
   "metadata": {
    "deletable": true,
    "editable": true
   },
   "source": [
    "Now we will calculate the similarity matrix, which shows the RMSD value for any two conformers. \n",
    "\n",
    "We will print the similarity matrix for pairs of conformers from the lowest value of the RMSD (= the most similar structures) to the highest values of the RMSD (= the least similar structures):"
   ]
  },
  {
   "cell_type": "code",
   "execution_count": null,
   "metadata": {
    "collapsed": false,
    "deletable": true,
    "editable": true
   },
   "outputs": [],
   "source": [
    "similarity_matrix = {}\n",
    "\n",
    "for k1, m1 in allmol_m1.items():\n",
    "    for k2, m2 in allmol_m1.items():\n",
    "        if (k1, k2) in similarity_matrix.keys() or (k2, k1) in similarity_matrix.keys():\n",
    "            pass\n",
    "        else:\n",
    "            if k1 != k2:\n",
    "                rms = AllChem.GetBestRMS(Chem.RemoveHs(m1),Chem.RemoveHs(m2))\n",
    "                similarity_matrix[(k1, k2)] = rms \n",
    "    \n",
    "similarity_matrix_sorted = sorted(similarity_matrix.items(), key=lambda x: x[1])\n",
    "\n",
    " \n",
    "similarity_matrix_sorted"
   ]
  },
  {
   "cell_type": "code",
   "execution_count": null,
   "metadata": {
    "collapsed": false,
    "deletable": true,
    "editable": true
   },
   "outputs": [],
   "source": [
    "rms_sorted = sorted(rms_m1.items(), key=lambda x: x[1])\n",
    "rms_thresh = 0.1\n",
    "\n",
    "# now compare RMS of each pair, if the structures are too similar then delete the one with the higher energy\n",
    "to_be_deleted = find_duplicates(rms_sorted, energy_m1, rms_thresh)\n",
    "\n",
    "for mol in to_be_deleted:\n",
    "    del allmol_m1[mol]\n",
    "    del energy_m1[mol]\n",
    "    del rms_m1[mol]  "
   ]
  },
  {
   "cell_type": "markdown",
   "metadata": {
    "deletable": true,
    "editable": true
   },
   "source": [
    "Finally we can align all conformers which will further be used as starting points in DFT geometry optimizations:"
   ]
  },
  {
   "cell_type": "code",
   "execution_count": null,
   "metadata": {
    "collapsed": false,
    "deletable": true,
    "editable": true
   },
   "outputs": [],
   "source": [
    "print(len(allmol_m1))\n",
    "\n",
    "for key, mol in allmol_m1.items():\n",
    "    core_mol = mol.GetSubstructMatch(Chem.MolFromSmiles(core_smiles))\n",
    "    AllChem.AlignMol(mol,m1_crystal,atomMap=list(zip(core_mol,core_m1)))\n",
    "    \n",
    "p = py3Dmol.view(width=400,height=400)\n",
    "for key, mol in allmol_m1.items():\n",
    "    mb = Chem.MolToMolBlock(mol)\n",
    "    p.addModel(mb,'sdf')\n",
    "p.setStyle({'stick':{'radius':'0.15'}})\n",
    "p.setBackgroundColor('0xeeeeee')\n",
    "p.zoomTo()\n",
    "p.show()"
   ]
  },
  {
   "cell_type": "markdown",
   "metadata": {
    "deletable": true,
    "editable": true
   },
   "source": [
    "Write the selected conformers' names to the list \"list_selected_conformers_from_balloon_rdkit\". It will be used to generate Gaussian inputs:"
   ]
  },
  {
   "cell_type": "code",
   "execution_count": null,
   "metadata": {
    "collapsed": false,
    "deletable": true,
    "editable": true
   },
   "outputs": [],
   "source": [
    "with open(\"/home/gosia/work/work_on_gitlab/icho/calcs/m1/list_selected_conformers_from_ballon_rdkit\", \"w\") as f:\n",
    "    for key, mol in allmol_m1.items():\n",
    "        f.write(key+\"\\n\")\n",
    "\n",
    "energy_sorted = sorted(energy_m1.items(), key=lambda x: x[1])\n",
    "print(energy_sorted)\n",
    "with open(\"/home/gosia/work/work_on_gitlab/icho/calcs/m1/detailed_list_selected_conformers_from_ballon_rdkit\", \"w\") as f:\n",
    "    for pair in energy_sorted:\n",
    "        f.write(\"{0:30}   {1}\\n\".format(pair[0], pair[1]))        "
   ]
  }
 ],
 "metadata": {
  "kernelspec": {
   "display_name": "Python 3",
   "language": "python",
   "name": "python3"
  },
  "language_info": {
   "codemirror_mode": {
    "name": "ipython",
    "version": 3
   },
   "file_extension": ".py",
   "mimetype": "text/x-python",
   "name": "python",
   "nbconvert_exporter": "python",
   "pygments_lexer": "ipython3",
   "version": "3.5.3"
  }
 },
 "nbformat": 4,
 "nbformat_minor": 2
}
